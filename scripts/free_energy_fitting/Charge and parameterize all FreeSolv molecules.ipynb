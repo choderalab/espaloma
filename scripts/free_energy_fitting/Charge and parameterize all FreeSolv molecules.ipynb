{
 "cells": [
  {
   "cell_type": "markdown",
   "metadata": {},
   "source": [
    "### Generate and save charged offmols from FreeSolv SMILES"
   ]
  },
  {
   "cell_type": "code",
   "execution_count": 2,
   "metadata": {},
   "outputs": [
    {
     "data": {
      "application/vnd.jupyter.widget-view+json": {
       "model_id": "9e6a215193324e54880dbbaff1dec98f",
       "version_major": 2,
       "version_minor": 0
      },
      "text/plain": []
     },
     "metadata": {},
     "output_type": "display_data"
    }
   ],
   "source": [
    "from openforcefield.topology import Molecule\n",
    "from openforcefield.typing.engines.smirnoff import ForceField\n",
    "forcefield = ForceField('openff-1.2.0.offxml')"
   ]
  },
  {
   "cell_type": "code",
   "execution_count": 3,
   "metadata": {},
   "outputs": [],
   "source": [
    "path_to_database = '../../data/freesolv/database.txt'\n",
    "with open(path_to_database, 'r') as f:\n",
    "    db = f.readlines()"
   ]
  },
  {
   "cell_type": "code",
   "execution_count": 9,
   "metadata": {},
   "outputs": [
    {
     "data": {
      "text/plain": [
       "['# compound id (and file prefix)',\n",
       " 'SMILES',\n",
       " 'iupac name (or alternative if IUPAC is unavailable or not parseable by OEChem)',\n",
       " 'experimental value (kcal/mol)',\n",
       " 'experimental uncertainty (kcal/mol)',\n",
       " 'Mobley group calculated value (GAFF) (kcal/mol)',\n",
       " 'calculated uncertainty (kcal/mol)',\n",
       " 'experimental reference (original or paper this value was taken from)',\n",
       " 'calculated reference',\n",
       " 'text notes.']"
      ]
     },
     "execution_count": 9,
     "metadata": {},
     "output_type": "execute_result"
    }
   ],
   "source": [
    "columns = [c.strip() for c in db[2].split(';')]\n",
    "columns"
   ]
  },
  {
   "cell_type": "code",
   "execution_count": 13,
   "metadata": {},
   "outputs": [
    {
     "data": {
      "text/plain": [
       "['mobley_1017962', 'mobley_1019269', 'mobley_1034539', 'mobley_1036761']"
      ]
     },
     "execution_count": 13,
     "metadata": {},
     "output_type": "execute_result"
    }
   ],
   "source": [
    "compound_ids = [line.split(';')[0] for line in db[3:]]\n",
    "compound_ids[:4]\n",
    "    "
   ]
  },
  {
   "cell_type": "code",
   "execution_count": 34,
   "metadata": {},
   "outputs": [],
   "source": [
    "import pandas as pd\n",
    "df = pd.DataFrame(index=compound_ids, columns=columns[1:])"
   ]
  },
  {
   "cell_type": "code",
   "execution_count": 35,
   "metadata": {},
   "outputs": [
    {
     "data": {
      "text/plain": [
       "['mobley_1017962',\n",
       " 'CCCCCC(=O)OC',\n",
       " 'methyl hexanoate',\n",
       " '-2.49',\n",
       " '0.60',\n",
       " '-3.30',\n",
       " '0.03',\n",
       " '10.1021/ct050097l',\n",
       " '10.1021/acs.jced.7b00104',\n",
       " 'Experimental uncertainty not presently available, so assigned a default value.']"
      ]
     },
     "execution_count": 35,
     "metadata": {},
     "output_type": "execute_result"
    }
   ],
   "source": [
    "[s.strip() for s in db[3].split(';')]"
   ]
  },
  {
   "cell_type": "code",
   "execution_count": 36,
   "metadata": {},
   "outputs": [
    {
     "data": {
      "text/plain": [
       "'# compound id (and file prefix)'"
      ]
     },
     "execution_count": 36,
     "metadata": {},
     "output_type": "execute_result"
    }
   ],
   "source": [
    "columns[0]"
   ]
  },
  {
   "cell_type": "code",
   "execution_count": 55,
   "metadata": {},
   "outputs": [],
   "source": [
    "for line in db[3:]:\n",
    "    tokens = [s.strip() for s in line.split(';')]\n",
    "    key, smiles, iupac = tokens[:3]\n",
    "    expt_mean, expt_unc, calc_mean, calc_unc = map(float, tokens[3:7])\n",
    "    expt_ref, calc_ref = tokens[7:9]\n",
    "    notes = tokens[9]\n",
    "    \n",
    "    for i in range(1, len(tokens)):\n",
    "        df[columns[i]][key] = tokens[i]\n",
    "    \n",
    "    # for the numerical values, store as floats rather than as strings\n",
    "    for i in range(3, 7):\n",
    "        df[columns[i]][key] = float(tokens[i])"
   ]
  },
  {
   "cell_type": "code",
   "execution_count": 56,
   "metadata": {},
   "outputs": [
    {
     "data": {
      "text/plain": [
       "-2.49"
      ]
     },
     "execution_count": 56,
     "metadata": {},
     "output_type": "execute_result"
    }
   ],
   "source": [
    "df['experimental value (kcal/mol)']['mobley_1017962']"
   ]
  },
  {
   "cell_type": "code",
   "execution_count": 57,
   "metadata": {},
   "outputs": [
    {
     "data": {
      "text/html": [
       "<div>\n",
       "<style scoped>\n",
       "    .dataframe tbody tr th:only-of-type {\n",
       "        vertical-align: middle;\n",
       "    }\n",
       "\n",
       "    .dataframe tbody tr th {\n",
       "        vertical-align: top;\n",
       "    }\n",
       "\n",
       "    .dataframe thead th {\n",
       "        text-align: right;\n",
       "    }\n",
       "</style>\n",
       "<table border=\"1\" class=\"dataframe\">\n",
       "  <thead>\n",
       "    <tr style=\"text-align: right;\">\n",
       "      <th></th>\n",
       "      <th>SMILES</th>\n",
       "      <th>iupac name (or alternative if IUPAC is unavailable or not parseable by OEChem)</th>\n",
       "      <th>experimental value (kcal/mol)</th>\n",
       "      <th>experimental uncertainty (kcal/mol)</th>\n",
       "      <th>Mobley group calculated value (GAFF) (kcal/mol)</th>\n",
       "      <th>calculated uncertainty (kcal/mol)</th>\n",
       "      <th>experimental reference (original or paper this value was taken from)</th>\n",
       "      <th>calculated reference</th>\n",
       "      <th>text notes.</th>\n",
       "      <th>offmol</th>\n",
       "    </tr>\n",
       "  </thead>\n",
       "  <tbody>\n",
       "    <tr>\n",
       "      <th>mobley_1017962</th>\n",
       "      <td>CCCCCC(=O)OC</td>\n",
       "      <td>methyl hexanoate</td>\n",
       "      <td>-2.49</td>\n",
       "      <td>0.6</td>\n",
       "      <td>-3.3</td>\n",
       "      <td>0.03</td>\n",
       "      <td>10.1021/ct050097l</td>\n",
       "      <td>10.1021/acs.jced.7b00104</td>\n",
       "      <td>Experimental uncertainty not presently availab...</td>\n",
       "      <td>Molecule with name '' and SMILES '[H]C([H])([H...</td>\n",
       "    </tr>\n",
       "    <tr>\n",
       "      <th>mobley_1019269</th>\n",
       "      <td>CCCCO</td>\n",
       "      <td>butan-1-ol</td>\n",
       "      <td>-4.72</td>\n",
       "      <td>0.6</td>\n",
       "      <td>-3.23</td>\n",
       "      <td>0.03</td>\n",
       "      <td>10.1021/ct050097l</td>\n",
       "      <td>10.1021/acs.jced.7b00104</td>\n",
       "      <td>Experimental uncertainty not presently availab...</td>\n",
       "      <td>Molecule with name '' and SMILES '[H]C([H])([H...</td>\n",
       "    </tr>\n",
       "    <tr>\n",
       "      <th>mobley_1034539</th>\n",
       "      <td>c1cc(c(cc1c2cc(c(c(c2Cl)Cl)Cl)Cl)Cl)Cl</td>\n",
       "      <td>1,2,3,4-tetrachloro-5-(3,4-dichlorophenyl)benzene</td>\n",
       "      <td>-3.04</td>\n",
       "      <td>0.1</td>\n",
       "      <td>-1.08</td>\n",
       "      <td>0.04</td>\n",
       "      <td>10.1007/s10822-012-9568-8</td>\n",
       "      <td>10.1021/acs.jced.7b00104</td>\n",
       "      <td>Experimental uncertainty not presently availab...</td>\n",
       "      <td>Molecule with name '' and SMILES '[H]c1c(c(c(c...</td>\n",
       "    </tr>\n",
       "    <tr>\n",
       "      <th>mobley_1036761</th>\n",
       "      <td>C1CCC(CC1)N</td>\n",
       "      <td>cyclohexanamine</td>\n",
       "      <td>-4.59</td>\n",
       "      <td>0.6</td>\n",
       "      <td>-3.95</td>\n",
       "      <td>0.03</td>\n",
       "      <td>10.1021/ct050097l</td>\n",
       "      <td>10.1021/acs.jced.7b00104</td>\n",
       "      <td>Experimental uncertainty not presently availab...</td>\n",
       "      <td>Molecule with name '' and SMILES '[H]C1(C(C(C(...</td>\n",
       "    </tr>\n",
       "    <tr>\n",
       "      <th>mobley_1046331</th>\n",
       "      <td>c1ccc(cc1)OC=O</td>\n",
       "      <td>phenyl formate</td>\n",
       "      <td>-3.82</td>\n",
       "      <td>0.6</td>\n",
       "      <td>-5.44</td>\n",
       "      <td>0.03</td>\n",
       "      <td>J. Peter Guthrie, unpublished data, as provide...</td>\n",
       "      <td>10.1021/acs.jced.7b00104</td>\n",
       "      <td>Experimental uncertainty not presently availab...</td>\n",
       "      <td>Molecule with name '' and SMILES '[H]c1c(c(c(c...</td>\n",
       "    </tr>\n",
       "    <tr>\n",
       "      <th>...</th>\n",
       "      <td>...</td>\n",
       "      <td>...</td>\n",
       "      <td>...</td>\n",
       "      <td>...</td>\n",
       "      <td>...</td>\n",
       "      <td>...</td>\n",
       "      <td>...</td>\n",
       "      <td>...</td>\n",
       "      <td>...</td>\n",
       "      <td>...</td>\n",
       "    </tr>\n",
       "    <tr>\n",
       "      <th>mobley_9913368</th>\n",
       "      <td>C(=C/Cl)\\Cl</td>\n",
       "      <td>(E)-1,2-dichloroethylene</td>\n",
       "      <td>-0.78</td>\n",
       "      <td>0.6</td>\n",
       "      <td>1.02</td>\n",
       "      <td>0.02</td>\n",
       "      <td>10.1021/ct050097l</td>\n",
       "      <td>10.1021/acs.jced.7b00104</td>\n",
       "      <td>Renamed mobley_9913368 from (E)-1,2-dichloroet...</td>\n",
       "      <td>Molecule with name '' and SMILES '[H]/C(=C(/[H...</td>\n",
       "    </tr>\n",
       "    <tr>\n",
       "      <th>mobley_9942801</th>\n",
       "      <td>CCc1ccc(cc1)C</td>\n",
       "      <td>1-ethyl-4-methyl-benzene</td>\n",
       "      <td>-0.95</td>\n",
       "      <td>0.6</td>\n",
       "      <td>-0.57</td>\n",
       "      <td>0.03</td>\n",
       "      <td>10.1021/ct050097l</td>\n",
       "      <td>10.1021/acs.jced.7b00104</td>\n",
       "      <td>Experimental uncertainty not presently availab...</td>\n",
       "      <td>Molecule with name '' and SMILES '[H]c1c(c(c(c...</td>\n",
       "    </tr>\n",
       "    <tr>\n",
       "      <th>mobley_994483</th>\n",
       "      <td>CCBr</td>\n",
       "      <td>bromoethane</td>\n",
       "      <td>-0.74</td>\n",
       "      <td>0.6</td>\n",
       "      <td>0.49</td>\n",
       "      <td>0.02</td>\n",
       "      <td>10.1021/ct050097l</td>\n",
       "      <td>10.1021/acs.jced.7b00104</td>\n",
       "      <td>Experimental uncertainty not presently availab...</td>\n",
       "      <td>Molecule with name '' and SMILES '[H]C([H])([H...</td>\n",
       "    </tr>\n",
       "    <tr>\n",
       "      <th>mobley_9974966</th>\n",
       "      <td>CC(C)SC(C)C</td>\n",
       "      <td>2-isopropylsulfanylpropane</td>\n",
       "      <td>-1.21</td>\n",
       "      <td>0.6</td>\n",
       "      <td>0.14</td>\n",
       "      <td>0.03</td>\n",
       "      <td>10.1021/ct050097l</td>\n",
       "      <td>10.1021/acs.jced.7b00104</td>\n",
       "      <td>Experimental uncertainty not presently availab...</td>\n",
       "      <td>Molecule with name '' and SMILES '[H]C([H])([H...</td>\n",
       "    </tr>\n",
       "    <tr>\n",
       "      <th>mobley_9979854</th>\n",
       "      <td>C[C@H](C(F)(F)F)O</td>\n",
       "      <td>111-trifluoropropan-2-ol</td>\n",
       "      <td>-4.2</td>\n",
       "      <td>0.2</td>\n",
       "      <td>-3.49</td>\n",
       "      <td>0.03</td>\n",
       "      <td>10.1039/P29900000291</td>\n",
       "      <td>10.1021/acs.jced.7b00104</td>\n",
       "      <td>Renamed mobley_9979854 from 1,1,1-trifluoropro...</td>\n",
       "      <td>Molecule with name '' and SMILES '[H][C@@](C([...</td>\n",
       "    </tr>\n",
       "  </tbody>\n",
       "</table>\n",
       "<p>642 rows × 10 columns</p>\n",
       "</div>"
      ],
      "text/plain": [
       "                                                SMILES  \\\n",
       "mobley_1017962                            CCCCCC(=O)OC   \n",
       "mobley_1019269                                   CCCCO   \n",
       "mobley_1034539  c1cc(c(cc1c2cc(c(c(c2Cl)Cl)Cl)Cl)Cl)Cl   \n",
       "mobley_1036761                             C1CCC(CC1)N   \n",
       "mobley_1046331                          c1ccc(cc1)OC=O   \n",
       "...                                                ...   \n",
       "mobley_9913368                             C(=C/Cl)\\Cl   \n",
       "mobley_9942801                           CCc1ccc(cc1)C   \n",
       "mobley_994483                                     CCBr   \n",
       "mobley_9974966                             CC(C)SC(C)C   \n",
       "mobley_9979854                       C[C@H](C(F)(F)F)O   \n",
       "\n",
       "               iupac name (or alternative if IUPAC is unavailable or not parseable by OEChem)  \\\n",
       "mobley_1017962                                   methyl hexanoate                               \n",
       "mobley_1019269                                         butan-1-ol                               \n",
       "mobley_1034539  1,2,3,4-tetrachloro-5-(3,4-dichlorophenyl)benzene                               \n",
       "mobley_1036761                                    cyclohexanamine                               \n",
       "mobley_1046331                                     phenyl formate                               \n",
       "...                                                           ...                               \n",
       "mobley_9913368                           (E)-1,2-dichloroethylene                               \n",
       "mobley_9942801                           1-ethyl-4-methyl-benzene                               \n",
       "mobley_994483                                         bromoethane                               \n",
       "mobley_9974966                         2-isopropylsulfanylpropane                               \n",
       "mobley_9979854                           111-trifluoropropan-2-ol                               \n",
       "\n",
       "               experimental value (kcal/mol)  \\\n",
       "mobley_1017962                         -2.49   \n",
       "mobley_1019269                         -4.72   \n",
       "mobley_1034539                         -3.04   \n",
       "mobley_1036761                         -4.59   \n",
       "mobley_1046331                         -3.82   \n",
       "...                                      ...   \n",
       "mobley_9913368                         -0.78   \n",
       "mobley_9942801                         -0.95   \n",
       "mobley_994483                          -0.74   \n",
       "mobley_9974966                         -1.21   \n",
       "mobley_9979854                          -4.2   \n",
       "\n",
       "               experimental uncertainty (kcal/mol)  \\\n",
       "mobley_1017962                                 0.6   \n",
       "mobley_1019269                                 0.6   \n",
       "mobley_1034539                                 0.1   \n",
       "mobley_1036761                                 0.6   \n",
       "mobley_1046331                                 0.6   \n",
       "...                                            ...   \n",
       "mobley_9913368                                 0.6   \n",
       "mobley_9942801                                 0.6   \n",
       "mobley_994483                                  0.6   \n",
       "mobley_9974966                                 0.6   \n",
       "mobley_9979854                                 0.2   \n",
       "\n",
       "               Mobley group calculated value (GAFF) (kcal/mol)  \\\n",
       "mobley_1017962                                            -3.3   \n",
       "mobley_1019269                                           -3.23   \n",
       "mobley_1034539                                           -1.08   \n",
       "mobley_1036761                                           -3.95   \n",
       "mobley_1046331                                           -5.44   \n",
       "...                                                        ...   \n",
       "mobley_9913368                                            1.02   \n",
       "mobley_9942801                                           -0.57   \n",
       "mobley_994483                                             0.49   \n",
       "mobley_9974966                                            0.14   \n",
       "mobley_9979854                                           -3.49   \n",
       "\n",
       "               calculated uncertainty (kcal/mol)  \\\n",
       "mobley_1017962                              0.03   \n",
       "mobley_1019269                              0.03   \n",
       "mobley_1034539                              0.04   \n",
       "mobley_1036761                              0.03   \n",
       "mobley_1046331                              0.03   \n",
       "...                                          ...   \n",
       "mobley_9913368                              0.02   \n",
       "mobley_9942801                              0.03   \n",
       "mobley_994483                               0.02   \n",
       "mobley_9974966                              0.03   \n",
       "mobley_9979854                              0.03   \n",
       "\n",
       "               experimental reference (original or paper this value was taken from)  \\\n",
       "mobley_1017962                                  10.1021/ct050097l                     \n",
       "mobley_1019269                                  10.1021/ct050097l                     \n",
       "mobley_1034539                          10.1007/s10822-012-9568-8                     \n",
       "mobley_1036761                                  10.1021/ct050097l                     \n",
       "mobley_1046331  J. Peter Guthrie, unpublished data, as provide...                     \n",
       "...                                                           ...                     \n",
       "mobley_9913368                                  10.1021/ct050097l                     \n",
       "mobley_9942801                                  10.1021/ct050097l                     \n",
       "mobley_994483                                   10.1021/ct050097l                     \n",
       "mobley_9974966                                  10.1021/ct050097l                     \n",
       "mobley_9979854                               10.1039/P29900000291                     \n",
       "\n",
       "                    calculated reference  \\\n",
       "mobley_1017962  10.1021/acs.jced.7b00104   \n",
       "mobley_1019269  10.1021/acs.jced.7b00104   \n",
       "mobley_1034539  10.1021/acs.jced.7b00104   \n",
       "mobley_1036761  10.1021/acs.jced.7b00104   \n",
       "mobley_1046331  10.1021/acs.jced.7b00104   \n",
       "...                                  ...   \n",
       "mobley_9913368  10.1021/acs.jced.7b00104   \n",
       "mobley_9942801  10.1021/acs.jced.7b00104   \n",
       "mobley_994483   10.1021/acs.jced.7b00104   \n",
       "mobley_9974966  10.1021/acs.jced.7b00104   \n",
       "mobley_9979854  10.1021/acs.jced.7b00104   \n",
       "\n",
       "                                                      text notes.  \\\n",
       "mobley_1017962  Experimental uncertainty not presently availab...   \n",
       "mobley_1019269  Experimental uncertainty not presently availab...   \n",
       "mobley_1034539  Experimental uncertainty not presently availab...   \n",
       "mobley_1036761  Experimental uncertainty not presently availab...   \n",
       "mobley_1046331  Experimental uncertainty not presently availab...   \n",
       "...                                                           ...   \n",
       "mobley_9913368  Renamed mobley_9913368 from (E)-1,2-dichloroet...   \n",
       "mobley_9942801  Experimental uncertainty not presently availab...   \n",
       "mobley_994483   Experimental uncertainty not presently availab...   \n",
       "mobley_9974966  Experimental uncertainty not presently availab...   \n",
       "mobley_9979854  Renamed mobley_9979854 from 1,1,1-trifluoropro...   \n",
       "\n",
       "                                                           offmol  \n",
       "mobley_1017962  Molecule with name '' and SMILES '[H]C([H])([H...  \n",
       "mobley_1019269  Molecule with name '' and SMILES '[H]C([H])([H...  \n",
       "mobley_1034539  Molecule with name '' and SMILES '[H]c1c(c(c(c...  \n",
       "mobley_1036761  Molecule with name '' and SMILES '[H]C1(C(C(C(...  \n",
       "mobley_1046331  Molecule with name '' and SMILES '[H]c1c(c(c(c...  \n",
       "...                                                           ...  \n",
       "mobley_9913368  Molecule with name '' and SMILES '[H]/C(=C(/[H...  \n",
       "mobley_9942801  Molecule with name '' and SMILES '[H]c1c(c(c(c...  \n",
       "mobley_994483   Molecule with name '' and SMILES '[H]C([H])([H...  \n",
       "mobley_9974966  Molecule with name '' and SMILES '[H]C([H])([H...  \n",
       "mobley_9979854  Molecule with name '' and SMILES '[H][C@@](C([...  \n",
       "\n",
       "[642 rows x 10 columns]"
      ]
     },
     "execution_count": 57,
     "metadata": {},
     "output_type": "execute_result"
    }
   ],
   "source": [
    "df"
   ]
  },
  {
   "cell_type": "code",
   "execution_count": 58,
   "metadata": {},
   "outputs": [
    {
     "data": {
      "text/plain": [
       "mobley_1017962                              CCCCCC(=O)OC\n",
       "mobley_1019269                                     CCCCO\n",
       "mobley_1034539    c1cc(c(cc1c2cc(c(c(c2Cl)Cl)Cl)Cl)Cl)Cl\n",
       "mobley_1036761                               C1CCC(CC1)N\n",
       "mobley_1046331                            c1ccc(cc1)OC=O\n",
       "                                   ...                  \n",
       "mobley_9913368                               C(=C/Cl)\\Cl\n",
       "mobley_9942801                             CCc1ccc(cc1)C\n",
       "mobley_994483                                       CCBr\n",
       "mobley_9974966                               CC(C)SC(C)C\n",
       "mobley_9979854                         C[C@H](C(F)(F)F)O\n",
       "Name: SMILES, Length: 642, dtype: object"
      ]
     },
     "execution_count": 58,
     "metadata": {},
     "output_type": "execute_result"
    }
   ],
   "source": [
    "smiles = df['SMILES']\n",
    "smiles"
   ]
  },
  {
   "cell_type": "code",
   "execution_count": 59,
   "metadata": {},
   "outputs": [
    {
     "data": {
      "text/plain": [
       "642"
      ]
     },
     "execution_count": 59,
     "metadata": {},
     "output_type": "execute_result"
    }
   ],
   "source": [
    "len(smiles)"
   ]
  },
  {
   "cell_type": "code",
   "execution_count": 60,
   "metadata": {},
   "outputs": [
    {
     "data": {
      "text/plain": [
       "'CCCCCC(=O)OC'"
      ]
     },
     "execution_count": 60,
     "metadata": {},
     "output_type": "execute_result"
    }
   ],
   "source": [
    "smiles[0]"
   ]
  },
  {
   "cell_type": "code",
   "execution_count": 61,
   "metadata": {},
   "outputs": [
    {
     "data": {
      "text/plain": [
       "Index(['mobley_1017962', 'mobley_1019269', 'mobley_1034539', 'mobley_1036761',\n",
       "       'mobley_1046331', 'mobley_1075836', 'mobley_1079207', 'mobley_1107178',\n",
       "       'mobley_1139153', 'mobley_1144156',\n",
       "       ...\n",
       "       'mobley_9794857', 'mobley_9821936', 'mobley_9838013', 'mobley_9883303',\n",
       "       'mobley_9897248', 'mobley_9913368', 'mobley_9942801', 'mobley_994483',\n",
       "       'mobley_9974966', 'mobley_9979854'],\n",
       "      dtype='object', length=642)"
      ]
     },
     "execution_count": 61,
     "metadata": {},
     "output_type": "execute_result"
    }
   ],
   "source": [
    "df.index"
   ]
  },
  {
   "cell_type": "code",
   "execution_count": 62,
   "metadata": {},
   "outputs": [
    {
     "data": {
      "text/plain": [
       "Index(['SMILES',\n",
       "       'iupac name (or alternative if IUPAC is unavailable or not parseable by OEChem)',\n",
       "       'experimental value (kcal/mol)', 'experimental uncertainty (kcal/mol)',\n",
       "       'Mobley group calculated value (GAFF) (kcal/mol)',\n",
       "       'calculated uncertainty (kcal/mol)',\n",
       "       'experimental reference (original or paper this value was taken from)',\n",
       "       'calculated reference', 'text notes.', 'offmol'],\n",
       "      dtype='object')"
      ]
     },
     "execution_count": 62,
     "metadata": {},
     "output_type": "execute_result"
    }
   ],
   "source": [
    "df.columns"
   ]
  },
  {
   "cell_type": "code",
   "execution_count": 73,
   "metadata": {},
   "outputs": [
    {
     "name": "stderr",
     "output_type": "stream",
     "text": [
      " 31%|███       | 200/642 [01:08<03:07,  2.35it/s]Warning (not error because allow_undefined_stereo=True): OEMol has unspecified stereochemistry. oemol.GetTitle(): \n",
      "Problematic atoms are:\n",
      "Atom atomic num: 7, name: , idx: 1, aromatic: False, chiral: True with bonds:\n",
      "bond order: 1, chiral: False to atom atomic num: 6, name: , idx: 0, aromatic: False, chiral: False\n",
      "bond order: 1, chiral: False to atom atomic num: 6, name: , idx: 2, aromatic: False, chiral: False\n",
      "bond order: 1, chiral: False to atom atomic num: 6, name: , idx: 7, aromatic: True, chiral: False\n",
      "\n",
      "Warning (not error because allow_undefined_stereo=True): OEMol has unspecified stereochemistry. oemol.GetTitle(): \n",
      "Problematic atoms are:\n",
      "Atom atomic num: 7, name: , idx: 1, aromatic: False, chiral: True with bonds:\n",
      "bond order: 1, chiral: False to atom atomic num: 6, name: , idx: 0, aromatic: False, chiral: False\n",
      "bond order: 1, chiral: False to atom atomic num: 6, name: , idx: 2, aromatic: False, chiral: False\n",
      "bond order: 1, chiral: False to atom atomic num: 6, name: , idx: 7, aromatic: True, chiral: False\n",
      "\n",
      "100%|██████████| 642/642 [03:42<00:00,  2.89it/s]\n"
     ]
    }
   ],
   "source": [
    "offmols = dict()\n",
    "from tqdm import tqdm\n",
    "\n",
    "for key in tqdm(df.index):\n",
    "    offmols[key] = Molecule.from_smiles(df['SMILES'][key], allow_undefined_stereo=True)\n",
    "    offmols[key].compute_partial_charges_am1bcc()"
   ]
  },
  {
   "cell_type": "code",
   "execution_count": 74,
   "metadata": {},
   "outputs": [],
   "source": [
    "df['offmol'] = None"
   ]
  },
  {
   "cell_type": "markdown",
   "metadata": {},
   "source": [
    "#### Add columns for offmols, serialized openmm systems?"
   ]
  },
  {
   "cell_type": "code",
   "execution_count": 75,
   "metadata": {},
   "outputs": [
    {
     "data": {
      "text/html": [
       "<div>\n",
       "<style scoped>\n",
       "    .dataframe tbody tr th:only-of-type {\n",
       "        vertical-align: middle;\n",
       "    }\n",
       "\n",
       "    .dataframe tbody tr th {\n",
       "        vertical-align: top;\n",
       "    }\n",
       "\n",
       "    .dataframe thead th {\n",
       "        text-align: right;\n",
       "    }\n",
       "</style>\n",
       "<table border=\"1\" class=\"dataframe\">\n",
       "  <thead>\n",
       "    <tr style=\"text-align: right;\">\n",
       "      <th></th>\n",
       "      <th>SMILES</th>\n",
       "      <th>iupac name (or alternative if IUPAC is unavailable or not parseable by OEChem)</th>\n",
       "      <th>experimental value (kcal/mol)</th>\n",
       "      <th>experimental uncertainty (kcal/mol)</th>\n",
       "      <th>Mobley group calculated value (GAFF) (kcal/mol)</th>\n",
       "      <th>calculated uncertainty (kcal/mol)</th>\n",
       "      <th>experimental reference (original or paper this value was taken from)</th>\n",
       "      <th>calculated reference</th>\n",
       "      <th>text notes.</th>\n",
       "      <th>offmol</th>\n",
       "    </tr>\n",
       "  </thead>\n",
       "  <tbody>\n",
       "    <tr>\n",
       "      <th>mobley_1017962</th>\n",
       "      <td>CCCCCC(=O)OC</td>\n",
       "      <td>methyl hexanoate</td>\n",
       "      <td>-2.49</td>\n",
       "      <td>0.6</td>\n",
       "      <td>-3.3</td>\n",
       "      <td>0.03</td>\n",
       "      <td>10.1021/ct050097l</td>\n",
       "      <td>10.1021/acs.jced.7b00104</td>\n",
       "      <td>Experimental uncertainty not presently availab...</td>\n",
       "      <td>None</td>\n",
       "    </tr>\n",
       "    <tr>\n",
       "      <th>mobley_1019269</th>\n",
       "      <td>CCCCO</td>\n",
       "      <td>butan-1-ol</td>\n",
       "      <td>-4.72</td>\n",
       "      <td>0.6</td>\n",
       "      <td>-3.23</td>\n",
       "      <td>0.03</td>\n",
       "      <td>10.1021/ct050097l</td>\n",
       "      <td>10.1021/acs.jced.7b00104</td>\n",
       "      <td>Experimental uncertainty not presently availab...</td>\n",
       "      <td>None</td>\n",
       "    </tr>\n",
       "    <tr>\n",
       "      <th>mobley_1034539</th>\n",
       "      <td>c1cc(c(cc1c2cc(c(c(c2Cl)Cl)Cl)Cl)Cl)Cl</td>\n",
       "      <td>1,2,3,4-tetrachloro-5-(3,4-dichlorophenyl)benzene</td>\n",
       "      <td>-3.04</td>\n",
       "      <td>0.1</td>\n",
       "      <td>-1.08</td>\n",
       "      <td>0.04</td>\n",
       "      <td>10.1007/s10822-012-9568-8</td>\n",
       "      <td>10.1021/acs.jced.7b00104</td>\n",
       "      <td>Experimental uncertainty not presently availab...</td>\n",
       "      <td>None</td>\n",
       "    </tr>\n",
       "    <tr>\n",
       "      <th>mobley_1036761</th>\n",
       "      <td>C1CCC(CC1)N</td>\n",
       "      <td>cyclohexanamine</td>\n",
       "      <td>-4.59</td>\n",
       "      <td>0.6</td>\n",
       "      <td>-3.95</td>\n",
       "      <td>0.03</td>\n",
       "      <td>10.1021/ct050097l</td>\n",
       "      <td>10.1021/acs.jced.7b00104</td>\n",
       "      <td>Experimental uncertainty not presently availab...</td>\n",
       "      <td>None</td>\n",
       "    </tr>\n",
       "    <tr>\n",
       "      <th>mobley_1046331</th>\n",
       "      <td>c1ccc(cc1)OC=O</td>\n",
       "      <td>phenyl formate</td>\n",
       "      <td>-3.82</td>\n",
       "      <td>0.6</td>\n",
       "      <td>-5.44</td>\n",
       "      <td>0.03</td>\n",
       "      <td>J. Peter Guthrie, unpublished data, as provide...</td>\n",
       "      <td>10.1021/acs.jced.7b00104</td>\n",
       "      <td>Experimental uncertainty not presently availab...</td>\n",
       "      <td>None</td>\n",
       "    </tr>\n",
       "    <tr>\n",
       "      <th>...</th>\n",
       "      <td>...</td>\n",
       "      <td>...</td>\n",
       "      <td>...</td>\n",
       "      <td>...</td>\n",
       "      <td>...</td>\n",
       "      <td>...</td>\n",
       "      <td>...</td>\n",
       "      <td>...</td>\n",
       "      <td>...</td>\n",
       "      <td>...</td>\n",
       "    </tr>\n",
       "    <tr>\n",
       "      <th>mobley_9913368</th>\n",
       "      <td>C(=C/Cl)\\Cl</td>\n",
       "      <td>(E)-1,2-dichloroethylene</td>\n",
       "      <td>-0.78</td>\n",
       "      <td>0.6</td>\n",
       "      <td>1.02</td>\n",
       "      <td>0.02</td>\n",
       "      <td>10.1021/ct050097l</td>\n",
       "      <td>10.1021/acs.jced.7b00104</td>\n",
       "      <td>Renamed mobley_9913368 from (E)-1,2-dichloroet...</td>\n",
       "      <td>None</td>\n",
       "    </tr>\n",
       "    <tr>\n",
       "      <th>mobley_9942801</th>\n",
       "      <td>CCc1ccc(cc1)C</td>\n",
       "      <td>1-ethyl-4-methyl-benzene</td>\n",
       "      <td>-0.95</td>\n",
       "      <td>0.6</td>\n",
       "      <td>-0.57</td>\n",
       "      <td>0.03</td>\n",
       "      <td>10.1021/ct050097l</td>\n",
       "      <td>10.1021/acs.jced.7b00104</td>\n",
       "      <td>Experimental uncertainty not presently availab...</td>\n",
       "      <td>None</td>\n",
       "    </tr>\n",
       "    <tr>\n",
       "      <th>mobley_994483</th>\n",
       "      <td>CCBr</td>\n",
       "      <td>bromoethane</td>\n",
       "      <td>-0.74</td>\n",
       "      <td>0.6</td>\n",
       "      <td>0.49</td>\n",
       "      <td>0.02</td>\n",
       "      <td>10.1021/ct050097l</td>\n",
       "      <td>10.1021/acs.jced.7b00104</td>\n",
       "      <td>Experimental uncertainty not presently availab...</td>\n",
       "      <td>None</td>\n",
       "    </tr>\n",
       "    <tr>\n",
       "      <th>mobley_9974966</th>\n",
       "      <td>CC(C)SC(C)C</td>\n",
       "      <td>2-isopropylsulfanylpropane</td>\n",
       "      <td>-1.21</td>\n",
       "      <td>0.6</td>\n",
       "      <td>0.14</td>\n",
       "      <td>0.03</td>\n",
       "      <td>10.1021/ct050097l</td>\n",
       "      <td>10.1021/acs.jced.7b00104</td>\n",
       "      <td>Experimental uncertainty not presently availab...</td>\n",
       "      <td>None</td>\n",
       "    </tr>\n",
       "    <tr>\n",
       "      <th>mobley_9979854</th>\n",
       "      <td>C[C@H](C(F)(F)F)O</td>\n",
       "      <td>111-trifluoropropan-2-ol</td>\n",
       "      <td>-4.2</td>\n",
       "      <td>0.2</td>\n",
       "      <td>-3.49</td>\n",
       "      <td>0.03</td>\n",
       "      <td>10.1039/P29900000291</td>\n",
       "      <td>10.1021/acs.jced.7b00104</td>\n",
       "      <td>Renamed mobley_9979854 from 1,1,1-trifluoropro...</td>\n",
       "      <td>None</td>\n",
       "    </tr>\n",
       "  </tbody>\n",
       "</table>\n",
       "<p>642 rows × 10 columns</p>\n",
       "</div>"
      ],
      "text/plain": [
       "                                                SMILES  \\\n",
       "mobley_1017962                            CCCCCC(=O)OC   \n",
       "mobley_1019269                                   CCCCO   \n",
       "mobley_1034539  c1cc(c(cc1c2cc(c(c(c2Cl)Cl)Cl)Cl)Cl)Cl   \n",
       "mobley_1036761                             C1CCC(CC1)N   \n",
       "mobley_1046331                          c1ccc(cc1)OC=O   \n",
       "...                                                ...   \n",
       "mobley_9913368                             C(=C/Cl)\\Cl   \n",
       "mobley_9942801                           CCc1ccc(cc1)C   \n",
       "mobley_994483                                     CCBr   \n",
       "mobley_9974966                             CC(C)SC(C)C   \n",
       "mobley_9979854                       C[C@H](C(F)(F)F)O   \n",
       "\n",
       "               iupac name (or alternative if IUPAC is unavailable or not parseable by OEChem)  \\\n",
       "mobley_1017962                                   methyl hexanoate                               \n",
       "mobley_1019269                                         butan-1-ol                               \n",
       "mobley_1034539  1,2,3,4-tetrachloro-5-(3,4-dichlorophenyl)benzene                               \n",
       "mobley_1036761                                    cyclohexanamine                               \n",
       "mobley_1046331                                     phenyl formate                               \n",
       "...                                                           ...                               \n",
       "mobley_9913368                           (E)-1,2-dichloroethylene                               \n",
       "mobley_9942801                           1-ethyl-4-methyl-benzene                               \n",
       "mobley_994483                                         bromoethane                               \n",
       "mobley_9974966                         2-isopropylsulfanylpropane                               \n",
       "mobley_9979854                           111-trifluoropropan-2-ol                               \n",
       "\n",
       "               experimental value (kcal/mol)  \\\n",
       "mobley_1017962                         -2.49   \n",
       "mobley_1019269                         -4.72   \n",
       "mobley_1034539                         -3.04   \n",
       "mobley_1036761                         -4.59   \n",
       "mobley_1046331                         -3.82   \n",
       "...                                      ...   \n",
       "mobley_9913368                         -0.78   \n",
       "mobley_9942801                         -0.95   \n",
       "mobley_994483                          -0.74   \n",
       "mobley_9974966                         -1.21   \n",
       "mobley_9979854                          -4.2   \n",
       "\n",
       "               experimental uncertainty (kcal/mol)  \\\n",
       "mobley_1017962                                 0.6   \n",
       "mobley_1019269                                 0.6   \n",
       "mobley_1034539                                 0.1   \n",
       "mobley_1036761                                 0.6   \n",
       "mobley_1046331                                 0.6   \n",
       "...                                            ...   \n",
       "mobley_9913368                                 0.6   \n",
       "mobley_9942801                                 0.6   \n",
       "mobley_994483                                  0.6   \n",
       "mobley_9974966                                 0.6   \n",
       "mobley_9979854                                 0.2   \n",
       "\n",
       "               Mobley group calculated value (GAFF) (kcal/mol)  \\\n",
       "mobley_1017962                                            -3.3   \n",
       "mobley_1019269                                           -3.23   \n",
       "mobley_1034539                                           -1.08   \n",
       "mobley_1036761                                           -3.95   \n",
       "mobley_1046331                                           -5.44   \n",
       "...                                                        ...   \n",
       "mobley_9913368                                            1.02   \n",
       "mobley_9942801                                           -0.57   \n",
       "mobley_994483                                             0.49   \n",
       "mobley_9974966                                            0.14   \n",
       "mobley_9979854                                           -3.49   \n",
       "\n",
       "               calculated uncertainty (kcal/mol)  \\\n",
       "mobley_1017962                              0.03   \n",
       "mobley_1019269                              0.03   \n",
       "mobley_1034539                              0.04   \n",
       "mobley_1036761                              0.03   \n",
       "mobley_1046331                              0.03   \n",
       "...                                          ...   \n",
       "mobley_9913368                              0.02   \n",
       "mobley_9942801                              0.03   \n",
       "mobley_994483                               0.02   \n",
       "mobley_9974966                              0.03   \n",
       "mobley_9979854                              0.03   \n",
       "\n",
       "               experimental reference (original or paper this value was taken from)  \\\n",
       "mobley_1017962                                  10.1021/ct050097l                     \n",
       "mobley_1019269                                  10.1021/ct050097l                     \n",
       "mobley_1034539                          10.1007/s10822-012-9568-8                     \n",
       "mobley_1036761                                  10.1021/ct050097l                     \n",
       "mobley_1046331  J. Peter Guthrie, unpublished data, as provide...                     \n",
       "...                                                           ...                     \n",
       "mobley_9913368                                  10.1021/ct050097l                     \n",
       "mobley_9942801                                  10.1021/ct050097l                     \n",
       "mobley_994483                                   10.1021/ct050097l                     \n",
       "mobley_9974966                                  10.1021/ct050097l                     \n",
       "mobley_9979854                               10.1039/P29900000291                     \n",
       "\n",
       "                    calculated reference  \\\n",
       "mobley_1017962  10.1021/acs.jced.7b00104   \n",
       "mobley_1019269  10.1021/acs.jced.7b00104   \n",
       "mobley_1034539  10.1021/acs.jced.7b00104   \n",
       "mobley_1036761  10.1021/acs.jced.7b00104   \n",
       "mobley_1046331  10.1021/acs.jced.7b00104   \n",
       "...                                  ...   \n",
       "mobley_9913368  10.1021/acs.jced.7b00104   \n",
       "mobley_9942801  10.1021/acs.jced.7b00104   \n",
       "mobley_994483   10.1021/acs.jced.7b00104   \n",
       "mobley_9974966  10.1021/acs.jced.7b00104   \n",
       "mobley_9979854  10.1021/acs.jced.7b00104   \n",
       "\n",
       "                                                      text notes. offmol  \n",
       "mobley_1017962  Experimental uncertainty not presently availab...   None  \n",
       "mobley_1019269  Experimental uncertainty not presently availab...   None  \n",
       "mobley_1034539  Experimental uncertainty not presently availab...   None  \n",
       "mobley_1036761  Experimental uncertainty not presently availab...   None  \n",
       "mobley_1046331  Experimental uncertainty not presently availab...   None  \n",
       "...                                                           ...    ...  \n",
       "mobley_9913368  Renamed mobley_9913368 from (E)-1,2-dichloroet...   None  \n",
       "mobley_9942801  Experimental uncertainty not presently availab...   None  \n",
       "mobley_994483   Experimental uncertainty not presently availab...   None  \n",
       "mobley_9974966  Experimental uncertainty not presently availab...   None  \n",
       "mobley_9979854  Renamed mobley_9979854 from 1,1,1-trifluoropro...   None  \n",
       "\n",
       "[642 rows x 10 columns]"
      ]
     },
     "execution_count": 75,
     "metadata": {},
     "output_type": "execute_result"
    }
   ],
   "source": [
    "df"
   ]
  },
  {
   "cell_type": "code",
   "execution_count": 76,
   "metadata": {},
   "outputs": [],
   "source": [
    "for key in df.index:\n",
    "    df['offmol'][key] = offmols[key]"
   ]
  },
  {
   "cell_type": "code",
   "execution_count": 77,
   "metadata": {},
   "outputs": [
    {
     "data": {
      "text/html": [
       "<div>\n",
       "<style scoped>\n",
       "    .dataframe tbody tr th:only-of-type {\n",
       "        vertical-align: middle;\n",
       "    }\n",
       "\n",
       "    .dataframe tbody tr th {\n",
       "        vertical-align: top;\n",
       "    }\n",
       "\n",
       "    .dataframe thead th {\n",
       "        text-align: right;\n",
       "    }\n",
       "</style>\n",
       "<table border=\"1\" class=\"dataframe\">\n",
       "  <thead>\n",
       "    <tr style=\"text-align: right;\">\n",
       "      <th></th>\n",
       "      <th>SMILES</th>\n",
       "      <th>iupac name (or alternative if IUPAC is unavailable or not parseable by OEChem)</th>\n",
       "      <th>experimental value (kcal/mol)</th>\n",
       "      <th>experimental uncertainty (kcal/mol)</th>\n",
       "      <th>Mobley group calculated value (GAFF) (kcal/mol)</th>\n",
       "      <th>calculated uncertainty (kcal/mol)</th>\n",
       "      <th>experimental reference (original or paper this value was taken from)</th>\n",
       "      <th>calculated reference</th>\n",
       "      <th>text notes.</th>\n",
       "      <th>offmol</th>\n",
       "    </tr>\n",
       "  </thead>\n",
       "  <tbody>\n",
       "    <tr>\n",
       "      <th>mobley_1017962</th>\n",
       "      <td>CCCCCC(=O)OC</td>\n",
       "      <td>methyl hexanoate</td>\n",
       "      <td>-2.49</td>\n",
       "      <td>0.6</td>\n",
       "      <td>-3.3</td>\n",
       "      <td>0.03</td>\n",
       "      <td>10.1021/ct050097l</td>\n",
       "      <td>10.1021/acs.jced.7b00104</td>\n",
       "      <td>Experimental uncertainty not presently availab...</td>\n",
       "      <td>Molecule with name '' and SMILES '[H]C([H])([H...</td>\n",
       "    </tr>\n",
       "    <tr>\n",
       "      <th>mobley_1019269</th>\n",
       "      <td>CCCCO</td>\n",
       "      <td>butan-1-ol</td>\n",
       "      <td>-4.72</td>\n",
       "      <td>0.6</td>\n",
       "      <td>-3.23</td>\n",
       "      <td>0.03</td>\n",
       "      <td>10.1021/ct050097l</td>\n",
       "      <td>10.1021/acs.jced.7b00104</td>\n",
       "      <td>Experimental uncertainty not presently availab...</td>\n",
       "      <td>Molecule with name '' and SMILES '[H]C([H])([H...</td>\n",
       "    </tr>\n",
       "    <tr>\n",
       "      <th>mobley_1034539</th>\n",
       "      <td>c1cc(c(cc1c2cc(c(c(c2Cl)Cl)Cl)Cl)Cl)Cl</td>\n",
       "      <td>1,2,3,4-tetrachloro-5-(3,4-dichlorophenyl)benzene</td>\n",
       "      <td>-3.04</td>\n",
       "      <td>0.1</td>\n",
       "      <td>-1.08</td>\n",
       "      <td>0.04</td>\n",
       "      <td>10.1007/s10822-012-9568-8</td>\n",
       "      <td>10.1021/acs.jced.7b00104</td>\n",
       "      <td>Experimental uncertainty not presently availab...</td>\n",
       "      <td>Molecule with name '' and SMILES '[H]c1c(c(c(c...</td>\n",
       "    </tr>\n",
       "    <tr>\n",
       "      <th>mobley_1036761</th>\n",
       "      <td>C1CCC(CC1)N</td>\n",
       "      <td>cyclohexanamine</td>\n",
       "      <td>-4.59</td>\n",
       "      <td>0.6</td>\n",
       "      <td>-3.95</td>\n",
       "      <td>0.03</td>\n",
       "      <td>10.1021/ct050097l</td>\n",
       "      <td>10.1021/acs.jced.7b00104</td>\n",
       "      <td>Experimental uncertainty not presently availab...</td>\n",
       "      <td>Molecule with name '' and SMILES '[H]C1(C(C(C(...</td>\n",
       "    </tr>\n",
       "    <tr>\n",
       "      <th>mobley_1046331</th>\n",
       "      <td>c1ccc(cc1)OC=O</td>\n",
       "      <td>phenyl formate</td>\n",
       "      <td>-3.82</td>\n",
       "      <td>0.6</td>\n",
       "      <td>-5.44</td>\n",
       "      <td>0.03</td>\n",
       "      <td>J. Peter Guthrie, unpublished data, as provide...</td>\n",
       "      <td>10.1021/acs.jced.7b00104</td>\n",
       "      <td>Experimental uncertainty not presently availab...</td>\n",
       "      <td>Molecule with name '' and SMILES '[H]c1c(c(c(c...</td>\n",
       "    </tr>\n",
       "    <tr>\n",
       "      <th>...</th>\n",
       "      <td>...</td>\n",
       "      <td>...</td>\n",
       "      <td>...</td>\n",
       "      <td>...</td>\n",
       "      <td>...</td>\n",
       "      <td>...</td>\n",
       "      <td>...</td>\n",
       "      <td>...</td>\n",
       "      <td>...</td>\n",
       "      <td>...</td>\n",
       "    </tr>\n",
       "    <tr>\n",
       "      <th>mobley_9913368</th>\n",
       "      <td>C(=C/Cl)\\Cl</td>\n",
       "      <td>(E)-1,2-dichloroethylene</td>\n",
       "      <td>-0.78</td>\n",
       "      <td>0.6</td>\n",
       "      <td>1.02</td>\n",
       "      <td>0.02</td>\n",
       "      <td>10.1021/ct050097l</td>\n",
       "      <td>10.1021/acs.jced.7b00104</td>\n",
       "      <td>Renamed mobley_9913368 from (E)-1,2-dichloroet...</td>\n",
       "      <td>Molecule with name '' and SMILES '[H]/C(=C(/[H...</td>\n",
       "    </tr>\n",
       "    <tr>\n",
       "      <th>mobley_9942801</th>\n",
       "      <td>CCc1ccc(cc1)C</td>\n",
       "      <td>1-ethyl-4-methyl-benzene</td>\n",
       "      <td>-0.95</td>\n",
       "      <td>0.6</td>\n",
       "      <td>-0.57</td>\n",
       "      <td>0.03</td>\n",
       "      <td>10.1021/ct050097l</td>\n",
       "      <td>10.1021/acs.jced.7b00104</td>\n",
       "      <td>Experimental uncertainty not presently availab...</td>\n",
       "      <td>Molecule with name '' and SMILES '[H]c1c(c(c(c...</td>\n",
       "    </tr>\n",
       "    <tr>\n",
       "      <th>mobley_994483</th>\n",
       "      <td>CCBr</td>\n",
       "      <td>bromoethane</td>\n",
       "      <td>-0.74</td>\n",
       "      <td>0.6</td>\n",
       "      <td>0.49</td>\n",
       "      <td>0.02</td>\n",
       "      <td>10.1021/ct050097l</td>\n",
       "      <td>10.1021/acs.jced.7b00104</td>\n",
       "      <td>Experimental uncertainty not presently availab...</td>\n",
       "      <td>Molecule with name '' and SMILES '[H]C([H])([H...</td>\n",
       "    </tr>\n",
       "    <tr>\n",
       "      <th>mobley_9974966</th>\n",
       "      <td>CC(C)SC(C)C</td>\n",
       "      <td>2-isopropylsulfanylpropane</td>\n",
       "      <td>-1.21</td>\n",
       "      <td>0.6</td>\n",
       "      <td>0.14</td>\n",
       "      <td>0.03</td>\n",
       "      <td>10.1021/ct050097l</td>\n",
       "      <td>10.1021/acs.jced.7b00104</td>\n",
       "      <td>Experimental uncertainty not presently availab...</td>\n",
       "      <td>Molecule with name '' and SMILES '[H]C([H])([H...</td>\n",
       "    </tr>\n",
       "    <tr>\n",
       "      <th>mobley_9979854</th>\n",
       "      <td>C[C@H](C(F)(F)F)O</td>\n",
       "      <td>111-trifluoropropan-2-ol</td>\n",
       "      <td>-4.2</td>\n",
       "      <td>0.2</td>\n",
       "      <td>-3.49</td>\n",
       "      <td>0.03</td>\n",
       "      <td>10.1039/P29900000291</td>\n",
       "      <td>10.1021/acs.jced.7b00104</td>\n",
       "      <td>Renamed mobley_9979854 from 1,1,1-trifluoropro...</td>\n",
       "      <td>Molecule with name '' and SMILES '[H][C@@](C([...</td>\n",
       "    </tr>\n",
       "  </tbody>\n",
       "</table>\n",
       "<p>642 rows × 10 columns</p>\n",
       "</div>"
      ],
      "text/plain": [
       "                                                SMILES  \\\n",
       "mobley_1017962                            CCCCCC(=O)OC   \n",
       "mobley_1019269                                   CCCCO   \n",
       "mobley_1034539  c1cc(c(cc1c2cc(c(c(c2Cl)Cl)Cl)Cl)Cl)Cl   \n",
       "mobley_1036761                             C1CCC(CC1)N   \n",
       "mobley_1046331                          c1ccc(cc1)OC=O   \n",
       "...                                                ...   \n",
       "mobley_9913368                             C(=C/Cl)\\Cl   \n",
       "mobley_9942801                           CCc1ccc(cc1)C   \n",
       "mobley_994483                                     CCBr   \n",
       "mobley_9974966                             CC(C)SC(C)C   \n",
       "mobley_9979854                       C[C@H](C(F)(F)F)O   \n",
       "\n",
       "               iupac name (or alternative if IUPAC is unavailable or not parseable by OEChem)  \\\n",
       "mobley_1017962                                   methyl hexanoate                               \n",
       "mobley_1019269                                         butan-1-ol                               \n",
       "mobley_1034539  1,2,3,4-tetrachloro-5-(3,4-dichlorophenyl)benzene                               \n",
       "mobley_1036761                                    cyclohexanamine                               \n",
       "mobley_1046331                                     phenyl formate                               \n",
       "...                                                           ...                               \n",
       "mobley_9913368                           (E)-1,2-dichloroethylene                               \n",
       "mobley_9942801                           1-ethyl-4-methyl-benzene                               \n",
       "mobley_994483                                         bromoethane                               \n",
       "mobley_9974966                         2-isopropylsulfanylpropane                               \n",
       "mobley_9979854                           111-trifluoropropan-2-ol                               \n",
       "\n",
       "               experimental value (kcal/mol)  \\\n",
       "mobley_1017962                         -2.49   \n",
       "mobley_1019269                         -4.72   \n",
       "mobley_1034539                         -3.04   \n",
       "mobley_1036761                         -4.59   \n",
       "mobley_1046331                         -3.82   \n",
       "...                                      ...   \n",
       "mobley_9913368                         -0.78   \n",
       "mobley_9942801                         -0.95   \n",
       "mobley_994483                          -0.74   \n",
       "mobley_9974966                         -1.21   \n",
       "mobley_9979854                          -4.2   \n",
       "\n",
       "               experimental uncertainty (kcal/mol)  \\\n",
       "mobley_1017962                                 0.6   \n",
       "mobley_1019269                                 0.6   \n",
       "mobley_1034539                                 0.1   \n",
       "mobley_1036761                                 0.6   \n",
       "mobley_1046331                                 0.6   \n",
       "...                                            ...   \n",
       "mobley_9913368                                 0.6   \n",
       "mobley_9942801                                 0.6   \n",
       "mobley_994483                                  0.6   \n",
       "mobley_9974966                                 0.6   \n",
       "mobley_9979854                                 0.2   \n",
       "\n",
       "               Mobley group calculated value (GAFF) (kcal/mol)  \\\n",
       "mobley_1017962                                            -3.3   \n",
       "mobley_1019269                                           -3.23   \n",
       "mobley_1034539                                           -1.08   \n",
       "mobley_1036761                                           -3.95   \n",
       "mobley_1046331                                           -5.44   \n",
       "...                                                        ...   \n",
       "mobley_9913368                                            1.02   \n",
       "mobley_9942801                                           -0.57   \n",
       "mobley_994483                                             0.49   \n",
       "mobley_9974966                                            0.14   \n",
       "mobley_9979854                                           -3.49   \n",
       "\n",
       "               calculated uncertainty (kcal/mol)  \\\n",
       "mobley_1017962                              0.03   \n",
       "mobley_1019269                              0.03   \n",
       "mobley_1034539                              0.04   \n",
       "mobley_1036761                              0.03   \n",
       "mobley_1046331                              0.03   \n",
       "...                                          ...   \n",
       "mobley_9913368                              0.02   \n",
       "mobley_9942801                              0.03   \n",
       "mobley_994483                               0.02   \n",
       "mobley_9974966                              0.03   \n",
       "mobley_9979854                              0.03   \n",
       "\n",
       "               experimental reference (original or paper this value was taken from)  \\\n",
       "mobley_1017962                                  10.1021/ct050097l                     \n",
       "mobley_1019269                                  10.1021/ct050097l                     \n",
       "mobley_1034539                          10.1007/s10822-012-9568-8                     \n",
       "mobley_1036761                                  10.1021/ct050097l                     \n",
       "mobley_1046331  J. Peter Guthrie, unpublished data, as provide...                     \n",
       "...                                                           ...                     \n",
       "mobley_9913368                                  10.1021/ct050097l                     \n",
       "mobley_9942801                                  10.1021/ct050097l                     \n",
       "mobley_994483                                   10.1021/ct050097l                     \n",
       "mobley_9974966                                  10.1021/ct050097l                     \n",
       "mobley_9979854                               10.1039/P29900000291                     \n",
       "\n",
       "                    calculated reference  \\\n",
       "mobley_1017962  10.1021/acs.jced.7b00104   \n",
       "mobley_1019269  10.1021/acs.jced.7b00104   \n",
       "mobley_1034539  10.1021/acs.jced.7b00104   \n",
       "mobley_1036761  10.1021/acs.jced.7b00104   \n",
       "mobley_1046331  10.1021/acs.jced.7b00104   \n",
       "...                                  ...   \n",
       "mobley_9913368  10.1021/acs.jced.7b00104   \n",
       "mobley_9942801  10.1021/acs.jced.7b00104   \n",
       "mobley_994483   10.1021/acs.jced.7b00104   \n",
       "mobley_9974966  10.1021/acs.jced.7b00104   \n",
       "mobley_9979854  10.1021/acs.jced.7b00104   \n",
       "\n",
       "                                                      text notes.  \\\n",
       "mobley_1017962  Experimental uncertainty not presently availab...   \n",
       "mobley_1019269  Experimental uncertainty not presently availab...   \n",
       "mobley_1034539  Experimental uncertainty not presently availab...   \n",
       "mobley_1036761  Experimental uncertainty not presently availab...   \n",
       "mobley_1046331  Experimental uncertainty not presently availab...   \n",
       "...                                                           ...   \n",
       "mobley_9913368  Renamed mobley_9913368 from (E)-1,2-dichloroet...   \n",
       "mobley_9942801  Experimental uncertainty not presently availab...   \n",
       "mobley_994483   Experimental uncertainty not presently availab...   \n",
       "mobley_9974966  Experimental uncertainty not presently availab...   \n",
       "mobley_9979854  Renamed mobley_9979854 from 1,1,1-trifluoropro...   \n",
       "\n",
       "                                                           offmol  \n",
       "mobley_1017962  Molecule with name '' and SMILES '[H]C([H])([H...  \n",
       "mobley_1019269  Molecule with name '' and SMILES '[H]C([H])([H...  \n",
       "mobley_1034539  Molecule with name '' and SMILES '[H]c1c(c(c(c...  \n",
       "mobley_1036761  Molecule with name '' and SMILES '[H]C1(C(C(C(...  \n",
       "mobley_1046331  Molecule with name '' and SMILES '[H]c1c(c(c(c...  \n",
       "...                                                           ...  \n",
       "mobley_9913368  Molecule with name '' and SMILES '[H]/C(=C(/[H...  \n",
       "mobley_9942801  Molecule with name '' and SMILES '[H]c1c(c(c(c...  \n",
       "mobley_994483   Molecule with name '' and SMILES '[H]C([H])([H...  \n",
       "mobley_9974966  Molecule with name '' and SMILES '[H]C([H])([H...  \n",
       "mobley_9979854  Molecule with name '' and SMILES '[H][C@@](C([...  \n",
       "\n",
       "[642 rows x 10 columns]"
      ]
     },
     "execution_count": 77,
     "metadata": {},
     "output_type": "execute_result"
    }
   ],
   "source": [
    "df"
   ]
  },
  {
   "cell_type": "markdown",
   "metadata": {},
   "source": [
    "### Check that charge-sums are all ~zero"
   ]
  },
  {
   "cell_type": "code",
   "execution_count": 78,
   "metadata": {},
   "outputs": [],
   "source": [
    "offmols = df['offmol']"
   ]
  },
  {
   "cell_type": "code",
   "execution_count": 79,
   "metadata": {},
   "outputs": [
    {
     "data": {
      "text/plain": [
       "Quantity(value=array([-0.09266   , -0.07967   , -0.07829   , -0.07824   , -0.12671   ,\n",
       "        0.63147002, -0.53658998, -0.44984001,  0.12808   ,  0.03392   ,\n",
       "        0.03392   ,  0.03392   ,  0.04138   ,  0.04138   ,  0.03957   ,\n",
       "        0.03957   ,  0.05656   ,  0.05656   ,  0.07839   ,  0.07839   ,\n",
       "        0.04963   ,  0.04963   ,  0.04963   ]), unit=elementary charge)"
      ]
     },
     "execution_count": 79,
     "metadata": {},
     "output_type": "execute_result"
    }
   ],
   "source": [
    "offmols[0].partial_charges"
   ]
  },
  {
   "cell_type": "code",
   "execution_count": 80,
   "metadata": {},
   "outputs": [],
   "source": [
    "o = offmols[0]"
   ]
  },
  {
   "cell_type": "code",
   "execution_count": 81,
   "metadata": {},
   "outputs": [
    {
     "data": {
      "text/plain": [
       "Quantity(value=array([-0.09266   , -0.07967   , -0.07829   , -0.07824   , -0.12671   ,\n",
       "        0.63147002, -0.53658998, -0.44984001,  0.12808   ,  0.03392   ,\n",
       "        0.03392   ,  0.03392   ,  0.04138   ,  0.04138   ,  0.03957   ,\n",
       "        0.03957   ,  0.05656   ,  0.05656   ,  0.07839   ,  0.07839   ,\n",
       "        0.04963   ,  0.04963   ,  0.04963   ]), unit=elementary charge)"
      ]
     },
     "execution_count": 81,
     "metadata": {},
     "output_type": "execute_result"
    }
   ],
   "source": [
    "o.partial_charges"
   ]
  },
  {
   "cell_type": "code",
   "execution_count": 84,
   "metadata": {},
   "outputs": [
    {
     "data": {
      "text/plain": [
       "Quantity(value=4.0978193283081055e-08, unit=elementary charge)"
      ]
     },
     "execution_count": 84,
     "metadata": {},
     "output_type": "execute_result"
    }
   ],
   "source": [
    "o.partial_charges.sum()"
   ]
  },
  {
   "cell_type": "code",
   "execution_count": 90,
   "metadata": {},
   "outputs": [],
   "source": [
    "from simtk import unit"
   ]
  },
  {
   "cell_type": "code",
   "execution_count": 91,
   "metadata": {},
   "outputs": [],
   "source": [
    "charge_sums = [o.partial_charges.sum() / unit.elementary_charge for o in offmols]"
   ]
  },
  {
   "cell_type": "code",
   "execution_count": 92,
   "metadata": {},
   "outputs": [
    {
     "data": {
      "text/plain": [
       "1.1175870895385742e-07"
      ]
     },
     "execution_count": 92,
     "metadata": {},
     "output_type": "execute_result"
    }
   ],
   "source": [
    "import numpy as np\n",
    "np.abs(charge_sums).max()"
   ]
  },
  {
   "cell_type": "code",
   "execution_count": 94,
   "metadata": {},
   "outputs": [
    {
     "data": {
      "text/plain": [
       "(array([  1.,   4.,  13.,  70., 206., 225.,  87.,  26.,   7.,   3.]),\n",
       " array([-1.11758709e-07, -8.94069672e-08, -6.70552254e-08, -4.47034836e-08,\n",
       "        -2.23517418e-08,  0.00000000e+00,  2.23517418e-08,  4.47034836e-08,\n",
       "         6.70552254e-08,  8.94069672e-08,  1.11758709e-07]),\n",
       " <BarContainer object of 10 artists>)"
      ]
     },
     "execution_count": 94,
     "metadata": {},
     "output_type": "execute_result"
    },
    {
     "data": {
      "image/png": "[encoded data removed]",
      "text/plain": [
       "<Figure size 432x288 with 1 Axes>"
      ]
     },
     "metadata": {
      "needs_background": "light"
     },
     "output_type": "display_data"
    }
   ],
   "source": [
    "import matplotlib.pyplot as plt\n",
    "plt.hist(charge_sums)"
   ]
  },
  {
   "cell_type": "code",
   "execution_count": 96,
   "metadata": {},
   "outputs": [
    {
     "name": "stderr",
     "output_type": "stream",
     "text": [
      "/Users/joshuafass/anaconda3/envs/espaloma/lib/python3.7/site-packages/pandas/core/generic.py:2449: PerformanceWarning: \n",
      "your performance may suffer as PyTables will pickle object types that it cannot\n",
      "map directly to c-types [inferred_type->mixed,key->block0_values] [items->Index(['SMILES',\n",
      "       'iupac name (or alternative if IUPAC is unavailable or not parseable by OEChem)',\n",
      "       'experimental value (kcal/mol)', 'experimental uncertainty (kcal/mol)',\n",
      "       'Mobley group calculated value (GAFF) (kcal/mol)',\n",
      "       'calculated uncertainty (kcal/mol)',\n",
      "       'experimental reference (original or paper this value was taken from)',\n",
      "       'calculated reference', 'text notes.', 'offmol'],\n",
      "      dtype='object')]\n",
      "\n",
      "  encoding=encoding,\n"
     ]
    }
   ],
   "source": [
    "df.to_hdf('freesolv.h5', 'df')"
   ]
  },
  {
   "cell_type": "markdown",
   "metadata": {},
   "source": [
    "#### Parameterize with parsley 1.2, save serialized openmm systems"
   ]
  },
  {
   "cell_type": "code",
   "execution_count": 97,
   "metadata": {},
   "outputs": [
    {
     "data": {
      "image/png": "[encoded data removed]",
      "text/plain": [
       "<rdkit.Chem.rdchem.Mol at 0x7fd5b8f25f70>"
      ]
     },
     "metadata": {},
     "output_type": "display_data"
    }
   ],
   "source": [
    "o"
   ]
  },
  {
   "cell_type": "code",
   "execution_count": 98,
   "metadata": {},
   "outputs": [
    {
     "data": {
      "text/plain": [
       "<openforcefield.topology.topology.Topology at 0x7fd5a31becd0>"
      ]
     },
     "execution_count": 98,
     "metadata": {},
     "output_type": "execute_result"
    }
   ],
   "source": [
    "o.to_topology()"
   ]
  },
  {
   "cell_type": "code",
   "execution_count": null,
   "metadata": {},
   "outputs": [],
   "source": [
    "from simtk.openmm import S"
   ]
  },
  {
   "cell_type": "code",
   "execution_count": 100,
   "metadata": {},
   "outputs": [],
   "source": [
    "system = forcefield.create_openmm_system(o.to_topology())"
   ]
  },
  {
   "cell_type": "code",
   "execution_count": 102,
   "metadata": {},
   "outputs": [],
   "source": [
    "from simtk.openmm import XmlSerializer"
   ]
  },
  {
   "cell_type": "code",
   "execution_count": 104,
   "metadata": {},
   "outputs": [],
   "source": [
    "serialized = XmlSerializer.serializeSystem(system)"
   ]
  },
  {
   "cell_type": "code",
   "execution_count": 105,
   "metadata": {},
   "outputs": [],
   "source": [
    "deserialized = XmlSerializer.deserializeSystem(serialized)"
   ]
  },
  {
   "cell_type": "code",
   "execution_count": 111,
   "metadata": {},
   "outputs": [
    {
     "data": {
      "text/plain": [
       "False"
      ]
     },
     "execution_count": 111,
     "metadata": {},
     "output_type": "execute_result"
    }
   ],
   "source": [
    "# hmm, why not equal after round-trip, just the swig addresses?\n",
    "# or is there something meaningfully different?\n",
    "# TODO: maybe double-check this...\n",
    "deserialized == system"
   ]
  },
  {
   "cell_type": "code",
   "execution_count": 112,
   "metadata": {},
   "outputs": [
    {
     "data": {
      "text/plain": [
       "(<simtk.openmm.openmm.System; proxy of <Swig Object of type 'OpenMM::System *' at 0x7fd5a31a6420> >,\n",
       " <simtk.openmm.openmm.System; proxy of <Swig Object of type 'OpenMM::System *' at 0x7fd5a47229f0> >)"
      ]
     },
     "execution_count": 112,
     "metadata": {},
     "output_type": "execute_result"
    }
   ],
   "source": [
    "system, deserialized"
   ]
  },
  {
   "cell_type": "code",
   "execution_count": 113,
   "metadata": {},
   "outputs": [],
   "source": [
    "df['serialized_openmm_system'] = None"
   ]
  },
  {
   "cell_type": "code",
   "execution_count": 116,
   "metadata": {},
   "outputs": [
    {
     "name": "stderr",
     "output_type": "stream",
     "text": [
      " 31%|███       | 200/642 [02:17<05:35,  1.32it/s]Warning (not error because allow_undefined_stereo=True): OEMol has unspecified stereochemistry. oemol.GetTitle(): \n",
      "Problematic atoms are:\n",
      "Atom atomic num: 7, name: , idx: 1, aromatic: False, chiral: True with bonds:\n",
      "bond order: 1, chiral: False to atom atomic num: 6, name: , idx: 0, aromatic: False, chiral: False\n",
      "bond order: 1, chiral: False to atom atomic num: 6, name: , idx: 2, aromatic: False, chiral: False\n",
      "bond order: 1, chiral: False to atom atomic num: 6, name: , idx: 7, aromatic: True, chiral: False\n",
      "\n",
      "100%|██████████| 642/642 [06:58<00:00,  1.54it/s]\n"
     ]
    }
   ],
   "source": [
    "for key in tqdm(df.index):\n",
    "    system = forcefield.create_openmm_system(df['offmol'][key].to_topology())\n",
    "    df['serialized_openmm_system'][key] = XmlSerializer.serializeSystem(system)"
   ]
  },
  {
   "cell_type": "code",
   "execution_count": 119,
   "metadata": {
    "scrolled": true
   },
   "outputs": [
    {
     "name": "stdout",
     "output_type": "stream",
     "text": [
      "<?xml version=\"1.0\" ?>\n",
      "<System openmmVersion=\"7.4.2\" type=\"System\" version=\"1\">\n",
      "\t<PeriodicBoxVectors>\n",
      "\t\t<A x=\"2\" y=\"0\" z=\"0\"/>\n",
      "\t\t<B x=\"0\" y=\"2\" z=\"0\"/>\n",
      "\t\t<C x=\"0\" y=\"0\" z=\"2\"/>\n",
      "\t</PeriodicBoxVectors>\n",
      "\t<Particles>\n",
      "\t\t<Particle mass=\"12.01078\"/>\n",
      "\t\t<Particle mass=\"12.01078\"/>\n",
      "\t\t<Particle mass=\"1.007947\"/>\n",
      "\t\t<Particle mass=\"12.01078\"/>\n",
      "\t\t<Particle mass=\"18.99840325\"/>\n",
      "\t\t<Particle mass=\"18.99840325\"/>\n",
      "\t\t<Particle mass=\"18.99840325\"/>\n",
      "\t\t<Particle mass=\"15.99943\"/>\n",
      "\t\t<Particle mass=\"1.007947\"/>\n",
      "\t\t<Particle mass=\"1.007947\"/>\n",
      "\t\t<Particle mass=\"1.007947\"/>\n",
      "\t\t<Particle mass=\"1.007947\"/>\n",
      "\t</Particles>\n",
      "\t<Constraints>\n",
      "\t\t<Constraint d=\".1094223427522\" p1=\"0\" p2=\"8\"/>\n",
      "\t\t<Constraint d=\".1094223427522\" p1=\"0\" p2=\"9\"/>\n",
      "\t\t<Constraint d=\".1094223427522\" p1=\"0\" p2=\"10\"/>\n",
      "\t\t<Constraint d=\".1094223427522\" p1=\"1\" p2=\"2\"/>\n",
      "\t\t<Constraint d=\".09738225805594\" p1=\"7\" p2=\"11\"/>\n",
      "\t</Constraints>\n",
      "\t<Forces>\n",
      "\t\t<Force alpha=\"0\" cutoff=\".9\" dispersionCorrection=\"1\" ewaldTolerance=\".0005\" forceGroup=\"0\" ljAlpha=\"0\" ljnx=\"0\" ljny=\"0\" ljnz=\"0\" method=\"0\" nx=\"0\" ny=\"0\" nz=\"0\" recipForceGroup=\"-1\" rfDielectric=\"78.3\" switchingDistance=\"-1\" type=\"NonbondedForce\" useSwitchingFunction=\"0\" version=\"3\">\n",
      "\t\t\t<GlobalParameters/>\n",
      "\t\t\t<ParticleOffsets/>\n",
      "\t\t\t<ExceptionOffsets/>\n",
      "\t\t\t<Particles>\n",
      "\t\t\t\t<Particle eps=\".4577296\" q=\"-.10051000118255615\" sig=\".3399669508423535\"/>\n",
      "\t\t\t\t<Particle eps=\".4577296\" q=\".12419000267982483\" sig=\".3399669508423535\"/>\n",
      "\t\t\t\t<Particle eps=\".06568879999999999\" q=\".06888999789953232\" sig=\".2471353044121301\"/>\n",
      "\t\t\t\t<Particle eps=\".4577296\" q=\".5823500156402588\" sig=\".3399669508423535\"/>\n",
      "\t\t\t\t<Particle eps=\".255224\" q=\"-.23747000098228455\" sig=\".3118145513491188\"/>\n",
      "\t\t\t\t<Particle eps=\".255224\" q=\"-.23747000098228455\" sig=\".3118145513491188\"/>\n",
      "\t\t\t\t<Particle eps=\".255224\" q=\"-.23747000098228455\" sig=\".3118145513491188\"/>\n",
      "\t\t\t\t<Particle eps=\".8803136\" q=\"-.5741199851036072\" sig=\".3066473387839048\"/>\n",
      "\t\t\t\t<Particle eps=\".06568879999999999\" q=\".06486999988555908\" sig=\".2649532787749369\"/>\n",
      "\t\t\t\t<Particle eps=\".06568879999999999\" q=\".06486999988555908\" sig=\".2649532787749369\"/>\n",
      "\t\t\t\t<Particle eps=\".06568879999999999\" q=\".06486999988555908\" sig=\".2649532787749369\"/>\n",
      "\t\t\t\t<Particle eps=\".0002204968\" q=\".4169999957084656\" sig=\".053453923088420355\"/>\n",
      "\t\t\t</Particles>\n",
      "\t\t\t<Exceptions>\n",
      "\t\t\t\t<Exception eps=\"0\" p1=\"0\" p2=\"1\" q=\"0\" sig=\"1\"/>\n",
      "\t\t\t\t<Exception eps=\"0\" p1=\"0\" p2=\"2\" q=\"0\" sig=\"1\"/>\n",
      "\t\t\t\t<Exception eps=\"0\" p1=\"1\" p2=\"2\" q=\"0\" sig=\"1\"/>\n",
      "\t\t\t\t<Exception eps=\"0\" p1=\"0\" p2=\"3\" q=\"0\" sig=\"1\"/>\n",
      "\t\t\t\t<Exception eps=\"0\" p1=\"1\" p2=\"3\" q=\"0\" sig=\"1\"/>\n",
      "\t\t\t\t<Exception eps=\"0\" p1=\"2\" p2=\"3\" q=\"0\" sig=\"1\"/>\n",
      "\t\t\t\t<Exception eps=\".17089732255831278\" p1=\"0\" p2=\"4\" q=\".01989001217259226\" sig=\".3258907510957362\"/>\n",
      "\t\t\t\t<Exception eps=\"0\" p1=\"1\" p2=\"4\" q=\"0\" sig=\"1\"/>\n",
      "\t\t\t\t<Exception eps=\".06474055585797824\" p1=\"2\" p2=\"4\" q=\"-.013632702026366704\" sig=\".27947492788062445\"/>\n",
      "\t\t\t\t<Exception eps=\"0\" p1=\"3\" p2=\"4\" q=\"0\" sig=\"1\"/>\n",
      "\t\t\t\t<Exception eps=\".17089732255831278\" p1=\"0\" p2=\"5\" q=\".01989001217259226\" sig=\".3258907510957362\"/>\n",
      "\t\t\t\t<Exception eps=\"0\" p1=\"1\" p2=\"5\" q=\"0\" sig=\"1\"/>\n",
      "\t\t\t\t<Exception eps=\".06474055585797824\" p1=\"2\" p2=\"5\" q=\"-.013632702026366704\" sig=\".27947492788062445\"/>\n",
      "\t\t\t\t<Exception eps=\"0\" p1=\"3\" p2=\"5\" q=\"0\" sig=\"1\"/>\n",
      "\t\t\t\t<Exception eps=\"0\" p1=\"4\" p2=\"5\" q=\"0\" sig=\"1\"/>\n",
      "\t\t\t\t<Exception eps=\".17089732255831278\" p1=\"0\" p2=\"6\" q=\".01989001217259226\" sig=\".3258907510957362\"/>\n",
      "\t\t\t\t<Exception eps=\"0\" p1=\"1\" p2=\"6\" q=\"0\" sig=\"1\"/>\n",
      "\t\t\t\t<Exception eps=\".06474055585797824\" p1=\"2\" p2=\"6\" q=\"-.013632702026366704\" sig=\".27947492788062445\"/>\n",
      "\t\t\t\t<Exception eps=\"0\" p1=\"3\" p2=\"6\" q=\"0\" sig=\"1\"/>\n",
      "\t\t\t\t<Exception eps=\"0\" p1=\"4\" p2=\"6\" q=\"0\" sig=\"1\"/>\n",
      "\t\t\t\t<Exception eps=\"0\" p1=\"5\" p2=\"6\" q=\"0\" sig=\"1\"/>\n",
      "\t\t\t\t<Exception eps=\"0\" p1=\"0\" p2=\"7\" q=\"0\" sig=\"1\"/>\n",
      "\t\t\t\t<Exception eps=\"0\" p1=\"1\" p2=\"7\" q=\"0\" sig=\"1\"/>\n",
      "\t\t\t\t<Exception eps=\"0\" p1=\"2\" p2=\"7\" q=\"0\" sig=\"1\"/>\n",
      "\t\t\t\t<Exception eps=\"0\" p1=\"3\" p2=\"7\" q=\"0\" sig=\"1\"/>\n",
      "\t\t\t\t<Exception eps=\".23700061088866417\" p1=\"4\" p2=\"7\" q=\".11361310673450757\" sig=\".30923094506651183\"/>\n",
      "\t\t\t\t<Exception eps=\".23700061088866417\" p1=\"5\" p2=\"7\" q=\".11361310673450757\" sig=\".30923094506651183\"/>\n",
      "\t\t\t\t<Exception eps=\".23700061088866417\" p1=\"6\" p2=\"7\" q=\".11361310673450757\" sig=\".30923094506651183\"/>\n",
      "\t\t\t\t<Exception eps=\"0\" p1=\"0\" p2=\"8\" q=\"0\" sig=\"1\"/>\n",
      "\t\t\t\t<Exception eps=\"0\" p1=\"1\" p2=\"8\" q=\"0\" sig=\"1\"/>\n",
      "\t\t\t\t<Exception eps=\".032844399999999996\" p1=\"2\" p2=\"8\" q=\".0037240635669018364\" sig=\".2560442915935335\"/>\n",
      "\t\t\t\t<Exception eps=\".08670021359327784\" p1=\"3\" p2=\"8\" q=\".03148074528313094\" sig=\".3024601148086452\"/>\n",
      "\t\t\t\t<Exception eps=\".12023595968727492\" p1=\"7\" p2=\"8\" q=\"-.031035845329428925\" sig=\".28580030877942086\"/>\n",
      "\t\t\t\t<Exception eps=\"0\" p1=\"0\" p2=\"9\" q=\"0\" sig=\"1\"/>\n",
      "\t\t\t\t<Exception eps=\"0\" p1=\"1\" p2=\"9\" q=\"0\" sig=\"1\"/>\n",
      "\t\t\t\t<Exception eps=\".032844399999999996\" p1=\"2\" p2=\"9\" q=\".0037240635669018364\" sig=\".2560442915935335\"/>\n",
      "\t\t\t\t<Exception eps=\".08670021359327784\" p1=\"3\" p2=\"9\" q=\".03148074528313094\" sig=\".3024601148086452\"/>\n",
      "\t\t\t\t<Exception eps=\".12023595968727492\" p1=\"7\" p2=\"9\" q=\"-.031035845329428925\" sig=\".28580030877942086\"/>\n",
      "\t\t\t\t<Exception eps=\"0\" p1=\"8\" p2=\"9\" q=\"0\" sig=\"1\"/>\n",
      "\t\t\t\t<Exception eps=\"0\" p1=\"0\" p2=\"10\" q=\"0\" sig=\"1\"/>\n",
      "\t\t\t\t<Exception eps=\"0\" p1=\"1\" p2=\"10\" q=\"0\" sig=\"1\"/>\n",
      "\t\t\t\t<Exception eps=\".032844399999999996\" p1=\"2\" p2=\"10\" q=\".0037240635669018364\" sig=\".2560442915935335\"/>\n",
      "\t\t\t\t<Exception eps=\".08670021359327784\" p1=\"3\" p2=\"10\" q=\".03148074528313094\" sig=\".3024601148086452\"/>\n",
      "\t\t\t\t<Exception eps=\".12023595968727492\" p1=\"7\" p2=\"10\" q=\"-.031035845329428925\" sig=\".28580030877942086\"/>\n",
      "\t\t\t\t<Exception eps=\"0\" p1=\"8\" p2=\"10\" q=\"0\" sig=\"1\"/>\n",
      "\t\t\t\t<Exception eps=\"0\" p1=\"9\" p2=\"10\" q=\"0\" sig=\"1\"/>\n",
      "\t\t\t\t<Exception eps=\".005023144236065694\" p1=\"0\" p2=\"11\" q=\"-.03492708534258628\" sig=\".19671043696538693\"/>\n",
      "\t\t\t\t<Exception eps=\"0\" p1=\"1\" p2=\"11\" q=\"0\" sig=\"1\"/>\n",
      "\t\t\t\t<Exception eps=\".001902903715104892\" p1=\"2\" p2=\"11\" q=\".023939178266621557\" sig=\".15029461375027522\"/>\n",
      "\t\t\t\t<Exception eps=\".005023144236065694\" p1=\"3\" p2=\"11\" q=\".20236581888583058\" sig=\".19671043696538693\"/>\n",
      "\t\t\t\t<Exception eps=\"0\" p1=\"7\" p2=\"11\" q=\"0\" sig=\"1\"/>\n",
      "\t\t\t</Exceptions>\n",
      "\t\t</Force>\n",
      "\t\t<Force forceGroup=\"0\" type=\"PeriodicTorsionForce\" usesPeriodic=\"0\" version=\"2\">\n",
      "\t\t\t<Torsions>\n",
      "\t\t\t\t<Torsion k=\".7478253368310328\" p1=\"0\" p2=\"1\" p3=\"3\" p4=\"4\" periodicity=\"3\" phase=\"0\"/>\n",
      "\t\t\t\t<Torsion k=\".7478253368310328\" p1=\"0\" p2=\"1\" p3=\"3\" p4=\"5\" periodicity=\"3\" phase=\"0\"/>\n",
      "\t\t\t\t<Torsion k=\".7478253368310328\" p1=\"0\" p2=\"1\" p3=\"3\" p4=\"6\" periodicity=\"3\" phase=\"0\"/>\n",
      "\t\t\t\t<Torsion k=\"2.491405185940872\" p1=\"0\" p2=\"1\" p3=\"7\" p4=\"11\" periodicity=\"3\" phase=\"0\"/>\n",
      "\t\t\t\t<Torsion k=\".07144831604055689\" p1=\"0\" p2=\"1\" p3=\"7\" p4=\"11\" periodicity=\"1\" phase=\"0\"/>\n",
      "\t\t\t\t<Torsion k=\".6597228160937432\" p1=\"2\" p2=\"1\" p3=\"0\" p4=\"8\" periodicity=\"3\" phase=\"0\"/>\n",
      "\t\t\t\t<Torsion k=\".6597228160937432\" p1=\"2\" p2=\"1\" p3=\"0\" p4=\"9\" periodicity=\"3\" phase=\"0\"/>\n",
      "\t\t\t\t<Torsion k=\".6597228160937432\" p1=\"2\" p2=\"1\" p3=\"0\" p4=\"10\" periodicity=\"3\" phase=\"0\"/>\n",
      "\t\t\t\t<Torsion k=\".4545777063761328\" p1=\"2\" p2=\"1\" p3=\"3\" p4=\"4\" periodicity=\"3\" phase=\"0\"/>\n",
      "\t\t\t\t<Torsion k=\"1.4841697227211248\" p1=\"2\" p2=\"1\" p3=\"3\" p4=\"4\" periodicity=\"1\" phase=\"0\"/>\n",
      "\t\t\t\t<Torsion k=\".4545777063761328\" p1=\"2\" p2=\"1\" p3=\"3\" p4=\"5\" periodicity=\"3\" phase=\"0\"/>\n",
      "\t\t\t\t<Torsion k=\"1.4841697227211248\" p1=\"2\" p2=\"1\" p3=\"3\" p4=\"5\" periodicity=\"1\" phase=\"0\"/>\n",
      "\t\t\t\t<Torsion k=\".4545777063761328\" p1=\"2\" p2=\"1\" p3=\"3\" p4=\"6\" periodicity=\"3\" phase=\"0\"/>\n",
      "\t\t\t\t<Torsion k=\"1.4841697227211248\" p1=\"2\" p2=\"1\" p3=\"3\" p4=\"6\" periodicity=\"1\" phase=\"0\"/>\n",
      "\t\t\t\t<Torsion k=\".9853470866231285\" p1=\"2\" p2=\"1\" p3=\"7\" p4=\"11\" periodicity=\"3\" phase=\"0\"/>\n",
      "\t\t\t\t<Torsion k=\".23556609648117505\" p1=\"3\" p2=\"1\" p3=\"0\" p4=\"8\" periodicity=\"3\" phase=\"0\"/>\n",
      "\t\t\t\t<Torsion k=\".23556609648117505\" p1=\"3\" p2=\"1\" p3=\"0\" p4=\"9\" periodicity=\"3\" phase=\"0\"/>\n",
      "\t\t\t\t<Torsion k=\".23556609648117505\" p1=\"3\" p2=\"1\" p3=\"0\" p4=\"10\" periodicity=\"3\" phase=\"0\"/>\n",
      "\t\t\t\t<Torsion k=\"2.491405185940872\" p1=\"3\" p2=\"1\" p3=\"7\" p4=\"11\" periodicity=\"3\" phase=\"0\"/>\n",
      "\t\t\t\t<Torsion k=\".07144831604055689\" p1=\"3\" p2=\"1\" p3=\"7\" p4=\"11\" periodicity=\"1\" phase=\"0\"/>\n",
      "\t\t\t\t<Torsion k=\".7478253368310328\" p1=\"4\" p2=\"3\" p3=\"1\" p4=\"7\" periodicity=\"3\" phase=\"0\"/>\n",
      "\t\t\t\t<Torsion k=\".7478253368310328\" p1=\"5\" p2=\"3\" p3=\"1\" p4=\"7\" periodicity=\"3\" phase=\"0\"/>\n",
      "\t\t\t\t<Torsion k=\".7478253368310328\" p1=\"6\" p2=\"3\" p3=\"1\" p4=\"7\" periodicity=\"3\" phase=\"0\"/>\n",
      "\t\t\t\t<Torsion k=\".4690783426872368\" p1=\"7\" p2=\"1\" p3=\"0\" p4=\"8\" periodicity=\"3\" phase=\"0\"/>\n",
      "\t\t\t\t<Torsion k=\"1.6426037081765568\" p1=\"7\" p2=\"1\" p3=\"0\" p4=\"8\" periodicity=\"1\" phase=\"0\"/>\n",
      "\t\t\t\t<Torsion k=\".4690783426872368\" p1=\"7\" p2=\"1\" p3=\"0\" p4=\"9\" periodicity=\"3\" phase=\"0\"/>\n",
      "\t\t\t\t<Torsion k=\"1.6426037081765568\" p1=\"7\" p2=\"1\" p3=\"0\" p4=\"9\" periodicity=\"1\" phase=\"0\"/>\n",
      "\t\t\t\t<Torsion k=\".4690783426872368\" p1=\"7\" p2=\"1\" p3=\"0\" p4=\"10\" periodicity=\"3\" phase=\"0\"/>\n",
      "\t\t\t\t<Torsion k=\"1.6426037081765568\" p1=\"7\" p2=\"1\" p3=\"0\" p4=\"10\" periodicity=\"1\" phase=\"0\"/>\n",
      "\t\t\t</Torsions>\n",
      "\t\t</Force>\n",
      "\t\t<Force forceGroup=\"0\" type=\"HarmonicAngleForce\" usesPeriodic=\"0\" version=\"2\">\n",
      "\t\t\t<Angles>\n",
      "\t\t\t\t<Angle a=\"1.934023159676159\" k=\"418.4347857563352\" p1=\"0\" p2=\"1\" p3=\"2\"/>\n",
      "\t\t\t\t<Angle a=\"1.934023159676159\" k=\"418.4347857563352\" p1=\"0\" p2=\"1\" p3=\"3\"/>\n",
      "\t\t\t\t<Angle a=\"1.934023159676159\" k=\"418.4347857563352\" p1=\"0\" p2=\"1\" p3=\"7\"/>\n",
      "\t\t\t\t<Angle a=\"1.934023159676159\" k=\"418.4347857563352\" p1=\"1\" p2=\"0\" p3=\"8\"/>\n",
      "\t\t\t\t<Angle a=\"1.934023159676159\" k=\"418.4347857563352\" p1=\"1\" p2=\"0\" p3=\"9\"/>\n",
      "\t\t\t\t<Angle a=\"1.934023159676159\" k=\"418.4347857563352\" p1=\"1\" p2=\"0\" p3=\"10\"/>\n",
      "\t\t\t\t<Angle a=\"1.934023159676159\" k=\"418.4347857563352\" p1=\"1\" p2=\"3\" p3=\"4\"/>\n",
      "\t\t\t\t<Angle a=\"1.934023159676159\" k=\"418.4347857563352\" p1=\"1\" p2=\"3\" p3=\"5\"/>\n",
      "\t\t\t\t<Angle a=\"1.934023159676159\" k=\"418.4347857563352\" p1=\"1\" p2=\"3\" p3=\"6\"/>\n",
      "\t\t\t\t<Angle a=\"1.9363770716107929\" k=\"535.1834116752025\" p1=\"1\" p2=\"7\" p3=\"11\"/>\n",
      "\t\t\t\t<Angle a=\"1.934023159676159\" k=\"418.4347857563352\" p1=\"2\" p2=\"1\" p3=\"3\"/>\n",
      "\t\t\t\t<Angle a=\"1.934023159676159\" k=\"418.4347857563352\" p1=\"2\" p2=\"1\" p3=\"7\"/>\n",
      "\t\t\t\t<Angle a=\"1.934023159676159\" k=\"418.4347857563352\" p1=\"3\" p2=\"1\" p3=\"7\"/>\n",
      "\t\t\t\t<Angle a=\"1.934023159676159\" k=\"418.4347857563352\" p1=\"4\" p2=\"3\" p3=\"5\"/>\n",
      "\t\t\t\t<Angle a=\"1.934023159676159\" k=\"418.4347857563352\" p1=\"4\" p2=\"3\" p3=\"6\"/>\n",
      "\t\t\t\t<Angle a=\"1.934023159676159\" k=\"418.4347857563352\" p1=\"5\" p2=\"3\" p3=\"6\"/>\n",
      "\t\t\t\t<Angle a=\"1.9241706298563819\" k=\"282.74431310675885\" p1=\"8\" p2=\"0\" p3=\"9\"/>\n",
      "\t\t\t\t<Angle a=\"1.9241706298563819\" k=\"282.74431310675885\" p1=\"8\" p2=\"0\" p3=\"10\"/>\n",
      "\t\t\t\t<Angle a=\"1.9241706298563819\" k=\"282.74431310675885\" p1=\"9\" p2=\"0\" p3=\"10\"/>\n",
      "\t\t\t</Angles>\n",
      "\t\t</Force>\n",
      "\t\t<Force forceGroup=\"0\" type=\"HarmonicBondForce\" usesPeriodic=\"0\" version=\"2\">\n",
      "\t\t\t<Bonds>\n",
      "\t\t\t\t<Bond d=\".15210870620000003\" k=\"220253.65752401136\" p1=\"0\" p2=\"1\"/>\n",
      "\t\t\t\t<Bond d=\".15210870620000003\" k=\"220253.65752401136\" p1=\"1\" p2=\"3\"/>\n",
      "\t\t\t\t<Bond d=\".1428415544622\" k=\"276334.96338036715\" p1=\"1\" p2=\"7\"/>\n",
      "\t\t\t\t<Bond d=\".1357734078824\" k=\"281433.3282299795\" p1=\"3\" p2=\"4\"/>\n",
      "\t\t\t\t<Bond d=\".1357734078824\" k=\"281433.3282299795\" p1=\"3\" p2=\"5\"/>\n",
      "\t\t\t\t<Bond d=\".1357734078824\" k=\"281433.3282299795\" p1=\"3\" p2=\"6\"/>\n",
      "\t\t\t</Bonds>\n",
      "\t\t</Force>\n",
      "\t</Forces>\n",
      "</System>\n",
      "\n"
     ]
    }
   ],
   "source": [
    "print(df['serialized_openmm_system'][key])"
   ]
  },
  {
   "cell_type": "code",
   "execution_count": 120,
   "metadata": {},
   "outputs": [
    {
     "name": "stderr",
     "output_type": "stream",
     "text": [
      "/Users/joshuafass/anaconda3/envs/espaloma/lib/python3.7/site-packages/pandas/core/generic.py:2449: PerformanceWarning: \n",
      "your performance may suffer as PyTables will pickle object types that it cannot\n",
      "map directly to c-types [inferred_type->mixed,key->block0_values] [items->Index(['SMILES',\n",
      "       'iupac name (or alternative if IUPAC is unavailable or not parseable by OEChem)',\n",
      "       'experimental value (kcal/mol)', 'experimental uncertainty (kcal/mol)',\n",
      "       'Mobley group calculated value (GAFF) (kcal/mol)',\n",
      "       'calculated uncertainty (kcal/mol)',\n",
      "       'experimental reference (original or paper this value was taken from)',\n",
      "       'calculated reference', 'text notes.', 'offmol',\n",
      "       'serialized_openmm_system'],\n",
      "      dtype='object')]\n",
      "\n",
      "  encoding=encoding,\n"
     ]
    }
   ],
   "source": [
    "df.to_hdf('freesolv.h5', 'df')"
   ]
  },
  {
   "cell_type": "code",
   "execution_count": 122,
   "metadata": {},
   "outputs": [
    {
     "data": {
      "text/plain": [
       "Index(['SMILES',\n",
       "       'iupac name (or alternative if IUPAC is unavailable or not parseable by OEChem)',\n",
       "       'experimental value (kcal/mol)', 'experimental uncertainty (kcal/mol)',\n",
       "       'Mobley group calculated value (GAFF) (kcal/mol)',\n",
       "       'calculated uncertainty (kcal/mol)',\n",
       "       'experimental reference (original or paper this value was taken from)',\n",
       "       'calculated reference', 'text notes.', 'offmol',\n",
       "       'serialized_openmm_system'],\n",
       "      dtype='object')"
      ]
     },
     "execution_count": 122,
     "metadata": {},
     "output_type": "execute_result"
    }
   ],
   "source": [
    "df.columns"
   ]
  },
  {
   "cell_type": "markdown",
   "metadata": {},
   "source": [
    "TODO: also add vacuum trajectories as a column"
   ]
  },
  {
   "cell_type": "code",
   "execution_count": 129,
   "metadata": {},
   "outputs": [],
   "source": [
    "from simtk import openmm as mm\n",
    "from simtk.openmm import app\n",
    "\n",
    "temperature = 300 * unit.kelvin\n",
    "gamma = 10.0 / unit.picosecond\n",
    "dt = 1.0 * unit.femtosecond"
   ]
  },
  {
   "cell_type": "code",
   "execution_count": 146,
   "metadata": {},
   "outputs": [],
   "source": [
    "def get_vacuum_sim(key):\n",
    "    \"\"\"load topology and serialized vacuum simulation\"\"\"\n",
    "    offmol = df['offmol'][key]\n",
    "    \n",
    "    top = offmol.to_topology().to_openmm()\n",
    "    sys = XmlSerializer.deserializeSystem(df['serialized_openmm_system'][key])\n",
    "    \n",
    "    sim = app.Simulation(top, sys, mm.LangevinIntegrator(temperature, gamma, dt))\n",
    "    \n",
    "    if offmol.conformers is None:\n",
    "        offmol.generate_conformers()\n",
    "        \n",
    "    \n",
    "    sim.context.setPositions(offmol.conformers[0])\n",
    "    sim.minimizeEnergy()\n",
    "    sim.context.setVelocitiesToTemperature(temperature)\n",
    "    \n",
    "    return sim"
   ]
  },
  {
   "cell_type": "code",
   "execution_count": 147,
   "metadata": {},
   "outputs": [
    {
     "data": {
      "text/plain": [
       "'mobley_9979854'"
      ]
     },
     "execution_count": 147,
     "metadata": {},
     "output_type": "execute_result"
    }
   ],
   "source": [
    "key"
   ]
  },
  {
   "cell_type": "code",
   "execution_count": 153,
   "metadata": {},
   "outputs": [],
   "source": [
    "sim = get_vacuum_sim(key)"
   ]
  },
  {
   "cell_type": "code",
   "execution_count": 154,
   "metadata": {},
   "outputs": [],
   "source": [
    "distance_unit = unit.nanometer"
   ]
  },
  {
   "cell_type": "code",
   "execution_count": 155,
   "metadata": {},
   "outputs": [],
   "source": [
    "def generate_trajectory(sim, burn_in=1000, n_samples=100, thinning=1000):\n",
    "    def get_positions():\n",
    "        return sim.context.getState(getPositions=True).getPositions(asNumpy=True)\n",
    "\n",
    "    sim.step(burn_in)\n",
    "    xyz = []\n",
    "    for _ in tqdm(range(n_samples)):\n",
    "        sim.step(thinning)\n",
    "        xyz.append(get_positions().value_in_unit(distance_unit))\n",
    "    return np.array(xyz)"
   ]
  },
  {
   "cell_type": "code",
   "execution_count": 156,
   "metadata": {},
   "outputs": [
    {
     "name": "stderr",
     "output_type": "stream",
     "text": [
      "100%|██████████| 100/100 [00:23<00:00,  4.33it/s]\n"
     ]
    }
   ],
   "source": [
    "xyz = generate_trajectory(sim)"
   ]
  },
  {
   "cell_type": "code",
   "execution_count": 157,
   "metadata": {},
   "outputs": [],
   "source": [
    "gbsa_forcefield = ForceField('test_forcefields/GBSA_OBC1-1.0.offxml')"
   ]
  },
  {
   "cell_type": "code",
   "execution_count": 158,
   "metadata": {},
   "outputs": [
    {
     "ename": "AssertionError",
     "evalue": "",
     "output_type": "error",
     "traceback": [
      "\u001b[0;31m---------------------------------------------------------------------------\u001b[0m",
      "\u001b[0;31mAssertionError\u001b[0m                            Traceback (most recent call last)",
      "\u001b[0;32m<ipython-input-158-bb7d1ca65f36>\u001b[0m in \u001b[0;36m<module>\u001b[0;34m\u001b[0m\n\u001b[0;32m----> 1\u001b[0;31m \u001b[0mgbsa_forcefield\u001b[0m\u001b[0;34m.\u001b[0m\u001b[0mcreate_openmm_system\u001b[0m\u001b[0;34m(\u001b[0m\u001b[0mo\u001b[0m\u001b[0;34m.\u001b[0m\u001b[0mto_topology\u001b[0m\u001b[0;34m(\u001b[0m\u001b[0;34m)\u001b[0m\u001b[0;34m)\u001b[0m\u001b[0;34m\u001b[0m\u001b[0;34m\u001b[0m\u001b[0m\n\u001b[0m",
      "\u001b[0;32m~/anaconda3/envs/espaloma/lib/python3.7/site-packages/openforcefield/typing/engines/smirnoff/forcefield.py\u001b[0m in \u001b[0;36mcreate_openmm_system\u001b[0;34m(self, topology, **kwargs)\u001b[0m\n\u001b[1;32m   1301\u001b[0m         \u001b[0;31m# Add forces and parameters to the System\u001b[0m\u001b[0;34m\u001b[0m\u001b[0;34m\u001b[0m\u001b[0;34m\u001b[0m\u001b[0m\n\u001b[1;32m   1302\u001b[0m         \u001b[0;32mfor\u001b[0m \u001b[0mparameter_handler\u001b[0m \u001b[0;32min\u001b[0m \u001b[0mparameter_handlers\u001b[0m\u001b[0;34m:\u001b[0m\u001b[0;34m\u001b[0m\u001b[0;34m\u001b[0m\u001b[0m\n\u001b[0;32m-> 1303\u001b[0;31m             \u001b[0mparameter_handler\u001b[0m\u001b[0;34m.\u001b[0m\u001b[0mcreate_force\u001b[0m\u001b[0;34m(\u001b[0m\u001b[0msystem\u001b[0m\u001b[0;34m,\u001b[0m \u001b[0mtopology\u001b[0m\u001b[0;34m,\u001b[0m \u001b[0;34m**\u001b[0m\u001b[0mkwargs\u001b[0m\u001b[0;34m)\u001b[0m\u001b[0;34m\u001b[0m\u001b[0;34m\u001b[0m\u001b[0m\n\u001b[0m\u001b[1;32m   1304\u001b[0m \u001b[0;34m\u001b[0m\u001b[0m\n\u001b[1;32m   1305\u001b[0m         \u001b[0;31m# Let force Handlers do postprocessing\u001b[0m\u001b[0;34m\u001b[0m\u001b[0;34m\u001b[0m\u001b[0;34m\u001b[0m\u001b[0m\n",
      "\u001b[0;32m~/anaconda3/envs/espaloma/lib/python3.7/site-packages/openforcefield/typing/engines/smirnoff/parameters.py\u001b[0m in \u001b[0;36mcreate_force\u001b[0;34m(self, system, topology, **kwargs)\u001b[0m\n\u001b[1;32m   4550\u001b[0m         \u001b[0mexisting\u001b[0m \u001b[0;34m=\u001b[0m \u001b[0;34m[\u001b[0m\u001b[0msystem\u001b[0m\u001b[0;34m.\u001b[0m\u001b[0mgetForce\u001b[0m\u001b[0;34m(\u001b[0m\u001b[0mi\u001b[0m\u001b[0;34m)\u001b[0m \u001b[0;32mfor\u001b[0m \u001b[0mi\u001b[0m \u001b[0;32min\u001b[0m \u001b[0mrange\u001b[0m\u001b[0;34m(\u001b[0m\u001b[0msystem\u001b[0m\u001b[0;34m.\u001b[0m\u001b[0mgetNumForces\u001b[0m\u001b[0;34m(\u001b[0m\u001b[0;34m)\u001b[0m\u001b[0;34m)\u001b[0m\u001b[0;34m]\u001b[0m\u001b[0;34m\u001b[0m\u001b[0;34m\u001b[0m\u001b[0m\n\u001b[1;32m   4551\u001b[0m         \u001b[0mexisting\u001b[0m \u001b[0;34m=\u001b[0m \u001b[0;34m[\u001b[0m\u001b[0mf\u001b[0m \u001b[0;32mfor\u001b[0m \u001b[0mf\u001b[0m \u001b[0;32min\u001b[0m \u001b[0mexisting\u001b[0m \u001b[0;32mif\u001b[0m \u001b[0mtype\u001b[0m\u001b[0;34m(\u001b[0m\u001b[0mf\u001b[0m\u001b[0;34m)\u001b[0m \u001b[0;34m==\u001b[0m \u001b[0mopenmm\u001b[0m\u001b[0;34m.\u001b[0m\u001b[0mNonbondedForce\u001b[0m\u001b[0;34m]\u001b[0m\u001b[0;34m\u001b[0m\u001b[0;34m\u001b[0m\u001b[0m\n\u001b[0;32m-> 4552\u001b[0;31m         \u001b[0;32massert\u001b[0m \u001b[0mlen\u001b[0m\u001b[0;34m(\u001b[0m\u001b[0mexisting\u001b[0m\u001b[0;34m)\u001b[0m \u001b[0;34m==\u001b[0m \u001b[0;36m1\u001b[0m\u001b[0;34m\u001b[0m\u001b[0;34m\u001b[0m\u001b[0m\n\u001b[0m\u001b[1;32m   4553\u001b[0m \u001b[0;34m\u001b[0m\u001b[0m\n\u001b[1;32m   4554\u001b[0m         \u001b[0mnonbonded_force\u001b[0m \u001b[0;34m=\u001b[0m \u001b[0mexisting\u001b[0m\u001b[0;34m[\u001b[0m\u001b[0;36m0\u001b[0m\u001b[0;34m]\u001b[0m\u001b[0;34m\u001b[0m\u001b[0;34m\u001b[0m\u001b[0m\n",
      "\u001b[0;31mAssertionError\u001b[0m: "
     ]
    }
   ],
   "source": [
    "gbsa_forcefield.create_openmm_system(o.to_topology())"
   ]
  },
  {
   "cell_type": "markdown",
   "metadata": {},
   "source": [
    "Hmm, can't directly create a GBSA only system, will create a valence + GBSA system and delete valence..."
   ]
  },
  {
   "cell_type": "code",
   "execution_count": null,
   "metadata": {},
   "outputs": [],
   "source": []
  }
 ],
 "metadata": {
  "kernelspec": {
   "display_name": "Python [conda env:espaloma]",
   "language": "python",
   "name": "conda-env-espaloma-py"
  },
  "language_info": {
   "codemirror_mode": {
    "name": "ipython",
    "version": 3
   },
   "file_extension": ".py",
   "mimetype": "text/x-python",
   "name": "python",
   "nbconvert_exporter": "python",
   "pygments_lexer": "ipython3",
   "version": "3.7.8"
  }
 },
 "nbformat": 4,
 "nbformat_minor": 4
}
