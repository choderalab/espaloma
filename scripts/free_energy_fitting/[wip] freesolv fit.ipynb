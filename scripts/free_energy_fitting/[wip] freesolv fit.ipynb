{
 "cells": [
  {
   "cell_type": "code",
   "execution_count": 1,
   "metadata": {},
   "outputs": [],
   "source": [
    "import pandas as pd\n",
    "import matplotlib.pyplot as plt"
   ]
  },
  {
   "cell_type": "code",
   "execution_count": 2,
   "metadata": {},
   "outputs": [],
   "source": [
    "import torch\n",
    "torch.set_default_dtype(torch.float64)\n",
    "\n",
    "import numpy as np"
   ]
  },
  {
   "cell_type": "code",
   "execution_count": 3,
   "metadata": {},
   "outputs": [
    {
     "data": {
      "application/vnd.jupyter.widget-view+json": {
       "model_id": "dd83a1177a1e4f75abfb01a6d5ba9851",
       "version_major": 2,
       "version_minor": 0
      },
      "text/plain": []
     },
     "metadata": {},
     "output_type": "display_data"
    }
   ],
   "source": [
    "df = pd.read_hdf('freesolv_with_samples.h5')"
   ]
  },
  {
   "cell_type": "code",
   "execution_count": 4,
   "metadata": {},
   "outputs": [
    {
     "name": "stderr",
     "output_type": "stream",
     "text": [
      "Using backend: pytorch\n"
     ]
    },
    {
     "data": {
      "text/plain": [
       "1052.5821686494048"
      ]
     },
     "execution_count": 4,
     "metadata": {},
     "output_type": "execute_result"
    }
   ],
   "source": [
    "from openmmtools.constants import kB\n",
    "from simtk import unit\n",
    "from espaloma.units import DISTANCE_UNIT, ENERGY_UNIT\n",
    "\n",
    "temperature = 300 * unit.kelvin\n",
    "kT = kB * temperature\n",
    "\n",
    "# conversion from espaloma energy unit to kT\n",
    "to_kT = 1.0 * ENERGY_UNIT / kT\n",
    "to_kT"
   ]
  },
  {
   "cell_type": "code",
   "execution_count": 5,
   "metadata": {},
   "outputs": [
    {
     "data": {
      "text/plain": [
       "Quantity(value=array([-0.09266   , -0.07967   , -0.07829   , -0.07824   , -0.12671   ,\n",
       "        0.63147002, -0.53658998, -0.44984001,  0.12808   ,  0.03392   ,\n",
       "        0.03392   ,  0.03392   ,  0.04138   ,  0.04138   ,  0.03957   ,\n",
       "        0.03957   ,  0.05656   ,  0.05656   ,  0.07839   ,  0.07839   ,\n",
       "        0.04963   ,  0.04963   ,  0.04963   ]), unit=elementary charge)"
      ]
     },
     "execution_count": 5,
     "metadata": {},
     "output_type": "execute_result"
    }
   ],
   "source": [
    "df['offmol']['mobley_1017962'].partial_charges"
   ]
  },
  {
   "cell_type": "code",
   "execution_count": 6,
   "metadata": {},
   "outputs": [],
   "source": [
    "from scipy.spatial.distance import pdist, squareform\n",
    "\n",
    "# these are espaloma units of bohr\n",
    "df['distance_matrices'] = None\n",
    "\n",
    "for key in df.index:\n",
    "    xyz = (df['quick_xyz'][key] * unit.nanometer).value_in_unit(DISTANCE_UNIT)\n",
    "    distance_matrices = [torch.tensor(squareform(pdist(conf))) for conf in xyz]\n",
    "    distance_matrices = torch.stack(distance_matrices)\n",
    "    df['distance_matrices'][key] = distance_matrices"
   ]
  },
  {
   "cell_type": "code",
   "execution_count": 7,
   "metadata": {},
   "outputs": [
    {
     "data": {
      "text/plain": [
       "Index(['SMILES',\n",
       "       'iupac name (or alternative if IUPAC is unavailable or not parseable by OEChem)',\n",
       "       'experimental value (kcal/mol)', 'experimental uncertainty (kcal/mol)',\n",
       "       'Mobley group calculated value (GAFF) (kcal/mol)',\n",
       "       'calculated uncertainty (kcal/mol)',\n",
       "       'experimental reference (original or paper this value was taken from)',\n",
       "       'calculated reference', 'text notes.', 'offmol',\n",
       "       'serialized_openmm_system', 'xyz', 'quick_xyz', 'distance_matrices'],\n",
       "      dtype='object')"
      ]
     },
     "execution_count": 7,
     "metadata": {},
     "output_type": "execute_result"
    }
   ],
   "source": [
    "df.columns"
   ]
  },
  {
   "cell_type": "code",
   "execution_count": 8,
   "metadata": {},
   "outputs": [],
   "source": [
    "from espaloma.mm.implicit import gbsa_obc2_energy"
   ]
  },
  {
   "cell_type": "code",
   "execution_count": 9,
   "metadata": {},
   "outputs": [],
   "source": [
    "def compute_obc2_energies(\n",
    "    distance_matrices,\n",
    "    radii, scales, charges,\n",
    "    alpha=0.8, beta=0.0, gamma=2.909125\n",
    "):\n",
    "    N = len(distance_matrices)\n",
    "    E_s = torch.zeros(N)\n",
    "    for i in range(N):\n",
    "        E_s[i] += gbsa_obc2_energy(\n",
    "            distance_matrices[i],\n",
    "            radii, scales, charges, \n",
    "            alpha, beta, gamma,\n",
    "        )\n",
    "    return E_s"
   ]
  },
  {
   "cell_type": "code",
   "execution_count": 10,
   "metadata": {},
   "outputs": [],
   "source": [
    "offmol = df['offmol'][key]"
   ]
  },
  {
   "cell_type": "code",
   "execution_count": 11,
   "metadata": {},
   "outputs": [],
   "source": [
    "from espaloma.redux.nn import TAG, MLP\n",
    "from espaloma.redux.symmetry import ValenceModel, Readouts, elements\n",
    "\n",
    "# radii, scales\n",
    "atom_dim = 2\n",
    "\n",
    "def initialize(hidden_dim=128, node_dim=128):\n",
    "    node_representation = TAG(in_dim=len(elements), hidden_dim=hidden_dim, out_dim=node_dim)\n",
    "    readouts = Readouts(atoms=MLP(node_dim, atom_dim), bonds=MLP(2 * node_dim, 2), angles=MLP(3 * node_dim, 2),\n",
    "                        propers=MLP(4 * node_dim, 6), impropers=MLP(4 * node_dim, 6))\n",
    "    graph_model = ValenceModel(node_representation, readouts)\n",
    "    return graph_model\n",
    "\n",
    "\n",
    "def predict_obc2_params(offmol, graph_model):\n",
    "    \"\"\"output of graph net's atom representation will initially be near zero, just offset by a constant\"\"\"\n",
    "    params = graph_model.forward(offmol)\n",
    "    radii = params.atoms[:,0] + 2\n",
    "    scales = params.atoms[:,1] + 1\n",
    "    return radii, scales"
   ]
  },
  {
   "cell_type": "code",
   "execution_count": 12,
   "metadata": {},
   "outputs": [],
   "source": [
    "def one_sided_exp(w):\n",
    "    delta_f = - (torch.logsumexp(- w, dim=(0,)) - np.log(len(w)))\n",
    "    return delta_f"
   ]
  },
  {
   "cell_type": "code",
   "execution_count": 13,
   "metadata": {},
   "outputs": [],
   "source": [
    "def predict_on_key(key: str, graph_model, batch_size: int = 25, verbose: bool = False) -> float:\n",
    "    offmol = df['offmol'][key]\n",
    "    \n",
    "    radii, scales = predict_obc2_params(offmol, graph_model)\n",
    "    \n",
    "    distance_matrices = df['distance_matrices'][key]\n",
    "    inds = np.random.randint(0, len(distance_matrices), size=batch_size)\n",
    "    \n",
    "    charges = torch.tensor(offmol.partial_charges / unit.elementary_charge)\n",
    "    \n",
    "    obc2_energies = compute_obc2_energies(distance_matrices[inds], radii, scales, charges)\n",
    "    if verbose:\n",
    "        print(obc2_energies)\n",
    "    w = obc2_energies * to_kT\n",
    "    pred_delta_f = one_sided_exp(w)\n",
    "    \n",
    "    return pred_delta_f"
   ]
  },
  {
   "cell_type": "code",
   "execution_count": 14,
   "metadata": {},
   "outputs": [
    {
     "data": {
      "text/plain": [
       "(321, 321)"
      ]
     },
     "execution_count": 14,
     "metadata": {},
     "output_type": "execute_result"
    }
   ],
   "source": [
    "np.random.seed(0)\n",
    "inds = list(df.index)\n",
    "np.random.shuffle(inds)\n",
    "train_inds = inds[::2]\n",
    "valid_inds = inds[1::2]\n",
    "len(train_inds), len(valid_inds)"
   ]
  },
  {
   "cell_type": "code",
   "execution_count": 15,
   "metadata": {},
   "outputs": [
    {
     "data": {
      "text/plain": [
       "['mobley_2422586',\n",
       " 'mobley_7688753',\n",
       " 'mobley_9100956',\n",
       " 'mobley_3715043',\n",
       " 'mobley_3234716',\n",
       " 'mobley_5282042',\n",
       " 'mobley_7415647',\n",
       " 'mobley_7608462',\n",
       " 'mobley_6743808',\n",
       " 'mobley_8789465',\n",
       " 'mobley_7578802',\n",
       " 'mobley_8052240',\n",
       " 'mobley_2802855',\n",
       " 'mobley_6854178',\n",
       " 'mobley_2178600',\n",
       " 'mobley_1977493',\n",
       " 'mobley_1733799',\n",
       " 'mobley_7608435',\n",
       " 'mobley_4762983',\n",
       " 'mobley_3266352',\n",
       " 'mobley_9028462',\n",
       " 'mobley_8614858',\n",
       " 'mobley_397645',\n",
       " 'mobley_4506634',\n",
       " 'mobley_994483',\n",
       " 'mobley_1760914',\n",
       " 'mobley_646007',\n",
       " 'mobley_1735893',\n",
       " 'mobley_755351',\n",
       " 'mobley_5518547',\n",
       " 'mobley_8311321',\n",
       " 'mobley_1261349',\n",
       " 'mobley_3761215',\n",
       " 'mobley_6303022',\n",
       " 'mobley_3269819',\n",
       " 'mobley_2972345',\n",
       " 'mobley_7610437',\n",
       " 'mobley_2681549',\n",
       " 'mobley_1855337',\n",
       " 'mobley_4305650',\n",
       " 'mobley_4694328',\n",
       " 'mobley_1019269',\n",
       " 'mobley_929676',\n",
       " 'mobley_8467917',\n",
       " 'mobley_8861672',\n",
       " 'mobley_1139153',\n",
       " 'mobley_9883303',\n",
       " 'mobley_1328465',\n",
       " 'mobley_676247',\n",
       " 'mobley_778352',\n",
       " 'mobley_3843583',\n",
       " 'mobley_2881590',\n",
       " 'mobley_2659552',\n",
       " 'mobley_9838013',\n",
       " 'mobley_303222',\n",
       " 'mobley_1636752',\n",
       " 'mobley_5263791',\n",
       " 'mobley_7599023',\n",
       " 'mobley_6456034',\n",
       " 'mobley_1858644',\n",
       " 'mobley_8191186',\n",
       " 'mobley_6060301',\n",
       " 'mobley_1160109',\n",
       " 'mobley_5026370',\n",
       " 'mobley_632905',\n",
       " 'mobley_6081058',\n",
       " 'mobley_7690440',\n",
       " 'mobley_20524',\n",
       " 'mobley_1873346',\n",
       " 'mobley_3323117',\n",
       " 'mobley_4845722',\n",
       " 'mobley_1079207',\n",
       " 'mobley_6632459',\n",
       " 'mobley_7015518',\n",
       " 'mobley_3690931',\n",
       " 'mobley_5286200',\n",
       " 'mobley_4883284',\n",
       " 'mobley_8809274',\n",
       " 'mobley_2371092',\n",
       " 'mobley_6843802',\n",
       " 'mobley_7375018',\n",
       " 'mobley_9897248',\n",
       " 'mobley_8057732',\n",
       " 'mobley_3980099',\n",
       " 'mobley_7261305',\n",
       " 'mobley_2501588',\n",
       " 'mobley_4780078',\n",
       " 'mobley_2123854',\n",
       " 'mobley_8713762',\n",
       " 'mobley_4039055',\n",
       " 'mobley_5347550',\n",
       " 'mobley_3968043',\n",
       " 'mobley_6190089',\n",
       " 'mobley_7150646',\n",
       " 'mobley_1728386',\n",
       " 'mobley_6929123',\n",
       " 'mobley_6235784',\n",
       " 'mobley_2261979',\n",
       " 'mobley_6416775',\n",
       " 'mobley_3976574',\n",
       " 'mobley_3325209',\n",
       " 'mobley_7829570',\n",
       " 'mobley_6250025',\n",
       " 'mobley_8966374',\n",
       " 'mobley_7378987',\n",
       " 'mobley_9073553',\n",
       " 'mobley_9729792',\n",
       " 'mobley_4690963',\n",
       " 'mobley_2279874',\n",
       " 'mobley_1881249',\n",
       " 'mobley_7768165',\n",
       " 'mobley_6248915',\n",
       " 'mobley_1036761',\n",
       " 'mobley_7364468',\n",
       " 'mobley_6359156',\n",
       " 'mobley_550662',\n",
       " 'mobley_8320545',\n",
       " 'mobley_628951',\n",
       " 'mobley_7735340',\n",
       " 'mobley_8883511',\n",
       " 'mobley_3639400',\n",
       " 'mobley_4964807',\n",
       " 'mobley_1278715',\n",
       " 'mobley_6257907',\n",
       " 'mobley_5890803',\n",
       " 'mobley_3151666',\n",
       " 'mobley_5760563',\n",
       " 'mobley_2837389',\n",
       " 'mobley_5747188',\n",
       " 'mobley_7106722',\n",
       " 'mobley_1323538',\n",
       " 'mobley_2481002',\n",
       " 'mobley_6935906',\n",
       " 'mobley_9407874',\n",
       " 'mobley_5571660',\n",
       " 'mobley_902954',\n",
       " 'mobley_3105103',\n",
       " 'mobley_1781152',\n",
       " 'mobley_2146331',\n",
       " 'mobley_6988468',\n",
       " 'mobley_1800170',\n",
       " 'mobley_5952846',\n",
       " 'mobley_4936555',\n",
       " 'mobley_5123639',\n",
       " 'mobley_5346580',\n",
       " 'mobley_2923700',\n",
       " 'mobley_8118832',\n",
       " 'mobley_6620221',\n",
       " 'mobley_2859600',\n",
       " 'mobley_2784376',\n",
       " 'mobley_5510474',\n",
       " 'mobley_4893032',\n",
       " 'mobley_1755375',\n",
       " 'mobley_627267',\n",
       " 'mobley_5471704',\n",
       " 'mobley_49274',\n",
       " 'mobley_4587267',\n",
       " 'mobley_7943327',\n",
       " 'mobley_7758918',\n",
       " 'mobley_1075836',\n",
       " 'mobley_6619554',\n",
       " 'mobley_5732611',\n",
       " 'mobley_1328936',\n",
       " 'mobley_4483973',\n",
       " 'mobley_4375719',\n",
       " 'mobley_4584540',\n",
       " 'mobley_8916409',\n",
       " 'mobley_2402487',\n",
       " 'mobley_9740891',\n",
       " 'mobley_5445548',\n",
       " 'mobley_9557440',\n",
       " 'mobley_9717937',\n",
       " 'mobley_5692472',\n",
       " 'mobley_6978427',\n",
       " 'mobley_3183805',\n",
       " 'mobley_7360181',\n",
       " 'mobley_2864987',\n",
       " 'mobley_1244778',\n",
       " 'mobley_2213823',\n",
       " 'mobley_9281946',\n",
       " 'mobley_5467162',\n",
       " 'mobley_8789864',\n",
       " 'mobley_6812653',\n",
       " 'mobley_7176290',\n",
       " 'mobley_7573149',\n",
       " 'mobley_2689721',\n",
       " 'mobley_1659169',\n",
       " 'mobley_9007496',\n",
       " 'mobley_5094777',\n",
       " 'mobley_8823527',\n",
       " 'mobley_5600967',\n",
       " 'mobley_1034539',\n",
       " 'mobley_3572203',\n",
       " 'mobley_2693089',\n",
       " 'mobley_3867265',\n",
       " 'mobley_8207196',\n",
       " 'mobley_6266306',\n",
       " 'mobley_7983227',\n",
       " 'mobley_2996632',\n",
       " 'mobley_5857',\n",
       " 'mobley_547634',\n",
       " 'mobley_7239499',\n",
       " 'mobley_852937',\n",
       " 'mobley_7203421',\n",
       " 'mobley_9112978',\n",
       " 'mobley_5977084',\n",
       " 'mobley_7066554',\n",
       " 'mobley_8492526',\n",
       " 'mobley_3727287',\n",
       " 'mobley_1563176',\n",
       " 'mobley_6430250',\n",
       " 'mobley_1722522',\n",
       " 'mobley_5393242',\n",
       " 'mobley_9534740',\n",
       " 'mobley_7010316',\n",
       " 'mobley_9510785',\n",
       " 'mobley_7298388',\n",
       " 'mobley_6739648',\n",
       " 'mobley_4850657',\n",
       " 'mobley_6309289',\n",
       " 'mobley_1903702',\n",
       " 'mobley_4699732',\n",
       " 'mobley_7326982',\n",
       " 'mobley_6794076',\n",
       " 'mobley_8311303',\n",
       " 'mobley_4934872',\n",
       " 'mobley_3515580',\n",
       " 'mobley_4188615',\n",
       " 'mobley_2792521',\n",
       " 'mobley_6474572',\n",
       " 'mobley_2607611',\n",
       " 'mobley_2198613',\n",
       " 'mobley_8337977',\n",
       " 'mobley_3452749',\n",
       " 'mobley_3167746',\n",
       " 'mobley_9029594',\n",
       " 'mobley_3746675',\n",
       " 'mobley_718988',\n",
       " 'mobley_1363784',\n",
       " 'mobley_349850',\n",
       " 'mobley_7794077',\n",
       " 'mobley_2489709',\n",
       " 'mobley_2295058',\n",
       " 'mobley_4338603',\n",
       " 'mobley_6804509',\n",
       " 'mobley_4465023',\n",
       " 'mobley_1944394',\n",
       " 'mobley_8221999',\n",
       " 'mobley_1199854',\n",
       " 'mobley_7227357',\n",
       " 'mobley_2410897',\n",
       " 'mobley_3686115',\n",
       " 'mobley_5631798',\n",
       " 'mobley_197466',\n",
       " 'mobley_2364370',\n",
       " 'mobley_859464',\n",
       " 'mobley_7176248',\n",
       " 'mobley_2294995',\n",
       " 'mobley_2771569',\n",
       " 'mobley_2609604',\n",
       " 'mobley_5110043',\n",
       " 'mobley_3982371',\n",
       " 'mobley_6338073',\n",
       " 'mobley_5220185',\n",
       " 'mobley_4371692',\n",
       " 'mobley_2078467',\n",
       " 'mobley_4561957',\n",
       " 'mobley_9201263',\n",
       " 'mobley_3083321',\n",
       " 'mobley_9705941',\n",
       " 'mobley_9246351',\n",
       " 'mobley_1527293',\n",
       " 'mobley_4924862',\n",
       " 'mobley_1717215',\n",
       " 'mobley_1615431',\n",
       " 'mobley_1674094',\n",
       " 'mobley_337666',\n",
       " 'mobley_242480',\n",
       " 'mobley_5917842',\n",
       " 'mobley_1352110',\n",
       " 'mobley_8578590',\n",
       " 'mobley_7859387',\n",
       " 'mobley_3269565',\n",
       " 'mobley_8573194',\n",
       " 'mobley_468867',\n",
       " 'mobley_3259411',\n",
       " 'mobley_9617923',\n",
       " 'mobley_4884177',\n",
       " 'mobley_5880265',\n",
       " 'mobley_2661134',\n",
       " 'mobley_2493732',\n",
       " 'mobley_511661',\n",
       " 'mobley_1976156',\n",
       " 'mobley_6239320',\n",
       " 'mobley_1967551',\n",
       " 'mobley_2390199',\n",
       " 'mobley_1803862',\n",
       " 'mobley_4177472',\n",
       " 'mobley_6861308',\n",
       " 'mobley_6091882',\n",
       " 'mobley_4463913',\n",
       " 'mobley_8522124',\n",
       " 'mobley_9257453',\n",
       " 'mobley_1449384',\n",
       " 'mobley_7099614',\n",
       " 'mobley_2763835',\n",
       " 'mobley_8426916',\n",
       " 'mobley_430089',\n",
       " 'mobley_6522117',\n",
       " 'mobley_3006808',\n",
       " 'mobley_6973347',\n",
       " 'mobley_2341732',\n",
       " 'mobley_8260524',\n",
       " 'mobley_2972906',\n",
       " 'mobley_8525830',\n",
       " 'mobley_5006685',\n",
       " 'mobley_9197172',\n",
       " 'mobley_1893937',\n",
       " 'mobley_4494568',\n",
       " 'mobley_5627459',\n",
       " 'mobley_9733743']"
      ]
     },
     "execution_count": 15,
     "metadata": {},
     "output_type": "execute_result"
    }
   ],
   "source": [
    "train_inds"
   ]
  },
  {
   "cell_type": "code",
   "execution_count": 16,
   "metadata": {},
   "outputs": [],
   "source": [
    "from tqdm import tqdm"
   ]
  },
  {
   "cell_type": "code",
   "execution_count": 17,
   "metadata": {},
   "outputs": [
    {
     "name": "stderr",
     "output_type": "stream",
     "text": [
      "100%|██████████| 321/321 [00:14<00:00, 22.27it/s]\n"
     ]
    }
   ],
   "source": [
    "graph_model = initialize()\n",
    "\n",
    "preds = []\n",
    "for key in tqdm(train_inds):\n",
    "    preds.append(predict_on_key(key, graph_model))"
   ]
  },
  {
   "cell_type": "code",
   "execution_count": 18,
   "metadata": {},
   "outputs": [],
   "source": [
    "graph_model = initialize()"
   ]
  },
  {
   "cell_type": "code",
   "execution_count": 19,
   "metadata": {},
   "outputs": [],
   "source": [
    "learning_rate = 1e-4\n",
    "optimizer = torch.optim.Adam(graph_model.parameters(), lr=learning_rate)"
   ]
  },
  {
   "cell_type": "code",
   "execution_count": 20,
   "metadata": {},
   "outputs": [
    {
     "data": {
      "text/plain": [
       "['mobley_2422586',\n",
       " 'mobley_7688753',\n",
       " 'mobley_9100956',\n",
       " 'mobley_3715043',\n",
       " 'mobley_3234716',\n",
       " 'mobley_5282042',\n",
       " 'mobley_7415647',\n",
       " 'mobley_7608462',\n",
       " 'mobley_6743808',\n",
       " 'mobley_8789465']"
      ]
     },
     "execution_count": 20,
     "metadata": {},
     "output_type": "execute_result"
    }
   ],
   "source": [
    "# fit to a small chunk of the data\n",
    "keys = train_inds[:10]\n",
    "keys"
   ]
  },
  {
   "cell_type": "code",
   "execution_count": 21,
   "metadata": {},
   "outputs": [],
   "source": [
    "from openforcefield.topology import Molecule"
   ]
  },
  {
   "cell_type": "code",
   "execution_count": 22,
   "metadata": {},
   "outputs": [
    {
     "data": {
      "application/vnd.jupyter.widget-view+json": {
       "model_id": "eb9eb21502ae4ed4a8127974161dc45a",
       "version_major": 2,
       "version_minor": 0
      },
      "text/plain": [
       "NGLWidget()"
      ]
     },
     "metadata": {},
     "output_type": "display_data"
    }
   ],
   "source": [
    "df.offmol[keys[1]]"
   ]
  },
  {
   "cell_type": "code",
   "execution_count": 23,
   "metadata": {},
   "outputs": [
    {
     "name": "stderr",
     "output_type": "stream",
     "text": [
      "100%|██████████| 10/10 [00:00<00:00, 25.12it/s]\n"
     ]
    }
   ],
   "source": [
    "predict_dict = dict()\n",
    "for key in tqdm(keys):\n",
    "    predict_dict[key] = predict_on_key(key, graph_model)"
   ]
  },
  {
   "cell_type": "code",
   "execution_count": 24,
   "metadata": {},
   "outputs": [],
   "source": [
    "x = np.array([predict_dict[key].detach() * kT / unit.kilocalorie_per_mole for key in keys])\n",
    "y = [df['experimental value (kcal/mol)'][key] for key in keys]"
   ]
  },
  {
   "cell_type": "code",
   "execution_count": 25,
   "metadata": {},
   "outputs": [
    {
     "data": {
      "text/plain": [
       "(-4.706119994343831, -1.66)"
      ]
     },
     "execution_count": 25,
     "metadata": {},
     "output_type": "execute_result"
    }
   ],
   "source": [
    "x[0], y[0]"
   ]
  },
  {
   "cell_type": "code",
   "execution_count": 26,
   "metadata": {},
   "outputs": [
    {
     "data": {
      "text/plain": [
       "Text(0, 0.5, 'reference (kcal/mol)')"
      ]
     },
     "execution_count": 26,
     "metadata": {},
     "output_type": "execute_result"
    },
    {
     "data": {
      "image/png": "[encoded data removed]",
      "text/plain": [
       "<Figure size 432x288 with 1 Axes>"
      ]
     },
     "metadata": {
      "needs_background": "light"
     },
     "output_type": "display_data"
    }
   ],
   "source": [
    "import matplotlib.pyplot as plt\n",
    "plt.scatter(x, y)\n",
    "plt.xlabel('predicted (kcal/mol)')\n",
    "plt.ylabel('reference (kcal/mol)')"
   ]
  },
  {
   "cell_type": "code",
   "execution_count": 27,
   "metadata": {},
   "outputs": [
    {
     "name": "stderr",
     "output_type": "stream",
     "text": [
      "100%|██████████| 1000/1000 [06:05<00:00,  2.74it/s, rmse_in_kcalmol=0.754]\n"
     ]
    }
   ],
   "source": [
    "predictions = []\n",
    "\n",
    "batch_losses = []\n",
    "trange = tqdm(range(1000))\n",
    "\n",
    "n_mols_per_batch = 10\n",
    "n_snapshots_per_mol = 10\n",
    "\n",
    "\n",
    "for t in trange:\n",
    "    #keys = np.random.choice(train_inds, size=n_mols_per_batch)\n",
    "    \n",
    "    L = 0.0\n",
    "    for key in keys:\n",
    "        # make a free energy prediction using a random subset of snapshots for each key\n",
    "        prediction  = predict_on_key(key, graph_model, n_snapshots_per_mol)\n",
    "        target = (df['experimental value (kcal/mol)'][key] * unit.kilocalorie_per_mole) / kT\n",
    "    \n",
    "        # TODO: modify loss function to depend on experimental error and simulation error\n",
    "        L += (prediction - target)**2\n",
    "        predictions.append((t, key, prediction))\n",
    "    \n",
    "    L /= len(keys)\n",
    "\n",
    "    optimizer.zero_grad()\n",
    "    L.backward()\n",
    "    optimizer.step()\n",
    "    \n",
    "    batch_losses.append(L.detach().numpy())\n",
    "    rmse_in_kcalmol = np.sqrt(batch_losses[-1] * kT / unit.kilocalories_per_mole)\n",
    "    trange.set_postfix(rmse_in_kcalmol=rmse_in_kcalmol)"
   ]
  },
  {
   "cell_type": "code",
   "execution_count": 28,
   "metadata": {},
   "outputs": [],
   "source": [
    "rmse_in_kcalmol = [np.sqrt(b * kT / unit.kilocalories_per_mole) for b in batch_losses]"
   ]
  },
  {
   "cell_type": "code",
   "execution_count": 29,
   "metadata": {},
   "outputs": [
    {
     "data": {
      "text/plain": [
       "(0.0, 12.770631036114144)"
      ]
     },
     "execution_count": 29,
     "metadata": {},
     "output_type": "execute_result"
    },
    {
     "data": {
      "image/png": "[encoded data removed]",
      "text/plain": [
       "<Figure size 432x288 with 1 Axes>"
      ]
     },
     "metadata": {
      "needs_background": "light"
     },
     "output_type": "display_data"
    }
   ],
   "source": [
    "plt.plot(rmse_in_kcalmol)\n",
    "plt.ylim(0,)"
   ]
  },
  {
   "cell_type": "code",
   "execution_count": 30,
   "metadata": {},
   "outputs": [
    {
     "data": {
      "text/plain": [
       "(7.052731514648437, 0.650036070536531)"
      ]
     },
     "execution_count": 30,
     "metadata": {},
     "output_type": "execute_result"
    }
   ],
   "source": [
    "np.mean(rmse_in_kcalmol[:100]), np.mean(rmse_in_kcalmol[-100:])"
   ]
  },
  {
   "cell_type": "code",
   "execution_count": 31,
   "metadata": {},
   "outputs": [
    {
     "name": "stderr",
     "output_type": "stream",
     "text": [
      " 40%|████      | 4/10 [00:00<00:00, 15.79it/s]"
     ]
    },
    {
     "name": "stdout",
     "output_type": "stream",
     "text": [
      "tensor([-0.0011, -0.0010, -0.0008, -0.0008, -0.0010, -0.0010, -0.0009, -0.0008,\n",
      "        -0.0010, -0.0008, -0.0010, -0.0007, -0.0009, -0.0006, -0.0008, -0.0009,\n",
      "        -0.0008, -0.0009, -0.0010, -0.0009, -0.0007, -0.0007, -0.0008, -0.0011,\n",
      "        -0.0010], grad_fn=<CopySlices>)\n",
      "tensor([-0.0152, -0.0158, -0.0149, -0.0159, -0.0136, -0.0154, -0.0159, -0.0129,\n",
      "        -0.0146, -0.0151, -0.0161, -0.0148, -0.0154, -0.0146, -0.0147, -0.0145,\n",
      "        -0.0134, -0.0152, -0.0158, -0.0140, -0.0142, -0.0126, -0.0132, -0.0135,\n",
      "        -0.0150], grad_fn=<CopySlices>)\n",
      "tensor([0.0018, 0.0019, 0.0018, 0.0018, 0.0019, 0.0018, 0.0019, 0.0019, 0.0018,\n",
      "        0.0018, 0.0018, 0.0019, 0.0018, 0.0019, 0.0018, 0.0018, 0.0019, 0.0019,\n",
      "        0.0019, 0.0019, 0.0019, 0.0019, 0.0019, 0.0019, 0.0019],\n",
      "       grad_fn=<CopySlices>)\n",
      "tensor([-0.0056, -0.0042, -0.0050, -0.0049, -0.0053, -0.0050, -0.0053, -0.0055,\n",
      "        -0.0052, -0.0054, -0.0052, -0.0053, -0.0052, -0.0055, -0.0047, -0.0052,\n",
      "        -0.0052, -0.0053, -0.0053, -0.0050, -0.0053, -0.0050, -0.0048, -0.0049,\n",
      "        -0.0055], grad_fn=<CopySlices>)\n"
     ]
    },
    {
     "name": "stderr",
     "output_type": "stream",
     "text": [
      " 80%|████████  | 8/10 [00:00<00:00, 16.66it/s]"
     ]
    },
    {
     "name": "stdout",
     "output_type": "stream",
     "text": [
      "tensor([-0.0007, -0.0006, -0.0006, -0.0008, -0.0005, -0.0007, -0.0007, -0.0004,\n",
      "        -0.0006, -0.0007, -0.0006, -0.0007, -0.0004, -0.0008, -0.0011, -0.0012,\n",
      "        -0.0010, -0.0009, -0.0010, -0.0015, -0.0007, -0.0010, -0.0009, -0.0007,\n",
      "        -0.0007], grad_fn=<CopySlices>)\n",
      "tensor([-0.0112, -0.0117, -0.0110, -0.0117, -0.0113, -0.0108, -0.0120, -0.0108,\n",
      "        -0.0119, -0.0107, -0.0110, -0.0110, -0.0112, -0.0099, -0.0116, -0.0108,\n",
      "        -0.0121, -0.0111, -0.0116, -0.0120, -0.0110, -0.0110, -0.0116, -0.0107,\n",
      "        -0.0113], grad_fn=<CopySlices>)\n",
      "tensor([-0.0194, -0.0164, -0.0186, -0.0181, -0.0201, -0.0175, -0.0162, -0.0154,\n",
      "        -0.0172, -0.0164, -0.0154, -0.0204, -0.0187, -0.0151, -0.0172, -0.0188,\n",
      "        -0.0173, -0.0157, -0.0160, -0.0170, -0.0206, -0.0170, -0.0182, -0.0213,\n",
      "        -0.0146], grad_fn=<CopySlices>)\n",
      "tensor([-0.0019, -0.0021, -0.0019, -0.0017, -0.0022, -0.0016, -0.0018, -0.0018,\n",
      "        -0.0020, -0.0019, -0.0020, -0.0019, -0.0019, -0.0019, -0.0019, -0.0019,\n",
      "        -0.0017, -0.0019, -0.0017, -0.0019, -0.0019, -0.0016, -0.0017, -0.0018,\n",
      "        -0.0020], grad_fn=<CopySlices>)\n"
     ]
    },
    {
     "name": "stderr",
     "output_type": "stream",
     "text": [
      "\r",
      "100%|██████████| 10/10 [00:00<00:00, 17.48it/s]"
     ]
    },
    {
     "name": "stdout",
     "output_type": "stream",
     "text": [
      "tensor([-0.0097, -0.0095, -0.0104, -0.0100, -0.0097, -0.0095, -0.0105, -0.0098,\n",
      "        -0.0099, -0.0100, -0.0101, -0.0104, -0.0103, -0.0104, -0.0102, -0.0102,\n",
      "        -0.0089, -0.0097, -0.0095, -0.0100, -0.0096, -0.0101, -0.0104, -0.0095,\n",
      "        -0.0104], grad_fn=<CopySlices>)\n",
      "tensor([-0.0111, -0.0100, -0.0096, -0.0095, -0.0105, -0.0097, -0.0096, -0.0107,\n",
      "        -0.0104, -0.0094, -0.0101, -0.0094, -0.0095, -0.0098, -0.0103, -0.0096,\n",
      "        -0.0098, -0.0097, -0.0096, -0.0096, -0.0100, -0.0094, -0.0097, -0.0091,\n",
      "        -0.0096], grad_fn=<CopySlices>)\n"
     ]
    },
    {
     "name": "stderr",
     "output_type": "stream",
     "text": [
      "\n"
     ]
    }
   ],
   "source": [
    "final_predict_dict = dict()\n",
    "for key in tqdm(keys):\n",
    "    final_predict_dict[key] = predict_on_key(key, graph_model, verbose=True)"
   ]
  },
  {
   "cell_type": "code",
   "execution_count": 32,
   "metadata": {},
   "outputs": [],
   "source": [
    "x = np.array([final_predict_dict[key].detach() * kT / unit.kilocalorie_per_mole for key in keys])\n",
    "y = [df['experimental value (kcal/mol)'][key] for key in keys]"
   ]
  },
  {
   "cell_type": "code",
   "execution_count": 33,
   "metadata": {},
   "outputs": [
    {
     "data": {
      "text/plain": [
       "Text(0.5, 1.0, 'GBSA hydration free energies')"
      ]
     },
     "execution_count": 33,
     "metadata": {},
     "output_type": "execute_result"
    },
    {
     "data": {
      "image/png": "[encoded data removed]",
      "text/plain": [
       "<Figure size 432x288 with 1 Axes>"
      ]
     },
     "metadata": {
      "needs_background": "light"
     },
     "output_type": "display_data"
    }
   ],
   "source": [
    "plt.scatter(x, y)\n",
    "plt.xlabel('predicted (kcal/mol)')\n",
    "plt.ylabel('reference (kcal/mol)')\n",
    "plt.plot([min(y), max(y)], [min(y), max(y)])\n",
    "\n",
    "plt.title('GBSA hydration free energies')"
   ]
  },
  {
   "cell_type": "code",
   "execution_count": 34,
   "metadata": {},
   "outputs": [
    {
     "data": {
      "text/plain": [
       "(-12.032419477932498, 1.1626250789489185)"
      ]
     },
     "execution_count": 34,
     "metadata": {},
     "output_type": "execute_result"
    }
   ],
   "source": [
    "min(x), max(x)"
   ]
  },
  {
   "cell_type": "code",
   "execution_count": 50,
   "metadata": {},
   "outputs": [],
   "source": [
    "graph_model = initialize(hidden_dim=32, node_dim=32)\n",
    "learning_rate = 1e-3\n",
    "optimizer = torch.optim.Adam(graph_model.parameters(), lr=learning_rate)"
   ]
  },
  {
   "cell_type": "code",
   "execution_count": 51,
   "metadata": {},
   "outputs": [
    {
     "data": {
      "text/plain": [
       "321"
      ]
     },
     "execution_count": 51,
     "metadata": {},
     "output_type": "execute_result"
    }
   ],
   "source": [
    "keys = train_inds\n",
    "len(keys)"
   ]
  },
  {
   "cell_type": "code",
   "execution_count": null,
   "metadata": {},
   "outputs": [],
   "source": [
    "predictions = []\n",
    "\n",
    "batch_losses = []\n",
    "trange = tqdm(range(1000))\n",
    "\n",
    "n_mols_per_batch = 10\n",
    "n_snapshots_per_mol = 10\n",
    "\n",
    "\n",
    "for t in trange:\n",
    "    \n",
    "    # optionally subsample the training set...\n",
    "    keys = np.random.choice(train_inds, size=n_mols_per_batch)\n",
    "    \n",
    "    L = 0.0\n",
    "    for key in keys:\n",
    "        # make a free energy prediction using a random subset of snapshots for each key\n",
    "        prediction  = predict_on_key(key, graph_model, n_snapshots_per_mol)\n",
    "        target = (df['experimental value (kcal/mol)'][key] * unit.kilocalorie_per_mole) / kT\n",
    "    \n",
    "        # TODO: modify loss function to depend on experimental error and simulation error\n",
    "        L += (prediction - target)**2\n",
    "        predictions.append((t, key, prediction))\n",
    "    \n",
    "    L /= len(keys)\n",
    "\n",
    "    optimizer.zero_grad()\n",
    "    L.backward()\n",
    "    optimizer.step()\n",
    "    \n",
    "    batch_losses.append(L.detach().numpy())\n",
    "    rmse_in_kcalmol = np.sqrt(batch_losses[-1] * kT / unit.kilocalories_per_mole)\n",
    "    trange.set_postfix(rmse_in_kcalmol=rmse_in_kcalmol)"
   ]
  },
  {
   "cell_type": "code",
   "execution_count": 38,
   "metadata": {},
   "outputs": [],
   "source": [
    "rmse_in_kcalmol = [np.sqrt(b * kT / unit.kilocalories_per_mole) for b in batch_losses]"
   ]
  },
  {
   "cell_type": "code",
   "execution_count": 39,
   "metadata": {},
   "outputs": [
    {
     "data": {
      "text/plain": [
       "(0.0, 65.76610916306065)"
      ]
     },
     "execution_count": 39,
     "metadata": {},
     "output_type": "execute_result"
    },
    {
     "data": {
      "image/png": "[encoded data removed]",
      "text/plain": [
       "<Figure size 432x288 with 1 Axes>"
      ]
     },
     "metadata": {
      "needs_background": "light"
     },
     "output_type": "display_data"
    }
   ],
   "source": [
    "plt.plot(rmse_in_kcalmol)\n",
    "plt.ylim(0,)"
   ]
  },
  {
   "cell_type": "code",
   "execution_count": 42,
   "metadata": {},
   "outputs": [
    {
     "name": "stderr",
     "output_type": "stream",
     "text": [
      "100%|██████████| 642/642 [00:26<00:00, 24.18it/s]\n"
     ]
    }
   ],
   "source": [
    "final_predict_dict = dict()\n",
    "for key in tqdm(df.index):\n",
    "    final_predict_dict[key] = predict_on_key(key, graph_model)"
   ]
  },
  {
   "cell_type": "code",
   "execution_count": 43,
   "metadata": {},
   "outputs": [],
   "source": [
    "splits = {\n",
    "    'training': train_inds,\n",
    "    'validation': valid_inds,\n",
    "}"
   ]
  },
  {
   "cell_type": "code",
   "execution_count": 45,
   "metadata": {},
   "outputs": [
    {
     "data": {
      "image/png": "[encoded data removed]",
      "text/plain": [
       "<Figure size 864x432 with 2 Axes>"
      ]
     },
     "metadata": {
      "needs_background": "light"
     },
     "output_type": "display_data"
    }
   ],
   "source": [
    "plt.figure(figsize=(12,6))\n",
    "ax = None\n",
    "\n",
    "for i, split_name in enumerate(splits):\n",
    "    split = splits[split_name]\n",
    "    x = np.array([final_predict_dict[key].detach() * kT / unit.kilocalorie_per_mole for key in split])\n",
    "    y = np.array([df['experimental value (kcal/mol)'][key] for key in split])\n",
    "    \n",
    "    rmse = np.sqrt(np.mean((x - y)**2))\n",
    "    \n",
    "    ax = plt.subplot(1,2,i+1, sharex=ax, sharey=ax)\n",
    "    plt.scatter(x, y)\n",
    "    plt.xlabel('predicted (kcal/mol)')\n",
    "    plt.ylabel('reference (kcal/mol)')\n",
    "    plt.plot([min(y), max(y)], [min(y), max(y)])\n",
    "\n",
    "    plt.title(f'GBSA hydration free energies\\n({split_name} set: RMSE={rmse:.3f} kcal/mol)')\n",
    "plt.tight_layout()"
   ]
  },
  {
   "cell_type": "code",
   "execution_count": 46,
   "metadata": {},
   "outputs": [
    {
     "data": {
      "text/plain": [
       "3.6786284835937773"
      ]
     },
     "execution_count": 46,
     "metadata": {},
     "output_type": "execute_result"
    }
   ],
   "source": [
    "# comparable to the RMSE that would be obtained by predicting a constant\n",
    "np.sqrt(np.mean((y - np.mean(y))**2))"
   ]
  },
  {
   "cell_type": "code",
   "execution_count": 47,
   "metadata": {},
   "outputs": [],
   "source": [
    "# TODO: refine this!"
   ]
  },
  {
   "cell_type": "code",
   "execution_count": null,
   "metadata": {},
   "outputs": [],
   "source": []
  }
 ],
 "metadata": {
  "kernelspec": {
   "display_name": "Python [conda env:espaloma]",
   "language": "python",
   "name": "conda-env-espaloma-py"
  },
  "language_info": {
   "codemirror_mode": {
    "name": "ipython",
    "version": 3
   },
   "file_extension": ".py",
   "mimetype": "text/x-python",
   "name": "python",
   "nbconvert_exporter": "python",
   "pygments_lexer": "ipython3",
   "version": "3.7.8"
  }
 },
 "nbformat": 4,
 "nbformat_minor": 4
}
