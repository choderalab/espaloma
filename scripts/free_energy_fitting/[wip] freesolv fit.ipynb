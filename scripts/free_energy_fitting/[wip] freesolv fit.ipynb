{
 "cells": [
  {
   "cell_type": "code",
   "execution_count": 1,
   "metadata": {},
   "outputs": [],
   "source": [
    "import pandas as pd"
   ]
  },
  {
   "cell_type": "code",
   "execution_count": 2,
   "metadata": {},
   "outputs": [],
   "source": [
    "import torch\n",
    "torch.set_default_dtype(torch.float64)\n",
    "\n",
    "import numpy as np"
   ]
  },
  {
   "cell_type": "code",
   "execution_count": 3,
   "metadata": {},
   "outputs": [
    {
     "data": {
      "application/vnd.jupyter.widget-view+json": {
       "model_id": "2684c32645d24552bd420ff65287b9fd",
       "version_major": 2,
       "version_minor": 0
      },
      "text/plain": []
     },
     "metadata": {},
     "output_type": "display_data"
    }
   ],
   "source": [
    "df = pd.read_hdf('freesolv_with_samples.h5')"
   ]
  },
  {
   "cell_type": "code",
   "execution_count": 4,
   "metadata": {},
   "outputs": [
    {
     "name": "stderr",
     "output_type": "stream",
     "text": [
      "Using backend: pytorch\n"
     ]
    },
    {
     "data": {
      "text/plain": [
       "1052.5821686494048"
      ]
     },
     "execution_count": 4,
     "metadata": {},
     "output_type": "execute_result"
    }
   ],
   "source": [
    "from openmmtools.constants import kB\n",
    "from simtk import unit\n",
    "from espaloma.units import DISTANCE_UNIT, ENERGY_UNIT\n",
    "\n",
    "temperature = 300 * unit.kelvin\n",
    "kT = kB * temperature\n",
    "\n",
    "# conversion from espaloma energy unit to kT\n",
    "to_kT = 1.0 * ENERGY_UNIT / kT\n",
    "to_kT"
   ]
  },
  {
   "cell_type": "code",
   "execution_count": 5,
   "metadata": {},
   "outputs": [
    {
     "data": {
      "text/plain": [
       "Quantity(value=array([-0.09266   , -0.07967   , -0.07829   , -0.07824   , -0.12671   ,\n",
       "        0.63147002, -0.53658998, -0.44984001,  0.12808   ,  0.03392   ,\n",
       "        0.03392   ,  0.03392   ,  0.04138   ,  0.04138   ,  0.03957   ,\n",
       "        0.03957   ,  0.05656   ,  0.05656   ,  0.07839   ,  0.07839   ,\n",
       "        0.04963   ,  0.04963   ,  0.04963   ]), unit=elementary charge)"
      ]
     },
     "execution_count": 5,
     "metadata": {},
     "output_type": "execute_result"
    }
   ],
   "source": [
    "df['offmol']['mobley_1017962'].partial_charges"
   ]
  },
  {
   "cell_type": "code",
   "execution_count": 6,
   "metadata": {},
   "outputs": [],
   "source": [
    "from scipy.spatial.distance import pdist, squareform\n",
    "\n",
    "# these are espaloma units of bohr\n",
    "df['distance_matrices'] = None\n",
    "\n",
    "for key in df.index:\n",
    "    xyz = (df['quick_xyz'][key] * unit.nanometer).value_in_unit(DISTANCE_UNIT)\n",
    "    distance_matrices = [torch.tensor(squareform(pdist(conf))) for conf in xyz]\n",
    "    distance_matrices = torch.stack(distance_matrices)\n",
    "    df['distance_matrices'][key] = distance_matrices"
   ]
  },
  {
   "cell_type": "code",
   "execution_count": 7,
   "metadata": {},
   "outputs": [
    {
     "data": {
      "text/plain": [
       "Index(['SMILES',\n",
       "       'iupac name (or alternative if IUPAC is unavailable or not parseable by OEChem)',\n",
       "       'experimental value (kcal/mol)', 'experimental uncertainty (kcal/mol)',\n",
       "       'Mobley group calculated value (GAFF) (kcal/mol)',\n",
       "       'calculated uncertainty (kcal/mol)',\n",
       "       'experimental reference (original or paper this value was taken from)',\n",
       "       'calculated reference', 'text notes.', 'offmol',\n",
       "       'serialized_openmm_system', 'xyz', 'quick_xyz', 'distance_matrices'],\n",
       "      dtype='object')"
      ]
     },
     "execution_count": 7,
     "metadata": {},
     "output_type": "execute_result"
    }
   ],
   "source": [
    "df.columns"
   ]
  },
  {
   "cell_type": "code",
   "execution_count": 8,
   "metadata": {},
   "outputs": [],
   "source": [
    "from espaloma.mm.implicit import gbsa_obc2_energy"
   ]
  },
  {
   "cell_type": "code",
   "execution_count": 9,
   "metadata": {},
   "outputs": [],
   "source": [
    "def compute_obc2_energies(\n",
    "    distance_matrices,\n",
    "    radii, scales, charges,\n",
    "    alpha=0.8, beta=0.0, gamma=2.909125\n",
    "):\n",
    "    N = len(distance_matrices)\n",
    "    E_s = torch.zeros(N)\n",
    "    for i in range(N):\n",
    "        E_s[i] += gbsa_obc2_energy(\n",
    "            distance_matrices[i],\n",
    "            radii, scales, charges, \n",
    "            alpha, beta, gamma,\n",
    "        )\n",
    "    return E_s"
   ]
  },
  {
   "cell_type": "code",
   "execution_count": 10,
   "metadata": {},
   "outputs": [],
   "source": [
    "offmol = df['offmol'][key]"
   ]
  },
  {
   "cell_type": "code",
   "execution_count": 11,
   "metadata": {},
   "outputs": [],
   "source": [
    "from espaloma.redux.nn import TAG, MLP\n",
    "from espaloma.redux.symmetry import ValenceModel, Readouts, elements\n",
    "\n",
    "# radii, scales\n",
    "atom_dim = 2\n",
    "\n",
    "def initialize(hidden_dim=128, node_dim=128):\n",
    "    node_representation = TAG(in_dim=len(elements), hidden_dim=hidden_dim, out_dim=node_dim)\n",
    "    readouts = Readouts(atoms=MLP(node_dim, atom_dim), bonds=MLP(2 * node_dim, 2), angles=MLP(3 * node_dim, 2),\n",
    "                        propers=MLP(4 * node_dim, 6), impropers=MLP(4 * node_dim, 6))\n",
    "    graph_model = ValenceModel(node_representation, readouts)\n",
    "    return graph_model\n",
    "\n",
    "\n",
    "def predict_obc2_params(offmol, graph_model):\n",
    "    \"\"\"output of graph net's atom representation will initially be near zero, just offset by a constant\"\"\"\n",
    "    params = graph_model.forward(offmol)\n",
    "    radii = params.atoms[:,0] + 2\n",
    "    scales = params.atoms[:,1] + 1\n",
    "    return radii, scales"
   ]
  },
  {
   "cell_type": "code",
   "execution_count": 40,
   "metadata": {},
   "outputs": [],
   "source": [
    "def one_sided_exp(w):\n",
    "    delta_f = (torch.logsumexp(- w, dim=(0,)) - np.log(len(w)))\n",
    "    return delta_f"
   ]
  },
  {
   "cell_type": "code",
   "execution_count": 41,
   "metadata": {},
   "outputs": [],
   "source": [
    "def predict_on_key(key: str, graph_model, batch_size: int = 25, verbose: bool = False) -> float:\n",
    "    offmol = df['offmol'][key]\n",
    "    \n",
    "    radii, scales = predict_obc2_params(offmol, graph_model)\n",
    "    \n",
    "    distance_matrices = df['distance_matrices'][key]\n",
    "    inds = np.random.randint(0, len(distance_matrices), size=batch_size)\n",
    "    \n",
    "    charges = torch.tensor(offmol.partial_charges / unit.elementary_charge)\n",
    "    \n",
    "    obc2_energies = compute_obc2_energies(distance_matrices[inds], radii, scales, charges)\n",
    "    if verbose:\n",
    "        print(obc2_energies)\n",
    "    w = obc2_energies * to_kT\n",
    "    pred_delta_f = one_sided_exp(w)\n",
    "    \n",
    "    return pred_delta_f"
   ]
  },
  {
   "cell_type": "code",
   "execution_count": 42,
   "metadata": {},
   "outputs": [
    {
     "data": {
      "text/plain": [
       "321"
      ]
     },
     "execution_count": 42,
     "metadata": {},
     "output_type": "execute_result"
    }
   ],
   "source": [
    "train_inds = list(df.index[::2])\n",
    "len(train_inds)"
   ]
  },
  {
   "cell_type": "code",
   "execution_count": 43,
   "metadata": {},
   "outputs": [
    {
     "data": {
      "text/plain": [
       "['mobley_1017962',\n",
       " 'mobley_1034539',\n",
       " 'mobley_1046331',\n",
       " 'mobley_1079207',\n",
       " 'mobley_1139153',\n",
       " 'mobley_1160109',\n",
       " 'mobley_1189457',\n",
       " 'mobley_1231151',\n",
       " 'mobley_1244778',\n",
       " 'mobley_1278715',\n",
       " 'mobley_1323538',\n",
       " 'mobley_1328936',\n",
       " 'mobley_1363784',\n",
       " 'mobley_1417007',\n",
       " 'mobley_1449384',\n",
       " 'mobley_1502181',\n",
       " 'mobley_1527293',\n",
       " 'mobley_1571523',\n",
       " 'mobley_1615431',\n",
       " 'mobley_1650157',\n",
       " 'mobley_1662128',\n",
       " 'mobley_1708457',\n",
       " 'mobley_1722522',\n",
       " 'mobley_1728386',\n",
       " 'mobley_1733799',\n",
       " 'mobley_1743409',\n",
       " 'mobley_1760914',\n",
       " 'mobley_1781152',\n",
       " 'mobley_1800170',\n",
       " 'mobley_1821184',\n",
       " 'mobley_1838110',\n",
       " 'mobley_1855337',\n",
       " 'mobley_1858644',\n",
       " 'mobley_1873346',\n",
       " 'mobley_1881249',\n",
       " 'mobley_1893937',\n",
       " 'mobley_1899443',\n",
       " 'mobley_1905088',\n",
       " 'mobley_1923244',\n",
       " 'mobley_194273',\n",
       " 'mobley_1952272',\n",
       " 'mobley_1967551',\n",
       " 'mobley_1976156',\n",
       " 'mobley_1987439',\n",
       " 'mobley_2008055',\n",
       " 'mobley_2043882',\n",
       " 'mobley_20524',\n",
       " 'mobley_2078467',\n",
       " 'mobley_210639',\n",
       " 'mobley_2126135',\n",
       " 'mobley_2146331',\n",
       " 'mobley_2183616',\n",
       " 'mobley_2198613',\n",
       " 'mobley_2245668',\n",
       " 'mobley_2269032',\n",
       " 'mobley_2294995',\n",
       " 'mobley_2310185',\n",
       " 'mobley_2328633',\n",
       " 'mobley_2354112',\n",
       " 'mobley_2371092',\n",
       " 'mobley_2402487',\n",
       " 'mobley_2422586',\n",
       " 'mobley_2451097',\n",
       " 'mobley_2481002',\n",
       " 'mobley_2487143',\n",
       " 'mobley_2492140',\n",
       " 'mobley_2501588',\n",
       " 'mobley_2518989',\n",
       " 'mobley_252413',\n",
       " 'mobley_2607611',\n",
       " 'mobley_2613240',\n",
       " 'mobley_2659552',\n",
       " 'mobley_2681549',\n",
       " 'mobley_2693089',\n",
       " 'mobley_2725802',\n",
       " 'mobley_2751110',\n",
       " 'mobley_2771569',\n",
       " 'mobley_2784376',\n",
       " 'mobley_2792521',\n",
       " 'mobley_282648',\n",
       " 'mobley_2844990',\n",
       " 'mobley_2850833',\n",
       " 'mobley_2864987',\n",
       " 'mobley_2913224',\n",
       " 'mobley_2925352',\n",
       " 'mobley_2958326',\n",
       " 'mobley_296847',\n",
       " 'mobley_2972906',\n",
       " 'mobley_2996632',\n",
       " 'mobley_303222',\n",
       " 'mobley_3040612',\n",
       " 'mobley_3053621',\n",
       " 'mobley_3083321',\n",
       " 'mobley_313406',\n",
       " 'mobley_3151666',\n",
       " 'mobley_3169935',\n",
       " 'mobley_3187514',\n",
       " 'mobley_3210206',\n",
       " 'mobley_3234716',\n",
       " 'mobley_3264884',\n",
       " 'mobley_3266352',\n",
       " 'mobley_3269819',\n",
       " 'mobley_3318135',\n",
       " 'mobley_3325209',\n",
       " 'mobley_3370989',\n",
       " 'mobley_3378420',\n",
       " 'mobley_3398536',\n",
       " 'mobley_3425174',\n",
       " 'mobley_349850',\n",
       " 'mobley_352111',\n",
       " 'mobley_3546460',\n",
       " 'mobley_3573480',\n",
       " 'mobley_36119',\n",
       " 'mobley_3663158',\n",
       " 'mobley_3686115',\n",
       " 'mobley_3709920',\n",
       " 'mobley_3727287',\n",
       " 'mobley_3746675',\n",
       " 'mobley_3762186',\n",
       " 'mobley_3777264',\n",
       " 'mobley_3843583',\n",
       " 'mobley_3968043',\n",
       " 'mobley_3969312',\n",
       " 'mobley_3976574',\n",
       " 'mobley_3982371',\n",
       " 'mobley_4013838',\n",
       " 'mobley_4039055',\n",
       " 'mobley_4043987',\n",
       " 'mobley_4149784',\n",
       " 'mobley_4188615',\n",
       " 'mobley_4218209',\n",
       " 'mobley_4252724',\n",
       " 'mobley_4291494',\n",
       " 'mobley_4305650',\n",
       " 'mobley_4364398',\n",
       " 'mobley_4375719',\n",
       " 'mobley_4434915',\n",
       " 'mobley_4465023',\n",
       " 'mobley_4483973',\n",
       " 'mobley_4506634',\n",
       " 'mobley_4561957',\n",
       " 'mobley_4587267',\n",
       " 'mobley_4609460',\n",
       " 'mobley_4620651',\n",
       " 'mobley_4639255',\n",
       " 'mobley_4683624',\n",
       " 'mobley_468867',\n",
       " 'mobley_4694328',\n",
       " 'mobley_4715906',\n",
       " 'mobley_4762983',\n",
       " 'mobley_4792268',\n",
       " 'mobley_4850657',\n",
       " 'mobley_4883284',\n",
       " 'mobley_4893032',\n",
       " 'mobley_49274',\n",
       " 'mobley_4936555',\n",
       " 'mobley_4983965',\n",
       " 'mobley_5006685',\n",
       " 'mobley_5052949',\n",
       " 'mobley_5063386',\n",
       " 'mobley_5076071',\n",
       " 'mobley_5094777',\n",
       " 'mobley_511661',\n",
       " 'mobley_5157661',\n",
       " 'mobley_5220185',\n",
       " 'mobley_5263791',\n",
       " 'mobley_5282042',\n",
       " 'mobley_5310099',\n",
       " 'mobley_5326154',\n",
       " 'mobley_5347550',\n",
       " 'mobley_5390332',\n",
       " 'mobley_5445548',\n",
       " 'mobley_5456566',\n",
       " 'mobley_5471704',\n",
       " 'mobley_5494918',\n",
       " 'mobley_550662',\n",
       " 'mobley_5518547',\n",
       " 'mobley_5538249',\n",
       " 'mobley_5571660',\n",
       " 'mobley_5616693',\n",
       " 'mobley_5631798',\n",
       " 'mobley_5690766',\n",
       " 'mobley_5708811',\n",
       " 'mobley_5747188',\n",
       " 'mobley_5759258',\n",
       " 'mobley_5816127',\n",
       " 'mobley_5857',\n",
       " 'mobley_588781',\n",
       " 'mobley_590519',\n",
       " 'mobley_5935995',\n",
       " 'mobley_5952846',\n",
       " 'mobley_5977084',\n",
       " 'mobley_6055410',\n",
       " 'mobley_6081058',\n",
       " 'mobley_6091882',\n",
       " 'mobley_6115639',\n",
       " 'mobley_6190089',\n",
       " 'mobley_6198745',\n",
       " 'mobley_6232400',\n",
       " 'mobley_6239320',\n",
       " 'mobley_6250025',\n",
       " 'mobley_6266306',\n",
       " 'mobley_628086',\n",
       " 'mobley_6303022',\n",
       " 'mobley_632905',\n",
       " 'mobley_6338073',\n",
       " 'mobley_6358463',\n",
       " 'mobley_6359156',\n",
       " 'mobley_637522',\n",
       " 'mobley_6430250',\n",
       " 'mobley_646007',\n",
       " 'mobley_6497672',\n",
       " 'mobley_6571751',\n",
       " 'mobley_6620221',\n",
       " 'mobley_664966',\n",
       " 'mobley_6688723',\n",
       " 'mobley_6727159',\n",
       " 'mobley_6739648',\n",
       " 'mobley_676247',\n",
       " 'mobley_6804509',\n",
       " 'mobley_6843802',\n",
       " 'mobley_6861308',\n",
       " 'mobley_6911232',\n",
       " 'mobley_6929123',\n",
       " 'mobley_6973347',\n",
       " 'mobley_6981465',\n",
       " 'mobley_7009711',\n",
       " 'mobley_7015518',\n",
       " 'mobley_7039935',\n",
       " 'mobley_7066554',\n",
       " 'mobley_7106722',\n",
       " 'mobley_7150646',\n",
       " 'mobley_7176248',\n",
       " 'mobley_718988',\n",
       " 'mobley_7203421',\n",
       " 'mobley_7239499',\n",
       " 'mobley_7295828',\n",
       " 'mobley_7326706',\n",
       " 'mobley_7360181',\n",
       " 'mobley_7375018',\n",
       " 'mobley_7393673',\n",
       " 'mobley_7417968',\n",
       " 'mobley_7463408',\n",
       " 'mobley_7497999',\n",
       " 'mobley_7542832',\n",
       " 'mobley_7573149',\n",
       " 'mobley_7599023',\n",
       " 'mobley_7608462',\n",
       " 'mobley_766666',\n",
       " 'mobley_7688753',\n",
       " 'mobley_7708038',\n",
       " 'mobley_7735340',\n",
       " 'mobley_7758918',\n",
       " 'mobley_7769613',\n",
       " 'mobley_778352',\n",
       " 'mobley_7814642',\n",
       " 'mobley_7859387',\n",
       " 'mobley_7869158',\n",
       " 'mobley_7912193',\n",
       " 'mobley_7943327',\n",
       " 'mobley_7983227',\n",
       " 'mobley_8006582',\n",
       " 'mobley_8048190',\n",
       " 'mobley_8057732',\n",
       " 'mobley_8118832',\n",
       " 'mobley_8127829',\n",
       " 'mobley_8191186',\n",
       " 'mobley_820789',\n",
       " 'mobley_8221999',\n",
       " 'mobley_8311303',\n",
       " 'mobley_8320545',\n",
       " 'mobley_8337977',\n",
       " 'mobley_8427539',\n",
       " 'mobley_8449031',\n",
       " 'mobley_8492526',\n",
       " 'mobley_8522124',\n",
       " 'mobley_852937',\n",
       " 'mobley_8573194',\n",
       " 'mobley_859464',\n",
       " 'mobley_8668219',\n",
       " 'mobley_8691603',\n",
       " 'mobley_8713762',\n",
       " 'mobley_8739734',\n",
       " 'mobley_8754702',\n",
       " 'mobley_8765203',\n",
       " 'mobley_8785107',\n",
       " 'mobley_8789864',\n",
       " 'mobley_8809190',\n",
       " 'mobley_8823527',\n",
       " 'mobley_8861672',\n",
       " 'mobley_8883511',\n",
       " 'mobley_8899867',\n",
       " 'mobley_8966374',\n",
       " 'mobley_900088',\n",
       " 'mobley_9015240',\n",
       " 'mobley_902954',\n",
       " 'mobley_9055303',\n",
       " 'mobley_9100956',\n",
       " 'mobley_9114381',\n",
       " 'mobley_9139060',\n",
       " 'mobley_9197172',\n",
       " 'mobley_9209581',\n",
       " 'mobley_9246351',\n",
       " 'mobley_9281946',\n",
       " 'mobley_9407874',\n",
       " 'mobley_9434451',\n",
       " 'mobley_9478823',\n",
       " 'mobley_9510785',\n",
       " 'mobley_9534740',\n",
       " 'mobley_9565165',\n",
       " 'mobley_9617923',\n",
       " 'mobley_9626434',\n",
       " 'mobley_967099',\n",
       " 'mobley_9705941',\n",
       " 'mobley_9729792',\n",
       " 'mobley_9740891',\n",
       " 'mobley_9794857',\n",
       " 'mobley_9838013',\n",
       " 'mobley_9897248',\n",
       " 'mobley_9942801',\n",
       " 'mobley_9974966']"
      ]
     },
     "execution_count": 43,
     "metadata": {},
     "output_type": "execute_result"
    }
   ],
   "source": [
    "train_inds"
   ]
  },
  {
   "cell_type": "code",
   "execution_count": 44,
   "metadata": {},
   "outputs": [],
   "source": [
    "from tqdm import tqdm"
   ]
  },
  {
   "cell_type": "code",
   "execution_count": 45,
   "metadata": {},
   "outputs": [
    {
     "name": "stderr",
     "output_type": "stream",
     "text": [
      " 23%|██▎       | 73/321 [00:03<00:11, 21.08it/s]\n"
     ]
    },
    {
     "ename": "KeyboardInterrupt",
     "evalue": "",
     "output_type": "error",
     "traceback": [
      "\u001b[0;31m---------------------------------------------------------------------------\u001b[0m",
      "\u001b[0;31mKeyboardInterrupt\u001b[0m                         Traceback (most recent call last)",
      "\u001b[0;32m<ipython-input-45-a888f52654a3>\u001b[0m in \u001b[0;36m<module>\u001b[0;34m\u001b[0m\n\u001b[1;32m      3\u001b[0m \u001b[0mpreds\u001b[0m \u001b[0;34m=\u001b[0m \u001b[0;34m[\u001b[0m\u001b[0;34m]\u001b[0m\u001b[0;34m\u001b[0m\u001b[0;34m\u001b[0m\u001b[0m\n\u001b[1;32m      4\u001b[0m \u001b[0;32mfor\u001b[0m \u001b[0mkey\u001b[0m \u001b[0;32min\u001b[0m \u001b[0mtqdm\u001b[0m\u001b[0;34m(\u001b[0m\u001b[0mtrain_inds\u001b[0m\u001b[0;34m)\u001b[0m\u001b[0;34m:\u001b[0m\u001b[0;34m\u001b[0m\u001b[0;34m\u001b[0m\u001b[0m\n\u001b[0;32m----> 5\u001b[0;31m     \u001b[0mpreds\u001b[0m\u001b[0;34m.\u001b[0m\u001b[0mappend\u001b[0m\u001b[0;34m(\u001b[0m\u001b[0mpredict_on_key\u001b[0m\u001b[0;34m(\u001b[0m\u001b[0mkey\u001b[0m\u001b[0;34m,\u001b[0m \u001b[0mgraph_model\u001b[0m\u001b[0;34m)\u001b[0m\u001b[0;34m)\u001b[0m\u001b[0;34m\u001b[0m\u001b[0;34m\u001b[0m\u001b[0m\n\u001b[0m",
      "\u001b[0;32m<ipython-input-41-f2fe44da4062>\u001b[0m in \u001b[0;36mpredict_on_key\u001b[0;34m(key, graph_model, batch_size, verbose)\u001b[0m\n\u001b[1;32m      9\u001b[0m     \u001b[0mcharges\u001b[0m \u001b[0;34m=\u001b[0m \u001b[0mtorch\u001b[0m\u001b[0;34m.\u001b[0m\u001b[0mtensor\u001b[0m\u001b[0;34m(\u001b[0m\u001b[0moffmol\u001b[0m\u001b[0;34m.\u001b[0m\u001b[0mpartial_charges\u001b[0m \u001b[0;34m/\u001b[0m \u001b[0munit\u001b[0m\u001b[0;34m.\u001b[0m\u001b[0melementary_charge\u001b[0m\u001b[0;34m)\u001b[0m\u001b[0;34m\u001b[0m\u001b[0;34m\u001b[0m\u001b[0m\n\u001b[1;32m     10\u001b[0m \u001b[0;34m\u001b[0m\u001b[0m\n\u001b[0;32m---> 11\u001b[0;31m     \u001b[0mobc2_energies\u001b[0m \u001b[0;34m=\u001b[0m \u001b[0mcompute_obc2_energies\u001b[0m\u001b[0;34m(\u001b[0m\u001b[0mdistance_matrices\u001b[0m\u001b[0;34m[\u001b[0m\u001b[0minds\u001b[0m\u001b[0;34m]\u001b[0m\u001b[0;34m,\u001b[0m \u001b[0mradii\u001b[0m\u001b[0;34m,\u001b[0m \u001b[0mscales\u001b[0m\u001b[0;34m,\u001b[0m \u001b[0mcharges\u001b[0m\u001b[0;34m)\u001b[0m\u001b[0;34m\u001b[0m\u001b[0;34m\u001b[0m\u001b[0m\n\u001b[0m\u001b[1;32m     12\u001b[0m     \u001b[0;32mif\u001b[0m \u001b[0mverbose\u001b[0m\u001b[0;34m:\u001b[0m\u001b[0;34m\u001b[0m\u001b[0;34m\u001b[0m\u001b[0m\n\u001b[1;32m     13\u001b[0m         \u001b[0mprint\u001b[0m\u001b[0;34m(\u001b[0m\u001b[0mobc2_energies\u001b[0m\u001b[0;34m)\u001b[0m\u001b[0;34m\u001b[0m\u001b[0;34m\u001b[0m\u001b[0m\n",
      "\u001b[0;32m<ipython-input-9-a110f34b9983>\u001b[0m in \u001b[0;36mcompute_obc2_energies\u001b[0;34m(distance_matrices, radii, scales, charges, alpha, beta, gamma)\u001b[0m\n\u001b[1;32m     10\u001b[0m             \u001b[0mdistance_matrices\u001b[0m\u001b[0;34m[\u001b[0m\u001b[0mi\u001b[0m\u001b[0;34m]\u001b[0m\u001b[0;34m,\u001b[0m\u001b[0;34m\u001b[0m\u001b[0;34m\u001b[0m\u001b[0m\n\u001b[1;32m     11\u001b[0m             \u001b[0mradii\u001b[0m\u001b[0;34m,\u001b[0m \u001b[0mscales\u001b[0m\u001b[0;34m,\u001b[0m \u001b[0mcharges\u001b[0m\u001b[0;34m,\u001b[0m\u001b[0;34m\u001b[0m\u001b[0;34m\u001b[0m\u001b[0m\n\u001b[0;32m---> 12\u001b[0;31m             \u001b[0malpha\u001b[0m\u001b[0;34m,\u001b[0m \u001b[0mbeta\u001b[0m\u001b[0;34m,\u001b[0m \u001b[0mgamma\u001b[0m\u001b[0;34m,\u001b[0m\u001b[0;34m\u001b[0m\u001b[0;34m\u001b[0m\u001b[0m\n\u001b[0m\u001b[1;32m     13\u001b[0m         )\n\u001b[1;32m     14\u001b[0m     \u001b[0;32mreturn\u001b[0m \u001b[0mE_s\u001b[0m\u001b[0;34m\u001b[0m\u001b[0;34m\u001b[0m\u001b[0m\n",
      "\u001b[0;32m~/Documents/GitHub/espaloma/espaloma/mm/implicit.py\u001b[0m in \u001b[0;36mgbsa_obc2_energy\u001b[0;34m(distance_matrix_in_bohr, radii_in_bohr, scales, charges, alpha, beta, gamma, dielectric_offset, surface_tension, solute_dielectric, solvent_dielectric, probe_radius)\u001b[0m\n\u001b[1;32m    114\u001b[0m         \u001b[0msolute_dielectric\u001b[0m\u001b[0;34m=\u001b[0m\u001b[0msolute_dielectric\u001b[0m\u001b[0;34m,\u001b[0m\u001b[0;34m\u001b[0m\u001b[0;34m\u001b[0m\u001b[0m\n\u001b[1;32m    115\u001b[0m         \u001b[0msolvent_dielectric\u001b[0m\u001b[0;34m=\u001b[0m\u001b[0msolvent_dielectric\u001b[0m\u001b[0;34m,\u001b[0m\u001b[0;34m\u001b[0m\u001b[0;34m\u001b[0m\u001b[0m\n\u001b[0;32m--> 116\u001b[0;31m         \u001b[0mprobe_radius\u001b[0m\u001b[0;34m=\u001b[0m\u001b[0mprobe_radius\u001b[0m\u001b[0;34m,\u001b[0m\u001b[0;34m\u001b[0m\u001b[0;34m\u001b[0m\u001b[0m\n\u001b[0m\u001b[1;32m    117\u001b[0m     )\n\u001b[1;32m    118\u001b[0m \u001b[0;34m\u001b[0m\u001b[0m\n",
      "\u001b[0;32m~/Documents/GitHub/espaloma/espaloma/mm/implicit.py\u001b[0m in \u001b[0;36m_gbsa_obc2_energy_omm\u001b[0;34m(distance_matrix, radii, scales, charges, alpha, beta, gamma, dielectric_offset, surface_tension, solute_dielectric, solvent_dielectric, probe_radius)\u001b[0m\n\u001b[1;32m     65\u001b[0m \u001b[0;34m\u001b[0m\u001b[0m\n\u001b[1;32m     66\u001b[0m     psi_term = (psi_coefficient * psi) - (psi2_coefficient * psi ** 2) + (\n\u001b[0;32m---> 67\u001b[0;31m             psi3_coefficient * psi ** 3)\n\u001b[0m\u001b[1;32m     68\u001b[0m \u001b[0;34m\u001b[0m\u001b[0m\n\u001b[1;32m     69\u001b[0m     \u001b[0mB\u001b[0m \u001b[0;34m=\u001b[0m \u001b[0;36m1\u001b[0m \u001b[0;34m/\u001b[0m \u001b[0;34m(\u001b[0m\u001b[0;36m1\u001b[0m \u001b[0;34m/\u001b[0m \u001b[0moffset_radius\u001b[0m \u001b[0;34m-\u001b[0m \u001b[0mtorch\u001b[0m\u001b[0;34m.\u001b[0m\u001b[0mtanh\u001b[0m\u001b[0;34m(\u001b[0m\u001b[0mpsi_term\u001b[0m\u001b[0;34m)\u001b[0m \u001b[0;34m/\u001b[0m \u001b[0mradii\u001b[0m\u001b[0;34m)\u001b[0m\u001b[0;34m\u001b[0m\u001b[0;34m\u001b[0m\u001b[0m\n",
      "\u001b[0;31mKeyboardInterrupt\u001b[0m: "
     ]
    }
   ],
   "source": [
    "graph_model = initialize()\n",
    "\n",
    "preds = []\n",
    "for key in tqdm(train_inds):\n",
    "    preds.append(predict_on_key(key, graph_model))"
   ]
  },
  {
   "cell_type": "code",
   "execution_count": 46,
   "metadata": {},
   "outputs": [
    {
     "name": "stderr",
     "output_type": "stream",
     "text": [
      " 18%|█▊        | 57/321 [00:02<00:09, 27.77it/s]\n"
     ]
    },
    {
     "ename": "KeyboardInterrupt",
     "evalue": "",
     "output_type": "error",
     "traceback": [
      "\u001b[0;31m---------------------------------------------------------------------------\u001b[0m",
      "\u001b[0;31mKeyboardInterrupt\u001b[0m                         Traceback (most recent call last)",
      "\u001b[0;32m<ipython-input-46-b25e09a39eac>\u001b[0m in \u001b[0;36m<module>\u001b[0;34m\u001b[0m\n\u001b[1;32m      1\u001b[0m \u001b[0mpreds\u001b[0m \u001b[0;34m=\u001b[0m \u001b[0;34m[\u001b[0m\u001b[0;34m]\u001b[0m\u001b[0;34m\u001b[0m\u001b[0;34m\u001b[0m\u001b[0m\n\u001b[1;32m      2\u001b[0m \u001b[0;32mfor\u001b[0m \u001b[0mkey\u001b[0m \u001b[0;32min\u001b[0m \u001b[0mtqdm\u001b[0m\u001b[0;34m(\u001b[0m\u001b[0mtrain_inds\u001b[0m\u001b[0;34m)\u001b[0m\u001b[0;34m:\u001b[0m\u001b[0;34m\u001b[0m\u001b[0;34m\u001b[0m\u001b[0m\n\u001b[0;32m----> 3\u001b[0;31m     \u001b[0mpreds\u001b[0m\u001b[0;34m.\u001b[0m\u001b[0mappend\u001b[0m\u001b[0;34m(\u001b[0m\u001b[0mpredict_on_key\u001b[0m\u001b[0;34m(\u001b[0m\u001b[0mkey\u001b[0m\u001b[0;34m,\u001b[0m \u001b[0mgraph_model\u001b[0m\u001b[0;34m)\u001b[0m\u001b[0;34m)\u001b[0m\u001b[0;34m\u001b[0m\u001b[0;34m\u001b[0m\u001b[0m\n\u001b[0m",
      "\u001b[0;32m<ipython-input-41-f2fe44da4062>\u001b[0m in \u001b[0;36mpredict_on_key\u001b[0;34m(key, graph_model, batch_size, verbose)\u001b[0m\n\u001b[1;32m      9\u001b[0m     \u001b[0mcharges\u001b[0m \u001b[0;34m=\u001b[0m \u001b[0mtorch\u001b[0m\u001b[0;34m.\u001b[0m\u001b[0mtensor\u001b[0m\u001b[0;34m(\u001b[0m\u001b[0moffmol\u001b[0m\u001b[0;34m.\u001b[0m\u001b[0mpartial_charges\u001b[0m \u001b[0;34m/\u001b[0m \u001b[0munit\u001b[0m\u001b[0;34m.\u001b[0m\u001b[0melementary_charge\u001b[0m\u001b[0;34m)\u001b[0m\u001b[0;34m\u001b[0m\u001b[0;34m\u001b[0m\u001b[0m\n\u001b[1;32m     10\u001b[0m \u001b[0;34m\u001b[0m\u001b[0m\n\u001b[0;32m---> 11\u001b[0;31m     \u001b[0mobc2_energies\u001b[0m \u001b[0;34m=\u001b[0m \u001b[0mcompute_obc2_energies\u001b[0m\u001b[0;34m(\u001b[0m\u001b[0mdistance_matrices\u001b[0m\u001b[0;34m[\u001b[0m\u001b[0minds\u001b[0m\u001b[0;34m]\u001b[0m\u001b[0;34m,\u001b[0m \u001b[0mradii\u001b[0m\u001b[0;34m,\u001b[0m \u001b[0mscales\u001b[0m\u001b[0;34m,\u001b[0m \u001b[0mcharges\u001b[0m\u001b[0;34m)\u001b[0m\u001b[0;34m\u001b[0m\u001b[0;34m\u001b[0m\u001b[0m\n\u001b[0m\u001b[1;32m     12\u001b[0m     \u001b[0;32mif\u001b[0m \u001b[0mverbose\u001b[0m\u001b[0;34m:\u001b[0m\u001b[0;34m\u001b[0m\u001b[0;34m\u001b[0m\u001b[0m\n\u001b[1;32m     13\u001b[0m         \u001b[0mprint\u001b[0m\u001b[0;34m(\u001b[0m\u001b[0mobc2_energies\u001b[0m\u001b[0;34m)\u001b[0m\u001b[0;34m\u001b[0m\u001b[0;34m\u001b[0m\u001b[0m\n",
      "\u001b[0;32m<ipython-input-9-a110f34b9983>\u001b[0m in \u001b[0;36mcompute_obc2_energies\u001b[0;34m(distance_matrices, radii, scales, charges, alpha, beta, gamma)\u001b[0m\n\u001b[1;32m     10\u001b[0m             \u001b[0mdistance_matrices\u001b[0m\u001b[0;34m[\u001b[0m\u001b[0mi\u001b[0m\u001b[0;34m]\u001b[0m\u001b[0;34m,\u001b[0m\u001b[0;34m\u001b[0m\u001b[0;34m\u001b[0m\u001b[0m\n\u001b[1;32m     11\u001b[0m             \u001b[0mradii\u001b[0m\u001b[0;34m,\u001b[0m \u001b[0mscales\u001b[0m\u001b[0;34m,\u001b[0m \u001b[0mcharges\u001b[0m\u001b[0;34m,\u001b[0m\u001b[0;34m\u001b[0m\u001b[0;34m\u001b[0m\u001b[0m\n\u001b[0;32m---> 12\u001b[0;31m             \u001b[0malpha\u001b[0m\u001b[0;34m,\u001b[0m \u001b[0mbeta\u001b[0m\u001b[0;34m,\u001b[0m \u001b[0mgamma\u001b[0m\u001b[0;34m,\u001b[0m\u001b[0;34m\u001b[0m\u001b[0;34m\u001b[0m\u001b[0m\n\u001b[0m\u001b[1;32m     13\u001b[0m         )\n\u001b[1;32m     14\u001b[0m     \u001b[0;32mreturn\u001b[0m \u001b[0mE_s\u001b[0m\u001b[0;34m\u001b[0m\u001b[0;34m\u001b[0m\u001b[0m\n",
      "\u001b[0;32m~/Documents/GitHub/espaloma/espaloma/mm/implicit.py\u001b[0m in \u001b[0;36mgbsa_obc2_energy\u001b[0;34m(distance_matrix_in_bohr, radii_in_bohr, scales, charges, alpha, beta, gamma, dielectric_offset, surface_tension, solute_dielectric, solvent_dielectric, probe_radius)\u001b[0m\n\u001b[1;32m    104\u001b[0m     \u001b[0;31m# convert distances and radii into units of nanometers before proceeding\u001b[0m\u001b[0;34m\u001b[0m\u001b[0;34m\u001b[0m\u001b[0;34m\u001b[0m\u001b[0m\n\u001b[1;32m    105\u001b[0m     \u001b[0mdistance_matrix\u001b[0m \u001b[0;34m=\u001b[0m \u001b[0mdistance_matrix_in_bohr\u001b[0m \u001b[0;34m*\u001b[0m \u001b[0mdistance_to_nm\u001b[0m\u001b[0;34m\u001b[0m\u001b[0;34m\u001b[0m\u001b[0m\n\u001b[0;32m--> 106\u001b[0;31m     \u001b[0mradii\u001b[0m \u001b[0;34m=\u001b[0m \u001b[0mradii_in_bohr\u001b[0m \u001b[0;34m*\u001b[0m \u001b[0mdistance_to_nm\u001b[0m\u001b[0;34m\u001b[0m\u001b[0;34m\u001b[0m\u001b[0m\n\u001b[0m\u001b[1;32m    107\u001b[0m \u001b[0;34m\u001b[0m\u001b[0m\n\u001b[1;32m    108\u001b[0m     E = _gbsa_obc2_energy_omm(\n",
      "\u001b[0;31mKeyboardInterrupt\u001b[0m: "
     ]
    }
   ],
   "source": [
    "preds = []\n",
    "for key in tqdm(train_inds):\n",
    "    preds.append(predict_on_key(key, graph_model))"
   ]
  },
  {
   "cell_type": "code",
   "execution_count": 47,
   "metadata": {},
   "outputs": [],
   "source": [
    "graph_model = initialize()"
   ]
  },
  {
   "cell_type": "code",
   "execution_count": 48,
   "metadata": {},
   "outputs": [],
   "source": [
    "learning_rate = 1e-4\n",
    "optimizer = torch.optim.Adam(graph_model.parameters(), lr=learning_rate)"
   ]
  },
  {
   "cell_type": "code",
   "execution_count": 49,
   "metadata": {},
   "outputs": [
    {
     "data": {
      "text/plain": [
       "['mobley_1017962',\n",
       " 'mobley_1034539',\n",
       " 'mobley_1046331',\n",
       " 'mobley_1079207',\n",
       " 'mobley_1139153',\n",
       " 'mobley_1160109',\n",
       " 'mobley_1189457',\n",
       " 'mobley_1231151',\n",
       " 'mobley_1244778',\n",
       " 'mobley_1278715']"
      ]
     },
     "execution_count": 49,
     "metadata": {},
     "output_type": "execute_result"
    }
   ],
   "source": [
    "# fit to a small chunk of the data\n",
    "keys = train_inds[:10]\n",
    "keys"
   ]
  },
  {
   "cell_type": "code",
   "execution_count": 50,
   "metadata": {},
   "outputs": [],
   "source": [
    "from openforcefield.topology import Molecule"
   ]
  },
  {
   "cell_type": "code",
   "execution_count": 51,
   "metadata": {},
   "outputs": [
    {
     "data": {
      "application/vnd.jupyter.widget-view+json": {
       "model_id": "50390ff73b1e4f3e948903900f06f4f3",
       "version_major": 2,
       "version_minor": 0
      },
      "text/plain": [
       "NGLWidget(max_frame=1)"
      ]
     },
     "metadata": {},
     "output_type": "display_data"
    }
   ],
   "source": [
    "df.offmol[keys[1]]"
   ]
  },
  {
   "cell_type": "code",
   "execution_count": 52,
   "metadata": {},
   "outputs": [
    {
     "name": "stderr",
     "output_type": "stream",
     "text": [
      "100%|██████████| 10/10 [00:00<00:00, 17.72it/s]\n"
     ]
    }
   ],
   "source": [
    "predict_dict = dict()\n",
    "for key in tqdm(keys):\n",
    "    predict_dict[key] = predict_on_key(key, graph_model)"
   ]
  },
  {
   "cell_type": "code",
   "execution_count": 53,
   "metadata": {},
   "outputs": [],
   "source": [
    "x = np.array([predict_dict[key].detach() * kT / unit.kilocalorie_per_mole for key in keys])\n",
    "y = [df['experimental value (kcal/mol)'][key] for key in keys]"
   ]
  },
  {
   "cell_type": "code",
   "execution_count": 54,
   "metadata": {},
   "outputs": [
    {
     "data": {
      "text/plain": [
       "(-2.6361914088050113, -2.49)"
      ]
     },
     "execution_count": 54,
     "metadata": {},
     "output_type": "execute_result"
    }
   ],
   "source": [
    "x[0], y[0]"
   ]
  },
  {
   "cell_type": "code",
   "execution_count": 55,
   "metadata": {},
   "outputs": [
    {
     "data": {
      "text/plain": [
       "Text(0, 0.5, 'reference (kcal/mol)')"
      ]
     },
     "execution_count": 55,
     "metadata": {},
     "output_type": "execute_result"
    },
    {
     "data": {
      "image/png": "[encoded data removed]",
      "text/plain": [
       "<Figure size 432x288 with 1 Axes>"
      ]
     },
     "metadata": {
      "needs_background": "light"
     },
     "output_type": "display_data"
    }
   ],
   "source": [
    "import matplotlib.pyplot as plt\n",
    "plt.scatter(x, y)\n",
    "plt.xlabel('predicted (kcal/mol)')\n",
    "plt.ylabel('reference (kcal/mol)')"
   ]
  },
  {
   "cell_type": "markdown",
   "metadata": {},
   "source": [
    "##### Curious that these are always predicted positive..."
   ]
  },
  {
   "cell_type": "code",
   "execution_count": 27,
   "metadata": {},
   "outputs": [
    {
     "name": "stderr",
     "output_type": "stream",
     "text": [
      " 19%|█▉        | 192/1000 [01:10<04:58,  2.71it/s, rmse_in_kcalmol=3.92]\n"
     ]
    },
    {
     "ename": "KeyboardInterrupt",
     "evalue": "",
     "output_type": "error",
     "traceback": [
      "\u001b[0;31m---------------------------------------------------------------------------\u001b[0m",
      "\u001b[0;31mKeyboardInterrupt\u001b[0m                         Traceback (most recent call last)",
      "\u001b[0;32m<ipython-input-27-acf96f2220b7>\u001b[0m in \u001b[0;36m<module>\u001b[0;34m\u001b[0m\n\u001b[1;32m     14\u001b[0m     \u001b[0;32mfor\u001b[0m \u001b[0mkey\u001b[0m \u001b[0;32min\u001b[0m \u001b[0mkeys\u001b[0m\u001b[0;34m:\u001b[0m\u001b[0;34m\u001b[0m\u001b[0;34m\u001b[0m\u001b[0m\n\u001b[1;32m     15\u001b[0m         \u001b[0;31m# make a free energy prediction using a random subset of snapshots for each key\u001b[0m\u001b[0;34m\u001b[0m\u001b[0;34m\u001b[0m\u001b[0;34m\u001b[0m\u001b[0m\n\u001b[0;32m---> 16\u001b[0;31m         \u001b[0mprediction\u001b[0m  \u001b[0;34m=\u001b[0m \u001b[0mpredict_on_key\u001b[0m\u001b[0;34m(\u001b[0m\u001b[0mkey\u001b[0m\u001b[0;34m,\u001b[0m \u001b[0mgraph_model\u001b[0m\u001b[0;34m,\u001b[0m \u001b[0mn_snapshots_per_mol\u001b[0m\u001b[0;34m)\u001b[0m\u001b[0;34m\u001b[0m\u001b[0;34m\u001b[0m\u001b[0m\n\u001b[0m\u001b[1;32m     17\u001b[0m         \u001b[0mtarget\u001b[0m \u001b[0;34m=\u001b[0m \u001b[0;34m(\u001b[0m\u001b[0mdf\u001b[0m\u001b[0;34m[\u001b[0m\u001b[0;34m'experimental value (kcal/mol)'\u001b[0m\u001b[0;34m]\u001b[0m\u001b[0;34m[\u001b[0m\u001b[0mkey\u001b[0m\u001b[0;34m]\u001b[0m \u001b[0;34m*\u001b[0m \u001b[0munit\u001b[0m\u001b[0;34m.\u001b[0m\u001b[0mkilocalorie_per_mole\u001b[0m\u001b[0;34m)\u001b[0m \u001b[0;34m/\u001b[0m \u001b[0mkT\u001b[0m\u001b[0;34m\u001b[0m\u001b[0;34m\u001b[0m\u001b[0m\n\u001b[1;32m     18\u001b[0m \u001b[0;34m\u001b[0m\u001b[0m\n",
      "\u001b[0;32m<ipython-input-13-f2fe44da4062>\u001b[0m in \u001b[0;36mpredict_on_key\u001b[0;34m(key, graph_model, batch_size, verbose)\u001b[0m\n\u001b[1;32m      9\u001b[0m     \u001b[0mcharges\u001b[0m \u001b[0;34m=\u001b[0m \u001b[0mtorch\u001b[0m\u001b[0;34m.\u001b[0m\u001b[0mtensor\u001b[0m\u001b[0;34m(\u001b[0m\u001b[0moffmol\u001b[0m\u001b[0;34m.\u001b[0m\u001b[0mpartial_charges\u001b[0m \u001b[0;34m/\u001b[0m \u001b[0munit\u001b[0m\u001b[0;34m.\u001b[0m\u001b[0melementary_charge\u001b[0m\u001b[0;34m)\u001b[0m\u001b[0;34m\u001b[0m\u001b[0;34m\u001b[0m\u001b[0m\n\u001b[1;32m     10\u001b[0m \u001b[0;34m\u001b[0m\u001b[0m\n\u001b[0;32m---> 11\u001b[0;31m     \u001b[0mobc2_energies\u001b[0m \u001b[0;34m=\u001b[0m \u001b[0mcompute_obc2_energies\u001b[0m\u001b[0;34m(\u001b[0m\u001b[0mdistance_matrices\u001b[0m\u001b[0;34m[\u001b[0m\u001b[0minds\u001b[0m\u001b[0;34m]\u001b[0m\u001b[0;34m,\u001b[0m \u001b[0mradii\u001b[0m\u001b[0;34m,\u001b[0m \u001b[0mscales\u001b[0m\u001b[0;34m,\u001b[0m \u001b[0mcharges\u001b[0m\u001b[0;34m)\u001b[0m\u001b[0;34m\u001b[0m\u001b[0;34m\u001b[0m\u001b[0m\n\u001b[0m\u001b[1;32m     12\u001b[0m     \u001b[0;32mif\u001b[0m \u001b[0mverbose\u001b[0m\u001b[0;34m:\u001b[0m\u001b[0;34m\u001b[0m\u001b[0;34m\u001b[0m\u001b[0m\n\u001b[1;32m     13\u001b[0m         \u001b[0mprint\u001b[0m\u001b[0;34m(\u001b[0m\u001b[0mobc2_energies\u001b[0m\u001b[0;34m)\u001b[0m\u001b[0;34m\u001b[0m\u001b[0;34m\u001b[0m\u001b[0m\n",
      "\u001b[0;32m<ipython-input-9-a110f34b9983>\u001b[0m in \u001b[0;36mcompute_obc2_energies\u001b[0;34m(distance_matrices, radii, scales, charges, alpha, beta, gamma)\u001b[0m\n\u001b[1;32m     10\u001b[0m             \u001b[0mdistance_matrices\u001b[0m\u001b[0;34m[\u001b[0m\u001b[0mi\u001b[0m\u001b[0;34m]\u001b[0m\u001b[0;34m,\u001b[0m\u001b[0;34m\u001b[0m\u001b[0;34m\u001b[0m\u001b[0m\n\u001b[1;32m     11\u001b[0m             \u001b[0mradii\u001b[0m\u001b[0;34m,\u001b[0m \u001b[0mscales\u001b[0m\u001b[0;34m,\u001b[0m \u001b[0mcharges\u001b[0m\u001b[0;34m,\u001b[0m\u001b[0;34m\u001b[0m\u001b[0;34m\u001b[0m\u001b[0m\n\u001b[0;32m---> 12\u001b[0;31m             \u001b[0malpha\u001b[0m\u001b[0;34m,\u001b[0m \u001b[0mbeta\u001b[0m\u001b[0;34m,\u001b[0m \u001b[0mgamma\u001b[0m\u001b[0;34m,\u001b[0m\u001b[0;34m\u001b[0m\u001b[0;34m\u001b[0m\u001b[0m\n\u001b[0m\u001b[1;32m     13\u001b[0m         )\n\u001b[1;32m     14\u001b[0m     \u001b[0;32mreturn\u001b[0m \u001b[0mE_s\u001b[0m\u001b[0;34m\u001b[0m\u001b[0;34m\u001b[0m\u001b[0m\n",
      "\u001b[0;32m~/Documents/GitHub/espaloma/espaloma/mm/implicit.py\u001b[0m in \u001b[0;36mgbsa_obc2_energy\u001b[0;34m(distance_matrix_in_bohr, radii_in_bohr, scales, charges, alpha, beta, gamma, dielectric_offset, surface_tension, solute_dielectric, solvent_dielectric, probe_radius)\u001b[0m\n\u001b[1;32m    114\u001b[0m         \u001b[0msolute_dielectric\u001b[0m\u001b[0;34m=\u001b[0m\u001b[0msolute_dielectric\u001b[0m\u001b[0;34m,\u001b[0m\u001b[0;34m\u001b[0m\u001b[0;34m\u001b[0m\u001b[0m\n\u001b[1;32m    115\u001b[0m         \u001b[0msolvent_dielectric\u001b[0m\u001b[0;34m=\u001b[0m\u001b[0msolvent_dielectric\u001b[0m\u001b[0;34m,\u001b[0m\u001b[0;34m\u001b[0m\u001b[0;34m\u001b[0m\u001b[0m\n\u001b[0;32m--> 116\u001b[0;31m         \u001b[0mprobe_radius\u001b[0m\u001b[0;34m=\u001b[0m\u001b[0mprobe_radius\u001b[0m\u001b[0;34m,\u001b[0m\u001b[0;34m\u001b[0m\u001b[0;34m\u001b[0m\u001b[0m\n\u001b[0m\u001b[1;32m    117\u001b[0m     )\n\u001b[1;32m    118\u001b[0m \u001b[0;34m\u001b[0m\u001b[0m\n",
      "\u001b[0;32m~/Documents/GitHub/espaloma/espaloma/mm/implicit.py\u001b[0m in \u001b[0;36m_gbsa_obc2_energy_omm\u001b[0;34m(distance_matrix, radii, scales, charges, alpha, beta, gamma, dielectric_offset, surface_tension, solute_dielectric, solvent_dielectric, probe_radius)\u001b[0m\n\u001b[1;32m     50\u001b[0m         L / U) / r\n\u001b[1;32m     51\u001b[0m     \u001b[0;31m# handle the interior case\u001b[0m\u001b[0;34m\u001b[0m\u001b[0;34m\u001b[0m\u001b[0;34m\u001b[0m\u001b[0m\n\u001b[0;32m---> 52\u001b[0;31m     \u001b[0mI\u001b[0m \u001b[0;34m=\u001b[0m \u001b[0mtorch\u001b[0m\u001b[0;34m.\u001b[0m\u001b[0mwhere\u001b[0m\u001b[0;34m(\u001b[0m\u001b[0mor1\u001b[0m \u001b[0;34m<\u001b[0m \u001b[0;34m(\u001b[0m\u001b[0msr2\u001b[0m \u001b[0;34m-\u001b[0m \u001b[0mr\u001b[0m\u001b[0;34m)\u001b[0m\u001b[0;34m,\u001b[0m \u001b[0mI\u001b[0m \u001b[0;34m+\u001b[0m \u001b[0;36m2\u001b[0m \u001b[0;34m*\u001b[0m \u001b[0;34m(\u001b[0m\u001b[0;36m1\u001b[0m \u001b[0;34m/\u001b[0m \u001b[0mor1\u001b[0m \u001b[0;34m-\u001b[0m \u001b[0;36m1\u001b[0m \u001b[0;34m/\u001b[0m \u001b[0mL\u001b[0m\u001b[0;34m)\u001b[0m\u001b[0;34m,\u001b[0m \u001b[0mI\u001b[0m\u001b[0;34m)\u001b[0m\u001b[0;34m\u001b[0m\u001b[0;34m\u001b[0m\u001b[0m\n\u001b[0m\u001b[1;32m     53\u001b[0m     \u001b[0mI\u001b[0m \u001b[0;34m=\u001b[0m \u001b[0mstep\u001b[0m\u001b[0;34m(\u001b[0m\u001b[0mr\u001b[0m \u001b[0;34m+\u001b[0m \u001b[0msr2\u001b[0m \u001b[0;34m-\u001b[0m \u001b[0mor1\u001b[0m\u001b[0;34m)\u001b[0m \u001b[0;34m*\u001b[0m \u001b[0;36m0.5\u001b[0m \u001b[0;34m*\u001b[0m \u001b[0mI\u001b[0m  \u001b[0;31m# note the extra 0.5 here\u001b[0m\u001b[0;34m\u001b[0m\u001b[0;34m\u001b[0m\u001b[0m\n\u001b[1;32m     54\u001b[0m     \u001b[0mI\u001b[0m \u001b[0;34m-=\u001b[0m \u001b[0mtorch\u001b[0m\u001b[0;34m.\u001b[0m\u001b[0mdiag\u001b[0m\u001b[0;34m(\u001b[0m\u001b[0mtorch\u001b[0m\u001b[0;34m.\u001b[0m\u001b[0mdiag\u001b[0m\u001b[0;34m(\u001b[0m\u001b[0mI\u001b[0m\u001b[0;34m)\u001b[0m\u001b[0;34m)\u001b[0m\u001b[0;34m\u001b[0m\u001b[0;34m\u001b[0m\u001b[0m\n",
      "\u001b[0;31mKeyboardInterrupt\u001b[0m: "
     ]
    }
   ],
   "source": [
    "predictions = []\n",
    "\n",
    "batch_losses = []\n",
    "trange = tqdm(range(1000))\n",
    "\n",
    "n_mols_per_batch = 10\n",
    "n_snapshots_per_mol = 10\n",
    "\n",
    "\n",
    "for t in trange:\n",
    "    #keys = np.random.choice(train_inds, size=n_mols_per_batch)\n",
    "    \n",
    "    L = 0.0\n",
    "    for key in keys:\n",
    "        # make a free energy prediction using a random subset of snapshots for each key\n",
    "        prediction  = predict_on_key(key, graph_model, n_snapshots_per_mol)\n",
    "        target = (df['experimental value (kcal/mol)'][key] * unit.kilocalorie_per_mole) / kT\n",
    "    \n",
    "        # TODO: modify loss function to depend on experimental error and simulation error\n",
    "        L += (prediction - target)**2\n",
    "        predictions.append((t, key, prediction))\n",
    "    \n",
    "    L /= len(keys)\n",
    "\n",
    "    optimizer.zero_grad()\n",
    "    L.backward()\n",
    "    optimizer.step()\n",
    "    \n",
    "    batch_losses.append(L.detach().numpy())\n",
    "    rmse_in_kcalmol = np.sqrt(batch_losses[-1] * kT / unit.kilocalories_per_mole)\n",
    "    trange.set_postfix(rmse_in_kcalmol=rmse_in_kcalmol)"
   ]
  },
  {
   "cell_type": "code",
   "execution_count": 28,
   "metadata": {},
   "outputs": [],
   "source": [
    "rmse_in_kcalmol = [np.sqrt(b * kT / unit.kilocalories_per_mole) for b in batch_losses]"
   ]
  },
  {
   "cell_type": "code",
   "execution_count": 29,
   "metadata": {},
   "outputs": [
    {
     "data": {
      "text/plain": [
       "(0.0, 12.340199478140512)"
      ]
     },
     "execution_count": 29,
     "metadata": {},
     "output_type": "execute_result"
    },
    {
     "data": {
      "image/png": "[encoded data removed]",
      "text/plain": [
       "<Figure size 432x288 with 1 Axes>"
      ]
     },
     "metadata": {
      "needs_background": "light"
     },
     "output_type": "display_data"
    }
   ],
   "source": [
    "import matplotlib.pyplot as plt\n",
    "plt.plot(rmse_in_kcalmol)\n",
    "plt.ylim(0,)"
   ]
  },
  {
   "cell_type": "code",
   "execution_count": 30,
   "metadata": {},
   "outputs": [
    {
     "data": {
      "text/plain": [
       "(6.94120215982174, 3.9928625043905352)"
      ]
     },
     "execution_count": 30,
     "metadata": {},
     "output_type": "execute_result"
    }
   ],
   "source": [
    "np.mean(rmse_in_kcalmol[:100]), np.mean(rmse_in_kcalmol[-100:])"
   ]
  },
  {
   "cell_type": "code",
   "execution_count": 31,
   "metadata": {},
   "outputs": [
    {
     "name": "stderr",
     "output_type": "stream",
     "text": [
      " 30%|███       | 3/10 [00:00<00:00, 22.46it/s]"
     ]
    },
    {
     "name": "stdout",
     "output_type": "stream",
     "text": [
      "tensor([-1.3828e-06, -9.1827e-07, -1.8550e-06, -1.2739e-06, -4.7216e-07,\n",
      "        -3.6431e-07, -2.5594e-07, -3.6381e-09, -5.6672e-07, -6.7104e-07,\n",
      "        -9.1827e-07,  6.0305e-08, -1.1560e-07, -7.7305e-07, -6.3373e-07,\n",
      "        -8.7751e-07, -1.5999e-06, -1.4431e-06, -9.1827e-07,  1.4077e-07,\n",
      "         9.2865e-09,  1.9645e-07, -8.8365e-07, -2.2221e-06,  3.7633e-08],\n",
      "       grad_fn=<CopySlices>)\n",
      "tensor([1.1496e-04, 1.0982e-04, 9.3960e-05, 1.1496e-04, 8.4725e-05, 8.0141e-05,\n",
      "        8.2465e-05, 8.6202e-05, 9.3085e-05, 9.6847e-05, 9.7558e-05, 7.6240e-05,\n",
      "        8.6118e-05, 8.2432e-05, 8.3619e-05, 7.0814e-05, 8.6105e-05, 8.5659e-05,\n",
      "        9.8484e-05, 1.0471e-04, 9.5067e-05, 8.2077e-05, 9.8338e-05, 9.8338e-05,\n",
      "        8.6037e-05], grad_fn=<CopySlices>)\n",
      "tensor([-2.2980e-05, -1.9692e-05, -2.0390e-05, -2.1288e-05, -2.2049e-05,\n",
      "        -2.2476e-05, -2.2033e-05, -2.5099e-05, -2.2978e-05, -2.3078e-05,\n",
      "        -2.5413e-05, -2.1679e-05, -2.5125e-05, -2.5484e-05, -2.3379e-05,\n",
      "        -1.9624e-05, -2.2975e-05, -1.9186e-05, -2.4062e-05, -2.1276e-05,\n",
      "        -1.9968e-05, -2.2033e-05, -1.8912e-05, -2.1371e-05, -2.2651e-05],\n",
      "       grad_fn=<CopySlices>)\n",
      "tensor([3.1351e-05, 4.7414e-05, 4.0823e-05, 4.1971e-05, 3.3789e-05, 4.4502e-05,\n",
      "        4.9570e-05, 2.8420e-05, 5.7160e-05, 5.2950e-05, 5.1389e-05, 7.4577e-05,\n",
      "        5.4175e-05, 3.0210e-05, 2.9503e-05, 3.7694e-05, 4.1971e-05, 7.4577e-05,\n",
      "        4.6638e-05, 6.6695e-05, 4.0823e-05, 5.5881e-05, 5.8494e-05, 3.1663e-05,\n",
      "        3.0210e-05], grad_fn=<CopySlices>)\n",
      "tensor([-6.1279e-07, -6.1591e-07, -6.1032e-07, -5.9656e-07, -6.0131e-07,\n",
      "        -6.1768e-07, -6.1032e-07, -6.1275e-07, -5.9152e-07, -6.1275e-07,\n",
      "        -6.1135e-07, -6.1591e-07, -6.0698e-07, -6.0825e-07, -6.0130e-07,\n",
      "        -5.9522e-07, -6.1593e-07, -5.9644e-07, -6.0760e-07, -6.0237e-07,\n",
      "        -6.0864e-07, -6.1206e-07, -6.0372e-07, -6.1056e-07, -6.1428e-07],\n",
      "       grad_fn=<CopySlices>)\n",
      "tensor([-1.3140e-06, -9.9362e-07, -9.9362e-07, -2.3083e-06, -1.2924e-06,\n",
      "        -1.7530e-06, -1.2686e-06, -1.2509e-06, -7.9109e-07, -8.6713e-07,\n",
      "        -1.3845e-06, -1.3050e-06, -1.3509e-06, -1.4243e-06, -1.4243e-06,\n",
      "        -9.9362e-07, -1.7754e-06, -1.5550e-06, -9.5389e-07, -1.6436e-06,\n",
      "        -1.2311e-06, -1.3561e-06, -1.6474e-06, -1.0353e-06, -1.6622e-06],\n",
      "       grad_fn=<CopySlices>)\n"
     ]
    },
    {
     "name": "stderr",
     "output_type": "stream",
     "text": [
      "100%|██████████| 10/10 [00:00<00:00, 25.66it/s]"
     ]
    },
    {
     "name": "stdout",
     "output_type": "stream",
     "text": [
      "tensor([-5.9970e-06, -4.5307e-06, -3.7902e-06, -4.9577e-06, -6.2455e-06,\n",
      "        -4.6468e-06, -7.3552e-06, -5.5797e-06, -7.0606e-06, -5.5797e-06,\n",
      "        -6.0297e-06, -5.8646e-06, -6.0671e-06, -5.0655e-06, -5.0655e-06,\n",
      "        -5.8541e-06, -5.8463e-06, -7.2681e-06, -6.4089e-06, -5.3132e-06,\n",
      "        -6.6310e-06, -7.2681e-06, -6.4089e-06, -3.7902e-06, -7.2410e-06],\n",
      "       grad_fn=<CopySlices>)\n",
      "tensor([-5.9714e-06, -5.8022e-06, -4.9813e-06, -5.7171e-06, -5.3778e-06,\n",
      "        -6.7010e-06, -4.0000e-06, -5.0278e-06, -3.8259e-06, -3.7281e-06,\n",
      "        -5.4476e-06, -3.3640e-06, -4.0217e-06, -5.6084e-06, -6.0806e-06,\n",
      "        -3.4821e-06, -5.2972e-06, -3.8847e-06, -3.8847e-06, -4.1225e-06,\n",
      "        -3.8847e-06, -5.6084e-06, -4.0383e-06, -4.9115e-06, -5.8901e-06],\n",
      "       grad_fn=<CopySlices>)\n",
      "tensor([-6.9196e-07, -1.4105e-06, -6.9762e-07, -6.6031e-07, -1.0309e-06,\n",
      "        -1.4105e-06, -3.0493e-06, -4.2932e-06, -2.9701e-06, -1.3380e-06,\n",
      "        -2.6319e-06, -6.5646e-06, -5.5980e-06, -3.1515e-06, -2.8126e-06,\n",
      "        -1.3434e-06, -2.2461e-06, -6.1300e-06, -2.2783e-06, -2.2810e-06,\n",
      "        -3.4797e-06, -2.5891e-06, -2.1138e-06, -1.3434e-06, -2.8126e-06],\n",
      "       grad_fn=<CopySlices>)\n",
      "tensor([8.8026e-06, 5.5671e-06, 3.7297e-06, 4.6484e-06, 6.6713e-06, 9.5843e-06,\n",
      "        5.5597e-06, 3.2784e-06, 6.5686e-06, 4.2694e-06, 6.8048e-06, 6.7345e-06,\n",
      "        6.6713e-06, 5.6516e-06, 5.7804e-06, 5.0434e-06, 5.6117e-06, 7.3354e-06,\n",
      "        4.3477e-06, 3.5732e-06, 7.5489e-06, 8.4226e-06, 3.6013e-06, 6.3051e-06,\n",
      "        4.3655e-06], grad_fn=<CopySlices>)\n"
     ]
    },
    {
     "name": "stderr",
     "output_type": "stream",
     "text": [
      "\n"
     ]
    }
   ],
   "source": [
    "final_predict_dict = dict()\n",
    "for key in tqdm(keys):\n",
    "    final_predict_dict[key] = predict_on_key(key, graph_model, verbose=True)"
   ]
  },
  {
   "cell_type": "code",
   "execution_count": 34,
   "metadata": {},
   "outputs": [],
   "source": [
    "x = np.array([final_predict_dict[key].detach() * kT / unit.kilocalorie_per_mole for key in keys])\n",
    "y = [df['experimental value (kcal/mol)'][key] for key in keys]"
   ]
  },
  {
   "cell_type": "code",
   "execution_count": 38,
   "metadata": {},
   "outputs": [
    {
     "data": {
      "text/plain": [
       "Text(0.5, 1.0, 'GBSA hydration free energies')"
      ]
     },
     "execution_count": 38,
     "metadata": {},
     "output_type": "execute_result"
    },
    {
     "data": {
      "image/png": "[encoded data removed]",
      "text/plain": [
       "<Figure size 432x288 with 1 Axes>"
      ]
     },
     "metadata": {
      "needs_background": "light"
     },
     "output_type": "display_data"
    }
   ],
   "source": [
    "plt.scatter(x, y)\n",
    "plt.xlabel('predicted (kcal/mol)')\n",
    "plt.ylabel('reference (kcal/mol)')\n",
    "plt.plot([min(y), max(y)], [min(y), max(y)])\n",
    "\n",
    "plt.title('GBSA hydration free energies')"
   ]
  },
  {
   "cell_type": "code",
   "execution_count": 39,
   "metadata": {},
   "outputs": [
    {
     "data": {
      "text/plain": [
       "-0.013936956823974436"
      ]
     },
     "execution_count": 39,
     "metadata": {},
     "output_type": "execute_result"
    }
   ],
   "source": [
    "min(x)"
   ]
  },
  {
   "cell_type": "markdown",
   "metadata": {},
   "source": [
    "So it looks like it's having a really hard time making negative predictions, for some reason..."
   ]
  },
  {
   "cell_type": "code",
   "execution_count": null,
   "metadata": {},
   "outputs": [],
   "source": []
  }
 ],
 "metadata": {
  "kernelspec": {
   "display_name": "Python [conda env:espaloma]",
   "language": "python",
   "name": "conda-env-espaloma-py"
  },
  "language_info": {
   "codemirror_mode": {
    "name": "ipython",
    "version": 3
   },
   "file_extension": ".py",
   "mimetype": "text/x-python",
   "name": "python",
   "nbconvert_exporter": "python",
   "pygments_lexer": "ipython3",
   "version": "3.7.8"
  }
 },
 "nbformat": 4,
 "nbformat_minor": 4
}
