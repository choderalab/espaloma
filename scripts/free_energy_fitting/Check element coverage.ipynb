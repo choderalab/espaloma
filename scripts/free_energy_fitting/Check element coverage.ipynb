{
 "cells": [
  {
   "cell_type": "markdown",
   "metadata": {},
   "source": [
    "#### Concern: elements that appear only a handful of times\n",
    "\n",
    "The FreeSolv database contains a few elements that appear in just a handful of molecules, and may appear as outliers. It might be a good idea to generate a series of mini-freesolvs, formed by filtering by common elements.\n",
    "\n",
    "For example, {C, H, O} covers about 45% of the dataset and {C, H, N, O, S, Cl} covers about 90% of the dataset. Bromine, fluorine, phosphorus, and iodine appear just a few times, and compounds that contain these elements may be appear as outliers..."
   ]
  },
  {
   "cell_type": "code",
   "execution_count": 1,
   "metadata": {},
   "outputs": [
    {
     "data": {
      "application/vnd.jupyter.widget-view+json": {
       "model_id": "5f7064933ac14ca39a4b295317402fd3",
       "version_major": 2,
       "version_minor": 0
      },
      "text/plain": []
     },
     "metadata": {},
     "output_type": "display_data"
    }
   ],
   "source": [
    "import pandas as pd\n",
    "\n",
    "df = pd.read_hdf('freesolv.h5')"
   ]
  },
  {
   "cell_type": "code",
   "execution_count": 2,
   "metadata": {},
   "outputs": [],
   "source": [
    "elements = dict()\n",
    "for key in df.index:\n",
    "    elements[key] = set([a.element.symbol for a in df['offmol'][key].atoms])"
   ]
  },
  {
   "cell_type": "code",
   "execution_count": 3,
   "metadata": {},
   "outputs": [
    {
     "data": {
      "text/plain": [
       "{'Br', 'C', 'Cl', 'F', 'H', 'I', 'N', 'O', 'P', 'S'}"
      ]
     },
     "execution_count": 3,
     "metadata": {},
     "output_type": "execute_result"
    }
   ],
   "source": [
    "all_elements = set()\n",
    "for e in elements.values():\n",
    "    all_elements.update(e)\n",
    "all_elements"
   ]
  },
  {
   "cell_type": "markdown",
   "metadata": {},
   "source": [
    "#### Sort elements by frequency"
   ]
  },
  {
   "cell_type": "code",
   "execution_count": 4,
   "metadata": {},
   "outputs": [],
   "source": [
    "in_descending_order_of_popularity = sorted(all_elements, key=lambda i : - sum([i in e for e in elements.values()]))"
   ]
  },
  {
   "cell_type": "code",
   "execution_count": 5,
   "metadata": {},
   "outputs": [
    {
     "name": "stdout",
     "output_type": "stream",
     "text": [
      "element    # of molecules containing it\n",
      "C          639\n",
      "H          629\n",
      "O          344\n",
      "N          169\n",
      "Cl         114\n",
      "S          40\n",
      "F          35\n",
      "Br         25\n",
      "P          14\n",
      "I          12\n"
     ]
    }
   ],
   "source": [
    "print('element'.ljust(10), '# of molecules containing it')\n",
    "for element in in_descending_order_of_popularity:\n",
    "    print(element.ljust(10), sum([element in e for e in elements.values()]))"
   ]
  },
  {
   "cell_type": "code",
   "execution_count": 6,
   "metadata": {},
   "outputs": [],
   "source": [
    "from typing import Set, List\n",
    "def form_mini_freesolv(allowed_elements: Set[str]) -> List[str]:\n",
    "    mini_freesolv = []\n",
    "    for key in df.index:\n",
    "        offmol = df['offmol'][key]\n",
    "        if set([a.element.symbol for a in offmol.atoms]).issubset(allowed_elements):\n",
    "            mini_freesolv.append(key)\n",
    "    return mini_freesolv"
   ]
  },
  {
   "cell_type": "code",
   "execution_count": 7,
   "metadata": {},
   "outputs": [
    {
     "data": {
      "text/plain": [
       "300"
      ]
     },
     "execution_count": 7,
     "metadata": {},
     "output_type": "execute_result"
    }
   ],
   "source": [
    "len(form_mini_freesolv({'C', 'H', 'O'}))"
   ]
  },
  {
   "cell_type": "code",
   "execution_count": 8,
   "metadata": {},
   "outputs": [
    {
     "name": "stdout",
     "output_type": "stream",
     "text": [
      "elements                                 # molecules     coverage\n",
      "{C, H}                                   103             16.0%\n",
      "{C, H, O}                                300             46.7%\n",
      "{C, H, N, O}                             431             67.1%\n",
      "{C, Cl, H, N, O}                         529             82.4%\n",
      "{C, Cl, H, N, O, S}                      559             87.1%\n",
      "{C, Cl, F, H, N, O, S}                   591             92.1%\n",
      "{Br, C, Cl, F, H, N, O, S}               616             96.0%\n",
      "{Br, C, Cl, F, H, N, O, P, S}            630             98.1%\n",
      "{Br, C, Cl, F, H, I, N, O, P, S}         642             100.0%\n"
     ]
    }
   ],
   "source": [
    "print('elements'.ljust(40), '# molecules'.ljust(15), 'coverage')\n",
    "mini_free_solvs = dict()\n",
    "for i in range(1, len(in_descending_order_of_popularity)):\n",
    "    element_subset = set(in_descending_order_of_popularity[:i+1])\n",
    "    name = ', '.join(sorted(element_subset))\n",
    "    \n",
    "    mini_free_solvs[name] = form_mini_freesolv(element_subset)\n",
    "    elems = '{' + name + '}'\n",
    "    n_molecules = f'{len(mini_free_solvs[name])}'\n",
    "    coverage = f'{(100 * len(mini_free_solvs[name]) / len(df)):.1f}%'\n",
    "    \n",
    "    print(elems.ljust(40), n_molecules.ljust(15), coverage)"
   ]
  },
  {
   "cell_type": "code",
   "execution_count": null,
   "metadata": {},
   "outputs": [],
   "source": []
  }
 ],
 "metadata": {
  "kernelspec": {
   "display_name": "Python [conda env:espaloma]",
   "language": "python",
   "name": "conda-env-espaloma-py"
  },
  "language_info": {
   "codemirror_mode": {
    "name": "ipython",
    "version": 3
   },
   "file_extension": ".py",
   "mimetype": "text/x-python",
   "name": "python",
   "nbconvert_exporter": "python",
   "pygments_lexer": "ipython3",
   "version": "3.7.8"
  }
 },
 "nbformat": 4,
 "nbformat_minor": 4
}
