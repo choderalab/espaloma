{
 "cells": [
  {
   "cell_type": "code",
   "execution_count": 1,
   "metadata": {},
   "outputs": [],
   "source": [
    "import pandas as pd\n",
    "import matplotlib.pyplot as plt"
   ]
  },
  {
   "cell_type": "code",
   "execution_count": 2,
   "metadata": {},
   "outputs": [],
   "source": [
    "import torch\n",
    "torch.set_default_dtype(torch.float64)\n",
    "\n",
    "import numpy as np"
   ]
  },
  {
   "cell_type": "code",
   "execution_count": 3,
   "metadata": {},
   "outputs": [
    {
     "data": {
      "application/vnd.jupyter.widget-view+json": {
       "model_id": "828151423efd4476987f08ad1fa1d4ec",
       "version_major": 2,
       "version_minor": 0
      },
      "text/plain": []
     },
     "metadata": {},
     "output_type": "display_data"
    }
   ],
   "source": [
    "df = pd.read_hdf('freesolv_with_samples.h5')"
   ]
  },
  {
   "cell_type": "code",
   "execution_count": 4,
   "metadata": {},
   "outputs": [],
   "source": [
    "from openforcefield.topology import Molecule"
   ]
  },
  {
   "cell_type": "code",
   "execution_count": 5,
   "metadata": {},
   "outputs": [
    {
     "name": "stdout",
     "output_type": "stream",
     "text": [
      "300\n"
     ]
    }
   ],
   "source": [
    "inds = list(df.index)\n",
    "\n",
    "\n",
    "allowed_elements = {1, 6, 8}\n",
    "\n",
    "cho_freesolv = []\n",
    "for key in inds:\n",
    "    offmol = df['offmol'][key]\n",
    "    if set([a.atomic_number for a in offmol.atoms]).issubset(allowed_elements):\n",
    "        cho_freesolv.append(key)\n",
    "print(len(cho_freesolv))"
   ]
  },
  {
   "cell_type": "code",
   "execution_count": 6,
   "metadata": {},
   "outputs": [
    {
     "data": {
      "text/plain": [
       "(150, 150)"
      ]
     },
     "execution_count": 6,
     "metadata": {},
     "output_type": "execute_result"
    }
   ],
   "source": [
    "np.random.seed(0)\n",
    "inds = list(cho_freesolv)\n",
    "np.random.shuffle(inds)\n",
    "train_inds = inds[::2]\n",
    "valid_inds = inds[1::2]\n",
    "len(train_inds), len(valid_inds)"
   ]
  },
  {
   "cell_type": "code",
   "execution_count": 7,
   "metadata": {},
   "outputs": [
    {
     "name": "stderr",
     "output_type": "stream",
     "text": [
      "Using backend: pytorch\n"
     ]
    },
    {
     "data": {
      "text/plain": [
       "1052.5821686494048"
      ]
     },
     "execution_count": 7,
     "metadata": {},
     "output_type": "execute_result"
    }
   ],
   "source": [
    "from openmmtools.constants import kB\n",
    "from simtk import unit\n",
    "from espaloma.units import DISTANCE_UNIT, ENERGY_UNIT\n",
    "\n",
    "temperature = 300 * unit.kelvin\n",
    "kT = kB * temperature\n",
    "\n",
    "# conversion from espaloma energy unit to kT\n",
    "to_kT = 1.0 * ENERGY_UNIT / kT\n",
    "to_kT"
   ]
  },
  {
   "cell_type": "code",
   "execution_count": 8,
   "metadata": {},
   "outputs": [
    {
     "data": {
      "text/plain": [
       "Quantity(value=array([-0.09266   , -0.07967   , -0.07829   , -0.07824   , -0.12671   ,\n",
       "        0.63147002, -0.53658998, -0.44984001,  0.12808   ,  0.03392   ,\n",
       "        0.03392   ,  0.03392   ,  0.04138   ,  0.04138   ,  0.03957   ,\n",
       "        0.03957   ,  0.05656   ,  0.05656   ,  0.07839   ,  0.07839   ,\n",
       "        0.04963   ,  0.04963   ,  0.04963   ]), unit=elementary charge)"
      ]
     },
     "execution_count": 8,
     "metadata": {},
     "output_type": "execute_result"
    }
   ],
   "source": [
    "df['offmol']['mobley_1017962'].partial_charges"
   ]
  },
  {
   "cell_type": "code",
   "execution_count": 12,
   "metadata": {},
   "outputs": [],
   "source": [
    "from scipy.spatial.distance import pdist, squareform\n",
    "\n",
    "# these are espaloma units of bohr\n",
    "df['distance_matrices'] = None\n",
    "\n",
    "xyz_column = 'xyz'\n",
    "\n",
    "for key in df.index:\n",
    "    xyz = (df[xyz_column][key] * unit.nanometer).value_in_unit(DISTANCE_UNIT)\n",
    "    distance_matrices = [torch.tensor(squareform(pdist(conf))) for conf in xyz]\n",
    "    distance_matrices = torch.stack(distance_matrices)\n",
    "    df['distance_matrices'][key] = distance_matrices"
   ]
  },
  {
   "cell_type": "code",
   "execution_count": 13,
   "metadata": {},
   "outputs": [
    {
     "data": {
      "text/plain": [
       "Index(['SMILES',\n",
       "       'iupac name (or alternative if IUPAC is unavailable or not parseable by OEChem)',\n",
       "       'experimental value (kcal/mol)', 'experimental uncertainty (kcal/mol)',\n",
       "       'Mobley group calculated value (GAFF) (kcal/mol)',\n",
       "       'calculated uncertainty (kcal/mol)',\n",
       "       'experimental reference (original or paper this value was taken from)',\n",
       "       'calculated reference', 'text notes.', 'offmol',\n",
       "       'serialized_openmm_system', 'xyz', 'quick_xyz', 'distance_matrices'],\n",
       "      dtype='object')"
      ]
     },
     "execution_count": 13,
     "metadata": {},
     "output_type": "execute_result"
    }
   ],
   "source": [
    "df.columns"
   ]
  },
  {
   "cell_type": "code",
   "execution_count": 14,
   "metadata": {},
   "outputs": [],
   "source": [
    "from espaloma.mm.implicit import gbsa_obc2_energy"
   ]
  },
  {
   "cell_type": "code",
   "execution_count": 15,
   "metadata": {},
   "outputs": [],
   "source": [
    "def compute_obc2_energies(\n",
    "    distance_matrices,\n",
    "    radii, scales, charges,\n",
    "    alpha=0.8, beta=0.0, gamma=2.909125\n",
    "):\n",
    "    N = len(distance_matrices)\n",
    "    E_s = torch.zeros(N)\n",
    "    for i in range(N):\n",
    "        E_s[i] += gbsa_obc2_energy(\n",
    "            distance_matrices[i],\n",
    "            radii, scales, charges, \n",
    "            alpha, beta, gamma,\n",
    "        )\n",
    "    return E_s"
   ]
  },
  {
   "cell_type": "code",
   "execution_count": 16,
   "metadata": {},
   "outputs": [],
   "source": [
    "offmol = df['offmol'][key]"
   ]
  },
  {
   "cell_type": "code",
   "execution_count": 17,
   "metadata": {},
   "outputs": [],
   "source": [
    "from espaloma.redux.nn import TAG, MLP\n",
    "from espaloma.redux.symmetry import ValenceModel, Readouts, elements\n",
    "\n",
    "# radii, scales\n",
    "atom_dim = 2\n",
    "\n",
    "def initialize(hidden_dim=128, node_dim=128):\n",
    "    node_representation = TAG(in_dim=len(elements), hidden_dim=hidden_dim, out_dim=node_dim)\n",
    "    readouts = Readouts(atoms=MLP(node_dim, atom_dim), bonds=MLP(2 * node_dim, 2), angles=MLP(3 * node_dim, 2),\n",
    "                        propers=MLP(4 * node_dim, 6), impropers=MLP(4 * node_dim, 6))\n",
    "    graph_model = ValenceModel(node_representation, readouts)\n",
    "    return graph_model\n",
    "\n",
    "\n",
    "def predict_obc2_params(offmol, graph_model):\n",
    "    \"\"\"output of graph net's atom representation will initially be near zero, just offset by a constant\"\"\"\n",
    "    params = graph_model.forward(offmol)\n",
    "    radii = params.atoms[:,0] + 2.5\n",
    "    scales = params.atoms[:,1] + 1\n",
    "    return radii, scales"
   ]
  },
  {
   "cell_type": "code",
   "execution_count": 18,
   "metadata": {},
   "outputs": [],
   "source": [
    "def one_sided_exp(w):\n",
    "    delta_f = - (torch.logsumexp(- w, dim=(0,)) - np.log(len(w)))\n",
    "    return delta_f"
   ]
  },
  {
   "cell_type": "code",
   "execution_count": 19,
   "metadata": {},
   "outputs": [],
   "source": [
    "def predict_on_key(key: str, graph_model, batch_size: int = 25, verbose: bool = False) -> float:\n",
    "    offmol = df['offmol'][key]\n",
    "    \n",
    "    radii, scales = predict_obc2_params(offmol, graph_model)\n",
    "    \n",
    "    distance_matrices = df['distance_matrices'][key]\n",
    "    inds = np.random.randint(0, len(distance_matrices), size=batch_size)\n",
    "    \n",
    "    charges = torch.tensor(offmol.partial_charges / unit.elementary_charge)\n",
    "    \n",
    "    obc2_energies = compute_obc2_energies(distance_matrices[inds], radii, scales, charges)\n",
    "    if verbose:\n",
    "        print(obc2_energies)\n",
    "    w = obc2_energies * to_kT\n",
    "    pred_delta_f = one_sided_exp(w)\n",
    "    \n",
    "    return pred_delta_f"
   ]
  },
  {
   "cell_type": "code",
   "execution_count": 20,
   "metadata": {},
   "outputs": [
    {
     "data": {
      "text/plain": [
       "['mobley_6632459',\n",
       " 'mobley_1502181',\n",
       " 'mobley_7676709',\n",
       " 'mobley_7393673',\n",
       " 'mobley_2197088',\n",
       " 'mobley_9565165',\n",
       " 'mobley_5747981',\n",
       " 'mobley_172879',\n",
       " 'mobley_8754702',\n",
       " 'mobley_7375018',\n",
       " 'mobley_5890803',\n",
       " 'mobley_3715043',\n",
       " 'mobley_7017274',\n",
       " 'mobley_6081058',\n",
       " 'mobley_7497999',\n",
       " 'mobley_3053621',\n",
       " 'mobley_1261349',\n",
       " 'mobley_7009711',\n",
       " 'mobley_5467162',\n",
       " 'mobley_9942801',\n",
       " 'mobley_7039935',\n",
       " 'mobley_2859600',\n",
       " 'mobley_2261979',\n",
       " 'mobley_7573149',\n",
       " 'mobley_1244778',\n",
       " 'mobley_2609604',\n",
       " 'mobley_5390332',\n",
       " 'mobley_2295058',\n",
       " 'mobley_5157661',\n",
       " 'mobley_9197172',\n",
       " 'mobley_4035953',\n",
       " 'mobley_2354112',\n",
       " 'mobley_9246215',\n",
       " 'mobley_8118832',\n",
       " 'mobley_1717215',\n",
       " 'mobley_4792268',\n",
       " 'mobley_8809190',\n",
       " 'mobley_4587267',\n",
       " 'mobley_1967551',\n",
       " 'mobley_5917842',\n",
       " 'mobley_36119',\n",
       " 'mobley_8573194',\n",
       " 'mobley_7610437',\n",
       " 'mobley_6854178',\n",
       " 'mobley_820789',\n",
       " 'mobley_9121449',\n",
       " 'mobley_8785107',\n",
       " 'mobley_4694328',\n",
       " 'mobley_3234716',\n",
       " 'mobley_5627459',\n",
       " 'mobley_9112978',\n",
       " 'mobley_3746675',\n",
       " 'mobley_2577969',\n",
       " 'mobley_7912193',\n",
       " 'mobley_9478823',\n",
       " 'mobley_4762983',\n",
       " 'mobley_1896013',\n",
       " 'mobley_7983227',\n",
       " 'mobley_5123639',\n",
       " 'mobley_3452749',\n",
       " 'mobley_1858644',\n",
       " 'mobley_1636752',\n",
       " 'mobley_2689721',\n",
       " 'mobley_5449201',\n",
       " 'mobley_5006685',\n",
       " 'mobley_3144334',\n",
       " 'mobley_2328633',\n",
       " 'mobley_4177472',\n",
       " 'mobley_8514745',\n",
       " 'mobley_1987439',\n",
       " 'mobley_1571523',\n",
       " 'mobley_7010316',\n",
       " 'mobley_486214',\n",
       " 'mobley_1743409',\n",
       " 'mobley_2784376',\n",
       " 'mobley_6743808',\n",
       " 'mobley_819018',\n",
       " 'mobley_8614858',\n",
       " 'mobley_2183616',\n",
       " 'mobley_7542832',\n",
       " 'mobley_550662',\n",
       " 'mobley_1424265',\n",
       " 'mobley_2294995',\n",
       " 'mobley_1592519',\n",
       " 'mobley_2146331',\n",
       " 'mobley_7463799',\n",
       " 'mobley_632905',\n",
       " 'mobley_5852491',\n",
       " 'mobley_3969312',\n",
       " 'mobley_8467917',\n",
       " 'mobley_3525176',\n",
       " 'mobley_9729792',\n",
       " 'mobley_4683624',\n",
       " 'mobley_7943327',\n",
       " 'mobley_6978427',\n",
       " 'mobley_6973347',\n",
       " 'mobley_1923244',\n",
       " 'mobley_352111',\n",
       " 'mobley_3083321',\n",
       " 'mobley_313406',\n",
       " 'mobley_8492526',\n",
       " 'mobley_2487143',\n",
       " 'mobley_2126135',\n",
       " 'mobley_9883303',\n",
       " 'mobley_6619554',\n",
       " 'mobley_7913234',\n",
       " 'mobley_4561957',\n",
       " 'mobley_5616693',\n",
       " 'mobley_6456034',\n",
       " 'mobley_8668219',\n",
       " 'mobley_6102880',\n",
       " 'mobley_2457863',\n",
       " 'mobley_2923700',\n",
       " 'mobley_3686115',\n",
       " 'mobley_8260524',\n",
       " 'mobley_4479135',\n",
       " 'mobley_3040612',\n",
       " 'mobley_9139060',\n",
       " 'mobley_3663158',\n",
       " 'mobley_1903702',\n",
       " 'mobley_5263791',\n",
       " 'mobley_2390199',\n",
       " 'mobley_3682850',\n",
       " 'mobley_5816127',\n",
       " 'mobley_3325209',\n",
       " 'mobley_282648',\n",
       " 'mobley_8522124',\n",
       " 'mobley_197466',\n",
       " 'mobley_2213823',\n",
       " 'mobley_3968043',\n",
       " 'mobley_5690766',\n",
       " 'mobley_4690963',\n",
       " 'mobley_6416775',\n",
       " 'mobley_1881249',\n",
       " 'mobley_5759258',\n",
       " 'mobley_8765203',\n",
       " 'mobley_8885088',\n",
       " 'mobley_3183805',\n",
       " 'mobley_7859387',\n",
       " 'mobley_859464',\n",
       " 'mobley_1755375',\n",
       " 'mobley_9414831',\n",
       " 'mobley_9534740',\n",
       " 'mobley_5973402',\n",
       " 'mobley_252413',\n",
       " 'mobley_778352',\n",
       " 'mobley_6812653',\n",
       " 'mobley_6091882',\n",
       " 'mobley_5935995',\n",
       " 'mobley_2099370']"
      ]
     },
     "execution_count": 20,
     "metadata": {},
     "output_type": "execute_result"
    }
   ],
   "source": [
    "train_inds"
   ]
  },
  {
   "cell_type": "code",
   "execution_count": 21,
   "metadata": {},
   "outputs": [],
   "source": [
    "from tqdm import tqdm"
   ]
  },
  {
   "cell_type": "code",
   "execution_count": 22,
   "metadata": {},
   "outputs": [],
   "source": [
    "import matplotlib.pyplot as plt"
   ]
  },
  {
   "cell_type": "code",
   "execution_count": 23,
   "metadata": {},
   "outputs": [],
   "source": [
    "from openforcefield.topology import Molecule"
   ]
  },
  {
   "cell_type": "code",
   "execution_count": 24,
   "metadata": {},
   "outputs": [],
   "source": [
    "torch.manual_seed(12345)\n",
    "np.random.seed(12345)"
   ]
  },
  {
   "cell_type": "code",
   "execution_count": 25,
   "metadata": {},
   "outputs": [],
   "source": [
    "graph_model = initialize()\n",
    "learning_rate = 1e-3\n",
    "optimizer = torch.optim.Adam(graph_model.parameters(), lr=learning_rate)"
   ]
  },
  {
   "cell_type": "code",
   "execution_count": 26,
   "metadata": {},
   "outputs": [
    {
     "data": {
      "text/plain": [
       "150"
      ]
     },
     "execution_count": 26,
     "metadata": {},
     "output_type": "execute_result"
    }
   ],
   "source": [
    "keys = train_inds\n",
    "len(keys)"
   ]
  },
  {
   "cell_type": "code",
   "execution_count": 27,
   "metadata": {},
   "outputs": [],
   "source": [
    "def get_all_preds(keys):\n",
    "    \"\"\"TODO: have this (and predict_on_key()) accept an argument that prevents subsampling the configurations\"\"\"\n",
    "    predict_dict = dict()\n",
    "    for key in keys:\n",
    "        predict_dict[key] = float(predict_on_key(key, graph_model, 50).detach() * kT / unit.kilocalorie_per_mole)\n",
    "    return predict_dict"
   ]
  },
  {
   "cell_type": "code",
   "execution_count": 28,
   "metadata": {},
   "outputs": [],
   "source": [
    "def report_train_and_validation_rmse(predict_dict):\n",
    "    train_residuals = np.array([predict_dict[key] - df['experimental value (kcal/mol)'][key] for key in train_inds])\n",
    "    validation_residuals = np.array([predict_dict[key] - df['experimental value (kcal/mol)'][key] for key in valid_inds])\n",
    "    \n",
    "    return np.sqrt(np.mean(train_residuals**2)), np.sqrt(np.mean(validation_residuals**2))"
   ]
  },
  {
   "cell_type": "code",
   "execution_count": 29,
   "metadata": {},
   "outputs": [
    {
     "name": "stderr",
     "output_type": "stream",
     "text": [
      "  0%|          | 1/1000 [00:22<6:12:06, 22.35s/it, batch_rmse_in_kcalmol=5.26]"
     ]
    },
    {
     "name": "stdout",
     "output_type": "stream",
     "text": [
      "training rmse: 4.699\n",
      "validation rmse: 3.532\n"
     ]
    },
    {
     "name": "stderr",
     "output_type": "stream",
     "text": [
      "  2%|▏         | 16/1000 [00:47<1:34:12,  5.74s/it, batch_rmse_in_kcalmol=7.06]"
     ]
    },
    {
     "name": "stdout",
     "output_type": "stream",
     "text": [
      "training rmse: 3.780\n",
      "validation rmse: 2.959\n"
     ]
    },
    {
     "name": "stderr",
     "output_type": "stream",
     "text": [
      "  3%|▎         | 31/1000 [01:10<1:30:14,  5.59s/it, batch_rmse_in_kcalmol=3.99]"
     ]
    },
    {
     "name": "stdout",
     "output_type": "stream",
     "text": [
      "training rmse: 3.447\n",
      "validation rmse: 3.073\n"
     ]
    },
    {
     "name": "stderr",
     "output_type": "stream",
     "text": [
      "  5%|▍         | 46/1000 [01:34<1:28:07,  5.54s/it, batch_rmse_in_kcalmol=2.81]"
     ]
    },
    {
     "name": "stdout",
     "output_type": "stream",
     "text": [
      "training rmse: 2.560\n",
      "validation rmse: 2.495\n"
     ]
    },
    {
     "name": "stderr",
     "output_type": "stream",
     "text": [
      "  6%|▌         | 61/1000 [02:00<1:39:37,  6.37s/it, batch_rmse_in_kcalmol=2.23]"
     ]
    },
    {
     "name": "stdout",
     "output_type": "stream",
     "text": [
      "training rmse: 2.143\n",
      "validation rmse: 2.213\n"
     ]
    },
    {
     "name": "stderr",
     "output_type": "stream",
     "text": [
      "  8%|▊         | 76/1000 [02:28<1:43:15,  6.70s/it, batch_rmse_in_kcalmol=3.57]"
     ]
    },
    {
     "name": "stdout",
     "output_type": "stream",
     "text": [
      "training rmse: 1.997\n",
      "validation rmse: 2.033\n"
     ]
    },
    {
     "name": "stderr",
     "output_type": "stream",
     "text": [
      "  9%|▉         | 91/1000 [02:57<1:45:15,  6.95s/it, batch_rmse_in_kcalmol=2.26]"
     ]
    },
    {
     "name": "stdout",
     "output_type": "stream",
     "text": [
      "training rmse: 1.766\n",
      "validation rmse: 1.910\n"
     ]
    },
    {
     "name": "stderr",
     "output_type": "stream",
     "text": [
      " 11%|█         | 106/1000 [03:26<1:43:39,  6.96s/it, batch_rmse_in_kcalmol=1.87]"
     ]
    },
    {
     "name": "stdout",
     "output_type": "stream",
     "text": [
      "training rmse: 1.817\n",
      "validation rmse: 1.949\n"
     ]
    },
    {
     "name": "stderr",
     "output_type": "stream",
     "text": [
      " 12%|█▏        | 121/1000 [03:56<1:42:10,  6.97s/it, batch_rmse_in_kcalmol=1.12]"
     ]
    },
    {
     "name": "stdout",
     "output_type": "stream",
     "text": [
      "training rmse: 1.704\n",
      "validation rmse: 1.869\n"
     ]
    },
    {
     "name": "stderr",
     "output_type": "stream",
     "text": [
      " 14%|█▎        | 136/1000 [04:24<1:36:41,  6.71s/it, batch_rmse_in_kcalmol=1.92]"
     ]
    },
    {
     "name": "stdout",
     "output_type": "stream",
     "text": [
      "training rmse: 1.669\n",
      "validation rmse: 1.828\n"
     ]
    },
    {
     "name": "stderr",
     "output_type": "stream",
     "text": [
      " 15%|█▌        | 151/1000 [04:56<1:50:08,  7.78s/it, batch_rmse_in_kcalmol=1.15]"
     ]
    },
    {
     "name": "stdout",
     "output_type": "stream",
     "text": [
      "training rmse: 1.737\n",
      "validation rmse: 1.879\n"
     ]
    },
    {
     "name": "stderr",
     "output_type": "stream",
     "text": [
      " 17%|█▋        | 166/1000 [05:25<1:30:31,  6.51s/it, batch_rmse_in_kcalmol=1.56]"
     ]
    },
    {
     "name": "stdout",
     "output_type": "stream",
     "text": [
      "training rmse: 1.639\n",
      "validation rmse: 1.831\n"
     ]
    },
    {
     "name": "stderr",
     "output_type": "stream",
     "text": [
      " 18%|█▊        | 181/1000 [05:52<1:28:40,  6.50s/it, batch_rmse_in_kcalmol=1.36]"
     ]
    },
    {
     "name": "stdout",
     "output_type": "stream",
     "text": [
      "training rmse: 1.573\n",
      "validation rmse: 1.742\n"
     ]
    },
    {
     "name": "stderr",
     "output_type": "stream",
     "text": [
      " 20%|█▉        | 196/1000 [06:22<1:38:02,  7.32s/it, batch_rmse_in_kcalmol=2.15]"
     ]
    },
    {
     "name": "stdout",
     "output_type": "stream",
     "text": [
      "training rmse: 1.517\n",
      "validation rmse: 1.716\n"
     ]
    },
    {
     "name": "stderr",
     "output_type": "stream",
     "text": [
      " 21%|██        | 211/1000 [06:58<2:00:11,  9.14s/it, batch_rmse_in_kcalmol=1.09]"
     ]
    },
    {
     "name": "stdout",
     "output_type": "stream",
     "text": [
      "training rmse: 1.471\n",
      "validation rmse: 1.694\n"
     ]
    },
    {
     "name": "stderr",
     "output_type": "stream",
     "text": [
      " 23%|██▎       | 226/1000 [07:44<2:26:55, 11.39s/it, batch_rmse_in_kcalmol=1.84]"
     ]
    },
    {
     "name": "stdout",
     "output_type": "stream",
     "text": [
      "training rmse: 1.422\n",
      "validation rmse: 1.668\n"
     ]
    },
    {
     "name": "stderr",
     "output_type": "stream",
     "text": [
      " 24%|██▍       | 241/1000 [08:22<1:53:06,  8.94s/it, batch_rmse_in_kcalmol=2.21]"
     ]
    },
    {
     "name": "stdout",
     "output_type": "stream",
     "text": [
      "training rmse: 1.424\n",
      "validation rmse: 1.650\n"
     ]
    },
    {
     "name": "stderr",
     "output_type": "stream",
     "text": [
      " 26%|██▌       | 256/1000 [09:07<2:14:07, 10.82s/it, batch_rmse_in_kcalmol=1.74]"
     ]
    },
    {
     "name": "stdout",
     "output_type": "stream",
     "text": [
      "training rmse: 1.539\n",
      "validation rmse: 1.648\n"
     ]
    },
    {
     "name": "stderr",
     "output_type": "stream",
     "text": [
      " 27%|██▋       | 271/1000 [09:43<1:43:47,  8.54s/it, batch_rmse_in_kcalmol=1.58]"
     ]
    },
    {
     "name": "stdout",
     "output_type": "stream",
     "text": [
      "training rmse: 1.694\n",
      "validation rmse: 1.776\n"
     ]
    },
    {
     "name": "stderr",
     "output_type": "stream",
     "text": [
      " 29%|██▊       | 286/1000 [10:16<1:31:33,  7.69s/it, batch_rmse_in_kcalmol=2.53]"
     ]
    },
    {
     "name": "stdout",
     "output_type": "stream",
     "text": [
      "training rmse: 1.452\n",
      "validation rmse: 1.681\n"
     ]
    },
    {
     "name": "stderr",
     "output_type": "stream",
     "text": [
      " 30%|███       | 301/1000 [10:49<1:30:48,  7.79s/it, batch_rmse_in_kcalmol=1.43]"
     ]
    },
    {
     "name": "stdout",
     "output_type": "stream",
     "text": [
      "training rmse: 1.270\n",
      "validation rmse: 1.572\n"
     ]
    },
    {
     "name": "stderr",
     "output_type": "stream",
     "text": [
      " 32%|███▏      | 316/1000 [11:20<1:25:24,  7.49s/it, batch_rmse_in_kcalmol=1.14]"
     ]
    },
    {
     "name": "stdout",
     "output_type": "stream",
     "text": [
      "training rmse: 1.061\n",
      "validation rmse: 1.500\n"
     ]
    },
    {
     "name": "stderr",
     "output_type": "stream",
     "text": [
      " 33%|███▎      | 331/1000 [11:48<1:15:00,  6.73s/it, batch_rmse_in_kcalmol=1.79]"
     ]
    },
    {
     "name": "stdout",
     "output_type": "stream",
     "text": [
      "training rmse: 1.062\n",
      "validation rmse: 1.436\n"
     ]
    },
    {
     "name": "stderr",
     "output_type": "stream",
     "text": [
      " 35%|███▍      | 346/1000 [12:19<1:18:35,  7.21s/it, batch_rmse_in_kcalmol=1.15]"
     ]
    },
    {
     "name": "stdout",
     "output_type": "stream",
     "text": [
      "training rmse: 0.963\n",
      "validation rmse: 1.479\n"
     ]
    },
    {
     "name": "stderr",
     "output_type": "stream",
     "text": [
      " 36%|███▌      | 361/1000 [12:46<1:09:53,  6.56s/it, batch_rmse_in_kcalmol=1.44]"
     ]
    },
    {
     "name": "stdout",
     "output_type": "stream",
     "text": [
      "training rmse: 0.946\n",
      "validation rmse: 1.428\n"
     ]
    },
    {
     "name": "stderr",
     "output_type": "stream",
     "text": [
      " 38%|███▊      | 376/1000 [13:15<1:13:59,  7.12s/it, batch_rmse_in_kcalmol=1.12] "
     ]
    },
    {
     "name": "stdout",
     "output_type": "stream",
     "text": [
      "training rmse: 0.918\n",
      "validation rmse: 1.465\n"
     ]
    },
    {
     "name": "stderr",
     "output_type": "stream",
     "text": [
      " 39%|███▉      | 391/1000 [13:46<1:14:44,  7.36s/it, batch_rmse_in_kcalmol=0.968]"
     ]
    },
    {
     "name": "stdout",
     "output_type": "stream",
     "text": [
      "training rmse: 0.827\n",
      "validation rmse: 1.411\n"
     ]
    },
    {
     "name": "stderr",
     "output_type": "stream",
     "text": [
      " 41%|████      | 406/1000 [14:16<1:11:44,  7.25s/it, batch_rmse_in_kcalmol=0.917]"
     ]
    },
    {
     "name": "stdout",
     "output_type": "stream",
     "text": [
      "training rmse: 0.909\n",
      "validation rmse: 1.552\n"
     ]
    },
    {
     "name": "stderr",
     "output_type": "stream",
     "text": [
      " 42%|████▏     | 421/1000 [14:47<1:11:03,  7.36s/it, batch_rmse_in_kcalmol=0.584]"
     ]
    },
    {
     "name": "stdout",
     "output_type": "stream",
     "text": [
      "training rmse: 0.764\n",
      "validation rmse: 1.386\n"
     ]
    },
    {
     "name": "stderr",
     "output_type": "stream",
     "text": [
      " 44%|████▎     | 436/1000 [15:17<1:07:21,  7.17s/it, batch_rmse_in_kcalmol=1.03] "
     ]
    },
    {
     "name": "stdout",
     "output_type": "stream",
     "text": [
      "training rmse: 0.742\n",
      "validation rmse: 1.396\n"
     ]
    },
    {
     "name": "stderr",
     "output_type": "stream",
     "text": [
      " 45%|████▌     | 451/1000 [15:46<1:03:00,  6.89s/it, batch_rmse_in_kcalmol=0.765]"
     ]
    },
    {
     "name": "stdout",
     "output_type": "stream",
     "text": [
      "training rmse: 0.754\n",
      "validation rmse: 1.402\n"
     ]
    },
    {
     "name": "stderr",
     "output_type": "stream",
     "text": [
      " 47%|████▋     | 466/1000 [16:15<1:02:20,  7.01s/it, batch_rmse_in_kcalmol=1.66] "
     ]
    },
    {
     "name": "stdout",
     "output_type": "stream",
     "text": [
      "training rmse: 0.745\n",
      "validation rmse: 1.440\n"
     ]
    },
    {
     "name": "stderr",
     "output_type": "stream",
     "text": [
      " 48%|████▊     | 481/1000 [16:46<1:03:05,  7.29s/it, batch_rmse_in_kcalmol=1.11] "
     ]
    },
    {
     "name": "stdout",
     "output_type": "stream",
     "text": [
      "training rmse: 0.700\n",
      "validation rmse: 1.355\n"
     ]
    },
    {
     "name": "stderr",
     "output_type": "stream",
     "text": [
      " 50%|████▉     | 496/1000 [17:14<57:27,  6.84s/it, batch_rmse_in_kcalmol=0.945]  "
     ]
    },
    {
     "name": "stdout",
     "output_type": "stream",
     "text": [
      "training rmse: 0.824\n",
      "validation rmse: 1.414\n"
     ]
    },
    {
     "name": "stderr",
     "output_type": "stream",
     "text": [
      " 51%|█████     | 511/1000 [17:44<56:48,  6.97s/it, batch_rmse_in_kcalmol=1.16] "
     ]
    },
    {
     "name": "stdout",
     "output_type": "stream",
     "text": [
      "training rmse: 0.886\n",
      "validation rmse: 1.427\n"
     ]
    },
    {
     "name": "stderr",
     "output_type": "stream",
     "text": [
      " 53%|█████▎    | 526/1000 [18:13<56:05,  7.10s/it, batch_rmse_in_kcalmol=1.09] "
     ]
    },
    {
     "name": "stdout",
     "output_type": "stream",
     "text": [
      "training rmse: 0.842\n",
      "validation rmse: 1.354\n"
     ]
    },
    {
     "name": "stderr",
     "output_type": "stream",
     "text": [
      " 54%|█████▍    | 541/1000 [18:41<51:26,  6.72s/it, batch_rmse_in_kcalmol=1.64] "
     ]
    },
    {
     "name": "stdout",
     "output_type": "stream",
     "text": [
      "training rmse: 1.066\n",
      "validation rmse: 1.530\n"
     ]
    },
    {
     "name": "stderr",
     "output_type": "stream",
     "text": [
      " 56%|█████▌    | 556/1000 [19:13<56:15,  7.60s/it, batch_rmse_in_kcalmol=0.762]"
     ]
    },
    {
     "name": "stdout",
     "output_type": "stream",
     "text": [
      "training rmse: 0.750\n",
      "validation rmse: 1.336\n"
     ]
    },
    {
     "name": "stderr",
     "output_type": "stream",
     "text": [
      " 57%|█████▋    | 571/1000 [19:40<46:14,  6.47s/it, batch_rmse_in_kcalmol=0.763]"
     ]
    },
    {
     "name": "stdout",
     "output_type": "stream",
     "text": [
      "training rmse: 0.670\n",
      "validation rmse: 1.378\n"
     ]
    },
    {
     "name": "stderr",
     "output_type": "stream",
     "text": [
      " 59%|█████▊    | 586/1000 [20:11<50:51,  7.37s/it, batch_rmse_in_kcalmol=0.795]"
     ]
    },
    {
     "name": "stdout",
     "output_type": "stream",
     "text": [
      "training rmse: 0.669\n",
      "validation rmse: 1.357\n"
     ]
    },
    {
     "name": "stderr",
     "output_type": "stream",
     "text": [
      " 60%|██████    | 601/1000 [20:38<43:52,  6.60s/it, batch_rmse_in_kcalmol=0.586]"
     ]
    },
    {
     "name": "stdout",
     "output_type": "stream",
     "text": [
      "training rmse: 0.743\n",
      "validation rmse: 1.446\n"
     ]
    },
    {
     "name": "stderr",
     "output_type": "stream",
     "text": [
      " 62%|██████▏   | 616/1000 [21:07<44:11,  6.90s/it, batch_rmse_in_kcalmol=1.15] "
     ]
    },
    {
     "name": "stdout",
     "output_type": "stream",
     "text": [
      "training rmse: 0.708\n",
      "validation rmse: 1.467\n"
     ]
    },
    {
     "name": "stderr",
     "output_type": "stream",
     "text": [
      " 63%|██████▎   | 631/1000 [21:36<43:02,  7.00s/it, batch_rmse_in_kcalmol=0.901]"
     ]
    },
    {
     "name": "stdout",
     "output_type": "stream",
     "text": [
      "training rmse: 0.727\n",
      "validation rmse: 1.312\n"
     ]
    },
    {
     "name": "stderr",
     "output_type": "stream",
     "text": [
      " 65%|██████▍   | 646/1000 [22:05<40:29,  6.86s/it, batch_rmse_in_kcalmol=0.763]"
     ]
    },
    {
     "name": "stdout",
     "output_type": "stream",
     "text": [
      "training rmse: 0.695\n",
      "validation rmse: 1.342\n"
     ]
    },
    {
     "name": "stderr",
     "output_type": "stream",
     "text": [
      " 66%|██████▌   | 661/1000 [22:35<39:50,  7.05s/it, batch_rmse_in_kcalmol=0.888]"
     ]
    },
    {
     "name": "stdout",
     "output_type": "stream",
     "text": [
      "training rmse: 0.633\n",
      "validation rmse: 1.351\n"
     ]
    },
    {
     "name": "stderr",
     "output_type": "stream",
     "text": [
      " 68%|██████▊   | 676/1000 [23:04<37:17,  6.91s/it, batch_rmse_in_kcalmol=0.559]"
     ]
    },
    {
     "name": "stdout",
     "output_type": "stream",
     "text": [
      "training rmse: 0.609\n",
      "validation rmse: 1.337\n"
     ]
    },
    {
     "name": "stderr",
     "output_type": "stream",
     "text": [
      " 69%|██████▉   | 691/1000 [23:34<37:02,  7.19s/it, batch_rmse_in_kcalmol=0.834]"
     ]
    },
    {
     "name": "stdout",
     "output_type": "stream",
     "text": [
      "training rmse: 0.694\n",
      "validation rmse: 1.376\n"
     ]
    },
    {
     "name": "stderr",
     "output_type": "stream",
     "text": [
      " 71%|███████   | 706/1000 [24:03<34:33,  7.05s/it, batch_rmse_in_kcalmol=0.686]"
     ]
    },
    {
     "name": "stdout",
     "output_type": "stream",
     "text": [
      "training rmse: 0.625\n",
      "validation rmse: 1.304\n"
     ]
    },
    {
     "name": "stderr",
     "output_type": "stream",
     "text": [
      " 72%|███████▏  | 721/1000 [24:32<31:32,  6.78s/it, batch_rmse_in_kcalmol=0.575]"
     ]
    },
    {
     "name": "stdout",
     "output_type": "stream",
     "text": [
      "training rmse: 0.699\n",
      "validation rmse: 1.394\n"
     ]
    },
    {
     "name": "stderr",
     "output_type": "stream",
     "text": [
      " 74%|███████▎  | 736/1000 [25:01<30:53,  7.02s/it, batch_rmse_in_kcalmol=1.03] "
     ]
    },
    {
     "name": "stdout",
     "output_type": "stream",
     "text": [
      "training rmse: 0.616\n",
      "validation rmse: 1.357\n"
     ]
    },
    {
     "name": "stderr",
     "output_type": "stream",
     "text": [
      " 75%|███████▌  | 751/1000 [25:28<26:53,  6.48s/it, batch_rmse_in_kcalmol=0.973]"
     ]
    },
    {
     "name": "stdout",
     "output_type": "stream",
     "text": [
      "training rmse: 0.626\n",
      "validation rmse: 1.387\n"
     ]
    },
    {
     "name": "stderr",
     "output_type": "stream",
     "text": [
      " 77%|███████▋  | 766/1000 [25:57<27:14,  6.98s/it, batch_rmse_in_kcalmol=0.752]"
     ]
    },
    {
     "name": "stdout",
     "output_type": "stream",
     "text": [
      "training rmse: 0.599\n",
      "validation rmse: 1.348\n"
     ]
    },
    {
     "name": "stderr",
     "output_type": "stream",
     "text": [
      " 78%|███████▊  | 781/1000 [26:27<26:04,  7.14s/it, batch_rmse_in_kcalmol=0.593]"
     ]
    },
    {
     "name": "stdout",
     "output_type": "stream",
     "text": [
      "training rmse: 0.607\n",
      "validation rmse: 1.390\n"
     ]
    },
    {
     "name": "stderr",
     "output_type": "stream",
     "text": [
      " 80%|███████▉  | 796/1000 [26:57<24:46,  7.29s/it, batch_rmse_in_kcalmol=0.601]"
     ]
    },
    {
     "name": "stdout",
     "output_type": "stream",
     "text": [
      "training rmse: 0.594\n",
      "validation rmse: 1.407\n"
     ]
    },
    {
     "name": "stderr",
     "output_type": "stream",
     "text": [
      " 81%|████████  | 811/1000 [27:26<21:24,  6.80s/it, batch_rmse_in_kcalmol=0.587]"
     ]
    },
    {
     "name": "stdout",
     "output_type": "stream",
     "text": [
      "training rmse: 0.668\n",
      "validation rmse: 1.356\n"
     ]
    },
    {
     "name": "stderr",
     "output_type": "stream",
     "text": [
      " 83%|████████▎ | 826/1000 [27:55<20:16,  6.99s/it, batch_rmse_in_kcalmol=0.832]"
     ]
    },
    {
     "name": "stdout",
     "output_type": "stream",
     "text": [
      "training rmse: 0.616\n",
      "validation rmse: 1.394\n"
     ]
    },
    {
     "name": "stderr",
     "output_type": "stream",
     "text": [
      " 84%|████████▍ | 841/1000 [28:24<18:29,  6.98s/it, batch_rmse_in_kcalmol=0.593]"
     ]
    },
    {
     "name": "stdout",
     "output_type": "stream",
     "text": [
      "training rmse: 0.713\n",
      "validation rmse: 1.373\n"
     ]
    },
    {
     "name": "stderr",
     "output_type": "stream",
     "text": [
      " 86%|████████▌ | 856/1000 [28:54<17:29,  7.29s/it, batch_rmse_in_kcalmol=0.73] "
     ]
    },
    {
     "name": "stdout",
     "output_type": "stream",
     "text": [
      "training rmse: 0.652\n",
      "validation rmse: 1.370\n"
     ]
    },
    {
     "name": "stderr",
     "output_type": "stream",
     "text": [
      " 87%|████████▋ | 871/1000 [29:23<14:36,  6.80s/it, batch_rmse_in_kcalmol=1.18] "
     ]
    },
    {
     "name": "stdout",
     "output_type": "stream",
     "text": [
      "training rmse: 0.591\n",
      "validation rmse: 1.396\n"
     ]
    },
    {
     "name": "stderr",
     "output_type": "stream",
     "text": [
      " 89%|████████▊ | 886/1000 [29:52<13:29,  7.10s/it, batch_rmse_in_kcalmol=0.569]"
     ]
    },
    {
     "name": "stdout",
     "output_type": "stream",
     "text": [
      "training rmse: 0.649\n",
      "validation rmse: 1.327\n"
     ]
    },
    {
     "name": "stderr",
     "output_type": "stream",
     "text": [
      " 90%|█████████ | 901/1000 [30:21<11:42,  7.10s/it, batch_rmse_in_kcalmol=0.888]"
     ]
    },
    {
     "name": "stdout",
     "output_type": "stream",
     "text": [
      "training rmse: 0.725\n",
      "validation rmse: 1.363\n"
     ]
    },
    {
     "name": "stderr",
     "output_type": "stream",
     "text": [
      " 92%|█████████▏| 916/1000 [30:51<10:06,  7.23s/it, batch_rmse_in_kcalmol=0.424]"
     ]
    },
    {
     "name": "stdout",
     "output_type": "stream",
     "text": [
      "training rmse: 0.686\n",
      "validation rmse: 1.429\n"
     ]
    },
    {
     "name": "stderr",
     "output_type": "stream",
     "text": [
      " 93%|█████████▎| 931/1000 [31:20<07:58,  6.94s/it, batch_rmse_in_kcalmol=0.964]"
     ]
    },
    {
     "name": "stdout",
     "output_type": "stream",
     "text": [
      "training rmse: 0.591\n",
      "validation rmse: 1.371\n"
     ]
    },
    {
     "name": "stderr",
     "output_type": "stream",
     "text": [
      " 95%|█████████▍| 946/1000 [31:50<06:31,  7.26s/it, batch_rmse_in_kcalmol=0.718]"
     ]
    },
    {
     "name": "stdout",
     "output_type": "stream",
     "text": [
      "training rmse: 0.626\n",
      "validation rmse: 1.334\n"
     ]
    },
    {
     "name": "stderr",
     "output_type": "stream",
     "text": [
      " 96%|█████████▌| 961/1000 [32:20<04:40,  7.19s/it, batch_rmse_in_kcalmol=0.496]"
     ]
    },
    {
     "name": "stdout",
     "output_type": "stream",
     "text": [
      "training rmse: 0.558\n",
      "validation rmse: 1.398\n"
     ]
    },
    {
     "name": "stderr",
     "output_type": "stream",
     "text": [
      " 98%|█████████▊| 976/1000 [32:50<02:51,  7.16s/it, batch_rmse_in_kcalmol=0.695]"
     ]
    },
    {
     "name": "stdout",
     "output_type": "stream",
     "text": [
      "training rmse: 0.620\n",
      "validation rmse: 1.461\n"
     ]
    },
    {
     "name": "stderr",
     "output_type": "stream",
     "text": [
      " 99%|█████████▉| 991/1000 [33:20<01:02,  6.97s/it, batch_rmse_in_kcalmol=0.655]"
     ]
    },
    {
     "name": "stdout",
     "output_type": "stream",
     "text": [
      "training rmse: 0.739\n",
      "validation rmse: 1.386\n"
     ]
    },
    {
     "name": "stderr",
     "output_type": "stream",
     "text": [
      "100%|██████████| 1000/1000 [33:25<00:00,  2.01s/it, batch_rmse_in_kcalmol=0.563]\n"
     ]
    }
   ],
   "source": [
    "predictions = []\n",
    "\n",
    "batch_losses = []\n",
    "trange = tqdm(range(1000))\n",
    "\n",
    "n_mols_per_batch = 10\n",
    "n_snapshots_per_mol = 15\n",
    "\n",
    "for t in trange:\n",
    "    \n",
    "    # optionally subsample the training set...\n",
    "    keys = np.random.choice(train_inds, size=n_mols_per_batch)\n",
    "    \n",
    "    L = 0.0\n",
    "    for key in keys:\n",
    "        # make a free energy prediction using a random subset of snapshots for each key\n",
    "        prediction  = predict_on_key(key, graph_model, n_snapshots_per_mol)\n",
    "        target = (df['experimental value (kcal/mol)'][key] * unit.kilocalorie_per_mole) / kT\n",
    "    \n",
    "        # TODO: modify loss function to depend on experimental error and simulation error\n",
    "        L += (prediction - target)**2\n",
    "        #predictions.append((t, key, prediction))\n",
    "    \n",
    "    L /= len(keys)\n",
    "\n",
    "    optimizer.zero_grad()\n",
    "    L.backward()\n",
    "    optimizer.step()\n",
    "    \n",
    "    batch_losses.append(L.detach().numpy())\n",
    "    rmse_in_kcalmol = np.sqrt(batch_losses[-1] * kT / unit.kilocalories_per_mole)\n",
    "    trange.set_postfix(batch_rmse_in_kcalmol=rmse_in_kcalmol)\n",
    "    \n",
    "    n_batches_per_epoch = int(len(train_inds) / n_mols_per_batch)\n",
    "    \n",
    "    if t % n_batches_per_epoch == 0:\n",
    "        epoch = int(t / n_batches_per_epoch)\n",
    "        p = get_all_preds(cho_freesolv)\n",
    "        predictions.append(p)\n",
    "        train_rmse, valid_rmse = report_train_and_validation_rmse(p)\n",
    "        print(f'training rmse: {train_rmse:.3f}')\n",
    "        print(f'validation rmse: {valid_rmse:.3f}')\n",
    "        \n",
    "        torch.save(graph_model, f'cho_freesolv_epoch={epoch}.pt')"
   ]
  },
  {
   "cell_type": "code",
   "execution_count": 30,
   "metadata": {},
   "outputs": [],
   "source": [
    "def count_params(graph_model):\n",
    "    n_readout = sum([torch.prod(torch.tensor(v.shape)) for v in graph_model.readouts.atoms.state_dict().values()])\n",
    "    n_rep = sum([torch.prod(torch.tensor(v.shape)) for v in graph_model.node_representation.state_dict().values()])\n",
    "    return n_rep + n_readout"
   ]
  },
  {
   "cell_type": "code",
   "execution_count": 31,
   "metadata": {},
   "outputs": [
    {
     "data": {
      "text/plain": [
       "tensor(115842)"
      ]
     },
     "execution_count": 31,
     "metadata": {},
     "output_type": "execute_result"
    }
   ],
   "source": [
    "count_params(graph_model)"
   ]
  },
  {
   "cell_type": "code",
   "execution_count": 32,
   "metadata": {},
   "outputs": [
    {
     "data": {
      "text/plain": [
       "67"
      ]
     },
     "execution_count": 32,
     "metadata": {},
     "output_type": "execute_result"
    }
   ],
   "source": [
    "len(predictions)"
   ]
  },
  {
   "cell_type": "code",
   "execution_count": 33,
   "metadata": {},
   "outputs": [
    {
     "data": {
      "text/plain": [
       "1.3042708426491147"
      ]
     },
     "execution_count": 33,
     "metadata": {},
     "output_type": "execute_result"
    }
   ],
   "source": [
    "rmses = np.array([report_train_and_validation_rmse(p) for p in predictions])\n",
    "rmses[:,1].min()"
   ]
  },
  {
   "cell_type": "code",
   "execution_count": 34,
   "metadata": {},
   "outputs": [
    {
     "data": {
      "text/plain": [
       "Text(0.5, 1.0, '{C,H,O} mini-freesolv\\n(n=300)')"
      ]
     },
     "execution_count": 34,
     "metadata": {},
     "output_type": "execute_result"
    },
    {
     "data": {
      "image/png": "[encoded data removed]",
      "text/plain": [
       "<Figure size 432x288 with 1 Axes>"
      ]
     },
     "metadata": {
      "needs_background": "light"
     },
     "output_type": "display_data"
    }
   ],
   "source": [
    "plt.plot(rmses[:,0], label=f'training set (n={len(train_inds)})')\n",
    "plt.plot(rmses[:,1], label=f'validation set (n={len(valid_inds)})')\n",
    "plt.legend()\n",
    "plt.hlines(np.min(rmses[:,1]), 0, len(rmses), linestyles='--', color='grey')\n",
    "plt.xlabel('epoch')\n",
    "plt.ylabel('RMSE (kcal/mol)')\n",
    "plt.ylim(0,)\n",
    "plt.title('{C,H,O} mini-freesolv' + f'\\n(n={len(cho_freesolv)})')"
   ]
  },
  {
   "cell_type": "code",
   "execution_count": 35,
   "metadata": {},
   "outputs": [
    {
     "data": {
      "text/plain": [
       "Text(0.5, 1.0, '{C,H,O} mini-freesolv\\n(n=300)')"
      ]
     },
     "execution_count": 35,
     "metadata": {},
     "output_type": "execute_result"
    },
    {
     "data": {
      "image/png": "[encoded data removed]",
      "text/plain": [
       "<Figure size 432x288 with 1 Axes>"
      ]
     },
     "metadata": {
      "needs_background": "light"
     },
     "output_type": "display_data"
    }
   ],
   "source": [
    "plt.plot(rmses[:,0], label=f'training set (n={len(train_inds)})')\n",
    "plt.plot(rmses[:,1], label=f'validation set (n={len(valid_inds)})')\n",
    "plt.legend()\n",
    "plt.hlines(np.min(rmses[:,1]), 0, len(rmses), linestyles='--', color='grey')\n",
    "plt.xlabel('epoch')\n",
    "plt.ylabel('RMSE (kcal/mol)')\n",
    "plt.ylim(0.5,2.5)\n",
    "plt.title('{C,H,O} mini-freesolv' + f'\\n(n={len(cho_freesolv)})')"
   ]
  },
  {
   "cell_type": "code",
   "execution_count": 36,
   "metadata": {},
   "outputs": [
    {
     "data": {
      "text/plain": [
       "(47, 67)"
      ]
     },
     "execution_count": 36,
     "metadata": {},
     "output_type": "execute_result"
    }
   ],
   "source": [
    "np.argmin(rmses[:,1]), len(rmses[:,1])"
   ]
  },
  {
   "cell_type": "code",
   "execution_count": 37,
   "metadata": {},
   "outputs": [],
   "source": [
    "rmse_in_kcalmol = [np.sqrt(b * kT / unit.kilocalories_per_mole) for b in batch_losses]"
   ]
  },
  {
   "cell_type": "code",
   "execution_count": 38,
   "metadata": {},
   "outputs": [
    {
     "data": {
      "text/plain": [
       "Text(0.5, 1.0, 'minibatch loss trajectory')"
      ]
     },
     "execution_count": 38,
     "metadata": {},
     "output_type": "execute_result"
    },
    {
     "data": {
      "image/png": "[encoded data removed]",
      "text/plain": [
       "<Figure size 432x288 with 1 Axes>"
      ]
     },
     "metadata": {
      "needs_background": "light"
     },
     "output_type": "display_data"
    }
   ],
   "source": [
    "plt.plot(rmse_in_kcalmol)\n",
    "plt.xlabel('Adam iteration')\n",
    "plt.ylabel('RMSE loss on current minibatch')\n",
    "plt.ylim(0,)\n",
    "plt.title('minibatch loss trajectory')"
   ]
  },
  {
   "cell_type": "code",
   "execution_count": 46,
   "metadata": {},
   "outputs": [],
   "source": [
    "final_predict_dict = predictions[np.argmin(rmses[:,1])]"
   ]
  },
  {
   "cell_type": "code",
   "execution_count": 47,
   "metadata": {},
   "outputs": [
    {
     "data": {
      "text/plain": [
       "-5.104795630487401"
      ]
     },
     "execution_count": 47,
     "metadata": {},
     "output_type": "execute_result"
    }
   ],
   "source": [
    "float(final_predict_dict[key])"
   ]
  },
  {
   "cell_type": "code",
   "execution_count": 48,
   "metadata": {},
   "outputs": [],
   "source": [
    "splits = {\n",
    "    'training': train_inds,\n",
    "    'validation': valid_inds,\n",
    "}"
   ]
  },
  {
   "cell_type": "code",
   "execution_count": 49,
   "metadata": {},
   "outputs": [],
   "source": [
    "def bootstrap_rmse(sq_residuals, n_bootstrap=1000):\n",
    "    N = len(sq_residuals)\n",
    "    \n",
    "    rmses = [np.sqrt(np.mean(sq_residuals[np.random.randint(0, N, N)])) for _ in range(n_bootstrap)]\n",
    "    return np.array(rmses)"
   ]
  },
  {
   "cell_type": "code",
   "execution_count": 50,
   "metadata": {},
   "outputs": [],
   "source": [
    "def report_rmse_pm_95ci(sq_residuals: np.ndarray, n_bootstrap=1000) -> str:\n",
    "    rmse = np.sqrt(np.mean(sq_residuals))\n",
    "    rmses = bootstrap_rmse(sq_residuals)\n",
    "    return f'{rmse:.2f} ' + r'$\\pm$' + f' {1.96 * np.std(rmses):.2f}'"
   ]
  },
  {
   "cell_type": "code",
   "execution_count": 51,
   "metadata": {},
   "outputs": [
    {
     "data": {
      "image/png": "[encoded data removed]",
      "text/plain": [
       "<Figure size 864x432 with 2 Axes>"
      ]
     },
     "metadata": {
      "needs_background": "light"
     },
     "output_type": "display_data"
    }
   ],
   "source": [
    "plt.figure(figsize=(12,6))\n",
    "ax = None\n",
    "\n",
    "for i, split_name in enumerate(splits):\n",
    "    split = splits[split_name]\n",
    "    x = np.array([final_predict_dict[key] for key in split])\n",
    "    y = np.array([df['experimental value (kcal/mol)'][key] for key in split])\n",
    "    \n",
    "    rmse_string = report_rmse_pm_95ci((x - y)**2)\n",
    "    \n",
    "    \n",
    "    ax = plt.subplot(1,2,i+1, sharex=ax, sharey=ax)\n",
    "    plt.scatter(x, y)\n",
    "    plt.xlabel('predicted (kcal/mol)')\n",
    "    plt.ylabel('reference (kcal/mol)')\n",
    "    plt.plot([min(y), max(y)], [min(y), max(y)])\n",
    "\n",
    "    plt.title(f'GBSA hydration free energies\\n{split_name} set RMSE = {rmse_string} kcal/mol')\n",
    "plt.tight_layout()"
   ]
  },
  {
   "cell_type": "code",
   "execution_count": 52,
   "metadata": {},
   "outputs": [
    {
     "data": {
      "text/plain": [
       "3.1419728381314114"
      ]
     },
     "execution_count": 52,
     "metadata": {},
     "output_type": "execute_result"
    }
   ],
   "source": [
    "# compare with the RMSE that would be obtained by predicting a constant\n",
    "np.sqrt(np.mean((y - np.mean(y))**2))"
   ]
  },
  {
   "cell_type": "markdown",
   "metadata": {},
   "source": [
    "#### TODOs:\n",
    "* Explicit regularization, rather than early stopping?\n",
    "* Add bootstrapped rmse bands to train/validation curves, not just to titles of scatterplots\n",
    "* Do many train/validation splits and report averages / stddevs\n",
    "* Currently the input is just element identity, one-hot-encoded --> switch to using espaloma's initial atom featurizer?\n",
    "* Update loss from un-scaled RMSE to something more like a likelihood (incorporating expt error + free-energy-estimator error)\n",
    "* Do series of mini-freesolvs"
   ]
  },
  {
   "cell_type": "code",
   "execution_count": null,
   "metadata": {},
   "outputs": [],
   "source": []
  }
 ],
 "metadata": {
  "kernelspec": {
   "display_name": "Python [conda env:espaloma]",
   "language": "python",
   "name": "conda-env-espaloma-py"
  },
  "language_info": {
   "codemirror_mode": {
    "name": "ipython",
    "version": 3
   },
   "file_extension": ".py",
   "mimetype": "text/x-python",
   "name": "python",
   "nbconvert_exporter": "python",
   "pygments_lexer": "ipython3",
   "version": "3.7.8"
  }
 },
 "nbformat": 4,
 "nbformat_minor": 4
}
