{
 "cells": [
  {
   "cell_type": "code",
   "execution_count": 1,
   "metadata": {},
   "outputs": [],
   "source": [
    "import pandas as pd\n",
    "import matplotlib.pyplot as plt"
   ]
  },
  {
   "cell_type": "code",
   "execution_count": 2,
   "metadata": {},
   "outputs": [],
   "source": [
    "import torch\n",
    "torch.set_default_dtype(torch.float64)\n",
    "\n",
    "import numpy as np"
   ]
  },
  {
   "cell_type": "code",
   "execution_count": 3,
   "metadata": {},
   "outputs": [
    {
     "data": {
      "application/vnd.jupyter.widget-view+json": {
       "model_id": "047f5f09e79e47ffbe6a6ba2f09f0776",
       "version_major": 2,
       "version_minor": 0
      },
      "text/plain": []
     },
     "metadata": {},
     "output_type": "display_data"
    }
   ],
   "source": [
    "df = pd.read_hdf('freesolv_with_samples.h5')"
   ]
  },
  {
   "cell_type": "code",
   "execution_count": 4,
   "metadata": {},
   "outputs": [],
   "source": [
    "from openforcefield.topology import Molecule"
   ]
  },
  {
   "cell_type": "code",
   "execution_count": 4,
   "metadata": {},
   "outputs": [
    {
     "name": "stdout",
     "output_type": "stream",
     "text": [
      "529\n"
     ]
    }
   ],
   "source": [
    "inds = list(df.index)\n",
    "\n",
    "\n",
    "allowed_elements = {1, 6, 7, 8, 17}\n",
    "\n",
    "cho_freesolv = []\n",
    "for key in inds:\n",
    "    offmol = df['offmol'][key]\n",
    "    if set([a.atomic_number for a in offmol.atoms]).issubset(allowed_elements):\n",
    "        cho_freesolv.append(key)\n",
    "print(len(cho_freesolv))"
   ]
  },
  {
   "cell_type": "code",
   "execution_count": 5,
   "metadata": {},
   "outputs": [
    {
     "data": {
      "text/plain": [
       "(265, 264)"
      ]
     },
     "execution_count": 5,
     "metadata": {},
     "output_type": "execute_result"
    }
   ],
   "source": [
    "np.random.seed(0)\n",
    "inds = list(cho_freesolv)\n",
    "np.random.shuffle(inds)\n",
    "train_inds = inds[::2]\n",
    "valid_inds = inds[1::2]\n",
    "len(train_inds), len(valid_inds)"
   ]
  },
  {
   "cell_type": "code",
   "execution_count": 6,
   "metadata": {},
   "outputs": [
    {
     "name": "stderr",
     "output_type": "stream",
     "text": [
      "Using backend: pytorch\n"
     ]
    },
    {
     "data": {
      "text/plain": [
       "1052.5821686494048"
      ]
     },
     "execution_count": 6,
     "metadata": {},
     "output_type": "execute_result"
    }
   ],
   "source": [
    "from openmmtools.constants import kB\n",
    "from simtk import unit\n",
    "from espaloma.units import DISTANCE_UNIT, ENERGY_UNIT\n",
    "\n",
    "temperature = 300 * unit.kelvin\n",
    "kT = kB * temperature\n",
    "\n",
    "# conversion from espaloma energy unit to kT\n",
    "to_kT = 1.0 * ENERGY_UNIT / kT\n",
    "to_kT"
   ]
  },
  {
   "cell_type": "code",
   "execution_count": 7,
   "metadata": {},
   "outputs": [
    {
     "data": {
      "text/plain": [
       "Quantity(value=array([-0.09266   , -0.07967   , -0.07829   , -0.07824   , -0.12671   ,\n",
       "        0.63147002, -0.53658998, -0.44984001,  0.12808   ,  0.03392   ,\n",
       "        0.03392   ,  0.03392   ,  0.04138   ,  0.04138   ,  0.03957   ,\n",
       "        0.03957   ,  0.05656   ,  0.05656   ,  0.07839   ,  0.07839   ,\n",
       "        0.04963   ,  0.04963   ,  0.04963   ]), unit=elementary charge)"
      ]
     },
     "execution_count": 7,
     "metadata": {},
     "output_type": "execute_result"
    }
   ],
   "source": [
    "df['offmol']['mobley_1017962'].partial_charges"
   ]
  },
  {
   "cell_type": "code",
   "execution_count": 8,
   "metadata": {},
   "outputs": [],
   "source": [
    "from scipy.spatial.distance import pdist, squareform\n",
    "\n",
    "# these are espaloma units of bohr\n",
    "df['distance_matrices'] = None\n",
    "\n",
    "for key in df.index:\n",
    "    xyz = (df['quick_xyz'][key] * unit.nanometer).value_in_unit(DISTANCE_UNIT)\n",
    "    distance_matrices = [torch.tensor(squareform(pdist(conf))) for conf in xyz]\n",
    "    distance_matrices = torch.stack(distance_matrices)\n",
    "    df['distance_matrices'][key] = distance_matrices"
   ]
  },
  {
   "cell_type": "code",
   "execution_count": 9,
   "metadata": {},
   "outputs": [
    {
     "data": {
      "text/plain": [
       "Index(['SMILES',\n",
       "       'iupac name (or alternative if IUPAC is unavailable or not parseable by OEChem)',\n",
       "       'experimental value (kcal/mol)', 'experimental uncertainty (kcal/mol)',\n",
       "       'Mobley group calculated value (GAFF) (kcal/mol)',\n",
       "       'calculated uncertainty (kcal/mol)',\n",
       "       'experimental reference (original or paper this value was taken from)',\n",
       "       'calculated reference', 'text notes.', 'offmol',\n",
       "       'serialized_openmm_system', 'xyz', 'quick_xyz', 'distance_matrices'],\n",
       "      dtype='object')"
      ]
     },
     "execution_count": 9,
     "metadata": {},
     "output_type": "execute_result"
    }
   ],
   "source": [
    "df.columns"
   ]
  },
  {
   "cell_type": "code",
   "execution_count": 10,
   "metadata": {},
   "outputs": [],
   "source": [
    "from espaloma.mm.implicit import gbsa_obc2_energy"
   ]
  },
  {
   "cell_type": "code",
   "execution_count": 11,
   "metadata": {},
   "outputs": [],
   "source": [
    "def compute_obc2_energies(\n",
    "    distance_matrices,\n",
    "    radii, scales, charges,\n",
    "    alpha=0.8, beta=0.0, gamma=2.909125\n",
    "):\n",
    "    N = len(distance_matrices)\n",
    "    E_s = torch.zeros(N)\n",
    "    for i in range(N):\n",
    "        E_s[i] += gbsa_obc2_energy(\n",
    "            distance_matrices[i],\n",
    "            radii, scales, charges, \n",
    "            alpha, beta, gamma,\n",
    "        )\n",
    "    return E_s"
   ]
  },
  {
   "cell_type": "code",
   "execution_count": 12,
   "metadata": {},
   "outputs": [],
   "source": [
    "offmol = df['offmol'][key]"
   ]
  },
  {
   "cell_type": "code",
   "execution_count": 13,
   "metadata": {},
   "outputs": [],
   "source": [
    "from espaloma.redux.nn import TAG, MLP\n",
    "from espaloma.redux.symmetry import ValenceModel, Readouts, elements\n",
    "\n",
    "# radii, scales\n",
    "atom_dim = 2\n",
    "\n",
    "def initialize(hidden_dim=128, node_dim=128):\n",
    "    node_representation = TAG(in_dim=len(elements), hidden_dim=hidden_dim, out_dim=node_dim)\n",
    "    readouts = Readouts(atoms=MLP(node_dim, atom_dim), bonds=MLP(2 * node_dim, 2), angles=MLP(3 * node_dim, 2),\n",
    "                        propers=MLP(4 * node_dim, 6), impropers=MLP(4 * node_dim, 6))\n",
    "    graph_model = ValenceModel(node_representation, readouts)\n",
    "    return graph_model\n",
    "\n",
    "\n",
    "def predict_obc2_params(offmol, graph_model):\n",
    "    \"\"\"output of graph net's atom representation will initially be near zero, just offset by a constant\"\"\"\n",
    "    params = graph_model.forward(offmol)\n",
    "    radii = params.atoms[:,0] + 2.5\n",
    "    scales = params.atoms[:,1] + 1\n",
    "    return radii, scales"
   ]
  },
  {
   "cell_type": "code",
   "execution_count": 14,
   "metadata": {},
   "outputs": [],
   "source": [
    "def one_sided_exp(w):\n",
    "    delta_f = - (torch.logsumexp(- w, dim=(0,)) - np.log(len(w)))\n",
    "    return delta_f"
   ]
  },
  {
   "cell_type": "code",
   "execution_count": 15,
   "metadata": {},
   "outputs": [],
   "source": [
    "def predict_on_key(key: str, graph_model, batch_size: int = 25, verbose: bool = False) -> float:\n",
    "    offmol = df['offmol'][key]\n",
    "    \n",
    "    radii, scales = predict_obc2_params(offmol, graph_model)\n",
    "    \n",
    "    distance_matrices = df['distance_matrices'][key]\n",
    "    inds = np.random.randint(0, len(distance_matrices), size=batch_size)\n",
    "    \n",
    "    charges = torch.tensor(offmol.partial_charges / unit.elementary_charge)\n",
    "    \n",
    "    obc2_energies = compute_obc2_energies(distance_matrices[inds], radii, scales, charges)\n",
    "    if verbose:\n",
    "        print(obc2_energies)\n",
    "    w = obc2_energies * to_kT\n",
    "    pred_delta_f = one_sided_exp(w)\n",
    "    \n",
    "    return pred_delta_f"
   ]
  },
  {
   "cell_type": "code",
   "execution_count": 16,
   "metadata": {},
   "outputs": [
    {
     "data": {
      "text/plain": [
       "['mobley_8052240',\n",
       " 'mobley_7455579',\n",
       " 'mobley_6248915',\n",
       " 'mobley_8705848',\n",
       " 'mobley_1278715',\n",
       " 'mobley_9478823',\n",
       " 'mobley_7988076',\n",
       " 'mobley_4219614',\n",
       " 'mobley_4715906',\n",
       " 'mobley_8427539',\n",
       " 'mobley_2183616',\n",
       " 'mobley_7378987',\n",
       " 'mobley_6739648',\n",
       " 'mobley_2850833',\n",
       " 'mobley_4584540',\n",
       " 'mobley_5571660',\n",
       " 'mobley_8260524',\n",
       " 'mobley_6060301',\n",
       " 'mobley_3690931',\n",
       " 'mobley_1827204',\n",
       " 'mobley_2689721',\n",
       " 'mobley_3546460',\n",
       " 'mobley_3378420',\n",
       " 'mobley_299266',\n",
       " 'mobley_8882696',\n",
       " 'mobley_4479135',\n",
       " 'mobley_1424265',\n",
       " 'mobley_3144334',\n",
       " 'mobley_4780078',\n",
       " 'mobley_5063386',\n",
       " 'mobley_902954',\n",
       " 'mobley_6619554',\n",
       " 'mobley_3762186',\n",
       " 'mobley_3682850',\n",
       " 'mobley_6896128',\n",
       " 'mobley_2493732',\n",
       " 'mobley_8764620',\n",
       " 'mobley_2958326',\n",
       " 'mobley_9913368',\n",
       " 'mobley_1019269',\n",
       " 'mobley_1235151',\n",
       " 'mobley_2402487',\n",
       " 'mobley_397645',\n",
       " 'mobley_7758918',\n",
       " 'mobley_2923700',\n",
       " 'mobley_646007',\n",
       " 'mobley_8785107',\n",
       " 'mobley_4609460',\n",
       " 'mobley_3151666',\n",
       " 'mobley_8311303',\n",
       " 'mobley_4434915',\n",
       " 'mobley_468867',\n",
       " 'mobley_7417968',\n",
       " 'mobley_2789243',\n",
       " 'mobley_6981465',\n",
       " 'mobley_8436428',\n",
       " 'mobley_9897248',\n",
       " 'mobley_1139153',\n",
       " 'mobley_718988',\n",
       " 'mobley_9671033',\n",
       " 'mobley_8337722',\n",
       " 'mobley_7463799',\n",
       " 'mobley_2457863',\n",
       " 'mobley_7463408',\n",
       " 'mobley_1896013',\n",
       " 'mobley_3187514',\n",
       " 'mobley_2451097',\n",
       " 'mobley_5917842',\n",
       " 'mobley_1903702',\n",
       " 'mobley_1079207',\n",
       " 'mobley_6102880',\n",
       " 'mobley_5616693',\n",
       " 'mobley_6474572',\n",
       " 'mobley_7943327',\n",
       " 'mobley_3843583',\n",
       " 'mobley_4395315',\n",
       " 'mobley_2782339',\n",
       " 'mobley_1952272',\n",
       " 'mobley_8006582',\n",
       " 'mobley_9838013',\n",
       " 'mobley_9741965',\n",
       " 'mobley_9197172',\n",
       " 'mobley_7977115',\n",
       " 'mobley_5220185',\n",
       " 'mobley_4305650',\n",
       " 'mobley_1893815',\n",
       " 'mobley_1571523',\n",
       " 'mobley_4699732',\n",
       " 'mobley_6430250',\n",
       " 'mobley_7573149',\n",
       " 'mobley_2960202',\n",
       " 'mobley_2881590',\n",
       " 'mobley_2763835',\n",
       " 'mobley_2043882',\n",
       " 'mobley_7326982',\n",
       " 'mobley_3318135',\n",
       " 'mobley_5003962',\n",
       " 'mobley_1977493',\n",
       " 'mobley_5732611',\n",
       " 'mobley_2213823',\n",
       " 'mobley_6198745',\n",
       " 'mobley_4630641',\n",
       " 'mobley_9534740',\n",
       " 'mobley_9733743',\n",
       " 'mobley_4561957',\n",
       " 'mobley_63712',\n",
       " 'mobley_1881249',\n",
       " 'mobley_3709920',\n",
       " 'mobley_9653690',\n",
       " 'mobley_3259411',\n",
       " 'mobley_6359135',\n",
       " 'mobley_5759258',\n",
       " 'mobley_3639400',\n",
       " 'mobley_8337977',\n",
       " 'mobley_9507933',\n",
       " 'mobley_430089',\n",
       " 'mobley_7608462',\n",
       " 'mobley_5499659',\n",
       " 'mobley_8823527',\n",
       " 'mobley_6266306',\n",
       " 'mobley_2354112',\n",
       " 'mobley_5326154',\n",
       " 'mobley_2996632',\n",
       " 'mobley_3060426',\n",
       " 'mobley_1743409',\n",
       " 'mobley_2279874',\n",
       " 'mobley_5561855',\n",
       " 'mobley_4792268',\n",
       " 'mobley_5310099',\n",
       " 'mobley_1034539',\n",
       " 'mobley_303222',\n",
       " 'mobley_5816127',\n",
       " 'mobley_6303022',\n",
       " 'mobley_3269819',\n",
       " 'mobley_8754702',\n",
       " 'mobley_2913224',\n",
       " 'mobley_4845722',\n",
       " 'mobley_7869158',\n",
       " 'mobley_486214',\n",
       " 'mobley_2859600',\n",
       " 'mobley_2310185',\n",
       " 'mobley_1967551',\n",
       " 'mobley_6733657',\n",
       " 'mobley_5880265',\n",
       " 'mobley_2123854',\n",
       " 'mobley_588781',\n",
       " 'mobley_7298388',\n",
       " 'mobley_9139060',\n",
       " 'mobley_1592519',\n",
       " 'mobley_5973402',\n",
       " 'mobley_8765203',\n",
       " 'mobley_2925352',\n",
       " 'mobley_2487143',\n",
       " 'mobley_7497999',\n",
       " 'mobley_4149784',\n",
       " 'mobley_3686115',\n",
       " 'mobley_8723116',\n",
       " 'mobley_4553008',\n",
       " 'mobley_2008055',\n",
       " 'mobley_4177472',\n",
       " 'mobley_4291494',\n",
       " 'mobley_2607611',\n",
       " 'mobley_8668219',\n",
       " 'mobley_1755375',\n",
       " 'mobley_7227357',\n",
       " 'mobley_6353617',\n",
       " 'mobley_6082662',\n",
       " 'mobley_5445548',\n",
       " 'mobley_8449031',\n",
       " 'mobley_4375719',\n",
       " 'mobley_2261979',\n",
       " 'mobley_1520842',\n",
       " 'mobley_3053621',\n",
       " 'mobley_129464',\n",
       " 'mobley_6190089',\n",
       " 'mobley_7142697',\n",
       " 'mobley_4587267',\n",
       " 'mobley_6456034',\n",
       " 'mobley_5890803',\n",
       " 'mobley_820789',\n",
       " 'mobley_6743808',\n",
       " 'mobley_1363784',\n",
       " 'mobley_5518547',\n",
       " 'mobley_6727159',\n",
       " 'mobley_7893124',\n",
       " 'mobley_7047032',\n",
       " 'mobley_5286200',\n",
       " 'mobley_2178600',\n",
       " 'mobley_6861308',\n",
       " 'mobley_9729792',\n",
       " 'mobley_550662',\n",
       " 'mobley_3572203',\n",
       " 'mobley_2198613',\n",
       " 'mobley_4893032',\n",
       " 'mobley_667278',\n",
       " 'mobley_2294995',\n",
       " 'mobley_1728386',\n",
       " 'mobley_1944394',\n",
       " 'mobley_5079234',\n",
       " 'mobley_3999471',\n",
       " 'mobley_8124669',\n",
       " 'mobley_2771569',\n",
       " 'mobley_197466',\n",
       " 'mobley_6973347',\n",
       " 'mobley_3663158',\n",
       " 'mobley_7608435',\n",
       " 'mobley_9112978',\n",
       " 'mobley_1017962',\n",
       " 'mobley_3867265',\n",
       " 'mobley_6804509',\n",
       " 'mobley_2422586',\n",
       " 'mobley_637522',\n",
       " 'mobley_766666',\n",
       " 'mobley_3515580',\n",
       " 'mobley_4883284',\n",
       " 'mobley_3775790',\n",
       " 'mobley_9121449',\n",
       " 'mobley_20524',\n",
       " 'mobley_1858644',\n",
       " 'mobley_6911232',\n",
       " 'mobley_3980099',\n",
       " 'mobley_8789864',\n",
       " 'mobley_3040612',\n",
       " 'mobley_6201330',\n",
       " 'mobley_6571751',\n",
       " 'mobley_9257453',\n",
       " 'mobley_8320545',\n",
       " 'mobley_6006813',\n",
       " 'mobley_2269032',\n",
       " 'mobley_2751110',\n",
       " 'mobley_9740891',\n",
       " 'mobley_951560',\n",
       " 'mobley_2341732',\n",
       " 'mobley_7912193',\n",
       " 'mobley_2693089',\n",
       " 'mobley_5471704',\n",
       " 'mobley_7814642',\n",
       " 'mobley_4884177',\n",
       " 'mobley_9209581',\n",
       " 'mobley_1781152',\n",
       " 'mobley_7099614',\n",
       " 'mobley_511661',\n",
       " 'mobley_1735893',\n",
       " 'mobley_1893937',\n",
       " 'mobley_9007496',\n",
       " 'mobley_5467162',\n",
       " 'mobley_3573480',\n",
       " 'mobley_8467917',\n",
       " 'mobley_3083321',\n",
       " 'mobley_3968043',\n",
       " 'mobley_1662128',\n",
       " 'mobley_36119',\n",
       " 'mobley_8221999',\n",
       " 'mobley_7774695',\n",
       " 'mobley_9557440',\n",
       " 'mobley_5371840',\n",
       " 'mobley_349850',\n",
       " 'mobley_8208692',\n",
       " 'mobley_2659552',\n",
       " 'mobley_3395921',\n",
       " 'mobley_8899867',\n",
       " 'mobley_7239499',\n",
       " 'mobley_2068538',\n",
       " 'mobley_1160109',\n",
       " 'mobley_3715043']"
      ]
     },
     "execution_count": 16,
     "metadata": {},
     "output_type": "execute_result"
    }
   ],
   "source": [
    "train_inds"
   ]
  },
  {
   "cell_type": "code",
   "execution_count": 17,
   "metadata": {},
   "outputs": [],
   "source": [
    "from tqdm import tqdm"
   ]
  },
  {
   "cell_type": "code",
   "execution_count": 18,
   "metadata": {},
   "outputs": [],
   "source": [
    "import matplotlib.pyplot as plt"
   ]
  },
  {
   "cell_type": "code",
   "execution_count": 19,
   "metadata": {},
   "outputs": [],
   "source": [
    "from openforcefield.topology import Molecule"
   ]
  },
  {
   "cell_type": "code",
   "execution_count": 20,
   "metadata": {},
   "outputs": [],
   "source": [
    "torch.manual_seed(12345)\n",
    "np.random.seed(12345)"
   ]
  },
  {
   "cell_type": "code",
   "execution_count": 21,
   "metadata": {},
   "outputs": [],
   "source": [
    "graph_model = initialize()\n",
    "learning_rate = 1e-3\n",
    "optimizer = torch.optim.Adam(graph_model.parameters(), lr=learning_rate)"
   ]
  },
  {
   "cell_type": "code",
   "execution_count": 22,
   "metadata": {},
   "outputs": [
    {
     "data": {
      "text/plain": [
       "265"
      ]
     },
     "execution_count": 22,
     "metadata": {},
     "output_type": "execute_result"
    }
   ],
   "source": [
    "keys = train_inds\n",
    "len(keys)"
   ]
  },
  {
   "cell_type": "code",
   "execution_count": 23,
   "metadata": {},
   "outputs": [],
   "source": [
    "def get_all_preds(keys):\n",
    "    \"\"\"TODO: have this (and predict_on_key()) accept an argument that prevents subsampling the configurations\"\"\"\n",
    "    predict_dict = dict()\n",
    "    for key in keys:\n",
    "        predict_dict[key] = float(predict_on_key(key, graph_model, 50).detach() * kT / unit.kilocalorie_per_mole)\n",
    "    return predict_dict"
   ]
  },
  {
   "cell_type": "code",
   "execution_count": 24,
   "metadata": {},
   "outputs": [],
   "source": [
    "def report_train_and_validation_rmse(predict_dict):\n",
    "    train_residuals = np.array([predict_dict[key] - df['experimental value (kcal/mol)'][key] for key in train_inds])\n",
    "    validation_residuals = np.array([predict_dict[key] - df['experimental value (kcal/mol)'][key] for key in valid_inds])\n",
    "    \n",
    "    return np.sqrt(np.mean(train_residuals**2)), np.sqrt(np.mean(validation_residuals**2))"
   ]
  },
  {
   "cell_type": "code",
   "execution_count": 25,
   "metadata": {},
   "outputs": [
    {
     "name": "stderr",
     "output_type": "stream",
     "text": [
      "  0%|          | 1/1000 [00:35<9:45:36, 35.17s/it, batch_rmse_in_kcalmol=3.61]"
     ]
    },
    {
     "name": "stdout",
     "output_type": "stream",
     "text": [
      "training rmse: 4.154\n",
      "validation rmse: 3.714\n"
     ]
    },
    {
     "name": "stderr",
     "output_type": "stream",
     "text": [
      "  3%|▎         | 27/1000 [01:19<2:48:43, 10.40s/it, batch_rmse_in_kcalmol=2.61]"
     ]
    },
    {
     "name": "stdout",
     "output_type": "stream",
     "text": [
      "training rmse: 2.862\n",
      "validation rmse: 2.523\n"
     ]
    },
    {
     "name": "stderr",
     "output_type": "stream",
     "text": [
      "  5%|▌         | 53/1000 [02:12<3:13:17, 12.25s/it, batch_rmse_in_kcalmol=3.26]"
     ]
    },
    {
     "name": "stdout",
     "output_type": "stream",
     "text": [
      "training rmse: 2.455\n",
      "validation rmse: 2.151\n"
     ]
    },
    {
     "name": "stderr",
     "output_type": "stream",
     "text": [
      "  8%|▊         | 79/1000 [03:04<3:07:09, 12.19s/it, batch_rmse_in_kcalmol=1.51]"
     ]
    },
    {
     "name": "stdout",
     "output_type": "stream",
     "text": [
      "training rmse: 1.896\n",
      "validation rmse: 2.005\n"
     ]
    },
    {
     "name": "stderr",
     "output_type": "stream",
     "text": [
      " 10%|█         | 105/1000 [03:57<2:57:45, 11.92s/it, batch_rmse_in_kcalmol=2.2]"
     ]
    },
    {
     "name": "stdout",
     "output_type": "stream",
     "text": [
      "training rmse: 1.834\n",
      "validation rmse: 1.978\n"
     ]
    },
    {
     "name": "stderr",
     "output_type": "stream",
     "text": [
      " 13%|█▎        | 131/1000 [04:53<3:09:52, 13.11s/it, batch_rmse_in_kcalmol=1.62]"
     ]
    },
    {
     "name": "stdout",
     "output_type": "stream",
     "text": [
      "training rmse: 1.652\n",
      "validation rmse: 2.145\n"
     ]
    },
    {
     "name": "stderr",
     "output_type": "stream",
     "text": [
      " 16%|█▌        | 157/1000 [05:44<2:46:59, 11.89s/it, batch_rmse_in_kcalmol=4.56] "
     ]
    },
    {
     "name": "stdout",
     "output_type": "stream",
     "text": [
      "training rmse: 1.562\n",
      "validation rmse: 1.818\n"
     ]
    },
    {
     "name": "stderr",
     "output_type": "stream",
     "text": [
      " 18%|█▊        | 183/1000 [06:36<2:43:23, 12.00s/it, batch_rmse_in_kcalmol=1.21]"
     ]
    },
    {
     "name": "stdout",
     "output_type": "stream",
     "text": [
      "training rmse: 1.353\n",
      "validation rmse: 1.913\n"
     ]
    },
    {
     "name": "stderr",
     "output_type": "stream",
     "text": [
      " 21%|██        | 209/1000 [07:37<3:13:12, 14.66s/it, batch_rmse_in_kcalmol=0.788]"
     ]
    },
    {
     "name": "stdout",
     "output_type": "stream",
     "text": [
      "training rmse: 1.296\n",
      "validation rmse: 2.020\n"
     ]
    },
    {
     "name": "stderr",
     "output_type": "stream",
     "text": [
      " 24%|██▎       | 235/1000 [08:35<2:43:56, 12.86s/it, batch_rmse_in_kcalmol=1.45] "
     ]
    },
    {
     "name": "stdout",
     "output_type": "stream",
     "text": [
      "training rmse: 1.364\n",
      "validation rmse: 1.631\n"
     ]
    },
    {
     "name": "stderr",
     "output_type": "stream",
     "text": [
      " 26%|██▌       | 261/1000 [09:33<2:47:02, 13.56s/it, batch_rmse_in_kcalmol=2.58] "
     ]
    },
    {
     "name": "stdout",
     "output_type": "stream",
     "text": [
      "training rmse: 1.281\n",
      "validation rmse: 1.599\n"
     ]
    },
    {
     "name": "stderr",
     "output_type": "stream",
     "text": [
      " 29%|██▊       | 287/1000 [10:27<2:29:21, 12.57s/it, batch_rmse_in_kcalmol=0.864]"
     ]
    },
    {
     "name": "stdout",
     "output_type": "stream",
     "text": [
      "training rmse: 1.232\n",
      "validation rmse: 1.578\n"
     ]
    },
    {
     "name": "stderr",
     "output_type": "stream",
     "text": [
      " 31%|███▏      | 313/1000 [11:25<2:24:20, 12.61s/it, batch_rmse_in_kcalmol=1.48] "
     ]
    },
    {
     "name": "stdout",
     "output_type": "stream",
     "text": [
      "training rmse: 1.234\n",
      "validation rmse: 1.686\n"
     ]
    },
    {
     "name": "stderr",
     "output_type": "stream",
     "text": [
      " 34%|███▍      | 339/1000 [12:17<2:15:37, 12.31s/it, batch_rmse_in_kcalmol=1.1]  "
     ]
    },
    {
     "name": "stdout",
     "output_type": "stream",
     "text": [
      "training rmse: 1.322\n",
      "validation rmse: 1.613\n"
     ]
    },
    {
     "name": "stderr",
     "output_type": "stream",
     "text": [
      " 36%|███▋      | 365/1000 [13:12<2:17:24, 12.98s/it, batch_rmse_in_kcalmol=1.53] "
     ]
    },
    {
     "name": "stdout",
     "output_type": "stream",
     "text": [
      "training rmse: 1.492\n",
      "validation rmse: 1.765\n"
     ]
    },
    {
     "name": "stderr",
     "output_type": "stream",
     "text": [
      " 39%|███▉      | 391/1000 [14:10<2:15:06, 13.31s/it, batch_rmse_in_kcalmol=1.22]"
     ]
    },
    {
     "name": "stdout",
     "output_type": "stream",
     "text": [
      "training rmse: 1.148\n",
      "validation rmse: 1.678\n"
     ]
    },
    {
     "name": "stderr",
     "output_type": "stream",
     "text": [
      " 42%|████▏     | 417/1000 [15:07<2:08:21, 13.21s/it, batch_rmse_in_kcalmol=1.58]"
     ]
    },
    {
     "name": "stdout",
     "output_type": "stream",
     "text": [
      "training rmse: 1.152\n",
      "validation rmse: 1.839\n"
     ]
    },
    {
     "name": "stderr",
     "output_type": "stream",
     "text": [
      " 44%|████▍     | 443/1000 [16:06<2:06:55, 13.67s/it, batch_rmse_in_kcalmol=3.15]"
     ]
    },
    {
     "name": "stdout",
     "output_type": "stream",
     "text": [
      "training rmse: 1.183\n",
      "validation rmse: 2.216\n"
     ]
    },
    {
     "name": "stderr",
     "output_type": "stream",
     "text": [
      " 47%|████▋     | 469/1000 [17:04<1:55:44, 13.08s/it, batch_rmse_in_kcalmol=1.7]  "
     ]
    },
    {
     "name": "stdout",
     "output_type": "stream",
     "text": [
      "training rmse: 1.120\n",
      "validation rmse: 1.781\n"
     ]
    },
    {
     "name": "stderr",
     "output_type": "stream",
     "text": [
      " 50%|████▉     | 495/1000 [17:57<1:44:22, 12.40s/it, batch_rmse_in_kcalmol=1.84] "
     ]
    },
    {
     "name": "stdout",
     "output_type": "stream",
     "text": [
      "training rmse: 1.107\n",
      "validation rmse: 1.744\n"
     ]
    },
    {
     "name": "stderr",
     "output_type": "stream",
     "text": [
      " 52%|█████▏    | 521/1000 [18:48<1:33:52, 11.76s/it, batch_rmse_in_kcalmol=2.8] "
     ]
    },
    {
     "name": "stdout",
     "output_type": "stream",
     "text": [
      "training rmse: 1.825\n",
      "validation rmse: 2.049\n"
     ]
    },
    {
     "name": "stderr",
     "output_type": "stream",
     "text": [
      " 55%|█████▍    | 547/1000 [19:40<1:32:48, 12.29s/it, batch_rmse_in_kcalmol=3.15]"
     ]
    },
    {
     "name": "stdout",
     "output_type": "stream",
     "text": [
      "training rmse: 1.276\n",
      "validation rmse: 1.539\n"
     ]
    },
    {
     "name": "stderr",
     "output_type": "stream",
     "text": [
      " 57%|█████▋    | 573/1000 [20:34<1:28:18, 12.41s/it, batch_rmse_in_kcalmol=1.83]"
     ]
    },
    {
     "name": "stdout",
     "output_type": "stream",
     "text": [
      "training rmse: 1.186\n",
      "validation rmse: 1.424\n"
     ]
    },
    {
     "name": "stderr",
     "output_type": "stream",
     "text": [
      " 60%|█████▉    | 599/1000 [21:28<1:23:43, 12.53s/it, batch_rmse_in_kcalmol=1.77] "
     ]
    },
    {
     "name": "stdout",
     "output_type": "stream",
     "text": [
      "training rmse: 1.125\n",
      "validation rmse: 1.373\n"
     ]
    },
    {
     "name": "stderr",
     "output_type": "stream",
     "text": [
      " 62%|██████▎   | 625/1000 [22:25<1:21:56, 13.11s/it, batch_rmse_in_kcalmol=1.15]"
     ]
    },
    {
     "name": "stdout",
     "output_type": "stream",
     "text": [
      "training rmse: 1.134\n",
      "validation rmse: 1.391\n"
     ]
    },
    {
     "name": "stderr",
     "output_type": "stream",
     "text": [
      " 65%|██████▌   | 651/1000 [23:28<1:20:36, 13.86s/it, batch_rmse_in_kcalmol=1.04] "
     ]
    },
    {
     "name": "stdout",
     "output_type": "stream",
     "text": [
      "training rmse: 1.064\n",
      "validation rmse: 1.320\n"
     ]
    },
    {
     "name": "stderr",
     "output_type": "stream",
     "text": [
      " 68%|██████▊   | 677/1000 [24:31<1:19:44, 14.81s/it, batch_rmse_in_kcalmol=0.71]"
     ]
    },
    {
     "name": "stdout",
     "output_type": "stream",
     "text": [
      "training rmse: 1.035\n",
      "validation rmse: 1.270\n"
     ]
    },
    {
     "name": "stderr",
     "output_type": "stream",
     "text": [
      " 70%|███████   | 703/1000 [25:30<1:03:32, 12.84s/it, batch_rmse_in_kcalmol=1.89]"
     ]
    },
    {
     "name": "stdout",
     "output_type": "stream",
     "text": [
      "training rmse: 1.016\n",
      "validation rmse: 1.237\n"
     ]
    },
    {
     "name": "stderr",
     "output_type": "stream",
     "text": [
      " 73%|███████▎  | 729/1000 [26:24<54:21, 12.04s/it, batch_rmse_in_kcalmol=0.761] "
     ]
    },
    {
     "name": "stdout",
     "output_type": "stream",
     "text": [
      "training rmse: 1.027\n",
      "validation rmse: 1.246\n"
     ]
    },
    {
     "name": "stderr",
     "output_type": "stream",
     "text": [
      " 76%|███████▌  | 755/1000 [27:14<45:58, 11.26s/it, batch_rmse_in_kcalmol=0.414]"
     ]
    },
    {
     "name": "stdout",
     "output_type": "stream",
     "text": [
      "training rmse: 1.005\n",
      "validation rmse: 1.232\n"
     ]
    },
    {
     "name": "stderr",
     "output_type": "stream",
     "text": [
      " 78%|███████▊  | 781/1000 [28:03<41:36, 11.40s/it, batch_rmse_in_kcalmol=1]    "
     ]
    },
    {
     "name": "stdout",
     "output_type": "stream",
     "text": [
      "training rmse: 0.959\n",
      "validation rmse: 1.168\n"
     ]
    },
    {
     "name": "stderr",
     "output_type": "stream",
     "text": [
      " 81%|████████  | 807/1000 [28:52<35:48, 11.13s/it, batch_rmse_in_kcalmol=0.886]"
     ]
    },
    {
     "name": "stdout",
     "output_type": "stream",
     "text": [
      "training rmse: 0.982\n",
      "validation rmse: 1.270\n"
     ]
    },
    {
     "name": "stderr",
     "output_type": "stream",
     "text": [
      " 83%|████████▎ | 833/1000 [29:44<33:45, 12.13s/it, batch_rmse_in_kcalmol=0.848]"
     ]
    },
    {
     "name": "stdout",
     "output_type": "stream",
     "text": [
      "training rmse: 0.988\n",
      "validation rmse: 1.324\n"
     ]
    },
    {
     "name": "stderr",
     "output_type": "stream",
     "text": [
      " 86%|████████▌ | 859/1000 [30:36<28:04, 11.95s/it, batch_rmse_in_kcalmol=1.4]  "
     ]
    },
    {
     "name": "stdout",
     "output_type": "stream",
     "text": [
      "training rmse: 0.961\n",
      "validation rmse: 1.333\n"
     ]
    },
    {
     "name": "stderr",
     "output_type": "stream",
     "text": [
      " 88%|████████▊ | 885/1000 [31:20<19:14, 10.04s/it, batch_rmse_in_kcalmol=0.489]"
     ]
    },
    {
     "name": "stdout",
     "output_type": "stream",
     "text": [
      "training rmse: 0.914\n",
      "validation rmse: 1.242\n"
     ]
    },
    {
     "name": "stderr",
     "output_type": "stream",
     "text": [
      " 91%|█████████ | 911/1000 [32:10<17:26, 11.76s/it, batch_rmse_in_kcalmol=1.58] "
     ]
    },
    {
     "name": "stdout",
     "output_type": "stream",
     "text": [
      "training rmse: 0.918\n",
      "validation rmse: 1.297\n"
     ]
    },
    {
     "name": "stderr",
     "output_type": "stream",
     "text": [
      " 94%|█████████▎| 937/1000 [33:01<11:57, 11.39s/it, batch_rmse_in_kcalmol=1.55] "
     ]
    },
    {
     "name": "stdout",
     "output_type": "stream",
     "text": [
      "training rmse: 0.886\n",
      "validation rmse: 1.254\n"
     ]
    },
    {
     "name": "stderr",
     "output_type": "stream",
     "text": [
      " 96%|█████████▋| 963/1000 [33:51<07:06, 11.53s/it, batch_rmse_in_kcalmol=0.531]"
     ]
    },
    {
     "name": "stdout",
     "output_type": "stream",
     "text": [
      "training rmse: 0.879\n",
      "validation rmse: 1.235\n"
     ]
    },
    {
     "name": "stderr",
     "output_type": "stream",
     "text": [
      " 99%|█████████▉| 989/1000 [34:47<02:24, 13.10s/it, batch_rmse_in_kcalmol=0.578]"
     ]
    },
    {
     "name": "stdout",
     "output_type": "stream",
     "text": [
      "training rmse: 0.854\n",
      "validation rmse: 1.269\n"
     ]
    },
    {
     "name": "stderr",
     "output_type": "stream",
     "text": [
      "100%|██████████| 1000/1000 [34:54<00:00,  2.09s/it, batch_rmse_in_kcalmol=1.13]\n"
     ]
    }
   ],
   "source": [
    "predictions = []\n",
    "\n",
    "batch_losses = []\n",
    "trange = tqdm(range(1000))\n",
    "\n",
    "n_mols_per_batch = 10\n",
    "n_snapshots_per_mol = 15\n",
    "\n",
    "for t in trange:\n",
    "    \n",
    "    # optionally subsample the training set...\n",
    "    keys = np.random.choice(train_inds, size=n_mols_per_batch)\n",
    "    \n",
    "    L = 0.0\n",
    "    for key in keys:\n",
    "        # make a free energy prediction using a random subset of snapshots for each key\n",
    "        prediction  = predict_on_key(key, graph_model, n_snapshots_per_mol)\n",
    "        target = (df['experimental value (kcal/mol)'][key] * unit.kilocalorie_per_mole) / kT\n",
    "    \n",
    "        # TODO: modify loss function to depend on experimental error and simulation error\n",
    "        L += (prediction - target)**2\n",
    "        #predictions.append((t, key, prediction))\n",
    "    \n",
    "    L /= len(keys)\n",
    "\n",
    "    optimizer.zero_grad()\n",
    "    L.backward()\n",
    "    optimizer.step()\n",
    "    \n",
    "    batch_losses.append(L.detach().numpy())\n",
    "    rmse_in_kcalmol = np.sqrt(batch_losses[-1] * kT / unit.kilocalories_per_mole)\n",
    "    trange.set_postfix(batch_rmse_in_kcalmol=rmse_in_kcalmol)\n",
    "    \n",
    "    n_batches_per_epoch = int(len(train_inds) / n_mols_per_batch)\n",
    "    \n",
    "    if t % n_batches_per_epoch == 0:\n",
    "        epoch = int(t / n_batches_per_epoch)\n",
    "        p = get_all_preds(cho_freesolv)\n",
    "        predictions.append(p)\n",
    "        train_rmse, valid_rmse = report_train_and_validation_rmse(p)\n",
    "        print(f'training rmse: {train_rmse:.3f}')\n",
    "        print(f'validation rmse: {valid_rmse:.3f}')\n",
    "        \n",
    "        torch.save(graph_model, f'cho_freesolv_epoch={epoch}.pt')"
   ]
  },
  {
   "cell_type": "code",
   "execution_count": 26,
   "metadata": {},
   "outputs": [],
   "source": [
    "def count_params(graph_model):\n",
    "    n_readout = sum([torch.prod(torch.tensor(v.shape)) for v in graph_model.readouts.atoms.state_dict().values()])\n",
    "    n_rep = sum([torch.prod(torch.tensor(v.shape)) for v in graph_model.node_representation.state_dict().values()])\n",
    "    return n_rep + n_readout"
   ]
  },
  {
   "cell_type": "code",
   "execution_count": 27,
   "metadata": {},
   "outputs": [
    {
     "data": {
      "text/plain": [
       "tensor(115842)"
      ]
     },
     "execution_count": 27,
     "metadata": {},
     "output_type": "execute_result"
    }
   ],
   "source": [
    "count_params(graph_model)"
   ]
  },
  {
   "cell_type": "code",
   "execution_count": 28,
   "metadata": {},
   "outputs": [
    {
     "data": {
      "text/plain": [
       "39"
      ]
     },
     "execution_count": 28,
     "metadata": {},
     "output_type": "execute_result"
    }
   ],
   "source": [
    "len(predictions)"
   ]
  },
  {
   "cell_type": "code",
   "execution_count": 29,
   "metadata": {},
   "outputs": [
    {
     "data": {
      "text/plain": [
       "1.1678099603505632"
      ]
     },
     "execution_count": 29,
     "metadata": {},
     "output_type": "execute_result"
    }
   ],
   "source": [
    "rmses = np.array([report_train_and_validation_rmse(p) for p in predictions])\n",
    "rmses[:,1].min()"
   ]
  },
  {
   "cell_type": "code",
   "execution_count": 59,
   "metadata": {},
   "outputs": [],
   "source": [
    "name = '{C,H,O,N,Cl} mini-freesolv' + f'\\n(n={len(cho_freesolv)})'"
   ]
  },
  {
   "cell_type": "code",
   "execution_count": 60,
   "metadata": {},
   "outputs": [
    {
     "data": {
      "text/plain": [
       "Text(0.5, 1.0, '{C,H,O,N,Cl} mini-freesolv\\n(n=529)')"
      ]
     },
     "execution_count": 60,
     "metadata": {},
     "output_type": "execute_result"
    },
    {
     "data": {
      "image/png": "[encoded data removed]",
      "text/plain": [
       "<Figure size 432x288 with 1 Axes>"
      ]
     },
     "metadata": {
      "needs_background": "light"
     },
     "output_type": "display_data"
    }
   ],
   "source": [
    "plt.plot(rmses[:,0], label=f'training set (n={len(train_inds)})')\n",
    "plt.plot(rmses[:,1], label=f'validation set (n={len(valid_inds)})')\n",
    "plt.legend()\n",
    "plt.hlines(np.min(rmses[:,1]), 0, len(rmses), linestyles='--', color='grey')\n",
    "plt.xlabel('epoch')\n",
    "plt.ylabel('RMSE (kcal/mol)')\n",
    "plt.ylim(0,)\n",
    "plt.title(name)"
   ]
  },
  {
   "cell_type": "code",
   "execution_count": 61,
   "metadata": {},
   "outputs": [
    {
     "data": {
      "text/plain": [
       "Text(0.5, 1.0, '{C,H,O,N,Cl} mini-freesolv\\n(n=529)')"
      ]
     },
     "execution_count": 61,
     "metadata": {},
     "output_type": "execute_result"
    },
    {
     "data": {
      "image/png": "[encoded data removed]",
      "text/plain": [
       "<Figure size 432x288 with 1 Axes>"
      ]
     },
     "metadata": {
      "needs_background": "light"
     },
     "output_type": "display_data"
    }
   ],
   "source": [
    "plt.plot(rmses[:,0], label=f'training set (n={len(train_inds)})')\n",
    "plt.plot(rmses[:,1], label=f'validation set (n={len(valid_inds)})')\n",
    "plt.legend()\n",
    "plt.hlines(np.min(rmses[:,1]), 0, len(rmses), linestyles='--', color='grey')\n",
    "plt.xlabel('epoch')\n",
    "plt.ylabel('RMSE (kcal/mol)')\n",
    "plt.ylim(0.5,2.5)\n",
    "plt.title(name)"
   ]
  },
  {
   "cell_type": "code",
   "execution_count": 32,
   "metadata": {},
   "outputs": [
    {
     "data": {
      "text/plain": [
       "(30, 39)"
      ]
     },
     "execution_count": 32,
     "metadata": {},
     "output_type": "execute_result"
    }
   ],
   "source": [
    "np.argmin(rmses[:,1]), len(rmses[:,1])"
   ]
  },
  {
   "cell_type": "code",
   "execution_count": 33,
   "metadata": {},
   "outputs": [],
   "source": [
    "rmse_in_kcalmol = [np.sqrt(b * kT / unit.kilocalories_per_mole) for b in batch_losses]"
   ]
  },
  {
   "cell_type": "code",
   "execution_count": 34,
   "metadata": {},
   "outputs": [
    {
     "data": {
      "text/plain": [
       "Text(0.5, 1.0, 'minibatch loss trajectory')"
      ]
     },
     "execution_count": 34,
     "metadata": {},
     "output_type": "execute_result"
    },
    {
     "data": {
      "image/png": "[encoded data removed]",
      "text/plain": [
       "<Figure size 432x288 with 1 Axes>"
      ]
     },
     "metadata": {
      "needs_background": "light"
     },
     "output_type": "display_data"
    }
   ],
   "source": [
    "plt.plot(rmse_in_kcalmol)\n",
    "plt.xlabel('Adam iteration')\n",
    "plt.ylabel('RMSE loss on current minibatch')\n",
    "plt.ylim(0,)\n",
    "plt.title('minibatch loss trajectory')"
   ]
  },
  {
   "cell_type": "code",
   "execution_count": 42,
   "metadata": {},
   "outputs": [],
   "source": [
    "final_predict_dict = predictions[np.argmin(rmses[:,1])]"
   ]
  },
  {
   "cell_type": "code",
   "execution_count": 43,
   "metadata": {},
   "outputs": [
    {
     "data": {
      "text/plain": [
       "3.085479133361631"
      ]
     },
     "execution_count": 43,
     "metadata": {},
     "output_type": "execute_result"
    }
   ],
   "source": [
    "float(final_predict_dict[key])"
   ]
  },
  {
   "cell_type": "code",
   "execution_count": 44,
   "metadata": {},
   "outputs": [],
   "source": [
    "splits = {\n",
    "    'training': train_inds,\n",
    "    'validation': valid_inds,\n",
    "}"
   ]
  },
  {
   "cell_type": "code",
   "execution_count": 45,
   "metadata": {},
   "outputs": [],
   "source": [
    "def bootstrap_rmse(sq_residuals, n_bootstrap=1000):\n",
    "    N = len(sq_residuals)\n",
    "    \n",
    "    rmses = [np.sqrt(np.mean(sq_residuals[np.random.randint(0, N, N)])) for _ in range(n_bootstrap)]\n",
    "    return np.array(rmses)"
   ]
  },
  {
   "cell_type": "code",
   "execution_count": 46,
   "metadata": {},
   "outputs": [],
   "source": [
    "def report_rmse_pm_95ci(sq_residuals: np.ndarray, n_bootstrap=1000) -> str:\n",
    "    rmse = np.sqrt(np.mean(sq_residuals))\n",
    "    rmses = bootstrap_rmse(sq_residuals)\n",
    "    return f'{rmse:.2f} ' + r'$\\pm$' + f' {1.96 * np.std(rmses):.2f}'"
   ]
  },
  {
   "cell_type": "code",
   "execution_count": 49,
   "metadata": {},
   "outputs": [
    {
     "name": "stdout",
     "output_type": "stream",
     "text": [
      "training 0.96 $\\pm$ 0.15\n",
      "validation 1.17 $\\pm$ 0.18\n"
     ]
    },
    {
     "data": {
      "image/png": "[encoded data removed]",
      "text/plain": [
       "<Figure size 864x432 with 2 Axes>"
      ]
     },
     "metadata": {
      "needs_background": "light"
     },
     "output_type": "display_data"
    }
   ],
   "source": [
    "plt.figure(figsize=(12,6))\n",
    "ax = None\n",
    "\n",
    "for i, split_name in enumerate(splits):\n",
    "    split = splits[split_name]\n",
    "    x = np.array([final_predict_dict[key] for key in split])\n",
    "    y = np.array([df['experimental value (kcal/mol)'][key] for key in split])\n",
    "    \n",
    "    rmse_string = report_rmse_pm_95ci((x - y)**2)\n",
    "    print(split_name, rmse_string)\n",
    "    \n",
    "    \n",
    "    ax = plt.subplot(1,2,i+1, sharex=ax, sharey=ax)\n",
    "    plt.scatter(x, y)\n",
    "    plt.xlabel('predicted (kcal/mol)')\n",
    "    plt.ylabel('reference (kcal/mol)')\n",
    "    plt.plot([min(y), max(y)], [min(y), max(y)])\n",
    "\n",
    "    plt.title(f'GBSA hydration free energies\\n{split_name} set RMSE = {rmse_string} kcal/mol')\n",
    "plt.tight_layout()"
   ]
  },
  {
   "cell_type": "code",
   "execution_count": 48,
   "metadata": {},
   "outputs": [
    {
     "data": {
      "text/plain": [
       "3.6046000653049712"
      ]
     },
     "execution_count": 48,
     "metadata": {},
     "output_type": "execute_result"
    }
   ],
   "source": [
    "# compare with the RMSE that would be obtained by predicting a constant\n",
    "np.sqrt(np.mean((y - np.mean(y))**2))"
   ]
  },
  {
   "cell_type": "markdown",
   "metadata": {},
   "source": [
    "#### TODOs:\n",
    "* Higher-quality vacuum trajectories\n",
    "* Add bootstrapped rmse bands to train/validation curves, not just to titles of scatterplots\n",
    "* Do many train/validation splits and report averages / stddevs\n",
    "* Currently the input is just element identity, one-hot-encoded --> switch to using espaloma's initial atom featurizer?\n",
    "* Update loss from un-scaled RMSE to something more like a likelihood (incorporating expt error + free-energy-estimator error)\n",
    "* Do series of mini-freesolvs"
   ]
  },
  {
   "cell_type": "code",
   "execution_count": null,
   "metadata": {},
   "outputs": [],
   "source": []
  }
 ],
 "metadata": {
  "kernelspec": {
   "display_name": "Python [conda env:espaloma]",
   "language": "python",
   "name": "conda-env-espaloma-py"
  },
  "language_info": {
   "codemirror_mode": {
    "name": "ipython",
    "version": 3
   },
   "file_extension": ".py",
   "mimetype": "text/x-python",
   "name": "python",
   "nbconvert_exporter": "python",
   "pygments_lexer": "ipython3",
   "version": "3.7.8"
  }
 },
 "nbformat": 4,
 "nbformat_minor": 4
}
