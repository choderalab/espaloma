{
 "cells": [
  {
   "cell_type": "markdown",
   "metadata": {},
   "source": [
    "#### Grab a random molecule from FreeSolv, parameterize with OpenFF 1.2.0, generate some configuration snapshots"
   ]
  },
  {
   "cell_type": "code",
   "execution_count": 1,
   "metadata": {},
   "outputs": [
    {
     "data": {
      "text/plain": [
       "'0.8.0'"
      ]
     },
     "execution_count": 1,
     "metadata": {},
     "output_type": "execute_result"
    }
   ],
   "source": [
    "import openforcefield\n",
    "openforcefield.__version__"
   ]
  },
  {
   "cell_type": "code",
   "execution_count": 2,
   "metadata": {},
   "outputs": [
    {
     "data": {
      "application/vnd.jupyter.widget-view+json": {
       "model_id": "8ef8385addeb4f449eafb3eda1c9ee24",
       "version_major": 2,
       "version_minor": 0
      },
      "text/plain": []
     },
     "metadata": {},
     "output_type": "display_data"
    }
   ],
   "source": [
    "from openforcefield.topology import Molecule\n",
    "from openforcefield.typing.engines.smirnoff import ForceField\n",
    "forcefield = ForceField('openff-1.2.0.offxml')"
   ]
  },
  {
   "cell_type": "code",
   "execution_count": 3,
   "metadata": {},
   "outputs": [
    {
     "data": {
      "image/png": "[encoded data removed]",
      "text/plain": [
       "<rdkit.Chem.rdchem.Mol at 0x7f82313f2f30>"
      ]
     },
     "metadata": {},
     "output_type": "display_data"
    }
   ],
   "source": [
    "# random molecule from freesolv database.txt\n",
    "# https://github.com/MobleyLab/FreeSolv/blob/ff0961a3177863c8002e8487ff9718c513974138/database.txt#L397\n",
    "offmol = Molecule.from_smiles('COc1c(c(c(c(c1Cl)C=O)Cl)OC)O')\n",
    "offmol"
   ]
  },
  {
   "cell_type": "code",
   "execution_count": 4,
   "metadata": {},
   "outputs": [],
   "source": [
    "offmol.compute_partial_charges_am1bcc()"
   ]
  },
  {
   "cell_type": "code",
   "execution_count": 5,
   "metadata": {},
   "outputs": [],
   "source": [
    "offmol.generate_conformers()"
   ]
  },
  {
   "cell_type": "code",
   "execution_count": 6,
   "metadata": {},
   "outputs": [
    {
     "data": {
      "image/png": "[encoded data removed]",
      "text/plain": [
       "<rdkit.Chem.rdchem.Mol at 0x7f8231598030>"
      ]
     },
     "execution_count": 6,
     "metadata": {},
     "output_type": "execute_result"
    }
   ],
   "source": [
    "offmol.to_rdkit()"
   ]
  },
  {
   "cell_type": "code",
   "execution_count": 7,
   "metadata": {},
   "outputs": [
    {
     "data": {
      "text/plain": [
       "1"
      ]
     },
     "execution_count": 7,
     "metadata": {},
     "output_type": "execute_result"
    }
   ],
   "source": [
    "len(offmol.conformers)"
   ]
  },
  {
   "cell_type": "code",
   "execution_count": 8,
   "metadata": {},
   "outputs": [],
   "source": [
    "sys = forcefield.create_openmm_system(offmol.to_topology())\n",
    "top = offmol.to_topology().to_openmm()"
   ]
  },
  {
   "cell_type": "code",
   "execution_count": 9,
   "metadata": {},
   "outputs": [],
   "source": [
    "from simtk import unit\n",
    "from simtk import openmm as mm\n",
    "from simtk.openmm import app\n",
    "\n",
    "\n",
    "temperature = 300 * unit.kelvin\n",
    "gamma = 100.0 / unit.picosecond\n",
    "dt = 1.0 * unit.femtosecond\n",
    "\n",
    "sim = app.Simulation(top, sys, mm.LangevinIntegrator(temperature, gamma, dt))"
   ]
  },
  {
   "cell_type": "code",
   "execution_count": 10,
   "metadata": {},
   "outputs": [],
   "source": [
    "off_charges = offmol.partial_charges"
   ]
  },
  {
   "cell_type": "code",
   "execution_count": 11,
   "metadata": {},
   "outputs": [
    {
     "data": {
      "text/plain": [
       "<simtk.openmm.openmm.NonbondedForce; proxy of <Swig Object of type 'OpenMM::NonbondedForce *' at 0x7f82315ecd80> >"
      ]
     },
     "execution_count": 11,
     "metadata": {},
     "output_type": "execute_result"
    }
   ],
   "source": [
    "nb_force = sys.getForce(0)\n",
    "nb_force"
   ]
  },
  {
   "cell_type": "code",
   "execution_count": 12,
   "metadata": {},
   "outputs": [
    {
     "data": {
      "text/plain": [
       "23"
      ]
     },
     "execution_count": 12,
     "metadata": {},
     "output_type": "execute_result"
    }
   ],
   "source": [
    "N = offmol.n_atoms\n",
    "N"
   ]
  },
  {
   "cell_type": "code",
   "execution_count": 13,
   "metadata": {},
   "outputs": [],
   "source": [
    "omm_charges = []\n",
    "for i in range(N):\n",
    "    omm_charges.append(nb_force.getParticleParameters(i)[0])"
   ]
  },
  {
   "cell_type": "code",
   "execution_count": 14,
   "metadata": {},
   "outputs": [
    {
     "data": {
      "text/plain": [
       "[Quantity(value=0.0, unit=elementary charge),\n",
       " Quantity(value=0.0, unit=elementary charge),\n",
       " Quantity(value=0.0, unit=elementary charge),\n",
       " Quantity(value=0.0, unit=elementary charge),\n",
       " Quantity(value=0.0, unit=elementary charge),\n",
       " Quantity(value=0.0, unit=elementary charge),\n",
       " Quantity(value=0.0, unit=elementary charge),\n",
       " Quantity(value=0.0, unit=elementary charge),\n",
       " Quantity(value=0.0, unit=elementary charge),\n",
       " Quantity(value=0.0, unit=elementary charge),\n",
       " Quantity(value=0.0, unit=elementary charge),\n",
       " Quantity(value=0.0, unit=elementary charge),\n",
       " Quantity(value=0.0, unit=elementary charge),\n",
       " Quantity(value=0.0, unit=elementary charge),\n",
       " Quantity(value=0.0, unit=elementary charge),\n",
       " Quantity(value=0.0, unit=elementary charge),\n",
       " Quantity(value=0.0, unit=elementary charge),\n",
       " Quantity(value=0.0, unit=elementary charge),\n",
       " Quantity(value=0.0, unit=elementary charge),\n",
       " Quantity(value=0.0, unit=elementary charge),\n",
       " Quantity(value=0.0, unit=elementary charge),\n",
       " Quantity(value=0.0, unit=elementary charge),\n",
       " Quantity(value=0.0, unit=elementary charge)]"
      ]
     },
     "execution_count": 14,
     "metadata": {},
     "output_type": "execute_result"
    }
   ],
   "source": [
    "charge_differences = [omm_charges[i] - off_charges[i] for i in range(N)]\n",
    "charge_differences"
   ]
  },
  {
   "cell_type": "code",
   "execution_count": 15,
   "metadata": {},
   "outputs": [],
   "source": [
    "sim.context.setPositions(offmol.conformers[0])"
   ]
  },
  {
   "cell_type": "code",
   "execution_count": 16,
   "metadata": {},
   "outputs": [],
   "source": [
    "def get_energy():\n",
    "    return sim.context.getState(getEnergy=True).getPotentialEnergy()"
   ]
  },
  {
   "cell_type": "code",
   "execution_count": 17,
   "metadata": {},
   "outputs": [
    {
     "data": {
      "text/plain": [
       "Quantity(value=258.4339904785156, unit=kilojoule/mole)"
      ]
     },
     "execution_count": 17,
     "metadata": {},
     "output_type": "execute_result"
    }
   ],
   "source": [
    "get_energy()"
   ]
  },
  {
   "cell_type": "code",
   "execution_count": 18,
   "metadata": {},
   "outputs": [],
   "source": [
    "sim.minimizeEnergy()"
   ]
  },
  {
   "cell_type": "code",
   "execution_count": 19,
   "metadata": {},
   "outputs": [
    {
     "data": {
      "text/plain": [
       "Quantity(value=242.51620483398438, unit=kilojoule/mole)"
      ]
     },
     "execution_count": 19,
     "metadata": {},
     "output_type": "execute_result"
    }
   ],
   "source": [
    "get_energy()"
   ]
  },
  {
   "cell_type": "code",
   "execution_count": 20,
   "metadata": {},
   "outputs": [],
   "source": [
    "sim.context.setVelocitiesToTemperature(temperature)"
   ]
  },
  {
   "cell_type": "code",
   "execution_count": 21,
   "metadata": {},
   "outputs": [],
   "source": [
    "def get_positions():\n",
    "    return sim.context.getState(getPositions=True).getPositions(asNumpy=True)"
   ]
  },
  {
   "cell_type": "code",
   "execution_count": 22,
   "metadata": {},
   "outputs": [
    {
     "data": {
      "text/plain": [
       "Quantity(value=array([[ 0.25787252,  0.02050192, -0.19939502],\n",
       "       [ 0.20957561, -0.10400783, -0.14720073],\n",
       "       [ 0.19580406, -0.10378213, -0.0098293 ],\n",
       "       [ 0.29582617, -0.16354832,  0.06761356],\n",
       "       [ 0.28628427, -0.16435738,  0.20790081],\n",
       "       [ 0.1743831 , -0.10668242,  0.27013183],\n",
       "       [ 0.07211669, -0.04751066,  0.19314739],\n",
       "       [ 0.0823373 , -0.04789897,  0.0519701 ],\n",
       "       [-0.04737184,  0.01389246, -0.04980485],\n",
       "       [-0.04333544,  0.0122078 ,  0.26227048],\n",
       "       [-0.10133274,  0.11306173,  0.22370285],\n",
       "       [ 0.16506597, -0.1072682 ,  0.44578177],\n",
       "       [ 0.38360867, -0.22357166,  0.28573391],\n",
       "       [ 0.50545275, -0.14874387,  0.29327917],\n",
       "       [ 0.40126154, -0.22257276,  0.00262366],\n",
       "       [ 0.26751426,  0.01357658, -0.30817151],\n",
       "       [ 0.35597834,  0.04417292, -0.15710716],\n",
       "       [ 0.18885079,  0.10214639, -0.1760828 ],\n",
       "       [-0.0755612 , -0.02902563,  0.35737294],\n",
       "       [ 0.57527167, -0.19916944,  0.36076942],\n",
       "       [ 0.48599979, -0.04828022,  0.33203289],\n",
       "       [ 0.55260134, -0.14053288,  0.19487776],\n",
       "       [ 0.38047087, -0.22573599, -0.0924608 ]]), unit=nanometer)"
      ]
     },
     "execution_count": 22,
     "metadata": {},
     "output_type": "execute_result"
    }
   ],
   "source": [
    "get_positions()"
   ]
  },
  {
   "cell_type": "code",
   "execution_count": 23,
   "metadata": {},
   "outputs": [
    {
     "name": "stdout",
     "output_type": "stream",
     "text": [
      "CPU times: user 151 ms, sys: 87.4 ms, total: 238 ms\n",
      "Wall time: 377 ms\n"
     ]
    }
   ],
   "source": [
    "%%time\n",
    "sim.step(10000)"
   ]
  },
  {
   "cell_type": "code",
   "execution_count": 24,
   "metadata": {},
   "outputs": [
    {
     "name": "stderr",
     "output_type": "stream",
     "text": [
      "Using backend: pytorch\n"
     ]
    }
   ],
   "source": [
    "from espaloma.units import DISTANCE_UNIT, ENERGY_UNIT"
   ]
  },
  {
   "cell_type": "code",
   "execution_count": 25,
   "metadata": {},
   "outputs": [],
   "source": [
    "import torch\n",
    "torch.set_default_dtype(torch.float64)\n",
    "\n",
    "import numpy as np"
   ]
  },
  {
   "cell_type": "code",
   "execution_count": 26,
   "metadata": {},
   "outputs": [
    {
     "name": "stderr",
     "output_type": "stream",
     "text": [
      "100%|██████████| 100/100 [00:01<00:00, 52.36it/s]\n"
     ]
    }
   ],
   "source": [
    "from tqdm import tqdm\n",
    "xyz = []\n",
    "vacuum_energies = []\n",
    "\n",
    "n_samples = 100\n",
    "\n",
    "for _ in tqdm(range(n_samples)):\n",
    "    sim.step(100)\n",
    "    xyz.append(get_positions().value_in_unit(DISTANCE_UNIT))\n",
    "    vacuum_energies.append(get_energy().value_in_unit(ENERGY_UNIT))\n",
    "vacuum_energies = torch.tensor(vacuum_energies)"
   ]
  },
  {
   "cell_type": "code",
   "execution_count": 27,
   "metadata": {},
   "outputs": [
    {
     "name": "stdout",
     "output_type": "stream",
     "text": [
      "bohr\n"
     ]
    }
   ],
   "source": [
    "print(DISTANCE_UNIT)"
   ]
  },
  {
   "cell_type": "code",
   "execution_count": 28,
   "metadata": {},
   "outputs": [
    {
     "data": {
      "text/plain": [
       "[<matplotlib.lines.Line2D at 0x7f821cd2c750>]"
      ]
     },
     "execution_count": 28,
     "metadata": {},
     "output_type": "execute_result"
    },
    {
     "data": {
      "image/png": "[encoded data removed]",
      "text/plain": [
       "<Figure size 432x288 with 1 Axes>"
      ]
     },
     "metadata": {
      "needs_background": "light"
     },
     "output_type": "display_data"
    }
   ],
   "source": [
    "import matplotlib.pyplot as plt\n",
    "\n",
    "plt.plot((vacuum_energies * ENERGY_UNIT).value_in_unit(unit.kilocalorie_per_mole))"
   ]
  },
  {
   "cell_type": "code",
   "execution_count": 29,
   "metadata": {},
   "outputs": [
    {
     "data": {
      "text/plain": [
       "23"
      ]
     },
     "execution_count": 29,
     "metadata": {},
     "output_type": "execute_result"
    }
   ],
   "source": [
    "N = len(xyz[0])\n",
    "N"
   ]
  },
  {
   "cell_type": "markdown",
   "metadata": {},
   "source": [
    "#### Pre-compute pairwise distance matrices"
   ]
  },
  {
   "cell_type": "code",
   "execution_count": 30,
   "metadata": {},
   "outputs": [
    {
     "data": {
      "text/plain": [
       "array([[ 5.13079831,  0.37707749, -3.61769059],\n",
       "       [ 3.45578695, -1.6319182 , -2.61019242],\n",
       "       [ 3.27907415, -1.34603435,  0.01495269],\n",
       "       [ 5.09139414, -2.3715873 ,  1.79347478],\n",
       "       [ 4.88193708, -1.88983091,  4.33868104],\n",
       "       [ 2.91588522, -0.44734937,  5.20251845],\n",
       "       [ 0.92807173,  0.46561115,  3.54189414],\n",
       "       [ 1.09544837, -0.08531871,  0.95705879],\n",
       "       [-1.24126035,  1.0973458 , -1.29162954],\n",
       "       [-1.09961571,  1.96412788,  4.75214834],\n",
       "       [-2.92377963,  2.8172064 ,  3.62656691],\n",
       "       [ 2.73898207,  0.1309265 ,  8.34914339],\n",
       "       [ 6.72010939, -2.8629965 ,  5.94520606],\n",
       "       [ 9.35970246, -2.14917676,  5.79030503],\n",
       "       [ 7.06878792, -3.84256364,  0.72443501],\n",
       "       [ 4.46755432,  0.79518056, -5.53107054],\n",
       "       [ 7.02870962, -0.43061758, -3.76371868],\n",
       "       [ 5.02550914,  2.19835609, -2.64425284],\n",
       "       [-1.03367059,  2.37045136,  6.76172574],\n",
       "       [ 9.59847316, -0.17646875,  6.36229885],\n",
       "       [ 9.93839984, -2.20829218,  3.80603029],\n",
       "       [10.44693541, -3.43866339,  6.98649516],\n",
       "       [ 6.66724797, -4.46596812, -0.95981015]])"
      ]
     },
     "execution_count": 30,
     "metadata": {},
     "output_type": "execute_result"
    }
   ],
   "source": [
    "xyz[0]"
   ]
  },
  {
   "cell_type": "code",
   "execution_count": 31,
   "metadata": {},
   "outputs": [],
   "source": [
    "from scipy.spatial.distance import pdist, squareform\n",
    "\n",
    "# these are espaloma units of bohr\n",
    "distance_matrices = [torch.tensor(squareform(pdist(conf))) for conf in xyz]\n",
    "distance_matrices = torch.stack(distance_matrices)"
   ]
  },
  {
   "cell_type": "code",
   "execution_count": 32,
   "metadata": {},
   "outputs": [
    {
     "data": {
      "text/plain": [
       "tensor(3.9018)"
      ]
     },
     "execution_count": 32,
     "metadata": {},
     "output_type": "execute_result"
    }
   ],
   "source": [
    "(torch.median(distance_matrices[0]) * DISTANCE_UNIT).value_in_unit(unit.angstrom)"
   ]
  },
  {
   "cell_type": "code",
   "execution_count": 33,
   "metadata": {},
   "outputs": [],
   "source": [
    "radii = 1.2 * (torch.ones(N) * unit.angstroms).value_in_unit(DISTANCE_UNIT)\n",
    "scales = 0.8 * torch.ones(N)"
   ]
  },
  {
   "cell_type": "code",
   "execution_count": 34,
   "metadata": {},
   "outputs": [
    {
     "data": {
      "text/plain": [
       "(torch.Size([23]), torch.Size([23]))"
      ]
     },
     "execution_count": 34,
     "metadata": {},
     "output_type": "execute_result"
    }
   ],
   "source": [
    "radii.shape, scales.shape"
   ]
  },
  {
   "cell_type": "code",
   "execution_count": 35,
   "metadata": {},
   "outputs": [
    {
     "data": {
      "text/plain": [
       "(tensor([2.2677, 2.2677, 2.2677, 2.2677, 2.2677, 2.2677, 2.2677, 2.2677, 2.2677,\n",
       "         2.2677, 2.2677, 2.2677, 2.2677, 2.2677, 2.2677, 2.2677, 2.2677, 2.2677,\n",
       "         2.2677, 2.2677, 2.2677, 2.2677, 2.2677]),\n",
       " tensor([0.8000, 0.8000, 0.8000, 0.8000, 0.8000, 0.8000, 0.8000, 0.8000, 0.8000,\n",
       "         0.8000, 0.8000, 0.8000, 0.8000, 0.8000, 0.8000, 0.8000, 0.8000, 0.8000,\n",
       "         0.8000, 0.8000, 0.8000, 0.8000, 0.8000]))"
      ]
     },
     "execution_count": 35,
     "metadata": {},
     "output_type": "execute_result"
    }
   ],
   "source": [
    "radii, scales"
   ]
  },
  {
   "cell_type": "code",
   "execution_count": 36,
   "metadata": {},
   "outputs": [
    {
     "data": {
      "text/plain": [
       "Quantity(value=array([ 0.11063   , -0.32578999,  0.04101   ,  0.13609999,  0.04101   ,\n",
       "        0.06506   , -0.19729   ,  0.06506   , -0.04672   ,  0.58569002,\n",
       "       -0.49212   , -0.04672   , -0.32578999,  0.11063   , -0.4727    ,\n",
       "        0.04844   ,  0.04844   ,  0.04844   ,  0.02066   ,  0.04844   ,\n",
       "        0.04844   ,  0.04844   ,  0.44064   ]), unit=elementary charge)"
      ]
     },
     "execution_count": 36,
     "metadata": {},
     "output_type": "execute_result"
    }
   ],
   "source": [
    "offmol.partial_charges"
   ]
  },
  {
   "cell_type": "code",
   "execution_count": 37,
   "metadata": {},
   "outputs": [],
   "source": [
    "charges = torch.tensor([c / unit.elementary_charge for c in off_charges])"
   ]
  },
  {
   "cell_type": "markdown",
   "metadata": {},
   "source": [
    "#### Compute hydration free energy difference using EXP\n"
   ]
  },
  {
   "cell_type": "code",
   "execution_count": 38,
   "metadata": {},
   "outputs": [],
   "source": [
    "from espaloma.mm.implicit import gbsa_obc2_energy"
   ]
  },
  {
   "cell_type": "code",
   "execution_count": 39,
   "metadata": {},
   "outputs": [],
   "source": [
    "def compute_obc2_energies(distance_matrices, radii, scales, charges):\n",
    "    N = len(distance_matrices)\n",
    "    E_s = torch.zeros(N)\n",
    "    for i in range(N):\n",
    "        E_s[i] += gbsa_obc2_energy(\n",
    "            distance_matrices[i],\n",
    "            radii, scales, charges\n",
    "        )\n",
    "    return E_s"
   ]
  },
  {
   "cell_type": "code",
   "execution_count": 40,
   "metadata": {},
   "outputs": [
    {
     "data": {
      "text/plain": [
       "100"
      ]
     },
     "execution_count": 40,
     "metadata": {},
     "output_type": "execute_result"
    }
   ],
   "source": [
    "len(distance_matrices)"
   ]
  },
  {
   "cell_type": "code",
   "execution_count": 41,
   "metadata": {},
   "outputs": [],
   "source": [
    "obc2_energies = compute_obc2_energies(distance_matrices, radii, scales, charges)"
   ]
  },
  {
   "cell_type": "code",
   "execution_count": 42,
   "metadata": {},
   "outputs": [
    {
     "data": {
      "text/plain": [
       "tensor([0.0124, 0.0125, 0.0123, 0.0122, 0.0123, 0.0120, 0.0121, 0.0122, 0.0122,\n",
       "        0.0122, 0.0121, 0.0122, 0.0119, 0.0122, 0.0121, 0.0123, 0.0122, 0.0124,\n",
       "        0.0120, 0.0123, 0.0121, 0.0121, 0.0124, 0.0123, 0.0121, 0.0119, 0.0122,\n",
       "        0.0122, 0.0122, 0.0122, 0.0122, 0.0123, 0.0122, 0.0121, 0.0120, 0.0122,\n",
       "        0.0122, 0.0124, 0.0121, 0.0122, 0.0124, 0.0123, 0.0122, 0.0122, 0.0123,\n",
       "        0.0121, 0.0121, 0.0122, 0.0122, 0.0122, 0.0122, 0.0122, 0.0120, 0.0122,\n",
       "        0.0121, 0.0123, 0.0120, 0.0121, 0.0120, 0.0122, 0.0122, 0.0123, 0.0122,\n",
       "        0.0121, 0.0121, 0.0122, 0.0122, 0.0121, 0.0122, 0.0121, 0.0122, 0.0122,\n",
       "        0.0120, 0.0121, 0.0122, 0.0123, 0.0122, 0.0122, 0.0123, 0.0122, 0.0122,\n",
       "        0.0122, 0.0121, 0.0123, 0.0124, 0.0122, 0.0120, 0.0121, 0.0120, 0.0122,\n",
       "        0.0123, 0.0123, 0.0123, 0.0120, 0.0121, 0.0122, 0.0121, 0.0121, 0.0122,\n",
       "        0.0122])"
      ]
     },
     "execution_count": 42,
     "metadata": {},
     "output_type": "execute_result"
    }
   ],
   "source": [
    "obc2_energies"
   ]
  },
  {
   "cell_type": "code",
   "execution_count": 43,
   "metadata": {},
   "outputs": [
    {
     "data": {
      "text/plain": [
       "[<matplotlib.lines.Line2D at 0x7f821cee4510>]"
      ]
     },
     "execution_count": 43,
     "metadata": {},
     "output_type": "execute_result"
    },
    {
     "data": {
      "image/png": "[encoded data removed]",
      "text/plain": [
       "<Figure size 432x288 with 1 Axes>"
      ]
     },
     "metadata": {
      "needs_background": "light"
     },
     "output_type": "display_data"
    }
   ],
   "source": [
    "plt.plot(obc2_energies.detach().numpy())"
   ]
  },
  {
   "cell_type": "code",
   "execution_count": 44,
   "metadata": {},
   "outputs": [
    {
     "data": {
      "text/plain": [
       "tensor([2.2677, 2.2677, 2.2677, 2.2677, 2.2677, 2.2677, 2.2677, 2.2677, 2.2677,\n",
       "        2.2677, 2.2677, 2.2677, 2.2677, 2.2677, 2.2677, 2.2677, 2.2677, 2.2677,\n",
       "        2.2677, 2.2677, 2.2677, 2.2677, 2.2677])"
      ]
     },
     "execution_count": 44,
     "metadata": {},
     "output_type": "execute_result"
    }
   ],
   "source": [
    "radii"
   ]
  },
  {
   "cell_type": "code",
   "execution_count": 45,
   "metadata": {},
   "outputs": [],
   "source": [
    "from openmmtools.constants import kB\n",
    "kT = kB * temperature"
   ]
  },
  {
   "cell_type": "code",
   "execution_count": 46,
   "metadata": {},
   "outputs": [
    {
     "data": {
      "text/plain": [
       "1052.5821686494048"
      ]
     },
     "execution_count": 46,
     "metadata": {},
     "output_type": "execute_result"
    }
   ],
   "source": [
    "to_kT = 1.0 * ENERGY_UNIT / kT\n",
    "to_kT"
   ]
  },
  {
   "cell_type": "code",
   "execution_count": 47,
   "metadata": {},
   "outputs": [
    {
     "data": {
      "text/plain": [
       "tensor([13.0001, 13.1058, 12.9038, 12.8013, 12.9341, 12.6018, 12.7487, 12.8138,\n",
       "        12.8355, 12.8674, 12.6864, 12.7918, 12.5026, 12.8753, 12.7385, 12.9032,\n",
       "        12.8652, 13.0162, 12.6248, 12.9166, 12.7741, 12.6864, 13.0343, 12.9294,\n",
       "        12.6996, 12.5633, 12.8416, 12.8824, 12.8527, 12.8657, 12.8474, 12.9426,\n",
       "        12.8783, 12.7297, 12.6168, 12.8727, 12.8503, 13.0262, 12.7435, 12.8659,\n",
       "        13.0190, 12.9325, 12.8118, 12.8499, 12.9509, 12.6951, 12.7481, 12.8286,\n",
       "        12.8059, 12.8421, 12.8049, 12.8213, 12.6423, 12.8735, 12.7750, 12.8994,\n",
       "        12.6673, 12.7617, 12.6306, 12.8435, 12.8255, 12.9710, 12.8027, 12.7202,\n",
       "        12.7561, 12.8508, 12.8079, 12.7336, 12.8369, 12.7306, 12.8214, 12.8172,\n",
       "        12.6765, 12.7201, 12.7940, 12.9186, 12.8534, 12.8501, 12.9749, 12.8785,\n",
       "        12.7939, 12.8312, 12.6875, 12.9110, 13.0955, 12.8070, 12.6491, 12.7609,\n",
       "        12.6395, 12.8231, 12.9427, 12.9782, 12.9097, 12.6484, 12.7810, 12.8483,\n",
       "        12.7193, 12.7134, 12.8232, 12.8921])"
      ]
     },
     "execution_count": 47,
     "metadata": {},
     "output_type": "execute_result"
    }
   ],
   "source": [
    "w = obc2_energies * to_kT\n",
    "w"
   ]
  },
  {
   "cell_type": "code",
   "execution_count": 48,
   "metadata": {},
   "outputs": [
    {
     "data": {
      "text/plain": [
       "<matplotlib.collections.PathCollection at 0x7f821dc37d90>"
      ]
     },
     "execution_count": 48,
     "metadata": {},
     "output_type": "execute_result"
    },
    {
     "data": {
      "image/png": "[encoded data removed]",
      "text/plain": [
       "<Figure size 432x288 with 1 Axes>"
      ]
     },
     "metadata": {
      "needs_background": "light"
     },
     "output_type": "display_data"
    }
   ],
   "source": [
    "plt.scatter(obc2_energies, vacuum_energies)"
   ]
  },
  {
   "cell_type": "code",
   "execution_count": 49,
   "metadata": {},
   "outputs": [
    {
     "data": {
      "text/plain": [
       "(array([ 1.,  3.,  8., 14., 13., 27., 18.,  9.,  5.,  2.]),\n",
       " array([12.50262377, 12.56293923, 12.62325469, 12.68357015, 12.74388561,\n",
       "        12.80420107, 12.86451653, 12.92483199, 12.98514745, 13.04546291,\n",
       "        13.10577836]),\n",
       " <BarContainer object of 10 artists>)"
      ]
     },
     "execution_count": 49,
     "metadata": {},
     "output_type": "execute_result"
    },
    {
     "data": {
      "image/png": "[encoded data removed]",
      "text/plain": [
       "<Figure size 432x288 with 1 Axes>"
      ]
     },
     "metadata": {
      "needs_background": "light"
     },
     "output_type": "display_data"
    }
   ],
   "source": [
    "plt.hist(w.detach().flatten().numpy())"
   ]
  },
  {
   "cell_type": "code",
   "execution_count": 50,
   "metadata": {},
   "outputs": [
    {
     "data": {
      "text/plain": [
       "0.11397881144672393"
      ]
     },
     "execution_count": 50,
     "metadata": {},
     "output_type": "execute_result"
    }
   ],
   "source": [
    "w.detach().flatten().numpy().std()"
   ]
  },
  {
   "cell_type": "code",
   "execution_count": 51,
   "metadata": {},
   "outputs": [],
   "source": [
    "def one_sided_exp(w):\n",
    "    delta_f = - (torch.logsumexp(- w, dim=(0,)) - np.log(len(w)))\n",
    "    return delta_f"
   ]
  },
  {
   "cell_type": "code",
   "execution_count": 52,
   "metadata": {},
   "outputs": [
    {
     "data": {
      "text/plain": [
       "tensor(12.8183)"
      ]
     },
     "execution_count": 52,
     "metadata": {},
     "output_type": "execute_result"
    }
   ],
   "source": [
    "w.mean()"
   ]
  },
  {
   "cell_type": "code",
   "execution_count": 53,
   "metadata": {},
   "outputs": [
    {
     "data": {
      "text/plain": [
       "tensor(17.4300)"
      ]
     },
     "execution_count": 53,
     "metadata": {},
     "output_type": "execute_result"
    }
   ],
   "source": [
    "torch.logsumexp(w, dim=(0,))"
   ]
  },
  {
   "cell_type": "code",
   "execution_count": 54,
   "metadata": {},
   "outputs": [
    {
     "data": {
      "text/plain": [
       "17.42998592798577"
      ]
     },
     "execution_count": 54,
     "metadata": {},
     "output_type": "execute_result"
    }
   ],
   "source": [
    "from scipy.special import logsumexp\n",
    "logsumexp(w)"
   ]
  },
  {
   "cell_type": "code",
   "execution_count": null,
   "metadata": {},
   "outputs": [],
   "source": []
  },
  {
   "cell_type": "code",
   "execution_count": 55,
   "metadata": {},
   "outputs": [
    {
     "name": "stdout",
     "output_type": "stream",
     "text": [
      "CPU times: user 726 µs, sys: 671 µs, total: 1.4 ms\n",
      "Wall time: 738 µs\n"
     ]
    },
    {
     "data": {
      "text/plain": [
       "tensor(12.8118)"
      ]
     },
     "execution_count": 55,
     "metadata": {},
     "output_type": "execute_result"
    }
   ],
   "source": [
    "%%time\n",
    "one_sided_exp(w)"
   ]
  },
  {
   "cell_type": "code",
   "execution_count": 56,
   "metadata": {},
   "outputs": [
    {
     "data": {
      "text/plain": [
       "tensor(7.6379)"
      ]
     },
     "execution_count": 56,
     "metadata": {},
     "output_type": "execute_result"
    }
   ],
   "source": [
    "((one_sided_exp(w) / to_kT).detach() * ENERGY_UNIT).value_in_unit(unit.kilocalorie_per_mole)"
   ]
  },
  {
   "cell_type": "code",
   "execution_count": 57,
   "metadata": {},
   "outputs": [
    {
     "data": {
      "text/plain": [
       "-14.559801248448967"
      ]
     },
     "execution_count": 57,
     "metadata": {},
     "output_type": "execute_result"
    }
   ],
   "source": [
    "expt_delta_f = -8.68 * unit.kilocalorie_per_mole / kT\n",
    "expt_delta_f"
   ]
  },
  {
   "cell_type": "code",
   "execution_count": 58,
   "metadata": {},
   "outputs": [
    {
     "data": {
      "text/plain": [
       "tensor([0.8000, 0.8000, 0.8000, 0.8000, 0.8000, 0.8000, 0.8000, 0.8000, 0.8000,\n",
       "        0.8000, 0.8000, 0.8000, 0.8000, 0.8000, 0.8000, 0.8000, 0.8000, 0.8000,\n",
       "        0.8000, 0.8000, 0.8000, 0.8000, 0.8000], requires_grad=True)"
      ]
     },
     "execution_count": 58,
     "metadata": {},
     "output_type": "execute_result"
    }
   ],
   "source": [
    "radii.requires_grad_()\n",
    "scales.requires_grad_()"
   ]
  },
  {
   "cell_type": "code",
   "execution_count": 59,
   "metadata": {},
   "outputs": [
    {
     "data": {
      "text/plain": [
       "1.6763806343078613e-08"
      ]
     },
     "execution_count": 59,
     "metadata": {},
     "output_type": "execute_result"
    }
   ],
   "source": [
    "sum([c.value_in_unit(unit.elementary_charge) for c in off_charges])"
   ]
  },
  {
   "cell_type": "code",
   "execution_count": 60,
   "metadata": {},
   "outputs": [],
   "source": [
    "#def free_energy_loss(distance_matrices, radii, scales, charges):\n",
    "#    w = compute_obc2_energies(distance_matrices, radii, scales, charges) - vacuum_energies\n",
    "#    pred_delta_f = one_sided_exp(w)\n",
    "#    return torch.sqrt((pred_delta_f - expt_delta_f)**2)"
   ]
  },
  {
   "cell_type": "code",
   "execution_count": 61,
   "metadata": {},
   "outputs": [],
   "source": [
    "# NOTE: compilation time blows up because it attempts to inline the entire\n",
    "# loop over the training data...\n",
    "#fast_free_energy_loss = torch.jit.trace(\n",
    "#    free_energy_loss,\n",
    "#    (distance_matrices, radii, scales, charges),\n",
    "#)"
   ]
  },
  {
   "cell_type": "code",
   "execution_count": 62,
   "metadata": {},
   "outputs": [],
   "source": [
    "def free_energy_loss(radii, scales, charges, inds):\n",
    "    \"\"\"compute hydration free energy using the subset of snapshots indexed by inds\"\"\"\n",
    "    solv_energies = compute_obc2_energies(distance_matrices[inds], radii, scales, charges)\n",
    "    W = solv_energies\n",
    "    w = W * to_kT\n",
    "    pred_delta_f = one_sided_exp(w)\n",
    "    return torch.sqrt((pred_delta_f - expt_delta_f)**2)"
   ]
  },
  {
   "cell_type": "code",
   "execution_count": null,
   "metadata": {},
   "outputs": [],
   "source": []
  },
  {
   "cell_type": "markdown",
   "metadata": {},
   "source": [
    "#### Check ability to fit to expt free energy target if all radii and scales are free parameters"
   ]
  },
  {
   "cell_type": "code",
   "execution_count": 63,
   "metadata": {},
   "outputs": [
    {
     "data": {
      "text/plain": [
       "(tensor([1.8897, 1.8897, 1.8897, 1.8897, 1.8897, 1.8897, 1.8897, 1.8897, 1.8897,\n",
       "         1.8897, 1.8897, 1.8897, 1.8897, 1.8897, 1.8897, 1.8897, 1.8897, 1.8897,\n",
       "         1.8897, 1.8897, 1.8897, 1.8897, 1.8897]),\n",
       " tensor([1., 1., 1., 1., 1., 1., 1., 1., 1., 1., 1., 1., 1., 1., 1., 1., 1., 1.,\n",
       "         1., 1., 1., 1., 1.]))"
      ]
     },
     "execution_count": 63,
     "metadata": {},
     "output_type": "execute_result"
    }
   ],
   "source": [
    "radii = (torch.ones(N) * unit.angstroms).value_in_unit(DISTANCE_UNIT)\n",
    "scales = torch.ones(N)\n",
    "radii, scales"
   ]
  },
  {
   "cell_type": "code",
   "execution_count": 64,
   "metadata": {},
   "outputs": [
    {
     "data": {
      "text/plain": [
       "tensor([1., 1., 1., 1., 1., 1., 1., 1., 1., 1., 1., 1., 1., 1., 1., 1., 1., 1.,\n",
       "        1., 1., 1., 1., 1.], requires_grad=True)"
      ]
     },
     "execution_count": 64,
     "metadata": {},
     "output_type": "execute_result"
    }
   ],
   "source": [
    "radii.requires_grad_()\n",
    "scales.requires_grad_()"
   ]
  },
  {
   "cell_type": "code",
   "execution_count": 65,
   "metadata": {},
   "outputs": [],
   "source": [
    "learning_rate = 1e-3\n",
    "optimizer = torch.optim.Adam([radii, scales], lr=learning_rate)"
   ]
  },
  {
   "cell_type": "code",
   "execution_count": 66,
   "metadata": {},
   "outputs": [
    {
     "data": {
      "text/plain": [
       "torch.Size([100, 23, 23])"
      ]
     },
     "execution_count": 66,
     "metadata": {},
     "output_type": "execute_result"
    }
   ],
   "source": [
    "distance_matrices.shape"
   ]
  },
  {
   "cell_type": "code",
   "execution_count": 67,
   "metadata": {},
   "outputs": [
    {
     "name": "stderr",
     "output_type": "stream",
     "text": [
      "100%|██████████| 1000/1000 [00:58<00:00, 17.23it/s, batch_loss=14.517096106729873]\n"
     ]
    }
   ],
   "source": [
    "radii_traj = [np.array(radii.detach().numpy())]\n",
    "scales_traj = [np.array(scales.detach().numpy())]\n",
    "\n",
    "n_snapshots_per_batch = 25\n",
    "batch_losses = []\n",
    "trange = tqdm(range(1000))\n",
    "for t in trange:\n",
    "    batch_inds = np.random.choice(range(len(distance_matrices)), n_snapshots_per_batch)\n",
    "    L = free_energy_loss(radii, scales, charges, batch_inds)\n",
    "    \n",
    "    optimizer.zero_grad()\n",
    "    L.backward()\n",
    "    optimizer.step()\n",
    "    \n",
    "    batch_losses.append(L.detach().numpy())\n",
    "    trange.set_postfix(batch_loss=batch_losses[-1])\n",
    "    \n",
    "    \n",
    "    radii_traj.append(np.array(radii.detach().numpy()))\n",
    "    scales_traj.append(np.array(scales.detach().numpy()))"
   ]
  },
  {
   "cell_type": "code",
   "execution_count": 68,
   "metadata": {},
   "outputs": [
    {
     "data": {
      "text/plain": [
       "[<matplotlib.lines.Line2D at 0x7f821df94e50>,\n",
       " <matplotlib.lines.Line2D at 0x7f821dfa0c50>,\n",
       " <matplotlib.lines.Line2D at 0x7f821dfaef10>,\n",
       " <matplotlib.lines.Line2D at 0x7f821dfbb050>,\n",
       " <matplotlib.lines.Line2D at 0x7f821dfbb110>,\n",
       " <matplotlib.lines.Line2D at 0x7f821dfbb290>,\n",
       " <matplotlib.lines.Line2D at 0x7f821dfbb310>,\n",
       " <matplotlib.lines.Line2D at 0x7f821dfbb3d0>,\n",
       " <matplotlib.lines.Line2D at 0x7f821dfbb490>,\n",
       " <matplotlib.lines.Line2D at 0x7f821dfbb210>,\n",
       " <matplotlib.lines.Line2D at 0x7f821df86650>,\n",
       " <matplotlib.lines.Line2D at 0x7f821dfbb610>,\n",
       " <matplotlib.lines.Line2D at 0x7f821dfbb6d0>,\n",
       " <matplotlib.lines.Line2D at 0x7f821dfbb790>,\n",
       " <matplotlib.lines.Line2D at 0x7f821dfbb850>,\n",
       " <matplotlib.lines.Line2D at 0x7f821dfbb910>,\n",
       " <matplotlib.lines.Line2D at 0x7f821dfbb9d0>,\n",
       " <matplotlib.lines.Line2D at 0x7f821dfbba90>,\n",
       " <matplotlib.lines.Line2D at 0x7f821dfbbb50>,\n",
       " <matplotlib.lines.Line2D at 0x7f821dfbbc10>,\n",
       " <matplotlib.lines.Line2D at 0x7f821dfbbcd0>,\n",
       " <matplotlib.lines.Line2D at 0x7f821dfbbd90>,\n",
       " <matplotlib.lines.Line2D at 0x7f821dfbbe50>]"
      ]
     },
     "execution_count": 68,
     "metadata": {},
     "output_type": "execute_result"
    },
    {
     "data": {
      "image/png": "[encoded data removed]",
      "text/plain": [
       "<Figure size 720x360 with 2 Axes>"
      ]
     },
     "metadata": {
      "needs_background": "light"
     },
     "output_type": "display_data"
    }
   ],
   "source": [
    "plt.figure(figsize=(10,5))\n",
    "plt.subplot(1,2,1)\n",
    "plt.plot(np.array(radii_traj))\n",
    "plt.subplot(1,2,2)\n",
    "plt.plot(np.array(scales_traj))"
   ]
  },
  {
   "cell_type": "code",
   "execution_count": 69,
   "metadata": {},
   "outputs": [],
   "source": [
    "loss_traj_in_kcalmol = [(b * kT).value_in_unit(unit.kilocalorie_per_mole) for b in batch_losses]"
   ]
  },
  {
   "cell_type": "code",
   "execution_count": 70,
   "metadata": {},
   "outputs": [
    {
     "data": {
      "text/plain": [
       "(0.0, 14.765418564540159)"
      ]
     },
     "execution_count": 70,
     "metadata": {},
     "output_type": "execute_result"
    },
    {
     "data": {
      "image/png": "[encoded data removed]",
      "text/plain": [
       "<Figure size 432x288 with 1 Axes>"
      ]
     },
     "metadata": {
      "needs_background": "light"
     },
     "output_type": "display_data"
    }
   ],
   "source": [
    "plt.plot(loss_traj_in_kcalmol)\n",
    "plt.ylim(0,)"
   ]
  },
  {
   "cell_type": "markdown",
   "metadata": {},
   "source": [
    "#### Double-check estimate variance under configuration subsampling"
   ]
  },
  {
   "cell_type": "code",
   "execution_count": 71,
   "metadata": {},
   "outputs": [
    {
     "name": "stderr",
     "output_type": "stream",
     "text": [
      "100%|██████████| 100/100 [00:02<00:00, 38.35it/s]\n"
     ]
    }
   ],
   "source": [
    "losses = []\n",
    "for _ in tqdm(range(100)):\n",
    "    batch_inds = np.random.choice(range(len(distance_matrices)), n_snapshots_per_batch)\n",
    "    L = float(free_energy_loss(radii, scales, charges, batch_inds).detach())\n",
    "    losses.append(L)"
   ]
  },
  {
   "cell_type": "code",
   "execution_count": 72,
   "metadata": {},
   "outputs": [
    {
     "data": {
      "text/plain": [
       "Text(0, 0.5, 'frequency')"
      ]
     },
     "execution_count": 72,
     "metadata": {},
     "output_type": "execute_result"
    },
    {
     "data": {
      "image/png": "[encoded data removed]",
      "text/plain": [
       "<Figure size 432x288 with 1 Axes>"
      ]
     },
     "metadata": {
      "needs_background": "light"
     },
     "output_type": "display_data"
    }
   ],
   "source": [
    "plt.title('distribution of losses under configuration subsampling')\n",
    "plt.hist(losses);\n",
    "plt.xlabel('rmse loss (kT)')\n",
    "plt.ylabel('frequency')"
   ]
  },
  {
   "cell_type": "markdown",
   "metadata": {},
   "source": [
    "#### Now let's get a graph net in the mix!"
   ]
  },
  {
   "cell_type": "code",
   "execution_count": 73,
   "metadata": {},
   "outputs": [],
   "source": [
    "from espaloma.redux.nn import TAG, MLP\n",
    "from espaloma.redux.symmetry import ValenceModel, Readouts, elements\n",
    "\n",
    "def initialize(hidden_dim=128, node_dim=128):\n",
    "    node_representation = TAG(in_dim=len(elements), hidden_dim=hidden_dim, out_dim=node_dim)\n",
    "    readouts = Readouts(atoms=MLP(node_dim, 2), bonds=MLP(2 * node_dim, 2), angles=MLP(3 * node_dim, 2),\n",
    "                        propers=MLP(4 * node_dim, 6), impropers=MLP(4 * node_dim, 6))\n",
    "    valence_model = ValenceModel(node_representation, readouts)\n",
    "    return valence_model"
   ]
  },
  {
   "cell_type": "code",
   "execution_count": 74,
   "metadata": {},
   "outputs": [],
   "source": [
    "valence_model = initialize()"
   ]
  },
  {
   "cell_type": "code",
   "execution_count": 75,
   "metadata": {},
   "outputs": [],
   "source": [
    "params = valence_model.forward(offmol)"
   ]
  },
  {
   "cell_type": "code",
   "execution_count": 76,
   "metadata": {},
   "outputs": [
    {
     "data": {
      "text/plain": [
       "(tensor([ 0.0154,  0.0042,  0.0125,  0.0106,  0.0125,  0.0142,  0.0079,  0.0142,\n",
       "          0.0018,  0.0125, -0.0003,  0.0018,  0.0042,  0.0154,  0.0071, -0.0024,\n",
       "         -0.0024, -0.0024,  0.0041, -0.0024, -0.0024, -0.0024,  0.0009],\n",
       "        grad_fn=<SelectBackward>),\n",
       " tensor([-0.0625, -0.0412, -0.0451, -0.0491, -0.0451, -0.0466, -0.0478, -0.0466,\n",
       "         -0.0387, -0.0456, -0.0387, -0.0387, -0.0412, -0.0625, -0.0386, -0.0522,\n",
       "         -0.0522, -0.0522, -0.0464, -0.0522, -0.0522, -0.0522, -0.0518],\n",
       "        grad_fn=<SelectBackward>))"
      ]
     },
     "execution_count": 76,
     "metadata": {},
     "output_type": "execute_result"
    }
   ],
   "source": [
    "radii = params.atoms[:,0]\n",
    "scales = params.atoms[:,1]\n",
    "radii, scales"
   ]
  },
  {
   "cell_type": "code",
   "execution_count": 77,
   "metadata": {},
   "outputs": [],
   "source": [
    "def predict_obc2_params(offmol):\n",
    "    \"\"\"output of graph net's atom representation will initially be near zero, just offset by +1\"\"\"\n",
    "    params = valence_model.forward(offmol)\n",
    "    radii = params.atoms[:,0] + 1\n",
    "    scales = params.atoms[:,1] + 1\n",
    "    return radii, scales"
   ]
  },
  {
   "cell_type": "code",
   "execution_count": 78,
   "metadata": {},
   "outputs": [
    {
     "data": {
      "text/plain": [
       "(tensor([1.0154, 1.0042, 1.0125, 1.0106, 1.0125, 1.0142, 1.0079, 1.0142, 1.0018,\n",
       "         1.0125, 0.9997, 1.0018, 1.0042, 1.0154, 1.0071, 0.9976, 0.9976, 0.9976,\n",
       "         1.0041, 0.9976, 0.9976, 0.9976, 1.0009], grad_fn=<AddBackward0>),\n",
       " tensor([0.9375, 0.9588, 0.9549, 0.9509, 0.9549, 0.9534, 0.9522, 0.9534, 0.9613,\n",
       "         0.9544, 0.9613, 0.9613, 0.9588, 0.9375, 0.9614, 0.9478, 0.9478, 0.9478,\n",
       "         0.9536, 0.9478, 0.9478, 0.9478, 0.9482], grad_fn=<AddBackward0>))"
      ]
     },
     "execution_count": 78,
     "metadata": {},
     "output_type": "execute_result"
    }
   ],
   "source": [
    "radii, scales = predict_obc2_params(offmol)\n",
    "radii, scales"
   ]
  },
  {
   "cell_type": "code",
   "execution_count": 79,
   "metadata": {},
   "outputs": [],
   "source": [
    "learning_rate = 1e-4\n",
    "optimizer = torch.optim.Adam(valence_model.parameters(), lr=learning_rate)"
   ]
  },
  {
   "cell_type": "code",
   "execution_count": 80,
   "metadata": {},
   "outputs": [
    {
     "name": "stderr",
     "output_type": "stream",
     "text": [
      "100%|██████████| 1000/1000 [01:28<00:00, 11.32it/s, batch_loss=14.543289576310553]\n"
     ]
    }
   ],
   "source": [
    "radii_traj = [np.array(radii.detach().numpy())]\n",
    "scales_traj = [np.array(scales.detach().numpy())]\n",
    "\n",
    "batch_losses = []\n",
    "trange = tqdm(range(1000))\n",
    "\n",
    "n_snapshots_per_batch = 25\n",
    "\n",
    "for t in trange:\n",
    "    batch_inds = np.random.choice(range(len(distance_matrices)), n_snapshots_per_batch)\n",
    "    \n",
    "    radii, scales = predict_obc2_params(offmol)\n",
    "    L = free_energy_loss(radii, scales, charges, batch_inds)\n",
    "    \n",
    "    optimizer.zero_grad()\n",
    "    L.backward()\n",
    "    optimizer.step()\n",
    "    \n",
    "    batch_losses.append(L.detach().numpy())\n",
    "    trange.set_postfix(batch_loss=batch_losses[-1])\n",
    "    \n",
    "    \n",
    "    radii_traj.append(np.array(radii.detach().numpy()))\n",
    "    scales_traj.append(np.array(scales.detach().numpy()))"
   ]
  },
  {
   "cell_type": "code",
   "execution_count": 81,
   "metadata": {},
   "outputs": [
    {
     "data": {
      "text/plain": [
       "[<matplotlib.lines.Line2D at 0x7f821ff419d0>,\n",
       " <matplotlib.lines.Line2D at 0x7f821ff41810>,\n",
       " <matplotlib.lines.Line2D at 0x7f821ff5e750>,\n",
       " <matplotlib.lines.Line2D at 0x7f821ff5e850>,\n",
       " <matplotlib.lines.Line2D at 0x7f821ff5e910>,\n",
       " <matplotlib.lines.Line2D at 0x7f821ff5ea90>,\n",
       " <matplotlib.lines.Line2D at 0x7f821ff5eb10>,\n",
       " <matplotlib.lines.Line2D at 0x7f821ff5ebd0>,\n",
       " <matplotlib.lines.Line2D at 0x7f821ff5ec90>,\n",
       " <matplotlib.lines.Line2D at 0x7f821ff5ea10>,\n",
       " <matplotlib.lines.Line2D at 0x7f821ff0f910>,\n",
       " <matplotlib.lines.Line2D at 0x7f821ff5ee10>,\n",
       " <matplotlib.lines.Line2D at 0x7f821ff5eed0>,\n",
       " <matplotlib.lines.Line2D at 0x7f821ff5ef90>,\n",
       " <matplotlib.lines.Line2D at 0x7f821ff6b090>,\n",
       " <matplotlib.lines.Line2D at 0x7f821ff6b150>,\n",
       " <matplotlib.lines.Line2D at 0x7f821ff6b210>,\n",
       " <matplotlib.lines.Line2D at 0x7f821ff6b2d0>,\n",
       " <matplotlib.lines.Line2D at 0x7f821ff6b390>,\n",
       " <matplotlib.lines.Line2D at 0x7f821ff6b450>,\n",
       " <matplotlib.lines.Line2D at 0x7f821ff6b510>,\n",
       " <matplotlib.lines.Line2D at 0x7f821ff6b5d0>,\n",
       " <matplotlib.lines.Line2D at 0x7f821ff6b690>]"
      ]
     },
     "execution_count": 81,
     "metadata": {},
     "output_type": "execute_result"
    },
    {
     "data": {
      "image/png": "[encoded data removed]",
      "text/plain": [
       "<Figure size 720x360 with 2 Axes>"
      ]
     },
     "metadata": {
      "needs_background": "light"
     },
     "output_type": "display_data"
    }
   ],
   "source": [
    "plt.figure(figsize=(10,5))\n",
    "plt.subplot(1,2,1)\n",
    "plt.plot(np.array(radii_traj))\n",
    "plt.subplot(1,2,2)\n",
    "plt.plot(np.array(scales_traj))"
   ]
  },
  {
   "cell_type": "code",
   "execution_count": 82,
   "metadata": {},
   "outputs": [
    {
     "data": {
      "text/plain": [
       "Text(0, 0.5, 'hydration free energy error (kcal/mol)')"
      ]
     },
     "execution_count": 82,
     "metadata": {},
     "output_type": "execute_result"
    },
    {
     "data": {
      "image/png": "[encoded data removed]",
      "text/plain": [
       "<Figure size 432x288 with 1 Axes>"
      ]
     },
     "metadata": {
      "needs_background": "light"
     },
     "output_type": "display_data"
    }
   ],
   "source": [
    "loss_traj_in_kcalmol = [(b * kT).value_in_unit(unit.kilocalorie_per_mole) for b in batch_losses]\n",
    "plt.plot(loss_traj_in_kcalmol)\n",
    "plt.ylim(0,)\n",
    "plt.xlabel('Adam iteration')\n",
    "plt.ylabel('hydration free energy error (kcal/mol)')"
   ]
  },
  {
   "cell_type": "code",
   "execution_count": null,
   "metadata": {},
   "outputs": [],
   "source": []
  }
 ],
 "metadata": {
  "kernelspec": {
   "display_name": "Python [conda env:espaloma]",
   "language": "python",
   "name": "conda-env-espaloma-py"
  },
  "language_info": {
   "codemirror_mode": {
    "name": "ipython",
    "version": 3
   },
   "file_extension": ".py",
   "mimetype": "text/x-python",
   "name": "python",
   "nbconvert_exporter": "python",
   "pygments_lexer": "ipython3",
   "version": "3.7.8"
  }
 },
 "nbformat": 4,
 "nbformat_minor": 4
}
