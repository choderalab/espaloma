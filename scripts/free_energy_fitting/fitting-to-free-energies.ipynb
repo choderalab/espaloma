{
 "cells": [
  {
   "cell_type": "markdown",
   "metadata": {},
   "source": [
    "#### Grab a random molecule from FreeSolv, parameterize with OpenFF 1.2.0, generate some configuration snapshots"
   ]
  },
  {
   "cell_type": "code",
   "execution_count": 1,
   "metadata": {},
   "outputs": [
    {
     "data": {
      "text/plain": [
       "'0.8.0'"
      ]
     },
     "execution_count": 1,
     "metadata": {},
     "output_type": "execute_result"
    }
   ],
   "source": [
    "import openforcefield\n",
    "openforcefield.__version__"
   ]
  },
  {
   "cell_type": "code",
   "execution_count": 2,
   "metadata": {},
   "outputs": [
    {
     "data": {
      "application/vnd.jupyter.widget-view+json": {
       "model_id": "2d36ec4055ba4c33951dd2ac1f25ee60",
       "version_major": 2,
       "version_minor": 0
      },
      "text/plain": []
     },
     "metadata": {},
     "output_type": "display_data"
    }
   ],
   "source": [
    "from openforcefield.topology import Molecule\n",
    "from openforcefield.typing.engines.smirnoff import ForceField\n",
    "forcefield = ForceField('openff-1.2.0.offxml')"
   ]
  },
  {
   "cell_type": "code",
   "execution_count": 3,
   "metadata": {},
   "outputs": [
    {
     "data": {
      "image/png": "[encoded data removed]",
      "text/plain": [
       "<rdkit.Chem.rdchem.Mol at 0x7f8dcccfabb0>"
      ]
     },
     "metadata": {},
     "output_type": "display_data"
    }
   ],
   "source": [
    "# random molecule from freesolv database.txt\n",
    "# https://github.com/MobleyLab/FreeSolv/blob/ff0961a3177863c8002e8487ff9718c513974138/database.txt#L397\n",
    "offmol = Molecule.from_smiles('COc1c(c(c(c(c1Cl)C=O)Cl)OC)O')\n",
    "offmol"
   ]
  },
  {
   "cell_type": "code",
   "execution_count": 4,
   "metadata": {},
   "outputs": [],
   "source": [
    "offmol.compute_partial_charges_am1bcc()"
   ]
  },
  {
   "cell_type": "code",
   "execution_count": 5,
   "metadata": {},
   "outputs": [],
   "source": [
    "offmol.generate_conformers()"
   ]
  },
  {
   "cell_type": "code",
   "execution_count": 6,
   "metadata": {},
   "outputs": [
    {
     "data": {
      "image/png": "[encoded data removed]",
      "text/plain": [
       "<rdkit.Chem.rdchem.Mol at 0x7f8dccc96530>"
      ]
     },
     "execution_count": 6,
     "metadata": {},
     "output_type": "execute_result"
    }
   ],
   "source": [
    "offmol.to_rdkit()"
   ]
  },
  {
   "cell_type": "code",
   "execution_count": 7,
   "metadata": {},
   "outputs": [
    {
     "data": {
      "text/plain": [
       "1"
      ]
     },
     "execution_count": 7,
     "metadata": {},
     "output_type": "execute_result"
    }
   ],
   "source": [
    "len(offmol.conformers)"
   ]
  },
  {
   "cell_type": "code",
   "execution_count": 8,
   "metadata": {},
   "outputs": [],
   "source": [
    "sys = forcefield.create_openmm_system(offmol.to_topology())\n",
    "top = offmol.to_topology().to_openmm()"
   ]
  },
  {
   "cell_type": "code",
   "execution_count": 9,
   "metadata": {},
   "outputs": [],
   "source": [
    "from simtk import unit\n",
    "from simtk import openmm as mm\n",
    "from simtk.openmm import app\n",
    "\n",
    "\n",
    "temperature = 300 * unit.kelvin\n",
    "gamma = 100.0 / unit.picosecond\n",
    "dt = 1.0 * unit.femtosecond\n",
    "\n",
    "sim = app.Simulation(top, sys, mm.LangevinIntegrator(temperature, gamma, dt))"
   ]
  },
  {
   "cell_type": "code",
   "execution_count": 10,
   "metadata": {},
   "outputs": [],
   "source": [
    "off_charges = offmol.partial_charges"
   ]
  },
  {
   "cell_type": "code",
   "execution_count": 11,
   "metadata": {},
   "outputs": [
    {
     "data": {
      "text/plain": [
       "<simtk.openmm.openmm.NonbondedForce; proxy of <Swig Object of type 'OpenMM::NonbondedForce *' at 0x7f8dc9970ae0> >"
      ]
     },
     "execution_count": 11,
     "metadata": {},
     "output_type": "execute_result"
    }
   ],
   "source": [
    "nb_force = sys.getForce(0)\n",
    "nb_force"
   ]
  },
  {
   "cell_type": "code",
   "execution_count": 12,
   "metadata": {},
   "outputs": [
    {
     "data": {
      "text/plain": [
       "23"
      ]
     },
     "execution_count": 12,
     "metadata": {},
     "output_type": "execute_result"
    }
   ],
   "source": [
    "N = offmol.n_atoms\n",
    "N"
   ]
  },
  {
   "cell_type": "code",
   "execution_count": 13,
   "metadata": {},
   "outputs": [],
   "source": [
    "omm_charges = []\n",
    "for i in range(N):\n",
    "    omm_charges.append(nb_force.getParticleParameters(i)[0])"
   ]
  },
  {
   "cell_type": "code",
   "execution_count": 14,
   "metadata": {},
   "outputs": [
    {
     "data": {
      "text/plain": [
       "[Quantity(value=0.0, unit=elementary charge),\n",
       " Quantity(value=0.0, unit=elementary charge),\n",
       " Quantity(value=0.0, unit=elementary charge),\n",
       " Quantity(value=0.0, unit=elementary charge),\n",
       " Quantity(value=0.0, unit=elementary charge),\n",
       " Quantity(value=0.0, unit=elementary charge),\n",
       " Quantity(value=0.0, unit=elementary charge),\n",
       " Quantity(value=0.0, unit=elementary charge),\n",
       " Quantity(value=0.0, unit=elementary charge),\n",
       " Quantity(value=0.0, unit=elementary charge),\n",
       " Quantity(value=0.0, unit=elementary charge),\n",
       " Quantity(value=0.0, unit=elementary charge),\n",
       " Quantity(value=0.0, unit=elementary charge),\n",
       " Quantity(value=0.0, unit=elementary charge),\n",
       " Quantity(value=0.0, unit=elementary charge),\n",
       " Quantity(value=0.0, unit=elementary charge),\n",
       " Quantity(value=0.0, unit=elementary charge),\n",
       " Quantity(value=0.0, unit=elementary charge),\n",
       " Quantity(value=0.0, unit=elementary charge),\n",
       " Quantity(value=0.0, unit=elementary charge),\n",
       " Quantity(value=0.0, unit=elementary charge),\n",
       " Quantity(value=0.0, unit=elementary charge),\n",
       " Quantity(value=0.0, unit=elementary charge)]"
      ]
     },
     "execution_count": 14,
     "metadata": {},
     "output_type": "execute_result"
    }
   ],
   "source": [
    "charge_differences = [omm_charges[i] - off_charges[i] for i in range(N)]\n",
    "charge_differences"
   ]
  },
  {
   "cell_type": "code",
   "execution_count": 15,
   "metadata": {},
   "outputs": [],
   "source": [
    "sim.context.setPositions(offmol.conformers[0])"
   ]
  },
  {
   "cell_type": "code",
   "execution_count": 16,
   "metadata": {},
   "outputs": [],
   "source": [
    "def get_energy():\n",
    "    return sim.context.getState(getEnergy=True).getPotentialEnergy()"
   ]
  },
  {
   "cell_type": "code",
   "execution_count": 17,
   "metadata": {},
   "outputs": [
    {
     "data": {
      "text/plain": [
       "Quantity(value=258.4339904785156, unit=kilojoule/mole)"
      ]
     },
     "execution_count": 17,
     "metadata": {},
     "output_type": "execute_result"
    }
   ],
   "source": [
    "get_energy()"
   ]
  },
  {
   "cell_type": "code",
   "execution_count": 18,
   "metadata": {},
   "outputs": [],
   "source": [
    "sim.minimizeEnergy()"
   ]
  },
  {
   "cell_type": "code",
   "execution_count": 19,
   "metadata": {},
   "outputs": [
    {
     "data": {
      "text/plain": [
       "Quantity(value=242.51620483398438, unit=kilojoule/mole)"
      ]
     },
     "execution_count": 19,
     "metadata": {},
     "output_type": "execute_result"
    }
   ],
   "source": [
    "get_energy()"
   ]
  },
  {
   "cell_type": "code",
   "execution_count": 20,
   "metadata": {},
   "outputs": [],
   "source": [
    "sim.context.setVelocitiesToTemperature(temperature)"
   ]
  },
  {
   "cell_type": "code",
   "execution_count": 21,
   "metadata": {},
   "outputs": [],
   "source": [
    "def get_positions():\n",
    "    return sim.context.getState(getPositions=True).getPositions(asNumpy=True)"
   ]
  },
  {
   "cell_type": "code",
   "execution_count": 22,
   "metadata": {},
   "outputs": [
    {
     "data": {
      "text/plain": [
       "Quantity(value=array([[ 0.25787252,  0.02050192, -0.19939502],\n",
       "       [ 0.20957561, -0.10400783, -0.14720073],\n",
       "       [ 0.19580406, -0.10378213, -0.0098293 ],\n",
       "       [ 0.29582617, -0.16354832,  0.06761356],\n",
       "       [ 0.28628427, -0.16435738,  0.20790081],\n",
       "       [ 0.1743831 , -0.10668242,  0.27013183],\n",
       "       [ 0.07211669, -0.04751066,  0.19314739],\n",
       "       [ 0.0823373 , -0.04789897,  0.0519701 ],\n",
       "       [-0.04737184,  0.01389246, -0.04980485],\n",
       "       [-0.04333544,  0.0122078 ,  0.26227048],\n",
       "       [-0.10133274,  0.11306173,  0.22370285],\n",
       "       [ 0.16506597, -0.1072682 ,  0.44578177],\n",
       "       [ 0.38360867, -0.22357166,  0.28573391],\n",
       "       [ 0.50545275, -0.14874387,  0.29327917],\n",
       "       [ 0.40126154, -0.22257276,  0.00262366],\n",
       "       [ 0.26751426,  0.01357658, -0.30817151],\n",
       "       [ 0.35597834,  0.04417292, -0.15710716],\n",
       "       [ 0.18885079,  0.10214639, -0.1760828 ],\n",
       "       [-0.0755612 , -0.02902563,  0.35737294],\n",
       "       [ 0.57527167, -0.19916944,  0.36076942],\n",
       "       [ 0.48599979, -0.04828022,  0.33203289],\n",
       "       [ 0.55260134, -0.14053288,  0.19487776],\n",
       "       [ 0.38047087, -0.22573599, -0.0924608 ]]), unit=nanometer)"
      ]
     },
     "execution_count": 22,
     "metadata": {},
     "output_type": "execute_result"
    }
   ],
   "source": [
    "get_positions()"
   ]
  },
  {
   "cell_type": "code",
   "execution_count": 23,
   "metadata": {},
   "outputs": [
    {
     "name": "stdout",
     "output_type": "stream",
     "text": [
      "CPU times: user 133 ms, sys: 76.7 ms, total: 210 ms\n",
      "Wall time: 351 ms\n"
     ]
    }
   ],
   "source": [
    "%%time\n",
    "sim.step(10000)"
   ]
  },
  {
   "cell_type": "code",
   "execution_count": 24,
   "metadata": {},
   "outputs": [
    {
     "name": "stderr",
     "output_type": "stream",
     "text": [
      "Using backend: pytorch\n"
     ]
    }
   ],
   "source": [
    "from espaloma.units import DISTANCE_UNIT, ENERGY_UNIT"
   ]
  },
  {
   "cell_type": "code",
   "execution_count": 25,
   "metadata": {},
   "outputs": [],
   "source": [
    "import torch\n",
    "torch.set_default_dtype(torch.float64)\n",
    "\n",
    "import numpy as np"
   ]
  },
  {
   "cell_type": "code",
   "execution_count": 26,
   "metadata": {},
   "outputs": [
    {
     "name": "stderr",
     "output_type": "stream",
     "text": [
      "100%|██████████| 100/100 [00:18<00:00,  5.47it/s]\n"
     ]
    }
   ],
   "source": [
    "from tqdm import tqdm\n",
    "xyz = []\n",
    "vacuum_energies = []\n",
    "\n",
    "n_samples = 100\n",
    "\n",
    "for _ in tqdm(range(n_samples)):\n",
    "    sim.step(1000)\n",
    "    xyz.append(get_positions().value_in_unit(DISTANCE_UNIT))\n",
    "    vacuum_energies.append(get_energy().value_in_unit(ENERGY_UNIT))\n",
    "vacuum_energies = torch.tensor(vacuum_energies)"
   ]
  },
  {
   "cell_type": "code",
   "execution_count": 27,
   "metadata": {},
   "outputs": [
    {
     "name": "stdout",
     "output_type": "stream",
     "text": [
      "bohr\n"
     ]
    }
   ],
   "source": [
    "print(DISTANCE_UNIT)"
   ]
  },
  {
   "cell_type": "code",
   "execution_count": 29,
   "metadata": {},
   "outputs": [
    {
     "data": {
      "text/plain": [
       "[<matplotlib.lines.Line2D at 0x7f8db89fb810>]"
      ]
     },
     "execution_count": 29,
     "metadata": {},
     "output_type": "execute_result"
    },
    {
     "data": {
      "image/png": "[encoded data removed]",
      "text/plain": [
       "<Figure size 432x288 with 1 Axes>"
      ]
     },
     "metadata": {
      "needs_background": "light"
     },
     "output_type": "display_data"
    }
   ],
   "source": [
    "import matplotlib.pyplot as plt\n",
    "\n",
    "plt.plot((vacuum_energies * ENERGY_UNIT).value_in_unit(unit.kilocalorie_per_mole))"
   ]
  },
  {
   "cell_type": "code",
   "execution_count": 30,
   "metadata": {},
   "outputs": [
    {
     "data": {
      "text/plain": [
       "23"
      ]
     },
     "execution_count": 30,
     "metadata": {},
     "output_type": "execute_result"
    }
   ],
   "source": [
    "N = len(xyz[0])\n",
    "N"
   ]
  },
  {
   "cell_type": "markdown",
   "metadata": {},
   "source": [
    "#### Pre-compute pairwise distance matrices"
   ]
  },
  {
   "cell_type": "code",
   "execution_count": 31,
   "metadata": {},
   "outputs": [
    {
     "data": {
      "text/plain": [
       "array([[ 4.07750047,  1.19310164, -2.24069233],\n",
       "       [ 2.83126061, -0.99990161, -1.38914258],\n",
       "       [ 2.84925203, -1.136739  ,  1.16439308],\n",
       "       [ 4.89946106, -2.42073058,  2.22278652],\n",
       "       [ 4.9926773 , -2.66091966,  4.81035154],\n",
       "       [ 3.21002998, -1.53427803,  6.34061352],\n",
       "       [ 1.02394323, -0.26653221,  5.25903266],\n",
       "       [ 0.79876944, -0.2390666 ,  2.6231183 ],\n",
       "       [-1.99945645,  0.44255701,  1.1150657 ],\n",
       "       [-0.80143118,  0.87860074,  6.98718225],\n",
       "       [-2.63163559,  2.02944787,  6.23445141],\n",
       "       [ 3.49098866, -2.00393079,  9.55052269],\n",
       "       [ 6.92679559, -3.86758189,  6.06760641],\n",
       "       [ 9.25812803, -2.51412479,  6.35158487],\n",
       "       [ 6.89334031, -3.1087439 ,  0.72418778],\n",
       "       [ 2.93529446,  2.84335636, -1.74294804],\n",
       "       [ 4.31741978,  1.03912881, -4.28873212],\n",
       "       [ 5.94596579,  1.5284153 , -1.42085833],\n",
       "       [-0.79091579,  0.37032487,  8.97449029],\n",
       "       [10.55882621, -3.88403807,  7.19256412],\n",
       "       [ 9.1077961 , -0.90071353,  7.63612535],\n",
       "       [ 9.96469932, -1.80412991,  4.54261019],\n",
       "       [ 6.18633142, -3.4300391 , -0.94418163]])"
      ]
     },
     "execution_count": 31,
     "metadata": {},
     "output_type": "execute_result"
    }
   ],
   "source": [
    "xyz[0]"
   ]
  },
  {
   "cell_type": "code",
   "execution_count": 32,
   "metadata": {},
   "outputs": [],
   "source": [
    "from scipy.spatial.distance import pdist, squareform\n",
    "\n",
    "distance_matrices = [torch.tensor(squareform(pdist(conf))) for conf in xyz]\n",
    "distance_matrices = torch.stack(distance_matrices)"
   ]
  },
  {
   "cell_type": "code",
   "execution_count": 33,
   "metadata": {},
   "outputs": [
    {
     "data": {
      "text/plain": [
       "tensor(3.9548)"
      ]
     },
     "execution_count": 33,
     "metadata": {},
     "output_type": "execute_result"
    }
   ],
   "source": [
    "(torch.median(distance_matrices[0]) * DISTANCE_UNIT).value_in_unit(unit.angstrom)"
   ]
  },
  {
   "cell_type": "code",
   "execution_count": 34,
   "metadata": {},
   "outputs": [],
   "source": [
    "radii = (torch.ones(N) * unit.angstroms).value_in_unit(DISTANCE_UNIT)\n",
    "scales = torch.ones(N)"
   ]
  },
  {
   "cell_type": "code",
   "execution_count": 35,
   "metadata": {},
   "outputs": [
    {
     "data": {
      "text/plain": [
       "(torch.Size([23]), torch.Size([23]))"
      ]
     },
     "execution_count": 35,
     "metadata": {},
     "output_type": "execute_result"
    }
   ],
   "source": [
    "radii.shape, scales.shape"
   ]
  },
  {
   "cell_type": "code",
   "execution_count": 36,
   "metadata": {},
   "outputs": [
    {
     "data": {
      "text/plain": [
       "(tensor([1.8897, 1.8897, 1.8897, 1.8897, 1.8897, 1.8897, 1.8897, 1.8897, 1.8897,\n",
       "         1.8897, 1.8897, 1.8897, 1.8897, 1.8897, 1.8897, 1.8897, 1.8897, 1.8897,\n",
       "         1.8897, 1.8897, 1.8897, 1.8897, 1.8897]),\n",
       " tensor([1., 1., 1., 1., 1., 1., 1., 1., 1., 1., 1., 1., 1., 1., 1., 1., 1., 1.,\n",
       "         1., 1., 1., 1., 1.]))"
      ]
     },
     "execution_count": 36,
     "metadata": {},
     "output_type": "execute_result"
    }
   ],
   "source": [
    "radii, scales"
   ]
  },
  {
   "cell_type": "code",
   "execution_count": 37,
   "metadata": {},
   "outputs": [
    {
     "data": {
      "text/plain": [
       "Quantity(value=array([ 0.11063   , -0.32578999,  0.04101   ,  0.13609999,  0.04101   ,\n",
       "        0.06506   , -0.19729   ,  0.06506   , -0.04672   ,  0.58569002,\n",
       "       -0.49212   , -0.04672   , -0.32578999,  0.11063   , -0.4727    ,\n",
       "        0.04844   ,  0.04844   ,  0.04844   ,  0.02066   ,  0.04844   ,\n",
       "        0.04844   ,  0.04844   ,  0.44064   ]), unit=elementary charge)"
      ]
     },
     "execution_count": 37,
     "metadata": {},
     "output_type": "execute_result"
    }
   ],
   "source": [
    "offmol.partial_charges"
   ]
  },
  {
   "cell_type": "code",
   "execution_count": 38,
   "metadata": {},
   "outputs": [],
   "source": [
    "charges = torch.tensor([c / unit.elementary_charge for c in off_charges])"
   ]
  },
  {
   "cell_type": "markdown",
   "metadata": {},
   "source": [
    "#### Compute hydration free energy difference using EXP\n"
   ]
  },
  {
   "cell_type": "code",
   "execution_count": 39,
   "metadata": {},
   "outputs": [],
   "source": [
    "from espaloma.mm.implicit import gbsa_obc2_energy"
   ]
  },
  {
   "cell_type": "code",
   "execution_count": 40,
   "metadata": {},
   "outputs": [],
   "source": [
    "# TODO: jit this, bro\n",
    "\n",
    "def compute_obc2_energies(distance_matrices, radii, scales, charges):\n",
    "    N = len(distance_matrices)\n",
    "    E_s = torch.zeros(N)\n",
    "    for i in range(N):\n",
    "        E_s[i] += gbsa_obc2_energy(\n",
    "            distance_matrices[i],\n",
    "            radii, scales, charges\n",
    "        )\n",
    "    return E_s"
   ]
  },
  {
   "cell_type": "code",
   "execution_count": 41,
   "metadata": {},
   "outputs": [
    {
     "data": {
      "text/plain": [
       "100"
      ]
     },
     "execution_count": 41,
     "metadata": {},
     "output_type": "execute_result"
    }
   ],
   "source": [
    "len(distance_matrices)"
   ]
  },
  {
   "cell_type": "code",
   "execution_count": null,
   "metadata": {},
   "outputs": [],
   "source": []
  },
  {
   "cell_type": "code",
   "execution_count": 42,
   "metadata": {},
   "outputs": [],
   "source": [
    "obc2_energies = compute_obc2_energies(distance_matrices, radii, scales, charges)"
   ]
  },
  {
   "cell_type": "code",
   "execution_count": 43,
   "metadata": {},
   "outputs": [
    {
     "data": {
      "text/plain": [
       "tensor([-0.0740, -0.0770, -0.0780, -0.0747, -0.0737, -0.0749, -0.0714, -0.0748,\n",
       "        -0.0730, -0.0732, -0.0750, -0.0776, -0.0759, -0.0754, -0.0753, -0.0777,\n",
       "        -0.0751, -0.0745, -0.0782, -0.0776, -0.0760, -0.0734, -0.0785, -0.0754,\n",
       "        -0.0760, -0.0742, -0.0804, -0.0768, -0.0790, -0.0769, -0.0775, -0.0714,\n",
       "        -0.0755, -0.0748, -0.0786, -0.0778, -0.0739, -0.0742, -0.0765, -0.0734,\n",
       "        -0.0733, -0.0742, -0.0751, -0.0768, -0.0736, -0.0761, -0.0776, -0.0748,\n",
       "        -0.0755, -0.0720, -0.0723, -0.0752, -0.0738, -0.0743, -0.0717, -0.0720,\n",
       "        -0.0725, -0.0773, -0.0745, -0.0739, -0.0756, -0.0745, -0.0761, -0.0748,\n",
       "        -0.0764, -0.0732, -0.0734, -0.0722, -0.0737, -0.0735, -0.0746, -0.0759,\n",
       "        -0.0742, -0.0761, -0.0727, -0.0748, -0.0732, -0.0709, -0.0710, -0.0752,\n",
       "        -0.0754, -0.0755, -0.0743, -0.0733, -0.0759, -0.0768, -0.0728, -0.0771,\n",
       "        -0.0784, -0.0733, -0.0759, -0.0757, -0.0740, -0.0754, -0.0716, -0.0752,\n",
       "        -0.0766, -0.0721, -0.0774, -0.0766])"
      ]
     },
     "execution_count": 43,
     "metadata": {},
     "output_type": "execute_result"
    }
   ],
   "source": [
    "obc2_energies"
   ]
  },
  {
   "cell_type": "code",
   "execution_count": 44,
   "metadata": {},
   "outputs": [
    {
     "data": {
      "text/plain": [
       "[<matplotlib.lines.Line2D at 0x7f8db8fb3d90>]"
      ]
     },
     "execution_count": 44,
     "metadata": {},
     "output_type": "execute_result"
    },
    {
     "data": {
      "image/png": "[encoded data removed]",
      "text/plain": [
       "<Figure size 432x288 with 1 Axes>"
      ]
     },
     "metadata": {
      "needs_background": "light"
     },
     "output_type": "display_data"
    }
   ],
   "source": [
    "plt.plot(obc2_energies.detach().numpy())"
   ]
  },
  {
   "cell_type": "code",
   "execution_count": 45,
   "metadata": {},
   "outputs": [
    {
     "data": {
      "text/plain": [
       "tensor([1.8897, 1.8897, 1.8897, 1.8897, 1.8897, 1.8897, 1.8897, 1.8897, 1.8897,\n",
       "        1.8897, 1.8897, 1.8897, 1.8897, 1.8897, 1.8897, 1.8897, 1.8897, 1.8897,\n",
       "        1.8897, 1.8897, 1.8897, 1.8897, 1.8897])"
      ]
     },
     "execution_count": 45,
     "metadata": {},
     "output_type": "execute_result"
    }
   ],
   "source": [
    "radii"
   ]
  },
  {
   "cell_type": "code",
   "execution_count": 46,
   "metadata": {},
   "outputs": [],
   "source": [
    "from openmmtools.constants import kB\n",
    "kT = kB * temperature"
   ]
  },
  {
   "cell_type": "code",
   "execution_count": 47,
   "metadata": {},
   "outputs": [
    {
     "data": {
      "text/plain": [
       "1052.5821686494048"
      ]
     },
     "execution_count": 47,
     "metadata": {},
     "output_type": "execute_result"
    }
   ],
   "source": [
    "to_kT = 1.0 * ENERGY_UNIT / kT\n",
    "to_kT"
   ]
  },
  {
   "cell_type": "code",
   "execution_count": 48,
   "metadata": {},
   "outputs": [
    {
     "data": {
      "text/plain": [
       "tensor([-196.4868, -204.8953, -203.0547, -204.2970, -210.4527, -201.7020,\n",
       "        -197.8013, -207.4428, -196.9776, -202.1338, -195.2663, -209.7706,\n",
       "        -205.0241, -201.0908, -199.7019, -212.3835, -204.3050, -194.5972,\n",
       "        -210.5493, -219.9688, -199.2000, -206.9033, -208.5758, -199.1902,\n",
       "        -206.3286, -205.9077, -209.3662, -209.7259, -205.5252, -203.2021,\n",
       "        -212.8039, -208.4320, -202.5253, -200.2179, -210.9210, -204.1510,\n",
       "        -201.3662, -200.8356, -211.8598, -196.7788, -208.0266, -192.4439,\n",
       "        -209.5805, -203.2734, -208.8579, -200.0426, -208.5755, -217.2241,\n",
       "        -201.7736, -203.9575, -199.0079, -202.6802, -195.2566, -198.6254,\n",
       "        -199.9667, -203.3520, -208.3551, -206.1390, -204.4859, -202.1680,\n",
       "        -202.7732, -202.3670, -199.9341, -212.3504, -203.8016, -196.7402,\n",
       "        -204.0628, -202.7281, -202.9330, -199.3992, -194.4446, -201.3457,\n",
       "        -196.9699, -196.8377, -197.4017, -209.9680, -205.8994, -196.7378,\n",
       "        -198.8515, -200.0430, -220.5607, -206.5467, -207.9184, -200.6524,\n",
       "        -204.5156, -214.4918, -195.6533, -201.1734, -207.3966, -212.5515,\n",
       "        -204.0433, -205.5791, -201.3629, -201.1779, -201.4016, -197.1854,\n",
       "        -204.2615, -194.3588, -209.0636, -202.7311])"
      ]
     },
     "execution_count": 48,
     "metadata": {},
     "output_type": "execute_result"
    }
   ],
   "source": [
    "w = (obc2_energies - vacuum_energies) * to_kT\n",
    "w"
   ]
  },
  {
   "cell_type": "code",
   "execution_count": 58,
   "metadata": {},
   "outputs": [
    {
     "data": {
      "text/plain": [
       "<matplotlib.collections.PathCollection at 0x7f8db98dd450>"
      ]
     },
     "execution_count": 58,
     "metadata": {},
     "output_type": "execute_result"
    },
    {
     "data": {
      "image/png": "[encoded data removed]",
      "text/plain": [
       "<Figure size 432x288 with 1 Axes>"
      ]
     },
     "metadata": {
      "needs_background": "light"
     },
     "output_type": "display_data"
    }
   ],
   "source": [
    "plt.scatter(obc2_energies, vacuum_energies)"
   ]
  },
  {
   "cell_type": "code",
   "execution_count": 56,
   "metadata": {},
   "outputs": [
    {
     "data": {
      "text/plain": [
       "(array([ 2.,  1.,  5.,  9., 12., 18., 22., 14., 13.,  4.]),\n",
       " array([-220.5606721 , -217.74899353, -214.93731496, -212.12563639,\n",
       "        -209.31395781, -206.50227924, -203.69060067, -200.8789221 ,\n",
       "        -198.06724353, -195.25556495, -192.44388638]),\n",
       " <BarContainer object of 10 artists>)"
      ]
     },
     "execution_count": 56,
     "metadata": {},
     "output_type": "execute_result"
    },
    {
     "data": {
      "image/png": "[encoded data removed]",
      "text/plain": [
       "<Figure size 432x288 with 1 Axes>"
      ]
     },
     "metadata": {
      "needs_background": "light"
     },
     "output_type": "display_data"
    }
   ],
   "source": [
    "plt.hist(w.detach().flatten().numpy())"
   ]
  },
  {
   "cell_type": "code",
   "execution_count": 57,
   "metadata": {},
   "outputs": [
    {
     "data": {
      "text/plain": [
       "5.611685430423913"
      ]
     },
     "execution_count": 57,
     "metadata": {},
     "output_type": "execute_result"
    }
   ],
   "source": [
    "w.detach().flatten().numpy().std()"
   ]
  },
  {
   "cell_type": "code",
   "execution_count": 59,
   "metadata": {},
   "outputs": [],
   "source": [
    "def one_sided_exp(w):\n",
    "    DeltaF = - (torch.logsumexp(- w, dim=(0,)) - np.log(len(w)))\n",
    "    return DeltaF"
   ]
  },
  {
   "cell_type": "code",
   "execution_count": null,
   "metadata": {},
   "outputs": [],
   "source": []
  },
  {
   "cell_type": "code",
   "execution_count": 60,
   "metadata": {},
   "outputs": [
    {
     "name": "stdout",
     "output_type": "stream",
     "text": [
      "CPU times: user 745 µs, sys: 514 µs, total: 1.26 ms\n",
      "Wall time: 764 µs\n"
     ]
    },
    {
     "data": {
      "text/plain": [
       "tensor(-216.4211)"
      ]
     },
     "execution_count": 60,
     "metadata": {},
     "output_type": "execute_result"
    }
   ],
   "source": [
    "%%time\n",
    "one_sided_exp(w)"
   ]
  },
  {
   "cell_type": "code",
   "execution_count": 61,
   "metadata": {},
   "outputs": [
    {
     "data": {
      "text/plain": [
       "tensor(-129.0220)"
      ]
     },
     "execution_count": 61,
     "metadata": {},
     "output_type": "execute_result"
    }
   ],
   "source": [
    "((one_sided_exp(w) / to_kT).detach() * ENERGY_UNIT).value_in_unit(unit.kilocalorie_per_mole)"
   ]
  },
  {
   "cell_type": "markdown",
   "metadata": {},
   "source": [
    "#### TODO: huh, fishy that this is off by so much... Initial prediction is a hydration free energy of -120-130 kcal/mol????"
   ]
  },
  {
   "cell_type": "markdown",
   "metadata": {},
   "source": [
    "#### TODO: double-check against timemachine implementation and against openmm implementation"
   ]
  },
  {
   "cell_type": "code",
   "execution_count": 62,
   "metadata": {},
   "outputs": [
    {
     "data": {
      "text/plain": [
       "-14.559801248448967"
      ]
     },
     "execution_count": 62,
     "metadata": {},
     "output_type": "execute_result"
    }
   ],
   "source": [
    "expt_delta_f = -8.68 * unit.kilocalorie_per_mole / kT\n",
    "expt_delta_f"
   ]
  },
  {
   "cell_type": "code",
   "execution_count": 63,
   "metadata": {},
   "outputs": [
    {
     "data": {
      "text/plain": [
       "tensor([1., 1., 1., 1., 1., 1., 1., 1., 1., 1., 1., 1., 1., 1., 1., 1., 1., 1.,\n",
       "        1., 1., 1., 1., 1.], requires_grad=True)"
      ]
     },
     "execution_count": 63,
     "metadata": {},
     "output_type": "execute_result"
    }
   ],
   "source": [
    "radii.requires_grad_()\n",
    "scales.requires_grad_()"
   ]
  },
  {
   "cell_type": "code",
   "execution_count": 64,
   "metadata": {},
   "outputs": [
    {
     "data": {
      "text/plain": [
       "1.6763806343078613e-08"
      ]
     },
     "execution_count": 64,
     "metadata": {},
     "output_type": "execute_result"
    }
   ],
   "source": [
    "sum([c.value_in_unit(unit.elementary_charge) for c in off_charges])"
   ]
  },
  {
   "cell_type": "code",
   "execution_count": 65,
   "metadata": {},
   "outputs": [],
   "source": [
    "#def free_energy_loss(distance_matrices, radii, scales, charges):\n",
    "#    w = compute_obc2_energies(distance_matrices, radii, scales, charges) - vacuum_energies\n",
    "#    pred_delta_f = one_sided_exp(w)\n",
    "#    return torch.sqrt((pred_delta_f - expt_delta_f)**2)"
   ]
  },
  {
   "cell_type": "code",
   "execution_count": 66,
   "metadata": {},
   "outputs": [],
   "source": [
    "# NOTE: compilation time blows up because it attempts to inline the entire\n",
    "# loop over the training data...\n",
    "#fast_free_energy_loss = torch.jit.trace(\n",
    "#    free_energy_loss,\n",
    "#    (distance_matrices, radii, scales, charges),\n",
    "#)"
   ]
  },
  {
   "cell_type": "code",
   "execution_count": 67,
   "metadata": {},
   "outputs": [],
   "source": [
    "def free_energy_loss(radii, scales, charges, inds):\n",
    "    \"\"\"compute hydration free energy using the subset of snapshots indexed by inds\"\"\"\n",
    "    solv_energies = compute_obc2_energies(distance_matrices[inds], radii, scales, charges)\n",
    "    w = solv_energies - vacuum_energies[inds]\n",
    "    pred_delta_f = one_sided_exp(w)\n",
    "    return torch.sqrt((pred_delta_f - expt_delta_f)**2)"
   ]
  },
  {
   "cell_type": "markdown",
   "metadata": {},
   "source": [
    "#### Check ability to fit to expt free energy target if all radii and scales are free parameters"
   ]
  },
  {
   "cell_type": "code",
   "execution_count": 68,
   "metadata": {},
   "outputs": [
    {
     "data": {
      "text/plain": [
       "(tensor([1.8897, 1.8897, 1.8897, 1.8897, 1.8897, 1.8897, 1.8897, 1.8897, 1.8897,\n",
       "         1.8897, 1.8897, 1.8897, 1.8897, 1.8897, 1.8897, 1.8897, 1.8897, 1.8897,\n",
       "         1.8897, 1.8897, 1.8897, 1.8897, 1.8897]),\n",
       " tensor([1., 1., 1., 1., 1., 1., 1., 1., 1., 1., 1., 1., 1., 1., 1., 1., 1., 1.,\n",
       "         1., 1., 1., 1., 1.]))"
      ]
     },
     "execution_count": 68,
     "metadata": {},
     "output_type": "execute_result"
    }
   ],
   "source": [
    "radii = (torch.ones(N) * unit.angstroms).value_in_unit(DISTANCE_UNIT)\n",
    "scales = torch.ones(N)\n",
    "radii, scales"
   ]
  },
  {
   "cell_type": "code",
   "execution_count": 69,
   "metadata": {},
   "outputs": [
    {
     "data": {
      "text/plain": [
       "tensor([1., 1., 1., 1., 1., 1., 1., 1., 1., 1., 1., 1., 1., 1., 1., 1., 1., 1.,\n",
       "        1., 1., 1., 1., 1.], requires_grad=True)"
      ]
     },
     "execution_count": 69,
     "metadata": {},
     "output_type": "execute_result"
    }
   ],
   "source": [
    "radii.requires_grad_()\n",
    "scales.requires_grad_()"
   ]
  },
  {
   "cell_type": "code",
   "execution_count": 70,
   "metadata": {},
   "outputs": [],
   "source": [
    "learning_rate = 1e-3\n",
    "optimizer = torch.optim.Adam([radii, scales], lr=learning_rate)"
   ]
  },
  {
   "cell_type": "code",
   "execution_count": 71,
   "metadata": {},
   "outputs": [
    {
     "data": {
      "text/plain": [
       "torch.Size([100, 23, 23])"
      ]
     },
     "execution_count": 71,
     "metadata": {},
     "output_type": "execute_result"
    }
   ],
   "source": [
    "distance_matrices.shape"
   ]
  },
  {
   "cell_type": "code",
   "execution_count": 72,
   "metadata": {},
   "outputs": [
    {
     "name": "stderr",
     "output_type": "stream",
     "text": [
      "100%|██████████| 1000/1000 [00:51<00:00, 19.24it/s, batch_loss=8.215375274837115]\n"
     ]
    }
   ],
   "source": [
    "radii_traj = [np.array(radii.detach().numpy())]\n",
    "scales_traj = [np.array(scales.detach().numpy())]\n",
    "\n",
    "n_snapshots_per_batch = 25\n",
    "batch_losses = []\n",
    "trange = tqdm(range(1000))\n",
    "for t in trange:\n",
    "    batch_inds = np.random.choice(range(len(distance_matrices)), n_snapshots_per_batch)\n",
    "    L = free_energy_loss(radii, scales, charges, batch_inds)\n",
    "    \n",
    "    optimizer.zero_grad()\n",
    "    L.backward()\n",
    "    optimizer.step()\n",
    "    \n",
    "    batch_losses.append(L.detach().numpy())\n",
    "    trange.set_postfix(batch_loss=batch_losses[-1])\n",
    "    \n",
    "    \n",
    "    radii_traj.append(np.array(radii.detach().numpy()))\n",
    "    scales_traj.append(np.array(scales.detach().numpy()))"
   ]
  },
  {
   "cell_type": "code",
   "execution_count": 74,
   "metadata": {},
   "outputs": [
    {
     "data": {
      "text/plain": [
       "[<matplotlib.lines.Line2D at 0x7f8dbbf32350>,\n",
       " <matplotlib.lines.Line2D at 0x7f8dbbf24750>,\n",
       " <matplotlib.lines.Line2D at 0x7f8dbbf32550>,\n",
       " <matplotlib.lines.Line2D at 0x7f8dbbf32610>,\n",
       " <matplotlib.lines.Line2D at 0x7f8dbbf326d0>,\n",
       " <matplotlib.lines.Line2D at 0x7f8dbbf32810>,\n",
       " <matplotlib.lines.Line2D at 0x7f8dbbf328d0>,\n",
       " <matplotlib.lines.Line2D at 0x7f8dbbf32990>,\n",
       " <matplotlib.lines.Line2D at 0x7f8dbbf32a50>,\n",
       " <matplotlib.lines.Line2D at 0x7f8dbbf327d0>,\n",
       " <matplotlib.lines.Line2D at 0x7f8dbbf035d0>,\n",
       " <matplotlib.lines.Line2D at 0x7f8dbbf32bd0>,\n",
       " <matplotlib.lines.Line2D at 0x7f8dbbf32c90>,\n",
       " <matplotlib.lines.Line2D at 0x7f8dbbf32d50>,\n",
       " <matplotlib.lines.Line2D at 0x7f8dbbf32e10>,\n",
       " <matplotlib.lines.Line2D at 0x7f8dbbf32ed0>,\n",
       " <matplotlib.lines.Line2D at 0x7f8dbbf32f90>,\n",
       " <matplotlib.lines.Line2D at 0x7f8dbbf3d090>,\n",
       " <matplotlib.lines.Line2D at 0x7f8dbbf3d150>,\n",
       " <matplotlib.lines.Line2D at 0x7f8dbbf3d210>,\n",
       " <matplotlib.lines.Line2D at 0x7f8dbbf3d2d0>,\n",
       " <matplotlib.lines.Line2D at 0x7f8dbbf3d390>,\n",
       " <matplotlib.lines.Line2D at 0x7f8dbbf3d450>]"
      ]
     },
     "execution_count": 74,
     "metadata": {},
     "output_type": "execute_result"
    },
    {
     "data": {
      "image/png": "[encoded data removed]",
      "text/plain": [
       "<Figure size 720x360 with 2 Axes>"
      ]
     },
     "metadata": {
      "needs_background": "light"
     },
     "output_type": "display_data"
    }
   ],
   "source": [
    "plt.figure(figsize=(10,5))\n",
    "plt.subplot(1,2,1)\n",
    "plt.plot(np.array(radii_traj))\n",
    "plt.subplot(1,2,2)\n",
    "plt.plot(np.array(scales_traj))"
   ]
  },
  {
   "cell_type": "code",
   "execution_count": 75,
   "metadata": {},
   "outputs": [],
   "source": [
    "loss_traj_in_kcalmol = [(b * kT).value_in_unit(unit.kilocalorie_per_mole) for b in batch_losses]"
   ]
  },
  {
   "cell_type": "code",
   "execution_count": 76,
   "metadata": {},
   "outputs": [
    {
     "data": {
      "text/plain": [
       "(0.0, 8.748730838938133)"
      ]
     },
     "execution_count": 76,
     "metadata": {},
     "output_type": "execute_result"
    },
    {
     "data": {
      "image/png": "[encoded data removed]",
      "text/plain": [
       "<Figure size 432x288 with 1 Axes>"
      ]
     },
     "metadata": {
      "needs_background": "light"
     },
     "output_type": "display_data"
    }
   ],
   "source": [
    "plt.plot(loss_traj_in_kcalmol)\n",
    "plt.ylim(0,)"
   ]
  },
  {
   "cell_type": "markdown",
   "metadata": {},
   "source": [
    "#### Double-check estimate variance under configuration subsampling"
   ]
  },
  {
   "cell_type": "code",
   "execution_count": 77,
   "metadata": {},
   "outputs": [
    {
     "name": "stderr",
     "output_type": "stream",
     "text": [
      "100%|██████████| 1000/1000 [00:23<00:00, 43.47it/s]\n"
     ]
    }
   ],
   "source": [
    "losses = []\n",
    "for _ in tqdm(range(1000)):\n",
    "    batch_inds = np.random.choice(range(len(distance_matrices)), n_snapshots_per_batch)\n",
    "    L = float(free_energy_loss(radii, scales, charges, batch_inds).detach())\n",
    "    losses.append(L)"
   ]
  },
  {
   "cell_type": "code",
   "execution_count": 78,
   "metadata": {},
   "outputs": [
    {
     "data": {
      "text/plain": [
       "Text(0, 0.5, 'frequency')"
      ]
     },
     "execution_count": 78,
     "metadata": {},
     "output_type": "execute_result"
    },
    {
     "data": {
      "image/png": "[encoded data removed]",
      "text/plain": [
       "<Figure size 432x288 with 1 Axes>"
      ]
     },
     "metadata": {
      "needs_background": "light"
     },
     "output_type": "display_data"
    }
   ],
   "source": [
    "plt.title('distribution of losses under configuration subsampling')\n",
    "plt.hist(losses, bins=50);\n",
    "plt.xlabel('rmse loss (kT)')\n",
    "plt.ylabel('frequency')"
   ]
  },
  {
   "cell_type": "markdown",
   "metadata": {},
   "source": [
    "#### Now let's get a graph net in the mix!"
   ]
  },
  {
   "cell_type": "code",
   "execution_count": 94,
   "metadata": {},
   "outputs": [],
   "source": [
    "from espaloma.redux.nn import TAG, MLP\n",
    "from espaloma.redux.symmetry import ValenceModel, Readouts, elements\n",
    "\n",
    "def initialize(hidden_dim=128, node_dim=128):\n",
    "    node_representation = TAG(in_dim=len(elements), hidden_dim=hidden_dim, out_dim=node_dim)\n",
    "    readouts = Readouts(atoms=MLP(node_dim, 2), bonds=MLP(2 * node_dim, 2), angles=MLP(3 * node_dim, 2),\n",
    "                        propers=MLP(4 * node_dim, 6), impropers=MLP(4 * node_dim, 6))\n",
    "    valence_model = ValenceModel(node_representation, readouts)\n",
    "    return valence_model"
   ]
  },
  {
   "cell_type": "code",
   "execution_count": 95,
   "metadata": {},
   "outputs": [],
   "source": [
    "valence_model = initialize()"
   ]
  },
  {
   "cell_type": "code",
   "execution_count": 96,
   "metadata": {},
   "outputs": [],
   "source": [
    "params = valence_model.forward(offmol)"
   ]
  },
  {
   "cell_type": "code",
   "execution_count": 97,
   "metadata": {},
   "outputs": [
    {
     "data": {
      "text/plain": [
       "(tensor([0.0443, 0.0476, 0.0470, 0.0531, 0.0470, 0.0538, 0.0493, 0.0538, 0.0411,\n",
       "         0.0496, 0.0466, 0.0411, 0.0476, 0.0443, 0.0400, 0.0593, 0.0593, 0.0593,\n",
       "         0.0566, 0.0593, 0.0593, 0.0593, 0.0446], grad_fn=<SelectBackward>),\n",
       " tensor([0.0420, 0.0623, 0.0443, 0.0476, 0.0443, 0.0616, 0.0575, 0.0616, 0.0606,\n",
       "         0.0400, 0.0657, 0.0606, 0.0623, 0.0420, 0.0324, 0.0596, 0.0596, 0.0596,\n",
       "         0.0639, 0.0596, 0.0596, 0.0596, 0.0502], grad_fn=<SelectBackward>))"
      ]
     },
     "execution_count": 97,
     "metadata": {},
     "output_type": "execute_result"
    }
   ],
   "source": [
    "radii = params.atoms[:,0]\n",
    "scales = params.atoms[:,1]\n",
    "radii, scales"
   ]
  },
  {
   "cell_type": "code",
   "execution_count": 98,
   "metadata": {},
   "outputs": [],
   "source": [
    "def predict_obc2_params(offmol):\n",
    "    \"\"\"output of graph net's atom representation will initially be near zero, just offset by +1\"\"\"\n",
    "    params = valence_model.forward(offmol)\n",
    "    radii = params.atoms[:,0] + 1\n",
    "    scales = params.atoms[:,1] + 1\n",
    "    return radii, scales"
   ]
  },
  {
   "cell_type": "code",
   "execution_count": 103,
   "metadata": {},
   "outputs": [
    {
     "data": {
      "text/plain": [
       "(tensor([0.3677, 0.2594, 0.4371, 0.3356, 0.4371, 0.4776, 0.2965, 0.4776, 0.5755,\n",
       "         0.2333, 0.2400, 0.5755, 0.2594, 0.3677, 0.2415, 0.5779, 0.5779, 0.5779,\n",
       "         0.4158, 0.5779, 0.5779, 0.5779, 0.2446], grad_fn=<AddBackward0>),\n",
       " tensor([0.6393, 0.4575, 0.6248, 0.5358, 0.6248, 0.6518, 0.5147, 0.6518, 0.7243,\n",
       "         0.5125, 0.4892, 0.7243, 0.4575, 0.6393, 0.5009, 0.6476, 0.6476, 0.6476,\n",
       "         0.6059, 0.6476, 0.6476, 0.6476, 0.4781], grad_fn=<AddBackward0>))"
      ]
     },
     "execution_count": 103,
     "metadata": {},
     "output_type": "execute_result"
    }
   ],
   "source": [
    "radii, scales = predict_obc2_params(offmol)\n",
    "radii, scales"
   ]
  },
  {
   "cell_type": "code",
   "execution_count": 100,
   "metadata": {},
   "outputs": [],
   "source": [
    "learning_rate = 1e-4\n",
    "optimizer = torch.optim.Adam(valence_model.parameters(), lr=learning_rate)"
   ]
  },
  {
   "cell_type": "code",
   "execution_count": 101,
   "metadata": {},
   "outputs": [
    {
     "name": "stderr",
     "output_type": "stream",
     "text": [
      "100%|██████████| 1000/1000 [00:38<00:00, 25.80it/s, batch_loss=8.223368918225177]\n"
     ]
    }
   ],
   "source": [
    "radii_traj = [np.array(radii.detach().numpy())]\n",
    "scales_traj = [np.array(scales.detach().numpy())]\n",
    "\n",
    "batch_losses = []\n",
    "trange = tqdm(range(1000))\n",
    "\n",
    "n_snapshots_per_batch = 5\n",
    "\n",
    "for t in trange:\n",
    "    batch_inds = np.random.choice(range(len(distance_matrices)), n_snapshots_per_batch)\n",
    "    \n",
    "    radii, scales = predict_obc2_params(offmol)\n",
    "    L = free_energy_loss(radii, scales, charges, batch_inds)\n",
    "    \n",
    "    optimizer.zero_grad()\n",
    "    L.backward()\n",
    "    optimizer.step()\n",
    "    \n",
    "    batch_losses.append(L.detach().numpy())\n",
    "    trange.set_postfix(batch_loss=batch_losses[-1])\n",
    "    \n",
    "    \n",
    "    radii_traj.append(np.array(radii.detach().numpy()))\n",
    "    scales_traj.append(np.array(scales.detach().numpy()))"
   ]
  },
  {
   "cell_type": "code",
   "execution_count": 102,
   "metadata": {},
   "outputs": [
    {
     "data": {
      "text/plain": [
       "[<matplotlib.lines.Line2D at 0x7f8dbe66e7d0>,\n",
       " <matplotlib.lines.Line2D at 0x7f8dbe65fc10>,\n",
       " <matplotlib.lines.Line2D at 0x7f8dbe66e9d0>,\n",
       " <matplotlib.lines.Line2D at 0x7f8dbe66ea90>,\n",
       " <matplotlib.lines.Line2D at 0x7f8dbe66eb50>,\n",
       " <matplotlib.lines.Line2D at 0x7f8dbe66ec90>,\n",
       " <matplotlib.lines.Line2D at 0x7f8dbe66ed50>,\n",
       " <matplotlib.lines.Line2D at 0x7f8dbe66ee10>,\n",
       " <matplotlib.lines.Line2D at 0x7f8dbe66eed0>,\n",
       " <matplotlib.lines.Line2D at 0x7f8dbe66ec50>,\n",
       " <matplotlib.lines.Line2D at 0x7f8dbe66efd0>,\n",
       " <matplotlib.lines.Line2D at 0x7f8dbe67a090>,\n",
       " <matplotlib.lines.Line2D at 0x7f8dbe67a150>,\n",
       " <matplotlib.lines.Line2D at 0x7f8dbe67a210>,\n",
       " <matplotlib.lines.Line2D at 0x7f8dbe67a2d0>,\n",
       " <matplotlib.lines.Line2D at 0x7f8dbe67a390>,\n",
       " <matplotlib.lines.Line2D at 0x7f8dbe67a450>,\n",
       " <matplotlib.lines.Line2D at 0x7f8dbe67a510>,\n",
       " <matplotlib.lines.Line2D at 0x7f8dbe67a5d0>,\n",
       " <matplotlib.lines.Line2D at 0x7f8dbe67a690>,\n",
       " <matplotlib.lines.Line2D at 0x7f8dbe67a750>,\n",
       " <matplotlib.lines.Line2D at 0x7f8dbe67a810>,\n",
       " <matplotlib.lines.Line2D at 0x7f8dbe67a8d0>]"
      ]
     },
     "execution_count": 102,
     "metadata": {},
     "output_type": "execute_result"
    },
    {
     "data": {
      "image/png": "[encoded data removed]",
      "text/plain": [
       "<Figure size 720x360 with 2 Axes>"
      ]
     },
     "metadata": {
      "needs_background": "light"
     },
     "output_type": "display_data"
    }
   ],
   "source": [
    "plt.figure(figsize=(10,5))\n",
    "plt.subplot(1,2,1)\n",
    "plt.plot(np.array(radii_traj))\n",
    "plt.subplot(1,2,2)\n",
    "plt.plot(np.array(scales_traj))"
   ]
  },
  {
   "cell_type": "code",
   "execution_count": 106,
   "metadata": {},
   "outputs": [
    {
     "data": {
      "text/plain": [
       "Text(0, 0.5, 'hydration free energy error (kcal/mol)')"
      ]
     },
     "execution_count": 106,
     "metadata": {},
     "output_type": "execute_result"
    },
    {
     "data": {
      "image/png": "[encoded data removed]",
      "text/plain": [
       "<Figure size 432x288 with 1 Axes>"
      ]
     },
     "metadata": {
      "needs_background": "light"
     },
     "output_type": "display_data"
    }
   ],
   "source": [
    "loss_traj_in_kcalmol = [(b * kT).value_in_unit(unit.kilocalorie_per_mole) for b in batch_losses]\n",
    "plt.plot(loss_traj_in_kcalmol)\n",
    "plt.ylim(0,)\n",
    "plt.xlabel('Adam iteration')\n",
    "plt.ylabel('hydration free energy error (kcal/mol)')"
   ]
  },
  {
   "cell_type": "code",
   "execution_count": null,
   "metadata": {},
   "outputs": [],
   "source": []
  }
 ],
 "metadata": {
  "kernelspec": {
   "display_name": "Python [conda env:espaloma]",
   "language": "python",
   "name": "conda-env-espaloma-py"
  },
  "language_info": {
   "codemirror_mode": {
    "name": "ipython",
    "version": 3
   },
   "file_extension": ".py",
   "mimetype": "text/x-python",
   "name": "python",
   "nbconvert_exporter": "python",
   "pygments_lexer": "ipython3",
   "version": "3.7.8"
  }
 },
 "nbformat": 4,
 "nbformat_minor": 4
}
