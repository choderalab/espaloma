{
 "cells": [
  {
   "cell_type": "code",
   "execution_count": 94,
   "metadata": {},
   "outputs": [],
   "source": [
    "import espaloma as esp\n",
    "import torch\n",
    "import pinot"
   ]
  },
  {
   "cell_type": "code",
   "execution_count": 69,
   "metadata": {},
   "outputs": [],
   "source": [
    "g = esp.Graph('c1ccccc1')"
   ]
  },
  {
   "cell_type": "code",
   "execution_count": 70,
   "metadata": {},
   "outputs": [
    {
     "data": {
      "text/plain": [
       "<espaloma.graphs.graph.Graph at 0x13f1c7fd0>"
      ]
     },
     "execution_count": 70,
     "metadata": {},
     "output_type": "execute_result"
    }
   ],
   "source": [
    "from espaloma.data.md import MoleculeVacuumSimulation\n",
    "simulation = MoleculeVacuumSimulation(\n",
    "        n_samples=100, n_steps_per_sample=10\n",
    ")\n",
    "simulation.run(g)\n"
   ]
  },
  {
   "cell_type": "code",
   "execution_count": 71,
   "metadata": {},
   "outputs": [
    {
     "data": {
      "text/plain": [
       "<espaloma.graphs.graph.Graph at 0x13f1c7fd0>"
      ]
     },
     "execution_count": 71,
     "metadata": {},
     "output_type": "execute_result"
    }
   ],
   "source": [
    "forcefield = esp.graphs.legacy_force_field.LegacyForceField('smirnoff99Frosst')\n",
    "forcefield.parametrize(g)\n"
   ]
  },
  {
   "cell_type": "code",
   "execution_count": 124,
   "metadata": {},
   "outputs": [],
   "source": [
    "layer = esp.nn.layers.dgl_legacy.gn('SAGEConv')\n",
    "representation = esp.nn.Sequential(layer, config=[32, 'tanh', 32, 'tanh'])\n",
    "readout = esp.nn.readout.janossy.JanossyPooling(\n",
    "    in_features=32, config=[32, 'relu'],\n",
    ")\n",
    "net = torch.nn.Sequential(\n",
    "    representation,\n",
    "    readout,\n",
    "    esp.mm.geometry.GeometryInGraph(),\n",
    "    esp.mm.energy.EnergyInGraph(),\n",
    "    esp.mm.energy.EnergyInGraph(suffix='_ref'),\n",
    ")"
   ]
  },
  {
   "cell_type": "code",
   "execution_count": 115,
   "metadata": {
    "scrolled": true
   },
   "outputs": [
    {
     "name": "stderr",
     "output_type": "stream",
     "text": [
      "Warning (not error because allow_undefined_stereo=True): \n",
      "/Users/wangy1/anaconda3/envs/pinot/lib/python3.7/site-packages/dgl/base.py:25: UserWarning: Currently adjacency_matrix() returns a matrix with destination as rows by default.  In 0.5 the result will have source as rows (i.e. transpose=True)\n",
      "  warnings.warn(msg, warn_type)\n",
      "Warning (not error because allow_undefined_stereo=True): \n",
      "Warning (not error because allow_undefined_stereo=True): \n",
      "Warning (not error because allow_undefined_stereo=True): \n",
      "Warning (not error because allow_undefined_stereo=True): \n",
      "Warning (not error because allow_undefined_stereo=True): \n",
      "Warning (not error because allow_undefined_stereo=True): \n",
      "Warning (not error because allow_undefined_stereo=True): \n",
      "Warning (not error because allow_undefined_stereo=True): \n",
      "Warning (not error because allow_undefined_stereo=True): \n",
      "Warning (not error because allow_undefined_stereo=True): \n",
      "Warning (not error because allow_undefined_stereo=True): \n",
      "Warning (not error because allow_undefined_stereo=True): \n",
      "Warning (not error because allow_undefined_stereo=True): \n",
      "Warning (not error because allow_undefined_stereo=True): \n",
      "Warning (not error because allow_undefined_stereo=True): \n",
      "Warning (not error because allow_undefined_stereo=True): \n",
      "Warning (not error because allow_undefined_stereo=True): \n",
      "Warning (not error because allow_undefined_stereo=True): \n",
      "Warning (not error because allow_undefined_stereo=True): \n"
     ]
    }
   ],
   "source": [
    "norm = esp.data.normalize.ESOL100LogNormalNormalize()"
   ]
  },
  {
   "cell_type": "code",
   "execution_count": 127,
   "metadata": {},
   "outputs": [],
   "source": [
    "optimizer = torch.optim.Adam(net.parameters(), 1e-3)\n"
   ]
  },
  {
   "cell_type": "code",
   "execution_count": 128,
   "metadata": {
    "scrolled": true
   },
   "outputs": [
    {
     "name": "stdout",
     "output_type": "stream",
     "text": [
      "tensor(49.5350, grad_fn=<MeanBackward0>)\n",
      "tensor(36.0728, grad_fn=<MeanBackward0>)\n",
      "tensor(27.6019, grad_fn=<MeanBackward0>)\n",
      "tensor(20.8898, grad_fn=<MeanBackward0>)\n",
      "tensor(14.7182, grad_fn=<MeanBackward0>)\n",
      "tensor(11.2120, grad_fn=<MeanBackward0>)\n",
      "tensor(11.9814, grad_fn=<MeanBackward0>)\n",
      "tensor(13.5393, grad_fn=<MeanBackward0>)\n",
      "tensor(13.3076, grad_fn=<MeanBackward0>)\n",
      "tensor(12.1635, grad_fn=<MeanBackward0>)\n",
      "tensor(11.4066, grad_fn=<MeanBackward0>)\n",
      "tensor(11.1565, grad_fn=<MeanBackward0>)\n",
      "tensor(11.7828, grad_fn=<MeanBackward0>)\n",
      "tensor(12.0898, grad_fn=<MeanBackward0>)\n",
      "tensor(11.8931, grad_fn=<MeanBackward0>)\n",
      "tensor(11.3940, grad_fn=<MeanBackward0>)\n",
      "tensor(11.1313, grad_fn=<MeanBackward0>)\n",
      "tensor(11.2965, grad_fn=<MeanBackward0>)\n",
      "tensor(11.4516, grad_fn=<MeanBackward0>)\n",
      "tensor(11.4336, grad_fn=<MeanBackward0>)\n",
      "tensor(11.2472, grad_fn=<MeanBackward0>)\n",
      "tensor(11.1255, grad_fn=<MeanBackward0>)\n",
      "tensor(11.3014, grad_fn=<MeanBackward0>)\n",
      "tensor(11.3906, grad_fn=<MeanBackward0>)\n",
      "tensor(11.2207, grad_fn=<MeanBackward0>)\n",
      "tensor(11.1318, grad_fn=<MeanBackward0>)\n",
      "tensor(11.2048, grad_fn=<MeanBackward0>)\n",
      "tensor(11.2704, grad_fn=<MeanBackward0>)\n",
      "tensor(11.2680, grad_fn=<MeanBackward0>)\n",
      "tensor(11.2052, grad_fn=<MeanBackward0>)\n",
      "tensor(11.1410, grad_fn=<MeanBackward0>)\n",
      "tensor(11.1447, grad_fn=<MeanBackward0>)\n",
      "tensor(11.2042, grad_fn=<MeanBackward0>)\n",
      "tensor(11.1709, grad_fn=<MeanBackward0>)\n",
      "tensor(11.1212, grad_fn=<MeanBackward0>)\n",
      "tensor(11.1446, grad_fn=<MeanBackward0>)\n",
      "tensor(11.1682, grad_fn=<MeanBackward0>)\n",
      "tensor(11.1704, grad_fn=<MeanBackward0>)\n",
      "tensor(11.1506, grad_fn=<MeanBackward0>)\n",
      "tensor(11.1287, grad_fn=<MeanBackward0>)\n",
      "tensor(11.1335, grad_fn=<MeanBackward0>)\n",
      "tensor(11.1480, grad_fn=<MeanBackward0>)\n",
      "tensor(11.1256, grad_fn=<MeanBackward0>)\n",
      "tensor(11.1230, grad_fn=<MeanBackward0>)\n",
      "tensor(11.1315, grad_fn=<MeanBackward0>)\n",
      "tensor(11.1307, grad_fn=<MeanBackward0>)\n",
      "tensor(11.1222, grad_fn=<MeanBackward0>)\n",
      "tensor(11.1255, grad_fn=<MeanBackward0>)\n",
      "tensor(11.1389, grad_fn=<MeanBackward0>)\n",
      "tensor(11.1233, grad_fn=<MeanBackward0>)\n",
      "tensor(11.1261, grad_fn=<MeanBackward0>)\n",
      "tensor(11.1309, grad_fn=<MeanBackward0>)\n",
      "tensor(11.1247, grad_fn=<MeanBackward0>)\n",
      "tensor(11.1236, grad_fn=<MeanBackward0>)\n",
      "tensor(11.1331, grad_fn=<MeanBackward0>)\n",
      "tensor(11.1218, grad_fn=<MeanBackward0>)\n",
      "tensor(11.1293, grad_fn=<MeanBackward0>)\n",
      "tensor(11.1340, grad_fn=<MeanBackward0>)\n",
      "tensor(11.1272, grad_fn=<MeanBackward0>)\n",
      "tensor(11.1229, grad_fn=<MeanBackward0>)\n",
      "tensor(11.1315, grad_fn=<MeanBackward0>)\n",
      "tensor(11.1213, grad_fn=<MeanBackward0>)\n",
      "tensor(11.1307, grad_fn=<MeanBackward0>)\n",
      "tensor(11.1353, grad_fn=<MeanBackward0>)\n",
      "tensor(11.1281, grad_fn=<MeanBackward0>)\n",
      "tensor(11.1228, grad_fn=<MeanBackward0>)\n",
      "tensor(11.1324, grad_fn=<MeanBackward0>)\n",
      "tensor(11.1213, grad_fn=<MeanBackward0>)\n",
      "tensor(11.1310, grad_fn=<MeanBackward0>)\n",
      "tensor(11.1357, grad_fn=<MeanBackward0>)\n",
      "tensor(11.1280, grad_fn=<MeanBackward0>)\n",
      "tensor(11.1231, grad_fn=<MeanBackward0>)\n",
      "tensor(11.1347, grad_fn=<MeanBackward0>)\n",
      "tensor(11.1217, grad_fn=<MeanBackward0>)\n",
      "tensor(11.1307, grad_fn=<MeanBackward0>)\n",
      "tensor(11.1354, grad_fn=<MeanBackward0>)\n",
      "tensor(11.1274, grad_fn=<MeanBackward0>)\n",
      "tensor(11.1237, grad_fn=<MeanBackward0>)\n",
      "tensor(11.1379, grad_fn=<MeanBackward0>)\n",
      "tensor(11.1223, grad_fn=<MeanBackward0>)\n",
      "tensor(11.1298, grad_fn=<MeanBackward0>)\n",
      "tensor(11.1346, grad_fn=<MeanBackward0>)\n",
      "tensor(11.1264, grad_fn=<MeanBackward0>)\n",
      "tensor(11.1245, grad_fn=<MeanBackward0>)\n",
      "tensor(11.1418, grad_fn=<MeanBackward0>)\n",
      "tensor(11.1231, grad_fn=<MeanBackward0>)\n",
      "tensor(11.1286, grad_fn=<MeanBackward0>)\n",
      "tensor(11.1335, grad_fn=<MeanBackward0>)\n",
      "tensor(11.1250, grad_fn=<MeanBackward0>)\n",
      "tensor(11.1254, grad_fn=<MeanBackward0>)\n",
      "tensor(11.1461, grad_fn=<MeanBackward0>)\n",
      "tensor(11.1240, grad_fn=<MeanBackward0>)\n",
      "tensor(11.1272, grad_fn=<MeanBackward0>)\n",
      "tensor(11.1321, grad_fn=<MeanBackward0>)\n",
      "tensor(11.1239, grad_fn=<MeanBackward0>)\n",
      "tensor(11.1231, grad_fn=<MeanBackward0>)\n",
      "tensor(11.1267, grad_fn=<MeanBackward0>)\n",
      "tensor(11.1225, grad_fn=<MeanBackward0>)\n",
      "tensor(11.1240, grad_fn=<MeanBackward0>)\n",
      "tensor(11.1291, grad_fn=<MeanBackward0>)\n",
      "tensor(11.1225, grad_fn=<MeanBackward0>)\n",
      "tensor(11.1245, grad_fn=<MeanBackward0>)\n",
      "tensor(11.1309, grad_fn=<MeanBackward0>)\n",
      "tensor(11.1229, grad_fn=<MeanBackward0>)\n",
      "tensor(11.1342, grad_fn=<MeanBackward0>)\n",
      "tensor(11.1318, grad_fn=<MeanBackward0>)\n",
      "tensor(11.1209, grad_fn=<MeanBackward0>)\n",
      "tensor(11.1280, grad_fn=<MeanBackward0>)\n",
      "tensor(11.1228, grad_fn=<MeanBackward0>)\n",
      "tensor(11.1238, grad_fn=<MeanBackward0>)\n",
      "tensor(11.1291, grad_fn=<MeanBackward0>)\n",
      "tensor(11.1223, grad_fn=<MeanBackward0>)\n",
      "tensor(11.1249, grad_fn=<MeanBackward0>)\n",
      "tensor(11.1333, grad_fn=<MeanBackward0>)\n",
      "tensor(11.1227, grad_fn=<MeanBackward0>)\n",
      "tensor(11.1342, grad_fn=<MeanBackward0>)\n",
      "tensor(11.1317, grad_fn=<MeanBackward0>)\n",
      "tensor(11.1209, grad_fn=<MeanBackward0>)\n",
      "tensor(11.1303, grad_fn=<MeanBackward0>)\n",
      "tensor(11.1209, grad_fn=<MeanBackward0>)\n",
      "tensor(11.1292, grad_fn=<MeanBackward0>)\n",
      "tensor(11.1271, grad_fn=<MeanBackward0>)\n",
      "tensor(11.1220, grad_fn=<MeanBackward0>)\n",
      "tensor(11.1258, grad_fn=<MeanBackward0>)\n",
      "tensor(11.1219, grad_fn=<MeanBackward0>)\n",
      "tensor(11.1255, grad_fn=<MeanBackward0>)\n",
      "tensor(11.1240, grad_fn=<MeanBackward0>)\n",
      "tensor(11.1208, grad_fn=<MeanBackward0>)\n",
      "tensor(11.1239, grad_fn=<MeanBackward0>)\n",
      "tensor(11.1237, grad_fn=<MeanBackward0>)\n",
      "tensor(11.1208, grad_fn=<MeanBackward0>)\n",
      "tensor(11.1231, grad_fn=<MeanBackward0>)\n",
      "tensor(11.1226, grad_fn=<MeanBackward0>)\n",
      "tensor(11.1211, grad_fn=<MeanBackward0>)\n",
      "tensor(11.1211, grad_fn=<MeanBackward0>)\n",
      "tensor(11.1221, grad_fn=<MeanBackward0>)\n",
      "tensor(11.1217, grad_fn=<MeanBackward0>)\n",
      "tensor(11.1218, grad_fn=<MeanBackward0>)\n",
      "tensor(11.1216, grad_fn=<MeanBackward0>)\n",
      "tensor(11.1217, grad_fn=<MeanBackward0>)\n",
      "tensor(11.1214, grad_fn=<MeanBackward0>)\n",
      "tensor(11.1219, grad_fn=<MeanBackward0>)\n",
      "tensor(11.1217, grad_fn=<MeanBackward0>)\n",
      "tensor(11.1217, grad_fn=<MeanBackward0>)\n",
      "tensor(11.1216, grad_fn=<MeanBackward0>)\n",
      "tensor(11.1217, grad_fn=<MeanBackward0>)\n",
      "tensor(11.1214, grad_fn=<MeanBackward0>)\n",
      "tensor(11.1221, grad_fn=<MeanBackward0>)\n",
      "tensor(11.1220, grad_fn=<MeanBackward0>)\n",
      "tensor(11.1212, grad_fn=<MeanBackward0>)\n",
      "tensor(11.1208, grad_fn=<MeanBackward0>)\n",
      "tensor(11.1227, grad_fn=<MeanBackward0>)\n",
      "tensor(11.1226, grad_fn=<MeanBackward0>)\n",
      "tensor(11.1207, grad_fn=<MeanBackward0>)\n",
      "tensor(11.1243, grad_fn=<MeanBackward0>)\n",
      "tensor(11.1235, grad_fn=<MeanBackward0>)\n",
      "tensor(11.1206, grad_fn=<MeanBackward0>)\n",
      "tensor(11.1257, grad_fn=<MeanBackward0>)\n",
      "tensor(11.1206, grad_fn=<MeanBackward0>)\n",
      "tensor(11.1223, grad_fn=<MeanBackward0>)\n",
      "tensor(11.1216, grad_fn=<MeanBackward0>)\n",
      "tensor(11.1222, grad_fn=<MeanBackward0>)\n",
      "tensor(11.1223, grad_fn=<MeanBackward0>)\n",
      "tensor(11.1206, grad_fn=<MeanBackward0>)\n",
      "tensor(11.1206, grad_fn=<MeanBackward0>)\n",
      "tensor(11.1206, grad_fn=<MeanBackward0>)\n",
      "tensor(11.1206, grad_fn=<MeanBackward0>)\n",
      "tensor(11.1207, grad_fn=<MeanBackward0>)\n",
      "tensor(11.1220, grad_fn=<MeanBackward0>)\n",
      "tensor(11.1211, grad_fn=<MeanBackward0>)\n",
      "tensor(11.1229, grad_fn=<MeanBackward0>)\n",
      "tensor(11.1233, grad_fn=<MeanBackward0>)\n",
      "tensor(11.1205, grad_fn=<MeanBackward0>)\n",
      "tensor(11.1231, grad_fn=<MeanBackward0>)\n",
      "tensor(11.1219, grad_fn=<MeanBackward0>)\n",
      "tensor(11.1223, grad_fn=<MeanBackward0>)\n",
      "tensor(11.1228, grad_fn=<MeanBackward0>)\n"
     ]
    },
    {
     "ename": "KeyboardInterrupt",
     "evalue": "",
     "output_type": "error",
     "traceback": [
      "\u001b[0;31m---------------------------------------------------------------------------\u001b[0m",
      "\u001b[0;31mKeyboardInterrupt\u001b[0m                         Traceback (most recent call last)",
      "\u001b[0;32m<ipython-input-128-638d2c479416>\u001b[0m in \u001b[0;36m<module>\u001b[0;34m\u001b[0m\n\u001b[1;32m     13\u001b[0m         \u001b[0;32mreturn\u001b[0m \u001b[0mloss\u001b[0m\u001b[0;34m\u001b[0m\u001b[0;34m\u001b[0m\u001b[0m\n\u001b[1;32m     14\u001b[0m \u001b[0;34m\u001b[0m\u001b[0m\n\u001b[0;32m---> 15\u001b[0;31m     \u001b[0moptimizer\u001b[0m\u001b[0;34m.\u001b[0m\u001b[0mstep\u001b[0m\u001b[0;34m(\u001b[0m\u001b[0ml\u001b[0m\u001b[0;34m)\u001b[0m\u001b[0;34m\u001b[0m\u001b[0;34m\u001b[0m\u001b[0m\n\u001b[0m",
      "\u001b[0;32m~/anaconda3/envs/pinot/lib/python3.7/site-packages/torch/optim/adam.py\u001b[0m in \u001b[0;36mstep\u001b[0;34m(self, closure)\u001b[0m\n\u001b[1;32m     56\u001b[0m         \u001b[0mloss\u001b[0m \u001b[0;34m=\u001b[0m \u001b[0;32mNone\u001b[0m\u001b[0;34m\u001b[0m\u001b[0;34m\u001b[0m\u001b[0m\n\u001b[1;32m     57\u001b[0m         \u001b[0;32mif\u001b[0m \u001b[0mclosure\u001b[0m \u001b[0;32mis\u001b[0m \u001b[0;32mnot\u001b[0m \u001b[0;32mNone\u001b[0m\u001b[0;34m:\u001b[0m\u001b[0;34m\u001b[0m\u001b[0;34m\u001b[0m\u001b[0m\n\u001b[0;32m---> 58\u001b[0;31m             \u001b[0mloss\u001b[0m \u001b[0;34m=\u001b[0m \u001b[0mclosure\u001b[0m\u001b[0;34m(\u001b[0m\u001b[0;34m)\u001b[0m\u001b[0;34m\u001b[0m\u001b[0;34m\u001b[0m\u001b[0m\n\u001b[0m\u001b[1;32m     59\u001b[0m \u001b[0;34m\u001b[0m\u001b[0m\n\u001b[1;32m     60\u001b[0m         \u001b[0;32mfor\u001b[0m \u001b[0mgroup\u001b[0m \u001b[0;32min\u001b[0m \u001b[0mself\u001b[0m\u001b[0;34m.\u001b[0m\u001b[0mparam_groups\u001b[0m\u001b[0;34m:\u001b[0m\u001b[0;34m\u001b[0m\u001b[0;34m\u001b[0m\u001b[0m\n",
      "\u001b[0;32m<ipython-input-128-638d2c479416>\u001b[0m in \u001b[0;36ml\u001b[0;34m()\u001b[0m\n\u001b[1;32m      3\u001b[0m     \u001b[0;32mdef\u001b[0m \u001b[0ml\u001b[0m\u001b[0;34m(\u001b[0m\u001b[0;34m)\u001b[0m\u001b[0;34m:\u001b[0m\u001b[0;34m\u001b[0m\u001b[0;34m\u001b[0m\u001b[0m\n\u001b[1;32m      4\u001b[0m \u001b[0;34m\u001b[0m\u001b[0m\n\u001b[0;32m----> 5\u001b[0;31m         \u001b[0mnet\u001b[0m\u001b[0;34m(\u001b[0m\u001b[0mg\u001b[0m\u001b[0;34m.\u001b[0m\u001b[0mheterograph\u001b[0m\u001b[0;34m)\u001b[0m\u001b[0;34m\u001b[0m\u001b[0;34m\u001b[0m\u001b[0m\n\u001b[0m\u001b[1;32m      6\u001b[0m         \u001b[0mnorm\u001b[0m\u001b[0;34m.\u001b[0m\u001b[0munnorm\u001b[0m\u001b[0;34m(\u001b[0m\u001b[0mg\u001b[0m\u001b[0;34m.\u001b[0m\u001b[0mheterograph\u001b[0m\u001b[0;34m)\u001b[0m\u001b[0;34m\u001b[0m\u001b[0;34m\u001b[0m\u001b[0m\n\u001b[1;32m      7\u001b[0m         loss = torch.nn.L1Loss()(\n",
      "\u001b[0;32m~/anaconda3/envs/pinot/lib/python3.7/site-packages/torch/nn/modules/module.py\u001b[0m in \u001b[0;36m__call__\u001b[0;34m(self, *input, **kwargs)\u001b[0m\n\u001b[1;32m    530\u001b[0m             \u001b[0mresult\u001b[0m \u001b[0;34m=\u001b[0m \u001b[0mself\u001b[0m\u001b[0;34m.\u001b[0m\u001b[0m_slow_forward\u001b[0m\u001b[0;34m(\u001b[0m\u001b[0;34m*\u001b[0m\u001b[0minput\u001b[0m\u001b[0;34m,\u001b[0m \u001b[0;34m**\u001b[0m\u001b[0mkwargs\u001b[0m\u001b[0;34m)\u001b[0m\u001b[0;34m\u001b[0m\u001b[0;34m\u001b[0m\u001b[0m\n\u001b[1;32m    531\u001b[0m         \u001b[0;32melse\u001b[0m\u001b[0;34m:\u001b[0m\u001b[0;34m\u001b[0m\u001b[0;34m\u001b[0m\u001b[0m\n\u001b[0;32m--> 532\u001b[0;31m             \u001b[0mresult\u001b[0m \u001b[0;34m=\u001b[0m \u001b[0mself\u001b[0m\u001b[0;34m.\u001b[0m\u001b[0mforward\u001b[0m\u001b[0;34m(\u001b[0m\u001b[0;34m*\u001b[0m\u001b[0minput\u001b[0m\u001b[0;34m,\u001b[0m \u001b[0;34m**\u001b[0m\u001b[0mkwargs\u001b[0m\u001b[0;34m)\u001b[0m\u001b[0;34m\u001b[0m\u001b[0;34m\u001b[0m\u001b[0m\n\u001b[0m\u001b[1;32m    533\u001b[0m         \u001b[0;32mfor\u001b[0m \u001b[0mhook\u001b[0m \u001b[0;32min\u001b[0m \u001b[0mself\u001b[0m\u001b[0;34m.\u001b[0m\u001b[0m_forward_hooks\u001b[0m\u001b[0;34m.\u001b[0m\u001b[0mvalues\u001b[0m\u001b[0;34m(\u001b[0m\u001b[0;34m)\u001b[0m\u001b[0;34m:\u001b[0m\u001b[0;34m\u001b[0m\u001b[0;34m\u001b[0m\u001b[0m\n\u001b[1;32m    534\u001b[0m             \u001b[0mhook_result\u001b[0m \u001b[0;34m=\u001b[0m \u001b[0mhook\u001b[0m\u001b[0;34m(\u001b[0m\u001b[0mself\u001b[0m\u001b[0;34m,\u001b[0m \u001b[0minput\u001b[0m\u001b[0;34m,\u001b[0m \u001b[0mresult\u001b[0m\u001b[0;34m)\u001b[0m\u001b[0;34m\u001b[0m\u001b[0;34m\u001b[0m\u001b[0m\n",
      "\u001b[0;32m~/anaconda3/envs/pinot/lib/python3.7/site-packages/torch/nn/modules/container.py\u001b[0m in \u001b[0;36mforward\u001b[0;34m(self, input)\u001b[0m\n\u001b[1;32m     98\u001b[0m     \u001b[0;32mdef\u001b[0m \u001b[0mforward\u001b[0m\u001b[0;34m(\u001b[0m\u001b[0mself\u001b[0m\u001b[0;34m,\u001b[0m \u001b[0minput\u001b[0m\u001b[0;34m)\u001b[0m\u001b[0;34m:\u001b[0m\u001b[0;34m\u001b[0m\u001b[0;34m\u001b[0m\u001b[0m\n\u001b[1;32m     99\u001b[0m         \u001b[0;32mfor\u001b[0m \u001b[0mmodule\u001b[0m \u001b[0;32min\u001b[0m \u001b[0mself\u001b[0m\u001b[0;34m:\u001b[0m\u001b[0;34m\u001b[0m\u001b[0;34m\u001b[0m\u001b[0m\n\u001b[0;32m--> 100\u001b[0;31m             \u001b[0minput\u001b[0m \u001b[0;34m=\u001b[0m \u001b[0mmodule\u001b[0m\u001b[0;34m(\u001b[0m\u001b[0minput\u001b[0m\u001b[0;34m)\u001b[0m\u001b[0;34m\u001b[0m\u001b[0;34m\u001b[0m\u001b[0m\n\u001b[0m\u001b[1;32m    101\u001b[0m         \u001b[0;32mreturn\u001b[0m \u001b[0minput\u001b[0m\u001b[0;34m\u001b[0m\u001b[0;34m\u001b[0m\u001b[0m\n\u001b[1;32m    102\u001b[0m \u001b[0;34m\u001b[0m\u001b[0m\n",
      "\u001b[0;32m~/anaconda3/envs/pinot/lib/python3.7/site-packages/torch/nn/modules/module.py\u001b[0m in \u001b[0;36m__call__\u001b[0;34m(self, *input, **kwargs)\u001b[0m\n\u001b[1;32m    530\u001b[0m             \u001b[0mresult\u001b[0m \u001b[0;34m=\u001b[0m \u001b[0mself\u001b[0m\u001b[0;34m.\u001b[0m\u001b[0m_slow_forward\u001b[0m\u001b[0;34m(\u001b[0m\u001b[0;34m*\u001b[0m\u001b[0minput\u001b[0m\u001b[0;34m,\u001b[0m \u001b[0;34m**\u001b[0m\u001b[0mkwargs\u001b[0m\u001b[0;34m)\u001b[0m\u001b[0;34m\u001b[0m\u001b[0;34m\u001b[0m\u001b[0m\n\u001b[1;32m    531\u001b[0m         \u001b[0;32melse\u001b[0m\u001b[0;34m:\u001b[0m\u001b[0;34m\u001b[0m\u001b[0;34m\u001b[0m\u001b[0m\n\u001b[0;32m--> 532\u001b[0;31m             \u001b[0mresult\u001b[0m \u001b[0;34m=\u001b[0m \u001b[0mself\u001b[0m\u001b[0;34m.\u001b[0m\u001b[0mforward\u001b[0m\u001b[0;34m(\u001b[0m\u001b[0;34m*\u001b[0m\u001b[0minput\u001b[0m\u001b[0;34m,\u001b[0m \u001b[0;34m**\u001b[0m\u001b[0mkwargs\u001b[0m\u001b[0;34m)\u001b[0m\u001b[0;34m\u001b[0m\u001b[0;34m\u001b[0m\u001b[0m\n\u001b[0m\u001b[1;32m    533\u001b[0m         \u001b[0;32mfor\u001b[0m \u001b[0mhook\u001b[0m \u001b[0;32min\u001b[0m \u001b[0mself\u001b[0m\u001b[0;34m.\u001b[0m\u001b[0m_forward_hooks\u001b[0m\u001b[0;34m.\u001b[0m\u001b[0mvalues\u001b[0m\u001b[0;34m(\u001b[0m\u001b[0;34m)\u001b[0m\u001b[0;34m:\u001b[0m\u001b[0;34m\u001b[0m\u001b[0;34m\u001b[0m\u001b[0m\n\u001b[1;32m    534\u001b[0m             \u001b[0mhook_result\u001b[0m \u001b[0;34m=\u001b[0m \u001b[0mhook\u001b[0m\u001b[0;34m(\u001b[0m\u001b[0mself\u001b[0m\u001b[0;34m,\u001b[0m \u001b[0minput\u001b[0m\u001b[0;34m,\u001b[0m \u001b[0mresult\u001b[0m\u001b[0;34m)\u001b[0m\u001b[0;34m\u001b[0m\u001b[0;34m\u001b[0m\u001b[0m\n",
      "\u001b[0;32m~/Documents/GitHub/espaloma/espaloma/nn/readout/janossy.py\u001b[0m in \u001b[0;36mforward\u001b[0;34m(self, g)\u001b[0m\n\u001b[1;32m    139\u001b[0m                     \u001b[0;32mfor\u001b[0m \u001b[0mfeature\u001b[0m \u001b[0;32min\u001b[0m \u001b[0mself\u001b[0m\u001b[0;34m.\u001b[0m\u001b[0mout_features\u001b[0m\u001b[0;34m[\u001b[0m\u001b[0mbig_idx\u001b[0m\u001b[0;34m]\u001b[0m\u001b[0;34m.\u001b[0m\u001b[0mkeys\u001b[0m\u001b[0;34m(\u001b[0m\u001b[0;34m)\u001b[0m\u001b[0;34m\u001b[0m\u001b[0;34m\u001b[0m\u001b[0m\n\u001b[1;32m    140\u001b[0m                 },\n\u001b[0;32m--> 141\u001b[0;31m                 \u001b[0mntype\u001b[0m\u001b[0;34m=\u001b[0m\u001b[0;34m\"n%s\"\u001b[0m \u001b[0;34m%\u001b[0m \u001b[0mbig_idx\u001b[0m\u001b[0;34m,\u001b[0m\u001b[0;34m\u001b[0m\u001b[0;34m\u001b[0m\u001b[0m\n\u001b[0m\u001b[1;32m    142\u001b[0m             )\n\u001b[1;32m    143\u001b[0m \u001b[0;34m\u001b[0m\u001b[0m\n",
      "\u001b[0;32m~/anaconda3/envs/pinot/lib/python3.7/site-packages/dgl/heterograph.py\u001b[0m in \u001b[0;36mapply_nodes\u001b[0;34m(self, func, v, ntype, inplace)\u001b[0m\n\u001b[1;32m   2644\u001b[0m             scheduler.schedule_apply_nodes(v_ntype, func, self._node_frames[ntid],\n\u001b[1;32m   2645\u001b[0m                                            inplace=inplace, ntype=self._ntypes[ntid])\n\u001b[0;32m-> 2646\u001b[0;31m             \u001b[0mRuntime\u001b[0m\u001b[0;34m.\u001b[0m\u001b[0mrun\u001b[0m\u001b[0;34m(\u001b[0m\u001b[0mprog\u001b[0m\u001b[0;34m)\u001b[0m\u001b[0;34m\u001b[0m\u001b[0;34m\u001b[0m\u001b[0m\n\u001b[0m\u001b[1;32m   2647\u001b[0m \u001b[0;34m\u001b[0m\u001b[0m\n\u001b[1;32m   2648\u001b[0m     \u001b[0;32mdef\u001b[0m \u001b[0mapply_edges\u001b[0m\u001b[0;34m(\u001b[0m\u001b[0mself\u001b[0m\u001b[0;34m,\u001b[0m \u001b[0mfunc\u001b[0m\u001b[0;34m,\u001b[0m \u001b[0medges\u001b[0m\u001b[0;34m=\u001b[0m\u001b[0mALL\u001b[0m\u001b[0;34m,\u001b[0m \u001b[0metype\u001b[0m\u001b[0;34m=\u001b[0m\u001b[0;32mNone\u001b[0m\u001b[0;34m,\u001b[0m \u001b[0minplace\u001b[0m\u001b[0;34m=\u001b[0m\u001b[0;32mFalse\u001b[0m\u001b[0;34m)\u001b[0m\u001b[0;34m:\u001b[0m\u001b[0;34m\u001b[0m\u001b[0;34m\u001b[0m\u001b[0m\n",
      "\u001b[0;32m~/anaconda3/envs/pinot/lib/python3.7/site-packages/dgl/runtime/runtime.py\u001b[0m in \u001b[0;36mrun\u001b[0;34m(prog)\u001b[0m\n\u001b[1;32m      9\u001b[0m         \u001b[0;32mfor\u001b[0m \u001b[0mexe\u001b[0m \u001b[0;32min\u001b[0m \u001b[0mprog\u001b[0m\u001b[0;34m.\u001b[0m\u001b[0mexecs\u001b[0m\u001b[0;34m:\u001b[0m\u001b[0;34m\u001b[0m\u001b[0;34m\u001b[0m\u001b[0m\n\u001b[1;32m     10\u001b[0m             \u001b[0;31m# prog.pprint_exe(exe)\u001b[0m\u001b[0;34m\u001b[0m\u001b[0;34m\u001b[0m\u001b[0;34m\u001b[0m\u001b[0m\n\u001b[0;32m---> 11\u001b[0;31m             \u001b[0mexe\u001b[0m\u001b[0;34m.\u001b[0m\u001b[0mrun\u001b[0m\u001b[0;34m(\u001b[0m\u001b[0;34m)\u001b[0m\u001b[0;34m\u001b[0m\u001b[0;34m\u001b[0m\u001b[0m\n\u001b[0m",
      "\u001b[0;32m~/anaconda3/envs/pinot/lib/python3.7/site-packages/dgl/runtime/ir/executor.py\u001b[0m in \u001b[0;36mrun\u001b[0;34m(self)\u001b[0m\n\u001b[1;32m    127\u001b[0m         \u001b[0mnode_data\u001b[0m \u001b[0;34m=\u001b[0m \u001b[0mself\u001b[0m\u001b[0;34m.\u001b[0m\u001b[0mfdnode\u001b[0m\u001b[0;34m.\u001b[0m\u001b[0mdata\u001b[0m\u001b[0;34m\u001b[0m\u001b[0;34m\u001b[0m\u001b[0m\n\u001b[1;32m    128\u001b[0m         \u001b[0;32mif\u001b[0m \u001b[0mself\u001b[0m\u001b[0;34m.\u001b[0m\u001b[0mfdmail\u001b[0m \u001b[0;32mis\u001b[0m \u001b[0;32mNone\u001b[0m\u001b[0;34m:\u001b[0m\u001b[0;34m\u001b[0m\u001b[0;34m\u001b[0m\u001b[0m\n\u001b[0;32m--> 129\u001b[0;31m             \u001b[0mudf_ret\u001b[0m \u001b[0;34m=\u001b[0m \u001b[0mfn_data\u001b[0m\u001b[0;34m(\u001b[0m\u001b[0mnode_data\u001b[0m\u001b[0;34m)\u001b[0m\u001b[0;34m\u001b[0m\u001b[0;34m\u001b[0m\u001b[0m\n\u001b[0m\u001b[1;32m    130\u001b[0m         \u001b[0;32melse\u001b[0m\u001b[0;34m:\u001b[0m\u001b[0;34m\u001b[0m\u001b[0;34m\u001b[0m\u001b[0m\n\u001b[1;32m    131\u001b[0m             \u001b[0mmail_data\u001b[0m \u001b[0;34m=\u001b[0m \u001b[0mself\u001b[0m\u001b[0;34m.\u001b[0m\u001b[0mfdmail\u001b[0m\u001b[0;34m.\u001b[0m\u001b[0mdata\u001b[0m\u001b[0;34m\u001b[0m\u001b[0;34m\u001b[0m\u001b[0m\n",
      "\u001b[0;32m~/anaconda3/envs/pinot/lib/python3.7/site-packages/dgl/runtime/scheduler.py\u001b[0m in \u001b[0;36m_afunc_wrapper\u001b[0;34m(node_data)\u001b[0m\n\u001b[1;32m    286\u001b[0m     \u001b[0;32mdef\u001b[0m \u001b[0m_afunc_wrapper\u001b[0m\u001b[0;34m(\u001b[0m\u001b[0mnode_data\u001b[0m\u001b[0;34m)\u001b[0m\u001b[0;34m:\u001b[0m\u001b[0;34m\u001b[0m\u001b[0;34m\u001b[0m\u001b[0m\n\u001b[1;32m    287\u001b[0m         \u001b[0mnbatch\u001b[0m \u001b[0;34m=\u001b[0m \u001b[0mNodeBatch\u001b[0m\u001b[0;34m(\u001b[0m\u001b[0mv\u001b[0m\u001b[0;34m,\u001b[0m \u001b[0mnode_data\u001b[0m\u001b[0;34m,\u001b[0m \u001b[0mntype\u001b[0m\u001b[0;34m=\u001b[0m\u001b[0mntype\u001b[0m\u001b[0;34m)\u001b[0m\u001b[0;34m\u001b[0m\u001b[0;34m\u001b[0m\u001b[0m\n\u001b[0;32m--> 288\u001b[0;31m         \u001b[0;32mreturn\u001b[0m \u001b[0mapply_func\u001b[0m\u001b[0;34m(\u001b[0m\u001b[0mnbatch\u001b[0m\u001b[0;34m)\u001b[0m\u001b[0;34m\u001b[0m\u001b[0;34m\u001b[0m\u001b[0m\n\u001b[0m\u001b[1;32m    289\u001b[0m     \u001b[0mafunc\u001b[0m \u001b[0;34m=\u001b[0m \u001b[0mvar\u001b[0m\u001b[0;34m.\u001b[0m\u001b[0mFUNC\u001b[0m\u001b[0;34m(\u001b[0m\u001b[0m_afunc_wrapper\u001b[0m\u001b[0;34m)\u001b[0m\u001b[0;34m\u001b[0m\u001b[0;34m\u001b[0m\u001b[0m\n\u001b[1;32m    290\u001b[0m     \u001b[0mapplied_feat\u001b[0m \u001b[0;34m=\u001b[0m \u001b[0mir\u001b[0m\u001b[0;34m.\u001b[0m\u001b[0mNODE_UDF\u001b[0m\u001b[0;34m(\u001b[0m\u001b[0mafunc\u001b[0m\u001b[0;34m,\u001b[0m \u001b[0mv_nf\u001b[0m\u001b[0;34m)\u001b[0m\u001b[0;34m\u001b[0m\u001b[0;34m\u001b[0m\u001b[0m\n",
      "\u001b[0;32m~/Documents/GitHub/espaloma/espaloma/nn/readout/janossy.py\u001b[0m in \u001b[0;36m<lambda>\u001b[0;34m(nodes)\u001b[0m\n\u001b[1;32m    137\u001b[0m                         )\n\u001b[1;32m    138\u001b[0m                     )\n\u001b[0;32m--> 139\u001b[0;31m                     \u001b[0;32mfor\u001b[0m \u001b[0mfeature\u001b[0m \u001b[0;32min\u001b[0m \u001b[0mself\u001b[0m\u001b[0;34m.\u001b[0m\u001b[0mout_features\u001b[0m\u001b[0;34m[\u001b[0m\u001b[0mbig_idx\u001b[0m\u001b[0;34m]\u001b[0m\u001b[0;34m.\u001b[0m\u001b[0mkeys\u001b[0m\u001b[0;34m(\u001b[0m\u001b[0;34m)\u001b[0m\u001b[0;34m\u001b[0m\u001b[0;34m\u001b[0m\u001b[0m\n\u001b[0m\u001b[1;32m    140\u001b[0m                 },\n\u001b[1;32m    141\u001b[0m                 \u001b[0mntype\u001b[0m\u001b[0;34m=\u001b[0m\u001b[0;34m\"n%s\"\u001b[0m \u001b[0;34m%\u001b[0m \u001b[0mbig_idx\u001b[0m\u001b[0;34m,\u001b[0m\u001b[0;34m\u001b[0m\u001b[0;34m\u001b[0m\u001b[0m\n",
      "\u001b[0;32m~/Documents/GitHub/espaloma/espaloma/nn/readout/janossy.py\u001b[0m in \u001b[0;36m<dictcomp>\u001b[0;34m(.0)\u001b[0m\n\u001b[1;32m    137\u001b[0m                         )\n\u001b[1;32m    138\u001b[0m                     )\n\u001b[0;32m--> 139\u001b[0;31m                     \u001b[0;32mfor\u001b[0m \u001b[0mfeature\u001b[0m \u001b[0;32min\u001b[0m \u001b[0mself\u001b[0m\u001b[0;34m.\u001b[0m\u001b[0mout_features\u001b[0m\u001b[0;34m[\u001b[0m\u001b[0mbig_idx\u001b[0m\u001b[0;34m]\u001b[0m\u001b[0;34m.\u001b[0m\u001b[0mkeys\u001b[0m\u001b[0;34m(\u001b[0m\u001b[0;34m)\u001b[0m\u001b[0;34m\u001b[0m\u001b[0;34m\u001b[0m\u001b[0m\n\u001b[0m\u001b[1;32m    140\u001b[0m                 },\n\u001b[1;32m    141\u001b[0m                 \u001b[0mntype\u001b[0m\u001b[0;34m=\u001b[0m\u001b[0;34m\"n%s\"\u001b[0m \u001b[0;34m%\u001b[0m \u001b[0mbig_idx\u001b[0m\u001b[0;34m,\u001b[0m\u001b[0;34m\u001b[0m\u001b[0;34m\u001b[0m\u001b[0m\n",
      "\u001b[0;32m~/anaconda3/envs/pinot/lib/python3.7/site-packages/torch/nn/modules/module.py\u001b[0m in \u001b[0;36m__call__\u001b[0;34m(self, *input, **kwargs)\u001b[0m\n\u001b[1;32m    535\u001b[0m             \u001b[0;32mif\u001b[0m \u001b[0mhook_result\u001b[0m \u001b[0;32mis\u001b[0m \u001b[0;32mnot\u001b[0m \u001b[0;32mNone\u001b[0m\u001b[0;34m:\u001b[0m\u001b[0;34m\u001b[0m\u001b[0;34m\u001b[0m\u001b[0m\n\u001b[1;32m    536\u001b[0m                 \u001b[0mresult\u001b[0m \u001b[0;34m=\u001b[0m \u001b[0mhook_result\u001b[0m\u001b[0;34m\u001b[0m\u001b[0;34m\u001b[0m\u001b[0m\n\u001b[0;32m--> 537\u001b[0;31m         \u001b[0;32mif\u001b[0m \u001b[0mlen\u001b[0m\u001b[0;34m(\u001b[0m\u001b[0mself\u001b[0m\u001b[0;34m.\u001b[0m\u001b[0m_backward_hooks\u001b[0m\u001b[0;34m)\u001b[0m \u001b[0;34m>\u001b[0m \u001b[0;36m0\u001b[0m\u001b[0;34m:\u001b[0m\u001b[0;34m\u001b[0m\u001b[0;34m\u001b[0m\u001b[0m\n\u001b[0m\u001b[1;32m    538\u001b[0m             \u001b[0mvar\u001b[0m \u001b[0;34m=\u001b[0m \u001b[0mresult\u001b[0m\u001b[0;34m\u001b[0m\u001b[0;34m\u001b[0m\u001b[0m\n\u001b[1;32m    539\u001b[0m             \u001b[0;32mwhile\u001b[0m \u001b[0;32mnot\u001b[0m \u001b[0misinstance\u001b[0m\u001b[0;34m(\u001b[0m\u001b[0mvar\u001b[0m\u001b[0;34m,\u001b[0m \u001b[0mtorch\u001b[0m\u001b[0;34m.\u001b[0m\u001b[0mTensor\u001b[0m\u001b[0;34m)\u001b[0m\u001b[0;34m:\u001b[0m\u001b[0;34m\u001b[0m\u001b[0;34m\u001b[0m\u001b[0m\n",
      "\u001b[0;31mKeyboardInterrupt\u001b[0m: "
     ]
    }
   ],
   "source": [
    "for _ in range(1000):\n",
    "    optimizer.zero_grad()\n",
    "    def l():\n",
    "        \n",
    "        net(g.heterograph)\n",
    "        norm.unnorm(g.heterograph)\n",
    "        loss = torch.nn.L1Loss()(\n",
    "            g.nodes['g'].data['u_ref'],\n",
    "            g.nodes['g'].data['u'],\n",
    "        )\n",
    "        loss.backward()\n",
    "        print(loss)\n",
    "        return loss\n",
    "\n",
    "    optimizer.step(l)"
   ]
  },
  {
   "cell_type": "code",
   "execution_count": 78,
   "metadata": {
    "scrolled": true
   },
   "outputs": [
    {
     "data": {
      "text/plain": [
       "Graph(num_nodes={'g': 1, 'n1': 12, 'n2': 24, 'n3': 36, 'n4': 48, 'nonbonded': 6, 'onefour': 48},\n",
       "      num_edges={('n1', 'n1_neighbors_n1', 'n1'): 24, ('n1', 'n1_as_0_in_n2', 'n2'): 24, ('n2', 'n2_has_0_n1', 'n1'): 24, ('n1', 'n1_as_1_in_n2', 'n2'): 24, ('n2', 'n2_has_1_n1', 'n1'): 24, ('n1', 'n1_as_0_in_n3', 'n3'): 36, ('n3', 'n3_has_0_n1', 'n1'): 36, ('n1', 'n1_as_1_in_n3', 'n3'): 36, ('n3', 'n3_has_1_n1', 'n1'): 36, ('n1', 'n1_as_2_in_n3', 'n3'): 36, ('n3', 'n3_has_2_n1', 'n1'): 36, ('n1', 'n1_as_0_in_n4', 'n4'): 48, ('n4', 'n4_has_0_n1', 'n1'): 48, ('n1', 'n1_as_1_in_n4', 'n4'): 48, ('n4', 'n4_has_1_n1', 'n1'): 48, ('n1', 'n1_as_2_in_n4', 'n4'): 48, ('n4', 'n4_has_2_n1', 'n1'): 48, ('n1', 'n1_as_3_in_n4', 'n4'): 48, ('n4', 'n4_has_3_n1', 'n1'): 48, ('n2', 'n2_as_0_in_n3', 'n3'): 36, ('n3', 'n3_has_0_n2', 'n2'): 36, ('n2', 'n2_as_1_in_n3', 'n3'): 36, ('n3', 'n3_has_1_n2', 'n2'): 36, ('n2', 'n2_as_0_in_n4', 'n4'): 48, ('n4', 'n4_has_0_n2', 'n2'): 48, ('n2', 'n2_as_1_in_n4', 'n4'): 48, ('n4', 'n4_has_1_n2', 'n2'): 48, ('n2', 'n2_as_2_in_n4', 'n4'): 48, ('n4', 'n4_has_2_n2', 'n2'): 48, ('n3', 'n3_as_0_in_n4', 'n4'): 48, ('n4', 'n4_has_0_n3', 'n3'): 48, ('n3', 'n3_as_1_in_n4', 'n4'): 48, ('n4', 'n4_has_1_n3', 'n3'): 48, ('nonbonded', 'nonbonded_has_0_n1', 'n1'): 6, ('n1', 'n1_as_0_in_nonbonded', 'nonbonded'): 6, ('nonbonded', 'nonbonded_has_1_n1', 'n1'): 6, ('n1', 'n1_as_1_in_nonbonded', 'nonbonded'): 6, ('onefour', 'onefour_has_0_n1', 'n1'): 48, ('n1', 'n1_as_0_in_onefour', 'onefour'): 48, ('onefour', 'onefour_has_1_n1', 'n1'): 48, ('n1', 'n1_as_1_in_onefour', 'onefour'): 48, ('n1', 'n1_in_g', 'g'): 12, ('g', 'g_has_n1', 'n1'): 12, ('n2', 'n2_in_g', 'g'): 24, ('g', 'g_has_n2', 'n2'): 24, ('n3', 'n3_in_g', 'g'): 36, ('g', 'g_has_n3', 'n3'): 36, ('n4', 'n4_in_g', 'g'): 48, ('g', 'g_has_n4', 'n4'): 48, ('nonbonded', 'nonbonded_in_g', 'g'): 6, ('g', 'g_has_nonbonded', 'nonbonded'): 6, ('onefour', 'onefour_in_g', 'g'): 48, ('g', 'g_has_onefour', 'onefour'): 48},\n",
       "      metagraph=[('g', 'n1'), ('g', 'n2'), ('g', 'n3'), ('g', 'n4'), ('g', 'nonbonded'), ('g', 'onefour'), ('n1', 'n1'), ('n1', 'n2'), ('n1', 'n2'), ('n1', 'n3'), ('n1', 'n3'), ('n1', 'n3'), ('n1', 'n4'), ('n1', 'n4'), ('n1', 'n4'), ('n1', 'n4'), ('n1', 'nonbonded'), ('n1', 'nonbonded'), ('n1', 'onefour'), ('n1', 'onefour'), ('n1', 'g'), ('n2', 'n1'), ('n2', 'n1'), ('n2', 'n3'), ('n2', 'n3'), ('n2', 'n4'), ('n2', 'n4'), ('n2', 'n4'), ('n2', 'g'), ('n3', 'n1'), ('n3', 'n1'), ('n3', 'n1'), ('n3', 'n2'), ('n3', 'n2'), ('n3', 'n4'), ('n3', 'n4'), ('n3', 'g'), ('n4', 'n1'), ('n4', 'n1'), ('n4', 'n1'), ('n4', 'n1'), ('n4', 'n2'), ('n4', 'n2'), ('n4', 'n2'), ('n4', 'n3'), ('n4', 'n3'), ('n4', 'g'), ('nonbonded', 'n1'), ('nonbonded', 'n1'), ('nonbonded', 'g'), ('onefour', 'n1'), ('onefour', 'n1'), ('onefour', 'g')])"
      ]
     },
     "execution_count": 78,
     "metadata": {},
     "output_type": "execute_result"
    }
   ],
   "source": [
    "net(g.heterograph)\n",
    "norm.unnorm(g.heterograph)"
   ]
  },
  {
   "cell_type": "code",
   "execution_count": 82,
   "metadata": {},
   "outputs": [
    {
     "data": {
      "text/plain": [
       "tensor([[392459.1875],\n",
       "        [392459.1875],\n",
       "        [392459.1875],\n",
       "        [392459.1875],\n",
       "        [392459.1875],\n",
       "        [392459.1875],\n",
       "        [307105.5938],\n",
       "        [307105.5938],\n",
       "        [307105.5938],\n",
       "        [307105.5938],\n",
       "        [307105.5938],\n",
       "        [307105.5938],\n",
       "        [392459.1875],\n",
       "        [392459.1875],\n",
       "        [392459.1875],\n",
       "        [392459.1875],\n",
       "        [392459.1875],\n",
       "        [392459.1875],\n",
       "        [307105.5938],\n",
       "        [307105.5938],\n",
       "        [307105.5938],\n",
       "        [307105.5938],\n",
       "        [307105.5938],\n",
       "        [307105.5938]])"
      ]
     },
     "execution_count": 82,
     "metadata": {},
     "output_type": "execute_result"
    }
   ],
   "source": [
    "g.nodes['n2'].data['k_ref']"
   ]
  },
  {
   "cell_type": "code",
   "execution_count": null,
   "metadata": {},
   "outputs": [],
   "source": []
  }
 ],
 "metadata": {
  "kernelspec": {
   "display_name": "Python 3",
   "language": "python",
   "name": "python3"
  },
  "language_info": {
   "codemirror_mode": {
    "name": "ipython",
    "version": 3
   },
   "file_extension": ".py",
   "mimetype": "text/x-python",
   "name": "python",
   "nbconvert_exporter": "python",
   "pygments_lexer": "ipython3",
   "version": "3.7.6"
  }
 },
 "nbformat": 4,
 "nbformat_minor": 4
}
