{
 "cells": [
  {
   "cell_type": "code",
   "execution_count": 1,
   "metadata": {},
   "outputs": [
    {
     "data": {
      "application/vnd.jupyter.widget-view+json": {
       "model_id": "4f6b99e6335b44c198b13124dd6430fe",
       "version_major": 2,
       "version_minor": 0
      },
      "text/plain": []
     },
     "metadata": {},
     "output_type": "display_data"
    },
    {
     "name": "stderr",
     "output_type": "stream",
     "text": [
      "Using backend: pytorch\n"
     ]
    }
   ],
   "source": [
    "import matplotlib.pyplot as plt\n",
    "import torch\n",
    "from openforcefield.topology import Molecule\n",
    "from tqdm import tqdm\n",
    "\n",
    "from espaloma.redux.energy import compute_valence_energy\n",
    "from espaloma.redux.nn import TAG, MLP\n",
    "from espaloma.redux.symmetry import ValenceModel, Readouts, elements\n",
    "\n",
    "\n",
    "def initialize(hidden_dim=128, node_dim=128):\n",
    "    node_representation = TAG(in_dim=len(elements), hidden_dim=hidden_dim, out_dim=node_dim)\n",
    "    readouts = Readouts(atoms=MLP(node_dim, 2), bonds=MLP(2 * node_dim, 2), angles=MLP(3 * node_dim, 2),\n",
    "                        propers=MLP(4 * node_dim, 6), impropers=MLP(4 * node_dim, 6))\n",
    "    valence_model = ValenceModel(node_representation, readouts)\n",
    "    return valence_model"
   ]
  },
  {
   "cell_type": "code",
   "execution_count": 2,
   "metadata": {},
   "outputs": [],
   "source": [
    "valence_model = initialize()"
   ]
  },
  {
   "cell_type": "markdown",
   "metadata": {},
   "source": [
    "#### Load dataset"
   ]
  },
  {
   "cell_type": "code",
   "execution_count": 3,
   "metadata": {},
   "outputs": [],
   "source": [
    "path_to_dataset = '../../data/qca/*.h5'"
   ]
  },
  {
   "cell_type": "code",
   "execution_count": 4,
   "metadata": {},
   "outputs": [],
   "source": [
    "from glob import glob"
   ]
  },
  {
   "cell_type": "code",
   "execution_count": 5,
   "metadata": {},
   "outputs": [
    {
     "data": {
      "text/plain": [
       "['../../data/qca/eMolecules.h5',\n",
       " '../../data/qca/Roche.h5',\n",
       " '../../data/qca/Coverage.h5',\n",
       " '../../data/qca/Bayer.h5',\n",
       " '../../data/qca/Pfizer.h5']"
      ]
     },
     "execution_count": 5,
     "metadata": {},
     "output_type": "execute_result"
    }
   ],
   "source": [
    "paths_to_datsets = glob(path_to_dataset)\n",
    "paths_to_datsets"
   ]
  },
  {
   "cell_type": "code",
   "execution_count": 6,
   "metadata": {},
   "outputs": [],
   "source": [
    "import pandas as pd"
   ]
  },
  {
   "cell_type": "code",
   "execution_count": 7,
   "metadata": {},
   "outputs": [
    {
     "data": {
      "text/html": [
       "<div>\n",
       "<style scoped>\n",
       "    .dataframe tbody tr th:only-of-type {\n",
       "        vertical-align: middle;\n",
       "    }\n",
       "\n",
       "    .dataframe tbody tr th {\n",
       "        vertical-align: top;\n",
       "    }\n",
       "\n",
       "    .dataframe thead th {\n",
       "        text-align: right;\n",
       "    }\n",
       "</style>\n",
       "<table border=\"1\" class=\"dataframe\">\n",
       "  <thead>\n",
       "    <tr style=\"text-align: right;\">\n",
       "      <th></th>\n",
       "      <th>offmol</th>\n",
       "      <th>xyz</th>\n",
       "      <th>energies</th>\n",
       "      <th>gradients</th>\n",
       "    </tr>\n",
       "  </thead>\n",
       "  <tbody>\n",
       "    <tr>\n",
       "      <th>c1ccc(c(c1)c2c=cnc=c2)[n+](=o)[o-]-0</th>\n",
       "      <td>Molecule with name '' and SMILES '[H]c1c(c(c(c...</td>\n",
       "      <td>[[[8.64368188, -0.36839034, -1.642932], [8.542...</td>\n",
       "      <td>[-685.1245763393297, -685.125632691076, -685.1...</td>\n",
       "      <td>[[[-0.0005868442762516273, -0.0009118189676851...</td>\n",
       "    </tr>\n",
       "    <tr>\n",
       "      <th>c1ccc(c(c1)c2c=cnc=c2)[n+](=o)[o-]-1</th>\n",
       "      <td>Molecule with name '' and SMILES '[H]c1c(c(c(c...</td>\n",
       "      <td>[[[8.64368188, -0.36839034, -1.642932], [8.542...</td>\n",
       "      <td>[-685.1168302849942, -685.1251284611758, -685....</td>\n",
       "      <td>[[[-0.0029031063779140056, 0.00088637924910335...</td>\n",
       "    </tr>\n",
       "    <tr>\n",
       "      <th>c1cnc(nc1)c2ncco2-0</th>\n",
       "      <td>Molecule with name '' and SMILES '[H]c1c(nc(nc...</td>\n",
       "      <td>[[[1.11135101, 1.68283819, 3.52634778], [0.427...</td>\n",
       "      <td>[-509.2855426266222, -509.28644214015253, -509...</td>\n",
       "      <td>[[[-0.0038854577356293094, -0.0023258691569085...</td>\n",
       "    </tr>\n",
       "    <tr>\n",
       "      <th>cn1ccnc1c2ccccc2-0</th>\n",
       "      <td>Molecule with name '' and SMILES '[H]c1c(c(c(c...</td>\n",
       "      <td>[[[3.56240001, -1.95833547, -0.21248155], [5.5...</td>\n",
       "      <td>[-496.6661997769336, -496.6661031011264, -496....</td>\n",
       "      <td>[[[-0.0003726804546595755, 3.1808791622076245e...</td>\n",
       "    </tr>\n",
       "    <tr>\n",
       "      <th>cn(c)s(=o)(=o)c1ncco1-0</th>\n",
       "      <td>Molecule with name '' and SMILES '[H]C1=C(OC(=...</td>\n",
       "      <td>[[[-1.98090286, 6.84208296, 4.10496305], [-3.9...</td>\n",
       "      <td>[-928.6754897145471, -928.6807107448581, -928....</td>\n",
       "      <td>[[[0.014644098237170432, -0.007984321246469181...</td>\n",
       "    </tr>\n",
       "    <tr>\n",
       "      <th>...</th>\n",
       "      <td>...</td>\n",
       "      <td>...</td>\n",
       "      <td>...</td>\n",
       "      <td>...</td>\n",
       "    </tr>\n",
       "    <tr>\n",
       "      <th>c1ccc(c(c1)c#n)nc(=o)nc2ccccn2-0</th>\n",
       "      <td>Molecule with name '' and SMILES '[H]c1c(c(c(c...</td>\n",
       "      <td>[[[7.97378783, -1.16651899, 5.16631293], [3.55...</td>\n",
       "      <td>[-795.7726140630207, -795.7757536445863, -795....</td>\n",
       "      <td>[[[0.012503369954526649, 0.002427863961968043,...</td>\n",
       "    </tr>\n",
       "    <tr>\n",
       "      <th>c1ccc(c(c1)c#n)nc(=o)nc2ccccn2-1</th>\n",
       "      <td>Molecule with name '' and SMILES '[H]c1c(c(c(c...</td>\n",
       "      <td>[[[7.97378783, -1.16651899, 5.16631293], [3.55...</td>\n",
       "      <td>[-795.7823425237151, -795.7863967313793, -795....</td>\n",
       "      <td>[[[0.011935341650909703, 0.0023166709410819904...</td>\n",
       "    </tr>\n",
       "    <tr>\n",
       "      <th>c1ccc(c(c1)c#n)nc(=o)nc2ccccn2-2</th>\n",
       "      <td>Molecule with name '' and SMILES '[H]c1c(c(c(c...</td>\n",
       "      <td>[[[0.36880397, 1.48286377, 4.78434695], [3.751...</td>\n",
       "      <td>[-795.7605490505065, -795.764679823452, -795.7...</td>\n",
       "      <td>[[[-0.004108383263444142, 0.005581976997648781...</td>\n",
       "    </tr>\n",
       "    <tr>\n",
       "      <th>c1ccc(c(c1)c#n)nc(=o)nc2ccccn2-3</th>\n",
       "      <td>Molecule with name '' and SMILES '[H]c1c(c(c(c...</td>\n",
       "      <td>[[[1.88089532, -6.43620425, 4.83770013], [3.71...</td>\n",
       "      <td>[-795.76054659861, -795.7646771685934, -795.76...</td>\n",
       "      <td>[[[-0.0017513500670877718, -0.0067168657881853...</td>\n",
       "    </tr>\n",
       "    <tr>\n",
       "      <th>c1ccc(c(c1)c#n)nc(=o)nc2ccccn2-4</th>\n",
       "      <td>Molecule with name '' and SMILES '[H]c1c(c(c(c...</td>\n",
       "      <td>[[[7.97378783, -1.16651899, 5.16631293], [3.55...</td>\n",
       "      <td>[-795.783003217656, -795.7877624782882, -795.7...</td>\n",
       "      <td>[[[0.011220327124367317, 0.0021142502558744317...</td>\n",
       "    </tr>\n",
       "  </tbody>\n",
       "</table>\n",
       "<p>202 rows × 4 columns</p>\n",
       "</div>"
      ],
      "text/plain": [
       "                                                                                 offmol  \\\n",
       "c1ccc(c(c1)c2c=cnc=c2)[n+](=o)[o-]-0  Molecule with name '' and SMILES '[H]c1c(c(c(c...   \n",
       "c1ccc(c(c1)c2c=cnc=c2)[n+](=o)[o-]-1  Molecule with name '' and SMILES '[H]c1c(c(c(c...   \n",
       "c1cnc(nc1)c2ncco2-0                   Molecule with name '' and SMILES '[H]c1c(nc(nc...   \n",
       "cn1ccnc1c2ccccc2-0                    Molecule with name '' and SMILES '[H]c1c(c(c(c...   \n",
       "cn(c)s(=o)(=o)c1ncco1-0               Molecule with name '' and SMILES '[H]C1=C(OC(=...   \n",
       "...                                                                                 ...   \n",
       "c1ccc(c(c1)c#n)nc(=o)nc2ccccn2-0      Molecule with name '' and SMILES '[H]c1c(c(c(c...   \n",
       "c1ccc(c(c1)c#n)nc(=o)nc2ccccn2-1      Molecule with name '' and SMILES '[H]c1c(c(c(c...   \n",
       "c1ccc(c(c1)c#n)nc(=o)nc2ccccn2-2      Molecule with name '' and SMILES '[H]c1c(c(c(c...   \n",
       "c1ccc(c(c1)c#n)nc(=o)nc2ccccn2-3      Molecule with name '' and SMILES '[H]c1c(c(c(c...   \n",
       "c1ccc(c(c1)c#n)nc(=o)nc2ccccn2-4      Molecule with name '' and SMILES '[H]c1c(c(c(c...   \n",
       "\n",
       "                                                                                    xyz  \\\n",
       "c1ccc(c(c1)c2c=cnc=c2)[n+](=o)[o-]-0  [[[8.64368188, -0.36839034, -1.642932], [8.542...   \n",
       "c1ccc(c(c1)c2c=cnc=c2)[n+](=o)[o-]-1  [[[8.64368188, -0.36839034, -1.642932], [8.542...   \n",
       "c1cnc(nc1)c2ncco2-0                   [[[1.11135101, 1.68283819, 3.52634778], [0.427...   \n",
       "cn1ccnc1c2ccccc2-0                    [[[3.56240001, -1.95833547, -0.21248155], [5.5...   \n",
       "cn(c)s(=o)(=o)c1ncco1-0               [[[-1.98090286, 6.84208296, 4.10496305], [-3.9...   \n",
       "...                                                                                 ...   \n",
       "c1ccc(c(c1)c#n)nc(=o)nc2ccccn2-0      [[[7.97378783, -1.16651899, 5.16631293], [3.55...   \n",
       "c1ccc(c(c1)c#n)nc(=o)nc2ccccn2-1      [[[7.97378783, -1.16651899, 5.16631293], [3.55...   \n",
       "c1ccc(c(c1)c#n)nc(=o)nc2ccccn2-2      [[[0.36880397, 1.48286377, 4.78434695], [3.751...   \n",
       "c1ccc(c(c1)c#n)nc(=o)nc2ccccn2-3      [[[1.88089532, -6.43620425, 4.83770013], [3.71...   \n",
       "c1ccc(c(c1)c#n)nc(=o)nc2ccccn2-4      [[[7.97378783, -1.16651899, 5.16631293], [3.55...   \n",
       "\n",
       "                                                                               energies  \\\n",
       "c1ccc(c(c1)c2c=cnc=c2)[n+](=o)[o-]-0  [-685.1245763393297, -685.125632691076, -685.1...   \n",
       "c1ccc(c(c1)c2c=cnc=c2)[n+](=o)[o-]-1  [-685.1168302849942, -685.1251284611758, -685....   \n",
       "c1cnc(nc1)c2ncco2-0                   [-509.2855426266222, -509.28644214015253, -509...   \n",
       "cn1ccnc1c2ccccc2-0                    [-496.6661997769336, -496.6661031011264, -496....   \n",
       "cn(c)s(=o)(=o)c1ncco1-0               [-928.6754897145471, -928.6807107448581, -928....   \n",
       "...                                                                                 ...   \n",
       "c1ccc(c(c1)c#n)nc(=o)nc2ccccn2-0      [-795.7726140630207, -795.7757536445863, -795....   \n",
       "c1ccc(c(c1)c#n)nc(=o)nc2ccccn2-1      [-795.7823425237151, -795.7863967313793, -795....   \n",
       "c1ccc(c(c1)c#n)nc(=o)nc2ccccn2-2      [-795.7605490505065, -795.764679823452, -795.7...   \n",
       "c1ccc(c(c1)c#n)nc(=o)nc2ccccn2-3      [-795.76054659861, -795.7646771685934, -795.76...   \n",
       "c1ccc(c(c1)c#n)nc(=o)nc2ccccn2-4      [-795.783003217656, -795.7877624782882, -795.7...   \n",
       "\n",
       "                                                                              gradients  \n",
       "c1ccc(c(c1)c2c=cnc=c2)[n+](=o)[o-]-0  [[[-0.0005868442762516273, -0.0009118189676851...  \n",
       "c1ccc(c(c1)c2c=cnc=c2)[n+](=o)[o-]-1  [[[-0.0029031063779140056, 0.00088637924910335...  \n",
       "c1cnc(nc1)c2ncco2-0                   [[[-0.0038854577356293094, -0.0023258691569085...  \n",
       "cn1ccnc1c2ccccc2-0                    [[[-0.0003726804546595755, 3.1808791622076245e...  \n",
       "cn(c)s(=o)(=o)c1ncco1-0               [[[0.014644098237170432, -0.007984321246469181...  \n",
       "...                                                                                 ...  \n",
       "c1ccc(c(c1)c#n)nc(=o)nc2ccccn2-0      [[[0.012503369954526649, 0.002427863961968043,...  \n",
       "c1ccc(c(c1)c#n)nc(=o)nc2ccccn2-1      [[[0.011935341650909703, 0.0023166709410819904...  \n",
       "c1ccc(c(c1)c#n)nc(=o)nc2ccccn2-2      [[[-0.004108383263444142, 0.005581976997648781...  \n",
       "c1ccc(c(c1)c#n)nc(=o)nc2ccccn2-3      [[[-0.0017513500670877718, -0.0067168657881853...  \n",
       "c1ccc(c(c1)c#n)nc(=o)nc2ccccn2-4      [[[0.011220327124367317, 0.0021142502558744317...  \n",
       "\n",
       "[202 rows x 4 columns]"
      ]
     },
     "execution_count": 7,
     "metadata": {},
     "output_type": "execute_result"
    }
   ],
   "source": [
    "df = pd.read_hdf('../../data/qca/Roche.h5')\n",
    "df"
   ]
  },
  {
   "cell_type": "code",
   "execution_count": 8,
   "metadata": {},
   "outputs": [
    {
     "data": {
      "text/plain": [
       "100"
      ]
     },
     "execution_count": 8,
     "metadata": {},
     "output_type": "execute_result"
    }
   ],
   "source": [
    "unique_mols = list(set(df.offmol))\n",
    "len(unique_mols)"
   ]
  },
  {
   "cell_type": "code",
   "execution_count": 9,
   "metadata": {},
   "outputs": [
    {
     "data": {
      "image/png": "[encoded data removed]",
      "text/plain": [
       "<rdkit.Chem.rdchem.Mol at 0x7fc9ccfe1c70>"
      ]
     },
     "metadata": {},
     "output_type": "display_data"
    }
   ],
   "source": [
    "offmol = df.offmol[df.index[0]]\n",
    "offmol"
   ]
  },
  {
   "cell_type": "code",
   "execution_count": 10,
   "metadata": {
    "scrolled": true
   },
   "outputs": [
    {
     "name": "stdout",
     "output_type": "stream",
     "text": [
      "CPU times: user 144 ms, sys: 10.7 ms, total: 155 ms\n",
      "Wall time: 138 ms\n"
     ]
    },
    {
     "data": {
      "text/plain": [
       "ParameterizedSystem(atoms=tensor([[0.0263, 0.0697],\n",
       "        [0.0267, 0.0697],\n",
       "        [0.0255, 0.0729],\n",
       "        [0.0341, 0.0747],\n",
       "        [0.0323, 0.0707],\n",
       "        [0.0236, 0.0630],\n",
       "        [0.0281, 0.0727],\n",
       "        [0.0281, 0.0727],\n",
       "        [0.0301, 0.0688],\n",
       "        [0.0301, 0.0688],\n",
       "        [0.0267, 0.0681],\n",
       "        [0.0384, 0.0752],\n",
       "        [0.0894, 0.0874],\n",
       "        [0.0368, 0.0735],\n",
       "        [0.0368, 0.0735],\n",
       "        [0.0304, 0.0698],\n",
       "        [0.0302, 0.0703],\n",
       "        [0.0317, 0.0702],\n",
       "        [0.0329, 0.0718],\n",
       "        [0.0312, 0.0707],\n",
       "        [0.0312, 0.0707],\n",
       "        [0.0322, 0.0772],\n",
       "        [0.0322, 0.0772],\n",
       "        [0.0301, 0.0711],\n",
       "        [0.0386, 0.0713]], grad_fn=<AddmmBackward>), bonds=tensor([[ 0.3629, -0.2325],\n",
       "        [ 0.3655, -0.2355],\n",
       "        [ 0.3473, -0.2436],\n",
       "        [ 0.3632, -0.2333],\n",
       "        [ 0.3466, -0.2434],\n",
       "        [ 0.3638, -0.2352],\n",
       "        [ 0.3466, -0.2429],\n",
       "        [ 0.3583, -0.2343],\n",
       "        [ 0.3456, -0.2444],\n",
       "        [ 0.3558, -0.2334],\n",
       "        [ 0.3661, -0.2304],\n",
       "        [ 0.3687, -0.2199],\n",
       "        [ 0.3592, -0.2329],\n",
       "        [ 0.3662, -0.2293],\n",
       "        [ 0.3420, -0.2432],\n",
       "        [ 0.3592, -0.2329],\n",
       "        [ 0.3662, -0.2293],\n",
       "        [ 0.3420, -0.2432],\n",
       "        [ 0.3529, -0.2159],\n",
       "        [ 0.3426, -0.2388],\n",
       "        [ 0.3529, -0.2159],\n",
       "        [ 0.3426, -0.2388],\n",
       "        [ 0.3506, -0.2418],\n",
       "        [ 0.3334, -0.2290],\n",
       "        [ 0.3551, -0.2273],\n",
       "        [ 0.3551, -0.2273]], grad_fn=<AddBackward0>), angles=tensor([[ 0.0655, -0.0307],\n",
       "        [ 0.0737, -0.0231],\n",
       "        [ 0.0621, -0.0364],\n",
       "        [ 0.0713, -0.0264],\n",
       "        [ 0.0689, -0.0237],\n",
       "        [ 0.0753, -0.0201],\n",
       "        [ 0.0797, -0.0249],\n",
       "        [ 0.0776, -0.0233],\n",
       "        [ 0.0767, -0.0197],\n",
       "        [ 0.0855, -0.0264],\n",
       "        [ 0.0752, -0.0302],\n",
       "        [ 0.0744, -0.0267],\n",
       "        [ 0.0679, -0.0437],\n",
       "        [ 0.0715, -0.0517],\n",
       "        [ 0.0733, -0.0357],\n",
       "        [ 0.0719, -0.0552],\n",
       "        [ 0.0641, -0.0362],\n",
       "        [ 0.0641, -0.0362],\n",
       "        [ 0.0735, -0.0322],\n",
       "        [ 0.0914, -0.0219],\n",
       "        [ 0.0841, -0.0292],\n",
       "        [ 0.1024, -0.0012],\n",
       "        [ 0.1024, -0.0012],\n",
       "        [ 0.0821, -0.0389],\n",
       "        [ 0.0803, -0.0349],\n",
       "        [ 0.0689, -0.0293],\n",
       "        [ 0.0757, -0.0238],\n",
       "        [ 0.0821, -0.0389],\n",
       "        [ 0.0803, -0.0349],\n",
       "        [ 0.0757, -0.0238],\n",
       "        [ 0.0796, -0.0244],\n",
       "        [ 0.0892, -0.0197],\n",
       "        [ 0.1008, -0.0324],\n",
       "        [ 0.1111, -0.0403],\n",
       "        [ 0.0796, -0.0244],\n",
       "        [ 0.0892, -0.0197],\n",
       "        [ 0.1111, -0.0403],\n",
       "        [ 0.0792, -0.0245],\n",
       "        [ 0.0792, -0.0245],\n",
       "        [ 0.0900, -0.0410],\n",
       "        [ 0.0900, -0.0410],\n",
       "        [ 0.1099,  0.0102]], grad_fn=<AddBackward0>), propers=tensor([[ 4.1364e-02,  3.1116e-01,  9.7549e-02, -1.0364e-02, -3.3371e-01,\n",
       "          2.3860e-01],\n",
       "        [ 4.7488e-02,  2.9939e-01,  8.6363e-02, -1.1513e-02, -3.4243e-01,\n",
       "          2.3385e-01],\n",
       "        [ 4.3405e-02,  3.1387e-01,  9.4742e-02, -8.2569e-03, -3.3283e-01,\n",
       "          2.3788e-01],\n",
       "        [ 3.7792e-02,  3.1723e-01,  1.0163e-01, -1.4013e-02, -3.3342e-01,\n",
       "          2.4907e-01],\n",
       "        [ 4.1586e-02,  3.0923e-01,  1.0270e-01, -1.6181e-02, -3.4029e-01,\n",
       "          2.4184e-01],\n",
       "        [ 4.7806e-02,  2.9761e-01,  8.8103e-02, -1.1639e-02, -3.4625e-01,\n",
       "          2.3556e-01],\n",
       "        [ 3.4775e-02,  3.0322e-01,  9.5520e-02, -1.1164e-02, -3.3077e-01,\n",
       "          2.4182e-01],\n",
       "        [ 5.1706e-02,  2.9238e-01,  6.7016e-02, -2.6358e-02, -3.4957e-01,\n",
       "          2.1681e-01],\n",
       "        [ 4.5684e-02,  3.0102e-01,  9.9253e-02, -1.2401e-02, -3.3690e-01,\n",
       "          2.3969e-01],\n",
       "        [ 4.4290e-02,  2.9453e-01,  8.9902e-02, -9.8778e-03, -3.4445e-01,\n",
       "          2.3460e-01],\n",
       "        [ 4.4039e-02,  2.9766e-01,  8.8588e-02, -6.3778e-03, -3.2959e-01,\n",
       "          2.3992e-01],\n",
       "        [ 5.3428e-02,  2.9347e-01,  6.2556e-02, -2.0932e-02, -3.4549e-01,\n",
       "          2.0891e-01],\n",
       "        [ 4.7192e-02,  3.0953e-01,  9.1522e-02, -8.6102e-03, -3.3344e-01,\n",
       "          2.3366e-01],\n",
       "        [ 4.7192e-02,  3.0953e-01,  9.1522e-02, -8.6102e-03, -3.3344e-01,\n",
       "          2.3366e-01],\n",
       "        [ 4.2786e-02,  2.9996e-01,  8.1331e-02, -7.0104e-03, -3.4321e-01,\n",
       "          2.2589e-01],\n",
       "        [ 4.6366e-02,  2.9233e-01,  8.8044e-02, -1.0504e-02, -3.4409e-01,\n",
       "          2.2844e-01],\n",
       "        [ 3.7997e-02,  3.0246e-01,  9.3413e-02, -7.6242e-03, -3.2857e-01,\n",
       "          2.4211e-01],\n",
       "        [ 6.4631e-02,  2.8117e-01,  4.4220e-02,  7.0659e-03, -3.3696e-01,\n",
       "          2.2295e-01],\n",
       "        [ 6.4631e-02,  2.8117e-01,  4.4220e-02,  7.0659e-03, -3.3696e-01,\n",
       "          2.2295e-01],\n",
       "        [ 4.2393e-02,  2.9874e-01,  9.1507e-02, -1.0525e-02, -3.4629e-01,\n",
       "          2.3296e-01],\n",
       "        [ 3.9740e-02,  2.8846e-01,  7.9139e-02, -5.4764e-03, -3.4027e-01,\n",
       "          2.2631e-01],\n",
       "        [ 5.7454e-02,  2.8668e-01,  4.7713e-02,  6.4661e-03, -3.3828e-01,\n",
       "          2.1883e-01],\n",
       "        [ 5.7454e-02,  2.8668e-01,  4.7713e-02,  6.4661e-03, -3.3828e-01,\n",
       "          2.1883e-01],\n",
       "        [ 3.9319e-02,  3.0232e-01,  9.4671e-02, -1.9280e-02, -3.3486e-01,\n",
       "          2.3380e-01],\n",
       "        [ 4.5233e-02,  2.9649e-01,  8.7867e-02, -5.7485e-03, -3.3923e-01,\n",
       "          2.3338e-01],\n",
       "        [ 3.9319e-02,  3.0232e-01,  9.4671e-02, -1.9280e-02, -3.3486e-01,\n",
       "          2.3380e-01],\n",
       "        [ 4.5233e-02,  2.9649e-01,  8.7867e-02, -5.7485e-03, -3.3923e-01,\n",
       "          2.3338e-01],\n",
       "        [ 4.4920e-02,  2.9557e-01,  8.4194e-02, -2.5718e-03, -3.3964e-01,\n",
       "          2.3214e-01],\n",
       "        [ 4.6851e-02,  2.9895e-01,  7.9470e-02, -2.1349e-03, -3.3915e-01,\n",
       "          2.2659e-01],\n",
       "        [ 4.6270e-02,  3.1074e-01,  9.0598e-02, -2.9046e-03, -3.3034e-01,\n",
       "          2.2560e-01],\n",
       "        [ 4.6270e-02,  3.1074e-01,  9.0598e-02, -2.9046e-03, -3.3034e-01,\n",
       "          2.2560e-01],\n",
       "        [ 4.3168e-02,  2.9962e-01,  7.8381e-02, -2.3174e-03, -3.4191e-01,\n",
       "          2.1958e-01],\n",
       "        [ 7.0443e-02,  2.7465e-01,  7.8197e-02, -3.9848e-03, -3.1724e-01,\n",
       "          2.4102e-01],\n",
       "        [ 7.7695e-02,  2.6723e-01,  6.3168e-02,  2.6270e-03, -3.2052e-01,\n",
       "          2.2107e-01],\n",
       "        [ 5.1561e-02,  2.9391e-01,  9.1535e-02, -1.7266e-02, -3.3519e-01,\n",
       "          2.3488e-01],\n",
       "        [ 5.4769e-02,  2.8853e-01,  8.3624e-02, -2.4135e-03, -3.4009e-01,\n",
       "          2.3458e-01],\n",
       "        [ 7.0443e-02,  2.7465e-01,  7.8197e-02, -3.9848e-03, -3.1724e-01,\n",
       "          2.4102e-01],\n",
       "        [ 7.7695e-02,  2.6723e-01,  6.3168e-02,  2.6270e-03, -3.2052e-01,\n",
       "          2.2107e-01],\n",
       "        [ 5.1561e-02,  2.9391e-01,  9.1535e-02, -1.7266e-02, -3.3519e-01,\n",
       "          2.3488e-01],\n",
       "        [ 5.4769e-02,  2.8853e-01,  8.3624e-02, -2.4135e-03, -3.4009e-01,\n",
       "          2.3458e-01],\n",
       "        [ 4.8462e-02,  2.8701e-01,  8.1115e-02, -1.3006e-02, -3.4161e-01,\n",
       "          2.2898e-01],\n",
       "        [ 7.5436e-02,  2.6252e-01,  6.2478e-02,  5.7066e-03, -3.2312e-01,\n",
       "          2.2270e-01],\n",
       "        [ 4.8462e-02,  2.8701e-01,  8.1115e-02, -1.3006e-02, -3.4161e-01,\n",
       "          2.2898e-01],\n",
       "        [ 7.5436e-02,  2.6252e-01,  6.2478e-02,  5.7066e-03, -3.2312e-01,\n",
       "          2.2270e-01],\n",
       "        [ 3.9455e-02,  3.0346e-01,  8.6089e-02, -5.5767e-03, -3.3869e-01,\n",
       "          2.3439e-01],\n",
       "        [ 4.7485e-02,  2.9773e-01,  6.7179e-02, -2.2192e-02, -3.4478e-01,\n",
       "          2.1116e-01],\n",
       "        [ 5.1665e-02,  2.9093e-01,  9.0860e-02,  5.4140e-05, -3.2182e-01,\n",
       "          2.2545e-01],\n",
       "        [ 4.9805e-02,  2.8322e-01,  8.2224e-02,  3.8486e-03, -3.2404e-01,\n",
       "          2.3102e-01],\n",
       "        [ 5.1665e-02,  2.9093e-01,  9.0860e-02,  5.4140e-05, -3.2182e-01,\n",
       "          2.2545e-01],\n",
       "        [ 4.9805e-02,  2.8322e-01,  8.2224e-02,  3.8486e-03, -3.2404e-01,\n",
       "          2.3102e-01],\n",
       "        [ 6.3658e-02,  2.7585e-01,  7.7486e-02,  1.0020e-02, -3.2406e-01,\n",
       "          2.1345e-01],\n",
       "        [ 6.3658e-02,  2.7585e-01,  7.7486e-02,  1.0020e-02, -3.2406e-01,\n",
       "          2.1345e-01],\n",
       "        [ 6.2069e-02,  2.7799e-01,  5.0327e-02, -1.7629e-02, -3.5401e-01,\n",
       "          2.0432e-01],\n",
       "        [ 4.9577e-02,  2.8603e-01,  7.6419e-02, -4.2448e-03, -3.5042e-01,\n",
       "          2.2581e-01],\n",
       "        [ 5.3914e-02,  2.8468e-01,  7.4916e-02, -2.9945e-03, -3.5220e-01,\n",
       "          2.2850e-01],\n",
       "        [ 5.2247e-02,  2.8467e-01,  7.4560e-02, -7.5883e-04, -3.4721e-01,\n",
       "          2.2814e-01],\n",
       "        [ 5.8646e-02,  2.6600e-01,  6.7972e-02,  1.6316e-02, -3.2763e-01,\n",
       "          2.1841e-01],\n",
       "        [ 5.1630e-02,  2.7894e-01,  7.3562e-02,  2.8910e-03, -3.4643e-01,\n",
       "          2.2814e-01],\n",
       "        [ 5.8646e-02,  2.6600e-01,  6.7972e-02,  1.6316e-02, -3.2763e-01,\n",
       "          2.1841e-01],\n",
       "        [ 5.1630e-02,  2.7894e-01,  7.3562e-02,  2.8910e-03, -3.4643e-01,\n",
       "          2.2814e-01],\n",
       "        [ 8.3045e-02,  2.5314e-01,  5.4945e-02,  1.2744e-02, -3.2714e-01,\n",
       "          2.1699e-01],\n",
       "        [ 8.3045e-02,  2.5314e-01,  5.4945e-02,  1.2744e-02, -3.2714e-01,\n",
       "          2.1699e-01]], grad_fn=<AddBackward0>), impropers=tensor([[-0.2919,  0.1366,  0.4648,  0.0597,  0.1449, -0.4316],\n",
       "        [-0.2932,  0.1345,  0.4640,  0.0604,  0.1459, -0.4322],\n",
       "        [-0.2968,  0.1362,  0.4592,  0.0535,  0.1486, -0.4313],\n",
       "        [-0.2985,  0.1318,  0.4550,  0.0547,  0.1471, -0.4328],\n",
       "        [-0.2911,  0.1394,  0.4624,  0.0574,  0.1444, -0.4285],\n",
       "        [-0.2908,  0.1402,  0.4637,  0.0573,  0.1444, -0.4266],\n",
       "        [-0.2836,  0.1387,  0.4477,  0.0557,  0.1514, -0.4187],\n",
       "        [-0.2813,  0.1380,  0.4509,  0.0550,  0.1512, -0.4170],\n",
       "        [-0.2908,  0.1402,  0.4637,  0.0573,  0.1444, -0.4266],\n",
       "        [-0.2911,  0.1394,  0.4624,  0.0574,  0.1444, -0.4285],\n",
       "        [-0.3105,  0.1431,  0.4763,  0.0643,  0.1508, -0.4194],\n",
       "        [-0.3119,  0.1451,  0.4769,  0.0650,  0.1522, -0.4209],\n",
       "        [-0.2932,  0.1345,  0.4640,  0.0604,  0.1459, -0.4322],\n",
       "        [-0.2919,  0.1366,  0.4648,  0.0597,  0.1449, -0.4316],\n",
       "        [-0.3027,  0.1191,  0.4580,  0.0769,  0.1505, -0.4182],\n",
       "        [-0.3056,  0.1132,  0.4547,  0.0870,  0.1547, -0.4196],\n",
       "        [-0.2985,  0.1318,  0.4550,  0.0547,  0.1471, -0.4328],\n",
       "        [-0.2968,  0.1362,  0.4592,  0.0535,  0.1486, -0.4313],\n",
       "        [-0.3056,  0.1132,  0.4547,  0.0870,  0.1547, -0.4196],\n",
       "        [-0.3027,  0.1191,  0.4580,  0.0769,  0.1505, -0.4182],\n",
       "        [-0.3131,  0.1300,  0.4661,  0.0616,  0.1515, -0.4414],\n",
       "        [-0.2996,  0.1301,  0.4592,  0.0587,  0.1466, -0.4344],\n",
       "        [-0.3131,  0.1300,  0.4661,  0.0616,  0.1515, -0.4414],\n",
       "        [-0.2996,  0.1301,  0.4592,  0.0587,  0.1466, -0.4344],\n",
       "        [-0.2988,  0.1315,  0.4614,  0.0595,  0.1486, -0.4323],\n",
       "        [-0.2988,  0.1315,  0.4614,  0.0595,  0.1486, -0.4323],\n",
       "        [-0.2813,  0.1380,  0.4509,  0.0550,  0.1512, -0.4170],\n",
       "        [-0.2836,  0.1387,  0.4477,  0.0557,  0.1514, -0.4187],\n",
       "        [-0.3119,  0.1451,  0.4769,  0.0650,  0.1522, -0.4209],\n",
       "        [-0.3105,  0.1431,  0.4763,  0.0643,  0.1508, -0.4194],\n",
       "        [-0.2746,  0.1157,  0.4679,  0.0927,  0.1932, -0.4244],\n",
       "        [-0.2746,  0.1157,  0.4679,  0.0927,  0.1932, -0.4244],\n",
       "        [-0.2604,  0.1236,  0.4444,  0.0689,  0.1644, -0.4258],\n",
       "        [-0.2656,  0.1168,  0.4455,  0.0713,  0.1616, -0.4235],\n",
       "        [-0.3131,  0.1300,  0.4661,  0.0616,  0.1515, -0.4414],\n",
       "        [-0.2988,  0.1315,  0.4614,  0.0595,  0.1486, -0.4323],\n",
       "        [-0.3131,  0.1300,  0.4661,  0.0616,  0.1515, -0.4414],\n",
       "        [-0.2933,  0.1279,  0.4595,  0.0662,  0.1521, -0.4359],\n",
       "        [-0.2996,  0.1301,  0.4592,  0.0587,  0.1466, -0.4344],\n",
       "        [-0.2933,  0.1279,  0.4595,  0.0662,  0.1521, -0.4359],\n",
       "        [-0.2604,  0.1236,  0.4444,  0.0689,  0.1644, -0.4258],\n",
       "        [-0.2656,  0.1168,  0.4455,  0.0713,  0.1616, -0.4235],\n",
       "        [-0.3131,  0.1300,  0.4661,  0.0616,  0.1515, -0.4414],\n",
       "        [-0.2988,  0.1315,  0.4614,  0.0595,  0.1486, -0.4323],\n",
       "        [-0.3131,  0.1300,  0.4661,  0.0616,  0.1515, -0.4414],\n",
       "        [-0.2933,  0.1279,  0.4595,  0.0662,  0.1521, -0.4359],\n",
       "        [-0.2996,  0.1301,  0.4592,  0.0587,  0.1466, -0.4344],\n",
       "        [-0.2933,  0.1279,  0.4595,  0.0662,  0.1521, -0.4359],\n",
       "        [-0.2727,  0.1377,  0.4607,  0.0519,  0.1569, -0.4217],\n",
       "        [-0.2728,  0.1429,  0.4596,  0.0498,  0.1559, -0.4161],\n",
       "        [-0.2487,  0.1348,  0.4641,  0.0487,  0.1670, -0.4069],\n",
       "        [-0.2487,  0.1348,  0.4641,  0.0487,  0.1670, -0.4069],\n",
       "        [-0.2727,  0.1377,  0.4607,  0.0519,  0.1569, -0.4217],\n",
       "        [-0.2728,  0.1429,  0.4596,  0.0498,  0.1559, -0.4161],\n",
       "        [-0.2487,  0.1348,  0.4641,  0.0487,  0.1670, -0.4069],\n",
       "        [-0.2487,  0.1348,  0.4641,  0.0487,  0.1670, -0.4069],\n",
       "        [-0.3105,  0.1431,  0.4763,  0.0643,  0.1508, -0.4194],\n",
       "        [-0.3119,  0.1451,  0.4769,  0.0650,  0.1522, -0.4209],\n",
       "        [-0.2728,  0.1429,  0.4596,  0.0498,  0.1559, -0.4161],\n",
       "        [-0.2727,  0.1377,  0.4607,  0.0519,  0.1569, -0.4217],\n",
       "        [-0.2728,  0.1429,  0.4596,  0.0498,  0.1559, -0.4161],\n",
       "        [-0.2727,  0.1377,  0.4607,  0.0519,  0.1569, -0.4217],\n",
       "        [-0.2656,  0.1168,  0.4455,  0.0713,  0.1616, -0.4235],\n",
       "        [-0.2604,  0.1236,  0.4444,  0.0689,  0.1644, -0.4258],\n",
       "        [-0.2656,  0.1168,  0.4455,  0.0713,  0.1616, -0.4235],\n",
       "        [-0.2604,  0.1236,  0.4444,  0.0689,  0.1644, -0.4258],\n",
       "        [-0.3027,  0.1191,  0.4580,  0.0769,  0.1505, -0.4182],\n",
       "        [-0.3056,  0.1132,  0.4547,  0.0870,  0.1547, -0.4196],\n",
       "        [-0.2746,  0.1157,  0.4679,  0.0927,  0.1932, -0.4244],\n",
       "        [-0.2746,  0.1157,  0.4679,  0.0927,  0.1932, -0.4244],\n",
       "        [-0.2746,  0.1157,  0.4679,  0.0927,  0.1932, -0.4244],\n",
       "        [-0.2746,  0.1157,  0.4679,  0.0927,  0.1932, -0.4244],\n",
       "        [-0.2911,  0.1394,  0.4624,  0.0574,  0.1444, -0.4285],\n",
       "        [-0.2908,  0.1402,  0.4637,  0.0573,  0.1444, -0.4266],\n",
       "        [-0.2919,  0.1366,  0.4648,  0.0597,  0.1449, -0.4316],\n",
       "        [-0.2932,  0.1345,  0.4640,  0.0604,  0.1459, -0.4322],\n",
       "        [-0.2968,  0.1362,  0.4592,  0.0535,  0.1486, -0.4313],\n",
       "        [-0.2985,  0.1318,  0.4550,  0.0547,  0.1471, -0.4328],\n",
       "        [-0.2836,  0.1387,  0.4477,  0.0557,  0.1514, -0.4187],\n",
       "        [-0.2813,  0.1380,  0.4509,  0.0550,  0.1512, -0.4170],\n",
       "        [-0.2727,  0.1377,  0.4607,  0.0519,  0.1569, -0.4217],\n",
       "        [-0.2728,  0.1429,  0.4596,  0.0498,  0.1559, -0.4161],\n",
       "        [-0.2727,  0.1377,  0.4607,  0.0519,  0.1569, -0.4217],\n",
       "        [-0.2728,  0.1429,  0.4596,  0.0498,  0.1559, -0.4161],\n",
       "        [-0.2604,  0.1236,  0.4444,  0.0689,  0.1644, -0.4258],\n",
       "        [-0.2656,  0.1168,  0.4455,  0.0713,  0.1616, -0.4235],\n",
       "        [-0.2604,  0.1236,  0.4444,  0.0689,  0.1644, -0.4258],\n",
       "        [-0.2656,  0.1168,  0.4455,  0.0713,  0.1616, -0.4235],\n",
       "        [-0.2996,  0.1301,  0.4592,  0.0587,  0.1466, -0.4344],\n",
       "        [-0.2996,  0.1301,  0.4592,  0.0587,  0.1466, -0.4344],\n",
       "        [-0.2988,  0.1315,  0.4614,  0.0595,  0.1486, -0.4323],\n",
       "        [-0.2933,  0.1279,  0.4595,  0.0662,  0.1521, -0.4359],\n",
       "        [-0.2988,  0.1315,  0.4614,  0.0595,  0.1486, -0.4323],\n",
       "        [-0.2933,  0.1279,  0.4595,  0.0662,  0.1521, -0.4359],\n",
       "        [-0.2487,  0.1348,  0.4641,  0.0487,  0.1670, -0.4069],\n",
       "        [-0.2487,  0.1348,  0.4641,  0.0487,  0.1670, -0.4069]],\n",
       "       grad_fn=<AddBackward0>))"
      ]
     },
     "execution_count": 10,
     "metadata": {},
     "output_type": "execute_result"
    }
   ],
   "source": [
    "%%time\n",
    "valence_model.forward(offmol)"
   ]
  },
  {
   "cell_type": "code",
   "execution_count": 11,
   "metadata": {},
   "outputs": [
    {
     "name": "stdout",
     "output_type": "stream",
     "text": [
      "CPU times: user 4.36 s, sys: 98.4 ms, total: 4.46 s\n",
      "Wall time: 1.13 s\n"
     ]
    }
   ],
   "source": [
    "%%time\n",
    "\n",
    "for offmol in unique_mols:\n",
    "    params = valence_model.forward(offmol)"
   ]
  },
  {
   "cell_type": "code",
   "execution_count": 12,
   "metadata": {},
   "outputs": [
    {
     "data": {
      "text/plain": [
       "(121, 24, 3)"
      ]
     },
     "execution_count": 12,
     "metadata": {},
     "output_type": "execute_result"
    }
   ],
   "source": [
    "import numpy as np\n",
    "xyz = np.vstack(df.xyz[df.offmol == offmol])\n",
    "xyz.shape"
   ]
  },
  {
   "cell_type": "code",
   "execution_count": 13,
   "metadata": {},
   "outputs": [],
   "source": [
    "xyzs = dict()\n",
    "energies = dict()\n",
    "\n",
    "for offmol in unique_mols:\n",
    "    mask = df.offmol == offmol\n",
    "    xyzs[offmol] = torch.tensor(np.vstack(df.xyz[mask]))\n",
    "    energies[offmol] = torch.tensor(np.hstack(df.energies[mask]))\n",
    "    \n",
    "    # check same number of total snapshots\n",
    "    assert(xyzs[offmol].shape[0] == energies[offmol].shape[0])"
   ]
  },
  {
   "cell_type": "markdown",
   "metadata": {},
   "source": [
    "#### Double-check, is there much overhead for using this dictionary approach?"
   ]
  },
  {
   "cell_type": "code",
   "execution_count": 14,
   "metadata": {},
   "outputs": [
    {
     "name": "stdout",
     "output_type": "stream",
     "text": [
      "CPU times: user 390 µs, sys: 0 ns, total: 390 µs\n",
      "Wall time: 395 µs\n"
     ]
    }
   ],
   "source": [
    "%%time\n",
    "for offmol in unique_mols:\n",
    "    _ = xyzs[offmol]"
   ]
  },
  {
   "cell_type": "markdown",
   "metadata": {},
   "source": [
    "I mean, a lot compared with if I were doing things efficiently, but not a lot in the grand scheme of the computation being performed here..."
   ]
  },
  {
   "cell_type": "code",
   "execution_count": 15,
   "metadata": {},
   "outputs": [],
   "source": [
    "def residual_stddev(x, y):\n",
    "    return torch.std(x - y)\n",
    "\n",
    "def loss_on_one_mol(offmol):\n",
    "    # make predictions\n",
    "    params = valence_model.forward(offmol)\n",
    "    pred_energies = compute_valence_energy(offmol, xyzs[offmol], params)\n",
    "    \n",
    "    # get reference\n",
    "    ref_energies = energies[offmol]\n",
    "    \n",
    "    # compute residual stddev, aka rmse up to an arbitrary constant\n",
    "    return residual_stddev(pred_energies, ref_energies)"
   ]
  },
  {
   "cell_type": "code",
   "execution_count": 16,
   "metadata": {},
   "outputs": [
    {
     "name": "stdout",
     "output_type": "stream",
     "text": [
      "CPU times: user 90.5 ms, sys: 12.6 ms, total: 103 ms\n",
      "Wall time: 58.8 ms\n"
     ]
    },
    {
     "data": {
      "text/plain": [
       "tensor(0.6314, dtype=torch.float64, grad_fn=<StdBackward0>)"
      ]
     },
     "execution_count": 16,
     "metadata": {},
     "output_type": "execute_result"
    }
   ],
   "source": [
    "%%time\n",
    "loss_on_one_mol(offmol)"
   ]
  },
  {
   "cell_type": "code",
   "execution_count": 17,
   "metadata": {},
   "outputs": [
    {
     "name": "stdout",
     "output_type": "stream",
     "text": [
      "CPU times: user 9.14 s, sys: 388 ms, total: 9.52 s\n",
      "Wall time: 2.41 s\n"
     ]
    }
   ],
   "source": [
    "%%time\n",
    "\n",
    "for offmol in unique_mols:\n",
    "    l = loss_on_one_mol(offmol)"
   ]
  },
  {
   "cell_type": "code",
   "execution_count": 18,
   "metadata": {},
   "outputs": [],
   "source": [
    "def loss():\n",
    "    \"\"\"mean over all molecules\"\"\"\n",
    "    L = 0.0\n",
    "    for offmol in unique_mols:\n",
    "        L += loss_on_one_mol(offmol)\n",
    "    return L / len(unique_mols)"
   ]
  },
  {
   "cell_type": "code",
   "execution_count": 19,
   "metadata": {},
   "outputs": [
    {
     "name": "stdout",
     "output_type": "stream",
     "text": [
      "CPU times: user 9.32 s, sys: 515 ms, total: 9.84 s\n",
      "Wall time: 2.63 s\n"
     ]
    },
    {
     "data": {
      "text/plain": [
       "tensor(1.5388, dtype=torch.float64, grad_fn=<DivBackward0>)"
      ]
     },
     "execution_count": 19,
     "metadata": {},
     "output_type": "execute_result"
    }
   ],
   "source": [
    "%%time\n",
    "\n",
    "loss()"
   ]
  },
  {
   "cell_type": "code",
   "execution_count": 20,
   "metadata": {},
   "outputs": [],
   "source": [
    "from qcelemental import constants\n",
    "from simtk import unit\n",
    "\n",
    "report_unit = unit.kilocalorie_per_mole\n",
    "\n",
    "def to_kcalmol(e_hartree):\n",
    "    return e_hartree * constants.hartree2kcalmol\n"
   ]
  },
  {
   "cell_type": "code",
   "execution_count": 22,
   "metadata": {},
   "outputs": [
    {
     "data": {
      "text/plain": [
       "941.2642106663061"
      ]
     },
     "execution_count": 22,
     "metadata": {},
     "output_type": "execute_result"
    }
   ],
   "source": [
    "to_kcalmol(1.5)"
   ]
  },
  {
   "cell_type": "code",
   "execution_count": 23,
   "metadata": {},
   "outputs": [
    {
     "name": "stderr",
     "output_type": "stream",
     "text": [
      "100%|██████████| 100/100 [12:13<00:00,  7.34s/it, loss=25.1]\n"
     ]
    }
   ],
   "source": [
    "# optimize using L-BFGS\n",
    "lbfgs_options = dict(line_search_fn='strong_wolfe', history_size=10, max_iter=1)\n",
    "# max_iter is # of L-BFGS iterations per torch.optim \"step\"\n",
    "\n",
    "optimizer = torch.optim.LBFGS(valence_model.parameters(), **lbfgs_options)\n",
    "\n",
    "def closure():\n",
    "    optimizer.zero_grad()\n",
    "    L = loss()\n",
    "    L.backward(retain_graph=True)\n",
    "    return L\n",
    "\n",
    "loss_traj = [loss().detach().numpy()]\n",
    "valence_model.train()\n",
    "\n",
    "trange = tqdm(range(100))\n",
    "for epoch in trange:\n",
    "    L = optimizer.step(closure).detach().numpy()\n",
    "\n",
    "    loss_traj.append(float(L))\n",
    "    trange.set_postfix(loss=to_kcalmol(L))"
   ]
  },
  {
   "cell_type": "code",
   "execution_count": 25,
   "metadata": {},
   "outputs": [
    {
     "data": {
      "text/plain": [
       "Text(0, 0.5, 'loss (residual stddev, in kilocalorie/mole)')"
      ]
     },
     "execution_count": 25,
     "metadata": {},
     "output_type": "execute_result"
    },
    {
     "data": {
      "image/png": "[encoded data removed]",
      "text/plain": [
       "<Figure size 432x288 with 1 Axes>"
      ]
     },
     "metadata": {
      "needs_background": "light"
     },
     "output_type": "display_data"
    }
   ],
   "source": [
    "plt.plot([to_kcalmol(l) for l in loss_traj])\n",
    "plt.xlabel('L-BFGS iteration')\n",
    "plt.ylabel(f'loss (residual stddev, in {report_unit})')"
   ]
  },
  {
   "cell_type": "code",
   "execution_count": 26,
   "metadata": {},
   "outputs": [
    {
     "data": {
      "image/png": "[encoded data removed]",
      "text/plain": [
       "<Figure size 432x288 with 1 Axes>"
      ]
     },
     "metadata": {
      "needs_background": "light"
     },
     "output_type": "display_data"
    }
   ],
   "source": [
    "plt.plot([to_kcalmol(l) for l in loss_traj])\n",
    "plt.xlabel('L-BFGS iteration')\n",
    "plt.ylabel(f'loss (residual stddev, in {report_unit})')\n",
    "plt.yscale('log')"
   ]
  },
  {
   "cell_type": "markdown",
   "metadata": {},
   "source": [
    "#### What if we do this with Adam and minibatches..."
   ]
  },
  {
   "cell_type": "code",
   "execution_count": 27,
   "metadata": {},
   "outputs": [],
   "source": [
    "learning_rate = 1e-4\n",
    "optimizer = torch.optim.Adam(valence_model.parameters(), lr=learning_rate)"
   ]
  },
  {
   "cell_type": "code",
   "execution_count": 28,
   "metadata": {},
   "outputs": [
    {
     "name": "stdout",
     "output_type": "stream",
     "text": [
      "CPU times: user 292 µs, sys: 31 µs, total: 323 µs\n",
      "Wall time: 327 µs\n"
     ]
    },
    {
     "data": {
      "image/png": "[encoded data removed]",
      "text/plain": [
       "<rdkit.Chem.rdchem.Mol at 0x7fc99c681530>"
      ]
     },
     "metadata": {},
     "output_type": "display_data"
    }
   ],
   "source": [
    "%%time\n",
    "np.random.choice(unique_mols)"
   ]
  },
  {
   "cell_type": "code",
   "execution_count": 29,
   "metadata": {},
   "outputs": [],
   "source": [
    "def compute_loss_on_one_mol(offmol, xyz, ref_energies):\n",
    "    # make predictions\n",
    "    params = valence_model.forward(offmol)\n",
    "    pred_energies = compute_valence_energy(offmol, xyz, params)\n",
    "    \n",
    "    return residual_stddev(pred_energies, ref_energies)"
   ]
  },
  {
   "cell_type": "code",
   "execution_count": 30,
   "metadata": {},
   "outputs": [],
   "source": [
    "def compute_loss_on_random_sample(n_mols=10, n_snapshots_per_mol=100):\n",
    "    mols = np.random.choice(unique_mols, n_mols)\n",
    "    L = 0\n",
    "    for mol in mols:\n",
    "        inds = np.random.choice(np.arange(len(xyzs[mol])), n_snapshots_per_mol)\n",
    "        L += compute_loss_on_one_mol(mol, xyzs[mol][inds], energies[mol][inds])\n",
    "    return L / n_mols"
   ]
  },
  {
   "cell_type": "code",
   "execution_count": 31,
   "metadata": {},
   "outputs": [
    {
     "name": "stdout",
     "output_type": "stream",
     "text": [
      "CPU times: user 191 ms, sys: 11 ms, total: 202 ms\n",
      "Wall time: 53.3 ms\n"
     ]
    },
    {
     "data": {
      "text/plain": [
       "tensor(0.0350, dtype=torch.float64, grad_fn=<DivBackward0>)"
      ]
     },
     "execution_count": 31,
     "metadata": {},
     "output_type": "execute_result"
    }
   ],
   "source": [
    "%%time\n",
    "compute_loss_on_random_sample(n_mols=1)"
   ]
  },
  {
   "cell_type": "code",
   "execution_count": 32,
   "metadata": {},
   "outputs": [
    {
     "name": "stdout",
     "output_type": "stream",
     "text": [
      "CPU times: user 1.25 s, sys: 55 ms, total: 1.3 s\n",
      "Wall time: 329 ms\n"
     ]
    },
    {
     "data": {
      "text/plain": [
       "tensor(0.0386, dtype=torch.float64, grad_fn=<DivBackward0>)"
      ]
     },
     "execution_count": 32,
     "metadata": {},
     "output_type": "execute_result"
    }
   ],
   "source": [
    "%%time\n",
    "compute_loss_on_random_sample(n_mols=10)"
   ]
  },
  {
   "cell_type": "code",
   "execution_count": 33,
   "metadata": {},
   "outputs": [
    {
     "name": "stderr",
     "output_type": "stream",
     "text": [
      "100%|██████████| 1000/1000 [07:19<00:00,  2.28it/s, batch_loss=13.4]\n"
     ]
    }
   ],
   "source": [
    "batch_losses = []\n",
    "trange = tqdm(range(1000))\n",
    "for t in trange:\n",
    "    L = compute_loss_on_random_sample(n_mols=10)\n",
    "    \n",
    "    optimizer.zero_grad()\n",
    "    L.backward()\n",
    "    optimizer.step()\n",
    "    \n",
    "    batch_losses.append(L.detach().numpy())\n",
    "    trange.set_postfix(batch_loss=to_kcalmol(batch_losses[-1]))"
   ]
  },
  {
   "cell_type": "code",
   "execution_count": 36,
   "metadata": {},
   "outputs": [
    {
     "data": {
      "text/plain": [
       "1.7586328929533324"
      ]
     },
     "execution_count": 36,
     "metadata": {},
     "output_type": "execute_result"
    }
   ],
   "source": [
    "# what residual stddev should we expect if our model just predicted a constant\n",
    "constant_prediction_baseline = np.mean([to_kcalmol(torch.std(e)) for e in energies.values()])\n",
    "constant_prediction_baseline"
   ]
  },
  {
   "cell_type": "code",
   "execution_count": 37,
   "metadata": {},
   "outputs": [
    {
     "data": {
      "text/plain": [
       "Text(0, 0.5, 'batch loss\\n(kilocalorie/mole)')"
      ]
     },
     "execution_count": 37,
     "metadata": {},
     "output_type": "execute_result"
    },
    {
     "data": {
      "image/png": "[encoded data removed]",
      "text/plain": [
       "<Figure size 432x288 with 1 Axes>"
      ]
     },
     "metadata": {
      "needs_background": "light"
     },
     "output_type": "display_data"
    }
   ],
   "source": [
    "plt.plot([to_kcalmol(l) for l in batch_losses])\n",
    "plt.hlines(constant_prediction_baseline, 0, len(batch_losses), color='grey', linestyle='--')\n",
    "plt.xlabel('Adam optimization step')\n",
    "plt.ylabel(f'batch loss\\n({report_unit})')"
   ]
  },
  {
   "cell_type": "markdown",
   "metadata": {},
   "source": [
    "#### Okay, so this is currently doing much worse than predicting a constant!"
   ]
  },
  {
   "cell_type": "markdown",
   "metadata": {},
   "source": [
    "#### TODO: review and modify optimization strategy\n",
    "* unit conversions and scalings\n",
    "* add gradients again\n",
    "* double-check float32 vs. float64\n",
    "* initialization / pre-training\n",
    "* predicting an offset to reasonable parameters, rather than predicting parameters from scratch\n",
    "* double-check improper indices"
   ]
  },
  {
   "cell_type": "code",
   "execution_count": 38,
   "metadata": {},
   "outputs": [],
   "source": [
    "params = valence_model.forward(offmol)"
   ]
  },
  {
   "cell_type": "code",
   "execution_count": 39,
   "metadata": {},
   "outputs": [
    {
     "data": {
      "text/plain": [
       "tensor([[0.3437, 0.5226],\n",
       "        [0.3431, 0.5096],\n",
       "        [0.3556, 0.3693],\n",
       "        [0.3413, 0.5092],\n",
       "        [0.3546, 0.3685],\n",
       "        [0.3314, 0.5028],\n",
       "        [0.3526, 0.3530],\n",
       "        [0.3436, 0.4834],\n",
       "        [0.3530, 0.3495],\n",
       "        [0.3332, 0.4937],\n",
       "        [0.3286, 0.4335],\n",
       "        [0.3581, 0.5358],\n",
       "        [0.4122, 0.5666],\n",
       "        [0.4200, 0.4292],\n",
       "        [0.4200, 0.4292],\n",
       "        [0.4200, 0.4292],\n",
       "        [0.4122, 0.5666],\n",
       "        [0.4200, 0.4292],\n",
       "        [0.4200, 0.4292],\n",
       "        [0.4200, 0.4292],\n",
       "        [0.3955, 0.5609],\n",
       "        [0.3866, 0.3995],\n",
       "        [0.3866, 0.3995],\n",
       "        [0.3366, 0.3048]], grad_fn=<AddBackward0>)"
      ]
     },
     "execution_count": 39,
     "metadata": {},
     "output_type": "execute_result"
    }
   ],
   "source": [
    "params.bonds"
   ]
  },
  {
   "cell_type": "code",
   "execution_count": 48,
   "metadata": {},
   "outputs": [
    {
     "data": {
      "text/plain": [
       "Text(0.5, 1.0, 'bond params')"
      ]
     },
     "execution_count": 48,
     "metadata": {},
     "output_type": "execute_result"
    },
    {
     "data": {
      "image/png": "[encoded data removed]",
      "text/plain": [
       "<Figure size 432x288 with 1 Axes>"
      ]
     },
     "metadata": {
      "needs_background": "light"
     },
     "output_type": "display_data"
    }
   ],
   "source": [
    "k, eq = params.bonds.detach().numpy().T\n",
    "plt.scatter(k, eq)\n",
    "plt.xlabel('k\\n(TODO: unit)')\n",
    "plt.ylabel('eq\\n(TODO: unit)')\n",
    "plt.title('bond params')"
   ]
  },
  {
   "cell_type": "code",
   "execution_count": 50,
   "metadata": {},
   "outputs": [
    {
     "data": {
      "text/plain": [
       "Text(0.5, 1.0, 'angle params')"
      ]
     },
     "execution_count": 50,
     "metadata": {},
     "output_type": "execute_result"
    },
    {
     "data": {
      "image/png": "[encoded data removed]",
      "text/plain": [
       "<Figure size 432x288 with 1 Axes>"
      ]
     },
     "metadata": {
      "needs_background": "light"
     },
     "output_type": "display_data"
    }
   ],
   "source": [
    "k, eq = params.angles.detach().numpy().T\n",
    "plt.scatter(k, eq)\n",
    "plt.xlabel('k\\n(TODO: unit)')\n",
    "plt.ylabel('eq\\n(TODO: unit)')\n",
    "plt.title('angle params')"
   ]
  },
  {
   "cell_type": "code",
   "execution_count": 51,
   "metadata": {},
   "outputs": [
    {
     "data": {
      "text/plain": [
       "<matplotlib.legend.Legend at 0x7fc99ee47c10>"
      ]
     },
     "execution_count": 51,
     "metadata": {},
     "output_type": "execute_result"
    },
    {
     "data": {
      "image/png": "[encoded data removed]",
      "text/plain": [
       "<Figure size 432x288 with 1 Axes>"
      ]
     },
     "metadata": {
      "needs_background": "light"
     },
     "output_type": "display_data"
    }
   ],
   "source": [
    "for i, k_i in enumerate(params.propers.detach().numpy().T):\n",
    "    plt.plot(k_i, label=f\"i={i}\")\n",
    "plt.xlabel('proper torsion index')\n",
    "plt.title('proper torsion params')\n",
    "plt.ylabel('proper torsion $k_i$\\n(TODO: unit)')\n",
    "plt.legend()"
   ]
  },
  {
   "cell_type": "code",
   "execution_count": 52,
   "metadata": {},
   "outputs": [
    {
     "data": {
      "text/plain": [
       "<matplotlib.legend.Legend at 0x7fc99eb564d0>"
      ]
     },
     "execution_count": 52,
     "metadata": {},
     "output_type": "execute_result"
    },
    {
     "data": {
      "image/png": "[encoded data removed]",
      "text/plain": [
       "<Figure size 432x288 with 1 Axes>"
      ]
     },
     "metadata": {
      "needs_background": "light"
     },
     "output_type": "display_data"
    }
   ],
   "source": [
    "for i, k_i in enumerate(params.impropers.detach().numpy().T):\n",
    "    plt.plot(k_i, label=f\"i={i}\")\n",
    "plt.xlabel('improper torsion index')\n",
    "plt.title('improper torsion params')\n",
    "plt.ylabel('improper torsion $k_i$\\n(TODO: unit)')\n",
    "plt.legend()"
   ]
  },
  {
   "cell_type": "code",
   "execution_count": null,
   "metadata": {},
   "outputs": [],
   "source": []
  }
 ],
 "metadata": {
  "kernelspec": {
   "display_name": "Python [conda env:espaloma]",
   "language": "python",
   "name": "conda-env-espaloma-py"
  },
  "language_info": {
   "codemirror_mode": {
    "name": "ipython",
    "version": 3
   },
   "file_extension": ".py",
   "mimetype": "text/x-python",
   "name": "python",
   "nbconvert_exporter": "python",
   "pygments_lexer": "ipython3",
   "version": "3.7.8"
  }
 },
 "nbformat": 4,
 "nbformat_minor": 4
}
