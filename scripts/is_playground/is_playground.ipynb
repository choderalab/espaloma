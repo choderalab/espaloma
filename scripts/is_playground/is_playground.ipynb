{
 "cells": [
  {
   "cell_type": "code",
   "execution_count": 14,
   "metadata": {},
   "outputs": [],
   "source": [
    "import torch\n",
    "import espaloma as esp\n"
   ]
  },
  {
   "cell_type": "code",
   "execution_count": 116,
   "metadata": {},
   "outputs": [],
   "source": [
    "class EulerIntegrator(torch.optim.Optimizer):\n",
    "    def __init__(self, params, lr=1e-3, m=0.1):\n",
    "        defaults = dict(\n",
    "            lr=lr,\n",
    "            m=m,\n",
    "        )\n",
    "        super(EulerIntegrator, self).__init__(params, defaults)\n",
    "    \n",
    "    @torch.no_grad()\n",
    "    def step(self, closure=None):\n",
    "        loss = None\n",
    "        if closure is not None:\n",
    "            with torch.enable_grad():\n",
    "                loss = closure()\n",
    "\n",
    "        for group in self.param_groups:\n",
    "            for q in group['params']:\n",
    "                if q.grad is None:\n",
    "                    continue\n",
    "\n",
    "                state = self.state[q]\n",
    "                if len(state) == 0:\n",
    "                    state['p'] = torch.zeros_like(q)\n",
    "\n",
    "                state['p'].add_(q.grad, alpha=-group['lr']*group['m'])\n",
    "                q.add_(state['p'], alpha=group['lr'])\n",
    "\n",
    "        return loss\n"
   ]
  },
  {
   "cell_type": "code",
   "execution_count": 117,
   "metadata": {},
   "outputs": [
    {
     "data": {
      "text/plain": [
       "<espaloma.graphs.graph.Graph at 0x1340f9890>"
      ]
     },
     "execution_count": 117,
     "metadata": {},
     "output_type": "execute_result"
    }
   ],
   "source": [
    "g = esp.Graph('CN1C=NC2=C1C(=O)N(C(=O)N2C)C')\n",
    "esp.graphs.LegacyForceField('smirnoff99Frosst').parametrize(g)"
   ]
  },
  {
   "cell_type": "code",
   "execution_count": 118,
   "metadata": {},
   "outputs": [],
   "source": [
    "layer = esp.nn.dgl_legacy.gn()\n",
    "\n",
    "representation = esp.nn.Sequential(\n",
    "    layer,\n",
    "    [32, 'tanh', 32, 'tanh', 32, 'tanh'],\n",
    ")\n",
    "\n",
    "readout = esp.nn.readout.janossy.JanossyPooling(\n",
    "    in_features=32,\n",
    "    config=[32, 'tanh', 32],\n",
    "    out_features={\n",
    "        1: {'lambs': 98},\n",
    "        2: {'lambs': 98},\n",
    "        3: {'lambs': 98},\n",
    "    }\n",
    ")\n",
    "\n",
    "net = torch.nn.Sequential(\n",
    "    representation,\n",
    "    readout,\n",
    ")"
   ]
  },
  {
   "cell_type": "code",
   "execution_count": 139,
   "metadata": {},
   "outputs": [],
   "source": [
    "def f(x, idx):\n",
    "    print(idx)\n",
    "    if idx == 0:\n",
    "        return (x ** 2).sum(dim=(0, 2))\n",
    "    \n",
    "    if idx == 99:\n",
    "        g.nodes['n1'].data['xyz'] = x\n",
    "        esp.mm.geometry.geometry_in_graph(g.heterograph)\n",
    "        esp.mm.energy.energy_in_graph(g.heterograph, suffix='_ref')\n",
    "        # print(g.nodes['n2'].data['u'].sum(dim=0) + g.nodes['n3'].data['u'].sum(dim=0))\n",
    "        return g.nodes['n2'].data['u_ref'].sum(dim=0) + g.nodes['n3'].data['u_ref'].sum(dim=0)\n",
    "\n",
    "    g.nodes['n1'].data['xyz'] = x\n",
    "    esp.mm.geometry.geometry_in_graph(g.heterograph)\n",
    "    esp.mm.energy.energy_in_graph(g.heterograph, suffix='_ref')\n",
    "\n",
    "    g.heterograph.apply_nodes(\n",
    "        lambda node: {'u': node.data['u_ref'] * node.data['lambs'][:, idx-1][:, None]},\n",
    "        ntype='n2'\n",
    "    )\n",
    "\n",
    "    g.heterograph.apply_nodes(\n",
    "        lambda node: {'u': node.data['u_ref'] * node.data['lambs'][:, idx-1][:, None]},\n",
    "        ntype='n3'\n",
    "    )\n",
    "\n",
    "    return g.nodes['n2'].data['u'].sum(dim=0) + g.nodes['n3'].data['u'].sum(dim=0)\n",
    "\n"
   ]
  },
  {
   "cell_type": "code",
   "execution_count": 140,
   "metadata": {},
   "outputs": [],
   "source": [
    "def loss():\n",
    "    x = torch.autograd.Variable(\n",
    "        torch.randn(\n",
    "            g.heterograph.number_of_nodes('n1'),\n",
    "            128,\n",
    "            3\n",
    "        )\n",
    "    )\n",
    "    \n",
    "    sampler = EulerIntegrator([x], 1e-1)\n",
    "    \n",
    "    works = 0.0\n",
    "    \n",
    "    net(g.heterograph)\n",
    "    \n",
    "    for idx in range(1, 100):\n",
    "        sampler.zero_grad()\n",
    "        energy_old = f(x, idx-1)\n",
    "        energy_new = f(x, idx)\n",
    "        energy_new.sum().backward(create_graph=True)\n",
    "        sampler.step()\n",
    "        works += energy_new - energy_old\n",
    "        \n",
    "    return works.sum()"
   ]
  },
  {
   "cell_type": "code",
   "execution_count": 141,
   "metadata": {},
   "outputs": [
    {
     "name": "stdout",
     "output_type": "stream",
     "text": [
      "0\n",
      "1\n",
      "tensor([[ 709707.7500,    3805.9199,  658478.2500,  ...,  335658.2188,\n",
      "          681080.6875,  192345.3750],\n",
      "        [1018925.6250,   51208.1445, 1313795.3750,  ...,  782763.0625,\n",
      "         1575860.1250,  543240.8750],\n",
      "        [ 432784.1875,  801808.5000,  391964.7188,  ...,  770952.0000,\n",
      "         2046580.1250,  552945.6250],\n",
      "        ...,\n",
      "        [ 127663.2109,  742017.0625,  368660.5312,  ...,  199511.4531,\n",
      "          560054.8125,  326705.6250],\n",
      "        [ 911328.3125,  228173.2031,  213122.7031,  ...,  226198.8594,\n",
      "          984178.0000,  469045.9062],\n",
      "        [  61863.3789,  122914.6719,  231935.2031,  ...,   50718.9570,\n",
      "          211587.3438,  415364.3750]])\n",
      "tensor([[174048.3438,    933.3618, 161484.8594,  ...,  82316.6406,\n",
      "         167027.8594,  47170.6758],\n",
      "        [269137.5000,  13526.0439, 347023.9688,  ..., 206757.8750,\n",
      "         416245.3750, 143490.8438],\n",
      "        [109341.5000, 202574.2812,  99028.6016,  ..., 194778.4844,\n",
      "         517061.7500, 139699.8906],\n",
      "        ...,\n",
      "        [ 25799.6250, 149955.2031,  74503.0859,  ...,  40319.5312,\n",
      "         113182.2109,  66024.3672],\n",
      "        [184171.5000,  46111.8125,  43070.2383,  ...,  45712.8164,\n",
      "         198893.7812,  94790.0859],\n",
      "        [ 12502.0498,  24839.9844,  46872.0859,  ...,  10249.8594,\n",
      "          42759.9609,  83941.5234]], grad_fn=<MulBackward0>)\n"
     ]
    },
    {
     "ename": "NameError",
     "evalue": "name 'fuck' is not defined",
     "output_type": "error",
     "traceback": [
      "\u001b[0;31m---------------------------------------------------------------------------\u001b[0m",
      "\u001b[0;31mNameError\u001b[0m                                 Traceback (most recent call last)",
      "\u001b[0;32m<ipython-input-141-f3185374f1a9>\u001b[0m in \u001b[0;36m<module>\u001b[0;34m\u001b[0m\n\u001b[1;32m      2\u001b[0m \u001b[0;32mfor\u001b[0m \u001b[0m_\u001b[0m \u001b[0;32min\u001b[0m \u001b[0mrange\u001b[0m\u001b[0;34m(\u001b[0m\u001b[0;36m1000\u001b[0m\u001b[0;34m)\u001b[0m\u001b[0;34m:\u001b[0m\u001b[0;34m\u001b[0m\u001b[0;34m\u001b[0m\u001b[0m\n\u001b[1;32m      3\u001b[0m     \u001b[0moptimizer\u001b[0m\u001b[0;34m.\u001b[0m\u001b[0mzero_grad\u001b[0m\u001b[0;34m(\u001b[0m\u001b[0;34m)\u001b[0m\u001b[0;34m\u001b[0m\u001b[0;34m\u001b[0m\u001b[0m\n\u001b[0;32m----> 4\u001b[0;31m     \u001b[0m_loss\u001b[0m \u001b[0;34m=\u001b[0m \u001b[0mloss\u001b[0m\u001b[0;34m(\u001b[0m\u001b[0;34m)\u001b[0m\u001b[0;34m\u001b[0m\u001b[0;34m\u001b[0m\u001b[0m\n\u001b[0m\u001b[1;32m      5\u001b[0m     \u001b[0m_loss\u001b[0m\u001b[0;34m.\u001b[0m\u001b[0mbackward\u001b[0m\u001b[0;34m(\u001b[0m\u001b[0;34m)\u001b[0m\u001b[0;34m\u001b[0m\u001b[0;34m\u001b[0m\u001b[0m\n\u001b[1;32m      6\u001b[0m     \u001b[0mprint\u001b[0m\u001b[0;34m(\u001b[0m\u001b[0m_loss\u001b[0m\u001b[0;34m)\u001b[0m\u001b[0;34m\u001b[0m\u001b[0;34m\u001b[0m\u001b[0m\n",
      "\u001b[0;32m<ipython-input-140-ce8f49ec71fc>\u001b[0m in \u001b[0;36mloss\u001b[0;34m()\u001b[0m\n\u001b[1;32m     17\u001b[0m         \u001b[0msampler\u001b[0m\u001b[0;34m.\u001b[0m\u001b[0mzero_grad\u001b[0m\u001b[0;34m(\u001b[0m\u001b[0;34m)\u001b[0m\u001b[0;34m\u001b[0m\u001b[0;34m\u001b[0m\u001b[0m\n\u001b[1;32m     18\u001b[0m         \u001b[0menergy_old\u001b[0m \u001b[0;34m=\u001b[0m \u001b[0mf\u001b[0m\u001b[0;34m(\u001b[0m\u001b[0mx\u001b[0m\u001b[0;34m,\u001b[0m \u001b[0midx\u001b[0m\u001b[0;34m-\u001b[0m\u001b[0;36m1\u001b[0m\u001b[0;34m)\u001b[0m\u001b[0;34m\u001b[0m\u001b[0;34m\u001b[0m\u001b[0m\n\u001b[0;32m---> 19\u001b[0;31m         \u001b[0menergy_new\u001b[0m \u001b[0;34m=\u001b[0m \u001b[0mf\u001b[0m\u001b[0;34m(\u001b[0m\u001b[0mx\u001b[0m\u001b[0;34m,\u001b[0m \u001b[0midx\u001b[0m\u001b[0;34m)\u001b[0m\u001b[0;34m\u001b[0m\u001b[0;34m\u001b[0m\u001b[0m\n\u001b[0m\u001b[1;32m     20\u001b[0m         \u001b[0menergy_new\u001b[0m\u001b[0;34m.\u001b[0m\u001b[0msum\u001b[0m\u001b[0;34m(\u001b[0m\u001b[0;34m)\u001b[0m\u001b[0;34m.\u001b[0m\u001b[0mbackward\u001b[0m\u001b[0;34m(\u001b[0m\u001b[0mcreate_graph\u001b[0m\u001b[0;34m=\u001b[0m\u001b[0;32mTrue\u001b[0m\u001b[0;34m)\u001b[0m\u001b[0;34m\u001b[0m\u001b[0;34m\u001b[0m\u001b[0m\n\u001b[1;32m     21\u001b[0m         \u001b[0msampler\u001b[0m\u001b[0;34m.\u001b[0m\u001b[0mstep\u001b[0m\u001b[0;34m(\u001b[0m\u001b[0;34m)\u001b[0m\u001b[0;34m\u001b[0m\u001b[0;34m\u001b[0m\u001b[0m\n",
      "\u001b[0;32m<ipython-input-139-a928361e6e40>\u001b[0m in \u001b[0;36mf\u001b[0;34m(x, idx)\u001b[0m\n\u001b[1;32m     27\u001b[0m     \u001b[0mprint\u001b[0m\u001b[0;34m(\u001b[0m\u001b[0mg\u001b[0m\u001b[0;34m.\u001b[0m\u001b[0mnodes\u001b[0m\u001b[0;34m[\u001b[0m\u001b[0;34m'n2'\u001b[0m\u001b[0;34m]\u001b[0m\u001b[0;34m.\u001b[0m\u001b[0mdata\u001b[0m\u001b[0;34m[\u001b[0m\u001b[0;34m'u_ref'\u001b[0m\u001b[0;34m]\u001b[0m\u001b[0;34m)\u001b[0m\u001b[0;34m\u001b[0m\u001b[0;34m\u001b[0m\u001b[0m\n\u001b[1;32m     28\u001b[0m     \u001b[0mprint\u001b[0m\u001b[0;34m(\u001b[0m\u001b[0mg\u001b[0m\u001b[0;34m.\u001b[0m\u001b[0mnodes\u001b[0m\u001b[0;34m[\u001b[0m\u001b[0;34m'n2'\u001b[0m\u001b[0;34m]\u001b[0m\u001b[0;34m.\u001b[0m\u001b[0mdata\u001b[0m\u001b[0;34m[\u001b[0m\u001b[0;34m'u'\u001b[0m\u001b[0;34m]\u001b[0m\u001b[0;34m)\u001b[0m\u001b[0;34m\u001b[0m\u001b[0;34m\u001b[0m\u001b[0m\n\u001b[0;32m---> 29\u001b[0;31m     \u001b[0mfuck\u001b[0m\u001b[0;34m\u001b[0m\u001b[0;34m\u001b[0m\u001b[0m\n\u001b[0m\u001b[1;32m     30\u001b[0m \u001b[0;34m\u001b[0m\u001b[0m\n\u001b[1;32m     31\u001b[0m     \u001b[0;32mreturn\u001b[0m \u001b[0mg\u001b[0m\u001b[0;34m.\u001b[0m\u001b[0mnodes\u001b[0m\u001b[0;34m[\u001b[0m\u001b[0;34m'n2'\u001b[0m\u001b[0;34m]\u001b[0m\u001b[0;34m.\u001b[0m\u001b[0mdata\u001b[0m\u001b[0;34m[\u001b[0m\u001b[0;34m'u'\u001b[0m\u001b[0;34m]\u001b[0m\u001b[0;34m.\u001b[0m\u001b[0msum\u001b[0m\u001b[0;34m(\u001b[0m\u001b[0mdim\u001b[0m\u001b[0;34m=\u001b[0m\u001b[0;36m0\u001b[0m\u001b[0;34m)\u001b[0m \u001b[0;34m+\u001b[0m \u001b[0mg\u001b[0m\u001b[0;34m.\u001b[0m\u001b[0mnodes\u001b[0m\u001b[0;34m[\u001b[0m\u001b[0;34m'n3'\u001b[0m\u001b[0;34m]\u001b[0m\u001b[0;34m.\u001b[0m\u001b[0mdata\u001b[0m\u001b[0;34m[\u001b[0m\u001b[0;34m'u'\u001b[0m\u001b[0;34m]\u001b[0m\u001b[0;34m.\u001b[0m\u001b[0msum\u001b[0m\u001b[0;34m(\u001b[0m\u001b[0mdim\u001b[0m\u001b[0;34m=\u001b[0m\u001b[0;36m0\u001b[0m\u001b[0;34m)\u001b[0m\u001b[0;34m\u001b[0m\u001b[0;34m\u001b[0m\u001b[0m\n",
      "\u001b[0;31mNameError\u001b[0m: name 'fuck' is not defined"
     ]
    }
   ],
   "source": [
    "optimizer = torch.optim.Adam(net.parameters(), 1e-5)\n",
    "for _ in range(1000):\n",
    "    optimizer.zero_grad()\n",
    "    _loss = loss()\n",
    "    _loss.backward()\n",
    "    print(_loss)\n",
    "    optimizer.step()"
   ]
  },
  {
   "cell_type": "code",
   "execution_count": null,
   "metadata": {},
   "outputs": [],
   "source": []
  }
 ],
 "metadata": {
  "kernelspec": {
   "display_name": "Python 3",
   "language": "python",
   "name": "python3"
  },
  "language_info": {
   "codemirror_mode": {
    "name": "ipython",
    "version": 3
   },
   "file_extension": ".py",
   "mimetype": "text/x-python",
   "name": "python",
   "nbconvert_exporter": "python",
   "pygments_lexer": "ipython3",
   "version": "3.7.6"
  }
 },
 "nbformat": 4,
 "nbformat_minor": 4
}
