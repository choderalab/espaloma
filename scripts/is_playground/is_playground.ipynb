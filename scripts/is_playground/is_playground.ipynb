{
 "cells": [
  {
   "cell_type": "markdown",
   "metadata": {},
   "source": [
    "# imports"
   ]
  },
  {
   "cell_type": "code",
   "execution_count": 1,
   "metadata": {},
   "outputs": [
    {
     "name": "stderr",
     "output_type": "stream",
     "text": [
      "Warning: Unable to load toolkit 'OpenEye Toolkit'. The Open Force Field Toolkit does not require the OpenEye Toolkits, and can use RDKit/AmberTools instead. However, if you have a valid license for the OpenEye Toolkits, consider installing them for faster performance and additional file format support: https://docs.eyesopen.com/toolkits/python/quickstart-python/linuxosx.html OpenEye offers free Toolkit licenses for academics: https://www.eyesopen.com/academic-licensing\n"
     ]
    },
    {
     "data": {
      "application/vnd.jupyter.widget-view+json": {
       "model_id": "c9cff2cbe10f416bb72fad35412cd91d",
       "version_major": 2,
       "version_minor": 0
      },
      "text/plain": []
     },
     "metadata": {},
     "output_type": "display_data"
    },
    {
     "name": "stderr",
     "output_type": "stream",
     "text": [
      "Using backend: pytorch\n"
     ]
    }
   ],
   "source": [
    "import torch\n",
    "import espaloma as esp"
   ]
  },
  {
   "cell_type": "markdown",
   "metadata": {},
   "source": [
    "# integrator\n",
    "We use a vanilla Euler method as our integrator."
   ]
  },
  {
   "cell_type": "code",
   "execution_count": 2,
   "metadata": {},
   "outputs": [],
   "source": [
    "def euler_method(qs, ps, q_grad, lr=1e-3):\n",
    "    \"\"\" Euler method integration.\n",
    "    \n",
    "    Parameters\n",
    "    ----------\n",
    "    qs : `List` of `Tensor`\n",
    "        The trajectories of position variables.\n",
    "        \n",
    "    ps : `List` of `Tensor`\n",
    "        The trajectories of momentum variables.\n",
    "        \n",
    "    q_grad : `Tensor`\n",
    "        Gradients (of energies) w.r.t. position variables at last step.\n",
    "        \n",
    "    Returns\n",
    "    -------\n",
    "    qs\n",
    "    ps\n",
    "\n",
    "    \n",
    "    \"\"\"\n",
    "    q = qs[-1]\n",
    "    p = ps[-1]\n",
    "\n",
    "    if q_grad is None:\n",
    "        q_grad = torch.zeros_like(q)\n",
    "\n",
    "    p = p.clone().add(lr * q_grad)\n",
    "    q = q.clone().add(lr * p)\n",
    "   \n",
    "    ps.append(p)\n",
    "    qs.append(q)\n",
    "    \n",
    "    return qs, ps"
   ]
  },
  {
   "cell_type": "markdown",
   "metadata": {},
   "source": [
    "# architecture"
   ]
  },
  {
   "cell_type": "code",
   "execution_count": 3,
   "metadata": {},
   "outputs": [],
   "source": [
    "class NodeRNN(torch.nn.Module):\n",
    "    \"\"\" HyperNode-level RNN to out put lambdas schedule.\n",
    "    \n",
    "    Parameters\n",
    "    ----------\n",
    "    input_size : `int`\n",
    "        Input dimension.\n",
    "        \n",
    "    units : `int`\n",
    "        Hidden dimension.\n",
    "        \n",
    "    Methods\n",
    "    -------\n",
    "    apply_nodes_fn :\n",
    "        Function that is applied to all hypernodes\n",
    "        and returns latent representation.\n",
    "        \n",
    "    forward :\n",
    "        Forward pass.\n",
    "        \n",
    "    \n",
    "    Attributes\n",
    "    ----------\n",
    "    rnn2 : `torch.nn.GRU`\n",
    "        Bond-level RNN.\n",
    "    \n",
    "    rnn3 : `torch.nn.GRU`\n",
    "        Angle-level RNN.\n",
    "    \n",
    "    d : `torch.nn.Linear`\n",
    "        Final layer to output lambda scedules.\n",
    "        \n",
    "    \n",
    "    \"\"\"\n",
    "    def __init__(self, input_size=32, units=128):\n",
    "        super(NodeRNN, self).__init__()\n",
    "        self.rnn2 = torch.nn.GRU(\n",
    "            input_size=input_size+3,\n",
    "            hidden_size=units,\n",
    "            batch_first=True,\n",
    "            bidirectional=True, # just to be more expressive\n",
    "        )\n",
    "        \n",
    "        self.rnn3 = torch.nn.GRU(\n",
    "            input_size=input_size+3,\n",
    "            hidden_size=units,\n",
    "            batch_first=True,\n",
    "            bidirectional=True,\n",
    "        )\n",
    "        \n",
    "        self.windows=48\n",
    "        self.d = torch.nn.Linear(\n",
    "            2 * units,\n",
    "            1\n",
    "        ) # we need to summarize the protocols to one-dimension\n",
    "\n",
    "    def apply_nodes_fn(self, x, rnn):\n",
    "        \"\"\" Applied to all hypernodes and returns latent representation.\"\"\"\n",
    "        # (number_of_hypernodes, number_of_windows, units)\n",
    "        h_gn = x[:, None, :].repeat(1, self.windows, 1)\n",
    "        \n",
    "        # (number_of_hypernodes, number_of_windows,)\n",
    "        h_total_number = torch.tensor([self.windows])[:, None].repeat(\n",
    "            x.shape[0], self.windows).to(dtype=torch.float32)\n",
    "        \n",
    "        # (number_of_hypernodes, number_of_windows,)\n",
    "        h_index = torch.arange(0, self.windows)[None, :].repeat(\n",
    "            x.shape[0], 1).to(dtype=torch.float32)\n",
    "        \n",
    "        # (number_of_hypernodes, number_of_windows,)\n",
    "        h_pct = h_index / h_total_number\n",
    "        \n",
    "        # (number_of_hypernodes, 3)\n",
    "        h_indicator = torch.stack(\n",
    "            [\n",
    "                h_total_number,\n",
    "                h_index,\n",
    "                h_pct\n",
    "            ],\n",
    "            dim=2,\n",
    "        )\n",
    "        \n",
    "        # (number_of_hypernodes, number_of_windows, 1)\n",
    "        h = rnn(torch.cat([h_gn, h_indicator], dim=-1))[0]\n",
    "\n",
    "        return self.d(h).squeeze(-1) # erase dimension (1)\n",
    "\n",
    "    def forward(self, g):\n",
    "        \"\"\" Forward pass. \"\"\"\n",
    "        # apply to both bond and angle.\n",
    "        \n",
    "        g.apply_nodes(\n",
    "            lambda node: {'lambs_': self.apply_nodes_fn(node.data['h'], self.rnn2)},\n",
    "            ntype='n2'\n",
    "        )\n",
    "        \n",
    "        g.apply_nodes(\n",
    "            lambda node: {'lambs_': self.apply_nodes_fn(node.data['h'], self.rnn3)},\n",
    "            ntype='n3'\n",
    "        )\n",
    "        \n",
    "        return g"
   ]
  },
  {
   "cell_type": "code",
   "execution_count": 4,
   "metadata": {},
   "outputs": [],
   "source": [
    "class LambdaConstraint(torch.nn.Module):\n",
    "    \"\"\" Constraint lambda schedules such that:\n",
    "        * It is monotonically increasing.\n",
    "        * It starts at zero and ends at one.\n",
    "    \n",
    "    \"\"\"\n",
    "    def __init__(self):\n",
    "        super(LambdaConstraint, self).__init__()\n",
    "        \n",
    "    def forward(self, g):\n",
    "        g.apply_nodes(\n",
    "            lambda node: {'lambs': node.data['lambs_'].softmax(dim=-1).cumsum(dim=-1)},\n",
    "            ntype='n2'\n",
    "        )\n",
    "        \n",
    "        g.apply_nodes(\n",
    "            lambda node: {'lambs': node.data['lambs_'].softmax(dim=-1).cumsum(dim=-1)},\n",
    "            ntype='n3'\n",
    "        )\n",
    "        \n",
    "        return g"
   ]
  },
  {
   "cell_type": "code",
   "execution_count": 5,
   "metadata": {},
   "outputs": [
    {
     "name": "stderr",
     "output_type": "stream",
     "text": [
      "/Users/wangy1/anaconda3/envs/pinot/lib/python3.7/site-packages/dgl/base.py:25: UserWarning: Currently adjacency_matrix() returns a matrix with destination as rows by default.  In 0.5 the result will have source as rows (i.e. transpose=True)\n",
      "  warnings.warn(msg, warn_type)\n"
     ]
    },
    {
     "data": {
      "text/plain": [
       "<espaloma.graphs.graph.Graph at 0x135db0990>"
      ]
     },
     "execution_count": 5,
     "metadata": {},
     "output_type": "execute_result"
    }
   ],
   "source": [
    "g = esp.Graph('CC')\n",
    "esp.graphs.LegacyForceField('smirnoff99Frosst').parametrize(g)\n"
   ]
  },
  {
   "cell_type": "code",
   "execution_count": 6,
   "metadata": {},
   "outputs": [],
   "source": [
    "\n",
    "layer = esp.nn.dgl_legacy.gn()\n",
    "\n",
    "representation = esp.nn.Sequential(\n",
    "    layer,\n",
    "    [32, 'tanh', 32, 'tanh', 32, 'tanh'],\n",
    ")\n",
    "\n",
    "readout = esp.nn.readout.janossy.JanossyPooling(\n",
    "    in_features=32,\n",
    "    config=[32, 'tanh', 32],\n",
    "    out_features={\n",
    "        1: {'log_sigma': 1},\n",
    "        2: {'h': 32},\n",
    "        3: {'h': 32},\n",
    "    }\n",
    ")\n",
    "\n",
    "node_rnn = NodeRNN()\n",
    "\n",
    "lambda_constraint = LambdaConstraint()\n",
    "\n",
    "net = torch.nn.Sequential(\n",
    "    representation,\n",
    "    readout,\n",
    "    node_rnn,\n",
    "    lambda_constraint,\n",
    ")"
   ]
  },
  {
   "cell_type": "code",
   "execution_count": 7,
   "metadata": {},
   "outputs": [],
   "source": [
    "def f(x, idx, x_init_distribution):\n",
    "    \"\"\" Energy function. \"\"\"\n",
    "    # the first step, return the negative log prob as energy\n",
    "    if idx == 0: \n",
    "        return -x_init_distribution.log_prob(x).sum(\n",
    "            dim=(0, 2), # sum across nodes and space dimension\n",
    "        )\n",
    "    \n",
    "    # the last step, return the target energy\n",
    "    if idx == 49:\n",
    "        # assign variable to xyz\n",
    "        g.nodes['n1'].data['xyz'] = x\n",
    "        \n",
    "        # calculate geometries\n",
    "        esp.mm.geometry.geometry_in_graph(g.heterograph)\n",
    "        \n",
    "        # calculate energies\n",
    "        esp.mm.energy.energy_in_graph(g.heterograph, suffix='_ref')\n",
    "        \n",
    "        # only return bond and angle energy\n",
    "        # (number_of_samples, )\n",
    "        return 1e-3 * (g.nodes['n2'].data['u_ref'].sum(dim=0) + g.nodes['n3'].data['u_ref'].sum(dim=0))\n",
    "\n",
    "    \n",
    "    # same logic here,\n",
    "    # only with biased potentials\n",
    "    g.nodes['n1'].data['xyz'] = x\n",
    "    esp.mm.geometry.geometry_in_graph(g.heterograph)\n",
    "    esp.mm.energy.energy_in_graph(g.heterograph, suffix='_ref')\n",
    "\n",
    "    g.heterograph.apply_nodes(\n",
    "        lambda node: {'u': node.data['u_ref'] * node.data['lambs'][:, idx-1][:, None]},\n",
    "        ntype='n2'\n",
    "    )\n",
    "\n",
    "    g.heterograph.apply_nodes(\n",
    "        lambda node: {'u': node.data['u_ref'] * node.data['lambs'][:, idx-1][:, None]},\n",
    "        ntype='n3'\n",
    "    )\n",
    "\n",
    "    return 1e-3 * (g.nodes['n2'].data['u'].sum(dim=0) + g.nodes['n3'].data['u'].sum(dim=0))\n",
    "\n"
   ]
  },
  {
   "cell_type": "code",
   "execution_count": 8,
   "metadata": {},
   "outputs": [],
   "source": [
    "\n",
    "def loss():\n",
    "    \"\"\" The loss function for the neural network parameters. \"\"\"\n",
    "    # parametrize the graph in-place\n",
    "    net(g.heterograph)\n",
    "    \n",
    "    # the scale of the initial distribution is parametrized neurally\n",
    "    scale = g.nodes['n1'].data['log_sigma'].exp()[:, None, :].repeat(1, 128, 3)\n",
    "    \n",
    "    # construct the initial distribution\n",
    "    x_init_distribution = torch.distributions.normal.Normal(\n",
    "        loc=torch.zeros(\n",
    "            g.heterograph.number_of_nodes('n1'),\n",
    "            128,\n",
    "            3\n",
    "        ),\n",
    "        scale=scale,\n",
    "    )\n",
    "    \n",
    "    # sample one for initial conformation\n",
    "    x = x_init_distribution.sample()\n",
    "    x.requires_grad = True\n",
    "\n",
    "    # initialize the momentum\n",
    "    q = torch.zeros_like(x)\n",
    "\n",
    "    # here we record the entire trajectory since the computation graph\n",
    "    # is always needed for autograd\n",
    "    xs = [x]\n",
    "    qs = [q]\n",
    "    \n",
    "    # initialize work\n",
    "    # this broadcasts to (batch_size, )\n",
    "    works = 0.0\n",
    "    \n",
    "    # loop through lambda schedules\n",
    "    for idx in range(1, 50):\n",
    "        x = xs[-1]\n",
    "        q = qs[-1]\n",
    "\n",
    "        # calculate old and new energy\n",
    "        energy_old = f(x, idx-1, x_init_distribution=x_init_distribution)\n",
    "        energy_new = f(x, idx, x_init_distribution=x_init_distribution)\n",
    "\n",
    "        # calculate gradient \n",
    "        x_grad = torch.autograd.grad(\n",
    "            energy_new.sum(),\n",
    "            [x],\n",
    "            create_graph=True,\n",
    "        )[0]\n",
    "\n",
    "        # integrate\n",
    "        xs, qs = euler_method(xs, qs, x_grad)\n",
    "        \n",
    "        # calculate works\n",
    "        works += energy_new - energy_old\n",
    "        \n",
    "    return works.std()\n",
    "\n"
   ]
  },
  {
   "cell_type": "code",
   "execution_count": 9,
   "metadata": {
    "scrolled": true
   },
   "outputs": [
    {
     "name": "stderr",
     "output_type": "stream",
     "text": [
      "/Users/wangy1/anaconda3/envs/pinot/lib/python3.7/site-packages/torch/nn/functional.py:1340: UserWarning: nn.functional.tanh is deprecated. Use torch.tanh instead.\n",
      "  warnings.warn(\"nn.functional.tanh is deprecated. Use torch.tanh instead.\")\n"
     ]
    },
    {
     "name": "stdout",
     "output_type": "stream",
     "text": [
      "tensor(3171.0183, grad_fn=<StdBackward0>)\n",
      "tensor(2880.8140, grad_fn=<StdBackward0>)\n",
      "tensor(2234.9519, grad_fn=<StdBackward0>)\n",
      "tensor(2618.9341, grad_fn=<StdBackward0>)\n",
      "tensor(2217.8259, grad_fn=<StdBackward0>)\n",
      "tensor(1977.9556, grad_fn=<StdBackward0>)\n",
      "tensor(1411.0784, grad_fn=<StdBackward0>)\n",
      "tensor(1086.5059, grad_fn=<StdBackward0>)\n",
      "tensor(912.4058, grad_fn=<StdBackward0>)\n",
      "tensor(747.5528, grad_fn=<StdBackward0>)\n",
      "tensor(676.6880, grad_fn=<StdBackward0>)\n",
      "tensor(549.1262, grad_fn=<StdBackward0>)\n",
      "tensor(470.7734, grad_fn=<StdBackward0>)\n",
      "tensor(331.7898, grad_fn=<StdBackward0>)\n",
      "tensor(304.4594, grad_fn=<StdBackward0>)\n",
      "tensor(225.7999, grad_fn=<StdBackward0>)\n",
      "tensor(175.3620, grad_fn=<StdBackward0>)\n",
      "tensor(148.0535, grad_fn=<StdBackward0>)\n",
      "tensor(97.2881, grad_fn=<StdBackward0>)\n",
      "tensor(87.0988, grad_fn=<StdBackward0>)\n",
      "tensor(68.4592, grad_fn=<StdBackward0>)\n",
      "tensor(48.9367, grad_fn=<StdBackward0>)\n",
      "tensor(33.5327, grad_fn=<StdBackward0>)\n",
      "tensor(20.1644, grad_fn=<StdBackward0>)\n",
      "tensor(14.4366, grad_fn=<StdBackward0>)\n",
      "tensor(8.6490, grad_fn=<StdBackward0>)\n",
      "tensor(4.3210, grad_fn=<StdBackward0>)\n",
      "tensor(2.9388, grad_fn=<StdBackward0>)\n",
      "tensor(2.7002, grad_fn=<StdBackward0>)\n",
      "tensor(2.9028, grad_fn=<StdBackward0>)\n"
     ]
    }
   ],
   "source": [
    "optimizer = torch.optim.Adam(net.parameters(), 1e-3)\n",
    "losses = []\n",
    "for _ in range(30):\n",
    "    optimizer.zero_grad()\n",
    "    def l():\n",
    "        _loss = loss()\n",
    "        _loss.backward(create_graph=True, retain_graph=True)\n",
    "        print(_loss)\n",
    "        losses.append(_loss.detach().numpy())\n",
    "        return _loss\n",
    "    optimizer.step(l)\n",
    "\n"
   ]
  },
  {
   "cell_type": "markdown",
   "metadata": {},
   "source": [
    "# analysis"
   ]
  },
  {
   "cell_type": "code",
   "execution_count": 21,
   "metadata": {},
   "outputs": [
    {
     "data": {
      "text/plain": [
       "Text(0, 0.5, 'Work std')"
      ]
     },
     "execution_count": 21,
     "metadata": {},
     "output_type": "execute_result"
    },
    {
     "data": {
      "image/png": "[encoded data removed]",
      "text/plain": [
       "<Figure size 432x288 with 1 Axes>"
      ]
     },
     "metadata": {
      "needs_background": "light"
     },
     "output_type": "display_data"
    }
   ],
   "source": [
    "from matplotlib import pyplot as plt\n",
    "plt.plot(losses)\n",
    "plt.xlabel('Epoch')\n",
    "plt.ylabel('Work std')\n"
   ]
  },
  {
   "cell_type": "code",
   "execution_count": 23,
   "metadata": {},
   "outputs": [
    {
     "data": {
      "text/plain": [
       "Text(0.5, 1.0, 'Lambda Schedule for the first bond.')"
      ]
     },
     "execution_count": 23,
     "metadata": {},
     "output_type": "execute_result"
    },
    {
     "data": {
      "image/png": "[encoded data removed]",
      "text/plain": [
       "<Figure size 432x288 with 1 Axes>"
      ]
     },
     "metadata": {
      "needs_background": "light"
     },
     "output_type": "display_data"
    }
   ],
   "source": [
    "from matplotlib import pyplot as plt\n",
    "plt.plot(g.nodes['n2'].data['lambs'][0].detach())\n",
    "plt.xlabel('Steps')\n",
    "plt.ylabel('$\\lambda$')\n",
    "plt.title('Lambda Schedule for the first bond.')"
   ]
  },
  {
   "cell_type": "code",
   "execution_count": 22,
   "metadata": {},
   "outputs": [
    {
     "data": {
      "text/plain": [
       "Text(0.5, 1.0, 'Lambda Schedule for the first angle.')"
      ]
     },
     "execution_count": 22,
     "metadata": {},
     "output_type": "execute_result"
    },
    {
     "data": {
      "image/png": "[encoded data removed]",
      "text/plain": [
       "<Figure size 432x288 with 1 Axes>"
      ]
     },
     "metadata": {
      "needs_background": "light"
     },
     "output_type": "display_data"
    }
   ],
   "source": [
    "plt.plot(g.nodes['n3'].data['lambs'][0].detach())\n",
    "plt.xlabel('Steps')\n",
    "plt.ylabel('$\\lambda$')\n",
    "plt.title('Lambda Schedule for the first angle.')"
   ]
  },
  {
   "cell_type": "code",
   "execution_count": 18,
   "metadata": {},
   "outputs": [
    {
     "data": {
      "application/vnd.jupyter.widget-view+json": {
       "model_id": "e0abc3524da645c7a043f5b25b9b631a",
       "version_major": 2,
       "version_minor": 0
      },
      "text/plain": [
       "NGLWidget()"
      ]
     },
     "metadata": {},
     "output_type": "display_data"
    }
   ],
   "source": [
    "import nglview as nv\n",
    "from rdkit.Geometry import Point3D\n",
    "from rdkit import Chem\n",
    "from rdkit.Chem import AllChem\n",
    "\n",
    "conf_idx = 0\n",
    "\n",
    "mol = g.mol.to_rdkit()\n",
    "AllChem.EmbedMolecule(mol)\n",
    "conf = mol.GetConformer()\n",
    "x = g.nodes['n1'].data['xyz'].detach().numpy()\n",
    "for idx_atom in range(mol.GetNumAtoms()):\n",
    "    conf.SetAtomPosition(\n",
    "        idx_atom,\n",
    "        Point3D(\n",
    "            float(x[idx_atom, conf_idx, 0]),\n",
    "            float(x[idx_atom, conf_idx, 1]),\n",
    "            float(x[idx_atom, conf_idx, 2]),\n",
    "        ))\n",
    "    \n",
    "nv.show_rdkit(mol)"
   ]
  },
  {
   "cell_type": "code",
   "execution_count": null,
   "metadata": {},
   "outputs": [],
   "source": []
  }
 ],
 "metadata": {
  "kernelspec": {
   "display_name": "Python 3",
   "language": "python",
   "name": "python3"
  },
  "language_info": {
   "codemirror_mode": {
    "name": "ipython",
    "version": 3
   },
   "file_extension": ".py",
   "mimetype": "text/x-python",
   "name": "python",
   "nbconvert_exporter": "python",
   "pygments_lexer": "ipython3",
   "version": "3.7.6"
  }
 },
 "nbformat": 4,
 "nbformat_minor": 4
}
