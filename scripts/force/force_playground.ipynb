{
 "cells": [
  {
   "cell_type": "code",
   "execution_count": 27,
   "metadata": {},
   "outputs": [
    {
     "name": "stdout",
     "output_type": "stream",
     "text": [
      "The autoreload extension is already loaded. To reload it, use:\n",
      "  %reload_ext autoreload\n"
     ]
    }
   ],
   "source": [
    "import torch\n",
    "import numpy as np\n",
    "%load_ext autoreload\n",
    "%autoreload 2\n",
    "import espaloma as esp"
   ]
  },
  {
   "cell_type": "code",
   "execution_count": 28,
   "metadata": {},
   "outputs": [
    {
     "data": {
      "text/plain": [
       "'1.4.0'"
      ]
     },
     "execution_count": 28,
     "metadata": {},
     "output_type": "execute_result"
    }
   ],
   "source": [
    "torch.__version__"
   ]
  },
  {
   "cell_type": "code",
   "execution_count": 29,
   "metadata": {},
   "outputs": [
    {
     "name": "stderr",
     "output_type": "stream",
     "text": [
      "/Users/wangy1/anaconda3/envs/pinot/lib/python3.7/site-packages/dgl/base.py:25: UserWarning: Currently adjacency_matrix() returns a matrix with destination as rows by default.  In 0.5 the result will have source as rows (i.e. transpose=True)\n",
      "  warnings.warn(msg, warn_type)\n",
      "/Users/wangy1/anaconda3/envs/pinot/lib/python3.7/site-packages/torch/nn/functional.py:1340: UserWarning: nn.functional.tanh is deprecated. Use torch.tanh instead.\n",
      "  warnings.warn(\"nn.functional.tanh is deprecated. Use torch.tanh instead.\")\n"
     ]
    },
    {
     "data": {
      "text/plain": [
       "Graph(num_nodes={'n1': 12, 'n2': 24, 'n3': 36, 'n4': 48, 'nonbonded': 6, 'onefour': 48, 'g': 1},\n",
       "      num_edges={('n1', 'n1_neighbors_n1', 'n1'): 24, ('n1', 'n1_as_0_in_n2', 'n2'): 24, ('n2', 'n2_has_0_n1', 'n1'): 24, ('n1', 'n1_as_1_in_n2', 'n2'): 24, ('n2', 'n2_has_1_n1', 'n1'): 24, ('n1', 'n1_as_0_in_n3', 'n3'): 36, ('n3', 'n3_has_0_n1', 'n1'): 36, ('n1', 'n1_as_1_in_n3', 'n3'): 36, ('n3', 'n3_has_1_n1', 'n1'): 36, ('n1', 'n1_as_2_in_n3', 'n3'): 36, ('n3', 'n3_has_2_n1', 'n1'): 36, ('n1', 'n1_as_0_in_n4', 'n4'): 48, ('n4', 'n4_has_0_n1', 'n1'): 48, ('n1', 'n1_as_1_in_n4', 'n4'): 48, ('n4', 'n4_has_1_n1', 'n1'): 48, ('n1', 'n1_as_2_in_n4', 'n4'): 48, ('n4', 'n4_has_2_n1', 'n1'): 48, ('n1', 'n1_as_3_in_n4', 'n4'): 48, ('n4', 'n4_has_3_n1', 'n1'): 48, ('n2', 'n2_as_0_in_n3', 'n3'): 36, ('n3', 'n3_has_0_n2', 'n2'): 36, ('n2', 'n2_as_1_in_n3', 'n3'): 36, ('n3', 'n3_has_1_n2', 'n2'): 36, ('n2', 'n2_as_0_in_n4', 'n4'): 48, ('n4', 'n4_has_0_n2', 'n2'): 48, ('n2', 'n2_as_1_in_n4', 'n4'): 48, ('n4', 'n4_has_1_n2', 'n2'): 48, ('n2', 'n2_as_2_in_n4', 'n4'): 48, ('n4', 'n4_has_2_n2', 'n2'): 48, ('n3', 'n3_as_0_in_n4', 'n4'): 48, ('n4', 'n4_has_0_n3', 'n3'): 48, ('n3', 'n3_as_1_in_n4', 'n4'): 48, ('n4', 'n4_has_1_n3', 'n3'): 48, ('nonbonded', 'nonbonded_has_0_n1', 'n1'): 6, ('n1', 'n1_as_0_in_nonbonded', 'nonbonded'): 6, ('nonbonded', 'nonbonded_has_1_n1', 'n1'): 6, ('n1', 'n1_as_1_in_nonbonded', 'nonbonded'): 6, ('onefour', 'onefour_has_0_n1', 'n1'): 48, ('n1', 'n1_as_0_in_onefour', 'onefour'): 48, ('onefour', 'onefour_has_1_n1', 'n1'): 48, ('n1', 'n1_as_1_in_onefour', 'onefour'): 48, ('n1', 'n1_in_g', 'g'): 12, ('g', 'g_has_n1', 'n1'): 12, ('n2', 'n2_in_g', 'g'): 24, ('g', 'g_has_n2', 'n2'): 24, ('n3', 'n3_in_g', 'g'): 36, ('g', 'g_has_n3', 'n3'): 36, ('n4', 'n4_in_g', 'g'): 48, ('g', 'g_has_n4', 'n4'): 48, ('nonbonded', 'nonbonded_in_g', 'g'): 6, ('g', 'g_has_nonbonded', 'nonbonded'): 6, ('onefour', 'onefour_in_g', 'g'): 48, ('g', 'g_has_onefour', 'onefour'): 48},\n",
       "      metagraph=[('n1', 'n1'), ('n1', 'n2'), ('n1', 'n2'), ('n1', 'n3'), ('n1', 'n3'), ('n1', 'n3'), ('n1', 'n4'), ('n1', 'n4'), ('n1', 'n4'), ('n1', 'n4'), ('n1', 'nonbonded'), ('n1', 'nonbonded'), ('n1', 'onefour'), ('n1', 'onefour'), ('n1', 'g'), ('n2', 'n1'), ('n2', 'n1'), ('n2', 'n3'), ('n2', 'n3'), ('n2', 'n4'), ('n2', 'n4'), ('n2', 'n4'), ('n2', 'g'), ('n3', 'n1'), ('n3', 'n1'), ('n3', 'n1'), ('n3', 'n2'), ('n3', 'n2'), ('n3', 'n4'), ('n3', 'n4'), ('n3', 'g'), ('n4', 'n1'), ('n4', 'n1'), ('n4', 'n1'), ('n4', 'n1'), ('n4', 'n2'), ('n4', 'n2'), ('n4', 'n2'), ('n4', 'n3'), ('n4', 'n3'), ('n4', 'g'), ('nonbonded', 'n1'), ('nonbonded', 'n1'), ('nonbonded', 'g'), ('onefour', 'n1'), ('onefour', 'n1'), ('onefour', 'g'), ('g', 'n1'), ('g', 'n2'), ('g', 'n3'), ('g', 'n4'), ('g', 'nonbonded'), ('g', 'onefour')])"
      ]
     },
     "execution_count": 29,
     "metadata": {},
     "output_type": "execute_result"
    }
   ],
   "source": [
    "g = esp.Graph('c1ccccc1')\n",
    "\n",
    "forcefield = esp.graphs.legacy_force_field.LegacyForceField(\n",
    "    'smirnoff99Frosst'\n",
    ")\n",
    "\n",
    "g = forcefield.parametrize(g)\n",
    "\n",
    "from espaloma.data.md import MoleculeVacuumSimulation\n",
    "\n",
    "simulation = MoleculeVacuumSimulation(\n",
    "        n_samples=10, n_steps_per_sample=10\n",
    ")\n",
    "\n",
    "g = simulation.run(g)\n",
    "\n",
    "# layer\n",
    "layer = esp.nn.layers.dgl_legacy.gn()\n",
    "\n",
    "# representation\n",
    "representation = esp.nn.Sequential(layer, [32, 'tanh', 32, 'tanh', 32, 'tanh'])\n",
    "\n",
    "readout = esp.nn.readout.janossy.JanossyPooling(\n",
    "    in_features=32, config=[32, 'tanh'],\n",
    ")\n",
    "\n",
    "\n",
    "net = torch.nn.Sequential(\n",
    "        representation, \n",
    "        readout,\n",
    "        esp.mm.geometry.GeometryInGraph(),\n",
    "        esp.mm.energy.EnergyInGraph(),\n",
    "        esp.mm.energy.EnergyInGraph(suffix='_ref'),\n",
    ")\n",
    "\n",
    "\n",
    "net(g.heterograph)\n"
   ]
  },
  {
   "cell_type": "code",
   "execution_count": 30,
   "metadata": {},
   "outputs": [],
   "source": [
    "force = torch.autograd.grad(\n",
    "    g.nodes['n2'].data['u'].sum(),\n",
    "    g.nodes['n1'].data['xyz'],\n",
    "    create_graph=True,\n",
    "    retain_graph=True,\n",
    ")[0]\n"
   ]
  },
  {
   "cell_type": "code",
   "execution_count": 31,
   "metadata": {},
   "outputs": [
    {
     "name": "stdout",
     "output_type": "stream",
     "text": [
      "None\n"
     ]
    }
   ],
   "source": [
    "print(force.grad_fn)"
   ]
  },
  {
   "cell_type": "code",
   "execution_count": null,
   "metadata": {},
   "outputs": [],
   "source": []
  }
 ],
 "metadata": {
  "kernelspec": {
   "display_name": "Python 3",
   "language": "python",
   "name": "python3"
  },
  "language_info": {
   "codemirror_mode": {
    "name": "ipython",
    "version": 3
   },
   "file_extension": ".py",
   "mimetype": "text/x-python",
   "name": "python",
   "nbconvert_exporter": "python",
   "pygments_lexer": "ipython3",
   "version": "3.7.6"
  }
 },
 "nbformat": 4,
 "nbformat_minor": 4
}
