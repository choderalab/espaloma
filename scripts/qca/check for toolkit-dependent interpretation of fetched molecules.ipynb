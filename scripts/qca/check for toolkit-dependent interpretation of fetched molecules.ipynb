{
 "cells": [
  {
   "cell_type": "code",
   "execution_count": 1,
   "metadata": {},
   "outputs": [
    {
     "data": {
      "application/vnd.jupyter.widget-view+json": {
       "model_id": "7714616f90e04bbbb7825560efa84ac7",
       "version_major": 2,
       "version_minor": 0
      },
      "text/plain": []
     },
     "metadata": {},
     "output_type": "display_data"
    }
   ],
   "source": [
    "from dataset_selection import optimization_datasets, dataset_type\n",
    "import pandas as pd\n",
    "import qcportal\n",
    "from openforcefield.topology import Molecule\n",
    "client = qcportal.FractalClient()"
   ]
  },
  {
   "cell_type": "code",
   "execution_count": 2,
   "metadata": {},
   "outputs": [],
   "source": [
    "from typing import List, Dict, Tuple\n",
    "def compare_smiles(\n",
    "    df: pd.DataFrame,\n",
    "    ds: qcportal.collections.optimization_dataset.OptimizationDataset,\n",
    "    record_names: List[str]\n",
    ") -> Tuple[Dict[str, Tuple[str, str]], Dict[str, Exception]]:\n",
    "    \"\"\"loop over all record_names, and compare:\n",
    "    * the offmol that was fetched remotely and saved in df.offmol[record_name]\n",
    "    * the offmol that is returned by Molecule.from_qcschema(ds.get_entry(record_name))\n",
    "    by checking that offmol.to_smiles() is the same string in both cases\n",
    "    \"\"\"\n",
    "    \n",
    "    mismatches = dict()\n",
    "    exceptions = dict()\n",
    "    \n",
    "    for record_name in record_names:\n",
    "        offmol_fetched_remotely = df.offmol[record_name]\n",
    "        offmol_fetched_locally = Molecule.from_qcschema(ds.get_entry(record_name))\n",
    "    \n",
    "        try:\n",
    "            match = (offmol_fetched_remotely == offmol_fetched_remotely)\n",
    "            if not match:\n",
    "                mismatches[record_name] = (offmol_fetched_remotely, offmol_fetched_remotely)\n",
    "        except Exception as e:\n",
    "            exceptions[record_name] = e\n",
    "    return mismatches, exceptions"
   ]
  },
  {
   "cell_type": "code",
   "execution_count": 3,
   "metadata": {},
   "outputs": [
    {
     "name": "stdout",
     "output_type": "stream",
     "text": [
      "Roche\n",
      "# mismatches: 0\n",
      "# exceptions: 0\n",
      "\n",
      "Coverage\n",
      "# mismatches: 0\n",
      "# exceptions: 2\n",
      "\n",
      "Pfizer\n",
      "# mismatches: 0\n",
      "# exceptions: 0\n",
      "\n",
      "eMolecules\n",
      "# mismatches: 0\n",
      "# exceptions: 0\n",
      "\n",
      "Bayer\n",
      "# mismatches: 0\n",
      "# exceptions: 0\n",
      "\n"
     ]
    }
   ],
   "source": [
    "all_mismatches_and_exceptions = dict()\n",
    "for name in optimization_datasets:\n",
    "    print(name)\n",
    "    path_to_h5 = f'../../espaloma/data/qca/{name}.h5'\n",
    "    df = pd.read_hdf(path_to_h5)\n",
    "    ds = client.get_collection(dataset_type, optimization_datasets[name])\n",
    "    m, e = compare_smiles(df, ds, df.index)\n",
    "    all_mismatches_and_exceptions[name] = (m, e)\n",
    "    print(f'# mismatches: {len(m)}')\n",
    "    print(f'# exceptions: {len(e)}\\n')"
   ]
  },
  {
   "cell_type": "code",
   "execution_count": 4,
   "metadata": {
    "scrolled": false
   },
   "outputs": [
    {
     "name": "stdout",
     "output_type": "stream",
     "text": [
      "Roche\n",
      "Roche set (0 unique problematic mols, affecting 0 total records)\n",
      "----------------------------------------------------------------------------------------------------\n",
      "\n",
      "\n",
      "Coverage\n",
      "Coverage set (0 unique problematic mols, affecting 0 total records)\n",
      "----------------------------------------------------------------------------------------------------\n",
      "\n",
      "\n",
      "Pfizer\n",
      "Pfizer set (0 unique problematic mols, affecting 0 total records)\n",
      "----------------------------------------------------------------------------------------------------\n",
      "\n",
      "\n",
      "eMolecules\n",
      "eMolecules set (0 unique problematic mols, affecting 0 total records)\n",
      "----------------------------------------------------------------------------------------------------\n",
      "\n",
      "\n",
      "Bayer\n",
      "Bayer set (0 unique problematic mols, affecting 0 total records)\n",
      "----------------------------------------------------------------------------------------------------\n",
      "\n",
      "\n"
     ]
    }
   ],
   "source": [
    "for name in optimization_datasets:\n",
    "    print(name)\n",
    "    mismatches = all_mismatches_and_exceptions[name][0]\n",
    "    \n",
    "    unique_mismatches = set(mismatches.values())\n",
    "    print(f'{name} set ({len(unique_mismatches)} unique problematic mols, affecting {len(mismatches)} total records)')\n",
    "    \n",
    "    associated_records = {m: [r for r in mismatches if mismatches[r] == m] for m in unique_mismatches}\n",
    "\n",
    "    for mismatch in unique_mismatches:\n",
    "        records = associated_records[mismatch]\n",
    "        print(f'molecule associated with the following {len(records)} records:')\n",
    "        print(records)\n",
    "        remote, local = mismatch\n",
    "        print(f'\\n\\tsmiles from remote (RDKit 2020.03.6): {remote}')\n",
    "        print(f'\\tsmiles from local (OpenEye 2020.1.0): {local}')\n",
    "        print('\\n')\n",
    "    \n",
    "    print('-'*100)\n",
    "    print('\\n')"
   ]
  },
  {
   "cell_type": "code",
   "execution_count": null,
   "metadata": {},
   "outputs": [],
   "source": []
  }
 ],
 "metadata": {
  "kernelspec": {
   "display_name": "Python [conda env:espaloma]",
   "language": "python",
   "name": "conda-env-espaloma-py"
  },
  "language_info": {
   "codemirror_mode": {
    "name": "ipython",
    "version": 3
   },
   "file_extension": ".py",
   "mimetype": "text/x-python",
   "name": "python",
   "nbconvert_exporter": "python",
   "pygments_lexer": "ipython3",
   "version": "3.7.8"
  }
 },
 "nbformat": 4,
 "nbformat_minor": 4
}
