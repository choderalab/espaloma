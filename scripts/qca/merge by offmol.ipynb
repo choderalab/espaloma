{
 "cells": [
  {
   "cell_type": "code",
   "execution_count": 1,
   "metadata": {},
   "outputs": [
    {
     "data": {
      "application/vnd.jupyter.widget-view+json": {
       "model_id": "c423660afe3042f4a1edb87c61caa21d",
       "version_major": 2,
       "version_minor": 0
      },
      "text/plain": []
     },
     "metadata": {},
     "output_type": "display_data"
    }
   ],
   "source": [
    "import numpy as np\n",
    "import pandas as pd\n",
    "\n",
    "dataset_names = ['Roche', 'Pfizer', 'eMolecules', 'Coverage', 'Bayer']\n",
    "\n",
    "name = dataset_names[0]\n",
    "path_to_h5 = f'../../espaloma/data/qca/{name}.h5'\n",
    "df = pd.read_hdf(path_to_h5)"
   ]
  },
  {
   "cell_type": "code",
   "execution_count": 2,
   "metadata": {},
   "outputs": [
    {
     "data": {
      "text/html": [
       "<div>\n",
       "<style scoped>\n",
       "    .dataframe tbody tr th:only-of-type {\n",
       "        vertical-align: middle;\n",
       "    }\n",
       "\n",
       "    .dataframe tbody tr th {\n",
       "        vertical-align: top;\n",
       "    }\n",
       "\n",
       "    .dataframe thead th {\n",
       "        text-align: right;\n",
       "    }\n",
       "</style>\n",
       "<table border=\"1\" class=\"dataframe\">\n",
       "  <thead>\n",
       "    <tr style=\"text-align: right;\">\n",
       "      <th></th>\n",
       "      <th>offmol</th>\n",
       "      <th>xyz</th>\n",
       "      <th>energies</th>\n",
       "      <th>gradients</th>\n",
       "    </tr>\n",
       "  </thead>\n",
       "  <tbody>\n",
       "    <tr>\n",
       "      <th>c1ccc(c(c1)c2c=cnc=c2)[n+](=o)[o-]-0</th>\n",
       "      <td>Molecule with name '' and SMILES '[H]c1c(c(c(c...</td>\n",
       "      <td>[[[8.64368188, -0.36839034, -1.642932], [8.542...</td>\n",
       "      <td>[-685.1245763393297, -685.125632691076, -685.1...</td>\n",
       "      <td>[[[-0.0005868442762516273, -0.0009118189676851...</td>\n",
       "    </tr>\n",
       "    <tr>\n",
       "      <th>c1ccc(c(c1)c2c=cnc=c2)[n+](=o)[o-]-1</th>\n",
       "      <td>Molecule with name '' and SMILES '[H]c1c(c(c(c...</td>\n",
       "      <td>[[[8.64368188, -0.36839034, -1.642932], [8.542...</td>\n",
       "      <td>[-685.1168302849942, -685.1251284611758, -685....</td>\n",
       "      <td>[[[-0.0029031063779140056, 0.00088637924910335...</td>\n",
       "    </tr>\n",
       "    <tr>\n",
       "      <th>c1cnc(nc1)c2ncco2-0</th>\n",
       "      <td>Molecule with name '' and SMILES '[H]c1c(nc(nc...</td>\n",
       "      <td>[[[1.11135101, 1.68283819, 3.52634778], [0.427...</td>\n",
       "      <td>[-509.2855426266222, -509.28644214015253, -509...</td>\n",
       "      <td>[[[-0.0038854577356293094, -0.0023258691569085...</td>\n",
       "    </tr>\n",
       "    <tr>\n",
       "      <th>cn1ccnc1c2ccccc2-0</th>\n",
       "      <td>Molecule with name '' and SMILES '[H]c1c(c(c(c...</td>\n",
       "      <td>[[[3.56240001, -1.95833547, -0.21248155], [5.5...</td>\n",
       "      <td>[-496.6661997769336, -496.6661031011264, -496....</td>\n",
       "      <td>[[[-0.0003726804546595755, 3.1808791622076245e...</td>\n",
       "    </tr>\n",
       "    <tr>\n",
       "      <th>cn(c)s(=o)(=o)c1ncco1-0</th>\n",
       "      <td>Molecule with name '' and SMILES '[H]C1=C(OC(=...</td>\n",
       "      <td>[[[-1.98090286, 6.84208296, 4.10496305], [-3.9...</td>\n",
       "      <td>[-928.6754897145471, -928.6807107448581, -928....</td>\n",
       "      <td>[[[0.014644098237170432, -0.007984321246469181...</td>\n",
       "    </tr>\n",
       "    <tr>\n",
       "      <th>...</th>\n",
       "      <td>...</td>\n",
       "      <td>...</td>\n",
       "      <td>...</td>\n",
       "      <td>...</td>\n",
       "    </tr>\n",
       "    <tr>\n",
       "      <th>c1ccc(c(c1)c#n)nc(=o)nc2ccccn2-0</th>\n",
       "      <td>Molecule with name '' and SMILES '[H]c1c(c(c(c...</td>\n",
       "      <td>[[[7.97378783, -1.16651899, 5.16631293], [3.55...</td>\n",
       "      <td>[-795.7726140630207, -795.7757536445863, -795....</td>\n",
       "      <td>[[[0.012503369954526649, 0.002427863961968043,...</td>\n",
       "    </tr>\n",
       "    <tr>\n",
       "      <th>c1ccc(c(c1)c#n)nc(=o)nc2ccccn2-1</th>\n",
       "      <td>Molecule with name '' and SMILES '[H]c1c(c(c(c...</td>\n",
       "      <td>[[[7.97378783, -1.16651899, 5.16631293], [3.55...</td>\n",
       "      <td>[-795.7823425237151, -795.7863967313793, -795....</td>\n",
       "      <td>[[[0.011935341650909703, 0.0023166709410819904...</td>\n",
       "    </tr>\n",
       "    <tr>\n",
       "      <th>c1ccc(c(c1)c#n)nc(=o)nc2ccccn2-2</th>\n",
       "      <td>Molecule with name '' and SMILES '[H]c1c(c(c(c...</td>\n",
       "      <td>[[[0.36880397, 1.48286377, 4.78434695], [3.751...</td>\n",
       "      <td>[-795.7605490505065, -795.764679823452, -795.7...</td>\n",
       "      <td>[[[-0.004108383263444142, 0.005581976997648781...</td>\n",
       "    </tr>\n",
       "    <tr>\n",
       "      <th>c1ccc(c(c1)c#n)nc(=o)nc2ccccn2-3</th>\n",
       "      <td>Molecule with name '' and SMILES '[H]c1c(c(c(c...</td>\n",
       "      <td>[[[1.88089532, -6.43620425, 4.83770013], [3.71...</td>\n",
       "      <td>[-795.76054659861, -795.7646771685934, -795.76...</td>\n",
       "      <td>[[[-0.0017513500670877718, -0.0067168657881853...</td>\n",
       "    </tr>\n",
       "    <tr>\n",
       "      <th>c1ccc(c(c1)c#n)nc(=o)nc2ccccn2-4</th>\n",
       "      <td>Molecule with name '' and SMILES '[H]c1c(c(c(c...</td>\n",
       "      <td>[[[7.97378783, -1.16651899, 5.16631293], [3.55...</td>\n",
       "      <td>[-795.783003217656, -795.7877624782882, -795.7...</td>\n",
       "      <td>[[[0.011220327124367317, 0.0021142502558744317...</td>\n",
       "    </tr>\n",
       "  </tbody>\n",
       "</table>\n",
       "<p>202 rows × 4 columns</p>\n",
       "</div>"
      ],
      "text/plain": [
       "                                                                                 offmol  \\\n",
       "c1ccc(c(c1)c2c=cnc=c2)[n+](=o)[o-]-0  Molecule with name '' and SMILES '[H]c1c(c(c(c...   \n",
       "c1ccc(c(c1)c2c=cnc=c2)[n+](=o)[o-]-1  Molecule with name '' and SMILES '[H]c1c(c(c(c...   \n",
       "c1cnc(nc1)c2ncco2-0                   Molecule with name '' and SMILES '[H]c1c(nc(nc...   \n",
       "cn1ccnc1c2ccccc2-0                    Molecule with name '' and SMILES '[H]c1c(c(c(c...   \n",
       "cn(c)s(=o)(=o)c1ncco1-0               Molecule with name '' and SMILES '[H]C1=C(OC(=...   \n",
       "...                                                                                 ...   \n",
       "c1ccc(c(c1)c#n)nc(=o)nc2ccccn2-0      Molecule with name '' and SMILES '[H]c1c(c(c(c...   \n",
       "c1ccc(c(c1)c#n)nc(=o)nc2ccccn2-1      Molecule with name '' and SMILES '[H]c1c(c(c(c...   \n",
       "c1ccc(c(c1)c#n)nc(=o)nc2ccccn2-2      Molecule with name '' and SMILES '[H]c1c(c(c(c...   \n",
       "c1ccc(c(c1)c#n)nc(=o)nc2ccccn2-3      Molecule with name '' and SMILES '[H]c1c(c(c(c...   \n",
       "c1ccc(c(c1)c#n)nc(=o)nc2ccccn2-4      Molecule with name '' and SMILES '[H]c1c(c(c(c...   \n",
       "\n",
       "                                                                                    xyz  \\\n",
       "c1ccc(c(c1)c2c=cnc=c2)[n+](=o)[o-]-0  [[[8.64368188, -0.36839034, -1.642932], [8.542...   \n",
       "c1ccc(c(c1)c2c=cnc=c2)[n+](=o)[o-]-1  [[[8.64368188, -0.36839034, -1.642932], [8.542...   \n",
       "c1cnc(nc1)c2ncco2-0                   [[[1.11135101, 1.68283819, 3.52634778], [0.427...   \n",
       "cn1ccnc1c2ccccc2-0                    [[[3.56240001, -1.95833547, -0.21248155], [5.5...   \n",
       "cn(c)s(=o)(=o)c1ncco1-0               [[[-1.98090286, 6.84208296, 4.10496305], [-3.9...   \n",
       "...                                                                                 ...   \n",
       "c1ccc(c(c1)c#n)nc(=o)nc2ccccn2-0      [[[7.97378783, -1.16651899, 5.16631293], [3.55...   \n",
       "c1ccc(c(c1)c#n)nc(=o)nc2ccccn2-1      [[[7.97378783, -1.16651899, 5.16631293], [3.55...   \n",
       "c1ccc(c(c1)c#n)nc(=o)nc2ccccn2-2      [[[0.36880397, 1.48286377, 4.78434695], [3.751...   \n",
       "c1ccc(c(c1)c#n)nc(=o)nc2ccccn2-3      [[[1.88089532, -6.43620425, 4.83770013], [3.71...   \n",
       "c1ccc(c(c1)c#n)nc(=o)nc2ccccn2-4      [[[7.97378783, -1.16651899, 5.16631293], [3.55...   \n",
       "\n",
       "                                                                               energies  \\\n",
       "c1ccc(c(c1)c2c=cnc=c2)[n+](=o)[o-]-0  [-685.1245763393297, -685.125632691076, -685.1...   \n",
       "c1ccc(c(c1)c2c=cnc=c2)[n+](=o)[o-]-1  [-685.1168302849942, -685.1251284611758, -685....   \n",
       "c1cnc(nc1)c2ncco2-0                   [-509.2855426266222, -509.28644214015253, -509...   \n",
       "cn1ccnc1c2ccccc2-0                    [-496.6661997769336, -496.6661031011264, -496....   \n",
       "cn(c)s(=o)(=o)c1ncco1-0               [-928.6754897145471, -928.6807107448581, -928....   \n",
       "...                                                                                 ...   \n",
       "c1ccc(c(c1)c#n)nc(=o)nc2ccccn2-0      [-795.7726140630207, -795.7757536445863, -795....   \n",
       "c1ccc(c(c1)c#n)nc(=o)nc2ccccn2-1      [-795.7823425237151, -795.7863967313793, -795....   \n",
       "c1ccc(c(c1)c#n)nc(=o)nc2ccccn2-2      [-795.7605490505065, -795.764679823452, -795.7...   \n",
       "c1ccc(c(c1)c#n)nc(=o)nc2ccccn2-3      [-795.76054659861, -795.7646771685934, -795.76...   \n",
       "c1ccc(c(c1)c#n)nc(=o)nc2ccccn2-4      [-795.783003217656, -795.7877624782882, -795.7...   \n",
       "\n",
       "                                                                              gradients  \n",
       "c1ccc(c(c1)c2c=cnc=c2)[n+](=o)[o-]-0  [[[-0.0005868442762516273, -0.0009118189676851...  \n",
       "c1ccc(c(c1)c2c=cnc=c2)[n+](=o)[o-]-1  [[[-0.0029031063779140056, 0.00088637924910335...  \n",
       "c1cnc(nc1)c2ncco2-0                   [[[-0.0038854577356293094, -0.0023258691569085...  \n",
       "cn1ccnc1c2ccccc2-0                    [[[-0.0003726804546595755, 3.1808791622076245e...  \n",
       "cn(c)s(=o)(=o)c1ncco1-0               [[[0.014644098237170432, -0.007984321246469181...  \n",
       "...                                                                                 ...  \n",
       "c1ccc(c(c1)c#n)nc(=o)nc2ccccn2-0      [[[0.012503369954526649, 0.002427863961968043,...  \n",
       "c1ccc(c(c1)c#n)nc(=o)nc2ccccn2-1      [[[0.011935341650909703, 0.0023166709410819904...  \n",
       "c1ccc(c(c1)c#n)nc(=o)nc2ccccn2-2      [[[-0.004108383263444142, 0.005581976997648781...  \n",
       "c1ccc(c(c1)c#n)nc(=o)nc2ccccn2-3      [[[-0.0017513500670877718, -0.0067168657881853...  \n",
       "c1ccc(c(c1)c#n)nc(=o)nc2ccccn2-4      [[[0.011220327124367317, 0.0021142502558744317...  \n",
       "\n",
       "[202 rows x 4 columns]"
      ]
     },
     "execution_count": 2,
     "metadata": {},
     "output_type": "execute_result"
    }
   ],
   "source": [
    "df"
   ]
  },
  {
   "cell_type": "markdown",
   "metadata": {},
   "source": [
    "#### Pick a random record name"
   ]
  },
  {
   "cell_type": "code",
   "execution_count": 3,
   "metadata": {},
   "outputs": [
    {
     "data": {
      "text/plain": [
       "'c1ccc(c(c1)c#n)nc(=o)nc2ccccn2-4'"
      ]
     },
     "execution_count": 3,
     "metadata": {},
     "output_type": "execute_result"
    }
   ],
   "source": [
    "key = df.index[-1]\n",
    "key"
   ]
  },
  {
   "cell_type": "code",
   "execution_count": 4,
   "metadata": {},
   "outputs": [
    {
     "data": {
      "image/png": "[encoded data removed]",
      "text/plain": [
       "<rdkit.Chem.rdchem.Mol at 0x7fe46d593530>"
      ]
     },
     "metadata": {},
     "output_type": "display_data"
    }
   ],
   "source": [
    "offmol = df.offmol[key]\n",
    "offmol"
   ]
  },
  {
   "cell_type": "markdown",
   "metadata": {},
   "source": [
    "#### Filter by offmol"
   ]
  },
  {
   "cell_type": "code",
   "execution_count": 5,
   "metadata": {},
   "outputs": [
    {
     "data": {
      "text/plain": [
       "c1ccc(c(c1)c2c=cnc=c2)[n+](=o)[o-]-0    False\n",
       "c1ccc(c(c1)c2c=cnc=c2)[n+](=o)[o-]-1    False\n",
       "c1cnc(nc1)c2ncco2-0                     False\n",
       "cn1ccnc1c2ccccc2-0                      False\n",
       "cn(c)s(=o)(=o)c1ncco1-0                 False\n",
       "                                        ...  \n",
       "c1ccc(c(c1)c#n)nc(=o)nc2ccccn2-0         True\n",
       "c1ccc(c(c1)c#n)nc(=o)nc2ccccn2-1         True\n",
       "c1ccc(c(c1)c#n)nc(=o)nc2ccccn2-2         True\n",
       "c1ccc(c(c1)c#n)nc(=o)nc2ccccn2-3         True\n",
       "c1ccc(c(c1)c#n)nc(=o)nc2ccccn2-4         True\n",
       "Name: offmol, Length: 202, dtype: bool"
      ]
     },
     "execution_count": 5,
     "metadata": {},
     "output_type": "execute_result"
    }
   ],
   "source": [
    "mask = df.offmol == offmol\n",
    "mask"
   ]
  },
  {
   "cell_type": "code",
   "execution_count": 6,
   "metadata": {},
   "outputs": [
    {
     "data": {
      "text/plain": [
       "c1ccc(c(c1)c#n)nc(=o)nc2ccccn2-0    [-795.7726140630207, -795.7757536445863, -795....\n",
       "c1ccc(c(c1)c#n)nc(=o)nc2ccccn2-1    [-795.7823425237151, -795.7863967313793, -795....\n",
       "c1ccc(c(c1)c#n)nc(=o)nc2ccccn2-2    [-795.7605490505065, -795.764679823452, -795.7...\n",
       "c1ccc(c(c1)c#n)nc(=o)nc2ccccn2-3    [-795.76054659861, -795.7646771685934, -795.76...\n",
       "c1ccc(c(c1)c#n)nc(=o)nc2ccccn2-4    [-795.783003217656, -795.7877624782882, -795.7...\n",
       "Name: energies, dtype: object"
      ]
     },
     "execution_count": 6,
     "metadata": {},
     "output_type": "execute_result"
    }
   ],
   "source": [
    "energies = df.energies[mask]\n",
    "energies"
   ]
  },
  {
   "cell_type": "markdown",
   "metadata": {},
   "source": [
    "#### Merge xyzs"
   ]
  },
  {
   "cell_type": "code",
   "execution_count": 7,
   "metadata": {},
   "outputs": [
    {
     "data": {
      "text/plain": [
       "(259, 28, 3)"
      ]
     },
     "execution_count": 7,
     "metadata": {},
     "output_type": "execute_result"
    }
   ],
   "source": [
    "xyz = np.vstack(df.xyz[mask])\n",
    "xyz.shape"
   ]
  },
  {
   "cell_type": "markdown",
   "metadata": {},
   "source": [
    "#### Merge energies"
   ]
  },
  {
   "cell_type": "code",
   "execution_count": 8,
   "metadata": {},
   "outputs": [
    {
     "data": {
      "text/plain": [
       "(259,)"
      ]
     },
     "execution_count": 8,
     "metadata": {},
     "output_type": "execute_result"
    }
   ],
   "source": [
    "energies = np.hstack(df.energies[mask])\n",
    "energies.shape"
   ]
  },
  {
   "cell_type": "markdown",
   "metadata": {},
   "source": [
    "#### Merge gradients"
   ]
  },
  {
   "cell_type": "code",
   "execution_count": 9,
   "metadata": {},
   "outputs": [
    {
     "data": {
      "text/plain": [
       "(259, 28, 3)"
      ]
     },
     "execution_count": 9,
     "metadata": {},
     "output_type": "execute_result"
    }
   ],
   "source": [
    "gradients = np.vstack(df.gradients[mask])\n",
    "gradients.shape"
   ]
  },
  {
   "cell_type": "code",
   "execution_count": null,
   "metadata": {},
   "outputs": [],
   "source": []
  }
 ],
 "metadata": {
  "kernelspec": {
   "display_name": "Python [conda env:espaloma]",
   "language": "python",
   "name": "conda-env-espaloma-py"
  },
  "language_info": {
   "codemirror_mode": {
    "name": "ipython",
    "version": 3
   },
   "file_extension": ".py",
   "mimetype": "text/x-python",
   "name": "python",
   "nbconvert_exporter": "python",
   "pygments_lexer": "ipython3",
   "version": "3.7.8"
  }
 },
 "nbformat": 4,
 "nbformat_minor": 4
}
