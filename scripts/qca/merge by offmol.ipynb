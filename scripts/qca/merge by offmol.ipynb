{
 "cells": [
  {
   "cell_type": "code",
   "execution_count": 2,
   "metadata": {},
   "outputs": [],
   "source": [
    "path_to_h5 = '../../espaloma/data/qca/Roche.h5'"
   ]
  },
  {
   "cell_type": "code",
   "execution_count": 3,
   "metadata": {},
   "outputs": [],
   "source": [
    "import pandas as pd"
   ]
  },
  {
   "cell_type": "code",
   "execution_count": 4,
   "metadata": {},
   "outputs": [
    {
     "data": {
      "application/vnd.jupyter.widget-view+json": {
       "model_id": "d2dfc6314736470fa164905d2ab531f7",
       "version_major": 2,
       "version_minor": 0
      },
      "text/plain": []
     },
     "metadata": {},
     "output_type": "display_data"
    }
   ],
   "source": [
    "df = pd.read_hdf(path_to_h5)"
   ]
  },
  {
   "cell_type": "code",
   "execution_count": 5,
   "metadata": {},
   "outputs": [
    {
     "data": {
      "text/plain": [
       "Index(['c1ccc(c(c1)c2c=cnc=c2)[n+](=o)[o-]-0',\n",
       "       'c1ccc(c(c1)c2c=cnc=c2)[n+](=o)[o-]-1', 'c1cnc(nc1)c2ncco2-0',\n",
       "       'cn1ccnc1c2ccccc2-0', 'cn(c)s(=o)(=o)c1ncco1-0',\n",
       "       'cn(c)s(=o)(=o)c1ncco1-1', 'c1ccnc(c1)c2ncco2-0', 'c1ccnc(c1)c2ncco2-1',\n",
       "       'cc1ccnn1c2ncccn2-0', 'cc1cccc(c1nc)oc-0'],\n",
       "      dtype='object')"
      ]
     },
     "execution_count": 5,
     "metadata": {},
     "output_type": "execute_result"
    }
   ],
   "source": [
    "keys = df.index\n",
    "keys[:10]"
   ]
  },
  {
   "cell_type": "code",
   "execution_count": null,
   "metadata": {},
   "outputs": [],
   "source": [
    "df.offmol[]"
   ]
  },
  {
   "cell_type": "code",
   "execution_count": 8,
   "metadata": {},
   "outputs": [],
   "source": [
    "import numpy as np\n",
    "\n",
    "smiles_dict = dict()\n",
    "for key in keys:\n",
    "    smiles_dict[key] = df.offmol[key].to_smiles()\n",
    "\n",
    "from collections import defaultdict\n",
    "\n",
    "smiles_to_record_names = defaultdict(lambda : [])\n",
    "\n",
    "for record_name in keys:\n",
    "    smi = smiles_dict[record_name]\n",
    "    smiles_to_record_names[smi].append(record_name)"
   ]
  },
  {
   "cell_type": "code",
   "execution_count": 9,
   "metadata": {},
   "outputs": [
    {
     "data": {
      "text/plain": [
       "'[H]c1c(c(c(c(c1[H])C#N)N([H])C(=O)N([H])c2c(c(c(c(n2)[H])[H])[H])[H])[H])[H]'"
      ]
     },
     "execution_count": 9,
     "metadata": {},
     "output_type": "execute_result"
    }
   ],
   "source": [
    "smi"
   ]
  },
  {
   "cell_type": "code",
   "execution_count": 10,
   "metadata": {},
   "outputs": [
    {
     "data": {
      "text/plain": [
       "['c1ccc(c(c1)c#n)nc(=o)nc2ccccn2-0',\n",
       " 'c1ccc(c(c1)c#n)nc(=o)nc2ccccn2-1',\n",
       " 'c1ccc(c(c1)c#n)nc(=o)nc2ccccn2-2',\n",
       " 'c1ccc(c(c1)c#n)nc(=o)nc2ccccn2-3',\n",
       " 'c1ccc(c(c1)c#n)nc(=o)nc2ccccn2-4']"
      ]
     },
     "execution_count": 10,
     "metadata": {},
     "output_type": "execute_result"
    }
   ],
   "source": [
    "rs = smiles_to_record_names[smi]\n",
    "rs"
   ]
  },
  {
   "cell_type": "code",
   "execution_count": 13,
   "metadata": {},
   "outputs": [
    {
     "data": {
      "text/plain": [
       "(259,)"
      ]
     },
     "execution_count": 13,
     "metadata": {},
     "output_type": "execute_result"
    }
   ],
   "source": [
    "energies = np.hstack([df.energies[r] for r in rs])\n",
    "energies.shape"
   ]
  },
  {
   "cell_type": "code",
   "execution_count": null,
   "metadata": {},
   "outputs": [],
   "source": []
  }
 ],
 "metadata": {
  "kernelspec": {
   "display_name": "Python [conda env:espaloma]",
   "language": "python",
   "name": "conda-env-espaloma-py"
  },
  "language_info": {
   "codemirror_mode": {
    "name": "ipython",
    "version": 3
   },
   "file_extension": ".py",
   "mimetype": "text/x-python",
   "name": "python",
   "nbconvert_exporter": "python",
   "pygments_lexer": "ipython3",
   "version": "3.7.8"
  }
 },
 "nbformat": 4,
 "nbformat_minor": 4
}
