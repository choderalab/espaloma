{
 "cells": [
  {
   "cell_type": "code",
   "execution_count": 1,
   "metadata": {},
   "outputs": [],
   "source": [
    "import numpy as np\n",
    "import pandas as pd\n",
    "from tqdm import tqdm\n",
    "\n",
    "dataset_names = ['Roche', 'Pfizer', 'eMolecules', 'Coverage', 'Bayer']"
   ]
  },
  {
   "cell_type": "markdown",
   "metadata": {},
   "source": [
    "#### Two records to skip for `Coverage`"
   ]
  },
  {
   "cell_type": "code",
   "execution_count": 2,
   "metadata": {},
   "outputs": [
    {
     "data": {
      "application/vnd.jupyter.widget-view+json": {
       "model_id": "a9dc5b5214b84eb0bfc94580e8d0f0b6",
       "version_major": 2,
       "version_minor": 0
      },
      "text/plain": []
     },
     "metadata": {},
     "output_type": "display_data"
    },
    {
     "data": {
      "text/plain": [
       "['c1[c@@h]2[c@@h]([c@h]2o)c[nh2+]1-0', 'c1c[nh+]c(cc1cl)[s@@](=o)[o-]-0']"
      ]
     },
     "execution_count": 2,
     "metadata": {},
     "output_type": "execute_result"
    }
   ],
   "source": [
    "name = 'Coverage'\n",
    "path_to_h5 = f'../../data/qca/{name}.h5'\n",
    "df = pd.read_hdf(path_to_h5)\n",
    "\n",
    "problem_records = [df.index[98], df.index[101]]\n",
    "problem_records"
   ]
  },
  {
   "cell_type": "code",
   "execution_count": 3,
   "metadata": {},
   "outputs": [],
   "source": [
    "coverage_mask = (df.index != problem_records[0]) * (df.index != problem_records[1])"
   ]
  },
  {
   "cell_type": "code",
   "execution_count": 4,
   "metadata": {},
   "outputs": [
    {
     "data": {
      "text/plain": [
       "(365, 363)"
      ]
     },
     "execution_count": 4,
     "metadata": {},
     "output_type": "execute_result"
    }
   ],
   "source": [
    "len(df), len(df[coverage_mask])"
   ]
  },
  {
   "cell_type": "markdown",
   "metadata": {},
   "source": [
    "Good, expecting that to be 2 less than the original dataset"
   ]
  },
  {
   "cell_type": "markdown",
   "metadata": {},
   "source": [
    "#### Extract relative energies"
   ]
  },
  {
   "cell_type": "code",
   "execution_count": 5,
   "metadata": {},
   "outputs": [],
   "source": [
    "from qcelemental import constants\n",
    "from simtk import unit\n",
    "\n",
    "report_unit = unit.kilocalorie_per_mole\n",
    "\n",
    "def to_kcal_mol(e):\n",
    "    return e * constants.hartree2kcalmol\n",
    "\n",
    "def to_relative_energies(es):\n",
    "    es = [to_kcal_mol(e) for e in es]\n",
    "    e_min = np.min(np.hstack(es))\n",
    "    es = [e - e_min for e in es]\n",
    "    return es\n",
    "\n",
    "\n",
    "def get_max_relative_energies(df):\n",
    "    \n",
    "    # TODO: can make this step faster\n",
    "    # [o.to_smiles() for o in df.offmol] # is much faster than set(df.offmol)\n",
    "    # since I think set() makes calls to is_isomorphic ?\n",
    "    unique_offmols = set(df.offmol)\n",
    "    \n",
    "    relative_energies: Dict[Molecule, List[np.ndarray]] = dict()\n",
    "    for offmol in tqdm(unique_offmols):\n",
    "        relative_energies[offmol] = to_relative_energies(df.energies[df.offmol == offmol])\n",
    "    max_relative_energies = [np.max(np.hstack(relative_energies[offmol])) for offmol in unique_offmols]\n",
    "    \n",
    "    return max_relative_energies"
   ]
  },
  {
   "cell_type": "code",
   "execution_count": 6,
   "metadata": {},
   "outputs": [
    {
     "ename": "Exception",
     "evalue": "Programming error: OpenEye atom stereochemistry assumptions failed.",
     "output_type": "error",
     "traceback": [
      "\u001b[0;31m---------------------------------------------------------------------------\u001b[0m",
      "\u001b[0;31mException\u001b[0m                                 Traceback (most recent call last)",
      "\u001b[0;32m<ipython-input-6-e0a5e5472110>\u001b[0m in \u001b[0;36m<module>\u001b[0;34m\u001b[0m\n\u001b[1;32m      1\u001b[0m \u001b[0;31m# note: exception encountered unless these two records are skipped (see https://github.com/choderalab/espaloma/pull/47#issuecomment-713753019)\u001b[0m\u001b[0;34m\u001b[0m\u001b[0;34m\u001b[0m\u001b[0;34m\u001b[0m\u001b[0m\n\u001b[0;32m----> 2\u001b[0;31m \u001b[0mget_max_relative_energies\u001b[0m\u001b[0;34m(\u001b[0m\u001b[0mdf\u001b[0m\u001b[0;34m)\u001b[0m\u001b[0;34m\u001b[0m\u001b[0;34m\u001b[0m\u001b[0m\n\u001b[0m",
      "\u001b[0;32m<ipython-input-5-2a9d1eed8bd8>\u001b[0m in \u001b[0;36mget_max_relative_energies\u001b[0;34m(df)\u001b[0m\n\u001b[1;32m     19\u001b[0m     \u001b[0;31m# [o.to_smiles() for o in df.offmol] # is much faster than set(df.offmol)\u001b[0m\u001b[0;34m\u001b[0m\u001b[0;34m\u001b[0m\u001b[0;34m\u001b[0m\u001b[0m\n\u001b[1;32m     20\u001b[0m     \u001b[0;31m# since I think set() makes calls to is_isomorphic ?\u001b[0m\u001b[0;34m\u001b[0m\u001b[0;34m\u001b[0m\u001b[0;34m\u001b[0m\u001b[0m\n\u001b[0;32m---> 21\u001b[0;31m     \u001b[0munique_offmols\u001b[0m \u001b[0;34m=\u001b[0m \u001b[0mset\u001b[0m\u001b[0;34m(\u001b[0m\u001b[0mdf\u001b[0m\u001b[0;34m.\u001b[0m\u001b[0moffmol\u001b[0m\u001b[0;34m)\u001b[0m\u001b[0;34m\u001b[0m\u001b[0;34m\u001b[0m\u001b[0m\n\u001b[0m\u001b[1;32m     22\u001b[0m \u001b[0;34m\u001b[0m\u001b[0m\n\u001b[1;32m     23\u001b[0m     \u001b[0mrelative_energies\u001b[0m\u001b[0;34m:\u001b[0m \u001b[0mDict\u001b[0m\u001b[0;34m[\u001b[0m\u001b[0mMolecule\u001b[0m\u001b[0;34m,\u001b[0m \u001b[0mList\u001b[0m\u001b[0;34m[\u001b[0m\u001b[0mnp\u001b[0m\u001b[0;34m.\u001b[0m\u001b[0mndarray\u001b[0m\u001b[0;34m]\u001b[0m\u001b[0;34m]\u001b[0m \u001b[0;34m=\u001b[0m \u001b[0mdict\u001b[0m\u001b[0;34m(\u001b[0m\u001b[0;34m)\u001b[0m\u001b[0;34m\u001b[0m\u001b[0;34m\u001b[0m\u001b[0m\n",
      "\u001b[0;32m~/anaconda3/envs/espaloma/lib/python3.7/site-packages/openforcefield/topology/molecule.py\u001b[0m in \u001b[0;36m__hash__\u001b[0;34m(self)\u001b[0m\n\u001b[1;32m   1747\u001b[0m         \u001b[0mstring\u001b[0m\u001b[0;34m\u001b[0m\u001b[0;34m\u001b[0m\u001b[0m\n\u001b[1;32m   1748\u001b[0m         \"\"\"\n\u001b[0;32m-> 1749\u001b[0;31m         \u001b[0;32mreturn\u001b[0m \u001b[0mhash\u001b[0m\u001b[0;34m(\u001b[0m\u001b[0mself\u001b[0m\u001b[0;34m.\u001b[0m\u001b[0mto_smiles\u001b[0m\u001b[0;34m(\u001b[0m\u001b[0;34m)\u001b[0m\u001b[0;34m)\u001b[0m\u001b[0;34m\u001b[0m\u001b[0;34m\u001b[0m\u001b[0m\n\u001b[0m\u001b[1;32m   1750\u001b[0m \u001b[0;34m\u001b[0m\u001b[0m\n\u001b[1;32m   1751\u001b[0m     \u001b[0;34m@\u001b[0m\u001b[0mclassmethod\u001b[0m\u001b[0;34m\u001b[0m\u001b[0;34m\u001b[0m\u001b[0m\n",
      "\u001b[0;32m~/anaconda3/envs/espaloma/lib/python3.7/site-packages/openforcefield/topology/molecule.py\u001b[0m in \u001b[0;36mto_smiles\u001b[0;34m(self, isomeric, explicit_hydrogens, mapped, toolkit_registry)\u001b[0m\n\u001b[1;32m   2006\u001b[0m             \u001b[0;32mreturn\u001b[0m \u001b[0mself\u001b[0m\u001b[0;34m.\u001b[0m\u001b[0m_cached_smiles\u001b[0m\u001b[0;34m[\u001b[0m\u001b[0msmiles_hash\u001b[0m\u001b[0;34m]\u001b[0m\u001b[0;34m\u001b[0m\u001b[0;34m\u001b[0m\u001b[0m\n\u001b[1;32m   2007\u001b[0m         \u001b[0;32melse\u001b[0m\u001b[0;34m:\u001b[0m\u001b[0;34m\u001b[0m\u001b[0;34m\u001b[0m\u001b[0m\n\u001b[0;32m-> 2008\u001b[0;31m             \u001b[0msmiles\u001b[0m \u001b[0;34m=\u001b[0m \u001b[0mto_smiles_method\u001b[0m\u001b[0;34m(\u001b[0m\u001b[0mself\u001b[0m\u001b[0;34m,\u001b[0m \u001b[0misomeric\u001b[0m\u001b[0;34m,\u001b[0m \u001b[0mexplicit_hydrogens\u001b[0m\u001b[0;34m,\u001b[0m \u001b[0mmapped\u001b[0m\u001b[0;34m)\u001b[0m\u001b[0;34m\u001b[0m\u001b[0;34m\u001b[0m\u001b[0m\n\u001b[0m\u001b[1;32m   2009\u001b[0m             \u001b[0mself\u001b[0m\u001b[0;34m.\u001b[0m\u001b[0m_cached_smiles\u001b[0m\u001b[0;34m[\u001b[0m\u001b[0msmiles_hash\u001b[0m\u001b[0;34m]\u001b[0m \u001b[0;34m=\u001b[0m \u001b[0msmiles\u001b[0m\u001b[0;34m\u001b[0m\u001b[0;34m\u001b[0m\u001b[0m\n\u001b[1;32m   2010\u001b[0m             \u001b[0;32mreturn\u001b[0m \u001b[0msmiles\u001b[0m\u001b[0;34m\u001b[0m\u001b[0;34m\u001b[0m\u001b[0m\n",
      "\u001b[0;32m~/anaconda3/envs/espaloma/lib/python3.7/site-packages/openforcefield/utils/toolkits.py\u001b[0m in \u001b[0;36mto_smiles\u001b[0;34m(self, molecule, isomeric, explicit_hydrogens, mapped)\u001b[0m\n\u001b[1;32m   1672\u001b[0m         \u001b[0;32mfrom\u001b[0m \u001b[0mopeneye\u001b[0m \u001b[0;32mimport\u001b[0m \u001b[0moechem\u001b[0m\u001b[0;34m\u001b[0m\u001b[0;34m\u001b[0m\u001b[0m\n\u001b[1;32m   1673\u001b[0m \u001b[0;34m\u001b[0m\u001b[0m\n\u001b[0;32m-> 1674\u001b[0;31m         \u001b[0moemol\u001b[0m \u001b[0;34m=\u001b[0m \u001b[0mself\u001b[0m\u001b[0;34m.\u001b[0m\u001b[0mto_openeye\u001b[0m\u001b[0;34m(\u001b[0m\u001b[0mmolecule\u001b[0m\u001b[0;34m)\u001b[0m\u001b[0;34m\u001b[0m\u001b[0;34m\u001b[0m\u001b[0m\n\u001b[0m\u001b[1;32m   1675\u001b[0m \u001b[0;34m\u001b[0m\u001b[0m\n\u001b[1;32m   1676\u001b[0m         \u001b[0;31m# this sets up the default settings following the old DEFAULT flag\u001b[0m\u001b[0;34m\u001b[0m\u001b[0;34m\u001b[0m\u001b[0;34m\u001b[0m\u001b[0m\n",
      "\u001b[0;32m~/anaconda3/envs/espaloma/lib/python3.7/site-packages/openforcefield/utils/toolkits.py\u001b[0m in \u001b[0;36mto_openeye\u001b[0;34m(molecule, aromaticity_model)\u001b[0m\n\u001b[1;32m   1560\u001b[0m                 \u001b[0;32mif\u001b[0m \u001b[0moeatom_stereochemistry\u001b[0m \u001b[0;34m!=\u001b[0m \u001b[0matom\u001b[0m\u001b[0;34m.\u001b[0m\u001b[0mstereochemistry\u001b[0m\u001b[0;34m:\u001b[0m\u001b[0;34m\u001b[0m\u001b[0;34m\u001b[0m\u001b[0m\n\u001b[1;32m   1561\u001b[0m                     raise Exception(\n\u001b[0;32m-> 1562\u001b[0;31m                         \u001b[0;34m\"Programming error: OpenEye atom stereochemistry assumptions failed.\"\u001b[0m\u001b[0;34m\u001b[0m\u001b[0;34m\u001b[0m\u001b[0m\n\u001b[0m\u001b[1;32m   1563\u001b[0m                     )\n\u001b[1;32m   1564\u001b[0m \u001b[0;34m\u001b[0m\u001b[0m\n",
      "\u001b[0;31mException\u001b[0m: Programming error: OpenEye atom stereochemistry assumptions failed."
     ]
    }
   ],
   "source": [
    "# note: exception encountered unless these two records are skipped (see https://github.com/choderalab/espaloma/pull/47#issuecomment-713753019)\n",
    "get_max_relative_energies(df)"
   ]
  },
  {
   "cell_type": "code",
   "execution_count": 7,
   "metadata": {},
   "outputs": [
    {
     "name": "stderr",
     "output_type": "stream",
     "text": [
      "100%|██████████| 52/52 [00:04<00:00, 11.81it/s]\n"
     ]
    }
   ],
   "source": [
    "max_relative_energies = get_max_relative_energies(df[coverage_mask])"
   ]
  },
  {
   "cell_type": "code",
   "execution_count": 8,
   "metadata": {},
   "outputs": [
    {
     "data": {
      "text/plain": [
       "Text(0.5, 1.0, 'Coverage')"
      ]
     },
     "execution_count": 8,
     "metadata": {},
     "output_type": "execute_result"
    },
    {
     "data": {
      "image/png": "[encoded data removed]",
      "text/plain": [
       "<Figure size 432x288 with 1 Axes>"
      ]
     },
     "metadata": {
      "needs_background": "light"
     },
     "output_type": "display_data"
    }
   ],
   "source": [
    "import matplotlib.pyplot as plt\n",
    "plt.hist(max_relative_energies)\n",
    "plt.xlabel('kcal/mol')\n",
    "plt.title(f'{name}')"
   ]
  },
  {
   "cell_type": "code",
   "execution_count": 9,
   "metadata": {},
   "outputs": [
    {
     "name": "stdout",
     "output_type": "stream",
     "text": [
      "Roche\n"
     ]
    },
    {
     "name": "stderr",
     "output_type": "stream",
     "text": [
      "100%|██████████| 100/100 [00:02<00:00, 48.28it/s]\n"
     ]
    },
    {
     "name": "stdout",
     "output_type": "stream",
     "text": [
      "Pfizer\n"
     ]
    },
    {
     "name": "stderr",
     "output_type": "stream",
     "text": [
      "100%|██████████| 49/49 [00:01<00:00, 24.96it/s]\n"
     ]
    },
    {
     "name": "stdout",
     "output_type": "stream",
     "text": [
      "eMolecules\n"
     ]
    },
    {
     "name": "stderr",
     "output_type": "stream",
     "text": [
      "100%|██████████| 370/370 [01:10<00:00,  5.26it/s]\n"
     ]
    },
    {
     "name": "stdout",
     "output_type": "stream",
     "text": [
      "Coverage\n"
     ]
    },
    {
     "name": "stderr",
     "output_type": "stream",
     "text": [
      "100%|██████████| 52/52 [00:04<00:00, 11.10it/s]\n"
     ]
    },
    {
     "name": "stdout",
     "output_type": "stream",
     "text": [
      "Bayer\n"
     ]
    },
    {
     "name": "stderr",
     "output_type": "stream",
     "text": [
      "100%|██████████| 427/427 [01:31<00:00,  4.68it/s]\n"
     ]
    }
   ],
   "source": [
    "max_relative_energies = dict()\n",
    "\n",
    "for name in dataset_names:\n",
    "    print(name)\n",
    "    path_to_h5 = f'../../data/qca/{name}.h5'\n",
    "    df = pd.read_hdf(path_to_h5)\n",
    "    if name == 'Coverage':\n",
    "        df = df[coverage_mask]\n",
    "    \n",
    "    max_relative_energies[name] = get_max_relative_energies(df)"
   ]
  },
  {
   "cell_type": "code",
   "execution_count": 10,
   "metadata": {},
   "outputs": [],
   "source": [
    "def plot_max_relative_energies(max_relative_energies):\n",
    "    plt.hist(max_relative_energies)\n",
    "    plt.xlabel(f'maximum relative energy\\n({report_unit})')\n",
    "    plt.ylabel('# occurrences')"
   ]
  },
  {
   "cell_type": "code",
   "execution_count": 12,
   "metadata": {},
   "outputs": [
    {
     "data": {
      "image/png": "[encoded data removed]",
      "text/plain": [
       "<Figure size 720x432 with 5 Axes>"
      ]
     },
     "metadata": {
      "needs_background": "light"
     },
     "output_type": "display_data"
    }
   ],
   "source": [
    "plt.figure(figsize=(10,6))\n",
    "for i, name in enumerate(max_relative_energies):\n",
    "    plt.subplot(2, 3, i+1)\n",
    "    plot_max_relative_energies(max_relative_energies[name])\n",
    "    plt.title(name)\n",
    "plt.tight_layout()\n",
    "plt.savefig('max_relative_energies.jpg', dpi=300, bbox_inches='tight')"
   ]
  },
  {
   "cell_type": "code",
   "execution_count": 13,
   "metadata": {},
   "outputs": [],
   "source": [
    "# 100 kcal/mol seems on the safe side\n",
    "# * Gen 2 torsion drives never exceeded ~50kcal/mol\n",
    "# * and very few of these Optimization records exceeded ~100 kcal/mol\n",
    "threshold = 100"
   ]
  },
  {
   "cell_type": "code",
   "execution_count": 14,
   "metadata": {},
   "outputs": [
    {
     "name": "stdout",
     "output_type": "stream",
     "text": [
      "percentage of molecules that would be removed by applying relative energy filter of 100 kilocalorie/mole\n",
      "Roche     : 0.0%\n",
      "Pfizer    : 0.0%\n",
      "eMolecules: 1.9%\n",
      "Coverage  : 0.0%\n",
      "Bayer     : 0.0%\n"
     ]
    }
   ],
   "source": [
    "print(f'percentage of molecules that would be removed by applying relative energy filter of {threshold} {report_unit}')\n",
    "for name in max_relative_energies:\n",
    "    percent_removed = 100 * np.mean(np.array(max_relative_energies[name]) > threshold)\n",
    "    print(f'{name.ljust(10)}: {percent_removed:.1f}%')"
   ]
  },
  {
   "cell_type": "markdown",
   "metadata": {},
   "source": [
    "#### TODO: apply this filter by record, rather than by molecule"
   ]
  },
  {
   "cell_type": "code",
   "execution_count": null,
   "metadata": {},
   "outputs": [],
   "source": []
  }
 ],
 "metadata": {
  "kernelspec": {
   "display_name": "Python [conda env:espaloma]",
   "language": "python",
   "name": "conda-env-espaloma-py"
  },
  "language_info": {
   "codemirror_mode": {
    "name": "ipython",
    "version": 3
   },
   "file_extension": ".py",
   "mimetype": "text/x-python",
   "name": "python",
   "nbconvert_exporter": "python",
   "pygments_lexer": "ipython3",
   "version": "3.7.8"
  }
 },
 "nbformat": 4,
 "nbformat_minor": 4
}
