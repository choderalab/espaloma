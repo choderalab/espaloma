{
 "cells": [
  {
   "cell_type": "markdown",
   "metadata": {},
   "source": [
    "### Attempt to download and save Pandas dataframes for all `OptimizationDataset`s, `TorsionDriveDataset`s, and `GridOptimizationDataset`s in QCArchive"
   ]
  },
  {
   "cell_type": "code",
   "execution_count": null,
   "metadata": {},
   "outputs": [],
   "source": [
    "import matplotlib.pyplot as plt\n",
    "import numpy as np\n",
    "from tqdm import tqdm\n",
    "\n",
    "from collections import namedtuple\n",
    "\n",
    "from typing import Tuple\n",
    "\n",
    "import qcportal\n",
    "from openforcefield.topology import Molecule"
   ]
  },
  {
   "cell_type": "markdown",
   "metadata": {},
   "source": [
    "#### Initialize FractalClient\n",
    "\n",
    "As documented here: http://docs.qcarchive.molssi.org/projects/QCPortal/en/stable/client.html"
   ]
  },
  {
   "cell_type": "code",
   "execution_count": 1,
   "metadata": {},
   "outputs": [
    {
     "data": {
      "text/html": [
       "\n",
       "<h3>FractalClient</h3>\n",
       "<ul>\n",
       "  <li><b>Server:   &nbsp; </b>The MolSSI QCArchive Server</li>\n",
       "  <li><b>Address:  &nbsp; </b>https://api.qcarchive.molssi.org:443/</li>\n",
       "  <li><b>Username: &nbsp; </b>None</li>\n",
       "</ul>\n"
      ],
      "text/plain": [
       "FractalClient(server_name='The MolSSI QCArchive Server', address='https://api.qcarchive.molssi.org:443/', username='None')"
      ]
     },
     "execution_count": 1,
     "metadata": {},
     "output_type": "execute_result"
    }
   ],
   "source": [
    "client = qcportal.FractalClient()\n",
    "client"
   ]
  },
  {
   "cell_type": "markdown",
   "metadata": {},
   "source": [
    "#### List all collections"
   ]
  },
  {
   "cell_type": "code",
   "execution_count": 3,
   "metadata": {
    "scrolled": true
   },
   "outputs": [
    {
     "name": "stdout",
     "output_type": "stream",
     "text": [
      "\"TorsionDriveDataset\" (35 datasets)\n",
      "\t0: \"Fragment Stability Benchmark\"\n",
      "\t1: \"Fragmenter paper\"\n",
      "\t2: \"OpenFF DANCE 1 eMolecules t142 v1.0\"\n",
      "\t3: \"OpenFF Fragmenter Validation 1.0\"\n",
      "\t4: \"OpenFF Full TorsionDrive Benchmark 1\"\n",
      "\t5: \"OpenFF Gen 2 Torsion Set 1 Roche\"\n",
      "\t6: \"OpenFF Gen 2 Torsion Set 1 Roche 2\"\n",
      "\t7: \"OpenFF Gen 2 Torsion Set 2 Coverage\"\n",
      "\t8: \"OpenFF Gen 2 Torsion Set 2 Coverage 2\"\n",
      "\t9: \"OpenFF Gen 2 Torsion Set 3 Pfizer Discrepancy\"\n",
      "\t10: \"OpenFF Gen 2 Torsion Set 3 Pfizer Discrepancy 2\"\n",
      "\t11: \"OpenFF Gen 2 Torsion Set 4 eMolecules Discrepancy\"\n",
      "\t12: \"OpenFF Gen 2 Torsion Set 4 eMolecules Discrepancy 2\"\n",
      "\t13: \"OpenFF Gen 2 Torsion Set 5 Bayer\"\n",
      "\t14: \"OpenFF Gen 2 Torsion Set 5 Bayer 2\"\n",
      "\t15: \"OpenFF Gen 2 Torsion Set 6 Supplemental\"\n",
      "\t16: \"OpenFF Gen 2 Torsion Set 6 Supplemental 2\"\n",
      "\t17: \"OpenFF Group1 Torsions\"\n",
      "\t18: \"OpenFF Group1 Torsions 2\"\n",
      "\t19: \"OpenFF Group1 Torsions 3\"\n",
      "\t20: \"OpenFF Primary Benchmark 1 Torsion Set\"\n",
      "\t21: \"OpenFF Primary Benchmark 2 Torsion Set\"\n",
      "\t22: \"OpenFF Primary TorsionDrive Benchmark 1\"\n",
      "\t23: \"OpenFF Protein Fragments TorsionDrives v1.0\"\n",
      "\t24: \"OpenFF Rowley Biaryl v1.0\"\n",
      "\t25: \"OpenFF Substituted Phenyl Set 1\"\n",
      "\t26: \"OpenFF Theory Benchmarking Set B3LYP-D3BJ DZVP v1.0\"\n",
      "\t27: \"OpenFF Theory Benchmarking Set B3LYP-D3BJ def2-TZVP v1.0\"\n",
      "\t28: \"OpenFF Theory Benchmarking Set B3LYP-D3BJ def2-TZVPD v1.0\"\n",
      "\t29: \"OpenFF Theory Benchmarking Set B3LYP-D3BJ def2-TZVPP v1.0\"\n",
      "\t30: \"OpenFF-benchmark-ligand-fragments-v1.0\"\n",
      "\t31: \"Pfizer Discrepancy Torsion Dataset 1\"\n",
      "\t32: \"SMIRNOFF Coverage Torsion Set 1\"\n",
      "\t33: \"SiliconTX Torsion Benchmark Set 1\"\n",
      "\t34: \"TorsionDrive Paper\"\n",
      "\"OptimizationDataset\" (23 datasets)\n",
      "\t0: \"FDA Optimization Dataset 1\"\n",
      "\t1: \"JGI Metabolite Set 1\"\n",
      "\t2: \"Kinase Inhibitors: WBO Distributions\"\n",
      "\t3: \"OpenFF Discrepancy Benchmark 1\"\n",
      "\t4: \"OpenFF Ehrman Informative Optimization v0.1\"\n",
      "\t5: \"OpenFF Ehrman Informative Optimization v0.2\"\n",
      "\t6: \"OpenFF Full Optimization Benchmark 1\"\n",
      "\t7: \"OpenFF Gen 2 Opt Set 1 Roche\"\n",
      "\t8: \"OpenFF Gen 2 Opt Set 2 Coverage\"\n",
      "\t9: \"OpenFF Gen 2 Opt Set 3 Pfizer Discrepancy\"\n",
      "\t10: \"OpenFF Gen 2 Opt Set 4 eMolecules Discrepancy\"\n",
      "\t11: \"OpenFF Gen 2 Opt Set 5 Bayer\"\n",
      "\t12: \"OpenFF NCI250K Boron 1\"\n",
      "\t13: \"OpenFF Optimization Set 1\"\n",
      "\t14: \"OpenFF Primary Optimization Benchmark 1\"\n",
      "\t15: \"OpenFF Protein Fragments v1.0\"\n",
      "\t16: \"OpenFF Protein Fragments v2.0\"\n",
      "\t17: \"OpenFF Sandbox CHO PhAlkEthOH v1.0\"\n",
      "\t18: \"OpenFF VEHICLe Set 1\"\n",
      "\t19: \"PEI\"\n",
      "\t20: \"Pfizer Discrepancy Optimization Dataset 1\"\n",
      "\t21: \"QM8-T\"\n",
      "\t22: \"SMIRNOFF Coverage Set 1\"\n",
      "\"GridOptimizationDataset\" (4 datasets)\n",
      "\t0: \"OpenFF Trivalent Nitrogen Set 1\"\n",
      "\t1: \"OpenFF Trivalent Nitrogen Set 1 (deprecated)\"\n",
      "\t2: \"OpenFF Trivalent Nitrogen Set 2\"\n",
      "\t3: \"OpenFF Trivalent Nitrogen Set 3\"\n",
      "\"Dataset\" (33 datasets)\n",
      "\t0: \"ANI-1\"\n",
      "\t1: \"ANI-1ccx\"\n",
      "\t2: \"ANI-1x\"\n",
      "\t3: \"COMP6 ANI-MD\"\n",
      "\t4: \"COMP6 DrugBank\"\n",
      "\t5: \"COMP6 GDB10to13\"\n",
      "\t6: \"COMP6 GDB7to9\"\n",
      "\t7: \"COMP6 S66x8\"\n",
      "\t8: \"COMP6 Tripeptides\"\n",
      "\t9: \"G-SchNet Generated\"\n",
      "\t10: \"GDB13-T\"\n",
      "\t11: \"GDML\"\n",
      "\t12: \"ISO-17\"\n",
      "\t13: \"OpenFF Discrepancy Benchmark 1\"\n",
      "\t14: \"OpenFF Gen 2 Opt Set 1 Roche\"\n",
      "\t15: \"OpenFF Gen 2 Opt Set 2 Coverage\"\n",
      "\t16: \"OpenFF Gen 2 Opt Set 3 Pfizer Discrepancy\"\n",
      "\t17: \"OpenFF Gen 2 Opt Set 4 eMolecules Discrepancy\"\n",
      "\t18: \"OpenFF Gen 2 Opt Set 5 Bayer\"\n",
      "\t19: \"OpenFF NCI250K Boron 1\"\n",
      "\t20: \"OpenFF Optimization Set 1\"\n",
      "\t21: \"OpenFF VEHICLe Set 1\"\n",
      "\t22: \"PC9\"\n",
      "\t23: \"PC9 (netural singlet subset)\"\n",
      "\t24: \"PC9 (neutral singlet subset)\"\n",
      "\t25: \"QM7\"\n",
      "\t26: \"QM7b\"\n",
      "\t27: \"QM7b-T\"\n",
      "\t28: \"QM9\"\n",
      "\t29: \"SMIRNOFF Coverage Set 1\"\n",
      "\t30: \"SN2 Reactions\"\n",
      "\t31: \"Solvated Protein Fragments\"\n",
      "\t32: \"TensorMol Water Clusters\"\n",
      "\"ReactionDataset\" (33 datasets)\n",
      "\t0: \"A21\"\n",
      "\t1: \"A24\"\n",
      "\t2: \"ACONF\"\n",
      "\t3: \"ASCDB\"\n",
      "\t4: \"AlkBind12\"\n",
      "\t5: \"AlkIsod14\"\n",
      "\t6: \"AlkIsomer11\"\n",
      "\t7: \"BH76RC\"\n",
      "\t8: \"BHPERI26\"\n",
      "\t9: \"BSR36\"\n",
      "\t10: \"Bauza30\"\n",
      "\t11: \"Butanediol65\"\n",
      "\t12: \"C20C24\"\n",
      "\t13: \"CYCONF\"\n",
      "\t14: \"DBH24\"\n",
      "\t15: \"DIE60\"\n",
      "\t16: \"DS14\"\n",
      "\t17: \"FmH2O10\"\n",
      "\t18: \"G21EA\"\n",
      "\t19: \"H2O16Rel5\"\n",
      "\t20: \"H2O17Rel4\"\n",
      "\t21: \"HB15\"\n",
      "\t22: \"HNBrBDE18\"\n",
      "\t23: \"HSG\"\n",
      "\t24: \"HTBH38\"\n",
      "\t25: \"MPCONF196\"\n",
      "\t26: \"NC15\"\n",
      "\t27: \"NHTBH38\"\n",
      "\t28: \"S22\"\n",
      "\t29: \"S66\"\n",
      "\t30: \"SSI\"\n",
      "\t31: \"X40\"\n",
      "\t32: \"YMPJ16\"\n"
     ]
    }
   ],
   "source": [
    "collections: dict = client.list_collections(aslist=True)\n",
    "for dataset_type in collections.keys():\n",
    "    dataset_names = sorted(collections[dataset_type])\n",
    "    print(f'\"{dataset_type}\" ({len(dataset_names)} datasets)')\n",
    "    for i, dataset_name in enumerate(dataset_names):\n",
    "        print(f'\\t{i}: \"{dataset_name}\"')"
   ]
  },
  {
   "cell_type": "markdown",
   "metadata": {},
   "source": [
    "#### TODO: Loop over `(dataset_type, dataset_name)` pairs"
   ]
  },
  {
   "cell_type": "markdown",
   "metadata": {},
   "source": [
    "#### Fetch dataset"
   ]
  },
  {
   "cell_type": "code",
   "execution_count": 4,
   "metadata": {},
   "outputs": [],
   "source": [
    "dataset_type = 'OptimizationDataset'\n",
    "dataset_name = 'OpenFF Full Optimization Benchmark 1'"
   ]
  },
  {
   "cell_type": "code",
   "execution_count": 5,
   "metadata": {},
   "outputs": [
    {
     "name": "stdout",
     "output_type": "stream",
     "text": [
      "['DataModel', '__abstractmethods__', '__class__', '__delattr__', '__dict__', '__dir__', '__doc__', '__eq__', '__format__', '__ge__', '__getattribute__', '__gt__', '__hash__', '__init__', '__init_subclass__', '__le__', '__lt__', '__module__', '__ne__', '__new__', '__reduce__', '__reduce_ex__', '__repr__', '__setattr__', '__sizeof__', '__slots__', '__str__', '__subclasshook__', '__weakref__', '_abc_impl', '_add_entry', '_add_molecules_by_dict', '_add_specification', '_check_client', '_check_entry_exists', '_get_index', '_get_procedure_ids', '_internal_compute_add', '_pre_save_prep', 'add_entry', 'add_specification', 'client', 'compute', 'counts', 'data', 'df', 'from_json', 'from_server', 'get_entry', 'get_record', 'get_specification', 'list_specifications', 'name', 'query', 'save', 'status', 'to_json']\n"
     ]
    }
   ],
   "source": [
    "ds = client.get_collection(dataset_type, dataset_name)\n",
    "print(dir(ds))"
   ]
  },
  {
   "cell_type": "code",
   "execution_count": 7,
   "metadata": {},
   "outputs": [
    {
     "data": {
      "text/plain": [
       "(qcportal.collections.optimization_dataset.OptimizationDataset, 26736)"
      ]
     },
     "execution_count": 7,
     "metadata": {},
     "output_type": "execute_result"
    }
   ],
   "source": [
    "type(ds), len(ds.df)"
   ]
  },
  {
   "cell_type": "code",
   "execution_count": 8,
   "metadata": {},
   "outputs": [
    {
     "data": {
      "text/html": [
       "<div>\n",
       "<style scoped>\n",
       "    .dataframe tbody tr th:only-of-type {\n",
       "        vertical-align: middle;\n",
       "    }\n",
       "\n",
       "    .dataframe tbody tr th {\n",
       "        vertical-align: top;\n",
       "    }\n",
       "\n",
       "    .dataframe thead th {\n",
       "        text-align: right;\n",
       "    }\n",
       "</style>\n",
       "<table border=\"1\" class=\"dataframe\">\n",
       "  <thead>\n",
       "    <tr style=\"text-align: right;\">\n",
       "      <th></th>\n",
       "      <th>Description</th>\n",
       "    </tr>\n",
       "    <tr>\n",
       "      <th>Name</th>\n",
       "      <th></th>\n",
       "    </tr>\n",
       "  </thead>\n",
       "  <tbody>\n",
       "    <tr>\n",
       "      <th>default</th>\n",
       "      <td>Standard OpenFF optimization quantum chemistry...</td>\n",
       "    </tr>\n",
       "  </tbody>\n",
       "</table>\n",
       "</div>"
      ],
      "text/plain": [
       "                                               Description\n",
       "Name                                                      \n",
       "default  Standard OpenFF optimization quantum chemistry..."
      ]
     },
     "execution_count": 8,
     "metadata": {},
     "output_type": "execute_result"
    }
   ],
   "source": [
    "ds.list_specifications()"
   ]
  },
  {
   "cell_type": "code",
   "execution_count": 9,
   "metadata": {},
   "outputs": [
    {
     "data": {
      "text/plain": [
       "['default']"
      ]
     },
     "execution_count": 9,
     "metadata": {},
     "output_type": "execute_result"
    }
   ],
   "source": [
    "specifications = ds.list_specifications(description=False)\n",
    "specifications"
   ]
  },
  {
   "cell_type": "code",
   "execution_count": 10,
   "metadata": {},
   "outputs": [],
   "source": [
    "# TODO: Also loop over specifications, in case there's more than one\n",
    "specification = specifications[0]"
   ]
  },
  {
   "cell_type": "code",
   "execution_count": 11,
   "metadata": {},
   "outputs": [
    {
     "name": "stdout",
     "output_type": "stream",
     "text": [
      "26736\n",
      "C[NH2+]C[C@@H](c1ccc(c(c1)O)O)O-0\n"
     ]
    }
   ],
   "source": [
    "index = list(ds.df.index)\n",
    "print(len(index))\n",
    "print(index[0])"
   ]
  },
  {
   "cell_type": "code",
   "execution_count": 13,
   "metadata": {},
   "outputs": [
    {
     "data": {
      "text/plain": [
       "<OptimizationDataset(name=`OpenFF Full Optimization Benchmark 1`, id='197', client='https://api.qcarchive.molssi.org:443/') >"
      ]
     },
     "execution_count": 13,
     "metadata": {},
     "output_type": "execute_result"
    }
   ],
   "source": [
    "ds"
   ]
  },
  {
   "cell_type": "code",
   "execution_count": 14,
   "metadata": {},
   "outputs": [
    {
     "data": {
      "text/plain": [
       "['c[nh2+]c[c@@h](c1ccc(c(c1)o)o)o-0',\n",
       " 'c[nh2+]c[c@@h](c1ccc(c(c1)o)o)o-1',\n",
       " 'c[nh2+]c[c@@h](c1ccc(c(c1)o)o)o-2',\n",
       " 'c[nh2+]c[c@@h](c1ccc(c(c1)o)o)o-3',\n",
       " 'c[nh2+]c[c@@h](c1ccc(c(c1)o)o)o-4',\n",
       " 'c[nh2+]c[c@@h](c1ccc(c(c1)o)o)o-5',\n",
       " 'c[nh2+]c[c@@h](c1ccc(c(c1)o)o)o-6',\n",
       " 'c[nh2+]c[c@@h](c1ccc(c(c1)o)o)o-7',\n",
       " 'c[nh2+]c[c@@h](c1ccc(c(c1)o)o)o-8',\n",
       " 'c[nh2+]c[c@@h](c1ccc(c(c1)o)o)o-9']"
      ]
     },
     "execution_count": 14,
     "metadata": {},
     "output_type": "execute_result"
    }
   ],
   "source": [
    "record_names = list(ds.data.records)\n",
    "record_names[:10]"
   ]
  },
  {
   "cell_type": "code",
   "execution_count": 39,
   "metadata": {},
   "outputs": [
    {
     "data": {
      "text/plain": [
       "('c[nh2+]c[c@@h](c1ccc(c(c1)o)o)o-0', 'C[NH2+]C[C@@H](c1ccc(c(c1)O)O)O-0')"
      ]
     },
     "execution_count": 39,
     "metadata": {},
     "output_type": "execute_result"
    }
   ],
   "source": [
    "i = 0\n",
    "record_name = record_names[i]\n",
    "ind = index[i]\n",
    "record_name, ind"
   ]
  },
  {
   "cell_type": "code",
   "execution_count": 40,
   "metadata": {},
   "outputs": [
    {
     "data": {
      "text/plain": [
       "qcportal.models.records.OptimizationRecord"
      ]
     },
     "execution_count": 40,
     "metadata": {},
     "output_type": "execute_result"
    }
   ],
   "source": [
    "record = ds.get_record(record_name, specification)\n",
    "type(record)"
   ]
  },
  {
   "cell_type": "code",
   "execution_count": 41,
   "metadata": {},
   "outputs": [
    {
     "name": "stdout",
     "output_type": "stream",
     "text": [
      "['Config', '__abstractmethods__', '__annotations__', '__base_doc__', '__class__', '__config__', '__custom_root_type__', '__delattr__', '__dict__', '__dir__', '__doc__', '__eq__', '__field_defaults__', '__fields__', '__fields_set__', '__format__', '__ge__', '__get_validators__', '__getattribute__', '__getstate__', '__gt__', '__hash__', '__init__', '__init_subclass__', '__iter__', '__json_encoder__', '__le__', '__lt__', '__model_autodoc_applied__', '__module__', '__ne__', '__new__', '__post_root_validators__', '__pre_root_validators__', '__pretty__', '__reduce__', '__reduce_ex__', '__repr__', '__repr_args__', '__repr_name__', '__repr_str__', '__schema_cache__', '__setattr__', '__setstate__', '__signature__', '__sizeof__', '__slots__', '__str__', '__subclasshook__', '__validators__', '__values__', '__weakref__', '_abc_impl', '_calculate_keys', '_decompose_class', '_get_value', '_hash_indices', '_iter', '_kvstore_getter', 'cache', 'check_client', 'check_keywords', 'check_program', 'client', 'compare', 'construct', 'copy', 'created_on', 'dict', 'energies', 'error', 'extras', 'fields', 'final_molecule', 'from_orm', 'get_error', 'get_final_energy', 'get_final_molecule', 'get_hash_fields', 'get_hash_index', 'get_initial_molecule', 'get_molecular_trajectory', 'get_stderr', 'get_stdout', 'get_trajectory', 'hash_index', 'id', 'initial_molecule', 'json', 'keywords', 'manager_name', 'modified_on', 'parse_file', 'parse_obj', 'parse_raw', 'procedure', 'program', 'protocols', 'provenance', 'qc_spec', 'schema', 'schema_json', 'schema_version', 'serialize', 'show_history', 'status', 'stderr', 'stdout', 'task_id', 'to_string', 'trajectory', 'update_forward_refs', 'validate', 'version']\n"
     ]
    }
   ],
   "source": [
    "print(dir(record))"
   ]
  },
  {
   "cell_type": "code",
   "execution_count": 42,
   "metadata": {},
   "outputs": [],
   "source": [
    "initial_mol = record.get_initial_molecule()"
   ]
  },
  {
   "cell_type": "code",
   "execution_count": 43,
   "metadata": {},
   "outputs": [
    {
     "name": "stdout",
     "output_type": "stream",
     "text": [
      "['Config', '__abstractmethods__', '__annotations__', '__base_doc__', '__class__', '__config__', '__custom_root_type__', '__delattr__', '__dict__', '__dir__', '__doc__', '__eq__', '__field_defaults__', '__fields__', '__fields_set__', '__format__', '__ge__', '__get_validators__', '__getattribute__', '__getstate__', '__gt__', '__hash__', '__init__', '__init_subclass__', '__iter__', '__json_encoder__', '__le__', '__lt__', '__model_autodoc_applied__', '__module__', '__ne__', '__new__', '__post_root_validators__', '__pre_root_validators__', '__pretty__', '__reduce__', '__reduce_ex__', '__repr__', '__repr_args__', '__repr_name__', '__repr_str__', '__schema_cache__', '__setattr__', '__setstate__', '__signature__', '__sizeof__', '__slots__', '__str__', '__subclasshook__', '__validators__', '__values__', '__weakref__', '_abc_impl', '_calculate_keys', '_decompose_class', '_get_value', '_iter', 'additional_keywords', 'attributes', 'compare', 'construct', 'copy', 'dict', 'fields', 'from_orm', 'initial_molecule', 'json', 'name', 'object_map', 'parse_file', 'parse_obj', 'parse_raw', 'schema', 'schema_json', 'serialize', 'to_string', 'update_forward_refs', 'validate']\n"
     ]
    }
   ],
   "source": [
    "entry = ds.get_entry(ind)\n",
    "print(dir(entry))"
   ]
  },
  {
   "cell_type": "code",
   "execution_count": 44,
   "metadata": {},
   "outputs": [
    {
     "data": {
      "image/png": "[encoded data removed]",
      "text/plain": [
       "<rdkit.Chem.rdchem.Mol at 0x7ff1b4424730>"
      ]
     },
     "metadata": {},
     "output_type": "display_data"
    }
   ],
   "source": [
    "offmol = Molecule.from_qcschema(entry)\n",
    "offmol"
   ]
  },
  {
   "cell_type": "code",
   "execution_count": 45,
   "metadata": {},
   "outputs": [
    {
     "data": {
      "text/plain": [
       "(36, 36)"
      ]
     },
     "execution_count": 45,
     "metadata": {},
     "output_type": "execute_result"
    }
   ],
   "source": [
    "molecular_trajectory = record.get_molecular_trajectory()\n",
    "trajectory = record.get_trajectory()\n",
    "len(molecular_trajectory), len(trajectory)"
   ]
  },
  {
   "cell_type": "code",
   "execution_count": 46,
   "metadata": {},
   "outputs": [],
   "source": [
    "def get_energy_and_gradient(snapshot: qcportal.models.records.ResultRecord) -> Tuple[float, np.ndarray]:\n",
    "    \"\"\"Note: force = - gradient\"\"\"\n",
    "    d = snapshot.dict()\n",
    "    qcvars = d['extras']['qcvars']\n",
    "    energy = qcvars['CURRENT ENERGY']\n",
    "    flat_gradient = np.array(qcvars['CURRENT GRADIENT'])\n",
    "    num_atoms = len(flat_gradient) // 3\n",
    "    gradient = flat_gradient.reshape((num_atoms, 3))\n",
    "    return energy, gradient"
   ]
  },
  {
   "cell_type": "code",
   "execution_count": 100,
   "metadata": {},
   "outputs": [],
   "source": [
    "MolWithTargets = namedtuple('MolWithTargets', ['offmol', 'xyz', 'energies', 'gradients'])"
   ]
  },
  {
   "cell_type": "code",
   "execution_count": 102,
   "metadata": {},
   "outputs": [
    {
     "name": "stdout",
     "output_type": "stream",
     "text": [
      "CPU times: user 5 µs, sys: 1e+03 ns, total: 6 µs\n",
      "Wall time: 7.87 µs\n"
     ]
    }
   ],
   "source": [
    "%%time\n",
    "_ = MolWithTargets(offmol, xyz, energies, gradients)"
   ]
  },
  {
   "cell_type": "code",
   "execution_count": 178,
   "metadata": {},
   "outputs": [],
   "source": [
    "def get_mol_with_targets(record, entry):\n",
    "    \n",
    "    # offmol\n",
    "    offmol = Molecule.from_qcschema(entry)\n",
    "    \n",
    "    # trajectory containing xyz, energies, and gradients\n",
    "    trajectory = record.get_trajectory()\n",
    "    \n",
    "    # xyz\n",
    "    molecules = [snapshot.get_molecule() for snapshot in trajectory]\n",
    "    xyz = np.array([mol.geometry for mol in molecules])\n",
    "    \n",
    "    # energies and gradients\n",
    "    energies_and_gradients = list(map(get_energy_and_gradient, trajectory))\n",
    "    energies = np.array([e for (e, _) in energies_and_gradients])\n",
    "    gradients = np.array([g for (_, g) in energies_and_gradients])\n",
    "    \n",
    "    return MolWithTargets(offmol, xyz, energies, gradients)"
   ]
  },
  {
   "cell_type": "code",
   "execution_count": 179,
   "metadata": {},
   "outputs": [],
   "source": [
    "i = 0"
   ]
  },
  {
   "cell_type": "code",
   "execution_count": 180,
   "metadata": {},
   "outputs": [],
   "source": [
    "record_name = record_names[i]\n",
    "ind = index[i]\n",
    "\n",
    "record = ds.get_record(record_name, specification)\n",
    "entry = ds.get_entry(ind)"
   ]
  },
  {
   "cell_type": "code",
   "execution_count": 181,
   "metadata": {},
   "outputs": [
    {
     "name": "stdout",
     "output_type": "stream",
     "text": [
      "CPU times: user 703 ms, sys: 43.6 ms, total: 747 ms\n",
      "Wall time: 5.86 s\n"
     ]
    }
   ],
   "source": [
    "%%time\n",
    "_ = get_mol_with_targets(record, entry)"
   ]
  },
  {
   "cell_type": "code",
   "execution_count": 182,
   "metadata": {},
   "outputs": [
    {
     "name": "stdout",
     "output_type": "stream",
     "text": [
      "CPU times: user 74.8 ms, sys: 1.38 ms, total: 76.1 ms\n",
      "Wall time: 74.9 ms\n"
     ]
    }
   ],
   "source": [
    "%%time\n",
    "_ = get_mol_with_targets(record, entry)"
   ]
  },
  {
   "cell_type": "code",
   "execution_count": 196,
   "metadata": {},
   "outputs": [],
   "source": [
    "record_names = list(ds.data.records)"
   ]
  },
  {
   "cell_type": "code",
   "execution_count": 197,
   "metadata": {},
   "outputs": [],
   "source": [
    "all_mols_and_targets = dict()"
   ]
  },
  {
   "cell_type": "code",
   "execution_count": 198,
   "metadata": {},
   "outputs": [
    {
     "data": {
      "text/plain": [
       "26736"
      ]
     },
     "execution_count": 198,
     "metadata": {},
     "output_type": "execute_result"
    }
   ],
   "source": [
    "record_names = list(ds.data.records)\n",
    "len(record_names)"
   ]
  },
  {
   "cell_type": "code",
   "execution_count": 367,
   "metadata": {},
   "outputs": [],
   "source": [
    "exceptions = dict()\n",
    "skipped_status = dict()"
   ]
  },
  {
   "cell_type": "code",
   "execution_count": 368,
   "metadata": {
    "scrolled": true
   },
   "outputs": [
    {
     "name": "stderr",
     "output_type": "stream",
     "text": [
      "  0%|          | 11/26736 [00:01<1:14:14,  6.00it/s, n_exceptions=0, n_skipped=2, n_successful=434]"
     ]
    },
    {
     "name": "stdout",
     "output_type": "stream",
     "text": [
      "skipping co/n=c/1\\c[n@](c[c@h]1c[nh3+])c2c(cc3c(=o)c(cn(c3n2)c4cc4)c(=o)[o-])f-0, which has a status ERROR\n",
      "skipping co/n=c/1\\c[n@](c[c@h]1c[nh3+])c2c(cc3c(=o)c(cn(c3n2)c4cc4)c(=o)[o-])f-1, which has a status ERROR\n"
     ]
    },
    {
     "name": "stderr",
     "output_type": "stream",
     "text": [
      "  0%|          | 14/26736 [00:02<1:10:43,  6.30it/s, n_exceptions=0, n_skipped=3, n_successful=434]"
     ]
    },
    {
     "name": "stdout",
     "output_type": "stream",
     "text": [
      "skipping co/n=c/1\\c[n@](c[c@h]1c[nh3+])c2c(cc3c(=o)c(cn(c3n2)c4cc4)c(=o)[o-])f-2, which has a status ERROR\n"
     ]
    },
    {
     "name": "stderr",
     "output_type": "stream",
     "text": [
      "  0%|          | 16/26736 [00:02<59:49,  7.44it/s, n_exceptions=0, n_skipped=4, n_successful=434]  "
     ]
    },
    {
     "name": "stdout",
     "output_type": "stream",
     "text": [
      "skipping co/n=c/1\\c[n@](c[c@h]1c[nh3+])c2c(cc3c(=o)c(cn(c3n2)c4cc4)c(=o)[o-])f-4, which has a status ERROR\n"
     ]
    },
    {
     "name": "stderr",
     "output_type": "stream",
     "text": [
      "  0%|          | 90/26736 [00:12<1:00:33,  7.33it/s, n_exceptions=0, n_skipped=6, n_successful=434]"
     ]
    },
    {
     "name": "stdout",
     "output_type": "stream",
     "text": [
      "skipping cc(c)c[c@h]1c(=o)n2ccc[c@h]2[c@]3(n1c(=o)[c@](o3)(c(c)c)nc(=o)[c@h]4c[n@]([c@@h]5cc6c7c(cccc7[nh]c6br)c5=c4)c)o-1, which has a status ERROR\n",
      "skipping cc(c)c[c@h]1c(=o)n2ccc[c@h]2[c@]3(n1c(=o)[c@](o3)(c(c)c)nc(=o)[c@h]4c[n@]([c@@h]5cc6c7c(cccc7[nh]c6br)c5=c4)c)o-2, which has a status ERROR\n"
     ]
    },
    {
     "name": "stderr",
     "output_type": "stream",
     "text": [
      "  0%|          | 95/26736 [00:13<1:36:32,  4.60it/s, n_exceptions=0, n_skipped=8, n_successful=434]"
     ]
    },
    {
     "name": "stdout",
     "output_type": "stream",
     "text": [
      "skipping cc(c)c[c@h]1c(=o)n2ccc[c@h]2[c@]3(n1c(=o)[c@](o3)(c(c)c)nc(=o)[c@h]4c[n@]([c@@h]5cc6c7c(cccc7[nh]c6br)c5=c4)c)o-7, which has a status ERROR\n",
      "skipping cc(c)c[c@h]1c(=o)n2ccc[c@h]2[c@]3(n1c(=o)[c@](o3)(c(c)c)nc(=o)[c@h]4c[n@h+]([c@@h]5cc6c7c(cccc7[nh]c6br)c5=c4)c)o-0, which has a status ERROR\n"
     ]
    },
    {
     "name": "stderr",
     "output_type": "stream",
     "text": [
      "  0%|          | 98/26736 [00:14<1:23:14,  5.33it/s, n_exceptions=0, n_skipped=9, n_successful=434]"
     ]
    },
    {
     "name": "stdout",
     "output_type": "stream",
     "text": [
      "skipping cc(c)c[c@h]1c(=o)n2ccc[c@h]2[c@]3(n1c(=o)[c@](o3)(c(c)c)nc(=o)[c@h]4c[n@h+]([c@@h]5cc6c7c(cccc7[nh]c6br)c5=c4)c)o-1, which has a status ERROR\n"
     ]
    },
    {
     "name": "stderr",
     "output_type": "stream",
     "text": [
      "  0%|          | 103/26736 [00:15<1:06:04,  6.72it/s, n_exceptions=0, n_skipped=11, n_successful=434]"
     ]
    },
    {
     "name": "stdout",
     "output_type": "stream",
     "text": [
      "skipping cc(c)c[c@h]1c(=o)n2ccc[c@h]2[c@]3(n1c(=o)[c@](o3)(c(c)c)nc(=o)[c@h]4c[n@h+]([c@@h]5cc6c7c(cccc7[nh]c6br)c5=c4)c)o-5, which has a status ERROR\n",
      "skipping cc(c)c[c@h]1c(=o)n2ccc[c@h]2[c@]3(n1c(=o)[c@](o3)(c(c)c)nc(=o)[c@h]4c[n@h+]([c@@h]5cc6c7c(cccc7[nh]c6br)c5=c4)c)o-7, which has a status ERROR\n"
     ]
    },
    {
     "name": "stderr",
     "output_type": "stream",
     "text": [
      "  0%|          | 107/26736 [00:15<1:15:04,  5.91it/s, n_exceptions=0, n_skipped=12, n_successful=434]"
     ]
    },
    {
     "name": "stdout",
     "output_type": "stream",
     "text": [
      "skipping cc(c)c[c@h]1c(=o)n2ccc[c@h]2[c@]3(n1c(=o)[c@](o3)(c(c)c)nc(=o)[c@h]4c[n@@h+]([c@@h]5cc6c7c(cccc7[nh]c6br)c5=c4)c)o-2, which has a status ERROR\n"
     ]
    },
    {
     "name": "stderr",
     "output_type": "stream",
     "text": [
      "  0%|          | 110/26736 [00:16<1:01:42,  7.19it/s, n_exceptions=0, n_skipped=13, n_successful=434]"
     ]
    },
    {
     "name": "stdout",
     "output_type": "stream",
     "text": [
      "skipping cc(c)c[c@h]1c(=o)n2ccc[c@h]2[c@]3(n1c(=o)[c@](o3)(c(c)c)nc(=o)[c@h]4c[n@@h+]([c@@h]5cc6c7c(cccc7[nh]c6br)c5=c4)c)o-5, which has a status ERROR\n"
     ]
    },
    {
     "name": "stderr",
     "output_type": "stream",
     "text": [
      "  0%|          | 113/26736 [00:16<1:12:25,  6.13it/s, n_exceptions=0, n_skipped=14, n_successful=434]"
     ]
    },
    {
     "name": "stdout",
     "output_type": "stream",
     "text": [
      "skipping cc(c)c[c@h]1c(=o)n2ccc[c@h]2[c@]3(n1c(=o)[c@](o3)(c(c)c)nc(=o)[c@h]4c[n@@h+]([c@@h]5cc6c7c(cccc7[nh]c6br)c5=c4)c)o-7, which has a status ERROR\n"
     ]
    },
    {
     "name": "stderr",
     "output_type": "stream",
     "text": [
      "  1%|▏         | 374/26736 [00:55<1:00:22,  7.28it/s, n_exceptions=0, n_skipped=15, n_successful=434]"
     ]
    },
    {
     "name": "stdout",
     "output_type": "stream",
     "text": [
      "skipping c[c@@]1(c(=o)n2[c@h](c(=o)n3ccc[c@h]3[c@@]2(o1)o)cc4ccccc4)nc(=o)[c@@h]5c[c@@h]6c7cccc8c7c(c[nh]8)c[c@h]6[n@@h+](c5)c-7, which has a status ERROR\n"
     ]
    },
    {
     "name": "stderr",
     "output_type": "stream",
     "text": [
      "  1%|▏         | 379/26736 [00:55<51:47,  8.48it/s, n_exceptions=0, n_skipped=16, n_successful=434]  "
     ]
    },
    {
     "name": "stdout",
     "output_type": "stream",
     "text": [
      "skipping c[c@@]1(c(=o)n2[c@h](c(=o)n3ccc[c@h]3[c@@]2(o1)o)cc4ccccc4)nc(=o)[c@@h]5c[c@@h]6c7cccc8c7c(c[nh]8)c[c@h]6[n@@h+](c5)c-13, which has a status ERROR\n"
     ]
    },
    {
     "name": "stderr",
     "output_type": "stream",
     "text": [
      "  1%|▏         | 383/26736 [00:56<1:07:49,  6.48it/s, n_exceptions=0, n_skipped=18, n_successful=434]"
     ]
    },
    {
     "name": "stdout",
     "output_type": "stream",
     "text": [
      "skipping c[c@@]1(c(=o)n2[c@h](c(=o)n3ccc[c@h]3[c@@]2(o1)o)cc4ccccc4)nc(=o)[c@@h]5c[c@@h]6c7cccc8c7c(c[nh]8)c[c@h]6[n@@h+](c5)c-15, which has a status ERROR\n",
      "skipping c[c@@]1(c(=o)n2[c@h](c(=o)n3ccc[c@h]3[c@@]2(o1)o)cc4ccccc4)nc(=o)[c@@h]5c[c@@h]6c7cccc8c7c(c[nh]8)c[c@h]6[n@@h+](c5)c-16, which has a status ERROR\n"
     ]
    },
    {
     "name": "stderr",
     "output_type": "stream",
     "text": [
      "  1%|▏         | 385/26736 [00:56<59:53,  7.33it/s, n_exceptions=0, n_skipped=20, n_successful=434]  "
     ]
    },
    {
     "name": "stdout",
     "output_type": "stream",
     "text": [
      "skipping c[c@@]1(c(=o)n2[c@h](c(=o)n3ccc[c@h]3[c@@]2(o1)o)cc4ccccc4)nc(=o)[c@@h]5c[c@@h]6c7cccc8c7c(c[nh]8)c[c@h]6[n@@h+](c5)c-17, which has a status ERROR\n",
      "skipping c[c@@]1(c(=o)n2[c@h](c(=o)n3ccc[c@h]3[c@@]2(o1)o)cc4ccccc4)nc(=o)[c@@h]5c[c@@h]6c7cccc8c7c(c[nh]8)c[c@h]6[n@@h+](c5)c-19, which has a status ERROR\n"
     ]
    },
    {
     "name": "stderr",
     "output_type": "stream",
     "text": [
      "  1%|▏         | 394/26736 [00:57<54:37,  8.04it/s, n_exceptions=0, n_skipped=21, n_successful=434]  "
     ]
    },
    {
     "name": "stdout",
     "output_type": "stream",
     "text": [
      "skipping c[c@@]1(c(=o)n2[c@h](c(=o)n3ccc[c@h]3[c@@]2(o1)o)cc4ccccc4)nc(=o)[c@@h]5c[c@@h]6c7cccc8c7c(c[nh]8)c[c@h]6[n@h+](c5)c-7, which has a status ERROR\n"
     ]
    },
    {
     "name": "stderr",
     "output_type": "stream",
     "text": [
      "  1%|▏         | 400/26736 [00:58<1:02:33,  7.02it/s, n_exceptions=0, n_skipped=24, n_successful=434]"
     ]
    },
    {
     "name": "stdout",
     "output_type": "stream",
     "text": [
      "skipping c[c@@]1(c(=o)n2[c@h](c(=o)n3ccc[c@h]3[c@@]2(o1)o)cc4ccccc4)nc(=o)[c@@h]5c[c@@h]6c7cccc8c7c(c[nh]8)c[c@h]6[n@h+](c5)c-11, which has a status ERROR\n",
      "skipping c[c@@]1(c(=o)n2[c@h](c(=o)n3ccc[c@h]3[c@@]2(o1)o)cc4ccccc4)nc(=o)[c@@h]5c[c@@h]6c7cccc8c7c(c[nh]8)c[c@h]6[n@h+](c5)c-12, which has a status ERROR\n",
      "skipping c[c@@]1(c(=o)n2[c@h](c(=o)n3ccc[c@h]3[c@@]2(o1)o)cc4ccccc4)nc(=o)[c@@h]5c[c@@h]6c7cccc8c7c(c[nh]8)c[c@h]6[n@h+](c5)c-13, which has a status ERROR\n"
     ]
    },
    {
     "name": "stderr",
     "output_type": "stream",
     "text": [
      "  1%|▏         | 401/26736 [00:59<58:59,  7.44it/s, n_exceptions=0, n_skipped=25, n_successful=434]  "
     ]
    },
    {
     "name": "stdout",
     "output_type": "stream",
     "text": [
      "skipping c[c@@]1(c(=o)n2[c@h](c(=o)n3ccc[c@h]3[c@@]2(o1)o)cc4ccccc4)nc(=o)[c@@h]5c[c@@h]6c7cccc8c7c(c[nh]8)c[c@h]6[n@h+](c5)c-15, which has a status ERROR\n"
     ]
    },
    {
     "name": "stderr",
     "output_type": "stream",
     "text": [
      "  2%|▏         | 405/26736 [01:00<1:16:57,  5.70it/s, n_exceptions=0, n_skipped=27, n_successful=434]"
     ]
    },
    {
     "name": "stdout",
     "output_type": "stream",
     "text": [
      "skipping c[c@@]1(c(=o)n2[c@h](c(=o)n3ccc[c@h]3[c@@]2(o1)o)cc4ccccc4)nc(=o)[c@@h]5c[c@@h]6c7cccc8c7c(c[nh]8)c[c@h]6[n@h+](c5)c-18, which has a status ERROR\n",
      "skipping c[c@@]1(c(=o)n2[c@h](c(=o)n3ccc[c@h]3[c@@]2(o1)o)cc4ccccc4)nc(=o)[c@@h]5c[c@@h]6c7cccc8c7c(c[nh]8)c[c@h]6[n@h+](c5)c-19, which has a status ERROR\n"
     ]
    },
    {
     "name": "stderr",
     "output_type": "stream",
     "text": [
      "  2%|▏         | 414/26736 [01:01<1:19:53,  5.49it/s, n_exceptions=0, n_skipped=28, n_successful=434]"
     ]
    },
    {
     "name": "stdout",
     "output_type": "stream",
     "text": [
      "skipping c[c@@]1(c(=o)n2[c@h](c(=o)n3ccc[c@h]3[c@@]2(o1)o)cc4ccccc4)nc(=o)[c@@h]5c[c@@h]6c7cccc8c7c(c[nh]8)c[c@h]6[n@@](c5)c-5, which has a status ERROR\n"
     ]
    },
    {
     "name": "stderr",
     "output_type": "stream",
     "text": [
      "  2%|▏         | 417/26736 [01:02<1:05:23,  6.71it/s, n_exceptions=0, n_skipped=29, n_successful=434]"
     ]
    },
    {
     "name": "stdout",
     "output_type": "stream",
     "text": [
      "skipping c[c@@]1(c(=o)n2[c@h](c(=o)n3ccc[c@h]3[c@@]2(o1)o)cc4ccccc4)nc(=o)[c@@h]5c[c@@h]6c7cccc8c7c(c[nh]8)c[c@h]6[n@@](c5)c-10, which has a status ERROR\n"
     ]
    },
    {
     "name": "stderr",
     "output_type": "stream",
     "text": [
      "  2%|▏         | 419/26736 [01:02<1:59:08,  3.68it/s, n_exceptions=0, n_skipped=30, n_successful=434]"
     ]
    },
    {
     "name": "stdout",
     "output_type": "stream",
     "text": [
      "skipping c[c@@]1(c(=o)n2[c@h](c(=o)n3ccc[c@h]3[c@@]2(o1)o)cc4ccccc4)nc(=o)[c@@h]5c[c@@h]6c7cccc8c7c(c[nh]8)c[c@h]6[n@@](c5)c-11, which has a status ERROR\n"
     ]
    },
    {
     "name": "stderr",
     "output_type": "stream",
     "text": [
      "  2%|▏         | 421/26736 [01:03<1:35:39,  4.58it/s, n_exceptions=0, n_skipped=31, n_successful=434]"
     ]
    },
    {
     "name": "stdout",
     "output_type": "stream",
     "text": [
      "skipping c[c@@]1(c(=o)n2[c@h](c(=o)n3ccc[c@h]3[c@@]2(o1)o)cc4ccccc4)nc(=o)[c@@h]5c[c@@h]6c7cccc8c7c(c[nh]8)c[c@h]6[n@@](c5)c-14, which has a status ERROR\n"
     ]
    },
    {
     "name": "stderr",
     "output_type": "stream",
     "text": [
      "  2%|▏         | 424/26736 [01:03<1:28:01,  4.98it/s, n_exceptions=0, n_skipped=32, n_successful=434]"
     ]
    },
    {
     "name": "stdout",
     "output_type": "stream",
     "text": [
      "skipping c[c@@]1(c(=o)n2[c@h](c(=o)n3ccc[c@h]3[c@@]2(o1)o)cc4ccccc4)nc(=o)[c@@h]5c[c@@h]6c7cccc8c7c(c[nh]8)c[c@h]6[n@@](c5)c-15, which has a status ERROR\n"
     ]
    },
    {
     "name": "stderr",
     "output_type": "stream",
     "text": [
      "  4%|▍         | 1027/26736 [1:41:18<61:28:15,  8.61s/it, n_exceptions=0, n_skipped=33, n_successful=994]"
     ]
    },
    {
     "name": "stdout",
     "output_type": "stream",
     "text": [
      "skipping c(cc(=o)[o-])c(=o)c[nh3+]-7, which has a status ERROR\n"
     ]
    },
    {
     "name": "stderr",
     "output_type": "stream",
     "text": [
      "  5%|▍         | 1267/26736 [2:24:07<79:37:58, 11.26s/it, n_exceptions=0, n_skipped=35, n_successful=1232] "
     ]
    },
    {
     "name": "stdout",
     "output_type": "stream",
     "text": [
      "skipping c1c(cc(c(c1i)oc2cc(c(c(c2)i)[o-])i)i)c[c@@h](c(=o)[o-])[nh3+]-0, which has a status ERROR\n",
      "skipping c1c(cc(c(c1i)oc2cc(c(c(c2)i)[o-])i)i)c[c@@h](c(=o)[o-])[nh3+]-1, which has a status ERROR\n"
     ]
    },
    {
     "name": "stderr",
     "output_type": "stream",
     "text": [
      "  5%|▍         | 1268/26736 [2:24:07<57:04:42,  8.07s/it, n_exceptions=0, n_skipped=36, n_successful=1232]"
     ]
    },
    {
     "name": "stdout",
     "output_type": "stream",
     "text": [
      "skipping c1c(cc(c(c1i)oc2cc(c(c(c2)i)[o-])i)i)c[c@@h](c(=o)[o-])[nh3+]-2, which has a status ERROR\n"
     ]
    },
    {
     "name": "stderr",
     "output_type": "stream",
     "text": [
      "  5%|▍         | 1269/26736 [2:24:08<40:45:03,  5.76s/it, n_exceptions=0, n_skipped=37, n_successful=1232]"
     ]
    },
    {
     "name": "stdout",
     "output_type": "stream",
     "text": [
      "skipping c1c(cc(c(c1i)oc2cc(c(c(c2)i)[o-])i)i)c[c@@h](c(=o)[o-])[nh3+]-3, which has a status ERROR\n"
     ]
    },
    {
     "name": "stderr",
     "output_type": "stream",
     "text": [
      "  5%|▍         | 1270/26736 [2:24:08<29:24:53,  4.16s/it, n_exceptions=0, n_skipped=38, n_successful=1232]"
     ]
    },
    {
     "name": "stdout",
     "output_type": "stream",
     "text": [
      "skipping c1c(cc(c(c1i)oc2cc(c(c(c2)i)[o-])i)i)c[c@@h](c(=o)[o-])[nh3+]-4, which has a status ERROR\n"
     ]
    },
    {
     "name": "stderr",
     "output_type": "stream",
     "text": [
      "  5%|▍         | 1271/26736 [2:24:09<21:46:33,  3.08s/it, n_exceptions=0, n_skipped=39, n_successful=1232]"
     ]
    },
    {
     "name": "stdout",
     "output_type": "stream",
     "text": [
      "skipping c1c(cc(c(c1i)oc2cc(c(c(c2)i)[o-])i)i)c[c@@h](c(=o)[o-])[nh3+]-5, which has a status ERROR\n"
     ]
    },
    {
     "name": "stderr",
     "output_type": "stream",
     "text": [
      "  5%|▍         | 1272/26736 [2:24:09<16:35:28,  2.35s/it, n_exceptions=0, n_skipped=40, n_successful=1232]"
     ]
    },
    {
     "name": "stdout",
     "output_type": "stream",
     "text": [
      "skipping c1c(cc(c(c1i)oc2cc(c(c(c2)i)[o-])i)i)c[c@@h](c(=o)[o-])[nh3+]-6, which has a status ERROR\n"
     ]
    },
    {
     "name": "stderr",
     "output_type": "stream",
     "text": [
      "  5%|▍         | 1273/26736 [2:24:10<12:39:14,  1.79s/it, n_exceptions=0, n_skipped=41, n_successful=1232]"
     ]
    },
    {
     "name": "stdout",
     "output_type": "stream",
     "text": [
      "skipping c1c(cc(c(c1i)oc2cc(c(c(c2)i)[o-])i)i)c[c@@h](c(=o)[o-])[nh3+]-7, which has a status ERROR\n"
     ]
    },
    {
     "name": "stderr",
     "output_type": "stream",
     "text": [
      "  5%|▍         | 1274/26736 [2:24:11<10:31:31,  1.49s/it, n_exceptions=0, n_skipped=42, n_successful=1232]"
     ]
    },
    {
     "name": "stdout",
     "output_type": "stream",
     "text": [
      "skipping c1c(cc(c(c1i)oc2cc(c(c(c2)i)[o-])i)i)c[c@@h](c(=o)[o-])[nh3+]-8, which has a status ERROR\n"
     ]
    },
    {
     "name": "stderr",
     "output_type": "stream",
     "text": [
      "  5%|▍         | 1275/26736 [2:24:11<8:49:27,  1.25s/it, n_exceptions=0, n_skipped=43, n_successful=1232] "
     ]
    },
    {
     "name": "stdout",
     "output_type": "stream",
     "text": [
      "skipping c1c(cc(c(c1i)oc2cc(c(c(c2)i)[o-])i)i)c[c@@h](c(=o)[o-])[nh3+]-9, which has a status ERROR\n"
     ]
    },
    {
     "name": "stderr",
     "output_type": "stream",
     "text": [
      "  5%|▍         | 1278/26736 [2:24:39<41:03:36,  5.81s/it, n_exceptions=0, n_skipped=44, n_successful=1234]"
     ]
    },
    {
     "name": "stdout",
     "output_type": "stream",
     "text": [
      "skipping c(cc(o)(p(=o)([o-])[o-])p(=o)([o-])[o-])c[nh3+]-1, which has a status ERROR\n"
     ]
    },
    {
     "name": "stderr",
     "output_type": "stream",
     "text": [
      "  5%|▌         | 1398/26736 [2:51:27<87:58:44, 12.50s/it, n_exceptions=0, n_skipped=45, n_successful=1353] "
     ]
    },
    {
     "name": "stdout",
     "output_type": "stream",
     "text": [
      "skipping c1nc2c(nc(nc2n1[c@h]3[c@h]([c@@h]([c@h](o3)cop(=o)([o-])[o-])o)o)f)n-0, which has a status ERROR\n"
     ]
    },
    {
     "name": "stderr",
     "output_type": "stream",
     "text": [
      "  5%|▌         | 1399/26736 [2:51:27<62:17:55,  8.85s/it, n_exceptions=0, n_skipped=47, n_successful=1353]"
     ]
    },
    {
     "name": "stdout",
     "output_type": "stream",
     "text": [
      "skipping c1nc2c(nc(nc2n1[c@h]3[c@h]([c@@h]([c@h](o3)cop(=o)([o-])[o-])o)o)f)n-1, which has a status ERROR\n",
      "skipping c1nc2c(nc(nc2n1[c@h]3[c@h]([c@@h]([c@h](o3)cop(=o)([o-])[o-])o)o)f)n-2, which has a status ERROR\n"
     ]
    },
    {
     "name": "stderr",
     "output_type": "stream",
     "text": [
      "  5%|▌         | 1402/26736 [2:51:28<31:05:01,  4.42s/it, n_exceptions=0, n_skipped=49, n_successful=1353]"
     ]
    },
    {
     "name": "stdout",
     "output_type": "stream",
     "text": [
      "skipping c1nc2c(nc(nc2n1[c@h]3[c@h]([c@@h]([c@h](o3)cop(=o)([o-])[o-])o)o)f)n-3, which has a status ERROR\n",
      "skipping c1nc2c(nc(nc2n1[c@h]3[c@h]([c@@h]([c@h](o3)cop(=o)([o-])[o-])o)o)f)n-4, which has a status ERROR\n"
     ]
    },
    {
     "name": "stderr",
     "output_type": "stream",
     "text": [
      "  5%|▌         | 1404/26736 [2:51:28<21:57:14,  3.12s/it, n_exceptions=0, n_skipped=51, n_successful=1353]"
     ]
    },
    {
     "name": "stdout",
     "output_type": "stream",
     "text": [
      "skipping c1nc2c(nc(nc2n1[c@h]3[c@h]([c@@h]([c@h](o3)cop(=o)([o-])[o-])o)o)f)n-5, which has a status ERROR\n",
      "skipping c1nc2c(nc(nc2n1[c@h]3[c@h]([c@@h]([c@h](o3)cop(=o)([o-])[o-])o)o)f)n-6, which has a status ERROR\n"
     ]
    },
    {
     "name": "stderr",
     "output_type": "stream",
     "text": [
      "  5%|▌         | 1405/26736 [2:51:28<15:37:14,  2.22s/it, n_exceptions=0, n_skipped=52, n_successful=1353]"
     ]
    },
    {
     "name": "stdout",
     "output_type": "stream",
     "text": [
      "skipping c1nc2c(nc(nc2n1[c@h]3[c@h]([c@@h]([c@h](o3)cop(=o)([o-])[o-])o)o)f)n-7, which has a status ERROR\n"
     ]
    },
    {
     "name": "stderr",
     "output_type": "stream",
     "text": [
      "  5%|▌         | 1407/26736 [2:51:28<8:21:26,  1.19s/it, n_exceptions=0, n_skipped=55, n_successful=1353] "
     ]
    },
    {
     "name": "stdout",
     "output_type": "stream",
     "text": [
      "skipping c1nc2c(nc(nc2n1[c@h]3[c@h]([c@@h]([c@h](o3)cop(=o)([o-])[o-])o)o)f)n-8, which has a status ERROR\n",
      "skipping c1nc2c(nc(nc2n1[c@h]3[c@h]([c@@h]([c@h](o3)cop(=o)([o-])[o-])o)o)f)n-9, which has a status ERROR\n",
      "skipping c1nc2c(nc(nc2n1[c@h]3[c@h]([c@@h]([c@h](o3)cop(=o)([o-])[o-])o)o)f)n-10, which has a status ERROR\n"
     ]
    },
    {
     "name": "stderr",
     "output_type": "stream",
     "text": [
      "  5%|▌         | 1409/26736 [2:51:29<6:08:42,  1.14it/s, n_exceptions=0, n_skipped=56, n_successful=1353]"
     ]
    },
    {
     "name": "stdout",
     "output_type": "stream",
     "text": [
      "skipping c1nc2c(nc(nc2n1[c@h]3[c@h]([c@@h]([c@h](o3)cop(=o)([o-])[o-])o)o)f)n-11, which has a status ERROR\n"
     ]
    },
    {
     "name": "stderr",
     "output_type": "stream",
     "text": [
      "  5%|▌         | 1410/26736 [2:51:55<59:02:39,  8.39s/it, n_exceptions=0, n_skipped=58, n_successful=1354]"
     ]
    },
    {
     "name": "stdout",
     "output_type": "stream",
     "text": [
      "skipping c1nc2c(nc(nc2n1[c@h]3[c@h]([c@@h]([c@h](o3)cop(=o)([o-])[o-])o)o)f)n-13, which has a status ERROR\n",
      "skipping c1nc2c(nc(nc2n1[c@h]3[c@h]([c@@h]([c@h](o3)cop(=o)([o-])[o-])o)o)f)n-14, which has a status ERROR\n"
     ]
    },
    {
     "name": "stderr",
     "output_type": "stream",
     "text": [
      "  5%|▌         | 1415/26736 [2:52:13<33:42:29,  4.79s/it, n_exceptions=0, n_skipped=60, n_successful=1355]"
     ]
    },
    {
     "name": "stdout",
     "output_type": "stream",
     "text": [
      "skipping c1nc2c(nc(nc2n1[c@h]3[c@h]([c@@h]([c@h](o3)cop(=o)([o-])[o-])o)o)f)n-16, which has a status ERROR\n",
      "skipping c1nc2c(nc(nc2n1[c@h]3[c@h]([c@@h]([c@h](o3)cop(=o)([o-])[o-])o)o)f)n-17, which has a status ERROR\n"
     ]
    },
    {
     "name": "stderr",
     "output_type": "stream",
     "text": [
      "  5%|▌         | 1417/26736 [2:52:26<35:42:48,  5.08s/it, n_exceptions=0, n_skipped=61, n_successful=1356]"
     ]
    },
    {
     "name": "stdout",
     "output_type": "stream",
     "text": [
      "skipping c1nc2c(nc(nc2n1[c@h]3[c@h]([c@@h]([c@h](o3)cop(=o)([o-])[o-])o)o)f)n-19, which has a status ERROR\n"
     ]
    },
    {
     "name": "stderr",
     "output_type": "stream",
     "text": [
      "  5%|▌         | 1421/26736 [2:53:08<49:03:40,  6.98s/it, n_exceptions=0, n_skipped=62, n_successful=1359]"
     ]
    },
    {
     "name": "stdout",
     "output_type": "stream",
     "text": [
      "skipping c1nc2c(nc(nc2n1[c@h]3[c@h]([c@@h]([c@h](o3)co[p@](=o)(o)[o-])o)o)f)n-3, which has a status ERROR\n"
     ]
    },
    {
     "name": "stderr",
     "output_type": "stream",
     "text": [
      "  8%|▊         | 2270/26736 [5:15:11<48:55:57,  7.20s/it, n_exceptions=0, n_skipped=65, n_successful=2205] "
     ]
    },
    {
     "name": "stdout",
     "output_type": "stream",
     "text": [
      "skipping cc1c2c(c(n(c1=o)c)nc3ccc(cc3f)i)c(=o)n(c(=o)n2c4cccc(c4)nc(=o)c)c5cc5-0, which has a status ERROR\n",
      "skipping cc1c2c(c(n(c1=o)c)nc3ccc(cc3f)i)c(=o)n(c(=o)n2c4cccc(c4)nc(=o)c)c5cc5-1, which has a status ERROR\n",
      "skipping cc1c2c(c(n(c1=o)c)nc3ccc(cc3f)i)c(=o)n(c(=o)n2c4cccc(c4)nc(=o)c)c5cc5-2, which has a status ERROR\n"
     ]
    },
    {
     "name": "stderr",
     "output_type": "stream",
     "text": [
      "  9%|▊         | 2273/26736 [5:15:11<24:28:23,  3.60s/it, n_exceptions=0, n_skipped=68, n_successful=2205]"
     ]
    },
    {
     "name": "stdout",
     "output_type": "stream",
     "text": [
      "skipping cc1c2c(c(n(c1=o)c)nc3ccc(cc3f)i)c(=o)n(c(=o)n2c4cccc(c4)nc(=o)c)c5cc5-3, which has a status ERROR\n",
      "skipping cc1c2c(c(n(c1=o)c)nc3ccc(cc3f)i)c(=o)n(c(=o)n2c4cccc(c4)nc(=o)c)c5cc5-4, which has a status ERROR\n",
      "skipping cc1c2c(c(n(c1=o)c)nc3ccc(cc3f)i)c(=o)n(c(=o)n2c4cccc(c4)nc(=o)c)c5cc5-5, which has a status ERROR\n"
     ]
    },
    {
     "name": "stderr",
     "output_type": "stream",
     "text": [
      "  9%|▊         | 2274/26736 [5:15:12<17:57:36,  2.64s/it, n_exceptions=0, n_skipped=70, n_successful=2205]"
     ]
    },
    {
     "name": "stdout",
     "output_type": "stream",
     "text": [
      "skipping cc1c2c(c(n(c1=o)c)nc3ccc(cc3f)i)c(=o)n(c(=o)n2c4cccc(c4)nc(=o)c)c5cc5-6, which has a status ERROR\n",
      "skipping cc1c2c(c(n(c1=o)c)nc3ccc(cc3f)i)c(=o)n(c(=o)n2c4cccc(c4)nc(=o)c)c5cc5-7, which has a status ERROR\n"
     ]
    },
    {
     "name": "stderr",
     "output_type": "stream",
     "text": [
      "  9%|▊         | 2276/26736 [5:15:12<12:47:03,  1.88s/it, n_exceptions=0, n_skipped=71, n_successful=2205]"
     ]
    },
    {
     "name": "stdout",
     "output_type": "stream",
     "text": [
      "skipping cc1c2c(c(n(c1=o)c)nc3ccc(cc3f)i)c(=o)n(c(=o)n2c4cccc(c4)nc(=o)c)c5cc5-8, which has a status ERROR\n"
     ]
    },
    {
     "name": "stderr",
     "output_type": "stream",
     "text": [
      "  9%|▊         | 2277/26736 [5:15:13<9:22:25,  1.38s/it, n_exceptions=0, n_skipped=74, n_successful=2205] "
     ]
    },
    {
     "name": "stdout",
     "output_type": "stream",
     "text": [
      "skipping cc1c2c(c(n(c1=o)c)nc3ccc(cc3f)i)c(=o)n(c(=o)n2c4cccc(c4)nc(=o)c)c5cc5-9, which has a status ERROR\n",
      "skipping cc1c2c(c(n(c1=o)c)nc3ccc(cc3f)i)c(=o)n(c(=o)n2c4cccc(c4)nc(=o)c)c5cc5-10, which has a status ERROR\n",
      "skipping cc1c2c(c(n(c1=o)c)nc3ccc(cc3f)i)c(=o)n(c(=o)n2c4cccc(c4)nc(=o)c)c5cc5-11, which has a status ERROR\n"
     ]
    },
    {
     "name": "stderr",
     "output_type": "stream",
     "text": [
      "  9%|▊         | 2281/26736 [5:15:13<4:55:48,  1.38it/s, n_exceptions=0, n_skipped=76, n_successful=2205]"
     ]
    },
    {
     "name": "stdout",
     "output_type": "stream",
     "text": [
      "skipping cc1c2c(c(n(c1=o)c)nc3ccc(cc3f)i)c(=o)n(c(=o)n2c4cccc(c4)nc(=o)c)c5cc5-12, which has a status ERROR\n",
      "skipping cc1c2c(c(n(c1=o)c)nc3ccc(cc3f)i)c(=o)n(c(=o)n2c4cccc(c4)nc(=o)c)c5cc5-13, which has a status ERROR\n"
     ]
    },
    {
     "name": "stderr",
     "output_type": "stream",
     "text": [
      "  9%|▊         | 2284/26736 [5:15:13<3:04:31,  2.21it/s, n_exceptions=0, n_skipped=79, n_successful=2205]"
     ]
    },
    {
     "name": "stdout",
     "output_type": "stream",
     "text": [
      "skipping cc1c2c(c(n(c1=o)c)nc3ccc(cc3f)i)c(=o)n(c(=o)n2c4cccc(c4)nc(=o)c)c5cc5-14, which has a status ERROR\n",
      "skipping cc1c2c(c(n(c1=o)c)nc3ccc(cc3f)i)c(=o)n(c(=o)n2c4cccc(c4)nc(=o)c)c5cc5-15, which has a status ERROR\n",
      "skipping cc1c2c(c(n(c1=o)c)nc3ccc(cc3f)i)c(=o)n(c(=o)n2c4cccc(c4)nc(=o)c)c5cc5-16, which has a status ERROR\n"
     ]
    },
    {
     "name": "stderr",
     "output_type": "stream",
     "text": [
      "  9%|▊         | 2287/26736 [5:15:14<1:58:52,  3.43it/s, n_exceptions=0, n_skipped=82, n_successful=2205]"
     ]
    },
    {
     "name": "stdout",
     "output_type": "stream",
     "text": [
      "skipping cc1c2c(c(n(c1=o)c)nc3ccc(cc3f)i)c(=o)n(c(=o)n2c4cccc(c4)nc(=o)c)c5cc5-17, which has a status ERROR\n",
      "skipping cc1c2c(c(n(c1=o)c)nc3ccc(cc3f)i)c(=o)n(c(=o)n2c4cccc(c4)nc(=o)c)c5cc5-18, which has a status ERROR\n",
      "skipping cc1c2c(c(n(c1=o)c)nc3ccc(cc3f)i)c(=o)n(c(=o)n2c4cccc(c4)nc(=o)c)c5cc5-19, which has a status ERROR\n"
     ]
    },
    {
     "name": "stderr",
     "output_type": "stream",
     "text": [
      "  9%|▉         | 2439/26736 [5:44:12<59:57:33,  8.88s/it, n_exceptions=0, n_skipped=85, n_successful=2354] "
     ]
    },
    {
     "name": "stdout",
     "output_type": "stream",
     "text": [
      "skipping c[c@h](cn1cnc2c1ncnc2n)ocp(=o)([o-])[o-]-2, which has a status ERROR\n",
      "skipping c[c@h](cn1cnc2c1ncnc2n)ocp(=o)([o-])[o-]-3, which has a status ERROR\n",
      "skipping c[c@h](cn1cnc2c1ncnc2n)ocp(=o)([o-])[o-]-4, which has a status ERROR\n"
     ]
    },
    {
     "name": "stderr",
     "output_type": "stream",
     "text": [
      "  9%|▉         | 2441/26736 [5:44:41<70:04:53, 10.38s/it, n_exceptions=0, n_skipped=86, n_successful=2355]"
     ]
    },
    {
     "name": "stdout",
     "output_type": "stream",
     "text": [
      "skipping c[c@h](cn1cnc2c1ncnc2n)ocp(=o)([o-])[o-]-6, which has a status ERROR\n"
     ]
    },
    {
     "name": "stderr",
     "output_type": "stream",
     "text": [
      "  9%|▉         | 2445/26736 [5:45:02<35:52:53,  5.32s/it, n_exceptions=0, n_skipped=88, n_successful=2357]"
     ]
    },
    {
     "name": "stdout",
     "output_type": "stream",
     "text": [
      "skipping c[c@h](cn1cnc2c1ncnc2n)ocp(=o)([o-])[o-]-9, which has a status ERROR\n",
      "skipping c[c@h](cn1cnc2c1ncnc2n)ocp(=o)([o-])[o-]-10, which has a status ERROR\n"
     ]
    },
    {
     "name": "stderr",
     "output_type": "stream",
     "text": [
      "  9%|▉         | 2446/26736 [5:45:03<25:21:43,  3.76s/it, n_exceptions=0, n_skipped=89, n_successful=2357]"
     ]
    },
    {
     "name": "stdout",
     "output_type": "stream",
     "text": [
      "skipping c[c@h](cn1cnc2c1ncnc2n)ocp(=o)([o-])[o-]-11, which has a status ERROR\n"
     ]
    },
    {
     "name": "stderr",
     "output_type": "stream",
     "text": [
      "  9%|▉         | 2448/26736 [5:45:13<27:16:23,  4.04s/it, n_exceptions=0, n_skipped=90, n_successful=2358]"
     ]
    },
    {
     "name": "stdout",
     "output_type": "stream",
     "text": [
      "skipping c[c@h](cn1cnc2c1ncnc2n)ocp(=o)([o-])[o-]-13, which has a status ERROR\n"
     ]
    },
    {
     "name": "stderr",
     "output_type": "stream",
     "text": [
      " 11%|█         | 2812/26736 [6:57:36<50:30:27,  7.60s/it, n_exceptions=0, n_skipped=91, n_successful=2721] "
     ]
    },
    {
     "name": "stdout",
     "output_type": "stream",
     "text": [
      "skipping cc(=o)nc1c(c(c(c(c1i)c(=o)[o-])i)c(=o)nc)i-0, which has a status ERROR\n"
     ]
    },
    {
     "name": "stderr",
     "output_type": "stream",
     "text": [
      " 11%|█         | 2813/26736 [6:57:37<35:58:50,  5.41s/it, n_exceptions=0, n_skipped=92, n_successful=2721]"
     ]
    },
    {
     "name": "stdout",
     "output_type": "stream",
     "text": [
      "skipping cc(=o)nc1c(c(c(c(c1i)c(=o)[o-])i)c(=o)nc)i-1, which has a status ERROR\n"
     ]
    },
    {
     "name": "stderr",
     "output_type": "stream",
     "text": [
      " 11%|█         | 2923/26736 [7:13:22<41:14:29,  6.23s/it, n_exceptions=0, n_skipped=93, n_successful=2830] "
     ]
    },
    {
     "name": "stdout",
     "output_type": "stream",
     "text": [
      "skipping c1ccc(cc1)[c@h](c(=o)n[c@h]2[c@@h]3n(c2=o)c(=c(cs3)cl)c(=o)[o-])n-3, which has a status ERROR\n"
     ]
    },
    {
     "name": "stderr",
     "output_type": "stream",
     "text": [
      " 14%|█▎        | 3635/26736 [9:34:24<53:34:48,  8.35s/it, n_exceptions=0, n_skipped=94, n_successful=3541] "
     ]
    },
    {
     "name": "stdout",
     "output_type": "stream",
     "text": [
      "skipping c[c@@h]1cc[c@@]23ccc(=o)[c@h]2[c@@]1([c@@h](c[c@@]([c@h]([c@@h]3c)o)(c)c=c)oc(=o)csc4c[c@h]5cc[c@@h](c4)[nh+]5c)c-5, which has a status ERROR\n"
     ]
    },
    {
     "name": "stderr",
     "output_type": "stream",
     "text": [
      " 14%|█▎        | 3642/26736 [9:36:23<73:23:50, 11.44s/it, n_exceptions=0, n_skipped=95, n_successful=3547] "
     ]
    },
    {
     "name": "stdout",
     "output_type": "stream",
     "text": [
      "skipping c[c@@h]1cc[c@@]23ccc(=o)[c@h]2[c@@]1([c@@h](c[c@@]([c@h]([c@@h]3c)o)(c)c=c)oc(=o)csc4c[c@h]5cc[c@@h](c4)[nh+]5c)c-12, which has a status ERROR\n"
     ]
    },
    {
     "name": "stderr",
     "output_type": "stream",
     "text": [
      " 14%|█▎        | 3655/26736 [9:39:42<54:45:05,  8.54s/it, n_exceptions=0, n_skipped=96, n_successful=3559] "
     ]
    },
    {
     "name": "stdout",
     "output_type": "stream",
     "text": [
      "skipping c[c@@h]1cc[c@@]23ccc(=o)[c@h]2[c@@]1([c@@h](c[c@@]([c@h]([c@@h]3c)o)(c)c=c)oc(=o)csc4c[c@h]5cc[c@@h](c4)[nh+]5c)c-25, which has a status ERROR\n"
     ]
    },
    {
     "name": "stderr",
     "output_type": "stream",
     "text": [
      " 14%|█▎        | 3662/26736 [9:41:43<74:55:03, 11.69s/it, n_exceptions=0, n_skipped=97, n_successful=3565] "
     ]
    },
    {
     "name": "stdout",
     "output_type": "stream",
     "text": [
      "skipping c[c@@h]1cc[c@@]23ccc(=o)[c@h]2[c@@]1([c@@h](c[c@@]([c@h]([c@@h]3c)o)(c)c=c)oc(=o)csc4c[c@h]5cc[c@@h](c4)[nh+]5c)c-32, which has a status ERROR\n"
     ]
    },
    {
     "name": "stderr",
     "output_type": "stream",
     "text": [
      " 14%|█▎        | 3675/26736 [9:45:06<58:50:32,  9.19s/it, n_exceptions=0, n_skipped=98, n_successful=3577] "
     ]
    },
    {
     "name": "stdout",
     "output_type": "stream",
     "text": [
      "skipping c[c@@h]1cc[c@@]23ccc(=o)[c@h]2[c@@]1([c@@h](c[c@@]([c@h]([c@@h]3c)o)(c)c=c)oc(=o)csc4c[c@h]5cc[c@@h](c4)[nh+]5c)c-45, which has a status ERROR\n"
     ]
    },
    {
     "name": "stderr",
     "output_type": "stream",
     "text": [
      " 14%|█▍        | 3682/26736 [9:47:02<74:35:58, 11.65s/it, n_exceptions=0, n_skipped=99, n_successful=3583] "
     ]
    },
    {
     "name": "stdout",
     "output_type": "stream",
     "text": [
      "skipping c[c@@h]1cc[c@@]23ccc(=o)[c@h]2[c@@]1([c@@h](c[c@@]([c@h]([c@@h]3c)o)(c)c=c)oc(=o)csc4c[c@h]5cc[c@@h](c4)[nh+]5c)c-52, which has a status ERROR\n"
     ]
    },
    {
     "name": "stderr",
     "output_type": "stream",
     "text": [
      " 14%|█▍        | 3695/26736 [9:50:27<59:28:59,  9.29s/it, n_exceptions=0, n_skipped=100, n_successful=3595]"
     ]
    },
    {
     "name": "stdout",
     "output_type": "stream",
     "text": [
      "skipping c[c@@h]1cc[c@@]23ccc(=o)[c@h]2[c@@]1([c@@h](c[c@@]([c@h]([c@@h]3c)o)(c)c=c)oc(=o)csc4c[c@h]5cc[c@@h](c4)[nh+]5c)c-65, which has a status ERROR\n"
     ]
    },
    {
     "name": "stderr",
     "output_type": "stream",
     "text": [
      " 14%|█▍        | 3702/26736 [9:52:17<69:53:01, 10.92s/it, n_exceptions=0, n_skipped=101, n_successful=3601] "
     ]
    },
    {
     "name": "stdout",
     "output_type": "stream",
     "text": [
      "skipping c[c@@h]1cc[c@@]23ccc(=o)[c@h]2[c@@]1([c@@h](c[c@@]([c@h]([c@@h]3c)o)(c)c=c)oc(=o)csc4c[c@h]5cc[c@@h](c4)[nh+]5c)c-72, which has a status ERROR\n"
     ]
    },
    {
     "name": "stderr",
     "output_type": "stream",
     "text": [
      " 14%|█▍        | 3789/26736 [10:09:11<61:29:22,  9.65s/it, n_exceptions=0, n_skipped=101, n_successful=3688]\n"
     ]
    },
    {
     "ename": "KeyboardInterrupt",
     "evalue": "",
     "output_type": "error",
     "traceback": [
      "\u001b[0;31m---------------------------------------------------------------------------\u001b[0m",
      "\u001b[0;31mKeyboardInterrupt\u001b[0m                         Traceback (most recent call last)",
      "\u001b[0;32m<ipython-input-368-fb3111890431>\u001b[0m in \u001b[0;36m<module>\u001b[0;34m\u001b[0m\n\u001b[1;32m     15\u001b[0m     \u001b[0;32mif\u001b[0m \u001b[0;34m(\u001b[0m\u001b[0mstatus_string\u001b[0m \u001b[0;34m==\u001b[0m \u001b[0;34m'complete'\u001b[0m\u001b[0;34m)\u001b[0m \u001b[0;32mand\u001b[0m \u001b[0;34m(\u001b[0m\u001b[0mrecord_name\u001b[0m \u001b[0;32mnot\u001b[0m \u001b[0;32min\u001b[0m \u001b[0mall_mols_and_targets\u001b[0m\u001b[0;34m)\u001b[0m\u001b[0;34m:\u001b[0m\u001b[0;34m\u001b[0m\u001b[0;34m\u001b[0m\u001b[0m\n\u001b[1;32m     16\u001b[0m         \u001b[0;32mtry\u001b[0m\u001b[0;34m:\u001b[0m\u001b[0;34m\u001b[0m\u001b[0;34m\u001b[0m\u001b[0m\n\u001b[0;32m---> 17\u001b[0;31m             \u001b[0mall_mols_and_targets\u001b[0m\u001b[0;34m[\u001b[0m\u001b[0mrecord_name\u001b[0m\u001b[0;34m]\u001b[0m \u001b[0;34m=\u001b[0m \u001b[0mget_mol_with_targets\u001b[0m\u001b[0;34m(\u001b[0m\u001b[0mrecord\u001b[0m\u001b[0;34m,\u001b[0m \u001b[0mentry\u001b[0m\u001b[0;34m)\u001b[0m\u001b[0;34m\u001b[0m\u001b[0;34m\u001b[0m\u001b[0m\n\u001b[0m\u001b[1;32m     18\u001b[0m         \u001b[0;32mexcept\u001b[0m \u001b[0mException\u001b[0m \u001b[0;32mas\u001b[0m \u001b[0me\u001b[0m\u001b[0;34m:\u001b[0m\u001b[0;34m\u001b[0m\u001b[0;34m\u001b[0m\u001b[0m\n\u001b[1;32m     19\u001b[0m             \u001b[0mprint\u001b[0m\u001b[0;34m(\u001b[0m\u001b[0;34mf'unspecified problem encountered with {record_name}!'\u001b[0m\u001b[0;34m)\u001b[0m\u001b[0;34m\u001b[0m\u001b[0;34m\u001b[0m\u001b[0m\n",
      "\u001b[0;32m<ipython-input-178-3fa286fb9e66>\u001b[0m in \u001b[0;36mget_mol_with_targets\u001b[0;34m(record, entry)\u001b[0m\n\u001b[1;32m      5\u001b[0m \u001b[0;34m\u001b[0m\u001b[0m\n\u001b[1;32m      6\u001b[0m     \u001b[0;31m# trajectory containing xyz, energies, and gradients\u001b[0m\u001b[0;34m\u001b[0m\u001b[0;34m\u001b[0m\u001b[0;34m\u001b[0m\u001b[0m\n\u001b[0;32m----> 7\u001b[0;31m     \u001b[0mtrajectory\u001b[0m \u001b[0;34m=\u001b[0m \u001b[0mrecord\u001b[0m\u001b[0;34m.\u001b[0m\u001b[0mget_trajectory\u001b[0m\u001b[0;34m(\u001b[0m\u001b[0;34m)\u001b[0m\u001b[0;34m\u001b[0m\u001b[0;34m\u001b[0m\u001b[0m\n\u001b[0m\u001b[1;32m      8\u001b[0m \u001b[0;34m\u001b[0m\u001b[0m\n\u001b[1;32m      9\u001b[0m     \u001b[0;31m# xyz\u001b[0m\u001b[0;34m\u001b[0m\u001b[0;34m\u001b[0m\u001b[0;34m\u001b[0m\u001b[0m\n",
      "\u001b[0;32m~/anaconda3/envs/espaloma/lib/python3.7/site-packages/qcportal/models/records.py\u001b[0m in \u001b[0;36mget_trajectory\u001b[0;34m(self)\u001b[0m\n\u001b[1;32m    457\u001b[0m \u001b[0;34m\u001b[0m\u001b[0m\n\u001b[1;32m    458\u001b[0m         \u001b[0;32mif\u001b[0m \u001b[0;34m\"trajectory\"\u001b[0m \u001b[0;32mnot\u001b[0m \u001b[0;32min\u001b[0m \u001b[0mself\u001b[0m\u001b[0;34m.\u001b[0m\u001b[0mcache\u001b[0m\u001b[0;34m:\u001b[0m\u001b[0;34m\u001b[0m\u001b[0;34m\u001b[0m\u001b[0m\n\u001b[0;32m--> 459\u001b[0;31m             \u001b[0mresult\u001b[0m \u001b[0;34m=\u001b[0m \u001b[0;34m{\u001b[0m\u001b[0mx\u001b[0m\u001b[0;34m.\u001b[0m\u001b[0mid\u001b[0m\u001b[0;34m:\u001b[0m \u001b[0mx\u001b[0m \u001b[0;32mfor\u001b[0m \u001b[0mx\u001b[0m \u001b[0;32min\u001b[0m \u001b[0mself\u001b[0m\u001b[0;34m.\u001b[0m\u001b[0mclient\u001b[0m\u001b[0;34m.\u001b[0m\u001b[0mquery_results\u001b[0m\u001b[0;34m(\u001b[0m\u001b[0mid\u001b[0m\u001b[0;34m=\u001b[0m\u001b[0mself\u001b[0m\u001b[0;34m.\u001b[0m\u001b[0mtrajectory\u001b[0m\u001b[0;34m)\u001b[0m\u001b[0;34m}\u001b[0m\u001b[0;34m\u001b[0m\u001b[0;34m\u001b[0m\u001b[0m\n\u001b[0m\u001b[1;32m    460\u001b[0m \u001b[0;34m\u001b[0m\u001b[0m\n\u001b[1;32m    461\u001b[0m             \u001b[0mself\u001b[0m\u001b[0;34m.\u001b[0m\u001b[0mcache\u001b[0m\u001b[0;34m[\u001b[0m\u001b[0;34m\"trajectory\"\u001b[0m\u001b[0;34m]\u001b[0m \u001b[0;34m=\u001b[0m \u001b[0;34m[\u001b[0m\u001b[0mresult\u001b[0m\u001b[0;34m[\u001b[0m\u001b[0mx\u001b[0m\u001b[0;34m]\u001b[0m \u001b[0;32mfor\u001b[0m \u001b[0mx\u001b[0m \u001b[0;32min\u001b[0m \u001b[0mself\u001b[0m\u001b[0;34m.\u001b[0m\u001b[0mtrajectory\u001b[0m\u001b[0;34m]\u001b[0m\u001b[0;34m\u001b[0m\u001b[0;34m\u001b[0m\u001b[0m\n",
      "\u001b[0;32m~/anaconda3/envs/espaloma/lib/python3.7/site-packages/qcportal/client.py\u001b[0m in \u001b[0;36mquery_results\u001b[0;34m(self, id, task_id, program, molecule, driver, method, basis, keywords, status, limit, skip, include, full_return)\u001b[0m\n\u001b[1;32m    716\u001b[0m             },\n\u001b[1;32m    717\u001b[0m         }\n\u001b[0;32m--> 718\u001b[0;31m         \u001b[0mresponse\u001b[0m \u001b[0;34m=\u001b[0m \u001b[0mself\u001b[0m\u001b[0;34m.\u001b[0m\u001b[0m_automodel_request\u001b[0m\u001b[0;34m(\u001b[0m\u001b[0;34m\"result\"\u001b[0m\u001b[0;34m,\u001b[0m \u001b[0;34m\"get\"\u001b[0m\u001b[0;34m,\u001b[0m \u001b[0mpayload\u001b[0m\u001b[0;34m,\u001b[0m \u001b[0mfull_return\u001b[0m\u001b[0;34m=\u001b[0m\u001b[0;32mTrue\u001b[0m\u001b[0;34m)\u001b[0m\u001b[0;34m\u001b[0m\u001b[0;34m\u001b[0m\u001b[0m\n\u001b[0m\u001b[1;32m    719\u001b[0m \u001b[0;34m\u001b[0m\u001b[0m\n\u001b[1;32m    720\u001b[0m         \u001b[0;31m# Add references back to the client\u001b[0m\u001b[0;34m\u001b[0m\u001b[0;34m\u001b[0m\u001b[0;34m\u001b[0m\u001b[0m\n",
      "\u001b[0;32m~/anaconda3/envs/espaloma/lib/python3.7/site-packages/qcportal/client.py\u001b[0m in \u001b[0;36m_automodel_request\u001b[0;34m(self, name, rest, payload, full_return, timeout)\u001b[0m\n\u001b[1;32m    272\u001b[0m             \u001b[0;32mraise\u001b[0m \u001b[0mTypeError\u001b[0m\u001b[0;34m(\u001b[0m\u001b[0mstr\u001b[0m\u001b[0;34m(\u001b[0m\u001b[0mexc\u001b[0m\u001b[0;34m)\u001b[0m\u001b[0;34m)\u001b[0m\u001b[0;34m\u001b[0m\u001b[0;34m\u001b[0m\u001b[0m\n\u001b[1;32m    273\u001b[0m \u001b[0;34m\u001b[0m\u001b[0m\n\u001b[0;32m--> 274\u001b[0;31m         \u001b[0mr\u001b[0m \u001b[0;34m=\u001b[0m \u001b[0mself\u001b[0m\u001b[0;34m.\u001b[0m\u001b[0m_request\u001b[0m\u001b[0;34m(\u001b[0m\u001b[0mrest\u001b[0m\u001b[0;34m,\u001b[0m \u001b[0mname\u001b[0m\u001b[0;34m,\u001b[0m \u001b[0mdata\u001b[0m\u001b[0;34m=\u001b[0m\u001b[0mpayload\u001b[0m\u001b[0;34m.\u001b[0m\u001b[0mserialize\u001b[0m\u001b[0;34m(\u001b[0m\u001b[0mself\u001b[0m\u001b[0;34m.\u001b[0m\u001b[0mencoding\u001b[0m\u001b[0;34m)\u001b[0m\u001b[0;34m,\u001b[0m \u001b[0mtimeout\u001b[0m\u001b[0;34m=\u001b[0m\u001b[0mtimeout\u001b[0m\u001b[0;34m)\u001b[0m\u001b[0;34m\u001b[0m\u001b[0;34m\u001b[0m\u001b[0m\n\u001b[0m\u001b[1;32m    275\u001b[0m         \u001b[0mencoding\u001b[0m \u001b[0;34m=\u001b[0m \u001b[0mr\u001b[0m\u001b[0;34m.\u001b[0m\u001b[0mheaders\u001b[0m\u001b[0;34m[\u001b[0m\u001b[0;34m\"Content-Type\"\u001b[0m\u001b[0;34m]\u001b[0m\u001b[0;34m.\u001b[0m\u001b[0msplit\u001b[0m\u001b[0;34m(\u001b[0m\u001b[0;34m\"/\"\u001b[0m\u001b[0;34m)\u001b[0m\u001b[0;34m[\u001b[0m\u001b[0;36m1\u001b[0m\u001b[0;34m]\u001b[0m\u001b[0;34m\u001b[0m\u001b[0;34m\u001b[0m\u001b[0m\n\u001b[1;32m    276\u001b[0m         \u001b[0mresponse\u001b[0m \u001b[0;34m=\u001b[0m \u001b[0mresponse_model\u001b[0m\u001b[0;34m.\u001b[0m\u001b[0mparse_raw\u001b[0m\u001b[0;34m(\u001b[0m\u001b[0mr\u001b[0m\u001b[0;34m.\u001b[0m\u001b[0mcontent\u001b[0m\u001b[0;34m,\u001b[0m \u001b[0mencoding\u001b[0m\u001b[0;34m=\u001b[0m\u001b[0mencoding\u001b[0m\u001b[0;34m)\u001b[0m\u001b[0;34m\u001b[0m\u001b[0;34m\u001b[0m\u001b[0m\n",
      "\u001b[0;32m~/anaconda3/envs/espaloma/lib/python3.7/site-packages/qcportal/client.py\u001b[0m in \u001b[0;36m_request\u001b[0;34m(self, method, service, data, noraise, timeout)\u001b[0m\n\u001b[1;32m    219\u001b[0m         \u001b[0;32mtry\u001b[0m\u001b[0;34m:\u001b[0m\u001b[0;34m\u001b[0m\u001b[0;34m\u001b[0m\u001b[0m\n\u001b[1;32m    220\u001b[0m             \u001b[0;32mif\u001b[0m \u001b[0mmethod\u001b[0m \u001b[0;34m==\u001b[0m \u001b[0;34m\"get\"\u001b[0m\u001b[0;34m:\u001b[0m\u001b[0;34m\u001b[0m\u001b[0;34m\u001b[0m\u001b[0m\n\u001b[0;32m--> 221\u001b[0;31m                 \u001b[0mr\u001b[0m \u001b[0;34m=\u001b[0m \u001b[0mrequests\u001b[0m\u001b[0;34m.\u001b[0m\u001b[0mget\u001b[0m\u001b[0;34m(\u001b[0m\u001b[0maddr\u001b[0m\u001b[0;34m,\u001b[0m \u001b[0;34m**\u001b[0m\u001b[0mkwargs\u001b[0m\u001b[0;34m)\u001b[0m\u001b[0;34m\u001b[0m\u001b[0;34m\u001b[0m\u001b[0m\n\u001b[0m\u001b[1;32m    222\u001b[0m             \u001b[0;32melif\u001b[0m \u001b[0mmethod\u001b[0m \u001b[0;34m==\u001b[0m \u001b[0;34m\"post\"\u001b[0m\u001b[0;34m:\u001b[0m\u001b[0;34m\u001b[0m\u001b[0;34m\u001b[0m\u001b[0m\n\u001b[1;32m    223\u001b[0m                 \u001b[0mr\u001b[0m \u001b[0;34m=\u001b[0m \u001b[0mrequests\u001b[0m\u001b[0;34m.\u001b[0m\u001b[0mpost\u001b[0m\u001b[0;34m(\u001b[0m\u001b[0maddr\u001b[0m\u001b[0;34m,\u001b[0m \u001b[0;34m**\u001b[0m\u001b[0mkwargs\u001b[0m\u001b[0;34m)\u001b[0m\u001b[0;34m\u001b[0m\u001b[0;34m\u001b[0m\u001b[0m\n",
      "\u001b[0;32m~/anaconda3/envs/espaloma/lib/python3.7/site-packages/requests/api.py\u001b[0m in \u001b[0;36mget\u001b[0;34m(url, params, **kwargs)\u001b[0m\n\u001b[1;32m     74\u001b[0m \u001b[0;34m\u001b[0m\u001b[0m\n\u001b[1;32m     75\u001b[0m     \u001b[0mkwargs\u001b[0m\u001b[0;34m.\u001b[0m\u001b[0msetdefault\u001b[0m\u001b[0;34m(\u001b[0m\u001b[0;34m'allow_redirects'\u001b[0m\u001b[0;34m,\u001b[0m \u001b[0;32mTrue\u001b[0m\u001b[0;34m)\u001b[0m\u001b[0;34m\u001b[0m\u001b[0;34m\u001b[0m\u001b[0m\n\u001b[0;32m---> 76\u001b[0;31m     \u001b[0;32mreturn\u001b[0m \u001b[0mrequest\u001b[0m\u001b[0;34m(\u001b[0m\u001b[0;34m'get'\u001b[0m\u001b[0;34m,\u001b[0m \u001b[0murl\u001b[0m\u001b[0;34m,\u001b[0m \u001b[0mparams\u001b[0m\u001b[0;34m=\u001b[0m\u001b[0mparams\u001b[0m\u001b[0;34m,\u001b[0m \u001b[0;34m**\u001b[0m\u001b[0mkwargs\u001b[0m\u001b[0;34m)\u001b[0m\u001b[0;34m\u001b[0m\u001b[0;34m\u001b[0m\u001b[0m\n\u001b[0m\u001b[1;32m     77\u001b[0m \u001b[0;34m\u001b[0m\u001b[0m\n\u001b[1;32m     78\u001b[0m \u001b[0;34m\u001b[0m\u001b[0m\n",
      "\u001b[0;32m~/anaconda3/envs/espaloma/lib/python3.7/site-packages/requests/api.py\u001b[0m in \u001b[0;36mrequest\u001b[0;34m(method, url, **kwargs)\u001b[0m\n\u001b[1;32m     59\u001b[0m     \u001b[0;31m# cases, and look like a memory leak in others.\u001b[0m\u001b[0;34m\u001b[0m\u001b[0;34m\u001b[0m\u001b[0;34m\u001b[0m\u001b[0m\n\u001b[1;32m     60\u001b[0m     \u001b[0;32mwith\u001b[0m \u001b[0msessions\u001b[0m\u001b[0;34m.\u001b[0m\u001b[0mSession\u001b[0m\u001b[0;34m(\u001b[0m\u001b[0;34m)\u001b[0m \u001b[0;32mas\u001b[0m \u001b[0msession\u001b[0m\u001b[0;34m:\u001b[0m\u001b[0;34m\u001b[0m\u001b[0;34m\u001b[0m\u001b[0m\n\u001b[0;32m---> 61\u001b[0;31m         \u001b[0;32mreturn\u001b[0m \u001b[0msession\u001b[0m\u001b[0;34m.\u001b[0m\u001b[0mrequest\u001b[0m\u001b[0;34m(\u001b[0m\u001b[0mmethod\u001b[0m\u001b[0;34m=\u001b[0m\u001b[0mmethod\u001b[0m\u001b[0;34m,\u001b[0m \u001b[0murl\u001b[0m\u001b[0;34m=\u001b[0m\u001b[0murl\u001b[0m\u001b[0;34m,\u001b[0m \u001b[0;34m**\u001b[0m\u001b[0mkwargs\u001b[0m\u001b[0;34m)\u001b[0m\u001b[0;34m\u001b[0m\u001b[0;34m\u001b[0m\u001b[0m\n\u001b[0m\u001b[1;32m     62\u001b[0m \u001b[0;34m\u001b[0m\u001b[0m\n\u001b[1;32m     63\u001b[0m \u001b[0;34m\u001b[0m\u001b[0m\n",
      "\u001b[0;32m~/anaconda3/envs/espaloma/lib/python3.7/site-packages/requests/sessions.py\u001b[0m in \u001b[0;36mrequest\u001b[0;34m(self, method, url, params, data, headers, cookies, files, auth, timeout, allow_redirects, proxies, hooks, stream, verify, cert, json)\u001b[0m\n\u001b[1;32m    528\u001b[0m         }\n\u001b[1;32m    529\u001b[0m         \u001b[0msend_kwargs\u001b[0m\u001b[0;34m.\u001b[0m\u001b[0mupdate\u001b[0m\u001b[0;34m(\u001b[0m\u001b[0msettings\u001b[0m\u001b[0;34m)\u001b[0m\u001b[0;34m\u001b[0m\u001b[0;34m\u001b[0m\u001b[0m\n\u001b[0;32m--> 530\u001b[0;31m         \u001b[0mresp\u001b[0m \u001b[0;34m=\u001b[0m \u001b[0mself\u001b[0m\u001b[0;34m.\u001b[0m\u001b[0msend\u001b[0m\u001b[0;34m(\u001b[0m\u001b[0mprep\u001b[0m\u001b[0;34m,\u001b[0m \u001b[0;34m**\u001b[0m\u001b[0msend_kwargs\u001b[0m\u001b[0;34m)\u001b[0m\u001b[0;34m\u001b[0m\u001b[0;34m\u001b[0m\u001b[0m\n\u001b[0m\u001b[1;32m    531\u001b[0m \u001b[0;34m\u001b[0m\u001b[0m\n\u001b[1;32m    532\u001b[0m         \u001b[0;32mreturn\u001b[0m \u001b[0mresp\u001b[0m\u001b[0;34m\u001b[0m\u001b[0;34m\u001b[0m\u001b[0m\n",
      "\u001b[0;32m~/anaconda3/envs/espaloma/lib/python3.7/site-packages/requests/sessions.py\u001b[0m in \u001b[0;36msend\u001b[0;34m(self, request, **kwargs)\u001b[0m\n\u001b[1;32m    641\u001b[0m \u001b[0;34m\u001b[0m\u001b[0m\n\u001b[1;32m    642\u001b[0m         \u001b[0;31m# Send the request\u001b[0m\u001b[0;34m\u001b[0m\u001b[0;34m\u001b[0m\u001b[0;34m\u001b[0m\u001b[0m\n\u001b[0;32m--> 643\u001b[0;31m         \u001b[0mr\u001b[0m \u001b[0;34m=\u001b[0m \u001b[0madapter\u001b[0m\u001b[0;34m.\u001b[0m\u001b[0msend\u001b[0m\u001b[0;34m(\u001b[0m\u001b[0mrequest\u001b[0m\u001b[0;34m,\u001b[0m \u001b[0;34m**\u001b[0m\u001b[0mkwargs\u001b[0m\u001b[0;34m)\u001b[0m\u001b[0;34m\u001b[0m\u001b[0;34m\u001b[0m\u001b[0m\n\u001b[0m\u001b[1;32m    644\u001b[0m \u001b[0;34m\u001b[0m\u001b[0m\n\u001b[1;32m    645\u001b[0m         \u001b[0;31m# Total elapsed time of the request (approximately)\u001b[0m\u001b[0;34m\u001b[0m\u001b[0;34m\u001b[0m\u001b[0;34m\u001b[0m\u001b[0m\n",
      "\u001b[0;32m~/anaconda3/envs/espaloma/lib/python3.7/site-packages/requests/adapters.py\u001b[0m in \u001b[0;36msend\u001b[0;34m(self, request, stream, timeout, verify, cert, proxies)\u001b[0m\n\u001b[1;32m    447\u001b[0m                     \u001b[0mdecode_content\u001b[0m\u001b[0;34m=\u001b[0m\u001b[0;32mFalse\u001b[0m\u001b[0;34m,\u001b[0m\u001b[0;34m\u001b[0m\u001b[0;34m\u001b[0m\u001b[0m\n\u001b[1;32m    448\u001b[0m                     \u001b[0mretries\u001b[0m\u001b[0;34m=\u001b[0m\u001b[0mself\u001b[0m\u001b[0;34m.\u001b[0m\u001b[0mmax_retries\u001b[0m\u001b[0;34m,\u001b[0m\u001b[0;34m\u001b[0m\u001b[0;34m\u001b[0m\u001b[0m\n\u001b[0;32m--> 449\u001b[0;31m                     \u001b[0mtimeout\u001b[0m\u001b[0;34m=\u001b[0m\u001b[0mtimeout\u001b[0m\u001b[0;34m\u001b[0m\u001b[0;34m\u001b[0m\u001b[0m\n\u001b[0m\u001b[1;32m    450\u001b[0m                 )\n\u001b[1;32m    451\u001b[0m \u001b[0;34m\u001b[0m\u001b[0m\n",
      "\u001b[0;32m~/anaconda3/envs/espaloma/lib/python3.7/site-packages/urllib3/connectionpool.py\u001b[0m in \u001b[0;36murlopen\u001b[0;34m(self, method, url, body, headers, retries, redirect, assert_same_host, timeout, pool_timeout, release_conn, chunked, body_pos, **response_kw)\u001b[0m\n\u001b[1;32m    675\u001b[0m                 \u001b[0mbody\u001b[0m\u001b[0;34m=\u001b[0m\u001b[0mbody\u001b[0m\u001b[0;34m,\u001b[0m\u001b[0;34m\u001b[0m\u001b[0;34m\u001b[0m\u001b[0m\n\u001b[1;32m    676\u001b[0m                 \u001b[0mheaders\u001b[0m\u001b[0;34m=\u001b[0m\u001b[0mheaders\u001b[0m\u001b[0;34m,\u001b[0m\u001b[0;34m\u001b[0m\u001b[0;34m\u001b[0m\u001b[0m\n\u001b[0;32m--> 677\u001b[0;31m                 \u001b[0mchunked\u001b[0m\u001b[0;34m=\u001b[0m\u001b[0mchunked\u001b[0m\u001b[0;34m,\u001b[0m\u001b[0;34m\u001b[0m\u001b[0;34m\u001b[0m\u001b[0m\n\u001b[0m\u001b[1;32m    678\u001b[0m             )\n\u001b[1;32m    679\u001b[0m \u001b[0;34m\u001b[0m\u001b[0m\n",
      "\u001b[0;32m~/anaconda3/envs/espaloma/lib/python3.7/site-packages/urllib3/connectionpool.py\u001b[0m in \u001b[0;36m_make_request\u001b[0;34m(self, conn, method, url, timeout, chunked, **httplib_request_kw)\u001b[0m\n\u001b[1;32m    424\u001b[0m                     \u001b[0;31m# Python 3 (including for exceptions like SystemExit).\u001b[0m\u001b[0;34m\u001b[0m\u001b[0;34m\u001b[0m\u001b[0;34m\u001b[0m\u001b[0m\n\u001b[1;32m    425\u001b[0m                     \u001b[0;31m# Otherwise it looks like a bug in the code.\u001b[0m\u001b[0;34m\u001b[0m\u001b[0;34m\u001b[0m\u001b[0;34m\u001b[0m\u001b[0m\n\u001b[0;32m--> 426\u001b[0;31m                     \u001b[0msix\u001b[0m\u001b[0;34m.\u001b[0m\u001b[0mraise_from\u001b[0m\u001b[0;34m(\u001b[0m\u001b[0me\u001b[0m\u001b[0;34m,\u001b[0m \u001b[0;32mNone\u001b[0m\u001b[0;34m)\u001b[0m\u001b[0;34m\u001b[0m\u001b[0;34m\u001b[0m\u001b[0m\n\u001b[0m\u001b[1;32m    427\u001b[0m         \u001b[0;32mexcept\u001b[0m \u001b[0;34m(\u001b[0m\u001b[0mSocketTimeout\u001b[0m\u001b[0;34m,\u001b[0m \u001b[0mBaseSSLError\u001b[0m\u001b[0;34m,\u001b[0m \u001b[0mSocketError\u001b[0m\u001b[0;34m)\u001b[0m \u001b[0;32mas\u001b[0m \u001b[0me\u001b[0m\u001b[0;34m:\u001b[0m\u001b[0;34m\u001b[0m\u001b[0;34m\u001b[0m\u001b[0m\n\u001b[1;32m    428\u001b[0m             \u001b[0mself\u001b[0m\u001b[0;34m.\u001b[0m\u001b[0m_raise_timeout\u001b[0m\u001b[0;34m(\u001b[0m\u001b[0merr\u001b[0m\u001b[0;34m=\u001b[0m\u001b[0me\u001b[0m\u001b[0;34m,\u001b[0m \u001b[0murl\u001b[0m\u001b[0;34m=\u001b[0m\u001b[0murl\u001b[0m\u001b[0;34m,\u001b[0m \u001b[0mtimeout_value\u001b[0m\u001b[0;34m=\u001b[0m\u001b[0mread_timeout\u001b[0m\u001b[0;34m)\u001b[0m\u001b[0;34m\u001b[0m\u001b[0;34m\u001b[0m\u001b[0m\n",
      "\u001b[0;32m~/anaconda3/envs/espaloma/lib/python3.7/site-packages/urllib3/packages/six.py\u001b[0m in \u001b[0;36mraise_from\u001b[0;34m(value, from_value)\u001b[0m\n",
      "\u001b[0;32m~/anaconda3/envs/espaloma/lib/python3.7/site-packages/urllib3/connectionpool.py\u001b[0m in \u001b[0;36m_make_request\u001b[0;34m(self, conn, method, url, timeout, chunked, **httplib_request_kw)\u001b[0m\n\u001b[1;32m    419\u001b[0m                 \u001b[0;31m# Python 3\u001b[0m\u001b[0;34m\u001b[0m\u001b[0;34m\u001b[0m\u001b[0;34m\u001b[0m\u001b[0m\n\u001b[1;32m    420\u001b[0m                 \u001b[0;32mtry\u001b[0m\u001b[0;34m:\u001b[0m\u001b[0;34m\u001b[0m\u001b[0;34m\u001b[0m\u001b[0m\n\u001b[0;32m--> 421\u001b[0;31m                     \u001b[0mhttplib_response\u001b[0m \u001b[0;34m=\u001b[0m \u001b[0mconn\u001b[0m\u001b[0;34m.\u001b[0m\u001b[0mgetresponse\u001b[0m\u001b[0;34m(\u001b[0m\u001b[0;34m)\u001b[0m\u001b[0;34m\u001b[0m\u001b[0;34m\u001b[0m\u001b[0m\n\u001b[0m\u001b[1;32m    422\u001b[0m                 \u001b[0;32mexcept\u001b[0m \u001b[0mBaseException\u001b[0m \u001b[0;32mas\u001b[0m \u001b[0me\u001b[0m\u001b[0;34m:\u001b[0m\u001b[0;34m\u001b[0m\u001b[0;34m\u001b[0m\u001b[0m\n\u001b[1;32m    423\u001b[0m                     \u001b[0;31m# Remove the TypeError from the exception chain in\u001b[0m\u001b[0;34m\u001b[0m\u001b[0;34m\u001b[0m\u001b[0;34m\u001b[0m\u001b[0m\n",
      "\u001b[0;32m~/anaconda3/envs/espaloma/lib/python3.7/http/client.py\u001b[0m in \u001b[0;36mgetresponse\u001b[0;34m(self)\u001b[0m\n\u001b[1;32m   1352\u001b[0m         \u001b[0;32mtry\u001b[0m\u001b[0;34m:\u001b[0m\u001b[0;34m\u001b[0m\u001b[0;34m\u001b[0m\u001b[0m\n\u001b[1;32m   1353\u001b[0m             \u001b[0;32mtry\u001b[0m\u001b[0;34m:\u001b[0m\u001b[0;34m\u001b[0m\u001b[0;34m\u001b[0m\u001b[0m\n\u001b[0;32m-> 1354\u001b[0;31m                 \u001b[0mresponse\u001b[0m\u001b[0;34m.\u001b[0m\u001b[0mbegin\u001b[0m\u001b[0;34m(\u001b[0m\u001b[0;34m)\u001b[0m\u001b[0;34m\u001b[0m\u001b[0;34m\u001b[0m\u001b[0m\n\u001b[0m\u001b[1;32m   1355\u001b[0m             \u001b[0;32mexcept\u001b[0m \u001b[0mConnectionError\u001b[0m\u001b[0;34m:\u001b[0m\u001b[0;34m\u001b[0m\u001b[0;34m\u001b[0m\u001b[0m\n\u001b[1;32m   1356\u001b[0m                 \u001b[0mself\u001b[0m\u001b[0;34m.\u001b[0m\u001b[0mclose\u001b[0m\u001b[0;34m(\u001b[0m\u001b[0;34m)\u001b[0m\u001b[0;34m\u001b[0m\u001b[0;34m\u001b[0m\u001b[0m\n",
      "\u001b[0;32m~/anaconda3/envs/espaloma/lib/python3.7/http/client.py\u001b[0m in \u001b[0;36mbegin\u001b[0;34m(self)\u001b[0m\n\u001b[1;32m    304\u001b[0m         \u001b[0;31m# read until we get a non-100 response\u001b[0m\u001b[0;34m\u001b[0m\u001b[0;34m\u001b[0m\u001b[0;34m\u001b[0m\u001b[0m\n\u001b[1;32m    305\u001b[0m         \u001b[0;32mwhile\u001b[0m \u001b[0;32mTrue\u001b[0m\u001b[0;34m:\u001b[0m\u001b[0;34m\u001b[0m\u001b[0;34m\u001b[0m\u001b[0m\n\u001b[0;32m--> 306\u001b[0;31m             \u001b[0mversion\u001b[0m\u001b[0;34m,\u001b[0m \u001b[0mstatus\u001b[0m\u001b[0;34m,\u001b[0m \u001b[0mreason\u001b[0m \u001b[0;34m=\u001b[0m \u001b[0mself\u001b[0m\u001b[0;34m.\u001b[0m\u001b[0m_read_status\u001b[0m\u001b[0;34m(\u001b[0m\u001b[0;34m)\u001b[0m\u001b[0;34m\u001b[0m\u001b[0;34m\u001b[0m\u001b[0m\n\u001b[0m\u001b[1;32m    307\u001b[0m             \u001b[0;32mif\u001b[0m \u001b[0mstatus\u001b[0m \u001b[0;34m!=\u001b[0m \u001b[0mCONTINUE\u001b[0m\u001b[0;34m:\u001b[0m\u001b[0;34m\u001b[0m\u001b[0;34m\u001b[0m\u001b[0m\n\u001b[1;32m    308\u001b[0m                 \u001b[0;32mbreak\u001b[0m\u001b[0;34m\u001b[0m\u001b[0;34m\u001b[0m\u001b[0m\n",
      "\u001b[0;32m~/anaconda3/envs/espaloma/lib/python3.7/http/client.py\u001b[0m in \u001b[0;36m_read_status\u001b[0;34m(self)\u001b[0m\n\u001b[1;32m    265\u001b[0m \u001b[0;34m\u001b[0m\u001b[0m\n\u001b[1;32m    266\u001b[0m     \u001b[0;32mdef\u001b[0m \u001b[0m_read_status\u001b[0m\u001b[0;34m(\u001b[0m\u001b[0mself\u001b[0m\u001b[0;34m)\u001b[0m\u001b[0;34m:\u001b[0m\u001b[0;34m\u001b[0m\u001b[0;34m\u001b[0m\u001b[0m\n\u001b[0;32m--> 267\u001b[0;31m         \u001b[0mline\u001b[0m \u001b[0;34m=\u001b[0m \u001b[0mstr\u001b[0m\u001b[0;34m(\u001b[0m\u001b[0mself\u001b[0m\u001b[0;34m.\u001b[0m\u001b[0mfp\u001b[0m\u001b[0;34m.\u001b[0m\u001b[0mreadline\u001b[0m\u001b[0;34m(\u001b[0m\u001b[0m_MAXLINE\u001b[0m \u001b[0;34m+\u001b[0m \u001b[0;36m1\u001b[0m\u001b[0;34m)\u001b[0m\u001b[0;34m,\u001b[0m \u001b[0;34m\"iso-8859-1\"\u001b[0m\u001b[0;34m)\u001b[0m\u001b[0;34m\u001b[0m\u001b[0;34m\u001b[0m\u001b[0m\n\u001b[0m\u001b[1;32m    268\u001b[0m         \u001b[0;32mif\u001b[0m \u001b[0mlen\u001b[0m\u001b[0;34m(\u001b[0m\u001b[0mline\u001b[0m\u001b[0;34m)\u001b[0m \u001b[0;34m>\u001b[0m \u001b[0m_MAXLINE\u001b[0m\u001b[0;34m:\u001b[0m\u001b[0;34m\u001b[0m\u001b[0;34m\u001b[0m\u001b[0m\n\u001b[1;32m    269\u001b[0m             \u001b[0;32mraise\u001b[0m \u001b[0mLineTooLong\u001b[0m\u001b[0;34m(\u001b[0m\u001b[0;34m\"status line\"\u001b[0m\u001b[0;34m)\u001b[0m\u001b[0;34m\u001b[0m\u001b[0;34m\u001b[0m\u001b[0m\n",
      "\u001b[0;32m~/anaconda3/envs/espaloma/lib/python3.7/socket.py\u001b[0m in \u001b[0;36mreadinto\u001b[0;34m(self, b)\u001b[0m\n\u001b[1;32m    587\u001b[0m         \u001b[0;32mwhile\u001b[0m \u001b[0;32mTrue\u001b[0m\u001b[0;34m:\u001b[0m\u001b[0;34m\u001b[0m\u001b[0;34m\u001b[0m\u001b[0m\n\u001b[1;32m    588\u001b[0m             \u001b[0;32mtry\u001b[0m\u001b[0;34m:\u001b[0m\u001b[0;34m\u001b[0m\u001b[0;34m\u001b[0m\u001b[0m\n\u001b[0;32m--> 589\u001b[0;31m                 \u001b[0;32mreturn\u001b[0m \u001b[0mself\u001b[0m\u001b[0;34m.\u001b[0m\u001b[0m_sock\u001b[0m\u001b[0;34m.\u001b[0m\u001b[0mrecv_into\u001b[0m\u001b[0;34m(\u001b[0m\u001b[0mb\u001b[0m\u001b[0;34m)\u001b[0m\u001b[0;34m\u001b[0m\u001b[0;34m\u001b[0m\u001b[0m\n\u001b[0m\u001b[1;32m    590\u001b[0m             \u001b[0;32mexcept\u001b[0m \u001b[0mtimeout\u001b[0m\u001b[0;34m:\u001b[0m\u001b[0;34m\u001b[0m\u001b[0;34m\u001b[0m\u001b[0m\n\u001b[1;32m    591\u001b[0m                 \u001b[0mself\u001b[0m\u001b[0;34m.\u001b[0m\u001b[0m_timeout_occurred\u001b[0m \u001b[0;34m=\u001b[0m \u001b[0;32mTrue\u001b[0m\u001b[0;34m\u001b[0m\u001b[0;34m\u001b[0m\u001b[0m\n",
      "\u001b[0;32m~/anaconda3/envs/espaloma/lib/python3.7/ssl.py\u001b[0m in \u001b[0;36mrecv_into\u001b[0;34m(self, buffer, nbytes, flags)\u001b[0m\n\u001b[1;32m   1069\u001b[0m                   \u001b[0;34m\"non-zero flags not allowed in calls to recv_into() on %s\"\u001b[0m \u001b[0;34m%\u001b[0m\u001b[0;34m\u001b[0m\u001b[0;34m\u001b[0m\u001b[0m\n\u001b[1;32m   1070\u001b[0m                   self.__class__)\n\u001b[0;32m-> 1071\u001b[0;31m             \u001b[0;32mreturn\u001b[0m \u001b[0mself\u001b[0m\u001b[0;34m.\u001b[0m\u001b[0mread\u001b[0m\u001b[0;34m(\u001b[0m\u001b[0mnbytes\u001b[0m\u001b[0;34m,\u001b[0m \u001b[0mbuffer\u001b[0m\u001b[0;34m)\u001b[0m\u001b[0;34m\u001b[0m\u001b[0;34m\u001b[0m\u001b[0m\n\u001b[0m\u001b[1;32m   1072\u001b[0m         \u001b[0;32melse\u001b[0m\u001b[0;34m:\u001b[0m\u001b[0;34m\u001b[0m\u001b[0;34m\u001b[0m\u001b[0m\n\u001b[1;32m   1073\u001b[0m             \u001b[0;32mreturn\u001b[0m \u001b[0msuper\u001b[0m\u001b[0;34m(\u001b[0m\u001b[0;34m)\u001b[0m\u001b[0;34m.\u001b[0m\u001b[0mrecv_into\u001b[0m\u001b[0;34m(\u001b[0m\u001b[0mbuffer\u001b[0m\u001b[0;34m,\u001b[0m \u001b[0mnbytes\u001b[0m\u001b[0;34m,\u001b[0m \u001b[0mflags\u001b[0m\u001b[0;34m)\u001b[0m\u001b[0;34m\u001b[0m\u001b[0;34m\u001b[0m\u001b[0m\n",
      "\u001b[0;32m~/anaconda3/envs/espaloma/lib/python3.7/ssl.py\u001b[0m in \u001b[0;36mread\u001b[0;34m(self, len, buffer)\u001b[0m\n\u001b[1;32m    927\u001b[0m         \u001b[0;32mtry\u001b[0m\u001b[0;34m:\u001b[0m\u001b[0;34m\u001b[0m\u001b[0;34m\u001b[0m\u001b[0m\n\u001b[1;32m    928\u001b[0m             \u001b[0;32mif\u001b[0m \u001b[0mbuffer\u001b[0m \u001b[0;32mis\u001b[0m \u001b[0;32mnot\u001b[0m \u001b[0;32mNone\u001b[0m\u001b[0;34m:\u001b[0m\u001b[0;34m\u001b[0m\u001b[0;34m\u001b[0m\u001b[0m\n\u001b[0;32m--> 929\u001b[0;31m                 \u001b[0;32mreturn\u001b[0m \u001b[0mself\u001b[0m\u001b[0;34m.\u001b[0m\u001b[0m_sslobj\u001b[0m\u001b[0;34m.\u001b[0m\u001b[0mread\u001b[0m\u001b[0;34m(\u001b[0m\u001b[0mlen\u001b[0m\u001b[0;34m,\u001b[0m \u001b[0mbuffer\u001b[0m\u001b[0;34m)\u001b[0m\u001b[0;34m\u001b[0m\u001b[0;34m\u001b[0m\u001b[0m\n\u001b[0m\u001b[1;32m    930\u001b[0m             \u001b[0;32melse\u001b[0m\u001b[0;34m:\u001b[0m\u001b[0;34m\u001b[0m\u001b[0;34m\u001b[0m\u001b[0m\n\u001b[1;32m    931\u001b[0m                 \u001b[0;32mreturn\u001b[0m \u001b[0mself\u001b[0m\u001b[0;34m.\u001b[0m\u001b[0m_sslobj\u001b[0m\u001b[0;34m.\u001b[0m\u001b[0mread\u001b[0m\u001b[0;34m(\u001b[0m\u001b[0mlen\u001b[0m\u001b[0;34m)\u001b[0m\u001b[0;34m\u001b[0m\u001b[0;34m\u001b[0m\u001b[0m\n",
      "\u001b[0;31mKeyboardInterrupt\u001b[0m: "
     ]
    }
   ],
   "source": [
    "trange = tqdm(range(len(index)))\n",
    "for i in trange:\n",
    "    \n",
    "    # record and entry\n",
    "    record_name = record_names[i]\n",
    "    ind = index[i]\n",
    "    \n",
    "    record = ds.get_record(record_name, specification)\n",
    "    entry = ds.get_entry(ind)\n",
    "    \n",
    "    # offmol with targets\n",
    "    status = record.status\n",
    "    status_string = status.name\n",
    "    \n",
    "    if (status_string == 'complete') and (record_name not in all_mols_and_targets):\n",
    "        try:\n",
    "            all_mols_and_targets[record_name] = get_mol_with_targets(record, entry)\n",
    "        except Exception as e:\n",
    "            print(f'unspecified problem encountered with {record_name}!')\n",
    "            exceptions[record_name] = e\n",
    "    elif (record_name not in all_mols_and_targets):\n",
    "        print(f'skipping {record_name}, which has a status {status}')\n",
    "        skipped_status[record_name] = status\n",
    "    \n",
    "    \n",
    "    trange.set_postfix(\n",
    "        n_skipped=len(skipped_status),\n",
    "        n_exceptions=len(exceptions),\n",
    "        n_successful=len(all_mols_and_targets)\n",
    "    )"
   ]
  },
  {
   "cell_type": "code",
   "execution_count": 369,
   "metadata": {},
   "outputs": [],
   "source": [
    "# oof, I do not want to wait 60+ more hours..."
   ]
  },
  {
   "cell_type": "code",
   "execution_count": 370,
   "metadata": {},
   "outputs": [
    {
     "name": "stdout",
     "output_type": "stream",
     "text": [
      "RecordStatusEnum.error\n"
     ]
    }
   ],
   "source": [
    "# what was the record status enum for each of the records we skipped?\n",
    "for s in set(skipped_status.values()):\n",
    "    print(s)"
   ]
  },
  {
   "cell_type": "code",
   "execution_count": 371,
   "metadata": {},
   "outputs": [],
   "source": [
    "# plot number of snapshots within each species"
   ]
  },
  {
   "cell_type": "code",
   "execution_count": 372,
   "metadata": {},
   "outputs": [
    {
     "data": {
      "text/plain": [
       "Text(0, 0.5, '# molecules')"
      ]
     },
     "execution_count": 372,
     "metadata": {},
     "output_type": "execute_result"
    },
    {
     "data": {
      "image/png": "[encoded data removed]",
      "text/plain": [
       "<Figure size 432x288 with 1 Axes>"
      ]
     },
     "metadata": {
      "needs_background": "light"
     },
     "output_type": "display_data"
    }
   ],
   "source": [
    "plt.hist([len(all_mols_and_targets[record_name].xyz) for record_name in all_mols_and_targets], bins=50);\n",
    "plt.xlabel('# snapshots')\n",
    "plt.ylabel('# molecules')"
   ]
  },
  {
   "cell_type": "code",
   "execution_count": 373,
   "metadata": {},
   "outputs": [
    {
     "data": {
      "text/plain": [
       "dict_keys(['id', 'hash_index', 'procedure', 'program', 'version', 'protocols', 'extras', 'stdout', 'stderr', 'error', 'task_id', 'manager_name', 'status', 'modified_on', 'created_on', 'provenance', 'driver', 'method', 'molecule', 'basis', 'keywords', 'return_result', 'properties', 'wavefunction', 'wavefunction_data_id'])"
      ]
     },
     "execution_count": 373,
     "metadata": {},
     "output_type": "execute_result"
    }
   ],
   "source": [
    "snapshot.dict().keys()"
   ]
  },
  {
   "cell_type": "code",
   "execution_count": 374,
   "metadata": {},
   "outputs": [
    {
     "data": {
      "text/plain": [
       "qcportal.models.records.ResultRecord"
      ]
     },
     "execution_count": 374,
     "metadata": {},
     "output_type": "execute_result"
    }
   ],
   "source": [
    "type(snapshot)"
   ]
  },
  {
   "cell_type": "code",
   "execution_count": 375,
   "metadata": {},
   "outputs": [
    {
     "data": {
      "text/plain": [
       "((36,), (36, 27, 3))"
      ]
     },
     "execution_count": 375,
     "metadata": {},
     "output_type": "execute_result"
    }
   ],
   "source": [
    "energies.shape, gradients.shape"
   ]
  },
  {
   "cell_type": "code",
   "execution_count": 376,
   "metadata": {},
   "outputs": [
    {
     "data": {
      "image/png": "[encoded data removed]",
      "text/plain": [
       "<Figure size 432x288 with 1 Axes>"
      ]
     },
     "metadata": {
      "needs_background": "light"
     },
     "output_type": "display_data"
    }
   ],
   "source": [
    "plt.plot(energies - min(energies))\n",
    "plt.yscale('log')"
   ]
  },
  {
   "cell_type": "code",
   "execution_count": 377,
   "metadata": {},
   "outputs": [
    {
     "data": {
      "image/png": "[encoded data removed]",
      "text/plain": [
       "<Figure size 432x288 with 1 Axes>"
      ]
     },
     "metadata": {
      "needs_background": "light"
     },
     "output_type": "display_data"
    }
   ],
   "source": [
    "plt.plot(np.linalg.norm(gradients, axis=(1,2)))\n",
    "plt.yscale('log')"
   ]
  },
  {
   "cell_type": "code",
   "execution_count": 378,
   "metadata": {},
   "outputs": [
    {
     "data": {
      "text/plain": [
       "(27, 3)"
      ]
     },
     "execution_count": 378,
     "metadata": {},
     "output_type": "execute_result"
    }
   ],
   "source": [
    "snapshot.return_result.shape"
   ]
  },
  {
   "cell_type": "code",
   "execution_count": 379,
   "metadata": {},
   "outputs": [
    {
     "data": {
      "text/plain": [
       "('b3lyp-d3bj', 'dzvp')"
      ]
     },
     "execution_count": 379,
     "metadata": {},
     "output_type": "execute_result"
    }
   ],
   "source": [
    "snapshot.method, snapshot.basis"
   ]
  },
  {
   "cell_type": "code",
   "execution_count": 380,
   "metadata": {},
   "outputs": [
    {
     "data": {
      "text/plain": [
       "dict_keys(['id', 'hash_index', 'procedure', 'program', 'version', 'protocols', 'extras', 'stdout', 'stderr', 'error', 'task_id', 'manager_name', 'status', 'modified_on', 'created_on', 'provenance', 'driver', 'method', 'molecule', 'basis', 'keywords', 'return_result', 'properties', 'wavefunction', 'wavefunction_data_id'])"
      ]
     },
     "execution_count": 380,
     "metadata": {},
     "output_type": "execute_result"
    }
   ],
   "source": [
    "d = snapshot.dict()\n",
    "d.keys()"
   ]
  },
  {
   "cell_type": "code",
   "execution_count": 381,
   "metadata": {},
   "outputs": [
    {
     "data": {
      "text/plain": [
       "<RecordStatusEnum.complete: 'COMPLETE'>"
      ]
     },
     "execution_count": 381,
     "metadata": {},
     "output_type": "execute_result"
    }
   ],
   "source": [
    "d['status']"
   ]
  },
  {
   "cell_type": "code",
   "execution_count": 382,
   "metadata": {},
   "outputs": [
    {
     "data": {
      "text/plain": [
       "{'calcinfo_nbasis': 210,\n",
       " 'calcinfo_nmo': 210,\n",
       " 'calcinfo_nalpha': 49,\n",
       " 'calcinfo_nbeta': 49,\n",
       " 'calcinfo_natom': 27,\n",
       " 'nuclear_repulsion_energy': 807.9855573138169,\n",
       " 'return_energy': -631.660187480667,\n",
       " 'scf_one_electron_energy': -2447.4730495348103,\n",
       " 'scf_two_electron_energy': 1077.715113406683,\n",
       " 'scf_vv10_energy': None,\n",
       " 'scf_xc_energy': -69.84064492635655,\n",
       " 'scf_dispersion_correction_energy': -0.04716374,\n",
       " 'scf_dipole_moment': [30.354632824419465,\n",
       "  -6.993853751378931,\n",
       "  -3.011724025076463],\n",
       " 'scf_total_energy': -631.660187480667,\n",
       " 'scf_iterations': 15,\n",
       " 'mp2_same_spin_correlation_energy': None,\n",
       " 'mp2_opposite_spin_correlation_energy': None,\n",
       " 'mp2_singles_energy': None,\n",
       " 'mp2_doubles_energy': None,\n",
       " 'mp2_total_correlation_energy': None,\n",
       " 'mp2_correlation_energy': None,\n",
       " 'mp2_total_energy': None,\n",
       " 'mp2_dipole_moment': None,\n",
       " 'ccsd_same_spin_correlation_energy': None,\n",
       " 'ccsd_opposite_spin_correlation_energy': None,\n",
       " 'ccsd_singles_energy': None,\n",
       " 'ccsd_doubles_energy': None,\n",
       " 'ccsd_correlation_energy': None,\n",
       " 'ccsd_total_energy': None,\n",
       " 'ccsd_dipole_moment': None,\n",
       " 'ccsd_iterations': None,\n",
       " 'ccsd_prt_pr_correlation_energy': None,\n",
       " 'ccsd_prt_pr_total_energy': None,\n",
       " 'ccsd_prt_pr_dipole_moment': None}"
      ]
     },
     "execution_count": 382,
     "metadata": {},
     "output_type": "execute_result"
    }
   ],
   "source": [
    "d['properties']"
   ]
  },
  {
   "cell_type": "code",
   "execution_count": 383,
   "metadata": {},
   "outputs": [
    {
     "data": {
      "text/plain": [
       "dict_keys(['qcvars'])"
      ]
     },
     "execution_count": 383,
     "metadata": {},
     "output_type": "execute_result"
    }
   ],
   "source": [
    "d['extras'].keys()"
   ]
  },
  {
   "cell_type": "code",
   "execution_count": 384,
   "metadata": {},
   "outputs": [
    {
     "data": {
      "text/plain": [
       "dict_keys(['-D ENERGY', 'B3LYP-D3(BJ) DISPERSION CORRECTION ENERGY', 'CURRENT DIPOLE X', 'CURRENT DIPOLE Y', 'CURRENT DIPOLE Z', 'CURRENT ENERGY', 'CURRENT REFERENCE ENERGY', 'DFT FUNCTIONAL TOTAL ENERGY', 'DFT TOTAL ENERGY', 'DFT VV10 ENERGY', 'DFT XC ENERGY', 'DISPERSION CORRECTION ENERGY', 'NUCLEAR REPULSION ENERGY', 'ONE-ELECTRON ENERGY', 'PCM POLARIZATION ENERGY', 'SCF DIPOLE X', 'SCF DIPOLE Y', 'SCF DIPOLE Z', 'SCF ITERATION ENERGY', 'SCF ITERATIONS', 'SCF QUADRUPOLE XX', 'SCF QUADRUPOLE XY', 'SCF QUADRUPOLE XZ', 'SCF QUADRUPOLE YY', 'SCF QUADRUPOLE YZ', 'SCF QUADRUPOLE ZZ', 'SCF TOTAL ENERGY', 'TWO-ELECTRON ENERGY', 'CURRENT GRADIENT', 'SCF TOTAL GRADIENT', '-D GRADIENT', 'MAYER_INDICES', 'WIBERG_LOWDIN_INDICES'])"
      ]
     },
     "execution_count": 384,
     "metadata": {},
     "output_type": "execute_result"
    }
   ],
   "source": [
    "qcvars = d['extras']['qcvars']\n",
    "qcvars.keys()"
   ]
  },
  {
   "cell_type": "code",
   "execution_count": 385,
   "metadata": {},
   "outputs": [
    {
     "data": {
      "text/plain": [
       "-631.660187480667"
      ]
     },
     "execution_count": 385,
     "metadata": {},
     "output_type": "execute_result"
    }
   ],
   "source": [
    "qcvars['SCF TOTAL ENERGY']"
   ]
  },
  {
   "cell_type": "code",
   "execution_count": 386,
   "metadata": {},
   "outputs": [
    {
     "data": {
      "text/plain": [
       "[<matplotlib.lines.Line2D at 0x7ff1a483b090>]"
      ]
     },
     "execution_count": 386,
     "metadata": {},
     "output_type": "execute_result"
    },
    {
     "data": {
      "image/png": "[encoded data removed]",
      "text/plain": [
       "<Figure size 432x288 with 1 Axes>"
      ]
     },
     "metadata": {
      "needs_background": "light"
     },
     "output_type": "display_data"
    }
   ],
   "source": [
    "plt.plot(qcvars['MAYER_INDICES'])"
   ]
  },
  {
   "cell_type": "code",
   "execution_count": 387,
   "metadata": {},
   "outputs": [
    {
     "data": {
      "text/plain": [
       "-631.660187480667"
      ]
     },
     "execution_count": 387,
     "metadata": {},
     "output_type": "execute_result"
    }
   ],
   "source": [
    "qcvars['CURRENT ENERGY']"
   ]
  },
  {
   "cell_type": "code",
   "execution_count": 388,
   "metadata": {},
   "outputs": [],
   "source": [
    "# save what we have for now..."
   ]
  },
  {
   "cell_type": "code",
   "execution_count": 389,
   "metadata": {},
   "outputs": [],
   "source": [
    "ds.df.to_hdf('some_of_optimization_dataset.h5', key='df')"
   ]
  },
  {
   "cell_type": "code",
   "execution_count": 390,
   "metadata": {},
   "outputs": [],
   "source": [
    "from pickle import dump\n",
    "\n",
    "with open('all_mols_and_targets.pkl', 'wb') as f:\n",
    "    dump(all_mols_and_targets, f)"
   ]
  },
  {
   "cell_type": "code",
   "execution_count": 391,
   "metadata": {},
   "outputs": [],
   "source": [
    "mol_with_targets = all_mols_and_targets[record_names[0]]"
   ]
  },
  {
   "cell_type": "markdown",
   "metadata": {},
   "source": [
    "### Quick inspection"
   ]
  },
  {
   "cell_type": "code",
   "execution_count": 392,
   "metadata": {},
   "outputs": [],
   "source": [
    "from simtk import unit\n",
    "\n",
    "particle = unit.mole.create_unit(6.02214076e23 ** -1, 'particle', 'particle')\n",
    "energy_unit_qc = unit.hartree / particle\n",
    "\n",
    "energy_unit_report = unit.kilocalorie_per_mole\n",
    "\n",
    "def to_report_unit(e_in_qc_unit):\n",
    "    return (e_in_qc_unit * energy_unit_qc).value_in_unit(energy_unit_report)"
   ]
  },
  {
   "cell_type": "code",
   "execution_count": 393,
   "metadata": {},
   "outputs": [],
   "source": [
    "stddevs = np.array([np.std(to_report_unit(m.energies)) for m in all_mols_and_targets.values()])"
   ]
  },
  {
   "cell_type": "code",
   "execution_count": 441,
   "metadata": {},
   "outputs": [
    {
     "data": {
      "text/plain": [
       "Text(0, 0.5, '# occurrences')"
      ]
     },
     "execution_count": 441,
     "metadata": {},
     "output_type": "execute_result"
    },
    {
     "data": {
      "image/png": "[encoded data removed]",
      "text/plain": [
       "<Figure size 432x288 with 1 Axes>"
      ]
     },
     "metadata": {
      "needs_background": "light"
     },
     "output_type": "display_data"
    }
   ],
   "source": [
    "plt.hist(stddevs, bins=50);\n",
    "plt.xlabel(f'energy stddev\\n({energy_unit_report})')\n",
    "plt.ylabel('# occurrences')\n",
    "#plt.yscale('log')"
   ]
  },
  {
   "cell_type": "code",
   "execution_count": 395,
   "metadata": {},
   "outputs": [
    {
     "data": {
      "text/plain": [
       "2.8891475988084183"
      ]
     },
     "execution_count": 395,
     "metadata": {},
     "output_type": "execute_result"
    }
   ],
   "source": [
    "np.median(stddevs)"
   ]
  },
  {
   "cell_type": "code",
   "execution_count": 396,
   "metadata": {},
   "outputs": [
    {
     "data": {
      "text/plain": [
       "605.7643834436069"
      ]
     },
     "execution_count": 396,
     "metadata": {},
     "output_type": "execute_result"
    }
   ],
   "source": [
    "np.max(stddevs)"
   ]
  },
  {
   "cell_type": "code",
   "execution_count": 442,
   "metadata": {},
   "outputs": [
    {
     "data": {
      "text/plain": [
       "'c[c@h](cn1cnc2c1ncnc2n)ocp(=o)([o-])[o-]-5'"
      ]
     },
     "execution_count": 442,
     "metadata": {},
     "output_type": "execute_result"
    }
   ],
   "source": [
    "record_name_with_biggest_energy_range = list(all_mols_and_targets.keys())[np.argmax(stddevs)]\n",
    "record_name_with_biggest_energy_range"
   ]
  },
  {
   "cell_type": "code",
   "execution_count": 443,
   "metadata": {},
   "outputs": [],
   "source": [
    "biggest_energy_range = all_mols_and_targets[record_name_with_biggest_energy_range]"
   ]
  },
  {
   "cell_type": "code",
   "execution_count": 444,
   "metadata": {},
   "outputs": [
    {
     "data": {
      "image/png": "[encoded data removed]",
      "text/plain": [
       "<rdkit.Chem.rdchem.Mol at 0x7ff0e9ee37b0>"
      ]
     },
     "metadata": {},
     "output_type": "display_data"
    }
   ],
   "source": [
    "biggest_energy_range.offmol"
   ]
  },
  {
   "cell_type": "code",
   "execution_count": 445,
   "metadata": {},
   "outputs": [
    {
     "data": {
      "text/plain": [
       "Text(0, 0.5, 'relative energy (kilocalorie/mole)')"
      ]
     },
     "execution_count": 445,
     "metadata": {},
     "output_type": "execute_result"
    },
    {
     "data": {
      "image/png": "[encoded data removed]",
      "text/plain": [
       "<Figure size 432x288 with 1 Axes>"
      ]
     },
     "metadata": {
      "needs_background": "light"
     },
     "output_type": "display_data"
    }
   ],
   "source": [
    "energies = to_report_unit(biggest_energy_range.energies)\n",
    "plt.plot(energies - min(energies))\n",
    "plt.xlabel('iteration')\n",
    "plt.ylabel(f'relative energy ({energy_unit_report})')"
   ]
  },
  {
   "cell_type": "code",
   "execution_count": 446,
   "metadata": {},
   "outputs": [
    {
     "data": {
      "text/plain": [
       "6529.598344897851"
      ]
     },
     "execution_count": 446,
     "metadata": {},
     "output_type": "execute_result"
    }
   ],
   "source": [
    "max(energies) - min(energies)"
   ]
  },
  {
   "cell_type": "code",
   "execution_count": 429,
   "metadata": {},
   "outputs": [],
   "source": [
    "biggest_energy_range_smiles = biggest_energy_range.offmol.to_smiles()"
   ]
  },
  {
   "cell_type": "code",
   "execution_count": 401,
   "metadata": {},
   "outputs": [
    {
     "data": {
      "text/plain": [
       "qcportal.models.records.OptimizationRecord"
      ]
     },
     "execution_count": 401,
     "metadata": {},
     "output_type": "execute_result"
    }
   ],
   "source": [
    "type(record)"
   ]
  },
  {
   "cell_type": "code",
   "execution_count": 436,
   "metadata": {},
   "outputs": [
    {
     "data": {
      "image/png": "[encoded data removed]",
      "text/plain": [
       "<rdkit.Chem.rdchem.Mol at 0x7ff0d907e770>"
      ]
     },
     "metadata": {},
     "output_type": "display_data"
    }
   ],
   "source": [
    "biggest_energy_range.offmol"
   ]
  },
  {
   "cell_type": "code",
   "execution_count": 439,
   "metadata": {},
   "outputs": [
    {
     "data": {
      "text/plain": [
       "2.7777777777777777"
      ]
     },
     "execution_count": 439,
     "metadata": {},
     "output_type": "execute_result"
    }
   ],
   "source": [
    "100 / offmol.n_atoms"
   ]
  },
  {
   "cell_type": "code",
   "execution_count": 402,
   "metadata": {},
   "outputs": [],
   "source": [
    "keys = list(all_mols_and_targets.keys())"
   ]
  },
  {
   "cell_type": "code",
   "execution_count": 403,
   "metadata": {},
   "outputs": [],
   "source": [
    "smiles_dict = dict()\n",
    "for key in keys:\n",
    "    smiles_dict[key] = all_mols_and_targets[key].offmol.to_smiles()"
   ]
  },
  {
   "cell_type": "code",
   "execution_count": 404,
   "metadata": {},
   "outputs": [
    {
     "data": {
      "text/plain": [
       "(3688, 561)"
      ]
     },
     "execution_count": 404,
     "metadata": {},
     "output_type": "execute_result"
    }
   ],
   "source": [
    "len(smiles_dict), len(set(smiles_dict.values()))"
   ]
  },
  {
   "cell_type": "code",
   "execution_count": 405,
   "metadata": {},
   "outputs": [],
   "source": [
    "from collections import Counter"
   ]
  },
  {
   "cell_type": "code",
   "execution_count": 406,
   "metadata": {},
   "outputs": [
    {
     "data": {
      "text/plain": [
       "(array([418.,  81.,  50.,   2.,   0.,   9.,   0.,   0.,   0.,   1.]),\n",
       " array([ 1. ,  8.1, 15.2, 22.3, 29.4, 36.5, 43.6, 50.7, 57.8, 64.9, 72. ]),\n",
       " <BarContainer object of 10 artists>)"
      ]
     },
     "execution_count": 406,
     "metadata": {},
     "output_type": "execute_result"
    },
    {
     "data": {
      "image/png": "[encoded data removed]",
      "text/plain": [
       "<Figure size 432x288 with 1 Axes>"
      ]
     },
     "metadata": {
      "needs_background": "light"
     },
     "output_type": "display_data"
    }
   ],
   "source": [
    "plt.hist(Counter(smiles_dict.values()).values())"
   ]
  },
  {
   "cell_type": "code",
   "execution_count": 407,
   "metadata": {},
   "outputs": [],
   "source": [
    "smiles = smiles_dict.values()"
   ]
  },
  {
   "cell_type": "code",
   "execution_count": 408,
   "metadata": {},
   "outputs": [],
   "source": [
    "from collections import defaultdict\n",
    "\n",
    "smiles_to_record_names = defaultdict(lambda : [])"
   ]
  },
  {
   "cell_type": "code",
   "execution_count": 409,
   "metadata": {},
   "outputs": [],
   "source": [
    "for record_name in keys:\n",
    "    smi = smiles_dict[record_name]\n",
    "    smiles_to_record_names[smi].append(record_name)"
   ]
  },
  {
   "cell_type": "code",
   "execution_count": 410,
   "metadata": {},
   "outputs": [
    {
     "data": {
      "text/plain": [
       "defaultdict(<function __main__.<lambda>()>,\n",
       "            {'[H]c1c(c(c(c(c1[C@]([H])(C([H])([H])[N+]([H])([H])C([H])([H])[H])O[H])[H])O[H])O[H])[H]': ['c[nh2+]c[c@@h](c1ccc(c(c1)o)o)o-0',\n",
       "              'c[nh2+]c[c@@h](c1ccc(c(c1)o)o)o-1',\n",
       "              'c[nh2+]c[c@@h](c1ccc(c(c1)o)o)o-2',\n",
       "              'c[nh2+]c[c@@h](c1ccc(c(c1)o)o)o-3',\n",
       "              'c[nh2+]c[c@@h](c1ccc(c(c1)o)o)o-4',\n",
       "              'c[nh2+]c[c@@h](c1ccc(c(c1)o)o)o-5',\n",
       "              'c[nh2+]c[c@@h](c1ccc(c(c1)o)o)o-6',\n",
       "              'c[nh2+]c[c@@h](c1ccc(c(c1)o)o)o-7',\n",
       "              'c[nh2+]c[c@@h](c1ccc(c(c1)o)o)o-8',\n",
       "              'c[nh2+]c[c@@h](c1ccc(c(c1)o)o)o-9'],\n",
       "             '[H]c1c2c(nc(c1F)[N@@]3C(/C(=N\\\\OC([H])([H])[H])/[C@](C3([H])[H])([H])C([H])([H])[N+]([H])([H])[H])([H])[H])N(C(=C(C2=O)C(=O)[O-])[H])C4(C(C4([H])[H])([H])[H])[H]': ['co/n=c/1\\\\c[n@](c[c@h]1c[nh3+])c2c(cc3c(=o)c(cn(c3n2)c4cc4)c(=o)[o-])f-3',\n",
       "              'co/n=c/1\\\\c[n@](c[c@h]1c[nh3+])c2c(cc3c(=o)c(cn(c3n2)c4cc4)c(=o)[o-])f-5',\n",
       "              'co/n=c/1\\\\c[n@](c[c@h]1c[nh3+])c2c(cc3c(=o)c(cn(c3n2)c4cc4)c(=o)[o-])f-6'],\n",
       "             '[H]c1c(c(c(c(c1[C@@]2(c3c(c(c(c(c3C(C([N+](C2([H])[H])([H])[H])([H])[H])([H])[H])Cl)O[H])O[H])[H])[H])[H])[H])O[H])[H]': ['c1cc(ccc1[c@h]2c[nh2+]ccc3c2cc(c(c3cl)o)o)o-0',\n",
       "              'c1cc(ccc1[c@h]2c[nh2+]ccc3c2cc(c(c3cl)o)o)o-1',\n",
       "              'c1cc(ccc1[c@h]2c[nh2+]ccc3c2cc(c(c3cl)o)o)o-2'],\n",
       "             '[H]c1c(c(c(c(c1[C@@]2(c3c(c(c(c(c3C(C([N+](C2([H])[H])([H])[H])([H])[H])([H])[H])Cl)[O-])O[H])[H])[H])[H])[H])O[H])[H]': ['c1cc(ccc1[c@h]2c[nh2+]ccc3c2cc(c(c3cl)[o-])o)o-0',\n",
       "              'c1cc(ccc1[c@h]2c[nh2+]ccc3c2cc(c(c3cl)[o-])o)o-1',\n",
       "              'c1cc(ccc1[c@h]2c[nh2+]ccc3c2cc(c(c3cl)[o-])o)o-2'],\n",
       "             '[H]c1c(c(c(c(c1S(=O)(=O)N([H])[H])Cl)Cl)[H])S(=O)(=O)N([H])[H]': ['c1c(cc(c(c1s(=o)(=o)n)cl)cl)s(=o)(=o)n-0',\n",
       "              'c1c(cc(c(c1s(=o)(=o)n)cl)cl)s(=o)(=o)n-1',\n",
       "              'c1c(cc(c(c1s(=o)(=o)n)cl)cl)s(=o)(=o)n-2',\n",
       "              'c1c(cc(c(c1s(=o)(=o)n)cl)cl)s(=o)(=o)n-3',\n",
       "              'c1c(cc(c(c1s(=o)(=o)n)cl)cl)s(=o)(=o)n-4',\n",
       "              'c1c(cc(c(c1s(=o)(=o)n)cl)cl)s(=o)(=o)n-5',\n",
       "              'c1c(cc(c(c1s(=o)(=o)n)cl)cl)s(=o)(=o)n-6',\n",
       "              'c1c(cc(c(c1s(=o)(=o)n)cl)cl)s(=o)(=o)n-7',\n",
       "              'c1c(cc(c(c1s(=o)(=o)n)cl)cl)s(=o)(=o)n-8',\n",
       "              'c1c(cc(c(c1s(=o)(=o)n)cl)cl)s(=o)(=o)n-9',\n",
       "              'c1c(cc(c(c1s(=o)(=o)n)cl)cl)s(=o)(=o)n-10',\n",
       "              'c1c(cc(c(c1s(=o)(=o)n)cl)cl)s(=o)(=o)n-11'],\n",
       "             '[H]c1c(c(c2c(c1[H])C(=C(c3c(c(c(c(c3C2=C([H])C([H])([H])C([H])([H])[N+]([H])(C([H])([H])[H])C([H])([H])[H])[H])[H])[H])[H])[H])[H])[H])[H]': ['c[nh+](c)ccc=c1c2ccccc2c=cc3c1cccc3-0',\n",
       "              'c[nh+](c)ccc=c1c2ccccc2c=cc3c1cccc3-1',\n",
       "              'c[nh+](c)ccc=c1c2ccccc2c=cc3c1cccc3-2'],\n",
       "             '[H]c1c(c(c2c3c1C([C@@]4([C@]5([C@@]3([C@@](O2)(C(=O)C(C5([H])[H])([H])[H])[H])C(C([N@@+]4([H])C([H])([H])[H])([H])[H])([H])[H])O[H])[H])([H])[H])OC([H])([H])[H])[H]': ['c[n@@h+]1cc[c@]23c4c5ccc(c4o[c@h]2c(=o)cc[c@]3([c@h]1c5)o)oc-0'],\n",
       "             '[H]c1c(c(c2c3c1C([C@@]4([C@]5([C@@]3([C@@](O2)(C(=O)C(C5([H])[H])([H])[H])[H])C(C([N@+]4([H])C([H])([H])[H])([H])[H])([H])[H])O[H])[H])([H])[H])OC([H])([H])[H])[H]': ['c[n@h+]1cc[c@]23c4c5ccc(c4o[c@h]2c(=o)cc[c@]3([c@h]1c5)o)oc-0'],\n",
       "             '[H]c1c(c(c2c3c1C([C@@]4([C@]5([C@@]3([C@@](O2)(C(=O)C(C5([H])[H])([H])[H])[H])C(C([N@@]4C([H])([H])[H])([H])[H])([H])[H])O[H])[H])([H])[H])OC([H])([H])[H])[H]': ['c[n@]1cc[c@]23c4c5ccc(c4o[c@h]2c(=o)cc[c@]3([c@h]1c5)o)oc-0'],\n",
       "             '[H]c1c(c(c(nc1[H])[H])C(=O)N([H])[H])[H]': ['c1cc(cnc1)c(=o)n-0',\n",
       "              'c1cc(cnc1)c(=o)n-1'],\n",
       "             '[H]c1c(c(c(c(c1[H])OC([H])([H])[H])OC([H])([H])[C@]([H])(C([H])([H])O[H])O[H])[H])[H]': ['coc1ccccc1oc[c@h](co)o-0',\n",
       "              'coc1ccccc1oc[c@h](co)o-1',\n",
       "              'coc1ccccc1oc[c@h](co)o-2',\n",
       "              'coc1ccccc1oc[c@h](co)o-3',\n",
       "              'coc1ccccc1oc[c@h](co)o-4',\n",
       "              'coc1ccccc1oc[c@h](co)o-5',\n",
       "              'coc1ccccc1oc[c@h](co)o-6',\n",
       "              'coc1ccccc1oc[c@h](co)o-7',\n",
       "              'coc1ccccc1oc[c@h](co)o-8',\n",
       "              'coc1ccccc1oc[c@h](co)o-9',\n",
       "              'coc1ccccc1oc[c@h](co)o-10',\n",
       "              'coc1ccccc1oc[c@h](co)o-11',\n",
       "              'coc1ccccc1oc[c@h](co)o-12',\n",
       "              'coc1ccccc1oc[c@h](co)o-13',\n",
       "              'coc1ccccc1oc[c@h](co)o-14',\n",
       "              'coc1ccccc1oc[c@h](co)o-15',\n",
       "              'coc1ccccc1oc[c@h](co)o-16',\n",
       "              'coc1ccccc1oc[c@h](co)o-17',\n",
       "              'coc1ccccc1oc[c@h](co)o-18',\n",
       "              'coc1ccccc1oc[c@h](co)o-19'],\n",
       "             '[H]c1c(c(c(c(c1C([H])([H])[C@](C(=O)[O-])(C([H])([H])[H])[N+]([H])([H])[H])[H])[H])O[H])[H]': ['c[c@](cc1ccc(cc1)o)(c(=o)[o-])[nh3+]-0',\n",
       "              'c[c@](cc1ccc(cc1)o)(c(=o)[o-])[nh3+]-1',\n",
       "              'c[c@](cc1ccc(cc1)o)(c(=o)[o-])[nh3+]-2'],\n",
       "             '[H]c1c(c(c(c(c1[H])[H])C2=C(OC(=N2)C([H])([H])C([H])([H])C(=O)[O-])c3c(c(c(c(c3[H])[H])[H])[H])[H])[H])[H]': ['c1ccc(cc1)c2c(oc(n2)ccc(=o)[o-])c3ccccc3-0',\n",
       "              'c1ccc(cc1)c2c(oc(n2)ccc(=o)[o-])c3ccccc3-1',\n",
       "              'c1ccc(cc1)c2c(oc(n2)ccc(=o)[o-])c3ccccc3-2',\n",
       "              'c1ccc(cc1)c2c(oc(n2)ccc(=o)[o-])c3ccccc3-3',\n",
       "              'c1ccc(cc1)c2c(oc(n2)ccc(=o)[o-])c3ccccc3-4',\n",
       "              'c1ccc(cc1)c2c(oc(n2)ccc(=o)[o-])c3ccccc3-5',\n",
       "              'c1ccc(cc1)c2c(oc(n2)ccc(=o)[o-])c3ccccc3-6',\n",
       "              'c1ccc(cc1)c2c(oc(n2)ccc(=o)[o-])c3ccccc3-7',\n",
       "              'c1ccc(cc1)c2c(oc(n2)ccc(=o)[o-])c3ccccc3-8',\n",
       "              'c1ccc(cc1)c2c(oc(n2)ccc(=o)[o-])c3ccccc3-9'],\n",
       "             '[H]C([H])([C@](C(=O)[O-])(C([H])(F)F)N([H])[H])C([H])([H])C([H])([H])[N+]([H])([H])[H]': ['c(c[c@@](c(f)f)(c(=o)[o-])n)c[nh3+]-0',\n",
       "              'c(c[c@@](c(f)f)(c(=o)[o-])n)c[nh3+]-1',\n",
       "              'c(c[c@@](c(f)f)(c(=o)[o-])n)c[nh3+]-2',\n",
       "              'c(c[c@@](c(f)f)(c(=o)[o-])n)c[nh3+]-3',\n",
       "              'c(c[c@@](c(f)f)(c(=o)[o-])n)c[nh3+]-4'],\n",
       "             '[H]C([H])([C@](C(=O)[O-])(C([H])(F)F)[N+]([H])([H])[H])C([H])([H])C([H])([H])[N+]([H])([H])[H]': ['c(c[c@@](c(f)f)(c(=o)[o-])[nh3+])c[nh3+]-0',\n",
       "              'c(c[c@@](c(f)f)(c(=o)[o-])[nh3+])c[nh3+]-1',\n",
       "              'c(c[c@@](c(f)f)(c(=o)[o-])[nh3+])c[nh3+]-2',\n",
       "              'c(c[c@@](c(f)f)(c(=o)[o-])[nh3+])c[nh3+]-3',\n",
       "              'c(c[c@@](c(f)f)(c(=o)[o-])[nh3+])c[nh3+]-4',\n",
       "              'c(c[c@@](c(f)f)(c(=o)[o-])[nh3+])c[nh3+]-5'],\n",
       "             '[H]c1c(c2c3c(c1[H])N(C(=C3C([C@@]4(C2=C([C@@](C([N@]4C([H])([H])[H])([H])[H])([H])C(=O)N([H])[C@]5(C(=O)N6[C@@](C(=O)N7[C@]([C@@]6(O5)O[H])(C(C(C7([H])[H])([H])[H])([H])[H])[H])([H])C([H])([H])C([H])(C([H])([H])[H])C([H])([H])[H])C([H])(C([H])([H])[H])C([H])([H])[H])[H])[H])([H])[H])Br)[H])[H]': ['cc(c)c[c@h]1c(=o)n2ccc[c@h]2[c@]3(n1c(=o)[c@](o3)(c(c)c)nc(=o)[c@h]4c[n@]([c@@h]5cc6c7c(cccc7[nh]c6br)c5=c4)c)o-0',\n",
       "              'cc(c)c[c@h]1c(=o)n2ccc[c@h]2[c@]3(n1c(=o)[c@](o3)(c(c)c)nc(=o)[c@h]4c[n@]([c@@h]5cc6c7c(cccc7[nh]c6br)c5=c4)c)o-3',\n",
       "              'cc(c)c[c@h]1c(=o)n2ccc[c@h]2[c@]3(n1c(=o)[c@](o3)(c(c)c)nc(=o)[c@h]4c[n@]([c@@h]5cc6c7c(cccc7[nh]c6br)c5=c4)c)o-4',\n",
       "              'cc(c)c[c@h]1c(=o)n2ccc[c@h]2[c@]3(n1c(=o)[c@](o3)(c(c)c)nc(=o)[c@h]4c[n@]([c@@h]5cc6c7c(cccc7[nh]c6br)c5=c4)c)o-5',\n",
       "              'cc(c)c[c@h]1c(=o)n2ccc[c@h]2[c@]3(n1c(=o)[c@](o3)(c(c)c)nc(=o)[c@h]4c[n@]([c@@h]5cc6c7c(cccc7[nh]c6br)c5=c4)c)o-6'],\n",
       "             '[H]c1c(c2c3c(c1[H])N(C(=C3C([C@@]4(C2=C([C@@](C([N@@+]4([H])C([H])([H])[H])([H])[H])([H])C(=O)N([H])[C@]5(C(=O)N6[C@@](C(=O)N7[C@]([C@@]6(O5)O[H])(C(C(C7([H])[H])([H])[H])([H])[H])[H])([H])C([H])([H])C([H])(C([H])([H])[H])C([H])([H])[H])C([H])(C([H])([H])[H])C([H])([H])[H])[H])[H])([H])[H])Br)[H])[H]': ['cc(c)c[c@h]1c(=o)n2ccc[c@h]2[c@]3(n1c(=o)[c@](o3)(c(c)c)nc(=o)[c@h]4c[n@h+]([c@@h]5cc6c7c(cccc7[nh]c6br)c5=c4)c)o-2',\n",
       "              'cc(c)c[c@h]1c(=o)n2ccc[c@h]2[c@]3(n1c(=o)[c@](o3)(c(c)c)nc(=o)[c@h]4c[n@h+]([c@@h]5cc6c7c(cccc7[nh]c6br)c5=c4)c)o-3',\n",
       "              'cc(c)c[c@h]1c(=o)n2ccc[c@h]2[c@]3(n1c(=o)[c@](o3)(c(c)c)nc(=o)[c@h]4c[n@h+]([c@@h]5cc6c7c(cccc7[nh]c6br)c5=c4)c)o-4',\n",
       "              'cc(c)c[c@h]1c(=o)n2ccc[c@h]2[c@]3(n1c(=o)[c@](o3)(c(c)c)nc(=o)[c@h]4c[n@h+]([c@@h]5cc6c7c(cccc7[nh]c6br)c5=c4)c)o-6'],\n",
       "             '[H]c1c(c2c3c(c1[H])N(C(=C3C([C@@]4(C2=C([C@@](C([N@+]4([H])C([H])([H])[H])([H])[H])([H])C(=O)N([H])[C@]5(C(=O)N6[C@@](C(=O)N7[C@]([C@@]6(O5)O[H])(C(C(C7([H])[H])([H])[H])([H])[H])[H])([H])C([H])([H])C([H])(C([H])([H])[H])C([H])([H])[H])C([H])(C([H])([H])[H])C([H])([H])[H])[H])[H])([H])[H])Br)[H])[H]': ['cc(c)c[c@h]1c(=o)n2ccc[c@h]2[c@]3(n1c(=o)[c@](o3)(c(c)c)nc(=o)[c@h]4c[n@@h+]([c@@h]5cc6c7c(cccc7[nh]c6br)c5=c4)c)o-0',\n",
       "              'cc(c)c[c@h]1c(=o)n2ccc[c@h]2[c@]3(n1c(=o)[c@](o3)(c(c)c)nc(=o)[c@h]4c[n@@h+]([c@@h]5cc6c7c(cccc7[nh]c6br)c5=c4)c)o-1',\n",
       "              'cc(c)c[c@h]1c(=o)n2ccc[c@h]2[c@]3(n1c(=o)[c@](o3)(c(c)c)nc(=o)[c@h]4c[n@@h+]([c@@h]5cc6c7c(cccc7[nh]c6br)c5=c4)c)o-3',\n",
       "              'cc(c)c[c@h]1c(=o)n2ccc[c@h]2[c@]3(n1c(=o)[c@](o3)(c(c)c)nc(=o)[c@h]4c[n@@h+]([c@@h]5cc6c7c(cccc7[nh]c6br)c5=c4)c)o-4',\n",
       "              'cc(c)c[c@h]1c(=o)n2ccc[c@h]2[c@]3(n1c(=o)[c@](o3)(c(c)c)nc(=o)[c@h]4c[n@@h+]([c@@h]5cc6c7c(cccc7[nh]c6br)c5=c4)c)o-6',\n",
       "              'cc(c)c[c@h]1c(=o)n2ccc[c@h]2[c@]3(n1c(=o)[c@](o3)(c(c)c)nc(=o)[c@h]4c[n@@h+]([c@@h]5cc6c7c(cccc7[nh]c6br)c5=c4)c)o-8',\n",
       "              'cc(c)c[c@h]1c(=o)n2ccc[c@h]2[c@]3(n1c(=o)[c@](o3)(c(c)c)nc(=o)[c@h]4c[n@@h+]([c@@h]5cc6c7c(cccc7[nh]c6br)c5=c4)c)o-9',\n",
       "              'cc(c)c[c@h]1c(=o)n2ccc[c@h]2[c@]3(n1c(=o)[c@](o3)(c(c)c)nc(=o)[c@h]4c[n@@h+]([c@@h]5cc6c7c(cccc7[nh]c6br)c5=c4)c)o-10'],\n",
       "             '[H]c1c(c(c(c(c1[H])[C@@]([H])(C(=O)OC([H])([H])[H])[N@]2C(C3=C(C(C2([H])[H])([H])[H])SC(=C3[H])[H])([H])[H])Cl)[H])[H]': ['coc(=o)[c@h](c1ccccc1cl)[n@@]2ccc3c(ccs3)c2-0',\n",
       "              'coc(=o)[c@h](c1ccccc1cl)[n@@]2ccc3c(ccs3)c2-1',\n",
       "              'coc(=o)[c@h](c1ccccc1cl)[n@@]2ccc3c(ccs3)c2-2',\n",
       "              'coc(=o)[c@h](c1ccccc1cl)[n@@]2ccc3c(ccs3)c2-3',\n",
       "              'coc(=o)[c@h](c1ccccc1cl)[n@@]2ccc3c(ccs3)c2-4',\n",
       "              'coc(=o)[c@h](c1ccccc1cl)[n@@]2ccc3c(ccs3)c2-5'],\n",
       "             '[H]c1c(c2c3c(c1[H])N(C(=C3C([C@@]4(C2=C([C@@](C([N@+]4([H])C([H])([H])[H])([H])[H])([H])C(=O)N([H])[C@@]([H])(C([H])([H])C([H])([H])[H])C([H])([H])O[H])[H])[H])([H])[H])[H])[H])[H]': ['cc[c@@h](co)nc(=o)[c@h]1c[n@@h+]([c@@h]2cc3c[nh]c4c3c(ccc4)c2=c1)c-0',\n",
       "              'cc[c@@h](co)nc(=o)[c@h]1c[n@@h+]([c@@h]2cc3c[nh]c4c3c(ccc4)c2=c1)c-1',\n",
       "              'cc[c@@h](co)nc(=o)[c@h]1c[n@@h+]([c@@h]2cc3c[nh]c4c3c(ccc4)c2=c1)c-2',\n",
       "              'cc[c@@h](co)nc(=o)[c@h]1c[n@@h+]([c@@h]2cc3c[nh]c4c3c(ccc4)c2=c1)c-3',\n",
       "              'cc[c@@h](co)nc(=o)[c@h]1c[n@@h+]([c@@h]2cc3c[nh]c4c3c(ccc4)c2=c1)c-4',\n",
       "              'cc[c@@h](co)nc(=o)[c@h]1c[n@@h+]([c@@h]2cc3c[nh]c4c3c(ccc4)c2=c1)c-5',\n",
       "              'cc[c@@h](co)nc(=o)[c@h]1c[n@@h+]([c@@h]2cc3c[nh]c4c3c(ccc4)c2=c1)c-6',\n",
       "              'cc[c@@h](co)nc(=o)[c@h]1c[n@@h+]([c@@h]2cc3c[nh]c4c3c(ccc4)c2=c1)c-7',\n",
       "              'cc[c@@h](co)nc(=o)[c@h]1c[n@@h+]([c@@h]2cc3c[nh]c4c3c(ccc4)c2=c1)c-8',\n",
       "              'cc[c@@h](co)nc(=o)[c@h]1c[n@@h+]([c@@h]2cc3c[nh]c4c3c(ccc4)c2=c1)c-9',\n",
       "              'cc[c@@h](co)nc(=o)[c@h]1c[n@@h+]([c@@h]2cc3c[nh]c4c3c(ccc4)c2=c1)c-10',\n",
       "              'cc[c@@h](co)nc(=o)[c@h]1c[n@@h+]([c@@h]2cc3c[nh]c4c3c(ccc4)c2=c1)c-11',\n",
       "              'cc[c@@h](co)nc(=o)[c@h]1c[n@@h+]([c@@h]2cc3c[nh]c4c3c(ccc4)c2=c1)c-12',\n",
       "              'cc[c@@h](co)nc(=o)[c@h]1c[n@@h+]([c@@h]2cc3c[nh]c4c3c(ccc4)c2=c1)c-13',\n",
       "              'cc[c@@h](co)nc(=o)[c@h]1c[n@@h+]([c@@h]2cc3c[nh]c4c3c(ccc4)c2=c1)c-14',\n",
       "              'cc[c@@h](co)nc(=o)[c@h]1c[n@@h+]([c@@h]2cc3c[nh]c4c3c(ccc4)c2=c1)c-15',\n",
       "              'cc[c@@h](co)nc(=o)[c@h]1c[n@@h+]([c@@h]2cc3c[nh]c4c3c(ccc4)c2=c1)c-16',\n",
       "              'cc[c@@h](co)nc(=o)[c@h]1c[n@@h+]([c@@h]2cc3c[nh]c4c3c(ccc4)c2=c1)c-17',\n",
       "              'cc[c@@h](co)nc(=o)[c@h]1c[n@@h+]([c@@h]2cc3c[nh]c4c3c(ccc4)c2=c1)c-18',\n",
       "              'cc[c@@h](co)nc(=o)[c@h]1c[n@@h+]([c@@h]2cc3c[nh]c4c3c(ccc4)c2=c1)c-19'],\n",
       "             '[H]c1c(c2c3c(c1[H])N(C(=C3C([C@@]4(C2=C([C@@](C([N@@+]4([H])C([H])([H])[H])([H])[H])([H])C(=O)N([H])[C@@]([H])(C([H])([H])C([H])([H])[H])C([H])([H])O[H])[H])[H])([H])[H])[H])[H])[H]': ['cc[c@@h](co)nc(=o)[c@h]1c[n@h+]([c@@h]2cc3c[nh]c4c3c(ccc4)c2=c1)c-0',\n",
       "              'cc[c@@h](co)nc(=o)[c@h]1c[n@h+]([c@@h]2cc3c[nh]c4c3c(ccc4)c2=c1)c-1',\n",
       "              'cc[c@@h](co)nc(=o)[c@h]1c[n@h+]([c@@h]2cc3c[nh]c4c3c(ccc4)c2=c1)c-2',\n",
       "              'cc[c@@h](co)nc(=o)[c@h]1c[n@h+]([c@@h]2cc3c[nh]c4c3c(ccc4)c2=c1)c-3',\n",
       "              'cc[c@@h](co)nc(=o)[c@h]1c[n@h+]([c@@h]2cc3c[nh]c4c3c(ccc4)c2=c1)c-4',\n",
       "              'cc[c@@h](co)nc(=o)[c@h]1c[n@h+]([c@@h]2cc3c[nh]c4c3c(ccc4)c2=c1)c-5',\n",
       "              'cc[c@@h](co)nc(=o)[c@h]1c[n@h+]([c@@h]2cc3c[nh]c4c3c(ccc4)c2=c1)c-6',\n",
       "              'cc[c@@h](co)nc(=o)[c@h]1c[n@h+]([c@@h]2cc3c[nh]c4c3c(ccc4)c2=c1)c-7',\n",
       "              'cc[c@@h](co)nc(=o)[c@h]1c[n@h+]([c@@h]2cc3c[nh]c4c3c(ccc4)c2=c1)c-8',\n",
       "              'cc[c@@h](co)nc(=o)[c@h]1c[n@h+]([c@@h]2cc3c[nh]c4c3c(ccc4)c2=c1)c-9',\n",
       "              'cc[c@@h](co)nc(=o)[c@h]1c[n@h+]([c@@h]2cc3c[nh]c4c3c(ccc4)c2=c1)c-10',\n",
       "              'cc[c@@h](co)nc(=o)[c@h]1c[n@h+]([c@@h]2cc3c[nh]c4c3c(ccc4)c2=c1)c-11',\n",
       "              'cc[c@@h](co)nc(=o)[c@h]1c[n@h+]([c@@h]2cc3c[nh]c4c3c(ccc4)c2=c1)c-12',\n",
       "              'cc[c@@h](co)nc(=o)[c@h]1c[n@h+]([c@@h]2cc3c[nh]c4c3c(ccc4)c2=c1)c-13',\n",
       "              'cc[c@@h](co)nc(=o)[c@h]1c[n@h+]([c@@h]2cc3c[nh]c4c3c(ccc4)c2=c1)c-14'],\n",
       "             '[H]c1c(c2c3c(c1[H])N(C(=C3C([C@@]4(C2=C([C@@](C([N@]4C([H])([H])[H])([H])[H])([H])C(=O)N([H])[C@@]([H])(C([H])([H])C([H])([H])[H])C([H])([H])O[H])[H])[H])([H])[H])[H])[H])[H]': ['cc[c@@h](co)nc(=o)[c@h]1c[n@]([c@@h]2cc3c[nh]c4c3c(ccc4)c2=c1)c-0',\n",
       "              'cc[c@@h](co)nc(=o)[c@h]1c[n@]([c@@h]2cc3c[nh]c4c3c(ccc4)c2=c1)c-1',\n",
       "              'cc[c@@h](co)nc(=o)[c@h]1c[n@]([c@@h]2cc3c[nh]c4c3c(ccc4)c2=c1)c-2',\n",
       "              'cc[c@@h](co)nc(=o)[c@h]1c[n@]([c@@h]2cc3c[nh]c4c3c(ccc4)c2=c1)c-3',\n",
       "              'cc[c@@h](co)nc(=o)[c@h]1c[n@]([c@@h]2cc3c[nh]c4c3c(ccc4)c2=c1)c-4',\n",
       "              'cc[c@@h](co)nc(=o)[c@h]1c[n@]([c@@h]2cc3c[nh]c4c3c(ccc4)c2=c1)c-5',\n",
       "              'cc[c@@h](co)nc(=o)[c@h]1c[n@]([c@@h]2cc3c[nh]c4c3c(ccc4)c2=c1)c-6',\n",
       "              'cc[c@@h](co)nc(=o)[c@h]1c[n@]([c@@h]2cc3c[nh]c4c3c(ccc4)c2=c1)c-7',\n",
       "              'cc[c@@h](co)nc(=o)[c@h]1c[n@]([c@@h]2cc3c[nh]c4c3c(ccc4)c2=c1)c-8',\n",
       "              'cc[c@@h](co)nc(=o)[c@h]1c[n@]([c@@h]2cc3c[nh]c4c3c(ccc4)c2=c1)c-9',\n",
       "              'cc[c@@h](co)nc(=o)[c@h]1c[n@]([c@@h]2cc3c[nh]c4c3c(ccc4)c2=c1)c-10',\n",
       "              'cc[c@@h](co)nc(=o)[c@h]1c[n@]([c@@h]2cc3c[nh]c4c3c(ccc4)c2=c1)c-11',\n",
       "              'cc[c@@h](co)nc(=o)[c@h]1c[n@]([c@@h]2cc3c[nh]c4c3c(ccc4)c2=c1)c-12',\n",
       "              'cc[c@@h](co)nc(=o)[c@h]1c[n@]([c@@h]2cc3c[nh]c4c3c(ccc4)c2=c1)c-13',\n",
       "              'cc[c@@h](co)nc(=o)[c@h]1c[n@]([c@@h]2cc3c[nh]c4c3c(ccc4)c2=c1)c-14',\n",
       "              'cc[c@@h](co)nc(=o)[c@h]1c[n@]([c@@h]2cc3c[nh]c4c3c(ccc4)c2=c1)c-15',\n",
       "              'cc[c@@h](co)nc(=o)[c@h]1c[n@]([c@@h]2cc3c[nh]c4c3c(ccc4)c2=c1)c-16',\n",
       "              'cc[c@@h](co)nc(=o)[c@h]1c[n@]([c@@h]2cc3c[nh]c4c3c(ccc4)c2=c1)c-17'],\n",
       "             '[H]C1=C(N=C(N1[H])[H])C([H])([H])[C@@]([H])(C(=O)[O-])[N+]([H])([H])[H]': ['c1c(nc[nh]1)c[c@@h](c(=o)[o-])[nh3+]-0',\n",
       "              'c1c(nc[nh]1)c[c@@h](c(=o)[o-])[nh3+]-1',\n",
       "              'c1c(nc[nh]1)c[c@@h](c(=o)[o-])[nh3+]-2',\n",
       "              'c1c(nc[nh]1)c[c@@h](c(=o)[o-])[nh3+]-3',\n",
       "              'c1c(nc[nh]1)c[c@@h](c(=o)[o-])[nh3+]-4',\n",
       "              'c1c(nc[nh]1)c[c@@h](c(=o)[o-])[nh3+]-5'],\n",
       "             '[H]C1=C(N(C(=N1)[H])[H])C([H])([H])[C@@]([H])(C(=O)[O-])[N+]([H])([H])[H]': ['c1c([nh]cn1)c[c@@h](c(=o)[o-])[nh3+]-0',\n",
       "              'c1c([nh]cn1)c[c@@h](c(=o)[o-])[nh3+]-1',\n",
       "              'c1c([nh]cn1)c[c@@h](c(=o)[o-])[nh3+]-2',\n",
       "              'c1c([nh]cn1)c[c@@h](c(=o)[o-])[nh3+]-3',\n",
       "              'c1c([nh]cn1)c[c@@h](c(=o)[o-])[nh3+]-4',\n",
       "              'c1c([nh]cn1)c[c@@h](c(=o)[o-])[nh3+]-5'],\n",
       "             '[H]C1=C(N([C+](N1[H])[H])[H])C([H])([H])[C@@]([H])(C(=O)[O-])[N+]([H])([H])[H]': ['c1c([nh][ch+][nh]1)c[c@@h](c(=o)[o-])[nh3+]-0',\n",
       "              'c1c([nh][ch+][nh]1)c[c@@h](c(=o)[o-])[nh3+]-1',\n",
       "              'c1c([nh][ch+][nh]1)c[c@@h](c(=o)[o-])[nh3+]-2',\n",
       "              'c1c([nh][ch+][nh]1)c[c@@h](c(=o)[o-])[nh3+]-3',\n",
       "              'c1c([nh][ch+][nh]1)c[c@@h](c(=o)[o-])[nh3+]-4',\n",
       "              'c1c([nh][ch+][nh]1)c[c@@h](c(=o)[o-])[nh3+]-5'],\n",
       "             '[H]c1c(c(c(c(c1C([H])([H])N([H])C(=O)C2=C(N3C(=C(C2=O)O[H])C(=O)N4[C@](C(C(O[C@]4(C3([H])[H])[H])([H])[H])([H])[H])([H])C([H])([H])[H])[H])F)[H])F)[H]': ['c[c@@h]1cco[c@@h]2n1c(=o)c3c(c(=o)c(cn3c2)c(=o)ncc4ccc(cc4f)f)o-0',\n",
       "              'c[c@@h]1cco[c@@h]2n1c(=o)c3c(c(=o)c(cn3c2)c(=o)ncc4ccc(cc4f)f)o-1',\n",
       "              'c[c@@h]1cco[c@@h]2n1c(=o)c3c(c(=o)c(cn3c2)c(=o)ncc4ccc(cc4f)f)o-2',\n",
       "              'c[c@@h]1cco[c@@h]2n1c(=o)c3c(c(=o)c(cn3c2)c(=o)ncc4ccc(cc4f)f)o-3',\n",
       "              'c[c@@h]1cco[c@@h]2n1c(=o)c3c(c(=o)c(cn3c2)c(=o)ncc4ccc(cc4f)f)o-4',\n",
       "              'c[c@@h]1cco[c@@h]2n1c(=o)c3c(c(=o)c(cn3c2)c(=o)ncc4ccc(cc4f)f)o-5',\n",
       "              'c[c@@h]1cco[c@@h]2n1c(=o)c3c(c(=o)c(cn3c2)c(=o)ncc4ccc(cc4f)f)o-6',\n",
       "              'c[c@@h]1cco[c@@h]2n1c(=o)c3c(c(=o)c(cn3c2)c(=o)ncc4ccc(cc4f)f)o-7',\n",
       "              'c[c@@h]1cco[c@@h]2n1c(=o)c3c(c(=o)c(cn3c2)c(=o)ncc4ccc(cc4f)f)o-8',\n",
       "              'c[c@@h]1cco[c@@h]2n1c(=o)c3c(c(=o)c(cn3c2)c(=o)ncc4ccc(cc4f)f)o-9',\n",
       "              'c[c@@h]1cco[c@@h]2n1c(=o)c3c(c(=o)c(cn3c2)c(=o)ncc4ccc(cc4f)f)o-10',\n",
       "              'c[c@@h]1cco[c@@h]2n1c(=o)c3c(c(=o)c(cn3c2)c(=o)ncc4ccc(cc4f)f)o-11',\n",
       "              'c[c@@h]1cco[c@@h]2n1c(=o)c3c(c(=o)c(cn3c2)c(=o)ncc4ccc(cc4f)f)o-12',\n",
       "              'c[c@@h]1cco[c@@h]2n1c(=o)c3c(c(=o)c(cn3c2)c(=o)ncc4ccc(cc4f)f)o-13',\n",
       "              'c[c@@h]1cco[c@@h]2n1c(=o)c3c(c(=o)c(cn3c2)c(=o)ncc4ccc(cc4f)f)o-14',\n",
       "              'c[c@@h]1cco[c@@h]2n1c(=o)c3c(c(=o)c(cn3c2)c(=o)ncc4ccc(cc4f)f)o-15',\n",
       "              'c[c@@h]1cco[c@@h]2n1c(=o)c3c(c(=o)c(cn3c2)c(=o)ncc4ccc(cc4f)f)o-16',\n",
       "              'c[c@@h]1cco[c@@h]2n1c(=o)c3c(c(=o)c(cn3c2)c(=o)ncc4ccc(cc4f)f)o-17',\n",
       "              'c[c@@h]1cco[c@@h]2n1c(=o)c3c(c(=o)c(cn3c2)c(=o)ncc4ccc(cc4f)f)o-18',\n",
       "              'c[c@@h]1cco[c@@h]2n1c(=o)c3c(c(=o)c(cn3c2)c(=o)ncc4ccc(cc4f)f)o-19'],\n",
       "             '[H]c1c(c(c(c(c1[H])C(=O)[O-])[H])c2c(c(c(c(n2)N([H])C(=O)C3(C(C3([H])[H])([H])[H])c4c(c(c5c(c4[H])OC(O5)(F)F)[H])[H])[H])[H])C([H])([H])[H])[H]': ['cc1ccc(nc1c2cccc(c2)c(=o)[o-])nc(=o)c3(cc3)c4ccc5c(c4)oc(o5)(f)f-0',\n",
       "              'cc1ccc(nc1c2cccc(c2)c(=o)[o-])nc(=o)c3(cc3)c4ccc5c(c4)oc(o5)(f)f-1',\n",
       "              'cc1ccc(nc1c2cccc(c2)c(=o)[o-])nc(=o)c3(cc3)c4ccc5c(c4)oc(o5)(f)f-2',\n",
       "              'cc1ccc(nc1c2cccc(c2)c(=o)[o-])nc(=o)c3(cc3)c4ccc5c(c4)oc(o5)(f)f-3',\n",
       "              'cc1ccc(nc1c2cccc(c2)c(=o)[o-])nc(=o)c3(cc3)c4ccc5c(c4)oc(o5)(f)f-4',\n",
       "              'cc1ccc(nc1c2cccc(c2)c(=o)[o-])nc(=o)c3(cc3)c4ccc5c(c4)oc(o5)(f)f-5',\n",
       "              'cc1ccc(nc1c2cccc(c2)c(=o)[o-])nc(=o)c3(cc3)c4ccc5c(c4)oc(o5)(f)f-6',\n",
       "              'cc1ccc(nc1c2cccc(c2)c(=o)[o-])nc(=o)c3(cc3)c4ccc5c(c4)oc(o5)(f)f-7',\n",
       "              'cc1ccc(nc1c2cccc(c2)c(=o)[o-])nc(=o)c3(cc3)c4ccc5c(c4)oc(o5)(f)f-8',\n",
       "              'cc1ccc(nc1c2cccc(c2)c(=o)[o-])nc(=o)c3(cc3)c4ccc5c(c4)oc(o5)(f)f-9',\n",
       "              'cc1ccc(nc1c2cccc(c2)c(=o)[o-])nc(=o)c3(cc3)c4ccc5c(c4)oc(o5)(f)f-10',\n",
       "              'cc1ccc(nc1c2cccc(c2)c(=o)[o-])nc(=o)c3(cc3)c4ccc5c(c4)oc(o5)(f)f-11',\n",
       "              'cc1ccc(nc1c2cccc(c2)c(=o)[o-])nc(=o)c3(cc3)c4ccc5c(c4)oc(o5)(f)f-12',\n",
       "              'cc1ccc(nc1c2cccc(c2)c(=o)[o-])nc(=o)c3(cc3)c4ccc5c(c4)oc(o5)(f)f-13',\n",
       "              'cc1ccc(nc1c2cccc(c2)c(=o)[o-])nc(=o)c3(cc3)c4ccc5c(c4)oc(o5)(f)f-14',\n",
       "              'cc1ccc(nc1c2cccc(c2)c(=o)[o-])nc(=o)c3(cc3)c4ccc5c(c4)oc(o5)(f)f-15',\n",
       "              'cc1ccc(nc1c2cccc(c2)c(=o)[o-])nc(=o)c3(cc3)c4ccc5c(c4)oc(o5)(f)f-16',\n",
       "              'cc1ccc(nc1c2cccc(c2)c(=o)[o-])nc(=o)c3(cc3)c4ccc5c(c4)oc(o5)(f)f-17',\n",
       "              'cc1ccc(nc1c2cccc(c2)c(=o)[o-])nc(=o)c3(cc3)c4ccc5c(c4)oc(o5)(f)f-18',\n",
       "              'cc1ccc(nc1c2cccc(c2)c(=o)[o-])nc(=o)c3(cc3)c4ccc5c(c4)oc(o5)(f)f-19'],\n",
       "             '[H]c1c(c(c2c(c1[H])c(c(c(n2)[H])C(=O)N([H])c3c(c(c(c(c3C(C([H])([H])[H])(C([H])([H])[H])C([H])([H])[H])[H])C(C([H])([H])[H])(C([H])([H])[H])C([H])([H])[H])O[H])[H])O[H])[H])[H]': ['cc(c)(c)c1cc(c(cc1nc(=o)c2cnc3ccccc3c2o)o)c(c)(c)c-0',\n",
       "              'cc(c)(c)c1cc(c(cc1nc(=o)c2cnc3ccccc3c2o)o)c(c)(c)c-1',\n",
       "              'cc(c)(c)c1cc(c(cc1nc(=o)c2cnc3ccccc3c2o)o)c(c)(c)c-2'],\n",
       "             '[H]c1c(c(c2c(c1[H])C(=O)C(=C([N-]2)[H])C(=O)N([H])c3c(c(c(c(c3C(C([H])([H])[H])(C([H])([H])[H])C([H])([H])[H])[H])C(C([H])([H])[H])(C([H])([H])[H])C([H])([H])[H])O[H])[H])[H])[H]': ['cc(c)(c)c1cc(c(cc1nc(=o)c2c[n-]c3ccccc3c2=o)o)c(c)(c)c-0',\n",
       "              'cc(c)(c)c1cc(c(cc1nc(=o)c2c[n-]c3ccccc3c2=o)o)c(c)(c)c-1',\n",
       "              'cc(c)(c)c1cc(c(cc1nc(=o)c2c[n-]c3ccccc3c2=o)o)c(c)(c)c-2',\n",
       "              'cc(c)(c)c1cc(c(cc1nc(=o)c2c[n-]c3ccccc3c2=o)o)c(c)(c)c-3'],\n",
       "             '[H]c1c(c(c2c(c1[H])c(c(c(n2)[H])C(=O)N([H])c3c(c(c(c(c3C(C([H])([H])[H])(C([H])([H])[H])C([H])([H])[H])[H])C(C([H])([H])[H])(C([H])([H])[H])C([H])([H])[H])O[H])[H])[O-])[H])[H]': ['cc(c)(c)c1cc(c(cc1nc(=o)c2cnc3ccccc3c2[o-])o)c(c)(c)c-0',\n",
       "              'cc(c)(c)c1cc(c(cc1nc(=o)c2cnc3ccccc3c2[o-])o)c(c)(c)c-1',\n",
       "              'cc(c)(c)c1cc(c(cc1nc(=o)c2cnc3ccccc3c2[o-])o)c(c)(c)c-2'],\n",
       "             '[H]c1c(c(c2c(c1[H])N=C(C3=C(N2[H])SC(=C3[H])C([H])([H])[H])N4C(C(N(C(C4([H])[H])([H])[H])C([H])([H])[H])([H])[H])([H])[H])[H])[H]': ['cc1cc2c(s1)nc3ccccc3n=c2n4ccn(cc4)c-0',\n",
       "              'cc1cc2c(s1)nc3ccccc3n=c2n4ccn(cc4)c-1'],\n",
       "             '[H]c1c(c(c2c(c1[H])N=C(C3=C(N2[H])SC(=C3[H])C([H])([H])[H])N4C(C([N+](C(C4([H])[H])([H])[H])([H])C([H])([H])[H])([H])[H])([H])[H])[H])[H]': ['cc1cc2c(s1)nc3ccccc3n=c2n4cc[nh+](cc4)c-0'],\n",
       "             '[H]C([H])([C@@](C(=O)[O-])(C([H])(F)F)[N+]([H])([H])[H])C([H])([H])C([H])([H])[N+]([H])([H])[H]': ['c(c[c@](c(f)f)(c(=o)[o-])[nh3+])c[nh3+]-0',\n",
       "              'c(c[c@](c(f)f)(c(=o)[o-])[nh3+])c[nh3+]-1',\n",
       "              'c(c[c@](c(f)f)(c(=o)[o-])[nh3+])c[nh3+]-2',\n",
       "              'c(c[c@](c(f)f)(c(=o)[o-])[nh3+])c[nh3+]-3',\n",
       "              'c(c[c@](c(f)f)(c(=o)[o-])[nh3+])c[nh3+]-4',\n",
       "              'c(c[c@](c(f)f)(c(=o)[o-])[nh3+])c[nh3+]-5',\n",
       "              'c(c[c@](c(f)f)(c(=o)[o-])[nh3+])c[nh3+]-6',\n",
       "              'c(c[c@](c(f)f)(c(=o)[o-])[nh3+])c[nh3+]-7',\n",
       "              'c(c[c@](c(f)f)(c(=o)[o-])[nh3+])c[nh3+]-8',\n",
       "              'c(c[c@](c(f)f)(c(=o)[o-])[nh3+])c[nh3+]-9',\n",
       "              'c(c[c@](c(f)f)(c(=o)[o-])[nh3+])c[nh3+]-10',\n",
       "              'c(c[c@](c(f)f)(c(=o)[o-])[nh3+])c[nh3+]-11'],\n",
       "             '[H]c1c(c(c(c2c1N(C(=N2)[S@](=O)C([H])([H])c3c(c(c(c(n3)[H])C([H])([H])[H])OC([H])([H])[H])C([H])([H])[H])[H])[H])OC([H])([H])[H])[H]': ['cc1cnc(c(c1oc)c)c[s@@](=o)c2[nh]c3ccc(cc3n2)oc-0',\n",
       "              'cc1cnc(c(c1oc)c)c[s@@](=o)c2[nh]c3ccc(cc3n2)oc-1',\n",
       "              'cc1cnc(c(c1oc)c)c[s@@](=o)c2[nh]c3ccc(cc3n2)oc-2',\n",
       "              'cc1cnc(c(c1oc)c)c[s@@](=o)c2[nh]c3ccc(cc3n2)oc-3',\n",
       "              'cc1cnc(c(c1oc)c)c[s@@](=o)c2[nh]c3ccc(cc3n2)oc-4',\n",
       "              'cc1cnc(c(c1oc)c)c[s@@](=o)c2[nh]c3ccc(cc3n2)oc-5',\n",
       "              'cc1cnc(c(c1oc)c)c[s@@](=o)c2[nh]c3ccc(cc3n2)oc-6',\n",
       "              'cc1cnc(c(c1oc)c)c[s@@](=o)c2[nh]c3ccc(cc3n2)oc-7',\n",
       "              'cc1cnc(c(c1oc)c)c[s@@](=o)c2[nh]c3ccc(cc3n2)oc-8',\n",
       "              'cc1cnc(c(c1oc)c)c[s@@](=o)c2[nh]c3ccc(cc3n2)oc-9',\n",
       "              'cc1cnc(c(c1oc)c)c[s@@](=o)c2[nh]c3ccc(cc3n2)oc-10',\n",
       "              'cc1cnc(c(c1oc)c)c[s@@](=o)c2[nh]c3ccc(cc3n2)oc-11',\n",
       "              'cc1cnc(c(c1oc)c)c[s@@](=o)c2[nh]c3ccc(cc3n2)oc-12',\n",
       "              'cc1cnc(c(c1oc)c)c[s@@](=o)c2[nh]c3ccc(cc3n2)oc-13',\n",
       "              'cc1cnc(c(c1oc)c)c[s@@](=o)c2[nh]c3ccc(cc3n2)oc-14',\n",
       "              'cc1cnc(c(c1oc)c)c[s@@](=o)c2[nh]c3ccc(cc3n2)oc-15',\n",
       "              'cc1cnc(c(c1oc)c)c[s@@](=o)c2[nh]c3ccc(cc3n2)oc-16',\n",
       "              'cc1cnc(c(c1oc)c)c[s@@](=o)c2[nh]c3ccc(cc3n2)oc-17',\n",
       "              'cc1cnc(c(c1oc)c)c[s@@](=o)c2[nh]c3ccc(cc3n2)oc-18',\n",
       "              'cc1cnc(c(c1oc)c)c[s@@](=o)c2[nh]c3ccc(cc3n2)oc-19'],\n",
       "             '[H]c1c(c(c(c2c1N=C(N2[H])[S@](=O)C([H])([H])c3c(c(c(c(n3)[H])C([H])([H])[H])OC([H])([H])[H])C([H])([H])[H])[H])OC([H])([H])[H])[H]': ['cc1cnc(c(c1oc)c)c[s@@](=o)c2[nh]c3cc(ccc3n2)oc-0',\n",
       "              'cc1cnc(c(c1oc)c)c[s@@](=o)c2[nh]c3cc(ccc3n2)oc-1',\n",
       "              'cc1cnc(c(c1oc)c)c[s@@](=o)c2[nh]c3cc(ccc3n2)oc-2',\n",
       "              'cc1cnc(c(c1oc)c)c[s@@](=o)c2[nh]c3cc(ccc3n2)oc-3',\n",
       "              'cc1cnc(c(c1oc)c)c[s@@](=o)c2[nh]c3cc(ccc3n2)oc-4',\n",
       "              'cc1cnc(c(c1oc)c)c[s@@](=o)c2[nh]c3cc(ccc3n2)oc-5',\n",
       "              'cc1cnc(c(c1oc)c)c[s@@](=o)c2[nh]c3cc(ccc3n2)oc-6',\n",
       "              'cc1cnc(c(c1oc)c)c[s@@](=o)c2[nh]c3cc(ccc3n2)oc-7',\n",
       "              'cc1cnc(c(c1oc)c)c[s@@](=o)c2[nh]c3cc(ccc3n2)oc-8',\n",
       "              'cc1cnc(c(c1oc)c)c[s@@](=o)c2[nh]c3cc(ccc3n2)oc-9',\n",
       "              'cc1cnc(c(c1oc)c)c[s@@](=o)c2[nh]c3cc(ccc3n2)oc-10',\n",
       "              'cc1cnc(c(c1oc)c)c[s@@](=o)c2[nh]c3cc(ccc3n2)oc-11',\n",
       "              'cc1cnc(c(c1oc)c)c[s@@](=o)c2[nh]c3cc(ccc3n2)oc-12',\n",
       "              'cc1cnc(c(c1oc)c)c[s@@](=o)c2[nh]c3cc(ccc3n2)oc-13',\n",
       "              'cc1cnc(c(c1oc)c)c[s@@](=o)c2[nh]c3cc(ccc3n2)oc-14',\n",
       "              'cc1cnc(c(c1oc)c)c[s@@](=o)c2[nh]c3cc(ccc3n2)oc-15',\n",
       "              'cc1cnc(c(c1oc)c)c[s@@](=o)c2[nh]c3cc(ccc3n2)oc-16',\n",
       "              'cc1cnc(c(c1oc)c)c[s@@](=o)c2[nh]c3cc(ccc3n2)oc-17',\n",
       "              'cc1cnc(c(c1oc)c)c[s@@](=o)c2[nh]c3cc(ccc3n2)oc-18',\n",
       "              'cc1cnc(c(c1oc)c)c[s@@](=o)c2[nh]c3cc(ccc3n2)oc-19'],\n",
       "             '[H]c1c(c(c2c(c1[H])[C@@]3(C(N(C(C(=O)N3C(C2([H])[H])([H])[H])([H])[H])C(=O)C4(C(C(C(C(C4([H])[H])([H])[H])([H])[H])([H])[H])([H])[H])[H])([H])[H])[H])[H])[H]': ['c1ccc2c(c1)ccn3[c@h]2cn(cc3=o)c(=o)c4ccccc4-0',\n",
       "              'c1ccc2c(c1)ccn3[c@h]2cn(cc3=o)c(=o)c4ccccc4-1',\n",
       "              'c1ccc2c(c1)ccn3[c@h]2cn(cc3=o)c(=o)c4ccccc4-2',\n",
       "              'c1ccc2c(c1)ccn3[c@h]2cn(cc3=o)c(=o)c4ccccc4-3',\n",
       "              'c1ccc2c(c1)ccn3[c@h]2cn(cc3=o)c(=o)c4ccccc4-4',\n",
       "              'c1ccc2c(c1)ccn3[c@h]2cn(cc3=o)c(=o)c4ccccc4-5',\n",
       "              'c1ccc2c(c1)ccn3[c@h]2cn(cc3=o)c(=o)c4ccccc4-6',\n",
       "              'c1ccc2c(c1)ccn3[c@h]2cn(cc3=o)c(=o)c4ccccc4-7',\n",
       "              'c1ccc2c(c1)ccn3[c@h]2cn(cc3=o)c(=o)c4ccccc4-8',\n",
       "              'c1ccc2c(c1)ccn3[c@h]2cn(cc3=o)c(=o)c4ccccc4-9',\n",
       "              'c1ccc2c(c1)ccn3[c@h]2cn(cc3=o)c(=o)c4ccccc4-10'],\n",
       "             '[H]c1c(c(c(c(c1[H])C([H])([H])[H])N([H])C(=O)[C@]2(C(C(C(C([N@@]2C([H])([H])[H])([H])[H])([H])[H])([H])[H])([H])[H])[H])C([H])([H])[H])[H]': ['cc1cccc(c1nc(=o)[c@h]2cccc[n@@]2c)c-0',\n",
       "              'cc1cccc(c1nc(=o)[c@h]2cccc[n@@]2c)c-1',\n",
       "              'cc1cccc(c1nc(=o)[c@h]2cccc[n@@]2c)c-2'],\n",
       "             '[H]c1c(c(c(c(c1[H])C([H])([H])[H])N([H])C(=O)[C@]2(C(C(C(C([N@@+]2([H])C([H])([H])[H])([H])[H])([H])[H])([H])[H])([H])[H])[H])C([H])([H])[H])[H]': ['cc1cccc(c1nc(=o)[c@h]2cccc[n@h+]2c)c-0',\n",
       "              'cc1cccc(c1nc(=o)[c@h]2cccc[n@h+]2c)c-1',\n",
       "              'cc1cccc(c1nc(=o)[c@h]2cccc[n@h+]2c)c-2'],\n",
       "             '[H]c1c(c(c(c(c1[H])C([H])([H])[H])N([H])C(=O)[C@]2(C(C(C(C([N@+]2([H])C([H])([H])[H])([H])[H])([H])[H])([H])[H])([H])[H])[H])C([H])([H])[H])[H]': ['cc1cccc(c1nc(=o)[c@h]2cccc[n@@h+]2c)c-0',\n",
       "              'cc1cccc(c1nc(=o)[c@h]2cccc[n@@h+]2c)c-1',\n",
       "              'cc1cccc(c1nc(=o)[c@h]2cccc[n@@h+]2c)c-2',\n",
       "              'cc1cccc(c1nc(=o)[c@h]2cccc[n@@h+]2c)c-3'],\n",
       "             '[H]c1c(c(c(c(c1[H])N2C(C([N+](C(C2([H])[H])([H])[H])([H])[H])([H])[H])([H])[H])Sc3c(c(c(c(c3C([H])([H])[H])[H])C([H])([H])[H])[H])[H])[H])[H]': ['cc1ccc(c(c1)c)sc2ccccc2n3cc[nh2+]cc3-0',\n",
       "              'cc1ccc(c(c1)c)sc2ccccc2n3cc[nh2+]cc3-1',\n",
       "              'cc1ccc(c(c1)c)sc2ccccc2n3cc[nh2+]cc3-2',\n",
       "              'cc1ccc(c(c1)c)sc2ccccc2n3cc[nh2+]cc3-3',\n",
       "              'cc1ccc(c(c1)c)sc2ccccc2n3cc[nh2+]cc3-4',\n",
       "              'cc1ccc(c(c1)c)sc2ccccc2n3cc[nh2+]cc3-5',\n",
       "              'cc1ccc(c(c1)c)sc2ccccc2n3cc[nh2+]cc3-6',\n",
       "              'cc1ccc(c(c1)c)sc2ccccc2n3cc[nh2+]cc3-7',\n",
       "              'cc1ccc(c(c1)c)sc2ccccc2n3cc[nh2+]cc3-8',\n",
       "              'cc1ccc(c(c1)c)sc2ccccc2n3cc[nh2+]cc3-9'],\n",
       "             '[H]c1c(c(c(c(c1[H])N2C(C(N(C(C2([H])[H])([H])[H])[H])([H])[H])([H])[H])Sc3c(c(c(c(c3C([H])([H])[H])[H])C([H])([H])[H])[H])[H])[H])[H]': ['cc1ccc(c(c1)c)sc2ccccc2n3ccncc3-0',\n",
       "              'cc1ccc(c(c1)c)sc2ccccc2n3ccncc3-1',\n",
       "              'cc1ccc(c(c1)c)sc2ccccc2n3ccncc3-2',\n",
       "              'cc1ccc(c(c1)c)sc2ccccc2n3ccncc3-3',\n",
       "              'cc1ccc(c(c1)c)sc2ccccc2n3ccncc3-4',\n",
       "              'cc1ccc(c(c1)c)sc2ccccc2n3ccncc3-5',\n",
       "              'cc1ccc(c(c1)c)sc2ccccc2n3ccncc3-6',\n",
       "              'cc1ccc(c(c1)c)sc2ccccc2n3ccncc3-7',\n",
       "              'cc1ccc(c(c1)c)sc2ccccc2n3ccncc3-8',\n",
       "              'cc1ccc(c(c1)c)sc2ccccc2n3ccncc3-9'],\n",
       "             '[H]c1c(c(c(c(c1[H])[H])C(c2c(c(c(c(c2[H])[H])[H])[H])[H])(C(=O)O[C@@]3(C([N+]4(C(C(C3(C(C4([H])[H])([H])[H])[H])([H])[H])([H])[H])C([H])([H])[H])([H])[H])[H])O[H])[H])[H]': ['c[n+]12ccc(cc1)[c@@h](c2)oc(=o)c(c3ccccc3)(c4ccccc4)o-0',\n",
       "              'c[n+]12ccc(cc1)[c@@h](c2)oc(=o)c(c3ccccc3)(c4ccccc4)o-1',\n",
       "              'c[n+]12ccc(cc1)[c@@h](c2)oc(=o)c(c3ccccc3)(c4ccccc4)o-2',\n",
       "              'c[n+]12ccc(cc1)[c@@h](c2)oc(=o)c(c3ccccc3)(c4ccccc4)o-3',\n",
       "              'c[n+]12ccc(cc1)[c@@h](c2)oc(=o)c(c3ccccc3)(c4ccccc4)o-4',\n",
       "              'c[n+]12ccc(cc1)[c@@h](c2)oc(=o)c(c3ccccc3)(c4ccccc4)o-5',\n",
       "              'c[n+]12ccc(cc1)[c@@h](c2)oc(=o)c(c3ccccc3)(c4ccccc4)o-6',\n",
       "              'c[n+]12ccc(cc1)[c@@h](c2)oc(=o)c(c3ccccc3)(c4ccccc4)o-7',\n",
       "              'c[n+]12ccc(cc1)[c@@h](c2)oc(=o)c(c3ccccc3)(c4ccccc4)o-8',\n",
       "              'c[n+]12ccc(cc1)[c@@h](c2)oc(=o)c(c3ccccc3)(c4ccccc4)o-9',\n",
       "              'c[n+]12ccc(cc1)[c@@h](c2)oc(=o)c(c3ccccc3)(c4ccccc4)o-10',\n",
       "              'c[n+]12ccc(cc1)[c@@h](c2)oc(=o)c(c3ccccc3)(c4ccccc4)o-11',\n",
       "              'c[n+]12ccc(cc1)[c@@h](c2)oc(=o)c(c3ccccc3)(c4ccccc4)o-12',\n",
       "              'c[n+]12ccc(cc1)[c@@h](c2)oc(=o)c(c3ccccc3)(c4ccccc4)o-13',\n",
       "              'c[n+]12ccc(cc1)[c@@h](c2)oc(=o)c(c3ccccc3)(c4ccccc4)o-14',\n",
       "              'c[n+]12ccc(cc1)[c@@h](c2)oc(=o)c(c3ccccc3)(c4ccccc4)o-15',\n",
       "              'c[n+]12ccc(cc1)[c@@h](c2)oc(=o)c(c3ccccc3)(c4ccccc4)o-16',\n",
       "              'c[n+]12ccc(cc1)[c@@h](c2)oc(=o)c(c3ccccc3)(c4ccccc4)o-17'],\n",
       "             '[H]c1c(c([n+](c(c1[H])/C(=N/[O-])/[H])C([H])([H])[H])[H])[H]': ['c[n+]1ccccc1/c=n/[o-]-0'],\n",
       "             '[H]c1c(c(c(c(c1[H])C([H])([H])[H])C([H])([H])[H])[C@@]([H])(C2=C(N(C(=N2)[H])[H])[H])C([H])([H])[H])[H]': ['cc1cccc(c1c)[c@h](c)c2c[nh]cn2-0',\n",
       "              'cc1cccc(c1c)[c@h](c)c2c[nh]cn2-1',\n",
       "              'cc1cccc(c1c)[c@h](c)c2c[nh]cn2-2',\n",
       "              'cc1cccc(c1c)[c@h](c)c2c[nh]cn2-3'],\n",
       "             '[H]c1c(c(c(c(c1[H])C([H])([H])[H])C([H])([H])[H])[C@@]([H])(C2=C(N([C+](N2[H])[H])[H])[H])C([H])([H])[H])[H]': ['cc1cccc(c1c)[c@h](c)c2c[nh][ch+][nh]2-0',\n",
       "              'cc1cccc(c1c)[c@h](c)c2c[nh][ch+][nh]2-1',\n",
       "              'cc1cccc(c1c)[c@h](c)c2c[nh][ch+][nh]2-2',\n",
       "              'cc1cccc(c1c)[c@h](c)c2c[nh][ch+][nh]2-3'],\n",
       "             '[H]c1c(c(c(c2c1C(C([N+](C([C@]2([H])C([H])([H])[H])([H])[H])([H])[H])([H])[H])([H])[H])[H])Cl)[H]': ['c[c@h]1c[nh2+]ccc2c1cc(cc2)cl-0',\n",
       "              'c[c@h]1c[nh2+]ccc2c1cc(cc2)cl-1'],\n",
       "             '[H]c1c(c(c(c(c1[H])[H])C([H])([H])[C@]2(C(=O)N3[C@]([C@]4(N2C(=O)[C@](O4)(C([H])([H])[H])N([H])C(=O)[C@@]5(C([C@@]6(c7c(c(c(c8c7C(=C(N8[H])[H])C([C@]6([N@+](C5([H])[H])([H])C([H])([H])[H])[H])([H])[H])[H])[H])[H])[H])([H])[H])[H])O[H])(C(C(C3([H])[H])([H])[H])([H])[H])[H])[H])[H])[H]': ['c[c@@]1(c(=o)n2[c@h](c(=o)n3ccc[c@h]3[c@@]2(o1)o)cc4ccccc4)nc(=o)[c@@h]5c[c@@h]6c7cccc8c7c(c[nh]8)c[c@h]6[n@@h+](c5)c-0',\n",
       "              'c[c@@]1(c(=o)n2[c@h](c(=o)n3ccc[c@h]3[c@@]2(o1)o)cc4ccccc4)nc(=o)[c@@h]5c[c@@h]6c7cccc8c7c(c[nh]8)c[c@h]6[n@@h+](c5)c-1',\n",
       "              'c[c@@]1(c(=o)n2[c@h](c(=o)n3ccc[c@h]3[c@@]2(o1)o)cc4ccccc4)nc(=o)[c@@h]5c[c@@h]6c7cccc8c7c(c[nh]8)c[c@h]6[n@@h+](c5)c-2',\n",
       "              'c[c@@]1(c(=o)n2[c@h](c(=o)n3ccc[c@h]3[c@@]2(o1)o)cc4ccccc4)nc(=o)[c@@h]5c[c@@h]6c7cccc8c7c(c[nh]8)c[c@h]6[n@@h+](c5)c-3',\n",
       "              'c[c@@]1(c(=o)n2[c@h](c(=o)n3ccc[c@h]3[c@@]2(o1)o)cc4ccccc4)nc(=o)[c@@h]5c[c@@h]6c7cccc8c7c(c[nh]8)c[c@h]6[n@@h+](c5)c-4',\n",
       "              'c[c@@]1(c(=o)n2[c@h](c(=o)n3ccc[c@h]3[c@@]2(o1)o)cc4ccccc4)nc(=o)[c@@h]5c[c@@h]6c7cccc8c7c(c[nh]8)c[c@h]6[n@@h+](c5)c-5',\n",
       "              'c[c@@]1(c(=o)n2[c@h](c(=o)n3ccc[c@h]3[c@@]2(o1)o)cc4ccccc4)nc(=o)[c@@h]5c[c@@h]6c7cccc8c7c(c[nh]8)c[c@h]6[n@@h+](c5)c-6',\n",
       "              'c[c@@]1(c(=o)n2[c@h](c(=o)n3ccc[c@h]3[c@@]2(o1)o)cc4ccccc4)nc(=o)[c@@h]5c[c@@h]6c7cccc8c7c(c[nh]8)c[c@h]6[n@@h+](c5)c-8',\n",
       "              'c[c@@]1(c(=o)n2[c@h](c(=o)n3ccc[c@h]3[c@@]2(o1)o)cc4ccccc4)nc(=o)[c@@h]5c[c@@h]6c7cccc8c7c(c[nh]8)c[c@h]6[n@@h+](c5)c-9',\n",
       "              'c[c@@]1(c(=o)n2[c@h](c(=o)n3ccc[c@h]3[c@@]2(o1)o)cc4ccccc4)nc(=o)[c@@h]5c[c@@h]6c7cccc8c7c(c[nh]8)c[c@h]6[n@@h+](c5)c-10',\n",
       "              'c[c@@]1(c(=o)n2[c@h](c(=o)n3ccc[c@h]3[c@@]2(o1)o)cc4ccccc4)nc(=o)[c@@h]5c[c@@h]6c7cccc8c7c(c[nh]8)c[c@h]6[n@@h+](c5)c-11',\n",
       "              'c[c@@]1(c(=o)n2[c@h](c(=o)n3ccc[c@h]3[c@@]2(o1)o)cc4ccccc4)nc(=o)[c@@h]5c[c@@h]6c7cccc8c7c(c[nh]8)c[c@h]6[n@@h+](c5)c-12',\n",
       "              'c[c@@]1(c(=o)n2[c@h](c(=o)n3ccc[c@h]3[c@@]2(o1)o)cc4ccccc4)nc(=o)[c@@h]5c[c@@h]6c7cccc8c7c(c[nh]8)c[c@h]6[n@@h+](c5)c-14',\n",
       "              'c[c@@]1(c(=o)n2[c@h](c(=o)n3ccc[c@h]3[c@@]2(o1)o)cc4ccccc4)nc(=o)[c@@h]5c[c@@h]6c7cccc8c7c(c[nh]8)c[c@h]6[n@@h+](c5)c-18'],\n",
       "             '[H]c1c(c(c(c(c1[H])[H])C([H])([H])[C@]2(C(=O)N3[C@]([C@]4(N2C(=O)[C@](O4)(C([H])([H])[H])N([H])C(=O)[C@@]5(C([C@@]6(c7c(c(c(c8c7C(=C(N8[H])[H])C([C@]6([N@@+](C5([H])[H])([H])C([H])([H])[H])[H])([H])[H])[H])[H])[H])[H])([H])[H])[H])O[H])(C(C(C3([H])[H])([H])[H])([H])[H])[H])[H])[H])[H]': ['c[c@@]1(c(=o)n2[c@h](c(=o)n3ccc[c@h]3[c@@]2(o1)o)cc4ccccc4)nc(=o)[c@@h]5c[c@@h]6c7cccc8c7c(c[nh]8)c[c@h]6[n@h+](c5)c-0',\n",
       "              'c[c@@]1(c(=o)n2[c@h](c(=o)n3ccc[c@h]3[c@@]2(o1)o)cc4ccccc4)nc(=o)[c@@h]5c[c@@h]6c7cccc8c7c(c[nh]8)c[c@h]6[n@h+](c5)c-1',\n",
       "              'c[c@@]1(c(=o)n2[c@h](c(=o)n3ccc[c@h]3[c@@]2(o1)o)cc4ccccc4)nc(=o)[c@@h]5c[c@@h]6c7cccc8c7c(c[nh]8)c[c@h]6[n@h+](c5)c-2',\n",
       "              'c[c@@]1(c(=o)n2[c@h](c(=o)n3ccc[c@h]3[c@@]2(o1)o)cc4ccccc4)nc(=o)[c@@h]5c[c@@h]6c7cccc8c7c(c[nh]8)c[c@h]6[n@h+](c5)c-3',\n",
       "              'c[c@@]1(c(=o)n2[c@h](c(=o)n3ccc[c@h]3[c@@]2(o1)o)cc4ccccc4)nc(=o)[c@@h]5c[c@@h]6c7cccc8c7c(c[nh]8)c[c@h]6[n@h+](c5)c-4',\n",
       "              'c[c@@]1(c(=o)n2[c@h](c(=o)n3ccc[c@h]3[c@@]2(o1)o)cc4ccccc4)nc(=o)[c@@h]5c[c@@h]6c7cccc8c7c(c[nh]8)c[c@h]6[n@h+](c5)c-5',\n",
       "              'c[c@@]1(c(=o)n2[c@h](c(=o)n3ccc[c@h]3[c@@]2(o1)o)cc4ccccc4)nc(=o)[c@@h]5c[c@@h]6c7cccc8c7c(c[nh]8)c[c@h]6[n@h+](c5)c-6',\n",
       "              'c[c@@]1(c(=o)n2[c@h](c(=o)n3ccc[c@h]3[c@@]2(o1)o)cc4ccccc4)nc(=o)[c@@h]5c[c@@h]6c7cccc8c7c(c[nh]8)c[c@h]6[n@h+](c5)c-8',\n",
       "              'c[c@@]1(c(=o)n2[c@h](c(=o)n3ccc[c@h]3[c@@]2(o1)o)cc4ccccc4)nc(=o)[c@@h]5c[c@@h]6c7cccc8c7c(c[nh]8)c[c@h]6[n@h+](c5)c-9',\n",
       "              'c[c@@]1(c(=o)n2[c@h](c(=o)n3ccc[c@h]3[c@@]2(o1)o)cc4ccccc4)nc(=o)[c@@h]5c[c@@h]6c7cccc8c7c(c[nh]8)c[c@h]6[n@h+](c5)c-10',\n",
       "              'c[c@@]1(c(=o)n2[c@h](c(=o)n3ccc[c@h]3[c@@]2(o1)o)cc4ccccc4)nc(=o)[c@@h]5c[c@@h]6c7cccc8c7c(c[nh]8)c[c@h]6[n@h+](c5)c-14',\n",
       "              'c[c@@]1(c(=o)n2[c@h](c(=o)n3ccc[c@h]3[c@@]2(o1)o)cc4ccccc4)nc(=o)[c@@h]5c[c@@h]6c7cccc8c7c(c[nh]8)c[c@h]6[n@h+](c5)c-16',\n",
       "              'c[c@@]1(c(=o)n2[c@h](c(=o)n3ccc[c@h]3[c@@]2(o1)o)cc4ccccc4)nc(=o)[c@@h]5c[c@@h]6c7cccc8c7c(c[nh]8)c[c@h]6[n@h+](c5)c-17'],\n",
       "             '[H]c1c(c(c(c(c1[H])[H])C([H])([H])[C@]2(C(=O)N3[C@]([C@]4(N2C(=O)[C@](O4)(C([H])([H])[H])N([H])C(=O)[C@@]5(C([C@@]6(c7c(c(c(c8c7C(=C(N8[H])[H])C([C@]6([N@@](C5([H])[H])C([H])([H])[H])[H])([H])[H])[H])[H])[H])[H])([H])[H])[H])O[H])(C(C(C3([H])[H])([H])[H])([H])[H])[H])[H])[H])[H]': ['c[c@@]1(c(=o)n2[c@h](c(=o)n3ccc[c@h]3[c@@]2(o1)o)cc4ccccc4)nc(=o)[c@@h]5c[c@@h]6c7cccc8c7c(c[nh]8)c[c@h]6[n@@](c5)c-0',\n",
       "              'c[c@@]1(c(=o)n2[c@h](c(=o)n3ccc[c@h]3[c@@]2(o1)o)cc4ccccc4)nc(=o)[c@@h]5c[c@@h]6c7cccc8c7c(c[nh]8)c[c@h]6[n@@](c5)c-1',\n",
       "              'c[c@@]1(c(=o)n2[c@h](c(=o)n3ccc[c@h]3[c@@]2(o1)o)cc4ccccc4)nc(=o)[c@@h]5c[c@@h]6c7cccc8c7c(c[nh]8)c[c@h]6[n@@](c5)c-2',\n",
       "              'c[c@@]1(c(=o)n2[c@h](c(=o)n3ccc[c@h]3[c@@]2(o1)o)cc4ccccc4)nc(=o)[c@@h]5c[c@@h]6c7cccc8c7c(c[nh]8)c[c@h]6[n@@](c5)c-3',\n",
       "              'c[c@@]1(c(=o)n2[c@h](c(=o)n3ccc[c@h]3[c@@]2(o1)o)cc4ccccc4)nc(=o)[c@@h]5c[c@@h]6c7cccc8c7c(c[nh]8)c[c@h]6[n@@](c5)c-4',\n",
       "              'c[c@@]1(c(=o)n2[c@h](c(=o)n3ccc[c@h]3[c@@]2(o1)o)cc4ccccc4)nc(=o)[c@@h]5c[c@@h]6c7cccc8c7c(c[nh]8)c[c@h]6[n@@](c5)c-6',\n",
       "              'c[c@@]1(c(=o)n2[c@h](c(=o)n3ccc[c@h]3[c@@]2(o1)o)cc4ccccc4)nc(=o)[c@@h]5c[c@@h]6c7cccc8c7c(c[nh]8)c[c@h]6[n@@](c5)c-7',\n",
       "              'c[c@@]1(c(=o)n2[c@h](c(=o)n3ccc[c@h]3[c@@]2(o1)o)cc4ccccc4)nc(=o)[c@@h]5c[c@@h]6c7cccc8c7c(c[nh]8)c[c@h]6[n@@](c5)c-8',\n",
       "              'c[c@@]1(c(=o)n2[c@h](c(=o)n3ccc[c@h]3[c@@]2(o1)o)cc4ccccc4)nc(=o)[c@@h]5c[c@@h]6c7cccc8c7c(c[nh]8)c[c@h]6[n@@](c5)c-9',\n",
       "              'c[c@@]1(c(=o)n2[c@h](c(=o)n3ccc[c@h]3[c@@]2(o1)o)cc4ccccc4)nc(=o)[c@@h]5c[c@@h]6c7cccc8c7c(c[nh]8)c[c@h]6[n@@](c5)c-12',\n",
       "              'c[c@@]1(c(=o)n2[c@h](c(=o)n3ccc[c@h]3[c@@]2(o1)o)cc4ccccc4)nc(=o)[c@@h]5c[c@@h]6c7cccc8c7c(c[nh]8)c[c@h]6[n@@](c5)c-13',\n",
       "              'c[c@@]1(c(=o)n2[c@h](c(=o)n3ccc[c@h]3[c@@]2(o1)o)cc4ccccc4)nc(=o)[c@@h]5c[c@@h]6c7cccc8c7c(c[nh]8)c[c@h]6[n@@](c5)c-16',\n",
       "              'c[c@@]1(c(=o)n2[c@h](c(=o)n3ccc[c@h]3[c@@]2(o1)o)cc4ccccc4)nc(=o)[c@@h]5c[c@@h]6c7cccc8c7c(c[nh]8)c[c@h]6[n@@](c5)c-17',\n",
       "              'c[c@@]1(c(=o)n2[c@h](c(=o)n3ccc[c@h]3[c@@]2(o1)o)cc4ccccc4)nc(=o)[c@@h]5c[c@@h]6c7cccc8c7c(c[nh]8)c[c@h]6[n@@](c5)c-18',\n",
       "              'c[c@@]1(c(=o)n2[c@h](c(=o)n3ccc[c@h]3[c@@]2(o1)o)cc4ccccc4)nc(=o)[c@@h]5c[c@@h]6c7cccc8c7c(c[nh]8)c[c@h]6[n@@](c5)c-19'],\n",
       "             '[H]C1(N2C(N3C(N1C(N(C2([H])[H])C3([H])[H])([H])[H])([H])[H])([H])[H])[H]': ['c1n2cn3cn1cn(c2)c3-0'],\n",
       "             '[H]c1c(c(c(c(c1[H])[H])[C@@]([H])(C(=O)OC2(C([C@]3(C(C([C@@](C2([H])[H])([N+]3([H])C([H])([H])[H])[H])([H])[H])([H])[H])[H])([H])[H])[H])C([H])([H])O[H])[H])[H]': ['c[nh+]1[c@@h]2cc[c@h]1cc(c2)oc(=o)[c@@h](co)c3ccccc3-0',\n",
       "              'c[nh+]1[c@@h]2cc[c@h]1cc(c2)oc(=o)[c@@h](co)c3ccccc3-1',\n",
       "              'c[nh+]1[c@@h]2cc[c@h]1cc(c2)oc(=o)[c@@h](co)c3ccccc3-2',\n",
       "              'c[nh+]1[c@@h]2cc[c@h]1cc(c2)oc(=o)[c@@h](co)c3ccccc3-3',\n",
       "              'c[nh+]1[c@@h]2cc[c@h]1cc(c2)oc(=o)[c@@h](co)c3ccccc3-4',\n",
       "              'c[nh+]1[c@@h]2cc[c@h]1cc(c2)oc(=o)[c@@h](co)c3ccccc3-5',\n",
       "              'c[nh+]1[c@@h]2cc[c@h]1cc(c2)oc(=o)[c@@h](co)c3ccccc3-6',\n",
       "              'c[nh+]1[c@@h]2cc[c@h]1cc(c2)oc(=o)[c@@h](co)c3ccccc3-7',\n",
       "              'c[nh+]1[c@@h]2cc[c@h]1cc(c2)oc(=o)[c@@h](co)c3ccccc3-8',\n",
       "              'c[nh+]1[c@@h]2cc[c@h]1cc(c2)oc(=o)[c@@h](co)c3ccccc3-9',\n",
       "              'c[nh+]1[c@@h]2cc[c@h]1cc(c2)oc(=o)[c@@h](co)c3ccccc3-10',\n",
       "              'c[nh+]1[c@@h]2cc[c@h]1cc(c2)oc(=o)[c@@h](co)c3ccccc3-11',\n",
       "              'c[nh+]1[c@@h]2cc[c@h]1cc(c2)oc(=o)[c@@h](co)c3ccccc3-12',\n",
       "              'c[nh+]1[c@@h]2cc[c@h]1cc(c2)oc(=o)[c@@h](co)c3ccccc3-13',\n",
       "              'c[nh+]1[c@@h]2cc[c@h]1cc(c2)oc(=o)[c@@h](co)c3ccccc3-14',\n",
       "              'c[nh+]1[c@@h]2cc[c@h]1cc(c2)oc(=o)[c@@h](co)c3ccccc3-15',\n",
       "              'c[nh+]1[c@@h]2cc[c@h]1cc(c2)oc(=o)[c@@h](co)c3ccccc3-16',\n",
       "              'c[nh+]1[c@@h]2cc[c@h]1cc(c2)oc(=o)[c@@h](co)c3ccccc3-17',\n",
       "              'c[nh+]1[c@@h]2cc[c@h]1cc(c2)oc(=o)[c@@h](co)c3ccccc3-18',\n",
       "              'c[nh+]1[c@@h]2cc[c@h]1cc(c2)oc(=o)[c@@h](co)c3ccccc3-19',\n",
       "              'c[nh+]1[c@@h]2cc[c@h]1cc(c2)oc(=o)[c@@h](co)c3ccccc3-20',\n",
       "              'c[nh+]1[c@@h]2cc[c@h]1cc(c2)oc(=o)[c@@h](co)c3ccccc3-21',\n",
       "              'c[nh+]1[c@@h]2cc[c@h]1cc(c2)oc(=o)[c@@h](co)c3ccccc3-22',\n",
       "              'c[nh+]1[c@@h]2cc[c@h]1cc(c2)oc(=o)[c@@h](co)c3ccccc3-23',\n",
       "              'c[nh+]1[c@@h]2cc[c@h]1cc(c2)oc(=o)[c@@h](co)c3ccccc3-24',\n",
       "              'c[nh+]1[c@@h]2cc[c@h]1cc(c2)oc(=o)[c@@h](co)c3ccccc3-25',\n",
       "              'c[nh+]1[c@@h]2cc[c@h]1cc(c2)oc(=o)[c@@h](co)c3ccccc3-26',\n",
       "              'c[nh+]1[c@@h]2cc[c@h]1cc(c2)oc(=o)[c@@h](co)c3ccccc3-27',\n",
       "              'c[nh+]1[c@@h]2cc[c@h]1cc(c2)oc(=o)[c@@h](co)c3ccccc3-28',\n",
       "              'c[nh+]1[c@@h]2cc[c@h]1cc(c2)oc(=o)[c@@h](co)c3ccccc3-29',\n",
       "              'c[nh+]1[c@@h]2cc[c@h]1cc(c2)oc(=o)[c@@h](co)c3ccccc3-30',\n",
       "              'c[nh+]1[c@@h]2cc[c@h]1cc(c2)oc(=o)[c@@h](co)c3ccccc3-31',\n",
       "              'c[nh+]1[c@@h]2cc[c@h]1cc(c2)oc(=o)[c@@h](co)c3ccccc3-32',\n",
       "              'c[nh+]1[c@@h]2cc[c@h]1cc(c2)oc(=o)[c@@h](co)c3ccccc3-33',\n",
       "              'c[nh+]1[c@@h]2cc[c@h]1cc(c2)oc(=o)[c@@h](co)c3ccccc3-34',\n",
       "              'c[nh+]1[c@@h]2cc[c@h]1cc(c2)oc(=o)[c@@h](co)c3ccccc3-35',\n",
       "              'c[nh+]1[c@@h]2cc[c@h]1cc(c2)oc(=o)[c@@h](co)c3ccccc3-36',\n",
       "              'c[nh+]1[c@@h]2cc[c@h]1cc(c2)oc(=o)[c@@h](co)c3ccccc3-37',\n",
       "              'c[nh+]1[c@@h]2cc[c@h]1cc(c2)oc(=o)[c@@h](co)c3ccccc3-38',\n",
       "              'c[nh+]1[c@@h]2cc[c@h]1cc(c2)oc(=o)[c@@h](co)c3ccccc3-39'],\n",
       "             '[H]c1c(c(c(c(c1[H])[H])[C@]([H])(C(=O)OC2(C([C@]3(C(C([C@@](C2([H])[H])([N+]3([H])C([H])([H])[H])[H])([H])[H])([H])[H])[H])([H])[H])[H])C([H])([H])O[H])[H])[H]': ['c[nh+]1[c@@h]2cc[c@h]1cc(c2)oc(=o)[c@h](co)c3ccccc3-0',\n",
       "              'c[nh+]1[c@@h]2cc[c@h]1cc(c2)oc(=o)[c@h](co)c3ccccc3-1',\n",
       "              'c[nh+]1[c@@h]2cc[c@h]1cc(c2)oc(=o)[c@h](co)c3ccccc3-2',\n",
       "              'c[nh+]1[c@@h]2cc[c@h]1cc(c2)oc(=o)[c@h](co)c3ccccc3-3',\n",
       "              'c[nh+]1[c@@h]2cc[c@h]1cc(c2)oc(=o)[c@h](co)c3ccccc3-4',\n",
       "              'c[nh+]1[c@@h]2cc[c@h]1cc(c2)oc(=o)[c@h](co)c3ccccc3-5',\n",
       "              'c[nh+]1[c@@h]2cc[c@h]1cc(c2)oc(=o)[c@h](co)c3ccccc3-6',\n",
       "              'c[nh+]1[c@@h]2cc[c@h]1cc(c2)oc(=o)[c@h](co)c3ccccc3-7',\n",
       "              'c[nh+]1[c@@h]2cc[c@h]1cc(c2)oc(=o)[c@h](co)c3ccccc3-8',\n",
       "              'c[nh+]1[c@@h]2cc[c@h]1cc(c2)oc(=o)[c@h](co)c3ccccc3-9',\n",
       "              'c[nh+]1[c@@h]2cc[c@h]1cc(c2)oc(=o)[c@h](co)c3ccccc3-10',\n",
       "              'c[nh+]1[c@@h]2cc[c@h]1cc(c2)oc(=o)[c@h](co)c3ccccc3-11',\n",
       "              'c[nh+]1[c@@h]2cc[c@h]1cc(c2)oc(=o)[c@h](co)c3ccccc3-12',\n",
       "              'c[nh+]1[c@@h]2cc[c@h]1cc(c2)oc(=o)[c@h](co)c3ccccc3-13',\n",
       "              'c[nh+]1[c@@h]2cc[c@h]1cc(c2)oc(=o)[c@h](co)c3ccccc3-14',\n",
       "              'c[nh+]1[c@@h]2cc[c@h]1cc(c2)oc(=o)[c@h](co)c3ccccc3-15',\n",
       "              'c[nh+]1[c@@h]2cc[c@h]1cc(c2)oc(=o)[c@h](co)c3ccccc3-16',\n",
       "              'c[nh+]1[c@@h]2cc[c@h]1cc(c2)oc(=o)[c@h](co)c3ccccc3-17',\n",
       "              'c[nh+]1[c@@h]2cc[c@h]1cc(c2)oc(=o)[c@h](co)c3ccccc3-18',\n",
       "              'c[nh+]1[c@@h]2cc[c@h]1cc(c2)oc(=o)[c@h](co)c3ccccc3-19',\n",
       "              'c[nh+]1[c@@h]2cc[c@h]1cc(c2)oc(=o)[c@h](co)c3ccccc3-20',\n",
       "              'c[nh+]1[c@@h]2cc[c@h]1cc(c2)oc(=o)[c@h](co)c3ccccc3-21',\n",
       "              'c[nh+]1[c@@h]2cc[c@h]1cc(c2)oc(=o)[c@h](co)c3ccccc3-22',\n",
       "              'c[nh+]1[c@@h]2cc[c@h]1cc(c2)oc(=o)[c@h](co)c3ccccc3-23',\n",
       "              'c[nh+]1[c@@h]2cc[c@h]1cc(c2)oc(=o)[c@h](co)c3ccccc3-24',\n",
       "              'c[nh+]1[c@@h]2cc[c@h]1cc(c2)oc(=o)[c@h](co)c3ccccc3-25',\n",
       "              'c[nh+]1[c@@h]2cc[c@h]1cc(c2)oc(=o)[c@h](co)c3ccccc3-26',\n",
       "              'c[nh+]1[c@@h]2cc[c@h]1cc(c2)oc(=o)[c@h](co)c3ccccc3-27',\n",
       "              'c[nh+]1[c@@h]2cc[c@h]1cc(c2)oc(=o)[c@h](co)c3ccccc3-28',\n",
       "              'c[nh+]1[c@@h]2cc[c@h]1cc(c2)oc(=o)[c@h](co)c3ccccc3-29',\n",
       "              'c[nh+]1[c@@h]2cc[c@h]1cc(c2)oc(=o)[c@h](co)c3ccccc3-30',\n",
       "              'c[nh+]1[c@@h]2cc[c@h]1cc(c2)oc(=o)[c@h](co)c3ccccc3-31',\n",
       "              'c[nh+]1[c@@h]2cc[c@h]1cc(c2)oc(=o)[c@h](co)c3ccccc3-32',\n",
       "              'c[nh+]1[c@@h]2cc[c@h]1cc(c2)oc(=o)[c@h](co)c3ccccc3-33',\n",
       "              'c[nh+]1[c@@h]2cc[c@h]1cc(c2)oc(=o)[c@h](co)c3ccccc3-34',\n",
       "              'c[nh+]1[c@@h]2cc[c@h]1cc(c2)oc(=o)[c@h](co)c3ccccc3-35',\n",
       "              'c[nh+]1[c@@h]2cc[c@h]1cc(c2)oc(=o)[c@h](co)c3ccccc3-36',\n",
       "              'c[nh+]1[c@@h]2cc[c@h]1cc(c2)oc(=o)[c@h](co)c3ccccc3-37',\n",
       "              'c[nh+]1[c@@h]2cc[c@h]1cc(c2)oc(=o)[c@h](co)c3ccccc3-38',\n",
       "              'c[nh+]1[c@@h]2cc[c@h]1cc(c2)oc(=o)[c@h](co)c3ccccc3-39'],\n",
       "             '[H]c1c(c(c(c(c1[C@]([H])(C(=O)N([H])[C@@]2(C(=O)N3[C@@]2(SC([C@]3([H])C(=O)[O-])(C([H])([H])[H])C([H])([H])[H])[H])[H])N([H])[H])[H])[H])O[H])[H]': ['cc1([c@@h](n2[c@h](s1)[c@@h](c2=o)nc(=o)[c@@h](c3ccc(cc3)o)n)c(=o)[o-])c-0',\n",
       "              'cc1([c@@h](n2[c@h](s1)[c@@h](c2=o)nc(=o)[c@@h](c3ccc(cc3)o)n)c(=o)[o-])c-1',\n",
       "              'cc1([c@@h](n2[c@h](s1)[c@@h](c2=o)nc(=o)[c@@h](c3ccc(cc3)o)n)c(=o)[o-])c-2',\n",
       "              'cc1([c@@h](n2[c@h](s1)[c@@h](c2=o)nc(=o)[c@@h](c3ccc(cc3)o)n)c(=o)[o-])c-3',\n",
       "              'cc1([c@@h](n2[c@h](s1)[c@@h](c2=o)nc(=o)[c@@h](c3ccc(cc3)o)n)c(=o)[o-])c-4',\n",
       "              'cc1([c@@h](n2[c@h](s1)[c@@h](c2=o)nc(=o)[c@@h](c3ccc(cc3)o)n)c(=o)[o-])c-5',\n",
       "              'cc1([c@@h](n2[c@h](s1)[c@@h](c2=o)nc(=o)[c@@h](c3ccc(cc3)o)n)c(=o)[o-])c-6',\n",
       "              'cc1([c@@h](n2[c@h](s1)[c@@h](c2=o)nc(=o)[c@@h](c3ccc(cc3)o)n)c(=o)[o-])c-7',\n",
       "              'cc1([c@@h](n2[c@h](s1)[c@@h](c2=o)nc(=o)[c@@h](c3ccc(cc3)o)n)c(=o)[o-])c-8',\n",
       "              'cc1([c@@h](n2[c@h](s1)[c@@h](c2=o)nc(=o)[c@@h](c3ccc(cc3)o)n)c(=o)[o-])c-9',\n",
       "              'cc1([c@@h](n2[c@h](s1)[c@@h](c2=o)nc(=o)[c@@h](c3ccc(cc3)o)n)c(=o)[o-])c-10',\n",
       "              'cc1([c@@h](n2[c@h](s1)[c@@h](c2=o)nc(=o)[c@@h](c3ccc(cc3)o)n)c(=o)[o-])c-11',\n",
       "              'cc1([c@@h](n2[c@h](s1)[c@@h](c2=o)nc(=o)[c@@h](c3ccc(cc3)o)n)c(=o)[o-])c-12',\n",
       "              'cc1([c@@h](n2[c@h](s1)[c@@h](c2=o)nc(=o)[c@@h](c3ccc(cc3)o)n)c(=o)[o-])c-13',\n",
       "              'cc1([c@@h](n2[c@h](s1)[c@@h](c2=o)nc(=o)[c@@h](c3ccc(cc3)o)n)c(=o)[o-])c-14',\n",
       "              'cc1([c@@h](n2[c@h](s1)[c@@h](c2=o)nc(=o)[c@@h](c3ccc(cc3)o)n)c(=o)[o-])c-15',\n",
       "              'cc1([c@@h](n2[c@h](s1)[c@@h](c2=o)nc(=o)[c@@h](c3ccc(cc3)o)n)c(=o)[o-])c-16',\n",
       "              'cc1([c@@h](n2[c@h](s1)[c@@h](c2=o)nc(=o)[c@@h](c3ccc(cc3)o)n)c(=o)[o-])c-17'],\n",
       "             '[H]c1c(c(c(c(c1[C@]([H])(C(=O)N([H])[C@@]2(C(=O)N3[C@@]2(SC([C@]3([H])C(=O)[O-])(C([H])([H])[H])C([H])([H])[H])[H])[H])[N+]([H])([H])[H])[H])[H])O[H])[H]': ['cc1([c@@h](n2[c@h](s1)[c@@h](c2=o)nc(=o)[c@@h](c3ccc(cc3)o)[nh3+])c(=o)[o-])c-0',\n",
       "              'cc1([c@@h](n2[c@h](s1)[c@@h](c2=o)nc(=o)[c@@h](c3ccc(cc3)o)[nh3+])c(=o)[o-])c-1',\n",
       "              'cc1([c@@h](n2[c@h](s1)[c@@h](c2=o)nc(=o)[c@@h](c3ccc(cc3)o)[nh3+])c(=o)[o-])c-2',\n",
       "              'cc1([c@@h](n2[c@h](s1)[c@@h](c2=o)nc(=o)[c@@h](c3ccc(cc3)o)[nh3+])c(=o)[o-])c-3',\n",
       "              'cc1([c@@h](n2[c@h](s1)[c@@h](c2=o)nc(=o)[c@@h](c3ccc(cc3)o)[nh3+])c(=o)[o-])c-4',\n",
       "              'cc1([c@@h](n2[c@h](s1)[c@@h](c2=o)nc(=o)[c@@h](c3ccc(cc3)o)[nh3+])c(=o)[o-])c-5',\n",
       "              'cc1([c@@h](n2[c@h](s1)[c@@h](c2=o)nc(=o)[c@@h](c3ccc(cc3)o)[nh3+])c(=o)[o-])c-6',\n",
       "              'cc1([c@@h](n2[c@h](s1)[c@@h](c2=o)nc(=o)[c@@h](c3ccc(cc3)o)[nh3+])c(=o)[o-])c-7',\n",
       "              'cc1([c@@h](n2[c@h](s1)[c@@h](c2=o)nc(=o)[c@@h](c3ccc(cc3)o)[nh3+])c(=o)[o-])c-8',\n",
       "              'cc1([c@@h](n2[c@h](s1)[c@@h](c2=o)nc(=o)[c@@h](c3ccc(cc3)o)[nh3+])c(=o)[o-])c-9',\n",
       "              'cc1([c@@h](n2[c@h](s1)[c@@h](c2=o)nc(=o)[c@@h](c3ccc(cc3)o)[nh3+])c(=o)[o-])c-10',\n",
       "              'cc1([c@@h](n2[c@h](s1)[c@@h](c2=o)nc(=o)[c@@h](c3ccc(cc3)o)[nh3+])c(=o)[o-])c-11',\n",
       "              'cc1([c@@h](n2[c@h](s1)[c@@h](c2=o)nc(=o)[c@@h](c3ccc(cc3)o)[nh3+])c(=o)[o-])c-12',\n",
       "              'cc1([c@@h](n2[c@h](s1)[c@@h](c2=o)nc(=o)[c@@h](c3ccc(cc3)o)[nh3+])c(=o)[o-])c-13',\n",
       "              'cc1([c@@h](n2[c@h](s1)[c@@h](c2=o)nc(=o)[c@@h](c3ccc(cc3)o)[nh3+])c(=o)[o-])c-14',\n",
       "              'cc1([c@@h](n2[c@h](s1)[c@@h](c2=o)nc(=o)[c@@h](c3ccc(cc3)o)[nh3+])c(=o)[o-])c-15',\n",
       "              'cc1([c@@h](n2[c@h](s1)[c@@h](c2=o)nc(=o)[c@@h](c3ccc(cc3)o)[nh3+])c(=o)[o-])c-16',\n",
       "              'cc1([c@@h](n2[c@h](s1)[c@@h](c2=o)nc(=o)[c@@h](c3ccc(cc3)o)[nh3+])c(=o)[o-])c-17',\n",
       "              'cc1([c@@h](n2[c@h](s1)[c@@h](c2=o)nc(=o)[c@@h](c3ccc(cc3)o)[nh3+])c(=o)[o-])c-18'],\n",
       "             '[H]c1c(c(c(c(c1[H])[H])O[H])[H])[H]': ['c1ccc(cc1)o-0'],\n",
       "             '[H]C1=C2[C@@]([C@@]3([C@]([C@]4([C@@]([C@@](C(C4([H])[H])([H])[H])([H])O[H])(C(C3([H])[H])([H])[H])C([H])([H])[H])[H])(C(C2([H])[H])([H])[H])[H])[H])(C(C(C1=O)([H])[H])([H])[H])C([H])([H])[H]': ['c[c@]12cc[c@h]3[c@h]([c@@h]1cc[c@@h]2o)ccc4=cc(=o)cc[c@]34c-0'],\n",
       "             '[H]C([H])([H])[N+](C([H])([H])[H])(C([H])([H])[H])C([H])([H])C([H])([H])O[H]': ['c[n+](c)(c)cco-0'],\n",
       "             '[H][C@@](C(=O)[O-])([C@@]([H])(C([H])([H])[H])C([H])([H])C([H])([H])[H])[N+]([H])([H])[H]': ['cc[c@h](c)[c@@h](c(=o)[o-])[nh3+]-0',\n",
       "              'cc[c@h](c)[c@@h](c(=o)[o-])[nh3+]-1',\n",
       "              'cc[c@h](c)[c@@h](c(=o)[o-])[nh3+]-2',\n",
       "              'cc[c@h](c)[c@@h](c(=o)[o-])[nh3+]-3'],\n",
       "             '[H][C@@](C(=O)[O-])(C([H])([H])C([H])(C([H])([H])[H])C([H])([H])[H])[N+]([H])([H])[H]': ['cc(c)c[c@@h](c(=o)[o-])[nh3+]-0',\n",
       "              'cc(c)c[c@@h](c(=o)[o-])[nh3+]-1',\n",
       "              'cc(c)c[c@@h](c(=o)[o-])[nh3+]-2'],\n",
       "             '[H][C@]12[C@](C(S[C@@]1([H])C([H])([H])C([H])([H])C([H])([H])C([H])([H])C(=O)[O-])([H])[H])(N(C(=O)N2[H])[H])[H]': ['c1[c@h]2[c@@h]([c@@h](s1)ccccc(=o)[o-])nc(=o)n2-0',\n",
       "              'c1[c@h]2[c@@h]([c@@h](s1)ccccc(=o)[o-])nc(=o)n2-1',\n",
       "              'c1[c@h]2[c@@h]([c@@h](s1)ccccc(=o)[o-])nc(=o)n2-2',\n",
       "              'c1[c@h]2[c@@h]([c@@h](s1)ccccc(=o)[o-])nc(=o)n2-3',\n",
       "              'c1[c@h]2[c@@h]([c@@h](s1)ccccc(=o)[o-])nc(=o)n2-4',\n",
       "              'c1[c@h]2[c@@h]([c@@h](s1)ccccc(=o)[o-])nc(=o)n2-5',\n",
       "              'c1[c@h]2[c@@h]([c@@h](s1)ccccc(=o)[o-])nc(=o)n2-6',\n",
       "              'c1[c@h]2[c@@h]([c@@h](s1)ccccc(=o)[o-])nc(=o)n2-7',\n",
       "              'c1[c@h]2[c@@h]([c@@h](s1)ccccc(=o)[o-])nc(=o)n2-8',\n",
       "              'c1[c@h]2[c@@h]([c@@h](s1)ccccc(=o)[o-])nc(=o)n2-9',\n",
       "              'c1[c@h]2[c@@h]([c@@h](s1)ccccc(=o)[o-])nc(=o)n2-10',\n",
       "              'c1[c@h]2[c@@h]([c@@h](s1)ccccc(=o)[o-])nc(=o)n2-11',\n",
       "              'c1[c@h]2[c@@h]([c@@h](s1)ccccc(=o)[o-])nc(=o)n2-12',\n",
       "              'c1[c@h]2[c@@h]([c@@h](s1)ccccc(=o)[o-])nc(=o)n2-13',\n",
       "              'c1[c@h]2[c@@h]([c@@h](s1)ccccc(=o)[o-])nc(=o)n2-14',\n",
       "              'c1[c@h]2[c@@h]([c@@h](s1)ccccc(=o)[o-])nc(=o)n2-15'],\n",
       "             '[H]c1c(c(c(c(c1[H])C(=O)OC([H])([H])[H])O[H])[H])[H]': ['coc(=o)c1ccccc1o-0',\n",
       "              'coc(=o)c1ccccc1o-1'],\n",
       "             '[H]c1c(c(c(nc1[H])[H])C(=O)OC([H])([H])[H])[H]': ['coc(=o)c1cccnc1-0',\n",
       "              'coc(=o)c1cccnc1-1'],\n",
       "             '[H]c1c(c(c(c(c1[H])O[H])[H])O[H])[H]': ['c1cc(cc(c1)o)o-0'],\n",
       "             '[H]c1c(c(c(c(c1C([H])([H])[C@@]([H])(C(=O)[O-])N([H])C(=O)C([H])([H])[H])[H])[H])O[H])[H]': ['cc(=o)n[c@@h](cc1ccc(cc1)o)c(=o)[o-]-0',\n",
       "              'cc(=o)n[c@@h](cc1ccc(cc1)o)c(=o)[o-]-1',\n",
       "              'cc(=o)n[c@@h](cc1ccc(cc1)o)c(=o)[o-]-2',\n",
       "              'cc(=o)n[c@@h](cc1ccc(cc1)o)c(=o)[o-]-3',\n",
       "              'cc(=o)n[c@@h](cc1ccc(cc1)o)c(=o)[o-]-4',\n",
       "              'cc(=o)n[c@@h](cc1ccc(cc1)o)c(=o)[o-]-5',\n",
       "              'cc(=o)n[c@@h](cc1ccc(cc1)o)c(=o)[o-]-6',\n",
       "              'cc(=o)n[c@@h](cc1ccc(cc1)o)c(=o)[o-]-7'],\n",
       "             '[H]c1c(c(c(c(c1C([H])([H])C([H])([H])C([H])([H])C([H])([H])C([H])([H])C([H])([H])[H])O[H])[H])O[H])[H]': ['ccccccc1ccc(cc1o)o-0',\n",
       "              'ccccccc1ccc(cc1o)o-1',\n",
       "              'ccccccc1ccc(cc1o)o-2',\n",
       "              'ccccccc1ccc(cc1o)o-3',\n",
       "              'ccccccc1ccc(cc1o)o-4',\n",
       "              'ccccccc1ccc(cc1o)o-5',\n",
       "              'ccccccc1ccc(cc1o)o-6',\n",
       "              'ccccccc1ccc(cc1o)o-7',\n",
       "              'ccccccc1ccc(cc1o)o-8',\n",
       "              'ccccccc1ccc(cc1o)o-9',\n",
       "              'ccccccc1ccc(cc1o)o-10',\n",
       "              'ccccccc1ccc(cc1o)o-11',\n",
       "              'ccccccc1ccc(cc1o)o-12',\n",
       "              'ccccccc1ccc(cc1o)o-13'],\n",
       "             '[H]N([H])C(=O)N([H])[H]': ['c(=o)(n)n-0'],\n",
       "             '[H]c1c(c(c(c(c1C2=C(C(=O)c3c(c(c(c(c3O[H])[H])O[H])[H])O2)[H])[H])O[H])OC([H])([H])[H])[H]': ['coc1ccc(cc1o)c2cc(=o)c3c(cc(cc3o2)o)o-0',\n",
       "              'coc1ccc(cc1o)c2cc(=o)c3c(cc(cc3o2)o)o-1',\n",
       "              'coc1ccc(cc1o)c2cc(=o)c3c(cc(cc3o2)o)o-2',\n",
       "              'coc1ccc(cc1o)c2cc(=o)c3c(cc(cc3o2)o)o-3',\n",
       "              'coc1ccc(cc1o)c2cc(=o)c3c(cc(cc3o2)o)o-4',\n",
       "              'coc1ccc(cc1o)c2cc(=o)c3c(cc(cc3o2)o)o-5',\n",
       "              'coc1ccc(cc1o)c2cc(=o)c3c(cc(cc3o2)o)o-6',\n",
       "              'coc1ccc(cc1o)c2cc(=o)c3c(cc(cc3o2)o)o-7'],\n",
       "             '[H]c1c(c(c(c(c1C2=C(C(=O)c3c(c(c(c(c3O2)[H])[O-])[H])[O-])[H])[H])O[H])OC([H])([H])[H])[H]': ['coc1ccc(cc1o)c2cc(=o)c3c(cc(cc3o2)[o-])[o-]-0',\n",
       "              'coc1ccc(cc1o)c2cc(=o)c3c(cc(cc3o2)[o-])[o-]-1',\n",
       "              'coc1ccc(cc1o)c2cc(=o)c3c(cc(cc3o2)[o-])[o-]-2',\n",
       "              'coc1ccc(cc1o)c2cc(=o)c3c(cc(cc3o2)[o-])[o-]-3',\n",
       "              'coc1ccc(cc1o)c2cc(=o)c3c(cc(cc3o2)[o-])[o-]-4',\n",
       "              'coc1ccc(cc1o)c2cc(=o)c3c(cc(cc3o2)[o-])[o-]-5',\n",
       "              'coc1ccc(cc1o)c2cc(=o)c3c(cc(cc3o2)[o-])[o-]-6',\n",
       "              'coc1ccc(cc1o)c2cc(=o)c3c(cc(cc3o2)[o-])[o-]-7'],\n",
       "             '[H]c1c(c(c2c(c1[H])N(c3c(c(c(c(c3S2)[H])[H])[H])[H])C([H])([H])[C@@]([H])(C([H])([H])[H])[N+]([H])(C([H])([H])[H])C([H])([H])[H])[H])[H]': ['c[c@h](cn1c2ccccc2sc3c1cccc3)[nh+](c)c-0',\n",
       "              'c[c@h](cn1c2ccccc2sc3c1cccc3)[nh+](c)c-1',\n",
       "              'c[c@h](cn1c2ccccc2sc3c1cccc3)[nh+](c)c-2'],\n",
       "             '[H]c1c(c(c(c(c1[H])[H])[C@@](c2c(c(c(c(c2Cl)[H])[H])[H])[H])(C([H])([H])C([H])([H])[N+]([H])(C([H])([H])[H])C([H])([H])[H])O[H])[H])[H]': ['c[nh+](c)cc[c@@](c1ccccc1)(c2ccccc2cl)o-0',\n",
       "              'c[nh+](c)cc[c@@](c1ccccc1)(c2ccccc2cl)o-1',\n",
       "              'c[nh+](c)cc[c@@](c1ccccc1)(c2ccccc2cl)o-2',\n",
       "              'c[nh+](c)cc[c@@](c1ccccc1)(c2ccccc2cl)o-3',\n",
       "              'c[nh+](c)cc[c@@](c1ccccc1)(c2ccccc2cl)o-4',\n",
       "              'c[nh+](c)cc[c@@](c1ccccc1)(c2ccccc2cl)o-5'],\n",
       "             '[H]c1c(c(c(c(c1[H])[H])[C@@](c2c(c(c(c(c2Cl)[H])[H])[H])[H])(C([H])([H])C([H])([H])N(C([H])([H])[H])C([H])([H])[H])O[H])[H])[H]': ['cn(c)cc[c@@](c1ccccc1)(c2ccccc2cl)o-0',\n",
       "              'cn(c)cc[c@@](c1ccccc1)(c2ccccc2cl)o-1',\n",
       "              'cn(c)cc[c@@](c1ccccc1)(c2ccccc2cl)o-2',\n",
       "              'cn(c)cc[c@@](c1ccccc1)(c2ccccc2cl)o-3',\n",
       "              'cn(c)cc[c@@](c1ccccc1)(c2ccccc2cl)o-4',\n",
       "              'cn(c)cc[c@@](c1ccccc1)(c2ccccc2cl)o-5',\n",
       "              'cn(c)cc[c@@](c1ccccc1)(c2ccccc2cl)o-6',\n",
       "              'cn(c)cc[c@@](c1ccccc1)(c2ccccc2cl)o-7'],\n",
       "             '[H]c1c(c2c(c(c1[H])C([H])([H])C([H])([H])[H])N(C3=C2C(C(O[C@]3(C([H])([H])C(=O)[O-])C([H])([H])C([H])([H])[H])([H])[H])([H])[H])[H])[H]': ['ccc1cccc2c1[nh]c3c2cco[c@@]3(cc)cc(=o)[o-]-0',\n",
       "              'ccc1cccc2c1[nh]c3c2cco[c@@]3(cc)cc(=o)[o-]-1',\n",
       "              'ccc1cccc2c1[nh]c3c2cco[c@@]3(cc)cc(=o)[o-]-2'],\n",
       "             '[H]c1c(c(c2c(c1[H])C3=C(N2[H])[C@@](N4C(=O)C(N(C(=O)[C@]4(C3([H])[H])[H])C([H])([H])[H])([H])[H])([H])c5c(c(c6c(c5[H])OC(O6)([H])[H])[H])[H])[H])[H]': ['cn1cc(=o)n2[c@@h](c1=o)cc3c4ccccc4[nh]c3[c@h]2c5ccc6c(c5)oco6-0',\n",
       "              'cn1cc(=o)n2[c@@h](c1=o)cc3c4ccccc4[nh]c3[c@h]2c5ccc6c(c5)oco6-1'],\n",
       "             '[H]c1c(c(c(c(c1[H])[H])[C@@]([H])(C(=O)OC2(C([C@]3(C(C([C@@](C2([H])[H])([N+]3(C([H])([H])[H])C([H])(C([H])([H])[H])C([H])([H])[H])[H])([H])[H])([H])[H])[H])([H])[H])[H])C([H])([H])O[H])[H])[H]': ['cc(c)[n+]1([c@@h]2cc[c@h]1cc(c2)oc(=o)[c@@h](co)c3ccccc3)c-0',\n",
       "              'cc(c)[n+]1([c@@h]2cc[c@h]1cc(c2)oc(=o)[c@@h](co)c3ccccc3)c-1',\n",
       "              'cc(c)[n+]1([c@@h]2cc[c@h]1cc(c2)oc(=o)[c@@h](co)c3ccccc3)c-2',\n",
       "              'cc(c)[n+]1([c@@h]2cc[c@h]1cc(c2)oc(=o)[c@@h](co)c3ccccc3)c-3',\n",
       "              'cc(c)[n+]1([c@@h]2cc[c@h]1cc(c2)oc(=o)[c@@h](co)c3ccccc3)c-4',\n",
       "              'cc(c)[n+]1([c@@h]2cc[c@h]1cc(c2)oc(=o)[c@@h](co)c3ccccc3)c-5',\n",
       "              'cc(c)[n+]1([c@@h]2cc[c@h]1cc(c2)oc(=o)[c@@h](co)c3ccccc3)c-6',\n",
       "              'cc(c)[n+]1([c@@h]2cc[c@h]1cc(c2)oc(=o)[c@@h](co)c3ccccc3)c-7',\n",
       "              'cc(c)[n+]1([c@@h]2cc[c@h]1cc(c2)oc(=o)[c@@h](co)c3ccccc3)c-8',\n",
       "              'cc(c)[n+]1([c@@h]2cc[c@h]1cc(c2)oc(=o)[c@@h](co)c3ccccc3)c-9',\n",
       "              'cc(c)[n+]1([c@@h]2cc[c@h]1cc(c2)oc(=o)[c@@h](co)c3ccccc3)c-10',\n",
       "              'cc(c)[n+]1([c@@h]2cc[c@h]1cc(c2)oc(=o)[c@@h](co)c3ccccc3)c-11',\n",
       "              'cc(c)[n+]1([c@@h]2cc[c@h]1cc(c2)oc(=o)[c@@h](co)c3ccccc3)c-12',\n",
       "              'cc(c)[n+]1([c@@h]2cc[c@h]1cc(c2)oc(=o)[c@@h](co)c3ccccc3)c-13',\n",
       "              'cc(c)[n+]1([c@@h]2cc[c@h]1cc(c2)oc(=o)[c@@h](co)c3ccccc3)c-14',\n",
       "              'cc(c)[n+]1([c@@h]2cc[c@h]1cc(c2)oc(=o)[c@@h](co)c3ccccc3)c-15',\n",
       "              'cc(c)[n+]1([c@@h]2cc[c@h]1cc(c2)oc(=o)[c@@h](co)c3ccccc3)c-16',\n",
       "              'cc(c)[n+]1([c@@h]2cc[c@h]1cc(c2)oc(=o)[c@@h](co)c3ccccc3)c-17',\n",
       "              'cc(c)[n+]1([c@@h]2cc[c@h]1cc(c2)oc(=o)[c@@h](co)c3ccccc3)c-18',\n",
       "              'cc(c)[n+]1([c@@h]2cc[c@h]1cc(c2)oc(=o)[c@@h](co)c3ccccc3)c-19',\n",
       "              'cc(c)[n+]1([c@@h]2cc[c@h]1cc(c2)oc(=o)[c@@h](co)c3ccccc3)c-20',\n",
       "              'cc(c)[n+]1([c@@h]2cc[c@h]1cc(c2)oc(=o)[c@@h](co)c3ccccc3)c-21',\n",
       "              'cc(c)[n+]1([c@@h]2cc[c@h]1cc(c2)oc(=o)[c@@h](co)c3ccccc3)c-22',\n",
       "              'cc(c)[n+]1([c@@h]2cc[c@h]1cc(c2)oc(=o)[c@@h](co)c3ccccc3)c-23',\n",
       "              'cc(c)[n+]1([c@@h]2cc[c@h]1cc(c2)oc(=o)[c@@h](co)c3ccccc3)c-24',\n",
       "              'cc(c)[n+]1([c@@h]2cc[c@h]1cc(c2)oc(=o)[c@@h](co)c3ccccc3)c-25',\n",
       "              'cc(c)[n+]1([c@@h]2cc[c@h]1cc(c2)oc(=o)[c@@h](co)c3ccccc3)c-26',\n",
       "              'cc(c)[n+]1([c@@h]2cc[c@h]1cc(c2)oc(=o)[c@@h](co)c3ccccc3)c-27',\n",
       "              'cc(c)[n+]1([c@@h]2cc[c@h]1cc(c2)oc(=o)[c@@h](co)c3ccccc3)c-28',\n",
       "              'cc(c)[n+]1([c@@h]2cc[c@h]1cc(c2)oc(=o)[c@@h](co)c3ccccc3)c-29',\n",
       "              'cc(c)[n+]1([c@@h]2cc[c@h]1cc(c2)oc(=o)[c@@h](co)c3ccccc3)c-30',\n",
       "              'cc(c)[n+]1([c@@h]2cc[c@h]1cc(c2)oc(=o)[c@@h](co)c3ccccc3)c-31',\n",
       "              'cc(c)[n+]1([c@@h]2cc[c@h]1cc(c2)oc(=o)[c@@h](co)c3ccccc3)c-32',\n",
       "              'cc(c)[n+]1([c@@h]2cc[c@h]1cc(c2)oc(=o)[c@@h](co)c3ccccc3)c-33',\n",
       "              'cc(c)[n+]1([c@@h]2cc[c@h]1cc(c2)oc(=o)[c@@h](co)c3ccccc3)c-34',\n",
       "              'cc(c)[n+]1([c@@h]2cc[c@h]1cc(c2)oc(=o)[c@@h](co)c3ccccc3)c-35',\n",
       "              'cc(c)[n+]1([c@@h]2cc[c@h]1cc(c2)oc(=o)[c@@h](co)c3ccccc3)c-36',\n",
       "              'cc(c)[n+]1([c@@h]2cc[c@h]1cc(c2)oc(=o)[c@@h](co)c3ccccc3)c-37',\n",
       "              'cc(c)[n+]1([c@@h]2cc[c@h]1cc(c2)oc(=o)[c@@h](co)c3ccccc3)c-38',\n",
       "              'cc(c)[n+]1([c@@h]2cc[c@h]1cc(c2)oc(=o)[c@@h](co)c3ccccc3)c-39'],\n",
       "             '[H]c1c(c(c(c(c1[H])[H])[C@]([H])(C(=O)OC2(C([C@]3(C(C([C@@](C2([H])[H])([N+]3(C([H])([H])[H])C([H])(C([H])([H])[H])C([H])([H])[H])[H])([H])[H])([H])[H])[H])([H])[H])[H])C([H])([H])O[H])[H])[H]': ['cc(c)[n+]1([c@@h]2cc[c@h]1cc(c2)oc(=o)[c@h](co)c3ccccc3)c-0',\n",
       "              'cc(c)[n+]1([c@@h]2cc[c@h]1cc(c2)oc(=o)[c@h](co)c3ccccc3)c-1',\n",
       "              'cc(c)[n+]1([c@@h]2cc[c@h]1cc(c2)oc(=o)[c@h](co)c3ccccc3)c-2',\n",
       "              'cc(c)[n+]1([c@@h]2cc[c@h]1cc(c2)oc(=o)[c@h](co)c3ccccc3)c-3',\n",
       "              'cc(c)[n+]1([c@@h]2cc[c@h]1cc(c2)oc(=o)[c@h](co)c3ccccc3)c-4',\n",
       "              'cc(c)[n+]1([c@@h]2cc[c@h]1cc(c2)oc(=o)[c@h](co)c3ccccc3)c-5',\n",
       "              'cc(c)[n+]1([c@@h]2cc[c@h]1cc(c2)oc(=o)[c@h](co)c3ccccc3)c-6',\n",
       "              'cc(c)[n+]1([c@@h]2cc[c@h]1cc(c2)oc(=o)[c@h](co)c3ccccc3)c-7',\n",
       "              'cc(c)[n+]1([c@@h]2cc[c@h]1cc(c2)oc(=o)[c@h](co)c3ccccc3)c-8',\n",
       "              'cc(c)[n+]1([c@@h]2cc[c@h]1cc(c2)oc(=o)[c@h](co)c3ccccc3)c-9',\n",
       "              'cc(c)[n+]1([c@@h]2cc[c@h]1cc(c2)oc(=o)[c@h](co)c3ccccc3)c-10',\n",
       "              'cc(c)[n+]1([c@@h]2cc[c@h]1cc(c2)oc(=o)[c@h](co)c3ccccc3)c-11',\n",
       "              'cc(c)[n+]1([c@@h]2cc[c@h]1cc(c2)oc(=o)[c@h](co)c3ccccc3)c-12',\n",
       "              'cc(c)[n+]1([c@@h]2cc[c@h]1cc(c2)oc(=o)[c@h](co)c3ccccc3)c-13',\n",
       "              'cc(c)[n+]1([c@@h]2cc[c@h]1cc(c2)oc(=o)[c@h](co)c3ccccc3)c-14',\n",
       "              'cc(c)[n+]1([c@@h]2cc[c@h]1cc(c2)oc(=o)[c@h](co)c3ccccc3)c-15',\n",
       "              'cc(c)[n+]1([c@@h]2cc[c@h]1cc(c2)oc(=o)[c@h](co)c3ccccc3)c-16',\n",
       "              'cc(c)[n+]1([c@@h]2cc[c@h]1cc(c2)oc(=o)[c@h](co)c3ccccc3)c-17',\n",
       "              'cc(c)[n+]1([c@@h]2cc[c@h]1cc(c2)oc(=o)[c@h](co)c3ccccc3)c-18',\n",
       "              'cc(c)[n+]1([c@@h]2cc[c@h]1cc(c2)oc(=o)[c@h](co)c3ccccc3)c-19',\n",
       "              'cc(c)[n+]1([c@@h]2cc[c@h]1cc(c2)oc(=o)[c@h](co)c3ccccc3)c-20',\n",
       "              'cc(c)[n+]1([c@@h]2cc[c@h]1cc(c2)oc(=o)[c@h](co)c3ccccc3)c-21',\n",
       "              'cc(c)[n+]1([c@@h]2cc[c@h]1cc(c2)oc(=o)[c@h](co)c3ccccc3)c-22',\n",
       "              'cc(c)[n+]1([c@@h]2cc[c@h]1cc(c2)oc(=o)[c@h](co)c3ccccc3)c-23',\n",
       "              'cc(c)[n+]1([c@@h]2cc[c@h]1cc(c2)oc(=o)[c@h](co)c3ccccc3)c-24',\n",
       "              'cc(c)[n+]1([c@@h]2cc[c@h]1cc(c2)oc(=o)[c@h](co)c3ccccc3)c-25',\n",
       "              'cc(c)[n+]1([c@@h]2cc[c@h]1cc(c2)oc(=o)[c@h](co)c3ccccc3)c-26',\n",
       "              'cc(c)[n+]1([c@@h]2cc[c@h]1cc(c2)oc(=o)[c@h](co)c3ccccc3)c-27',\n",
       "              'cc(c)[n+]1([c@@h]2cc[c@h]1cc(c2)oc(=o)[c@h](co)c3ccccc3)c-28',\n",
       "              'cc(c)[n+]1([c@@h]2cc[c@h]1cc(c2)oc(=o)[c@h](co)c3ccccc3)c-29',\n",
       "              'cc(c)[n+]1([c@@h]2cc[c@h]1cc(c2)oc(=o)[c@h](co)c3ccccc3)c-30',\n",
       "              'cc(c)[n+]1([c@@h]2cc[c@h]1cc(c2)oc(=o)[c@h](co)c3ccccc3)c-31',\n",
       "              'cc(c)[n+]1([c@@h]2cc[c@h]1cc(c2)oc(=o)[c@h](co)c3ccccc3)c-32',\n",
       "              'cc(c)[n+]1([c@@h]2cc[c@h]1cc(c2)oc(=o)[c@h](co)c3ccccc3)c-33',\n",
       "              'cc(c)[n+]1([c@@h]2cc[c@h]1cc(c2)oc(=o)[c@h](co)c3ccccc3)c-34',\n",
       "              'cc(c)[n+]1([c@@h]2cc[c@h]1cc(c2)oc(=o)[c@h](co)c3ccccc3)c-35',\n",
       "              'cc(c)[n+]1([c@@h]2cc[c@h]1cc(c2)oc(=o)[c@h](co)c3ccccc3)c-36',\n",
       "              'cc(c)[n+]1([c@@h]2cc[c@h]1cc(c2)oc(=o)[c@h](co)c3ccccc3)c-37',\n",
       "              'cc(c)[n+]1([c@@h]2cc[c@h]1cc(c2)oc(=o)[c@h](co)c3ccccc3)c-38',\n",
       "              'cc(c)[n+]1([c@@h]2cc[c@h]1cc(c2)oc(=o)[c@h](co)c3ccccc3)c-39'],\n",
       "             '[H]C1(C(=O)N(C(=O)C(N1[C@@]([H])(C([H])([H])[H])C([H])([H])N2C(C(=O)N(C(=O)C2([H])[H])[H])([H])[H])([H])[H])[H])[H]': ['c[c@@h](cn1cc(=o)nc(=o)c1)n2cc(=o)nc(=o)c2-0',\n",
       "              'c[c@@h](cn1cc(=o)nc(=o)c1)n2cc(=o)nc(=o)c2-1',\n",
       "              'c[c@@h](cn1cc(=o)nc(=o)c1)n2cc(=o)nc(=o)c2-2',\n",
       "              'c[c@@h](cn1cc(=o)nc(=o)c1)n2cc(=o)nc(=o)c2-3',\n",
       "              'c[c@@h](cn1cc(=o)nc(=o)c1)n2cc(=o)nc(=o)c2-4',\n",
       "              'c[c@@h](cn1cc(=o)nc(=o)c1)n2cc(=o)nc(=o)c2-5',\n",
       "              'c[c@@h](cn1cc(=o)nc(=o)c1)n2cc(=o)nc(=o)c2-6',\n",
       "              'c[c@@h](cn1cc(=o)nc(=o)c1)n2cc(=o)nc(=o)c2-7',\n",
       "              'c[c@@h](cn1cc(=o)nc(=o)c1)n2cc(=o)nc(=o)c2-8',\n",
       "              'c[c@@h](cn1cc(=o)nc(=o)c1)n2cc(=o)nc(=o)c2-9'],\n",
       "             '[H]c1c(c(c(c(c1N([H])[H])[H])[H])S(=O)(=O)[N-]C2=C(C(=NO2)C([H])([H])[H])C([H])([H])[H])[H]': ['cc1c(noc1[n-]s(=o)(=o)c2ccc(cc2)n)c-0',\n",
       "              'cc1c(noc1[n-]s(=o)(=o)c2ccc(cc2)n)c-1',\n",
       "              'cc1c(noc1[n-]s(=o)(=o)c2ccc(cc2)n)c-2',\n",
       "              'cc1c(noc1[n-]s(=o)(=o)c2ccc(cc2)n)c-3',\n",
       "              'cc1c(noc1[n-]s(=o)(=o)c2ccc(cc2)n)c-4',\n",
       "              'cc1c(noc1[n-]s(=o)(=o)c2ccc(cc2)n)c-5'],\n",
       "             '[H]c1c(c(c(c(c1N([H])[H])[H])[H])S(=O)(=O)N([H])C2=C(C(=NO2)C([H])([H])[H])C([H])([H])[H])[H]': ['cc1c(noc1ns(=o)(=o)c2ccc(cc2)n)c-0',\n",
       "              'cc1c(noc1ns(=o)(=o)c2ccc(cc2)n)c-1',\n",
       "              'cc1c(noc1ns(=o)(=o)c2ccc(cc2)n)c-2',\n",
       "              'cc1c(noc1ns(=o)(=o)c2ccc(cc2)n)c-3',\n",
       "              'cc1c(noc1ns(=o)(=o)c2ccc(cc2)n)c-4',\n",
       "              'cc1c(noc1ns(=o)(=o)c2ccc(cc2)n)c-5',\n",
       "              'cc1c(noc1ns(=o)(=o)c2ccc(cc2)n)c-6',\n",
       "              'cc1c(noc1ns(=o)(=o)c2ccc(cc2)n)c-7',\n",
       "              'cc1c(noc1ns(=o)(=o)c2ccc(cc2)n)c-8'],\n",
       "             '[H]C1(C(=[N+]([H])[H])N(C(C1([H])[H])([H])[H])C([H])([H])C2=C(C(=O)[N-]C(=O)N2[H])Cl)[H]': ['c1cc(=[nh2+])n(c1)cc2c(c(=o)[n-]c(=o)[nh]2)cl-0',\n",
       "              'c1cc(=[nh2+])n(c1)cc2c(c(=o)[n-]c(=o)[nh]2)cl-1',\n",
       "              'c1cc(=[nh2+])n(c1)cc2c(c(=o)[n-]c(=o)[nh]2)cl-2',\n",
       "              'c1cc(=[nh2+])n(c1)cc2c(c(=o)[n-]c(=o)[nh]2)cl-3',\n",
       "              'c1cc(=[nh2+])n(c1)cc2c(c(=o)[n-]c(=o)[nh]2)cl-4',\n",
       "              'c1cc(=[nh2+])n(c1)cc2c(c(=o)[n-]c(=o)[nh]2)cl-5',\n",
       "              'c1cc(=[nh2+])n(c1)cc2c(c(=o)[n-]c(=o)[nh]2)cl-6',\n",
       "              'c1cc(=[nh2+])n(c1)cc2c(c(=o)[n-]c(=o)[nh]2)cl-7'],\n",
       "             '[H]C1(C(=[N+]([H])[H])N(C(C1([H])[H])([H])[H])C([H])([H])C2=C(C(=O)N(C(=O)N2[H])[H])Cl)[H]': ['c1cc(=[nh2+])n(c1)cc2c(c(=o)[nh]c(=o)[nh]2)cl-0',\n",
       "              'c1cc(=[nh2+])n(c1)cc2c(c(=o)[nh]c(=o)[nh]2)cl-1',\n",
       "              'c1cc(=[nh2+])n(c1)cc2c(c(=o)[nh]c(=o)[nh]2)cl-2',\n",
       "              'c1cc(=[nh2+])n(c1)cc2c(c(=o)[nh]c(=o)[nh]2)cl-3',\n",
       "              'c1cc(=[nh2+])n(c1)cc2c(c(=o)[nh]c(=o)[nh]2)cl-4',\n",
       "              'c1cc(=[nh2+])n(c1)cc2c(c(=o)[nh]c(=o)[nh]2)cl-5',\n",
       "              'c1cc(=[nh2+])n(c1)cc2c(c(=o)[nh]c(=o)[nh]2)cl-6',\n",
       "              'c1cc(=[nh2+])n(c1)cc2c(c(=o)[nh]c(=o)[nh]2)cl-7'],\n",
       "             '[H]c1c(c(c(c(c1[H])[H])C([H])(c2c(c(c(c(c2[H])[H])[H])[H])[H])OC3(C([C@]4(C(C([C@@](C3([H])[H])([N+]4([H])C([H])([H])[H])[H])([H])[H])([H])[H])[H])([H])[H])[H])[H])[H]': ['c[nh+]1[c@@h]2cc[c@h]1cc(c2)oc(c3ccccc3)c4ccccc4-0',\n",
       "              'c[nh+]1[c@@h]2cc[c@h]1cc(c2)oc(c3ccccc3)c4ccccc4-1',\n",
       "              'c[nh+]1[c@@h]2cc[c@h]1cc(c2)oc(c3ccccc3)c4ccccc4-2',\n",
       "              'c[nh+]1[c@@h]2cc[c@h]1cc(c2)oc(c3ccccc3)c4ccccc4-3',\n",
       "              'c[nh+]1[c@@h]2cc[c@h]1cc(c2)oc(c3ccccc3)c4ccccc4-4',\n",
       "              'c[nh+]1[c@@h]2cc[c@h]1cc(c2)oc(c3ccccc3)c4ccccc4-5',\n",
       "              'c[nh+]1[c@@h]2cc[c@h]1cc(c2)oc(c3ccccc3)c4ccccc4-6',\n",
       "              'c[nh+]1[c@@h]2cc[c@h]1cc(c2)oc(c3ccccc3)c4ccccc4-7'],\n",
       "             '[H]c1c(c(c(c(c1[H])Cl)Cl)[C@@]2(C(=C(N(C(=C2C(=O)OC([H])([H])C([H])([H])[H])C([H])([H])[H])[H])C([H])([H])[H])C(=O)OC([H])([H])[H])[H])[H]': ['ccoc(=o)c1=c(nc(=c([c@h]1c2cccc(c2cl)cl)c(=o)oc)c)c-0',\n",
       "              'ccoc(=o)c1=c(nc(=c([c@h]1c2cccc(c2cl)cl)c(=o)oc)c)c-1',\n",
       "              'ccoc(=o)c1=c(nc(=c([c@h]1c2cccc(c2cl)cl)c(=o)oc)c)c-2',\n",
       "              'ccoc(=o)c1=c(nc(=c([c@h]1c2cccc(c2cl)cl)c(=o)oc)c)c-3',\n",
       "              'ccoc(=o)c1=c(nc(=c([c@h]1c2cccc(c2cl)cl)c(=o)oc)c)c-4',\n",
       "              'ccoc(=o)c1=c(nc(=c([c@h]1c2cccc(c2cl)cl)c(=o)oc)c)c-5',\n",
       "              'ccoc(=o)c1=c(nc(=c([c@h]1c2cccc(c2cl)cl)c(=o)oc)c)c-6',\n",
       "              'ccoc(=o)c1=c(nc(=c([c@h]1c2cccc(c2cl)cl)c(=o)oc)c)c-7'],\n",
       "             '[H]C1=NC(=C(N1[H])C(=O)N([H])[H])/N=N/N(C([H])([H])[H])C([H])([H])[H]': ['cn(c)/n=n/c1c([nh]cn1)c(=o)n-0',\n",
       "              'cn(c)/n=n/c1c([nh]cn1)c(=o)n-1',\n",
       "              'cn(c)/n=n/c1c([nh]cn1)c(=o)n-2',\n",
       "              'cn(c)/n=n/c1c([nh]cn1)c(=o)n-3',\n",
       "              'cn(c)/n=n/c1c([nh]cn1)c(=o)n-4',\n",
       "              'cn(c)/n=n/c1c([nh]cn1)c(=o)n-5',\n",
       "              'cn(c)/n=n/c1c([nh]cn1)c(=o)n-6',\n",
       "              'cn(c)/n=n/c1c([nh]cn1)c(=o)n-7',\n",
       "              'cn(c)/n=n/c1c([nh]cn1)c(=o)n-8',\n",
       "              'cn(c)/n=n/c1c([nh]cn1)c(=o)n-9'],\n",
       "             '[H]C1=C([C@]2(C(=C(C1=O)[H])[C@@](C([C@@]3([C@@]2([C@@](C([C@]4([C@]3(C(C([C@@]4(C(=O)C([H])([H])[H])O[H])([H])[H])([H])[H])[H])C([H])([H])[H])([H])[H])([H])O[H])F)[H])([H])[H])([H])C([H])([H])[H])C([H])([H])[H])[H]': ['c[c@h]1c[c@h]2[c@@h]3cc[c@@]([c@]3(c[c@@h]([c@@]2([c@@]4(c1=cc(=o)c=c4)c)f)o)c)(c(=o)c)o-0'],\n",
       "             '[H]c1c(c(c(c(c1[H])C2=NC(C3=C(N=C(N3c4c2c(c(c(c4[H])[H])Cl)[H])C([H])([H])[H])[H])([H])[H])F)[H])[H]': ['cc1ncc2n1-c3ccc(cc3c(=nc2)c4ccccc4f)cl-0',\n",
       "              'cc1ncc2n1-c3ccc(cc3c(=nc2)c4ccccc4f)cl-1'],\n",
       "             '[H]c1c(c(c(c(c1[H])C2=NC(C3=C(N([C+](N3c4c2c(c(c(c4[H])[H])Cl)[H])C([H])([H])[H])[H])[H])([H])[H])F)[H])[H]': ['c[c+]1[nh]cc2n1-c3ccc(cc3c(=nc2)c4ccccc4f)cl-0',\n",
       "              'c[c+]1[nh]cc2n1-c3ccc(cc3c(=nc2)c4ccccc4f)cl-1',\n",
       "              'c[c+]1[nh]cc2n1-c3ccc(cc3c(=nc2)c4ccccc4f)cl-2',\n",
       "              'c[c+]1[nh]cc2n1-c3ccc(cc3c(=nc2)c4ccccc4f)cl-3'],\n",
       "             '[H]c1c(c(c2=NON=c2c1[H])[C@@]3(C(=C(N(C(=C3C(=O)OC([H])(C([H])([H])[H])C([H])([H])[H])C([H])([H])[H])[H])C([H])([H])[H])C(=O)OC([H])([H])[H])[H])[H]': ['cc1=c([c@h](c(=c(n1)c)c(=o)oc(c)c)c2cccc3c2non3)c(=o)oc-0',\n",
       "              'cc1=c([c@h](c(=c(n1)c)c(=o)oc(c)c)c2cccc3c2non3)c(=o)oc-1',\n",
       "              'cc1=c([c@h](c(=c(n1)c)c(=o)oc(c)c)c2cccc3c2non3)c(=o)oc-2',\n",
       "              'cc1=c([c@h](c(=c(n1)c)c(=o)oc(c)c)c2cccc3c2non3)c(=o)oc-3',\n",
       "              'cc1=c([c@h](c(=c(n1)c)c(=o)oc(c)c)c2cccc3c2non3)c(=o)oc-4',\n",
       "              'cc1=c([c@h](c(=c(n1)c)c(=o)oc(c)c)c2cccc3c2non3)c(=o)oc-5',\n",
       "              'cc1=c([c@h](c(=c(n1)c)c(=o)oc(c)c)c2cccc3c2non3)c(=o)oc-6',\n",
       "              'cc1=c([c@h](c(=c(n1)c)c(=o)oc(c)c)c2cccc3c2non3)c(=o)oc-7',\n",
       "              'cc1=c([c@h](c(=c(n1)c)c(=o)oc(c)c)c2cccc3c2non3)c(=o)oc-8',\n",
       "              'cc1=c([c@h](c(=c(n1)c)c(=o)oc(c)c)c2cccc3c2non3)c(=o)oc-9',\n",
       "              'cc1=c([c@h](c(=c(n1)c)c(=o)oc(c)c)c2cccc3c2non3)c(=o)oc-10',\n",
       "              'cc1=c([c@h](c(=c(n1)c)c(=o)oc(c)c)c2cccc3c2non3)c(=o)oc-11',\n",
       "              'cc1=c([c@h](c(=c(n1)c)c(=o)oc(c)c)c2cccc3c2non3)c(=o)oc-12'],\n",
       "             '[H]c1c(c(c(c(c1N([H])C(=[N+]([H])[H])N([H])C(=[N+]([H])[H])N([H])C([H])(C([H])([H])[H])C([H])([H])[H])[H])[H])Cl)[H]': ['cc(c)nc(=[nh2+])nc(=[nh2+])nc1ccc(cc1)cl-0',\n",
       "              'cc(c)nc(=[nh2+])nc(=[nh2+])nc1ccc(cc1)cl-1',\n",
       "              'cc(c)nc(=[nh2+])nc(=[nh2+])nc1ccc(cc1)cl-2',\n",
       "              'cc(c)nc(=[nh2+])nc(=[nh2+])nc1ccc(cc1)cl-3',\n",
       "              'cc(c)nc(=[nh2+])nc(=[nh2+])nc1ccc(cc1)cl-4',\n",
       "              'cc(c)nc(=[nh2+])nc(=[nh2+])nc1ccc(cc1)cl-5',\n",
       "              'cc(c)nc(=[nh2+])nc(=[nh2+])nc1ccc(cc1)cl-6',\n",
       "              'cc(c)nc(=[nh2+])nc(=[nh2+])nc1ccc(cc1)cl-7',\n",
       "              'cc(c)nc(=[nh2+])nc(=[nh2+])nc1ccc(cc1)cl-8',\n",
       "              'cc(c)nc(=[nh2+])nc(=[nh2+])nc1ccc(cc1)cl-9',\n",
       "              'cc(c)nc(=[nh2+])nc(=[nh2+])nc1ccc(cc1)cl-10',\n",
       "              'cc(c)nc(=[nh2+])nc(=[nh2+])nc1ccc(cc1)cl-11',\n",
       "              'cc(c)nc(=[nh2+])nc(=[nh2+])nc1ccc(cc1)cl-12',\n",
       "              'cc(c)nc(=[nh2+])nc(=[nh2+])nc1ccc(cc1)cl-13',\n",
       "              'cc(c)nc(=[nh2+])nc(=[nh2+])nc1ccc(cc1)cl-14',\n",
       "              'cc(c)nc(=[nh2+])nc(=[nh2+])nc1ccc(cc1)cl-15',\n",
       "              'cc(c)nc(=[nh2+])nc(=[nh2+])nc1ccc(cc1)cl-16',\n",
       "              'cc(c)nc(=[nh2+])nc(=[nh2+])nc1ccc(cc1)cl-17',\n",
       "              'cc(c)nc(=[nh2+])nc(=[nh2+])nc1ccc(cc1)cl-18',\n",
       "              'cc(c)nc(=[nh2+])nc(=[nh2+])nc1ccc(cc1)cl-19'],\n",
       "             '[H]c1c(c(c(c(c1N([H])/C(=N\\\\[H])/N([H])C(=[N+]([H])[H])N([H])C([H])(C([H])([H])[H])C([H])([H])[H])[H])[H])Cl)[H]': ['[h]/n=c(\\\\nc1ccc(cc1)cl)/nc(=[nh2+])nc(c)c-0',\n",
       "              '[h]/n=c(\\\\nc1ccc(cc1)cl)/nc(=[nh2+])nc(c)c-1',\n",
       "              '[h]/n=c(\\\\nc1ccc(cc1)cl)/nc(=[nh2+])nc(c)c-2',\n",
       "              '[h]/n=c(\\\\nc1ccc(cc1)cl)/nc(=[nh2+])nc(c)c-3',\n",
       "              '[h]/n=c(\\\\nc1ccc(cc1)cl)/nc(=[nh2+])nc(c)c-4',\n",
       "              '[h]/n=c(\\\\nc1ccc(cc1)cl)/nc(=[nh2+])nc(c)c-5',\n",
       "              '[h]/n=c(\\\\nc1ccc(cc1)cl)/nc(=[nh2+])nc(c)c-6',\n",
       "              '[h]/n=c(\\\\nc1ccc(cc1)cl)/nc(=[nh2+])nc(c)c-7',\n",
       "              '[h]/n=c(\\\\nc1ccc(cc1)cl)/nc(=[nh2+])nc(c)c-8',\n",
       "              '[h]/n=c(\\\\nc1ccc(cc1)cl)/nc(=[nh2+])nc(c)c-9',\n",
       "              '[h]/n=c(\\\\nc1ccc(cc1)cl)/nc(=[nh2+])nc(c)c-10',\n",
       "              '[h]/n=c(\\\\nc1ccc(cc1)cl)/nc(=[nh2+])nc(c)c-11',\n",
       "              '[h]/n=c(\\\\nc1ccc(cc1)cl)/nc(=[nh2+])nc(c)c-12',\n",
       "              '[h]/n=c(\\\\nc1ccc(cc1)cl)/nc(=[nh2+])nc(c)c-13',\n",
       "              '[h]/n=c(\\\\nc1ccc(cc1)cl)/nc(=[nh2+])nc(c)c-14',\n",
       "              '[h]/n=c(\\\\nc1ccc(cc1)cl)/nc(=[nh2+])nc(c)c-15',\n",
       "              '[h]/n=c(\\\\nc1ccc(cc1)cl)/nc(=[nh2+])nc(c)c-16',\n",
       "              '[h]/n=c(\\\\nc1ccc(cc1)cl)/nc(=[nh2+])nc(c)c-17',\n",
       "              '[h]/n=c(\\\\nc1ccc(cc1)cl)/nc(=[nh2+])nc(c)c-18',\n",
       "              '[h]/n=c(\\\\nc1ccc(cc1)cl)/nc(=[nh2+])nc(c)c-19'],\n",
       "             '[H]c1c(c(c(c(c1[H])Cl)Cl)[C@]2(C(=C(N(C(=C2C(=O)OC([H])([H])C([H])([H])[H])C([H])([H])[H])[H])C([H])([H])[H])C(=O)OC([H])([H])[H])[H])[H]': ['ccoc(=o)c1=c(nc(=c([c@@h]1c2cccc(c2cl)cl)c(=o)oc)c)c-0',\n",
       "              'ccoc(=o)c1=c(nc(=c([c@@h]1c2cccc(c2cl)cl)c(=o)oc)c)c-1',\n",
       "              'ccoc(=o)c1=c(nc(=c([c@@h]1c2cccc(c2cl)cl)c(=o)oc)c)c-2',\n",
       "              'ccoc(=o)c1=c(nc(=c([c@@h]1c2cccc(c2cl)cl)c(=o)oc)c)c-3',\n",
       "              'ccoc(=o)c1=c(nc(=c([c@@h]1c2cccc(c2cl)cl)c(=o)oc)c)c-4',\n",
       "              'ccoc(=o)c1=c(nc(=c([c@@h]1c2cccc(c2cl)cl)c(=o)oc)c)c-5',\n",
       "              'ccoc(=o)c1=c(nc(=c([c@@h]1c2cccc(c2cl)cl)c(=o)oc)c)c-6',\n",
       "              'ccoc(=o)c1=c(nc(=c([c@@h]1c2cccc(c2cl)cl)c(=o)oc)c)c-7',\n",
       "              'ccoc(=o)c1=c(nc(=c([c@@h]1c2cccc(c2cl)cl)c(=o)oc)c)c-8',\n",
       "              'ccoc(=o)c1=c(nc(=c([c@@h]1c2cccc(c2cl)cl)c(=o)oc)c)c-9'],\n",
       "             '[H]c1c(c(c2c3c1C([C@@]4([C@]5([C@@]3([C@@](O2)(C(=O)C(C5([H])[H])([H])[H])[H])C(C([N@@+]4(C([H])([H])[H])C([H])([H])C6(C(C6([H])[H])([H])[H])[H])([H])[H])([H])[H])O[H])[H])([H])[H])O[H])[H]': ['c[n@+]1(cc[c@]23c4c5ccc(c4o[c@h]2c(=o)cc[c@]3([c@h]1c5)o)o)cc6cc6-0'],\n",
       "             '[H]c1c(c(c(c2c1[C@@]3([C@]([C@]4([C@@]([C@@](C(C4([H])[H])([H])[H])([H])O[H])(C(C3([H])[H])([H])[H])C([H])([H])[H])[H])(C(C2([H])[H])([H])[H])[H])[H])[H])O[H])[H]': ['c[c@]12cc[c@@h]3c4ccc(cc4cc[c@h]3[c@@h]1cc[c@@h]2o)o-0'],\n",
       "             '[H]N([H])C(=[N+]([H])[H])N([H])[H]': ['c(=[nh2+])(n)n-0'],\n",
       "             '[H]C1=NC2=C(N1[C@]3([C@]([C@]([C@@](O3)([H])C([H])([H])O[H])([H])O[H])([H])O[H])[H])N=C(N(C2=O)[H])[H]': ['c1[nh]c(=o)c2c(n1)n(cn2)[c@h]3[c@@h]([c@@h]([c@h](o3)co)o)o-0',\n",
       "              'c1[nh]c(=o)c2c(n1)n(cn2)[c@h]3[c@@h]([c@@h]([c@h](o3)co)o)o-1',\n",
       "              'c1[nh]c(=o)c2c(n1)n(cn2)[c@h]3[c@@h]([c@@h]([c@h](o3)co)o)o-2',\n",
       "              'c1[nh]c(=o)c2c(n1)n(cn2)[c@h]3[c@@h]([c@@h]([c@h](o3)co)o)o-3',\n",
       "              'c1[nh]c(=o)c2c(n1)n(cn2)[c@h]3[c@@h]([c@@h]([c@h](o3)co)o)o-4',\n",
       "              'c1[nh]c(=o)c2c(n1)n(cn2)[c@h]3[c@@h]([c@@h]([c@h](o3)co)o)o-5',\n",
       "              'c1[nh]c(=o)c2c(n1)n(cn2)[c@h]3[c@@h]([c@@h]([c@h](o3)co)o)o-6',\n",
       "              'c1[nh]c(=o)c2c(n1)n(cn2)[c@h]3[c@@h]([c@@h]([c@h](o3)co)o)o-7',\n",
       "              'c1[nh]c(=o)c2c(n1)n(cn2)[c@h]3[c@@h]([c@@h]([c@h](o3)co)o)o-8',\n",
       "              'c1[nh]c(=o)c2c(n1)n(cn2)[c@h]3[c@@h]([c@@h]([c@h](o3)co)o)o-9',\n",
       "              'c1[nh]c(=o)c2c(n1)n(cn2)[c@h]3[c@@h]([c@@h]([c@h](o3)co)o)o-10',\n",
       "              'c1[nh]c(=o)c2c(n1)n(cn2)[c@h]3[c@@h]([c@@h]([c@h](o3)co)o)o-11',\n",
       "              'c1[nh]c(=o)c2c(n1)n(cn2)[c@h]3[c@@h]([c@@h]([c@h](o3)co)o)o-12'],\n",
       "             '[H]C1=NC2=C(C(=O)[N-]1)N=C(N2[C@]3([C@]([C@]([C@@](O3)([H])C([H])([H])O[H])([H])O[H])([H])O[H])[H])[H]': ['c1[n-]c(=o)c2c(n1)n(cn2)[c@h]3[c@@h]([c@@h]([c@h](o3)co)o)o-0',\n",
       "              'c1[n-]c(=o)c2c(n1)n(cn2)[c@h]3[c@@h]([c@@h]([c@h](o3)co)o)o-1',\n",
       "              'c1[n-]c(=o)c2c(n1)n(cn2)[c@h]3[c@@h]([c@@h]([c@h](o3)co)o)o-2',\n",
       "              'c1[n-]c(=o)c2c(n1)n(cn2)[c@h]3[c@@h]([c@@h]([c@h](o3)co)o)o-3',\n",
       "              'c1[n-]c(=o)c2c(n1)n(cn2)[c@h]3[c@@h]([c@@h]([c@h](o3)co)o)o-4',\n",
       "              'c1[n-]c(=o)c2c(n1)n(cn2)[c@h]3[c@@h]([c@@h]([c@h](o3)co)o)o-5',\n",
       "              'c1[n-]c(=o)c2c(n1)n(cn2)[c@h]3[c@@h]([c@@h]([c@h](o3)co)o)o-6',\n",
       "              'c1[n-]c(=o)c2c(n1)n(cn2)[c@h]3[c@@h]([c@@h]([c@h](o3)co)o)o-7',\n",
       "              'c1[n-]c(=o)c2c(n1)n(cn2)[c@h]3[c@@h]([c@@h]([c@h](o3)co)o)o-8',\n",
       "              'c1[n-]c(=o)c2c(n1)n(cn2)[c@h]3[c@@h]([c@@h]([c@h](o3)co)o)o-9',\n",
       "              'c1[n-]c(=o)c2c(n1)n(cn2)[c@h]3[c@@h]([c@@h]([c@h](o3)co)o)o-10',\n",
       "              'c1[n-]c(=o)c2c(n1)n(cn2)[c@h]3[c@@h]([c@@h]([c@h](o3)co)o)o-11',\n",
       "              'c1[n-]c(=o)c2c(n1)n(cn2)[c@h]3[c@@h]([c@@h]([c@h](o3)co)o)o-12',\n",
       "              'c1[n-]c(=o)c2c(n1)n(cn2)[c@h]3[c@@h]([c@@h]([c@h](o3)co)o)o-13'],\n",
       "             '[H]c1c2c(c(c(c1Cl)S(=O)(=O)N([H])[H])[H])S(=O)(=O)N(C(N2[H])([H])[H])[H]': ['c1c2c(cc(c1cl)s(=o)(=o)n)s(=o)(=o)ncn2-0',\n",
       "              'c1c2c(cc(c1cl)s(=o)(=o)n)s(=o)(=o)ncn2-1',\n",
       "              'c1c2c(cc(c1cl)s(=o)(=o)n)s(=o)(=o)ncn2-2'],\n",
       "             '[H]c1c(c(c(c(c1[H])[H])[C@]2(C(=O)N(C(=O)C2([H])[H])C([H])([H])[H])C([H])([H])[H])[H])[H]': ['c[c@]1(cc(=o)n(c1=o)c)c2ccccc2-0'],\n",
       "             '[H]c1c(c(c2c(c1[H])C(=C(S2)[C@@]([H])(C([H])([H])[H])N(C(=O)N([H])[H])O[H])[H])[H])[H]': ['c[c@h](c1cc2ccccc2s1)n(c(=o)n)o-0',\n",
       "              'c[c@h](c1cc2ccccc2s1)n(c(=o)n)o-1',\n",
       "              'c[c@h](c1cc2ccccc2s1)n(c(=o)n)o-2',\n",
       "              'c[c@h](c1cc2ccccc2s1)n(c(=o)n)o-3',\n",
       "              'c[c@h](c1cc2ccccc2s1)n(c(=o)n)o-4',\n",
       "              'c[c@h](c1cc2ccccc2s1)n(c(=o)n)o-5',\n",
       "              'c[c@h](c1cc2ccccc2s1)n(c(=o)n)o-6',\n",
       "              'c[c@h](c1cc2ccccc2s1)n(c(=o)n)o-7',\n",
       "              'c[c@h](c1cc2ccccc2s1)n(c(=o)n)o-8',\n",
       "              'c[c@h](c1cc2ccccc2s1)n(c(=o)n)o-9',\n",
       "              'c[c@h](c1cc2ccccc2s1)n(c(=o)n)o-10',\n",
       "              'c[c@h](c1cc2ccccc2s1)n(c(=o)n)o-11',\n",
       "              'c[c@h](c1cc2ccccc2s1)n(c(=o)n)o-12',\n",
       "              'c[c@h](c1cc2ccccc2s1)n(c(=o)n)o-13'],\n",
       "             '[H]c1c(c(c2c(c1[H])C(=C(S2)[C@@]([H])(C([H])([H])[H])N(C(=O)N([H])[H])[O-])[H])[H])[H]': ['c[c@h](c1cc2ccccc2s1)n(c(=o)n)[o-]-0',\n",
       "              'c[c@h](c1cc2ccccc2s1)n(c(=o)n)[o-]-1',\n",
       "              'c[c@h](c1cc2ccccc2s1)n(c(=o)n)[o-]-2',\n",
       "              'c[c@h](c1cc2ccccc2s1)n(c(=o)n)[o-]-3',\n",
       "              'c[c@h](c1cc2ccccc2s1)n(c(=o)n)[o-]-4',\n",
       "              'c[c@h](c1cc2ccccc2s1)n(c(=o)n)[o-]-5',\n",
       "              'c[c@h](c1cc2ccccc2s1)n(c(=o)n)[o-]-6',\n",
       "              'c[c@h](c1cc2ccccc2s1)n(c(=o)n)[o-]-7',\n",
       "              'c[c@h](c1cc2ccccc2s1)n(c(=o)n)[o-]-8',\n",
       "              'c[c@h](c1cc2ccccc2s1)n(c(=o)n)[o-]-9',\n",
       "              'c[c@h](c1cc2ccccc2s1)n(c(=o)n)[o-]-10',\n",
       "              'c[c@h](c1cc2ccccc2s1)n(c(=o)n)[o-]-11',\n",
       "              'c[c@h](c1cc2ccccc2s1)n(c(=o)n)[o-]-12'],\n",
       "             '[H]c1c(c(c(c(c1[H])[H])[C@](C(=O)O[C@]2(C(C([N+](C2([H])[H])(C([H])([H])[H])C([H])([H])[H])([H])[H])([H])[H])[H])(C3(C(C(C(C3([H])[H])([H])[H])([H])[H])([H])[H])[H])O[H])[H])[H]': ['c[n+]1(cc[c@@h](c1)oc(=o)[c@@](c2ccccc2)(c3cccc3)o)c-0',\n",
       "              'c[n+]1(cc[c@@h](c1)oc(=o)[c@@](c2ccccc2)(c3cccc3)o)c-1',\n",
       "              'c[n+]1(cc[c@@h](c1)oc(=o)[c@@](c2ccccc2)(c3cccc3)o)c-2',\n",
       "              'c[n+]1(cc[c@@h](c1)oc(=o)[c@@](c2ccccc2)(c3cccc3)o)c-3',\n",
       "              'c[n+]1(cc[c@@h](c1)oc(=o)[c@@](c2ccccc2)(c3cccc3)o)c-4',\n",
       "              'c[n+]1(cc[c@@h](c1)oc(=o)[c@@](c2ccccc2)(c3cccc3)o)c-5',\n",
       "              'c[n+]1(cc[c@@h](c1)oc(=o)[c@@](c2ccccc2)(c3cccc3)o)c-6',\n",
       "              'c[n+]1(cc[c@@h](c1)oc(=o)[c@@](c2ccccc2)(c3cccc3)o)c-7',\n",
       "              'c[n+]1(cc[c@@h](c1)oc(=o)[c@@](c2ccccc2)(c3cccc3)o)c-8',\n",
       "              'c[n+]1(cc[c@@h](c1)oc(=o)[c@@](c2ccccc2)(c3cccc3)o)c-9',\n",
       "              'c[n+]1(cc[c@@h](c1)oc(=o)[c@@](c2ccccc2)(c3cccc3)o)c-10',\n",
       "              'c[n+]1(cc[c@@h](c1)oc(=o)[c@@](c2ccccc2)(c3cccc3)o)c-11',\n",
       "              'c[n+]1(cc[c@@h](c1)oc(=o)[c@@](c2ccccc2)(c3cccc3)o)c-12',\n",
       "              'c[n+]1(cc[c@@h](c1)oc(=o)[c@@](c2ccccc2)(c3cccc3)o)c-13',\n",
       "              'c[n+]1(cc[c@@h](c1)oc(=o)[c@@](c2ccccc2)(c3cccc3)o)c-14',\n",
       "              'c[n+]1(cc[c@@h](c1)oc(=o)[c@@](c2ccccc2)(c3cccc3)o)c-15',\n",
       "              'c[n+]1(cc[c@@h](c1)oc(=o)[c@@](c2ccccc2)(c3cccc3)o)c-16',\n",
       "              'c[n+]1(cc[c@@h](c1)oc(=o)[c@@](c2ccccc2)(c3cccc3)o)c-17'],\n",
       "             '[H]C([H])(C([H])([H])S[H])[N+]([H])([H])[H]': ['c(cs)[nh3+]-0'],\n",
       "             '[H]c1c(c(c2c(c1[H])C(=O)C(c3c(c(c(c(c3N2C(=O)N([H])[H])[H])[H])[H])[H])([H])[H])[H])[H]': ['c1ccc2c(c1)cc(=o)c3ccccc3n2c(=o)n-0',\n",
       "              'c1ccc2c(c1)cc(=o)c3ccccc3n2c(=o)n-1',\n",
       "              'c1ccc2c(c1)cc(=o)c3ccccc3n2c(=o)n-2',\n",
       "              'c1ccc2c(c1)cc(=o)c3ccccc3n2c(=o)n-3',\n",
       "              'c1ccc2c(c1)cc(=o)c3ccccc3n2c(=o)n-4',\n",
       "              'c1ccc2c(c1)cc(=o)c3ccccc3n2c(=o)n-5'],\n",
       "             '[H]c1c(c(c2c(c1[H])/C(=C(\\\\[H])/C([H])([H])C([H])([H])[N+]([H])(C([H])([H])[H])C([H])([H])[H])/c3c(c(c(c(c3OC2([H])[H])[H])[H])[H])[H])[H])[H]': ['c[nh+](c)cc/c=c\\\\1/c2ccccc2coc3c1cccc3-0',\n",
       "              'c[nh+](c)cc/c=c\\\\1/c2ccccc2coc3c1cccc3-1',\n",
       "              'c[nh+](c)cc/c=c\\\\1/c2ccccc2coc3c1cccc3-2',\n",
       "              'c[nh+](c)cc/c=c\\\\1/c2ccccc2coc3c1cccc3-3'],\n",
       "             '[H]c1c(c(c(c(c1C2=Nc3c(c(c(c(c3S2)[H])O[H])[H])[H])[H])F)N([H])C([H])([H])[H])[H]': ['cnc1ccc(cc1f)c2nc3ccc(cc3s2)o-0',\n",
       "              'cnc1ccc(cc1f)c2nc3ccc(cc3s2)o-1'],\n",
       "             '[H]c1c2c3c(c(c1F)N4C(C(N(C(C4([H])[H])([H])[H])C([H])([H])[H])([H])[H])([H])[H])OC([C@@](N3C(=C(C2=O)C(=O)[O-])[H])([H])C([H])([H])[H])([H])[H]': ['c[c@@h]1coc2c3n1cc(c(=o)c3cc(c2n4ccn(cc4)c)f)c(=o)[o-]-0',\n",
       "              'c[c@@h]1coc2c3n1cc(c(=o)c3cc(c2n4ccn(cc4)c)f)c(=o)[o-]-1',\n",
       "              'c[c@@h]1coc2c3n1cc(c(=o)c3cc(c2n4ccn(cc4)c)f)c(=o)[o-]-2'],\n",
       "             '[H]c1c2c3c(c(c1F)N4C(C([N+](C(C4([H])[H])([H])[H])([H])C([H])([H])[H])([H])[H])([H])[H])OC([C@@](N3C(=C(C2=O)C(=O)[O-])[H])([H])C([H])([H])[H])([H])[H]': ['c[c@@h]1coc2c3n1cc(c(=o)c3cc(c2n4cc[nh+](cc4)c)f)c(=o)[o-]-0',\n",
       "              'c[c@@h]1coc2c3n1cc(c(=o)c3cc(c2n4cc[nh+](cc4)c)f)c(=o)[o-]-1'],\n",
       "             '[H]c1c(c2c(nc1[H])C(=C3C(C(N(C(C3([H])[H])([H])[H])C(=O)OC([H])([H])C([H])([H])[H])([H])[H])([H])[H])c4c(c(c(c(c4C(C2([H])[H])([H])[H])[H])Cl)[H])[H])[H]': ['ccoc(=o)n1ccc(=c2c3ccc(cc3ccc4c2nccc4)cl)cc1-0',\n",
       "              'ccoc(=o)n1ccc(=c2c3ccc(cc3ccc4c2nccc4)cl)cc1-1',\n",
       "              'ccoc(=o)n1ccc(=c2c3ccc(cc3ccc4c2nccc4)cl)cc1-2',\n",
       "              'ccoc(=o)n1ccc(=c2c3ccc(cc3ccc4c2nccc4)cl)cc1-3',\n",
       "              'ccoc(=o)n1ccc(=c2c3ccc(cc3ccc4c2nccc4)cl)cc1-4',\n",
       "              'ccoc(=o)n1ccc(=c2c3ccc(cc3ccc4c2nccc4)cl)cc1-5',\n",
       "              'ccoc(=o)n1ccc(=c2c3ccc(cc3ccc4c2nccc4)cl)cc1-6',\n",
       "              'ccoc(=o)n1ccc(=c2c3ccc(cc3ccc4c2nccc4)cl)cc1-7'],\n",
       "             '[H][C@]12[C@]3([C@@](OC([C@]1(OC(O2)(C([H])([H])[H])C([H])([H])[H])[H])([H])[H])(OC(O3)(C([H])([H])[H])C([H])([H])[H])C([H])([H])OS(=O)(=O)N([H])[H])[H]': ['cc1(o[c@@h]2co[c@@]3([c@h]([c@@h]2o1)oc(o3)(c)c)cos(=o)(=o)n)c-0',\n",
       "              'cc1(o[c@@h]2co[c@@]3([c@h]([c@@h]2o1)oc(o3)(c)c)cos(=o)(=o)n)c-1',\n",
       "              'cc1(o[c@@h]2co[c@@]3([c@h]([c@@h]2o1)oc(o3)(c)c)cos(=o)(=o)n)c-2',\n",
       "              'cc1(o[c@@h]2co[c@@]3([c@h]([c@@h]2o1)oc(o3)(c)c)cos(=o)(=o)n)c-3',\n",
       "              'cc1(o[c@@h]2co[c@@]3([c@h]([c@@h]2o1)oc(o3)(c)c)cos(=o)(=o)n)c-4',\n",
       "              'cc1(o[c@@h]2co[c@@]3([c@h]([c@@h]2o1)oc(o3)(c)c)cos(=o)(=o)n)c-5',\n",
       "              'cc1(o[c@@h]2co[c@@]3([c@h]([c@@h]2o1)oc(o3)(c)c)cos(=o)(=o)n)c-6',\n",
       "              'cc1(o[c@@h]2co[c@@]3([c@h]([c@@h]2o1)oc(o3)(c)c)cos(=o)(=o)n)c-7',\n",
       "              'cc1(o[c@@h]2co[c@@]3([c@h]([c@@h]2o1)oc(o3)(c)c)cos(=o)(=o)n)c-8',\n",
       "              'cc1(o[c@@h]2co[c@@]3([c@h]([c@@h]2o1)oc(o3)(c)c)cos(=o)(=o)n)c-9',\n",
       "              'cc1(o[c@@h]2co[c@@]3([c@h]([c@@h]2o1)oc(o3)(c)c)cos(=o)(=o)n)c-10',\n",
       "              'cc1(o[c@@h]2co[c@@]3([c@h]([c@@h]2o1)oc(o3)(c)c)cos(=o)(=o)n)c-11',\n",
       "              'cc1(o[c@@h]2co[c@@]3([c@h]([c@@h]2o1)oc(o3)(c)c)cos(=o)(=o)n)c-12',\n",
       "              'cc1(o[c@@h]2co[c@@]3([c@h]([c@@h]2o1)oc(o3)(c)c)cos(=o)(=o)n)c-13',\n",
       "              'cc1(o[c@@h]2co[c@@]3([c@h]([c@@h]2o1)oc(o3)(c)c)cos(=o)(=o)n)c-14',\n",
       "              'cc1(o[c@@h]2co[c@@]3([c@h]([c@@h]2o1)oc(o3)(c)c)cos(=o)(=o)n)c-15',\n",
       "              'cc1(o[c@@h]2co[c@@]3([c@h]([c@@h]2o1)oc(o3)(c)c)cos(=o)(=o)n)c-16',\n",
       "              'cc1(o[c@@h]2co[c@@]3([c@h]([c@@h]2o1)oc(o3)(c)c)cos(=o)(=o)n)c-17',\n",
       "              'cc1(o[c@@h]2co[c@@]3([c@h]([c@@h]2o1)oc(o3)(c)c)cos(=o)(=o)n)c-18',\n",
       "              'cc1(o[c@@h]2co[c@@]3([c@h]([c@@h]2o1)oc(o3)(c)c)cos(=o)(=o)n)c-19'],\n",
       "             '[H]C1(C(C(C(C(C1([H])C(=O)[O-])([H])[H])([H])[H])([H])C([H])([H])[N+]([H])([H])[H])([H])[H])[H]': ['c1cc(ccc1c[nh3+])c(=o)[o-]-0',\n",
       "              'c1cc(ccc1c[nh3+])c(=o)[o-]-1'],\n",
       "             '[H][C@]1(C(C(C([N+]1([H])[H])([H])[H])([H])[H])([H])[H])C(=O)[O-]': ['c1c[c@h]([nh2+]c1)c(=o)[o-]-0'],\n",
       "             '[H][C@@](C(=O)[O-])(C([H])([H])O[H])[N+]([H])([H])[H]': ['c([c@@h](c(=o)[o-])[nh3+])o-0'],\n",
       "             '[H][C@@](C(=O)[O-])(C([H])([H])O[H])N([H])[H]': ['c([c@@h](c(=o)[o-])n)o-0',\n",
       "              'c([c@@h](c(=o)[o-])n)o-1'],\n",
       "             '[H][C@@](C(=O)[O-])(C([H])([H])C(=O)[O-])[N+]([H])([H])[H]': ['c([c@@h](c(=o)[o-])[nh3+])c(=o)[o-]-0',\n",
       "              'c([c@@h](c(=o)[o-])[nh3+])c(=o)[o-]-1'],\n",
       "             '[H]C1=C2[C@@]([C@@]3([C@]([C@]4([C@@]([C@@](C(C4([H])[H])([H])[H])([H])C(=O)C([H])([H])[H])(C(C3([H])[H])([H])[H])C([H])([H])[H])[H])(C(C2([H])[H])([H])[H])[H])[H])(C(C(C1=O)([H])[H])([H])[H])C([H])([H])[H]': ['cc(=o)[c@h]1cc[c@@h]2[c@@]1(cc[c@h]3[c@h]2ccc4=cc(=o)cc[c@]34c)c-0'],\n",
       "             '[H][C@]1(C(N(C2=C(N1[H])C(=O)N=C(N2[H])N([H])[H])[H])([H])[H])[C@]([H])([C@]([H])(C([H])([H])[H])O[H])O[H]': ['c[c@@h]([c@@h]([c@@h]1cnc2c(c(=o)nc([nh]2)n)n1)o)o-0',\n",
       "              'c[c@@h]([c@@h]([c@@h]1cnc2c(c(=o)nc([nh]2)n)n1)o)o-1',\n",
       "              'c[c@@h]([c@@h]([c@@h]1cnc2c(c(=o)nc([nh]2)n)n1)o)o-2',\n",
       "              'c[c@@h]([c@@h]([c@@h]1cnc2c(c(=o)nc([nh]2)n)n1)o)o-3',\n",
       "              'c[c@@h]([c@@h]([c@@h]1cnc2c(c(=o)nc([nh]2)n)n1)o)o-4',\n",
       "              'c[c@@h]([c@@h]([c@@h]1cnc2c(c(=o)nc([nh]2)n)n1)o)o-5',\n",
       "              'c[c@@h]([c@@h]([c@@h]1cnc2c(c(=o)nc([nh]2)n)n1)o)o-6',\n",
       "              'c[c@@h]([c@@h]([c@@h]1cnc2c(c(=o)nc([nh]2)n)n1)o)o-7',\n",
       "              'c[c@@h]([c@@h]([c@@h]1cnc2c(c(=o)nc([nh]2)n)n1)o)o-8',\n",
       "              'c[c@@h]([c@@h]([c@@h]1cnc2c(c(=o)nc([nh]2)n)n1)o)o-9',\n",
       "              'c[c@@h]([c@@h]([c@@h]1cnc2c(c(=o)nc([nh]2)n)n1)o)o-10'],\n",
       "             '[H][C@]1(C(N(C2=C(N1[H])C(=O)N(C(=N2)N([H])[H])[H])[H])([H])[H])[C@]([H])([C@]([H])(C([H])([H])[H])O[H])O[H]': ['c[c@@h]([c@@h]([c@@h]1cnc2c(c(=o)[nh]c(n2)n)n1)o)o-0',\n",
       "              'c[c@@h]([c@@h]([c@@h]1cnc2c(c(=o)[nh]c(n2)n)n1)o)o-1',\n",
       "              'c[c@@h]([c@@h]([c@@h]1cnc2c(c(=o)[nh]c(n2)n)n1)o)o-2',\n",
       "              'c[c@@h]([c@@h]([c@@h]1cnc2c(c(=o)[nh]c(n2)n)n1)o)o-3',\n",
       "              'c[c@@h]([c@@h]([c@@h]1cnc2c(c(=o)[nh]c(n2)n)n1)o)o-4',\n",
       "              'c[c@@h]([c@@h]([c@@h]1cnc2c(c(=o)[nh]c(n2)n)n1)o)o-5',\n",
       "              'c[c@@h]([c@@h]([c@@h]1cnc2c(c(=o)[nh]c(n2)n)n1)o)o-6',\n",
       "              'c[c@@h]([c@@h]([c@@h]1cnc2c(c(=o)[nh]c(n2)n)n1)o)o-7',\n",
       "              'c[c@@h]([c@@h]([c@@h]1cnc2c(c(=o)[nh]c(n2)n)n1)o)o-8',\n",
       "              'c[c@@h]([c@@h]([c@@h]1cnc2c(c(=o)[nh]c(n2)n)n1)o)o-9',\n",
       "              'c[c@@h]([c@@h]([c@@h]1cnc2c(c(=o)[nh]c(n2)n)n1)o)o-10'],\n",
       "             '[H][C@]1(C(N(C2=C(N1[H])C(=O)[N-]C(=N2)N([H])[H])[H])([H])[H])[C@]([H])([C@]([H])(C([H])([H])[H])O[H])O[H]': ['c[c@@h]([c@@h]([c@@h]1cnc2c(c(=o)[n-]c(n2)n)n1)o)o-0',\n",
       "              'c[c@@h]([c@@h]([c@@h]1cnc2c(c(=o)[n-]c(n2)n)n1)o)o-1',\n",
       "              'c[c@@h]([c@@h]([c@@h]1cnc2c(c(=o)[n-]c(n2)n)n1)o)o-2',\n",
       "              'c[c@@h]([c@@h]([c@@h]1cnc2c(c(=o)[n-]c(n2)n)n1)o)o-3',\n",
       "              'c[c@@h]([c@@h]([c@@h]1cnc2c(c(=o)[n-]c(n2)n)n1)o)o-4',\n",
       "              'c[c@@h]([c@@h]([c@@h]1cnc2c(c(=o)[n-]c(n2)n)n1)o)o-5',\n",
       "              'c[c@@h]([c@@h]([c@@h]1cnc2c(c(=o)[n-]c(n2)n)n1)o)o-6',\n",
       "              'c[c@@h]([c@@h]([c@@h]1cnc2c(c(=o)[n-]c(n2)n)n1)o)o-7',\n",
       "              'c[c@@h]([c@@h]([c@@h]1cnc2c(c(=o)[n-]c(n2)n)n1)o)o-8'],\n",
       "             '[H]c1c2c(c(c3c1OC(O3)([H])[H])[H])[C@]([C@@]4([C@@]([C@@]2([H])c5c(c(c(c(c5[H])OC([H])([H])[H])OC([H])([H])[H])OC([H])([H])[H])[H])(C(=O)OC4([H])[H])[H])[H])([H])O[H]': ['coc1cc(cc(c1oc)oc)[c@h]2c3cc4c(cc3[c@@h]([c@@h]5[c@@h]2c(=o)oc5)o)oco4-0'],\n",
       "             '[H]C([H])(C(=O)C([H])([H])[N+]([H])([H])[H])C([H])([H])C(=O)[O-]': ['c(cc(=o)[o-])c(=o)c[nh3+]-0',\n",
       "              'c(cc(=o)[o-])c(=o)c[nh3+]-1',\n",
       "              'c(cc(=o)[o-])c(=o)c[nh3+]-2',\n",
       "              'c(cc(=o)[o-])c(=o)c[nh3+]-3',\n",
       "              'c(cc(=o)[o-])c(=o)c[nh3+]-4',\n",
       "              'c(cc(=o)[o-])c(=o)c[nh3+]-5',\n",
       "              'c(cc(=o)[o-])c(=o)c[nh3+]-6'],\n",
       "             '[H]C([H])(C(=O)C([H])([H])N([H])[H])C([H])([H])C(=O)[O-]': ['c(cc(=o)[o-])c(=o)cn-0',\n",
       "              'c(cc(=o)[o-])c(=o)cn-1',\n",
       "              'c(cc(=o)[o-])c(=o)cn-2',\n",
       "              'c(cc(=o)[o-])c(=o)cn-3',\n",
       "              'c(cc(=o)[o-])c(=o)cn-4',\n",
       "              'c(cc(=o)[o-])c(=o)cn-5',\n",
       "              'c(cc(=o)[o-])c(=o)cn-6',\n",
       "              'c(cc(=o)[o-])c(=o)cn-7',\n",
       "              'c(cc(=o)[o-])c(=o)cn-8',\n",
       "              'c(cc(=o)[o-])c(=o)cn-9',\n",
       "              'c(cc(=o)[o-])c(=o)cn-10'],\n",
       "             '[H]c1c(c(c(c2c1[C@@]3([C@]([C@]4([C@@](C(=O)C(C4([H])[H])([H])[H])(C(C3([H])[H])([H])[H])C([H])([H])[H])[H])(C(C2([H])[H])([H])[H])[H])[H])[H])OS(=O)(=O)[O-])[H]': ['c[c@]12cc[c@@h]3c4ccc(cc4cc[c@h]3[c@@h]1ccc2=o)os(=o)(=o)[o-]-0',\n",
       "              'c[c@]12cc[c@@h]3c4ccc(cc4cc[c@h]3[c@@h]1ccc2=o)os(=o)(=o)[o-]-1'],\n",
       "             '[H][C@]12[C@@]([C@@]3([C@](C([C@]1([H])O[H])([H])[H])(C([C@](C(C3([H])[H])([H])[H])([H])O[H])([H])[H])[H])C([H])([H])[H])(C(C([C@]4([C@]2(C(C([C@]4([H])[C@]([H])(C([H])([H])[H])C([H])([H])C([H])([H])C(=O)[O-])([H])[H])([H])[H])[H])C([H])([H])[H])([H])[H])([H])[H])[H]': ['c[c@h](ccc(=o)[o-])[c@h]1cc[c@@h]2[c@@]1(cc[c@h]3[c@h]2[c@h](c[c@h]4[c@@]3(cc[c@h](c4)o)c)o)c-0',\n",
       "              'c[c@h](ccc(=o)[o-])[c@h]1cc[c@@h]2[c@@]1(cc[c@h]3[c@h]2[c@h](c[c@h]4[c@@]3(cc[c@h](c4)o)c)o)c-1',\n",
       "              'c[c@h](ccc(=o)[o-])[c@h]1cc[c@@h]2[c@@]1(cc[c@h]3[c@h]2[c@h](c[c@h]4[c@@]3(cc[c@h](c4)o)c)o)c-2',\n",
       "              'c[c@h](ccc(=o)[o-])[c@h]1cc[c@@h]2[c@@]1(cc[c@h]3[c@h]2[c@h](c[c@h]4[c@@]3(cc[c@h](c4)o)c)o)c-3'],\n",
       "             '[H]C1=C([C@]2(C(=C(C1=O)[H])[C@@](C([C@@]3([C@@]2([C@@](C([C@]4([C@]3(C(C([C@@]4(C(=O)C([H])([H])O[H])O[H])([H])[H])([H])[H])[H])C([H])([H])[H])([H])[H])([H])O[H])[H])[H])([H])[H])([H])C([H])([H])[H])C([H])([H])[H])[H]': ['c[c@h]1c[c@h]2[c@@h]3cc[c@@]([c@]3(c[c@@h]([c@@h]2[c@@]4(c1=cc(=o)c=c4)c)o)c)(c(=o)co)o-0',\n",
       "              'c[c@h]1c[c@h]2[c@@h]3cc[c@@]([c@]3(c[c@@h]([c@@h]2[c@@]4(c1=cc(=o)c=c4)c)o)c)(c(=o)co)o-1'],\n",
       "             '[H]c1c(nc(c(c1C(=S)N([H])[H])[H])C([H])([H])C([H])([H])[H])[H]': ['ccc1cc(ccn1)c(=s)n-0',\n",
       "              'ccc1cc(ccn1)c(=s)n-1',\n",
       "              'ccc1cc(ccn1)c(=s)n-2'],\n",
       "             '[H]c1c2c(c(c(c1Cl)S(=O)(=O)N([H])[H])[H])S(=O)(=O)N=C(N2[H])[H]': ['c1c2c(cc(c1cl)s(=o)(=o)n)s(=o)(=o)n=cn2-0',\n",
       "              'c1c2c(cc(c1cl)s(=o)(=o)n)s(=o)(=o)n=cn2-1',\n",
       "              'c1c2c(cc(c1cl)s(=o)(=o)n)s(=o)(=o)n=cn2-2'],\n",
       "             '[H]c1nc2c(c(n1)N([H])[H])N=C(N2[C@]3([C@]([C@]([C@@](O3)([H])C([H])([H])O[H])([H])O[H])([H])O[H])[H])[H]': ['c1nc(c2c(n1)n(cn2)[c@h]3[c@@h]([c@@h]([c@h](o3)co)o)o)n-0',\n",
       "              'c1nc(c2c(n1)n(cn2)[c@h]3[c@@h]([c@@h]([c@h](o3)co)o)o)n-1',\n",
       "              'c1nc(c2c(n1)n(cn2)[c@h]3[c@@h]([c@@h]([c@h](o3)co)o)o)n-2',\n",
       "              'c1nc(c2c(n1)n(cn2)[c@h]3[c@@h]([c@@h]([c@h](o3)co)o)o)n-3',\n",
       "              'c1nc(c2c(n1)n(cn2)[c@h]3[c@@h]([c@@h]([c@h](o3)co)o)o)n-4',\n",
       "              'c1nc(c2c(n1)n(cn2)[c@h]3[c@@h]([c@@h]([c@h](o3)co)o)o)n-5',\n",
       "              'c1nc(c2c(n1)n(cn2)[c@h]3[c@@h]([c@@h]([c@h](o3)co)o)o)n-6',\n",
       "              'c1nc(c2c(n1)n(cn2)[c@h]3[c@@h]([c@@h]([c@h](o3)co)o)o)n-7',\n",
       "              'c1nc(c2c(n1)n(cn2)[c@h]3[c@@h]([c@@h]([c@h](o3)co)o)o)n-8',\n",
       "              'c1nc(c2c(n1)n(cn2)[c@h]3[c@@h]([c@@h]([c@h](o3)co)o)o)n-9',\n",
       "              'c1nc(c2c(n1)n(cn2)[c@h]3[c@@h]([c@@h]([c@h](o3)co)o)o)n-10',\n",
       "              'c1nc(c2c(n1)n(cn2)[c@h]3[c@@h]([c@@h]([c@h](o3)co)o)o)n-11'],\n",
       "             '[H]OC(=O)[O-]': ['c(=o)(o)[o-]-0'],\n",
       "             '[H]OC(=O)O[H]': ['c(=o)(o)o-0'],\n",
       "             '[H][C@]12[C@]3([C@@]([C@@](C(C3([H])[H])([H])[H])([H])[C@]([H])(C([H])([H])[H])C([H])([H])C([H])([H])C(=O)[O-])([C@@](C([C@@]1([C@@]4([C@](C([C@@]2([H])O[H])([H])[H])(C([C@](C(C4([H])[H])([H])[H])([H])O[H])([H])[H])[H])C([H])([H])[H])[H])([H])[H])([H])O[H])C([H])([H])[H])[H]': ['c[c@h](ccc(=o)[o-])[c@h]1cc[c@@h]2[c@@]1([c@h](c[c@h]3[c@h]2[c@@h](c[c@h]4[c@@]3(cc[c@h](c4)o)c)o)o)c-0',\n",
       "              'c[c@h](ccc(=o)[o-])[c@h]1cc[c@@h]2[c@@]1([c@h](c[c@h]3[c@h]2[c@@h](c[c@h]4[c@@]3(cc[c@h](c4)o)c)o)o)c-1',\n",
       "              'c[c@h](ccc(=o)[o-])[c@h]1cc[c@@h]2[c@@]1([c@h](c[c@h]3[c@h]2[c@@h](c[c@h]4[c@@]3(cc[c@h](c4)o)c)o)o)c-2',\n",
       "              'c[c@h](ccc(=o)[o-])[c@h]1cc[c@@h]2[c@@]1([c@h](c[c@h]3[c@h]2[c@@h](c[c@h]4[c@@]3(cc[c@h](c4)o)c)o)o)c-3'],\n",
       "             '[H][C@]1(C(N(C2=C(N1[H])C(=O)N=C(N2[H])N([H])[H])[H])([H])[H])[C@]([H])([C@@]([H])(C([H])([H])[H])O[H])O[H]': ['c[c@h]([c@@h]([c@@h]1cnc2c(c(=o)nc([nh]2)n)n1)o)o-0',\n",
       "              'c[c@h]([c@@h]([c@@h]1cnc2c(c(=o)nc([nh]2)n)n1)o)o-1',\n",
       "              'c[c@h]([c@@h]([c@@h]1cnc2c(c(=o)nc([nh]2)n)n1)o)o-2',\n",
       "              'c[c@h]([c@@h]([c@@h]1cnc2c(c(=o)nc([nh]2)n)n1)o)o-3',\n",
       "              'c[c@h]([c@@h]([c@@h]1cnc2c(c(=o)nc([nh]2)n)n1)o)o-4',\n",
       "              'c[c@h]([c@@h]([c@@h]1cnc2c(c(=o)nc([nh]2)n)n1)o)o-5',\n",
       "              'c[c@h]([c@@h]([c@@h]1cnc2c(c(=o)nc([nh]2)n)n1)o)o-6',\n",
       "              'c[c@h]([c@@h]([c@@h]1cnc2c(c(=o)nc([nh]2)n)n1)o)o-7',\n",
       "              'c[c@h]([c@@h]([c@@h]1cnc2c(c(=o)nc([nh]2)n)n1)o)o-8'],\n",
       "             '[H][C@]1(C(N(C2=C(N1[H])C(=O)N(C(=N2)N([H])[H])[H])[H])([H])[H])[C@]([H])([C@@]([H])(C([H])([H])[H])O[H])O[H]': ['c[c@h]([c@@h]([c@@h]1cnc2c(c(=o)[nh]c(n2)n)n1)o)o-0',\n",
       "              'c[c@h]([c@@h]([c@@h]1cnc2c(c(=o)[nh]c(n2)n)n1)o)o-1',\n",
       "              'c[c@h]([c@@h]([c@@h]1cnc2c(c(=o)[nh]c(n2)n)n1)o)o-2',\n",
       "              'c[c@h]([c@@h]([c@@h]1cnc2c(c(=o)[nh]c(n2)n)n1)o)o-3',\n",
       "              'c[c@h]([c@@h]([c@@h]1cnc2c(c(=o)[nh]c(n2)n)n1)o)o-4',\n",
       "              'c[c@h]([c@@h]([c@@h]1cnc2c(c(=o)[nh]c(n2)n)n1)o)o-5',\n",
       "              'c[c@h]([c@@h]([c@@h]1cnc2c(c(=o)[nh]c(n2)n)n1)o)o-6',\n",
       "              'c[c@h]([c@@h]([c@@h]1cnc2c(c(=o)[nh]c(n2)n)n1)o)o-7',\n",
       "              'c[c@h]([c@@h]([c@@h]1cnc2c(c(=o)[nh]c(n2)n)n1)o)o-8'],\n",
       "             '[H][C@]1(C(N(C2=C(N1[H])C(=O)[N-]C(=N2)N([H])[H])[H])([H])[H])[C@]([H])([C@@]([H])(C([H])([H])[H])O[H])O[H]': ['c[c@h]([c@@h]([c@@h]1cnc2c(c(=o)[n-]c(n2)n)n1)o)o-0',\n",
       "              'c[c@h]([c@@h]([c@@h]1cnc2c(c(=o)[n-]c(n2)n)n1)o)o-1',\n",
       "              'c[c@h]([c@@h]([c@@h]1cnc2c(c(=o)[n-]c(n2)n)n1)o)o-2',\n",
       "              'c[c@h]([c@@h]([c@@h]1cnc2c(c(=o)[n-]c(n2)n)n1)o)o-3',\n",
       "              'c[c@h]([c@@h]([c@@h]1cnc2c(c(=o)[n-]c(n2)n)n1)o)o-4',\n",
       "              'c[c@h]([c@@h]([c@@h]1cnc2c(c(=o)[n-]c(n2)n)n1)o)o-5',\n",
       "              'c[c@h]([c@@h]([c@@h]1cnc2c(c(=o)[n-]c(n2)n)n1)o)o-6',\n",
       "              'c[c@h]([c@@h]([c@@h]1cnc2c(c(=o)[n-]c(n2)n)n1)o)o-7',\n",
       "              'c[c@h]([c@@h]([c@@h]1cnc2c(c(=o)[n-]c(n2)n)n1)o)o-8',\n",
       "              'c[c@h]([c@@h]([c@@h]1cnc2c(c(=o)[n-]c(n2)n)n1)o)o-9',\n",
       "              'c[c@h]([c@@h]([c@@h]1cnc2c(c(=o)[n-]c(n2)n)n1)o)o-10'],\n",
       "             '[H]OP(=O)([O-])OP(=O)([O-])[O-]': ['o[p@@](=o)([o-])op(=o)([o-])[o-]-0',\n",
       "              'o[p@@](=o)([o-])op(=o)([o-])[o-]-1',\n",
       "              'o[p@](=o)([o-])op(=o)([o-])[o-]-0',\n",
       "              'o[p@](=o)([o-])op(=o)([o-])[o-]-1'],\n",
       "             '[O-]P(=O)([O-])OP(=O)([O-])[O-]': ['[o-]p(=o)([o-])op(=o)([o-])[o-]-0'],\n",
       "             '[H]c1c(c(c(c(c1C([H])([H])[N+]([H])([H])[H])[H])[H])S(=O)(=O)N([H])[H])[H]': ['c1cc(ccc1c[nh3+])s(=o)(=o)n-0'],\n",
       "             '[H]c1c(c(c(c(c1[H])[H])C2=N[C@@](C(=O)N(c3c2c(c(c(c3[H])[H])Cl)[H])C([H])([H])[H])([H])O[H])[H])[H]': ['cn1c2ccc(cc2c(=n[c@h](c1=o)o)c3ccccc3)cl-0',\n",
       "              'cn1c2ccc(cc2c(=n[c@h](c1=o)o)c3ccccc3)cl-1'],\n",
       "             '[H]c1c2c(c(c(c1OC([H])([H])[H])OC([H])([H])[H])[H])C(C([N@@+]3([C@@]2(C(C(=O)[C@](C3([H])[H])([H])C([H])([H])C([H])(C([H])([H])[H])C([H])([H])[H])([H])[H])[H])[H])([H])[H])([H])[H]': ['cc(c)c[c@@h]1c[n@@h+]2ccc3cc(c(cc3[c@h]2cc1=o)oc)oc-0',\n",
       "              'cc(c)c[c@@h]1c[n@@h+]2ccc3cc(c(cc3[c@h]2cc1=o)oc)oc-1',\n",
       "              'cc(c)c[c@@h]1c[n@@h+]2ccc3cc(c(cc3[c@h]2cc1=o)oc)oc-2',\n",
       "              'cc(c)c[c@@h]1c[n@@h+]2ccc3cc(c(cc3[c@h]2cc1=o)oc)oc-3'],\n",
       "             '[H]c1c2c(c(c(c1OC([H])([H])[H])OC([H])([H])[H])[H])C(C([N@+]3([C@@]2(C(C(=O)[C@](C3([H])[H])([H])C([H])([H])C([H])(C([H])([H])[H])C([H])([H])[H])([H])[H])[H])[H])([H])[H])([H])[H]': ['cc(c)c[c@@h]1c[n@h+]2ccc3cc(c(cc3[c@h]2cc1=o)oc)oc-0',\n",
       "              'cc(c)c[c@@h]1c[n@h+]2ccc3cc(c(cc3[c@h]2cc1=o)oc)oc-1',\n",
       "              'cc(c)c[c@@h]1c[n@h+]2ccc3cc(c(cc3[c@h]2cc1=o)oc)oc-2',\n",
       "              'cc(c)c[c@@h]1c[n@h+]2ccc3cc(c(cc3[c@h]2cc1=o)oc)oc-3',\n",
       "              'cc(c)c[c@@h]1c[n@h+]2ccc3cc(c(cc3[c@h]2cc1=o)oc)oc-4',\n",
       "              'cc(c)c[c@@h]1c[n@h+]2ccc3cc(c(cc3[c@h]2cc1=o)oc)oc-5',\n",
       "              'cc(c)c[c@@h]1c[n@h+]2ccc3cc(c(cc3[c@h]2cc1=o)oc)oc-6',\n",
       "              'cc(c)c[c@@h]1c[n@h+]2ccc3cc(c(cc3[c@h]2cc1=o)oc)oc-7',\n",
       "              'cc(c)c[c@@h]1c[n@h+]2ccc3cc(c(cc3[c@h]2cc1=o)oc)oc-8',\n",
       "              'cc(c)c[c@@h]1c[n@h+]2ccc3cc(c(cc3[c@h]2cc1=o)oc)oc-9',\n",
       "              'cc(c)c[c@@h]1c[n@h+]2ccc3cc(c(cc3[c@h]2cc1=o)oc)oc-10',\n",
       "              'cc(c)c[c@@h]1c[n@h+]2ccc3cc(c(cc3[c@h]2cc1=o)oc)oc-11'],\n",
       "             '[H]c1c(c(c(c(c1[H])[H])C([H])([H])C([H])([H])C([H])([H])C(=O)[O-])[H])[H]': ['c1ccc(cc1)cccc(=o)[o-]-0',\n",
       "              'c1ccc(cc1)cccc(=o)[o-]-1',\n",
       "              'c1ccc(cc1)cccc(=o)[o-]-2',\n",
       "              'c1ccc(cc1)cccc(=o)[o-]-3',\n",
       "              'c1ccc(cc1)cccc(=o)[o-]-4'],\n",
       "             '[H]C([H])([H])[N+](C([H])([H])[H])(C([H])([H])[H])C([H])([H])C(=O)[O-]': ['c[n+](c)(c)cc(=o)[o-]-0'],\n",
       "             '[H]c1c(c(c(c(c1C([H])([H])[C@](C(=O)[O-])(C([H])([H])[H])[N+]([H])([H])[H])[H])O[H])O[H])[H]': ['c[c@](cc1ccc(c(c1)o)o)(c(=o)[o-])[nh3+]-0',\n",
       "              'c[c@](cc1ccc(c(c1)o)o)(c(=o)[o-])[nh3+]-1',\n",
       "              'c[c@](cc1ccc(c(c1)o)o)(c(=o)[o-])[nh3+]-2',\n",
       "              'c[c@](cc1ccc(c(c1)o)o)(c(=o)[o-])[nh3+]-3',\n",
       "              'c[c@](cc1ccc(c(c1)o)o)(c(=o)[o-])[nh3+]-4',\n",
       "              'c[c@](cc1ccc(c(c1)o)o)(c(=o)[o-])[nh3+]-5',\n",
       "              'c[c@](cc1ccc(c(c1)o)o)(c(=o)[o-])[nh3+]-6',\n",
       "              'c[c@](cc1ccc(c(c1)o)o)(c(=o)[o-])[nh3+]-7'],\n",
       "             '[H]c1c(c(c(nc1[H])[H])C(=O)[O-])[H]': ['c1cc(cnc1)c(=o)[o-]-0'],\n",
       "             '[H]c1c(c(c2c(c1[H])C(C(c3c(c(c(c(c3N2C([H])([H])[C@]([H])(C([H])([H])[H])C([H])([H])[N+]([H])(C([H])([H])[H])C([H])([H])[H])[H])[H])[H])[H])([H])[H])([H])[H])[H])[H]': ['c[c@@h](cn1c2ccccc2ccc3c1cccc3)c[nh+](c)c-0',\n",
       "              'c[c@@h](cn1c2ccccc2ccc3c1cccc3)c[nh+](c)c-1',\n",
       "              'c[c@@h](cn1c2ccccc2ccc3c1cccc3)c[nh+](c)c-2'],\n",
       "             '[H]C1(C2(C(C3(C(C1(C(C(C2([H])[H])(C3([H])[H])[N+]([H])([H])[H])([H])[H])[H])([H])[H])[H])([H])[H])[H])[H]': ['c1c2cc3cc1cc(c2)(c3)[nh3+]-0'],\n",
       "             '[H]c1c(c(c(c(c1[H])[H])C([H])([H])[C@]([H])(C([H])([H])[H])[N@+]([H])(C([H])([H])[H])C([H])([H])c2c(c(c(c(c2[H])[H])[H])[H])[H])[H])[H]': ['c[c@@h](cc1ccccc1)[n@h+](c)cc2ccccc2-0',\n",
       "              'c[c@@h](cc1ccccc1)[n@h+](c)cc2ccccc2-1',\n",
       "              'c[c@@h](cc1ccccc1)[n@h+](c)cc2ccccc2-2',\n",
       "              'c[c@@h](cc1ccccc1)[n@h+](c)cc2ccccc2-3',\n",
       "              'c[c@@h](cc1ccccc1)[n@h+](c)cc2ccccc2-4',\n",
       "              'c[c@@h](cc1ccccc1)[n@h+](c)cc2ccccc2-5',\n",
       "              'c[c@@h](cc1ccccc1)[n@h+](c)cc2ccccc2-6',\n",
       "              'c[c@@h](cc1ccccc1)[n@h+](c)cc2ccccc2-7',\n",
       "              'c[c@@h](cc1ccccc1)[n@h+](c)cc2ccccc2-8'],\n",
       "             '[H]c1c(c(c(c(c1[H])[H])C([H])([H])[C@]([H])(C([H])([H])[H])[N@@+]([H])(C([H])([H])[H])C([H])([H])c2c(c(c(c(c2[H])[H])[H])[H])[H])[H])[H]': ['c[c@@h](cc1ccccc1)[n@@h+](c)cc2ccccc2-0',\n",
       "              'c[c@@h](cc1ccccc1)[n@@h+](c)cc2ccccc2-1',\n",
       "              'c[c@@h](cc1ccccc1)[n@@h+](c)cc2ccccc2-2',\n",
       "              'c[c@@h](cc1ccccc1)[n@@h+](c)cc2ccccc2-3',\n",
       "              'c[c@@h](cc1ccccc1)[n@@h+](c)cc2ccccc2-4',\n",
       "              'c[c@@h](cc1ccccc1)[n@@h+](c)cc2ccccc2-5',\n",
       "              'c[c@@h](cc1ccccc1)[n@@h+](c)cc2ccccc2-6',\n",
       "              'c[c@@h](cc1ccccc1)[n@@h+](c)cc2ccccc2-7',\n",
       "              'c[c@@h](cc1ccccc1)[n@@h+](c)cc2ccccc2-8',\n",
       "              'c[c@@h](cc1ccccc1)[n@@h+](c)cc2ccccc2-9',\n",
       "              'c[c@@h](cc1ccccc1)[n@@h+](c)cc2ccccc2-10',\n",
       "              'c[c@@h](cc1ccccc1)[n@@h+](c)cc2ccccc2-11'],\n",
       "             '[H]c1c(c(c(c(c1C([H])([H])[H])[H])OC([H])([H])[C@@]2(C(N(C(=O)O2)[H])([H])[H])[H])[H])C([H])([H])[H]': ['cc1cc(cc(c1)oc[c@@h]2cnc(=o)o2)c-0',\n",
       "              'cc1cc(cc(c1)oc[c@@h]2cnc(=o)o2)c-1',\n",
       "              'cc1cc(cc(c1)oc[c@@h]2cnc(=o)o2)c-2',\n",
       "              'cc1cc(cc(c1)oc[c@@h]2cnc(=o)o2)c-3',\n",
       "              'cc1cc(cc(c1)oc[c@@h]2cnc(=o)o2)c-4',\n",
       "              'cc1cc(cc(c1)oc[c@@h]2cnc(=o)o2)c-5',\n",
       "              'cc1cc(cc(c1)oc[c@@h]2cnc(=o)o2)c-6',\n",
       "              'cc1cc(cc(c1)oc[c@@h]2cnc(=o)o2)c-7',\n",
       "              'cc1cc(cc(c1)oc[c@@h]2cnc(=o)o2)c-8'],\n",
       "             '[H]c1c(c(c(c(c1[H])[H])[C@]2(c3c(c(c(c(c3C(C(N2C(=O)O[C@]4(C([N+]5(C(C(C4(C(C5([H])[H])([H])[H])[H])([H])[H])([H])[H])[H])([H])[H])[H])([H])[H])([H])[H])[H])[H])[H])[H])[H])[H])[H]': ['c1ccc(cc1)[c@h]2c3ccccc3ccn2c(=o)o[c@h]4c[nh+]5ccc4cc5-0',\n",
       "              'c1ccc(cc1)[c@h]2c3ccccc3ccn2c(=o)o[c@h]4c[nh+]5ccc4cc5-1',\n",
       "              'c1ccc(cc1)[c@h]2c3ccccc3ccn2c(=o)o[c@h]4c[nh+]5ccc4cc5-2',\n",
       "              'c1ccc(cc1)[c@h]2c3ccccc3ccn2c(=o)o[c@h]4c[nh+]5ccc4cc5-3',\n",
       "              'c1ccc(cc1)[c@h]2c3ccccc3ccn2c(=o)o[c@h]4c[nh+]5ccc4cc5-4',\n",
       "              'c1ccc(cc1)[c@h]2c3ccccc3ccn2c(=o)o[c@h]4c[nh+]5ccc4cc5-5',\n",
       "              'c1ccc(cc1)[c@h]2c3ccccc3ccn2c(=o)o[c@h]4c[nh+]5ccc4cc5-6',\n",
       "              'c1ccc(cc1)[c@h]2c3ccccc3ccn2c(=o)o[c@h]4c[nh+]5ccc4cc5-7'],\n",
       "             '[H]c1c(c(c(c(c1[H])[H])[C@]2(c3c(c(c(c(c3C(C(N2C(=O)O[C@]4(C(N5C(C(C4(C(C5([H])[H])([H])[H])[H])([H])[H])([H])[H])([H])[H])[H])([H])[H])([H])[H])[H])[H])[H])[H])[H])[H])[H]': ['c1ccc(cc1)[c@h]2c3ccccc3ccn2c(=o)o[c@h]4cn5ccc4cc5-0',\n",
       "              'c1ccc(cc1)[c@h]2c3ccccc3ccn2c(=o)o[c@h]4cn5ccc4cc5-1',\n",
       "              'c1ccc(cc1)[c@h]2c3ccccc3ccn2c(=o)o[c@h]4cn5ccc4cc5-2',\n",
       "              'c1ccc(cc1)[c@h]2c3ccccc3ccn2c(=o)o[c@h]4cn5ccc4cc5-3',\n",
       "              'c1ccc(cc1)[c@h]2c3ccccc3ccn2c(=o)o[c@h]4cn5ccc4cc5-4',\n",
       "              'c1ccc(cc1)[c@h]2c3ccccc3ccn2c(=o)o[c@h]4cn5ccc4cc5-5',\n",
       "              'c1ccc(cc1)[c@h]2c3ccccc3ccn2c(=o)o[c@h]4cn5ccc4cc5-6',\n",
       "              'c1ccc(cc1)[c@h]2c3ccccc3ccn2c(=o)o[c@h]4cn5ccc4cc5-7'],\n",
       "             '[H]C1=NC2=C(N1C([H])([H])OC([H])(C([H])([H])O[H])C([H])([H])O[H])N=C(N(C2=O)[H])N([H])[H]': ['c1nc2c(=o)[nh]c(nc2n1coc(co)co)n-0',\n",
       "              'c1nc2c(=o)[nh]c(nc2n1coc(co)co)n-1',\n",
       "              'c1nc2c(=o)[nh]c(nc2n1coc(co)co)n-2',\n",
       "              'c1nc2c(=o)[nh]c(nc2n1coc(co)co)n-3',\n",
       "              'c1nc2c(=o)[nh]c(nc2n1coc(co)co)n-4',\n",
       "              'c1nc2c(=o)[nh]c(nc2n1coc(co)co)n-5',\n",
       "              'c1nc2c(=o)[nh]c(nc2n1coc(co)co)n-6',\n",
       "              'c1nc2c(=o)[nh]c(nc2n1coc(co)co)n-7',\n",
       "              'c1nc2c(=o)[nh]c(nc2n1coc(co)co)n-8',\n",
       "              'c1nc2c(=o)[nh]c(nc2n1coc(co)co)n-9',\n",
       "              'c1nc2c(=o)[nh]c(nc2n1coc(co)co)n-10',\n",
       "              'c1nc2c(=o)[nh]c(nc2n1coc(co)co)n-11',\n",
       "              'c1nc2c(=o)[nh]c(nc2n1coc(co)co)n-12',\n",
       "              'c1nc2c(=o)[nh]c(nc2n1coc(co)co)n-13',\n",
       "              'c1nc2c(=o)[nh]c(nc2n1coc(co)co)n-14'],\n",
       "             '[H]c1c(c(c(c(c1C(C#N)(C([H])([H])[H])C([H])([H])[H])[H])C(C#N)(C([H])([H])[H])C([H])([H])[H])[H])C([H])([H])N2C(=NC(=N2)[H])[H]': ['cc(c)(c#n)c1cc(cc(c1)c(c)(c)c#n)cn2cncn2-0',\n",
       "              'cc(c)(c#n)c1cc(cc(c1)c(c)(c)c#n)cn2cncn2-1',\n",
       "              'cc(c)(c#n)c1cc(cc(c1)c(c)(c)c#n)cn2cncn2-2',\n",
       "              'cc(c)(c#n)c1cc(cc(c1)c(c)(c)c#n)cn2cncn2-3',\n",
       "              'cc(c)(c#n)c1cc(cc(c1)c(c)(c)c#n)cn2cncn2-4',\n",
       "              'cc(c)(c#n)c1cc(cc(c1)c(c)(c)c#n)cn2cncn2-5',\n",
       "              'cc(c)(c#n)c1cc(cc(c1)c(c)(c)c#n)cn2cncn2-6',\n",
       "              'cc(c)(c#n)c1cc(cc(c1)c(c)(c)c#n)cn2cncn2-7',\n",
       "              'cc(c)(c#n)c1cc(cc(c1)c(c)(c)c#n)cn2cncn2-8',\n",
       "              'cc(c)(c#n)c1cc(cc(c1)c(c)(c)c#n)cn2cncn2-9',\n",
       "              'cc(c)(c#n)c1cc(cc(c1)c(c)(c)c#n)cn2cncn2-10',\n",
       "              'cc(c)(c#n)c1cc(cc(c1)c(c)(c)c#n)cn2cncn2-11',\n",
       "              'cc(c)(c#n)c1cc(cc(c1)c(c)(c)c#n)cn2cncn2-12',\n",
       "              'cc(c)(c#n)c1cc(cc(c1)c(c)(c)c#n)cn2cncn2-13',\n",
       "              'cc(c)(c#n)c1cc(cc(c1)c(c)(c)c#n)cn2cncn2-14',\n",
       "              'cc(c)(c#n)c1cc(cc(c1)c(c)(c)c#n)cn2cncn2-15',\n",
       "              'cc(c)(c#n)c1cc(cc(c1)c(c)(c)c#n)cn2cncn2-16',\n",
       "              'cc(c)(c#n)c1cc(cc(c1)c(c)(c)c#n)cn2cncn2-17',\n",
       "              'cc(c)(c#n)c1cc(cc(c1)c(c)(c)c#n)cn2cncn2-18',\n",
       "              'cc(c)(c#n)c1cc(cc(c1)c(c)(c)c#n)cn2cncn2-19'],\n",
       "             '[H]c1c(c(c(c2c1C([C@@]3([C@]([C@]2(C(C([N@+]3([H])C([H])([H])C(=C(C([H])([H])[H])C([H])([H])[H])[H])([H])[H])([H])[H])C([H])([H])[H])([H])C([H])([H])[H])[H])([H])[H])[H])O[H])[H]': ['c[c@h]1[c@h]2cc3ccc(cc3[c@@]1(cc[n@@h+]2cc=c(c)c)c)o-0',\n",
       "              'c[c@h]1[c@h]2cc3ccc(cc3[c@@]1(cc[n@@h+]2cc=c(c)c)c)o-1',\n",
       "              'c[c@h]1[c@h]2cc3ccc(cc3[c@@]1(cc[n@@h+]2cc=c(c)c)c)o-2',\n",
       "              'c[c@h]1[c@h]2cc3ccc(cc3[c@@]1(cc[n@@h+]2cc=c(c)c)c)o-3'],\n",
       "             '[H]c1c(c(c(c2c1C([C@@]3([C@]([C@]2(C(C([N@@+]3([H])C([H])([H])C(=C(C([H])([H])[H])C([H])([H])[H])[H])([H])[H])([H])[H])C([H])([H])[H])([H])C([H])([H])[H])[H])([H])[H])[H])O[H])[H]': ['c[c@h]1[c@h]2cc3ccc(cc3[c@@]1(cc[n@h+]2cc=c(c)c)c)o-0',\n",
       "              'c[c@h]1[c@h]2cc3ccc(cc3[c@@]1(cc[n@h+]2cc=c(c)c)c)o-1',\n",
       "              'c[c@h]1[c@h]2cc3ccc(cc3[c@@]1(cc[n@h+]2cc=c(c)c)c)o-2',\n",
       "              'c[c@h]1[c@h]2cc3ccc(cc3[c@@]1(cc[n@h+]2cc=c(c)c)c)o-3'],\n",
       "             '[H]c1c(c(c(c(c1[H])C(=O)[O-])N([H])c2c(c(c(c(c2Cl)C([H])([H])[H])[H])[H])Cl)[H])[H]': ['cc1ccc(c(c1cl)nc2ccccc2c(=o)[o-])cl-0',\n",
       "              'cc1ccc(c(c1cl)nc2ccccc2c(=o)[o-])cl-1',\n",
       "              'cc1ccc(c(c1cl)nc2ccccc2c(=o)[o-])cl-2',\n",
       "              'cc1ccc(c(c1cl)nc2ccccc2c(=o)[o-])cl-3',\n",
       "              'cc1ccc(c(c1cl)nc2ccccc2c(=o)[o-])cl-4',\n",
       "              'cc1ccc(c(c1cl)nc2ccccc2c(=o)[o-])cl-5'],\n",
       "             '[H]c1c(c(c(c(c1C(=O)N([H])C([H])([H])C(=O)[O-])[H])[H])N([H])[H])[H]': ['c1cc(ccc1c(=o)ncc(=o)[o-])n-0'],\n",
       "             '[H]c1c(c(c(c2c1nc(c(n2)[H])[H])Br)N([H])[C+]3N(C(C(N3[H])([H])[H])([H])[H])[H])[H]': ['c1cc(c(c2c1nccn2)br)n[c+]3nccn3-0',\n",
       "              'c1cc(c(c2c1nccn2)br)n[c+]3nccn3-1'],\n",
       "             '[H]c1c(c(c(c2c1nc(c(n2)[H])[H])Br)N([H])C3=NC(C(N3[H])([H])[H])([H])[H])[H]': ['c1cc(c(c2c1nccn2)br)nc3=nccn3-0',\n",
       "              'c1cc(c(c2c1nccn2)br)nc3=nccn3-1'],\n",
       "             '[H]c1c(c(nc(c1[H])[C@@]([H])(c2c(c(c(c(c2[H])[H])Br)[H])[H])C([H])([H])C([H])([H])[N+]([H])(C([H])([H])[H])C([H])([H])[H])[H])[H]': ['c[nh+](c)cc[c@h](c1ccc(cc1)br)c2ccccn2-0',\n",
       "              'c[nh+](c)cc[c@h](c1ccc(cc1)br)c2ccccn2-1',\n",
       "              'c[nh+](c)cc[c@h](c1ccc(cc1)br)c2ccccn2-2',\n",
       "              'c[nh+](c)cc[c@h](c1ccc(cc1)br)c2ccccn2-3',\n",
       "              'c[nh+](c)cc[c@h](c1ccc(cc1)br)c2ccccn2-4',\n",
       "              'c[nh+](c)cc[c@h](c1ccc(cc1)br)c2ccccn2-5',\n",
       "              'c[nh+](c)cc[c@h](c1ccc(cc1)br)c2ccccn2-6',\n",
       "              'c[nh+](c)cc[c@h](c1ccc(cc1)br)c2ccccn2-7'],\n",
       "             '[H]C([H])([H])C(=O)OC([H])([H])C([H])([H])[N+](C([H])([H])[H])(C([H])([H])[H])C([H])([H])[H]': ['cc(=o)occ[n+](c)(c)c-0',\n",
       "              'cc(=o)occ[n+](c)(c)c-1',\n",
       "              'cc(=o)occ[n+](c)(c)c-2'],\n",
       "             '[H]c1c(c(c(c(c1I)Oc2c(c(c(c(c2[H])I)O[H])I)[H])I)[H])C([H])([H])[C@@]([H])(C(=O)[O-])[N+]([H])([H])[H]': ['c1c(cc(c(c1i)oc2cc(c(c(c2)i)o)i)i)c[c@@h](c(=o)[o-])[nh3+]-0',\n",
       "              'c1c(cc(c(c1i)oc2cc(c(c(c2)i)o)i)i)c[c@@h](c(=o)[o-])[nh3+]-1',\n",
       "              'c1c(cc(c(c1i)oc2cc(c(c(c2)i)o)i)i)c[c@@h](c(=o)[o-])[nh3+]-2',\n",
       "              'c1c(cc(c(c1i)oc2cc(c(c(c2)i)o)i)i)c[c@@h](c(=o)[o-])[nh3+]-3',\n",
       "              'c1c(cc(c(c1i)oc2cc(c(c(c2)i)o)i)i)c[c@@h](c(=o)[o-])[nh3+]-4',\n",
       "              'c1c(cc(c(c1i)oc2cc(c(c(c2)i)o)i)i)c[c@@h](c(=o)[o-])[nh3+]-5',\n",
       "              'c1c(cc(c(c1i)oc2cc(c(c(c2)i)o)i)i)c[c@@h](c(=o)[o-])[nh3+]-6',\n",
       "              'c1c(cc(c(c1i)oc2cc(c(c(c2)i)o)i)i)c[c@@h](c(=o)[o-])[nh3+]-7',\n",
       "              'c1c(cc(c(c1i)oc2cc(c(c(c2)i)o)i)i)c[c@@h](c(=o)[o-])[nh3+]-8',\n",
       "              'c1c(cc(c(c1i)oc2cc(c(c(c2)i)o)i)i)c[c@@h](c(=o)[o-])[nh3+]-9',\n",
       "              'c1c(cc(c(c1i)oc2cc(c(c(c2)i)o)i)i)c[c@@h](c(=o)[o-])[nh3+]-10',\n",
       "              'c1c(cc(c(c1i)oc2cc(c(c(c2)i)o)i)i)c[c@@h](c(=o)[o-])[nh3+]-11'],\n",
       "             '[H][C@@](C(=O)[O-])(C([H])([H])[H])O[H]': ['c[c@@h](c(=o)[o-])o-0'],\n",
       "             '[H]C([H])(C([H])([H])C(O[H])(P(=O)([O-])[O-])P(=O)([O-])[O-])C([H])([H])[N+]([H])([H])[H]': ['c(cc(o)(p(=o)([o-])[o-])p(=o)([o-])[o-])c[nh3+]-0',\n",
       "              'c(cc(o)(p(=o)([o-])[o-])p(=o)([o-])[o-])c[nh3+]-2'],\n",
       "             '[H]C([H])(C([H])([H])C(O[H])(P(=O)([O-])O[H])P(=O)([O-])O[H])C([H])([H])[N+]([H])([H])[H]': ['c(cc(o)([p@](=o)(o)[o-])[p@](=o)(o)[o-])c[nh3+]-0',\n",
       "              'c(cc(o)([p@](=o)(o)[o-])[p@](=o)(o)[o-])c[nh3+]-1',\n",
       "              'c(cc(o)([p@](=o)(o)[o-])[p@](=o)(o)[o-])c[nh3+]-2',\n",
       "              'c(cc(o)([p@](=o)(o)[o-])[p@](=o)(o)[o-])c[nh3+]-3',\n",
       "              'c(cc(o)([p@](=o)(o)[o-])[p@](=o)(o)[o-])c[nh3+]-4',\n",
       "              'c(cc(o)([p@](=o)(o)[o-])[p@](=o)(o)[o-])c[nh3+]-5',\n",
       "              'c(cc(o)([p@](=o)(o)[o-])[p@](=o)(o)[o-])c[nh3+]-6',\n",
       "              'c(cc(o)([p@](=o)(o)[o-])[p@](=o)(o)[o-])c[nh3+]-7',\n",
       "              'c(cc(o)([p@](=o)(o)[o-])[p@](=o)(o)[o-])c[nh3+]-8',\n",
       "              'c(cc(o)([p@](=o)(o)[o-])[p@](=o)(o)[o-])c[nh3+]-9',\n",
       "              'c(cc(o)([p@](=o)(o)[o-])[p@](=o)(o)[o-])c[nh3+]-10',\n",
       "              'c(cc(o)([p@](=o)(o)[o-])[p@](=o)(o)[o-])c[nh3+]-11',\n",
       "              'c(cc(o)([p@](=o)(o)[o-])[p@](=o)(o)[o-])c[nh3+]-12',\n",
       "              'c(cc(o)([p@](=o)(o)[o-])[p@](=o)(o)[o-])c[nh3+]-13',\n",
       "              'c(cc(o)([p@](=o)(o)[o-])[p@](=o)(o)[o-])c[nh3+]-14',\n",
       "              'c(cc(o)([p@](=o)(o)[o-])[p@](=o)(o)[o-])c[nh3+]-15',\n",
       "              'c(cc(o)([p@](=o)(o)[o-])[p@](=o)(o)[o-])c[nh3+]-16',\n",
       "              'c(cc(o)([p@](=o)(o)[o-])[p@](=o)(o)[o-])c[nh3+]-17',\n",
       "              'c(cc(o)([p@](=o)(o)[o-])[p@](=o)(o)[o-])c[nh3+]-18',\n",
       "              'c(cc(o)([p@](=o)(o)[o-])[p@](=o)(o)[o-])c[nh3+]-19',\n",
       "              'c(cc(o)([p@@](=o)(o)[o-])[p@](=o)(o)[o-])c[nh3+]-0',\n",
       "              'c(cc(o)([p@@](=o)(o)[o-])[p@](=o)(o)[o-])c[nh3+]-1',\n",
       "              'c(cc(o)([p@@](=o)(o)[o-])[p@](=o)(o)[o-])c[nh3+]-2',\n",
       "              'c(cc(o)([p@@](=o)(o)[o-])[p@](=o)(o)[o-])c[nh3+]-3',\n",
       "              'c(cc(o)([p@@](=o)(o)[o-])[p@](=o)(o)[o-])c[nh3+]-4',\n",
       "              'c(cc(o)([p@@](=o)(o)[o-])[p@](=o)(o)[o-])c[nh3+]-5',\n",
       "              'c(cc(o)([p@@](=o)(o)[o-])[p@](=o)(o)[o-])c[nh3+]-6',\n",
       "              'c(cc(o)([p@@](=o)(o)[o-])[p@](=o)(o)[o-])c[nh3+]-7',\n",
       "              'c(cc(o)([p@@](=o)(o)[o-])[p@](=o)(o)[o-])c[nh3+]-8',\n",
       "              'c(cc(o)([p@@](=o)(o)[o-])[p@](=o)(o)[o-])c[nh3+]-9',\n",
       "              'c(cc(o)([p@@](=o)(o)[o-])[p@](=o)(o)[o-])c[nh3+]-10',\n",
       "              'c(cc(o)([p@@](=o)(o)[o-])[p@](=o)(o)[o-])c[nh3+]-11',\n",
       "              'c(cc(o)([p@@](=o)(o)[o-])[p@](=o)(o)[o-])c[nh3+]-12',\n",
       "              'c(cc(o)([p@@](=o)(o)[o-])[p@](=o)(o)[o-])c[nh3+]-13',\n",
       "              'c(cc(o)([p@@](=o)(o)[o-])[p@](=o)(o)[o-])c[nh3+]-14',\n",
       "              'c(cc(o)([p@@](=o)(o)[o-])[p@](=o)(o)[o-])c[nh3+]-15',\n",
       "              'c(cc(o)([p@@](=o)(o)[o-])[p@](=o)(o)[o-])c[nh3+]-16',\n",
       "              'c(cc(o)([p@@](=o)(o)[o-])[p@](=o)(o)[o-])c[nh3+]-17',\n",
       "              'c(cc(o)([p@@](=o)(o)[o-])[p@](=o)(o)[o-])c[nh3+]-18',\n",
       "              'c(cc(o)([p@@](=o)(o)[o-])[p@](=o)(o)[o-])c[nh3+]-19'],\n",
       "             '[H][C@@](C(=O)[O-])(C([H])([H])[H])[N+]([H])([H])[H]': ['c[c@@h](c(=o)[o-])[nh3+]-0'],\n",
       "             '[H][C@@](C([H])([H])C(=O)[O-])(C([H])([H])[N+](C([H])([H])[H])(C([H])([H])[H])C([H])([H])[H])O[H]': ['c[n+](c)(c)c[c@@h](cc(=o)[o-])o-0',\n",
       "              'c[n+](c)(c)c[c@@h](cc(=o)[o-])o-1',\n",
       "              'c[n+](c)(c)c[c@@h](cc(=o)[o-])o-2',\n",
       "              'c[n+](c)(c)c[c@@h](cc(=o)[o-])o-3',\n",
       "              'c[n+](c)(c)c[c@@h](cc(=o)[o-])o-4'],\n",
       "             '[H]C1=C([C@]2(C(=C(C1=O)[H])[C@@](C([C@@]3([C@@]2([C@@](C([C@]4([C@]3(C([C@@]([C@@]4(C(=O)SC([H])([H])F)OC(=O)C([H])([H])C([H])([H])[H])([H])C([H])([H])[H])([H])[H])[H])C([H])([H])[H])([H])[H])([H])O[H])F)[H])([H])[H])([H])F)C([H])([H])[H])[H]': ['ccc(=o)o[c@@]1([c@@h](c[c@@h]2[c@@]1(c[c@@h]([c@]3([c@h]2c[c@@h](c4=cc(=o)c=c[c@@]43c)f)f)o)c)c)c(=o)scf-0',\n",
       "              'ccc(=o)o[c@@]1([c@@h](c[c@@h]2[c@@]1(c[c@@h]([c@]3([c@h]2c[c@@h](c4=cc(=o)c=c[c@@]43c)f)f)o)c)c)c(=o)scf-1',\n",
       "              'ccc(=o)o[c@@]1([c@@h](c[c@@h]2[c@@]1(c[c@@h]([c@]3([c@h]2c[c@@h](c4=cc(=o)c=c[c@@]43c)f)f)o)c)c)c(=o)scf-2'],\n",
       "             '[H]c1c(c(c2c(c1[H])C(=C(N2[H])[H])C([H])([H])[C@@]([H])(C(=O)[O-])[N+]([H])([H])[H])[H])[H]': ['c1ccc2c(c1)c(c[nh]2)c[c@@h](c(=o)[o-])[nh3+]-0',\n",
       "              'c1ccc2c(c1)c(c[nh]2)c[c@@h](c(=o)[o-])[nh3+]-1',\n",
       "              'c1ccc2c(c1)c(c[nh]2)c[c@@h](c(=o)[o-])[nh3+]-2',\n",
       "              'c1ccc2c(c1)c(c[nh]2)c[c@@h](c(=o)[o-])[nh3+]-3',\n",
       "              'c1ccc2c(c1)c(c[nh]2)c[c@@h](c(=o)[o-])[nh3+]-4',\n",
       "              'c1ccc2c(c1)c(c[nh]2)c[c@@h](c(=o)[o-])[nh3+]-5'],\n",
       "             '[H]C1=C(N=C(N1[H])[H])C([H])([H])C([H])([H])[N+]([H])([H])[H]': ['c1c(nc[nh]1)cc[nh3+]-0',\n",
       "              'c1c(nc[nh]1)cc[nh3+]-1'],\n",
       "             '[H]C1=C(N([C+](N1[H])[H])[H])C([H])([H])C([H])([H])[N+]([H])([H])[H]': ['c1c([nh][ch+][nh]1)cc[nh3+]-0',\n",
       "              'c1c([nh][ch+][nh]1)cc[nh3+]-1',\n",
       "              'c1c([nh][ch+][nh]1)cc[nh3+]-2',\n",
       "              'c1c([nh][ch+][nh]1)cc[nh3+]-3'],\n",
       "             '[H]c1c(c(c(c(c1[H])[H])C2=N[C@](C(=O)N(c3c2c(c(c(c3[H])[H])Cl)[H])[H])([H])O[H])[H])[H]': ['c1ccc(cc1)c2=n[c@@h](c(=o)nc3c2cc(cc3)cl)o-0',\n",
       "              'c1ccc(cc1)c2=n[c@@h](c(=o)nc3c2cc(cc3)cl)o-1'],\n",
       "             '[H]c1c(c(c(c(c1[H])[H])C([H])([H])C(=O)[O-])[H])[H]': ['c1ccc(cc1)cc(=o)[o-]-0'],\n",
       "             '[H]c1c(c(c(c(c1C([H])([H])[C@@]([H])(C(=O)[O-])[N+]([H])([H])[H])[H])[H])O[H])[H]': ['c1cc(ccc1c[c@@h](c(=o)[o-])[nh3+])o-0',\n",
       "              'c1cc(ccc1c[c@@h](c(=o)[o-])[nh3+])o-1',\n",
       "              'c1cc(ccc1c[c@@h](c(=o)[o-])[nh3+])o-2',\n",
       "              'c1cc(ccc1c[c@@h](c(=o)[o-])[nh3+])o-3'],\n",
       "             '[H]c1c(c(c2c3c1C([C@@]4([C@]5([C@@]3([C@@](O2)([C@@](C(=C5[H])[H])([H])O[H])[H])C(C([N@@+]4([H])C([H])([H])[H])([H])[H])([H])[H])[H])[H])([H])[H])O[H])[H]': ['c[n@@h+]1cc[c@]23c4c5ccc(c4o[c@h]2[c@h](c=c[c@h]3[c@h]1c5)o)o-0'],\n",
       "             '[H]c1c(c(c2c3c1C([C@@]4([C@]5([C@@]3([C@@](O2)([C@@](C(=C5[H])[H])([H])O[H])[H])C(C([N@+]4([H])C([H])([H])[H])([H])[H])([H])[H])[H])[H])([H])[H])O[H])[H]': ['c[n@h+]1cc[c@]23c4c5ccc(c4o[c@h]2[c@h](c=c[c@h]3[c@h]1c5)o)o-0'],\n",
       "             '[H]c1c(c(c(c(c1C([H])([H])[H])[H])OC([H])([H])[C@]2(C(N(C(=O)O2)[H])([H])[H])[H])[H])C([H])([H])[H]': ['cc1cc(cc(c1)oc[c@h]2cnc(=o)o2)c-0',\n",
       "              'cc1cc(cc(c1)oc[c@h]2cnc(=o)o2)c-1',\n",
       "              'cc1cc(cc(c1)oc[c@h]2cnc(=o)o2)c-2',\n",
       "              'cc1cc(cc(c1)oc[c@h]2cnc(=o)o2)c-3',\n",
       "              'cc1cc(cc(c1)oc[c@h]2cnc(=o)o2)c-4',\n",
       "              'cc1cc(cc(c1)oc[c@h]2cnc(=o)o2)c-5',\n",
       "              'cc1cc(cc(c1)oc[c@h]2cnc(=o)o2)c-6',\n",
       "              'cc1cc(cc(c1)oc[c@h]2cnc(=o)o2)c-7'],\n",
       "             '[H]C1=C(N(C(=[N+]([H])[H])S1)[H])/C(=N/[O-])/C(=O)N([H])[C@@]2(C(=O)N3[C@@]2(SC(C(=C3C(=O)[O-])C(=C([H])[H])[H])([H])[H])[H])[H]': ['c=cc1=c(n2[c@@h]([c@@h](c2=o)nc(=o)/c(=n\\\\[o-])/c3csc(=[nh2+])[nh]3)sc1)c(=o)[o-]-0',\n",
       "              'c=cc1=c(n2[c@@h]([c@@h](c2=o)nc(=o)/c(=n\\\\[o-])/c3csc(=[nh2+])[nh]3)sc1)c(=o)[o-]-1',\n",
       "              'c=cc1=c(n2[c@@h]([c@@h](c2=o)nc(=o)/c(=n\\\\[o-])/c3csc(=[nh2+])[nh]3)sc1)c(=o)[o-]-2',\n",
       "              'c=cc1=c(n2[c@@h]([c@@h](c2=o)nc(=o)/c(=n\\\\[o-])/c3csc(=[nh2+])[nh]3)sc1)c(=o)[o-]-3',\n",
       "              'c=cc1=c(n2[c@@h]([c@@h](c2=o)nc(=o)/c(=n\\\\[o-])/c3csc(=[nh2+])[nh]3)sc1)c(=o)[o-]-4',\n",
       "              'c=cc1=c(n2[c@@h]([c@@h](c2=o)nc(=o)/c(=n\\\\[o-])/c3csc(=[nh2+])[nh]3)sc1)c(=o)[o-]-5',\n",
       "              'c=cc1=c(n2[c@@h]([c@@h](c2=o)nc(=o)/c(=n\\\\[o-])/c3csc(=[nh2+])[nh]3)sc1)c(=o)[o-]-6',\n",
       "              'c=cc1=c(n2[c@@h]([c@@h](c2=o)nc(=o)/c(=n\\\\[o-])/c3csc(=[nh2+])[nh]3)sc1)c(=o)[o-]-7',\n",
       "              'c=cc1=c(n2[c@@h]([c@@h](c2=o)nc(=o)/c(=n\\\\[o-])/c3csc(=[nh2+])[nh]3)sc1)c(=o)[o-]-8',\n",
       "              'c=cc1=c(n2[c@@h]([c@@h](c2=o)nc(=o)/c(=n\\\\[o-])/c3csc(=[nh2+])[nh]3)sc1)c(=o)[o-]-9',\n",
       "              'c=cc1=c(n2[c@@h]([c@@h](c2=o)nc(=o)/c(=n\\\\[o-])/c3csc(=[nh2+])[nh]3)sc1)c(=o)[o-]-10',\n",
       "              'c=cc1=c(n2[c@@h]([c@@h](c2=o)nc(=o)/c(=n\\\\[o-])/c3csc(=[nh2+])[nh]3)sc1)c(=o)[o-]-11',\n",
       "              'c=cc1=c(n2[c@@h]([c@@h](c2=o)nc(=o)/c(=n\\\\[o-])/c3csc(=[nh2+])[nh]3)sc1)c(=o)[o-]-12',\n",
       "              'c=cc1=c(n2[c@@h]([c@@h](c2=o)nc(=o)/c(=n\\\\[o-])/c3csc(=[nh2+])[nh]3)sc1)c(=o)[o-]-13',\n",
       "              'c=cc1=c(n2[c@@h]([c@@h](c2=o)nc(=o)/c(=n\\\\[o-])/c3csc(=[nh2+])[nh]3)sc1)c(=o)[o-]-14',\n",
       "              'c=cc1=c(n2[c@@h]([c@@h](c2=o)nc(=o)/c(=n\\\\[o-])/c3csc(=[nh2+])[nh]3)sc1)c(=o)[o-]-15',\n",
       "              'c=cc1=c(n2[c@@h]([c@@h](c2=o)nc(=o)/c(=n\\\\[o-])/c3csc(=[nh2+])[nh]3)sc1)c(=o)[o-]-16',\n",
       "              'c=cc1=c(n2[c@@h]([c@@h](c2=o)nc(=o)/c(=n\\\\[o-])/c3csc(=[nh2+])[nh]3)sc1)c(=o)[o-]-17',\n",
       "              'c=cc1=c(n2[c@@h]([c@@h](c2=o)nc(=o)/c(=n\\\\[o-])/c3csc(=[nh2+])[nh]3)sc1)c(=o)[o-]-18',\n",
       "              'c=cc1=c(n2[c@@h]([c@@h](c2=o)nc(=o)/c(=n\\\\[o-])/c3csc(=[nh2+])[nh]3)sc1)c(=o)[o-]-19'],\n",
       "             '[H]C1=C(N=C(S1)N([H])[H])/C(=N/[O-])/C(=O)N([H])[C@@]2(C(=O)N3[C@@]2(SC(C(=C3C(=O)[O-])C(=C([H])[H])[H])([H])[H])[H])[H]': ['c=cc1=c(n2[c@@h]([c@@h](c2=o)nc(=o)/c(=n\\\\[o-])/c3csc(n3)n)sc1)c(=o)[o-]-0',\n",
       "              'c=cc1=c(n2[c@@h]([c@@h](c2=o)nc(=o)/c(=n\\\\[o-])/c3csc(n3)n)sc1)c(=o)[o-]-1',\n",
       "              'c=cc1=c(n2[c@@h]([c@@h](c2=o)nc(=o)/c(=n\\\\[o-])/c3csc(n3)n)sc1)c(=o)[o-]-2',\n",
       "              'c=cc1=c(n2[c@@h]([c@@h](c2=o)nc(=o)/c(=n\\\\[o-])/c3csc(n3)n)sc1)c(=o)[o-]-3',\n",
       "              'c=cc1=c(n2[c@@h]([c@@h](c2=o)nc(=o)/c(=n\\\\[o-])/c3csc(n3)n)sc1)c(=o)[o-]-4',\n",
       "              'c=cc1=c(n2[c@@h]([c@@h](c2=o)nc(=o)/c(=n\\\\[o-])/c3csc(n3)n)sc1)c(=o)[o-]-5',\n",
       "              'c=cc1=c(n2[c@@h]([c@@h](c2=o)nc(=o)/c(=n\\\\[o-])/c3csc(n3)n)sc1)c(=o)[o-]-6',\n",
       "              'c=cc1=c(n2[c@@h]([c@@h](c2=o)nc(=o)/c(=n\\\\[o-])/c3csc(n3)n)sc1)c(=o)[o-]-7',\n",
       "              'c=cc1=c(n2[c@@h]([c@@h](c2=o)nc(=o)/c(=n\\\\[o-])/c3csc(n3)n)sc1)c(=o)[o-]-8',\n",
       "              'c=cc1=c(n2[c@@h]([c@@h](c2=o)nc(=o)/c(=n\\\\[o-])/c3csc(n3)n)sc1)c(=o)[o-]-9',\n",
       "              'c=cc1=c(n2[c@@h]([c@@h](c2=o)nc(=o)/c(=n\\\\[o-])/c3csc(n3)n)sc1)c(=o)[o-]-10',\n",
       "              'c=cc1=c(n2[c@@h]([c@@h](c2=o)nc(=o)/c(=n\\\\[o-])/c3csc(n3)n)sc1)c(=o)[o-]-11',\n",
       "              'c=cc1=c(n2[c@@h]([c@@h](c2=o)nc(=o)/c(=n\\\\[o-])/c3csc(n3)n)sc1)c(=o)[o-]-12',\n",
       "              'c=cc1=c(n2[c@@h]([c@@h](c2=o)nc(=o)/c(=n\\\\[o-])/c3csc(n3)n)sc1)c(=o)[o-]-13',\n",
       "              'c=cc1=c(n2[c@@h]([c@@h](c2=o)nc(=o)/c(=n\\\\[o-])/c3csc(n3)n)sc1)c(=o)[o-]-14',\n",
       "              'c=cc1=c(n2[c@@h]([c@@h](c2=o)nc(=o)/c(=n\\\\[o-])/c3csc(n3)n)sc1)c(=o)[o-]-15',\n",
       "              'c=cc1=c(n2[c@@h]([c@@h](c2=o)nc(=o)/c(=n\\\\[o-])/c3csc(n3)n)sc1)c(=o)[o-]-16',\n",
       "              'c=cc1=c(n2[c@@h]([c@@h](c2=o)nc(=o)/c(=n\\\\[o-])/c3csc(n3)n)sc1)c(=o)[o-]-17',\n",
       "              'c=cc1=c(n2[c@@h]([c@@h](c2=o)nc(=o)/c(=n\\\\[o-])/c3csc(n3)n)sc1)c(=o)[o-]-18',\n",
       "              'c=cc1=c(n2[c@@h]([c@@h](c2=o)nc(=o)/c(=n\\\\[o-])/c3csc(n3)n)sc1)c(=o)[o-]-19'],\n",
       "             '[H]C1=Nc2c(nc(nc2N([H])[H])F)N1[C@]3([C@@]([C@]([C@@](O3)([H])C([H])([H])OP(=O)([O-])[O-])([H])O[H])([H])O[H])[H]': ['c1nc2c(nc(nc2n1[c@h]3[c@h]([c@@h]([c@h](o3)cop(=o)([o-])[o-])o)o)f)n-12',\n",
       "              'c1nc2c(nc(nc2n1[c@h]3[c@h]([c@@h]([c@h](o3)cop(=o)([o-])[o-])o)o)f)n-15',\n",
       "              'c1nc2c(nc(nc2n1[c@h]3[c@h]([c@@h]([c@h](o3)cop(=o)([o-])[o-])o)o)f)n-18'],\n",
       "             '[H]C1=Nc2c(nc(nc2N([H])[H])F)N1[C@]3([C@@]([C@]([C@@](O3)([H])C([H])([H])OP(=O)([O-])O[H])([H])O[H])([H])O[H])[H]': ['c1nc2c(nc(nc2n1[c@h]3[c@h]([c@@h]([c@h](o3)co[p@](=o)(o)[o-])o)o)f)n-0',\n",
       "              'c1nc2c(nc(nc2n1[c@h]3[c@h]([c@@h]([c@h](o3)co[p@](=o)(o)[o-])o)o)f)n-1',\n",
       "              'c1nc2c(nc(nc2n1[c@h]3[c@h]([c@@h]([c@h](o3)co[p@](=o)(o)[o-])o)o)f)n-2',\n",
       "              'c1nc2c(nc(nc2n1[c@h]3[c@h]([c@@h]([c@h](o3)co[p@](=o)(o)[o-])o)o)f)n-4',\n",
       "              'c1nc2c(nc(nc2n1[c@h]3[c@h]([c@@h]([c@h](o3)co[p@](=o)(o)[o-])o)o)f)n-5',\n",
       "              'c1nc2c(nc(nc2n1[c@h]3[c@h]([c@@h]([c@h](o3)co[p@](=o)(o)[o-])o)o)f)n-6',\n",
       "              'c1nc2c(nc(nc2n1[c@h]3[c@h]([c@@h]([c@h](o3)co[p@](=o)(o)[o-])o)o)f)n-7',\n",
       "              'c1nc2c(nc(nc2n1[c@h]3[c@h]([c@@h]([c@h](o3)co[p@](=o)(o)[o-])o)o)f)n-8',\n",
       "              'c1nc2c(nc(nc2n1[c@h]3[c@h]([c@@h]([c@h](o3)co[p@](=o)(o)[o-])o)o)f)n-9',\n",
       "              'c1nc2c(nc(nc2n1[c@h]3[c@h]([c@@h]([c@h](o3)co[p@](=o)(o)[o-])o)o)f)n-10',\n",
       "              'c1nc2c(nc(nc2n1[c@h]3[c@h]([c@@h]([c@h](o3)co[p@](=o)(o)[o-])o)o)f)n-11',\n",
       "              'c1nc2c(nc(nc2n1[c@h]3[c@h]([c@@h]([c@h](o3)co[p@](=o)(o)[o-])o)o)f)n-12',\n",
       "              'c1nc2c(nc(nc2n1[c@h]3[c@h]([c@@h]([c@h](o3)co[p@](=o)(o)[o-])o)o)f)n-13',\n",
       "              'c1nc2c(nc(nc2n1[c@h]3[c@h]([c@@h]([c@h](o3)co[p@](=o)(o)[o-])o)o)f)n-14',\n",
       "              'c1nc2c(nc(nc2n1[c@h]3[c@h]([c@@h]([c@h](o3)co[p@](=o)(o)[o-])o)o)f)n-15',\n",
       "              'c1nc2c(nc(nc2n1[c@h]3[c@h]([c@@h]([c@h](o3)co[p@](=o)(o)[o-])o)o)f)n-16',\n",
       "              'c1nc2c(nc(nc2n1[c@h]3[c@h]([c@@h]([c@h](o3)co[p@](=o)(o)[o-])o)o)f)n-17',\n",
       "              'c1nc2c(nc(nc2n1[c@h]3[c@h]([c@@h]([c@h](o3)co[p@](=o)(o)[o-])o)o)f)n-18',\n",
       "              'c1nc2c(nc(nc2n1[c@h]3[c@h]([c@@h]([c@h](o3)co[p@](=o)(o)[o-])o)o)f)n-19',\n",
       "              'c1nc2c(nc(nc2n1[c@h]3[c@h]([c@@h]([c@h](o3)co[p@@](=o)(o)[o-])o)o)f)n-0',\n",
       "              'c1nc2c(nc(nc2n1[c@h]3[c@h]([c@@h]([c@h](o3)co[p@@](=o)(o)[o-])o)o)f)n-1',\n",
       "              'c1nc2c(nc(nc2n1[c@h]3[c@h]([c@@h]([c@h](o3)co[p@@](=o)(o)[o-])o)o)f)n-2',\n",
       "              'c1nc2c(nc(nc2n1[c@h]3[c@h]([c@@h]([c@h](o3)co[p@@](=o)(o)[o-])o)o)f)n-3',\n",
       "              'c1nc2c(nc(nc2n1[c@h]3[c@h]([c@@h]([c@h](o3)co[p@@](=o)(o)[o-])o)o)f)n-4',\n",
       "              'c1nc2c(nc(nc2n1[c@h]3[c@h]([c@@h]([c@h](o3)co[p@@](=o)(o)[o-])o)o)f)n-5',\n",
       "              'c1nc2c(nc(nc2n1[c@h]3[c@h]([c@@h]([c@h](o3)co[p@@](=o)(o)[o-])o)o)f)n-6',\n",
       "              'c1nc2c(nc(nc2n1[c@h]3[c@h]([c@@h]([c@h](o3)co[p@@](=o)(o)[o-])o)o)f)n-7',\n",
       "              'c1nc2c(nc(nc2n1[c@h]3[c@h]([c@@h]([c@h](o3)co[p@@](=o)(o)[o-])o)o)f)n-8',\n",
       "              'c1nc2c(nc(nc2n1[c@h]3[c@h]([c@@h]([c@h](o3)co[p@@](=o)(o)[o-])o)o)f)n-9',\n",
       "              'c1nc2c(nc(nc2n1[c@h]3[c@h]([c@@h]([c@h](o3)co[p@@](=o)(o)[o-])o)o)f)n-10',\n",
       "              'c1nc2c(nc(nc2n1[c@h]3[c@h]([c@@h]([c@h](o3)co[p@@](=o)(o)[o-])o)o)f)n-11',\n",
       "              'c1nc2c(nc(nc2n1[c@h]3[c@h]([c@@h]([c@h](o3)co[p@@](=o)(o)[o-])o)o)f)n-12',\n",
       "              'c1nc2c(nc(nc2n1[c@h]3[c@h]([c@@h]([c@h](o3)co[p@@](=o)(o)[o-])o)o)f)n-13',\n",
       "              'c1nc2c(nc(nc2n1[c@h]3[c@h]([c@@h]([c@h](o3)co[p@@](=o)(o)[o-])o)o)f)n-14',\n",
       "              'c1nc2c(nc(nc2n1[c@h]3[c@h]([c@@h]([c@h](o3)co[p@@](=o)(o)[o-])o)o)f)n-15',\n",
       "              'c1nc2c(nc(nc2n1[c@h]3[c@h]([c@@h]([c@h](o3)co[p@@](=o)(o)[o-])o)o)f)n-16',\n",
       "              'c1nc2c(nc(nc2n1[c@h]3[c@h]([c@@h]([c@h](o3)co[p@@](=o)(o)[o-])o)o)f)n-17',\n",
       "              'c1nc2c(nc(nc2n1[c@h]3[c@h]([c@@h]([c@h](o3)co[p@@](=o)(o)[o-])o)o)f)n-18',\n",
       "              'c1nc2c(nc(nc2n1[c@h]3[c@h]([c@@h]([c@h](o3)co[p@@](=o)(o)[o-])o)o)f)n-19'],\n",
       "             '[H]c1c([n+](c(c(c1N([H])[H])[H])[H])[H])[H]': ['c1c[nh+]ccc1n-0'],\n",
       "             '[H]c1c(nc(c(c1N([H])[H])[H])[H])[H]': ['c1cnccc1n-0'],\n",
       "             '[H]c1c(c(c2c(c1[H])N(c3c(c(c(c(c3S2)[H])[H])Cl)[H])C([H])([H])C([H])([H])C([H])([H])[N+]([H])(C([H])([H])[H])C([H])([H])[H])[H])[H]': ['c[nh+](c)cccn1c2ccccc2sc3c1cc(cc3)cl-0',\n",
       "              'c[nh+](c)cccn1c2ccccc2sc3c1cc(cc3)cl-1',\n",
       "              'c[nh+](c)cccn1c2ccccc2sc3c1cc(cc3)cl-2',\n",
       "              'c[nh+](c)cccn1c2ccccc2sc3c1cc(cc3)cl-3'],\n",
       "             '[H]C1=C(C(=O)[N-]C(=O)N1[H])F': ['c1c(c(=o)[n-]c(=o)[nh]1)f-0'],\n",
       "             '[H]C1=C(C(=O)N(C(=O)N1[H])[H])F': ['c1c(c(=o)[nh]c(=o)[nh]1)f-0'],\n",
       "             '[H]c1c(c2c(c(c(c(c2Cl)[H])I)[O-])nc1[H])[H]': ['c1cc2c(cc(c(c2nc1)[o-])i)cl-0'],\n",
       "             '[H]c1c(c2c(c(c(c(c2Cl)[H])I)O[H])nc1[H])[H]': ['c1cc2c(cc(c(c2nc1)o)i)cl-0'],\n",
       "             '[H]c1c(c(c(c(c1O[H])[H])O[H])[H])[C@@]([H])(C([H])([H])[N+]([H])([H])C([H])(C([H])([H])[H])C([H])([H])[H])O[H]': ['cc(c)[nh2+]c[c@h](c1cc(cc(c1)o)o)o-0',\n",
       "              'cc(c)[nh2+]c[c@h](c1cc(cc(c1)o)o)o-1',\n",
       "              'cc(c)[nh2+]c[c@h](c1cc(cc(c1)o)o)o-2',\n",
       "              'cc(c)[nh2+]c[c@h](c1cc(cc(c1)o)o)o-3',\n",
       "              'cc(c)[nh2+]c[c@h](c1cc(cc(c1)o)o)o-4',\n",
       "              'cc(c)[nh2+]c[c@h](c1cc(cc(c1)o)o)o-5',\n",
       "              'cc(c)[nh2+]c[c@h](c1cc(cc(c1)o)o)o-6',\n",
       "              'cc(c)[nh2+]c[c@h](c1cc(cc(c1)o)o)o-7',\n",
       "              'cc(c)[nh2+]c[c@h](c1cc(cc(c1)o)o)o-8'],\n",
       "             '[H]c1c(c(c(c(c1N([H])[H])[H])[H])S(=O)(=O)[N-]c2nc(c(c(n2)[H])[H])[H])[H]': ['c1cnc(nc1)[n-]s(=o)(=o)c2ccc(cc2)n-0',\n",
       "              'c1cnc(nc1)[n-]s(=o)(=o)c2ccc(cc2)n-1'],\n",
       "             '[H]c1c(c(c(c(c1N([H])[H])[H])[H])S(=O)(=O)N([H])c2nc(c(c(n2)[H])[H])[H])[H]': ['c1cnc(nc1)ns(=o)(=o)c2ccc(cc2)n-0',\n",
       "              'c1cnc(nc1)ns(=o)(=o)c2ccc(cc2)n-1',\n",
       "              'c1cnc(nc1)ns(=o)(=o)c2ccc(cc2)n-2',\n",
       "              'c1cnc(nc1)ns(=o)(=o)c2ccc(cc2)n-3'],\n",
       "             '[H]c1c(c(c(c(c1[H])[H])C(=O)c2c(c(c3c(c2[H])N=C(N3[H])N([H])C(=O)OC([H])([H])[H])[H])[H])[H])[H]': ['coc(=o)nc1[nh]c2ccc(cc2n1)c(=o)c3ccccc3-0',\n",
       "              'coc(=o)nc1[nh]c2ccc(cc2n1)c(=o)c3ccccc3-1',\n",
       "              'coc(=o)nc1[nh]c2ccc(cc2n1)c(=o)c3ccccc3-2',\n",
       "              'coc(=o)nc1[nh]c2ccc(cc2n1)c(=o)c3ccccc3-3',\n",
       "              'coc(=o)nc1[nh]c2ccc(cc2n1)c(=o)c3ccccc3-4',\n",
       "              'coc(=o)nc1[nh]c2ccc(cc2n1)c(=o)c3ccccc3-5'],\n",
       "             '[H]c1c(c(c(c(c1[H])C2=N[C@@](C(=O)N(c3c2c(c(c(c3[H])[H])Cl)[H])[H])([H])O[H])Cl)[H])[H]': ['c1ccc(c(c1)c2=n[c@h](c(=o)nc3c2cc(cc3)cl)o)cl-0',\n",
       "              'c1ccc(c(c1)c2=n[c@h](c(=o)nc3c2cc(cc3)cl)o)cl-1',\n",
       "              'c1ccc(c(c1)c2=n[c@h](c(=o)nc3c2cc(cc3)cl)o)cl-2',\n",
       "              'c1ccc(c(c1)c2=n[c@h](c(=o)nc3c2cc(cc3)cl)o)cl-3'],\n",
       "             '[H]c1c(c(c(c(c1Cl)Cl)C([H])([H])c2c(c(c(c(c2Cl)Cl)[H])Cl)O[H])[O-])Cl': ['c1c(c(c(c(c1cl)cl)cc2c(c(cc(c2cl)cl)cl)[o-])o)cl-0',\n",
       "              'c1c(c(c(c(c1cl)cl)cc2c(c(cc(c2cl)cl)cl)[o-])o)cl-1',\n",
       "              'c1c(c(c(c(c1cl)cl)cc2c(c(cc(c2cl)cl)cl)[o-])o)cl-2',\n",
       "              'c1c(c(c(c(c1cl)cl)cc2c(c(cc(c2cl)cl)cl)[o-])o)cl-3',\n",
       "              'c1c(c(c(c(c1cl)cl)cc2c(c(cc(c2cl)cl)cl)[o-])o)cl-4',\n",
       "              'c1c(c(c(c(c1cl)cl)cc2c(c(cc(c2cl)cl)cl)[o-])o)cl-5',\n",
       "              'c1c(c(c(c(c1cl)cl)cc2c(c(cc(c2cl)cl)cl)[o-])o)cl-6',\n",
       "              'c1c(c(c(c(c1cl)cl)cc2c(c(cc(c2cl)cl)cl)[o-])o)cl-7'],\n",
       "             '[H]c1c(c(c(c(c1Cl)Cl)C([H])([H])c2c(c(c(c(c2Cl)Cl)[H])Cl)[O-])[O-])Cl': ['c1c(c(c(c(c1cl)cl)cc2c(c(cc(c2cl)cl)cl)[o-])[o-])cl-0',\n",
       "              'c1c(c(c(c(c1cl)cl)cc2c(c(cc(c2cl)cl)cl)[o-])[o-])cl-1',\n",
       "              'c1c(c(c(c(c1cl)cl)cc2c(c(cc(c2cl)cl)cl)[o-])[o-])cl-2',\n",
       "              'c1c(c(c(c(c1cl)cl)cc2c(c(cc(c2cl)cl)cl)[o-])[o-])cl-3',\n",
       "              'c1c(c(c(c(c1cl)cl)cc2c(c(cc(c2cl)cl)cl)[o-])[o-])cl-4',\n",
       "              'c1c(c(c(c(c1cl)cl)cc2c(c(cc(c2cl)cl)cl)[o-])[o-])cl-5'],\n",
       "             '[H]c1c(c(c(c(c1C(=C([H])[H])c2c(c3c(c(c2C([H])([H])[H])[H])C(C(C(C3(C([H])([H])[H])C([H])([H])[H])([H])[H])([H])[H])(C([H])([H])[H])C([H])([H])[H])[H])[H])[H])C(=O)[O-])[H]': ['cc1cc2c(cc1c(=c)c3ccc(cc3)c(=o)[o-])c(ccc2(c)c)(c)c-0',\n",
       "              'cc1cc2c(cc1c(=c)c3ccc(cc3)c(=o)[o-])c(ccc2(c)c)(c)c-1',\n",
       "              'cc1cc2c(cc1c(=c)c3ccc(cc3)c(=o)[o-])c(ccc2(c)c)(c)c-2'],\n",
       "             '[H]c1c(c(c(c(c1[H])[H])C(=O)[C@@]([H])(C([H])([H])[H])[N+]([H])(C([H])([H])C([H])([H])[H])C([H])([H])C([H])([H])[H])[H])[H]': ['cc[nh+](cc)[c@h](c)c(=o)c1ccccc1-0',\n",
       "              'cc[nh+](cc)[c@h](c)c(=o)c1ccccc1-1',\n",
       "              'cc[nh+](cc)[c@h](c)c(=o)c1ccccc1-2',\n",
       "              'cc[nh+](cc)[c@h](c)c(=o)c1ccccc1-3',\n",
       "              'cc[nh+](cc)[c@h](c)c(=o)c1ccccc1-4',\n",
       "              'cc[nh+](cc)[c@h](c)c(=o)c1ccccc1-5',\n",
       "              'cc[nh+](cc)[c@h](c)c(=o)c1ccccc1-6'],\n",
       "             '[H]c1c(c(c(c(c1[H])[H])C(=O)[C@@]([H])(C([H])([H])[H])N(C([H])([H])C([H])([H])[H])C([H])([H])C([H])([H])[H])[H])[H]': ['ccn(cc)[c@h](c)c(=o)c1ccccc1-0',\n",
       "              'ccn(cc)[c@h](c)c(=o)c1ccccc1-1',\n",
       "              'ccn(cc)[c@h](c)c(=o)c1ccccc1-2',\n",
       "              'ccn(cc)[c@h](c)c(=o)c1ccccc1-3',\n",
       "              'ccn(cc)[c@h](c)c(=o)c1ccccc1-4',\n",
       "              'ccn(cc)[c@h](c)c(=o)c1ccccc1-5',\n",
       "              'ccn(cc)[c@h](c)c(=o)c1ccccc1-6'],\n",
       "             '[H]C([H])(C(C([H])([H])O[H])(C([H])([H])O[H])N([H])[H])O[H]': ['c(c(co)(co)n)o-0',\n",
       "              'c(c(co)(co)n)o-1',\n",
       "              'c(c(co)(co)n)o-2',\n",
       "              'c(c(co)(co)n)o-3',\n",
       "              'c(c(co)(co)n)o-4',\n",
       "              'c(c(co)(co)n)o-5'],\n",
       "             '[H]C([H])(C(C([H])([H])O[H])(C([H])([H])O[H])[N+]([H])([H])[H])O[H]': ['c(c(co)(co)[nh3+])o-0'],\n",
       "             '[H][C@](C([H])([H])O[H])(C([H])([H])S[H])S[H]': ['c([c@@h](cs)s)o-0',\n",
       "              'c([c@@h](cs)s)o-1',\n",
       "              'c([c@@h](cs)s)o-2',\n",
       "              'c([c@@h](cs)s)o-3',\n",
       "              'c([c@@h](cs)s)o-4',\n",
       "              'c([c@@h](cs)s)o-5',\n",
       "              'c([c@@h](cs)s)o-6',\n",
       "              'c([c@@h](cs)s)o-7',\n",
       "              'c([c@@h](cs)s)o-8',\n",
       "              'c([c@@h](cs)s)o-9',\n",
       "              'c([c@@h](cs)s)o-10',\n",
       "              'c([c@@h](cs)s)o-11',\n",
       "              'c([c@@h](cs)s)o-12'],\n",
       "             '[H][C@@](C([H])([H])O[H])(C([H])([H])S[H])S[H]': ['c([c@h](cs)s)o-0',\n",
       "              'c([c@h](cs)s)o-1',\n",
       "              'c([c@h](cs)s)o-2',\n",
       "              'c([c@h](cs)s)o-3',\n",
       "              'c([c@h](cs)s)o-4',\n",
       "              'c([c@h](cs)s)o-5',\n",
       "              'c([c@h](cs)s)o-6',\n",
       "              'c([c@h](cs)s)o-7',\n",
       "              'c([c@h](cs)s)o-8',\n",
       "              'c([c@h](cs)s)o-9',\n",
       "              'c([c@h](cs)s)o-10',\n",
       "              'c([c@h](cs)s)o-11'],\n",
       "             '[H]c1c(c(c(c(c1[H])[H])[C@]([H])(C(=O)OC2(C([C@]3([C@]4([C@](O4)([C@@](C2([H])[H])(N3C([H])([H])[H])[H])[H])[H])[H])([H])[H])[H])C([H])([H])O[H])[H])[H]': ['cn1[c@@h]2cc(c[c@h]1[c@h]3[c@@h]2o3)oc(=o)[c@h](co)c4ccccc4-0',\n",
       "              'cn1[c@@h]2cc(c[c@h]1[c@h]3[c@@h]2o3)oc(=o)[c@h](co)c4ccccc4-1',\n",
       "              'cn1[c@@h]2cc(c[c@h]1[c@h]3[c@@h]2o3)oc(=o)[c@h](co)c4ccccc4-2',\n",
       "              'cn1[c@@h]2cc(c[c@h]1[c@h]3[c@@h]2o3)oc(=o)[c@h](co)c4ccccc4-3',\n",
       "              'cn1[c@@h]2cc(c[c@h]1[c@h]3[c@@h]2o3)oc(=o)[c@h](co)c4ccccc4-4',\n",
       "              'cn1[c@@h]2cc(c[c@h]1[c@h]3[c@@h]2o3)oc(=o)[c@h](co)c4ccccc4-5',\n",
       "              'cn1[c@@h]2cc(c[c@h]1[c@h]3[c@@h]2o3)oc(=o)[c@h](co)c4ccccc4-6',\n",
       "              'cn1[c@@h]2cc(c[c@h]1[c@h]3[c@@h]2o3)oc(=o)[c@h](co)c4ccccc4-7',\n",
       "              'cn1[c@@h]2cc(c[c@h]1[c@h]3[c@@h]2o3)oc(=o)[c@h](co)c4ccccc4-8',\n",
       "              'cn1[c@@h]2cc(c[c@h]1[c@h]3[c@@h]2o3)oc(=o)[c@h](co)c4ccccc4-9',\n",
       "              'cn1[c@@h]2cc(c[c@h]1[c@h]3[c@@h]2o3)oc(=o)[c@h](co)c4ccccc4-10',\n",
       "              'cn1[c@@h]2cc(c[c@h]1[c@h]3[c@@h]2o3)oc(=o)[c@h](co)c4ccccc4-11',\n",
       "              'cn1[c@@h]2cc(c[c@h]1[c@h]3[c@@h]2o3)oc(=o)[c@h](co)c4ccccc4-12',\n",
       "              'cn1[c@@h]2cc(c[c@h]1[c@h]3[c@@h]2o3)oc(=o)[c@h](co)c4ccccc4-13',\n",
       "              'cn1[c@@h]2cc(c[c@h]1[c@h]3[c@@h]2o3)oc(=o)[c@h](co)c4ccccc4-14',\n",
       "              'cn1[c@@h]2cc(c[c@h]1[c@h]3[c@@h]2o3)oc(=o)[c@h](co)c4ccccc4-15',\n",
       "              'cn1[c@@h]2cc(c[c@h]1[c@h]3[c@@h]2o3)oc(=o)[c@h](co)c4ccccc4-16',\n",
       "              'cn1[c@@h]2cc(c[c@h]1[c@h]3[c@@h]2o3)oc(=o)[c@h](co)c4ccccc4-17',\n",
       "              'cn1[c@@h]2cc(c[c@h]1[c@h]3[c@@h]2o3)oc(=o)[c@h](co)c4ccccc4-18',\n",
       "              'cn1[c@@h]2cc(c[c@h]1[c@h]3[c@@h]2o3)oc(=o)[c@h](co)c4ccccc4-19'],\n",
       "             '[H]c1c(c(c(c(c1[H])[H])[C@]([H])(C(=O)OC2(C([C@]3([C@]4([C@](O4)([C@@](C2([H])[H])([N+]3([H])C([H])([H])[H])[H])[H])[H])[H])([H])[H])[H])C([H])([H])O[H])[H])[H]': ['c[nh+]1[c@@h]2cc(c[c@h]1[c@h]3[c@@h]2o3)oc(=o)[c@h](co)c4ccccc4-0',\n",
       "              'c[nh+]1[c@@h]2cc(c[c@h]1[c@h]3[c@@h]2o3)oc(=o)[c@h](co)c4ccccc4-1',\n",
       "              'c[nh+]1[c@@h]2cc(c[c@h]1[c@h]3[c@@h]2o3)oc(=o)[c@h](co)c4ccccc4-2',\n",
       "              'c[nh+]1[c@@h]2cc(c[c@h]1[c@h]3[c@@h]2o3)oc(=o)[c@h](co)c4ccccc4-3',\n",
       "              'c[nh+]1[c@@h]2cc(c[c@h]1[c@h]3[c@@h]2o3)oc(=o)[c@h](co)c4ccccc4-4',\n",
       "              'c[nh+]1[c@@h]2cc(c[c@h]1[c@h]3[c@@h]2o3)oc(=o)[c@h](co)c4ccccc4-5',\n",
       "              'c[nh+]1[c@@h]2cc(c[c@h]1[c@h]3[c@@h]2o3)oc(=o)[c@h](co)c4ccccc4-6',\n",
       "              'c[nh+]1[c@@h]2cc(c[c@h]1[c@h]3[c@@h]2o3)oc(=o)[c@h](co)c4ccccc4-7',\n",
       "              'c[nh+]1[c@@h]2cc(c[c@h]1[c@h]3[c@@h]2o3)oc(=o)[c@h](co)c4ccccc4-8',\n",
       "              'c[nh+]1[c@@h]2cc(c[c@h]1[c@h]3[c@@h]2o3)oc(=o)[c@h](co)c4ccccc4-9',\n",
       "              'c[nh+]1[c@@h]2cc(c[c@h]1[c@h]3[c@@h]2o3)oc(=o)[c@h](co)c4ccccc4-10',\n",
       "              'c[nh+]1[c@@h]2cc(c[c@h]1[c@h]3[c@@h]2o3)oc(=o)[c@h](co)c4ccccc4-11',\n",
       "              'c[nh+]1[c@@h]2cc(c[c@h]1[c@h]3[c@@h]2o3)oc(=o)[c@h](co)c4ccccc4-12',\n",
       "              'c[nh+]1[c@@h]2cc(c[c@h]1[c@h]3[c@@h]2o3)oc(=o)[c@h](co)c4ccccc4-13',\n",
       "              'c[nh+]1[c@@h]2cc(c[c@h]1[c@h]3[c@@h]2o3)oc(=o)[c@h](co)c4ccccc4-14',\n",
       "              'c[nh+]1[c@@h]2cc(c[c@h]1[c@h]3[c@@h]2o3)oc(=o)[c@h](co)c4ccccc4-15',\n",
       "              'c[nh+]1[c@@h]2cc(c[c@h]1[c@h]3[c@@h]2o3)oc(=o)[c@h](co)c4ccccc4-16',\n",
       "              'c[nh+]1[c@@h]2cc(c[c@h]1[c@h]3[c@@h]2o3)oc(=o)[c@h](co)c4ccccc4-17',\n",
       "              'c[nh+]1[c@@h]2cc(c[c@h]1[c@h]3[c@@h]2o3)oc(=o)[c@h](co)c4ccccc4-18',\n",
       "              'c[nh+]1[c@@h]2cc(c[c@h]1[c@h]3[c@@h]2o3)oc(=o)[c@h](co)c4ccccc4-19',\n",
       "              'c[nh+]1[c@@h]2cc(c[c@h]1[c@h]3[c@@h]2o3)oc(=o)[c@h](co)c4ccccc4-20',\n",
       "              'c[nh+]1[c@@h]2cc(c[c@h]1[c@h]3[c@@h]2o3)oc(=o)[c@h](co)c4ccccc4-21',\n",
       "              'c[nh+]1[c@@h]2cc(c[c@h]1[c@h]3[c@@h]2o3)oc(=o)[c@h](co)c4ccccc4-22',\n",
       "              'c[nh+]1[c@@h]2cc(c[c@h]1[c@h]3[c@@h]2o3)oc(=o)[c@h](co)c4ccccc4-23',\n",
       "              'c[nh+]1[c@@h]2cc(c[c@h]1[c@h]3[c@@h]2o3)oc(=o)[c@h](co)c4ccccc4-24',\n",
       "              'c[nh+]1[c@@h]2cc(c[c@h]1[c@h]3[c@@h]2o3)oc(=o)[c@h](co)c4ccccc4-25',\n",
       "              'c[nh+]1[c@@h]2cc(c[c@h]1[c@h]3[c@@h]2o3)oc(=o)[c@h](co)c4ccccc4-26',\n",
       "              'c[nh+]1[c@@h]2cc(c[c@h]1[c@h]3[c@@h]2o3)oc(=o)[c@h](co)c4ccccc4-27',\n",
       "              'c[nh+]1[c@@h]2cc(c[c@h]1[c@h]3[c@@h]2o3)oc(=o)[c@h](co)c4ccccc4-28',\n",
       "              'c[nh+]1[c@@h]2cc(c[c@h]1[c@h]3[c@@h]2o3)oc(=o)[c@h](co)c4ccccc4-29',\n",
       "              'c[nh+]1[c@@h]2cc(c[c@h]1[c@h]3[c@@h]2o3)oc(=o)[c@h](co)c4ccccc4-30',\n",
       "              'c[nh+]1[c@@h]2cc(c[c@h]1[c@h]3[c@@h]2o3)oc(=o)[c@h](co)c4ccccc4-31',\n",
       "              'c[nh+]1[c@@h]2cc(c[c@h]1[c@h]3[c@@h]2o3)oc(=o)[c@h](co)c4ccccc4-32',\n",
       "              'c[nh+]1[c@@h]2cc(c[c@h]1[c@h]3[c@@h]2o3)oc(=o)[c@h](co)c4ccccc4-33',\n",
       "              'c[nh+]1[c@@h]2cc(c[c@h]1[c@h]3[c@@h]2o3)oc(=o)[c@h](co)c4ccccc4-34',\n",
       "              'c[nh+]1[c@@h]2cc(c[c@h]1[c@h]3[c@@h]2o3)oc(=o)[c@h](co)c4ccccc4-35',\n",
       "              'c[nh+]1[c@@h]2cc(c[c@h]1[c@h]3[c@@h]2o3)oc(=o)[c@h](co)c4ccccc4-36',\n",
       "              'c[nh+]1[c@@h]2cc(c[c@h]1[c@h]3[c@@h]2o3)oc(=o)[c@h](co)c4ccccc4-37',\n",
       "              'c[nh+]1[c@@h]2cc(c[c@h]1[c@h]3[c@@h]2o3)oc(=o)[c@h](co)c4ccccc4-38',\n",
       "              'c[nh+]1[c@@h]2cc(c[c@h]1[c@h]3[c@@h]2o3)oc(=o)[c@h](co)c4ccccc4-39'],\n",
       "             '[H]c1c(c(c(c(c1O[H])[H])[H])O[C@]2([C@]([C@@]([C@]([C@@](O2)([H])C([H])([H])O[H])([H])O[H])([H])O[H])([H])O[H])[H])[H]': ['c1cc(ccc1o)o[c@h]2[c@@h]([c@h]([c@@h]([c@h](o2)co)o)o)o-0',\n",
       "              'c1cc(ccc1o)o[c@h]2[c@@h]([c@h]([c@@h]([c@h](o2)co)o)o)o-1',\n",
       "              'c1cc(ccc1o)o[c@h]2[c@@h]([c@h]([c@@h]([c@h](o2)co)o)o)o-2',\n",
       "              'c1cc(ccc1o)o[c@h]2[c@@h]([c@h]([c@@h]([c@h](o2)co)o)o)o-3',\n",
       "              'c1cc(ccc1o)o[c@h]2[c@@h]([c@h]([c@@h]([c@h](o2)co)o)o)o-4',\n",
       "              'c1cc(ccc1o)o[c@h]2[c@@h]([c@h]([c@@h]([c@h](o2)co)o)o)o-5',\n",
       "              'c1cc(ccc1o)o[c@h]2[c@@h]([c@h]([c@@h]([c@h](o2)co)o)o)o-6',\n",
       "              'c1cc(ccc1o)o[c@h]2[c@@h]([c@h]([c@@h]([c@h](o2)co)o)o)o-7',\n",
       "              'c1cc(ccc1o)o[c@h]2[c@@h]([c@h]([c@@h]([c@h](o2)co)o)o)o-8',\n",
       "              'c1cc(ccc1o)o[c@h]2[c@@h]([c@h]([c@@h]([c@h](o2)co)o)o)o-9',\n",
       "              'c1cc(ccc1o)o[c@h]2[c@@h]([c@h]([c@@h]([c@h](o2)co)o)o)o-10',\n",
       "              'c1cc(ccc1o)o[c@h]2[c@@h]([c@h]([c@@h]([c@h](o2)co)o)o)o-11',\n",
       "              'c1cc(ccc1o)o[c@h]2[c@@h]([c@h]([c@@h]([c@h](o2)co)o)o)o-12',\n",
       "              'c1cc(ccc1o)o[c@h]2[c@@h]([c@h]([c@@h]([c@h](o2)co)o)o)o-13'],\n",
       "             '[H]c1c(c(c(c(c1[H])C([H])([H])[H])N([H])C(=O)C([H])([H])[N+]([H])(C([H])([H])C([H])([H])[H])C([H])([H])C([H])([H])[H])C([H])([H])[H])[H]': ['cc[nh+](cc)cc(=o)nc1c(cccc1c)c-0',\n",
       "              'cc[nh+](cc)cc(=o)nc1c(cccc1c)c-1',\n",
       "              'cc[nh+](cc)cc(=o)nc1c(cccc1c)c-2',\n",
       "              'cc[nh+](cc)cc(=o)nc1c(cccc1c)c-3',\n",
       "              'cc[nh+](cc)cc(=o)nc1c(cccc1c)c-4',\n",
       "              'cc[nh+](cc)cc(=o)nc1c(cccc1c)c-5',\n",
       "              'cc[nh+](cc)cc(=o)nc1c(cccc1c)c-6',\n",
       "              'cc[nh+](cc)cc(=o)nc1c(cccc1c)c-7'],\n",
       "             '[H]c1c(c(c(c(c1[H])C([H])([H])[H])N([H])C(=O)C([H])([H])N(C([H])([H])C([H])([H])[H])C([H])([H])C([H])([H])[H])C([H])([H])[H])[H]': ['ccn(cc)cc(=o)nc1c(cccc1c)c-0',\n",
       "              'ccn(cc)cc(=o)nc1c(cccc1c)c-1',\n",
       "              'ccn(cc)cc(=o)nc1c(cccc1c)c-2',\n",
       "              'ccn(cc)cc(=o)nc1c(cccc1c)c-3',\n",
       "              'ccn(cc)cc(=o)nc1c(cccc1c)c-4',\n",
       "              'ccn(cc)cc(=o)nc1c(cccc1c)c-5'],\n",
       "             '[H]c1c(c(c(c(c1[H])O[H])[H])N(c2c(c(c(c(c2[H])[H])C([H])([H])[H])[H])[H])C([H])([H])[C+]3N(C(C(N3[H])([H])[H])([H])[H])[H])[H]': ['cc1ccc(cc1)n(c[c+]2nccn2)c3cccc(c3)o-0',\n",
       "              'cc1ccc(cc1)n(c[c+]2nccn2)c3cccc(c3)o-1',\n",
       "              'cc1ccc(cc1)n(c[c+]2nccn2)c3cccc(c3)o-2',\n",
       "              'cc1ccc(cc1)n(c[c+]2nccn2)c3cccc(c3)o-3',\n",
       "              'cc1ccc(cc1)n(c[c+]2nccn2)c3cccc(c3)o-4',\n",
       "              'cc1ccc(cc1)n(c[c+]2nccn2)c3cccc(c3)o-5',\n",
       "              'cc1ccc(cc1)n(c[c+]2nccn2)c3cccc(c3)o-6',\n",
       "              'cc1ccc(cc1)n(c[c+]2nccn2)c3cccc(c3)o-7',\n",
       "              'cc1ccc(cc1)n(c[c+]2nccn2)c3cccc(c3)o-8',\n",
       "              'cc1ccc(cc1)n(c[c+]2nccn2)c3cccc(c3)o-9',\n",
       "              'cc1ccc(cc1)n(c[c+]2nccn2)c3cccc(c3)o-10',\n",
       "              'cc1ccc(cc1)n(c[c+]2nccn2)c3cccc(c3)o-11',\n",
       "              'cc1ccc(cc1)n(c[c+]2nccn2)c3cccc(c3)o-12',\n",
       "              'cc1ccc(cc1)n(c[c+]2nccn2)c3cccc(c3)o-13',\n",
       "              'cc1ccc(cc1)n(c[c+]2nccn2)c3cccc(c3)o-14',\n",
       "              'cc1ccc(cc1)n(c[c+]2nccn2)c3cccc(c3)o-15',\n",
       "              'cc1ccc(cc1)n(c[c+]2nccn2)c3cccc(c3)o-16',\n",
       "              'cc1ccc(cc1)n(c[c+]2nccn2)c3cccc(c3)o-17',\n",
       "              'cc1ccc(cc1)n(c[c+]2nccn2)c3cccc(c3)o-18',\n",
       "              'cc1ccc(cc1)n(c[c+]2nccn2)c3cccc(c3)o-19'],\n",
       "             '[H]c1c(c(c(c(c1[H])C(=O)[O-])N([H])c2c(c(c(c(c2C([H])([H])[H])C([H])([H])[H])[H])[H])[H])[H])[H]': ['cc1cccc(c1c)nc2ccccc2c(=o)[o-]-0',\n",
       "              'cc1cccc(c1c)nc2ccccc2c(=o)[o-]-1',\n",
       "              'cc1cccc(c1c)nc2ccccc2c(=o)[o-]-2',\n",
       "              'cc1cccc(c1c)nc2ccccc2c(=o)[o-]-3',\n",
       "              'cc1cccc(c1c)nc2ccccc2c(=o)[o-]-4',\n",
       "              'cc1cccc(c1c)nc2ccccc2c(=o)[o-]-5'],\n",
       "             '[H]c1c(c(c(c(c1C(=O)c2c(c(c(c(c2[H])O[H])[O-])N(=O)=O)[H])[H])[H])C([H])([H])[H])[H]': ['cc1ccc(cc1)c(=o)c2cc(c(c(c2)o)[o-])n(=o)=o-0',\n",
       "              'cc1ccc(cc1)c(=o)c2cc(c(c(c2)o)[o-])n(=o)=o-1',\n",
       "              'cc1ccc(cc1)c(=o)c2cc(c(c(c2)o)[o-])n(=o)=o-2',\n",
       "              'cc1ccc(cc1)c(=o)c2cc(c(c(c2)o)[o-])n(=o)=o-3'],\n",
       "             '[H]c1c(c(c(c(c1[H])[C@@]([H])(C(=O)C2(C(C2([H])[H])([H])[H])[H])[N@]3C(C4=C(C(C3([H])[H])([H])[H])SC(=C4[H])OC(=O)C([H])([H])[H])([H])[H])F)[H])[H]': ['cc(=o)oc1cc2c(s1)cc[n@](c2)[c@@h](c3ccccc3f)c(=o)c4cc4-0',\n",
       "              'cc(=o)oc1cc2c(s1)cc[n@](c2)[c@@h](c3ccccc3f)c(=o)c4cc4-1',\n",
       "              'cc(=o)oc1cc2c(s1)cc[n@](c2)[c@@h](c3ccccc3f)c(=o)c4cc4-2',\n",
       "              'cc(=o)oc1cc2c(s1)cc[n@](c2)[c@@h](c3ccccc3f)c(=o)c4cc4-3',\n",
       "              'cc(=o)oc1cc2c(s1)cc[n@](c2)[c@@h](c3ccccc3f)c(=o)c4cc4-4',\n",
       "              'cc(=o)oc1cc2c(s1)cc[n@](c2)[c@@h](c3ccccc3f)c(=o)c4cc4-5',\n",
       "              'cc(=o)oc1cc2c(s1)cc[n@](c2)[c@@h](c3ccccc3f)c(=o)c4cc4-6',\n",
       "              'cc(=o)oc1cc2c(s1)cc[n@](c2)[c@@h](c3ccccc3f)c(=o)c4cc4-7',\n",
       "              'cc(=o)oc1cc2c(s1)cc[n@](c2)[c@@h](c3ccccc3f)c(=o)c4cc4-8',\n",
       "              'cc(=o)oc1cc2c(s1)cc[n@](c2)[c@@h](c3ccccc3f)c(=o)c4cc4-9',\n",
       "              'cc(=o)oc1cc2c(s1)cc[n@](c2)[c@@h](c3ccccc3f)c(=o)c4cc4-10',\n",
       "              'cc(=o)oc1cc2c(s1)cc[n@](c2)[c@@h](c3ccccc3f)c(=o)c4cc4-11',\n",
       "              'cc(=o)oc1cc2c(s1)cc[n@](c2)[c@@h](c3ccccc3f)c(=o)c4cc4-12',\n",
       "              'cc(=o)oc1cc2c(s1)cc[n@](c2)[c@@h](c3ccccc3f)c(=o)c4cc4-13',\n",
       "              'cc(=o)oc1cc2c(s1)cc[n@](c2)[c@@h](c3ccccc3f)c(=o)c4cc4-14',\n",
       "              'cc(=o)oc1cc2c(s1)cc[n@](c2)[c@@h](c3ccccc3f)c(=o)c4cc4-15',\n",
       "              'cc(=o)oc1cc2c(s1)cc[n@](c2)[c@@h](c3ccccc3f)c(=o)c4cc4-16',\n",
       "              'cc(=o)oc1cc2c(s1)cc[n@](c2)[c@@h](c3ccccc3f)c(=o)c4cc4-17',\n",
       "              'cc(=o)oc1cc2c(s1)cc[n@](c2)[c@@h](c3ccccc3f)c(=o)c4cc4-18',\n",
       "              'cc(=o)oc1cc2c(s1)cc[n@](c2)[c@@h](c3ccccc3f)c(=o)c4cc4-19'],\n",
       "             '[H]c1c(c(c(c(c1[H])[C@]([H])(C(=O)C2(C(C2([H])[H])([H])[H])[H])[N@]3C(C4=C(C(C3([H])[H])([H])[H])SC(=C4[H])OC(=O)C([H])([H])[H])([H])[H])F)[H])[H]': ['cc(=o)oc1cc2c(s1)cc[n@](c2)[c@h](c3ccccc3f)c(=o)c4cc4-0',\n",
       "              'cc(=o)oc1cc2c(s1)cc[n@](c2)[c@h](c3ccccc3f)c(=o)c4cc4-1',\n",
       "              'cc(=o)oc1cc2c(s1)cc[n@](c2)[c@h](c3ccccc3f)c(=o)c4cc4-2',\n",
       "              'cc(=o)oc1cc2c(s1)cc[n@](c2)[c@h](c3ccccc3f)c(=o)c4cc4-3',\n",
       "              'cc(=o)oc1cc2c(s1)cc[n@](c2)[c@h](c3ccccc3f)c(=o)c4cc4-4',\n",
       "              'cc(=o)oc1cc2c(s1)cc[n@](c2)[c@h](c3ccccc3f)c(=o)c4cc4-5',\n",
       "              'cc(=o)oc1cc2c(s1)cc[n@](c2)[c@h](c3ccccc3f)c(=o)c4cc4-6',\n",
       "              'cc(=o)oc1cc2c(s1)cc[n@](c2)[c@h](c3ccccc3f)c(=o)c4cc4-7',\n",
       "              'cc(=o)oc1cc2c(s1)cc[n@](c2)[c@h](c3ccccc3f)c(=o)c4cc4-8',\n",
       "              'cc(=o)oc1cc2c(s1)cc[n@](c2)[c@h](c3ccccc3f)c(=o)c4cc4-9',\n",
       "              'cc(=o)oc1cc2c(s1)cc[n@](c2)[c@h](c3ccccc3f)c(=o)c4cc4-10',\n",
       "              'cc(=o)oc1cc2c(s1)cc[n@](c2)[c@h](c3ccccc3f)c(=o)c4cc4-11',\n",
       "              'cc(=o)oc1cc2c(s1)cc[n@](c2)[c@h](c3ccccc3f)c(=o)c4cc4-12',\n",
       "              'cc(=o)oc1cc2c(s1)cc[n@](c2)[c@h](c3ccccc3f)c(=o)c4cc4-13',\n",
       "              'cc(=o)oc1cc2c(s1)cc[n@](c2)[c@h](c3ccccc3f)c(=o)c4cc4-14',\n",
       "              'cc(=o)oc1cc2c(s1)cc[n@](c2)[c@h](c3ccccc3f)c(=o)c4cc4-15',\n",
       "              'cc(=o)oc1cc2c(s1)cc[n@](c2)[c@h](c3ccccc3f)c(=o)c4cc4-16',\n",
       "              'cc(=o)oc1cc2c(s1)cc[n@](c2)[c@h](c3ccccc3f)c(=o)c4cc4-17',\n",
       "              'cc(=o)oc1cc2c(s1)cc[n@](c2)[c@h](c3ccccc3f)c(=o)c4cc4-18',\n",
       "              'cc(=o)oc1cc2c(s1)cc[n@](c2)[c@h](c3ccccc3f)c(=o)c4cc4-19'],\n",
       "             '[H]c1c(c(c2c(c1[H])[C@@]3(C([N@@](C(C([N@]3c4c(c(c(c(n4)[H])[H])[H])C2([H])[H])([H])[H])([H])[H])C([H])([H])[H])([H])[H])[H])[H])[H]': ['c[n@@]1cc[n@]2c3c(cccn3)cc4ccccc4[c@@h]2c1-0',\n",
       "              'c[n@@]1cc[n@]2c3c(cccn3)cc4ccccc4[c@@h]2c1-1'],\n",
       "             '[H]c1c(c(c2c(c1[H])[C@@]3(C([N@+](C(C([N@]3c4c(c(c(c(n4)[H])[H])[H])C2([H])[H])([H])[H])([H])[H])([H])C([H])([H])[H])([H])[H])[H])[H])[H]': ['c[n@@h+]1cc[n@]2c3c(cccn3)cc4ccccc4[c@@h]2c1-0',\n",
       "              'c[n@@h+]1cc[n@]2c3c(cccn3)cc4ccccc4[c@@h]2c1-1'],\n",
       "             '[H]c1c(c(c2c(c1[H])[C@@]3(C([N@@+](C(C([N@]3c4c(c(c(c(n4)[H])[H])[H])C2([H])[H])([H])[H])([H])[H])([H])C([H])([H])[H])([H])[H])[H])[H])[H]': ['c[n@h+]1cc[n@]2c3c(cccn3)cc4ccccc4[c@@h]2c1-0',\n",
       "              'c[n@h+]1cc[n@]2c3c(cccn3)cc4ccccc4[c@@h]2c1-1'],\n",
       "             '[H]c1c(c2c(nc1[H])C(=C3C(C([N+](C(C3([H])[H])([H])[H])([H])[H])([H])[H])([H])[H])c4c(c(c(c(c4C(C2([H])[H])([H])[H])[H])Cl)[H])[H])[H]': ['c1cc2c(nc1)c(=c3cc[nh2+]cc3)c4ccc(cc4cc2)cl-0',\n",
       "              'c1cc2c(nc1)c(=c3cc[nh2+]cc3)c4ccc(cc4cc2)cl-1'],\n",
       "             '[H]c1c(c(c(c(c1[H])C([H])([H])C(=O)[O-])N([H])c2c(c(c(c(c2Cl)[H])[H])[H])Cl)[H])[H]': ['c1ccc(c(c1)cc(=o)[o-])nc2c(cccc2cl)cl-0',\n",
       "              'c1ccc(c(c1)cc(=o)[o-])nc2c(cccc2cl)cl-1',\n",
       "              'c1ccc(c(c1)cc(=o)[o-])nc2c(cccc2cl)cl-2',\n",
       "              'c1ccc(c(c1)cc(=o)[o-])nc2c(cccc2cl)cl-3',\n",
       "              'c1ccc(c(c1)cc(=o)[o-])nc2c(cccc2cl)cl-4',\n",
       "              'c1ccc(c(c1)cc(=o)[o-])nc2c(cccc2cl)cl-5'],\n",
       "             '[H]c1c(c(c(c(c1[H])O[H])[H])[N+](C([H])([H])[H])(C([H])([H])[H])C([H])([H])C([H])([H])[H])[H]': ['cc[n+](c)(c)c1cccc(c1)o-0',\n",
       "              'cc[n+](c)(c)c1cccc(c1)o-1',\n",
       "              'cc[n+](c)(c)c1cccc(c1)o-2',\n",
       "              'cc[n+](c)(c)c1cccc(c1)o-3'],\n",
       "             '[H]c1c(c(c(c(c1[H])[O-])[H])[N+](C([H])([H])[H])(C([H])([H])[H])C([H])([H])C([H])([H])[H])[H]': ['cc[n+](c)(c)c1cccc(c1)[o-]-0',\n",
       "              'cc[n+](c)(c)c1cccc(c1)[o-]-1',\n",
       "              'cc[n+](c)(c)c1cccc(c1)[o-]-2',\n",
       "              'cc[n+](c)(c)c1cccc(c1)[o-]-3'],\n",
       "             '[H]c1c(c(c(c(c1[H])[H])[C@@]([H])(C([H])([H])[H])N2C(=NC(=C2C(=O)OC([H])([H])C([H])([H])[H])[H])[H])[H])[H]': ['ccoc(=o)c1cncn1[c@h](c)c2ccccc2-0',\n",
       "              'ccoc(=o)c1cncn1[c@h](c)c2ccccc2-1',\n",
       "              'ccoc(=o)c1cncn1[c@h](c)c2ccccc2-2',\n",
       "              'ccoc(=o)c1cncn1[c@h](c)c2ccccc2-3',\n",
       "              'ccoc(=o)c1cncn1[c@h](c)c2ccccc2-4',\n",
       "              'ccoc(=o)c1cncn1[c@h](c)c2ccccc2-5',\n",
       "              'ccoc(=o)c1cncn1[c@h](c)c2ccccc2-6',\n",
       "              'ccoc(=o)c1cncn1[c@h](c)c2ccccc2-7',\n",
       "              'ccoc(=o)c1cncn1[c@h](c)c2ccccc2-8',\n",
       "              'ccoc(=o)c1cncn1[c@h](c)c2ccccc2-9',\n",
       "              'ccoc(=o)c1cncn1[c@h](c)c2ccccc2-10'],\n",
       "             '[H]N([H])C(=O)N([H])O[H]': ['c(=o)(n)no-0'],\n",
       "             '[H]c1c2c(c(c(c1OC([H])([H])[H])OC([H])([H])[H])[H])C(C([N@@]3[C@@]2(C(C(=O)[C@@](C3([H])[H])([H])C([H])([H])C([H])(C([H])([H])[H])C([H])([H])[H])([H])[H])[H])([H])[H])([H])[H]': ['cc(c)c[c@h]1c[n@@]2ccc3cc(c(cc3[c@h]2cc1=o)oc)oc-0',\n",
       "              'cc(c)c[c@h]1c[n@@]2ccc3cc(c(cc3[c@h]2cc1=o)oc)oc-1',\n",
       "              'cc(c)c[c@h]1c[n@@]2ccc3cc(c(cc3[c@h]2cc1=o)oc)oc-2'],\n",
       "             '[H]c1c2c(c(c(c1OC([H])([H])[H])OC([H])([H])[H])[H])C(C([N@@+]3([C@@]2(C(C(=O)[C@@](C3([H])[H])([H])C([H])([H])C([H])(C([H])([H])[H])C([H])([H])[H])([H])[H])[H])[H])([H])[H])([H])[H]': ['cc(c)c[c@h]1c[n@@h+]2ccc3cc(c(cc3[c@h]2cc1=o)oc)oc-0',\n",
       "              'cc(c)c[c@h]1c[n@@h+]2ccc3cc(c(cc3[c@h]2cc1=o)oc)oc-1',\n",
       "              'cc(c)c[c@h]1c[n@@h+]2ccc3cc(c(cc3[c@h]2cc1=o)oc)oc-2',\n",
       "              'cc(c)c[c@h]1c[n@@h+]2ccc3cc(c(cc3[c@h]2cc1=o)oc)oc-3'],\n",
       "             '[H]c1c2c(c(c(c1OC([H])([H])[H])OC([H])([H])[H])[H])C(C([N@+]3([C@@]2(C(C(=O)[C@@](C3([H])[H])([H])C([H])([H])C([H])(C([H])([H])[H])C([H])([H])[H])([H])[H])[H])[H])([H])[H])([H])[H]': ['cc(c)c[c@h]1c[n@h+]2ccc3cc(c(cc3[c@h]2cc1=o)oc)oc-0',\n",
       "              'cc(c)c[c@h]1c[n@h+]2ccc3cc(c(cc3[c@h]2cc1=o)oc)oc-1',\n",
       "              'cc(c)c[c@h]1c[n@h+]2ccc3cc(c(cc3[c@h]2cc1=o)oc)oc-2',\n",
       "              'cc(c)c[c@h]1c[n@h+]2ccc3cc(c(cc3[c@h]2cc1=o)oc)oc-3',\n",
       "              'cc(c)c[c@h]1c[n@h+]2ccc3cc(c(cc3[c@h]2cc1=o)oc)oc-4',\n",
       "              'cc(c)c[c@h]1c[n@h+]2ccc3cc(c(cc3[c@h]2cc1=o)oc)oc-5',\n",
       "              'cc(c)c[c@h]1c[n@h+]2ccc3cc(c(cc3[c@h]2cc1=o)oc)oc-6',\n",
       "              'cc(c)c[c@h]1c[n@h+]2ccc3cc(c(cc3[c@h]2cc1=o)oc)oc-7'],\n",
       "             '[H]C1=C(OC(=C1[H])N(=O)=O)/C(=N\\\\N2C(=O)N(C(=O)C2([H])[H])[H])/[H]': ['c1cc(oc1/c=n\\\\n2cc(=o)nc2=o)n(=o)=o-0',\n",
       "              'c1cc(oc1/c=n\\\\n2cc(=o)nc2=o)n(=o)=o-1',\n",
       "              'c1cc(oc1/c=n\\\\n2cc(=o)nc2=o)n(=o)=o-2',\n",
       "              'c1cc(oc1/c=n\\\\n2cc(=o)nc2=o)n(=o)=o-3',\n",
       "              'c1cc(oc1/c=n\\\\n2cc(=o)nc2=o)n(=o)=o-4',\n",
       "              'c1cc(oc1/c=n\\\\n2cc(=o)nc2=o)n(=o)=o-5'],\n",
       "             '[H]C1=C(OC(=C1[H])N(=O)=O)/C(=N\\\\N2C(=O)[N-]C(=O)C2([H])[H])/[H]': ['c1cc(oc1/c=n\\\\n2cc(=o)[n-]c2=o)n(=o)=o-0',\n",
       "              'c1cc(oc1/c=n\\\\n2cc(=o)[n-]c2=o)n(=o)=o-1',\n",
       "              'c1cc(oc1/c=n\\\\n2cc(=o)[n-]c2=o)n(=o)=o-2',\n",
       "              'c1cc(oc1/c=n\\\\n2cc(=o)[n-]c2=o)n(=o)=o-3',\n",
       "              'c1cc(oc1/c=n\\\\n2cc(=o)[n-]c2=o)n(=o)=o-4'],\n",
       "             '[H]c1c(c(c(c(c1C(=O)N([H])C([H])(C([H])([H])[H])C([H])([H])[H])[H])[H])C([H])([H])N([H])N([H])C([H])([H])[H])[H]': ['cc(c)nc(=o)c1ccc(cc1)cnnc-0',\n",
       "              'cc(c)nc(=o)c1ccc(cc1)cnnc-1',\n",
       "              'cc(c)nc(=o)c1ccc(cc1)cnnc-2',\n",
       "              'cc(c)nc(=o)c1ccc(cc1)cnnc-3',\n",
       "              'cc(c)nc(=o)c1ccc(cc1)cnnc-4'],\n",
       "             '[H]c1c(c(c(c(c1[H])[H])C([H])([H])C([H])([H])N([H])N([H])[H])[H])[H]': ['c1ccc(cc1)ccnn-0',\n",
       "              'c1ccc(cc1)ccnn-1',\n",
       "              'c1ccc(cc1)ccnn-2',\n",
       "              'c1ccc(cc1)ccnn-3'],\n",
       "             '[H]c1c(c(c(c(c1[H])[H])C([H])(c2c(c(c(c(c2[H])[H])[H])[H])[H])[N+]3(C(C(N(C(C3([H])[H])([H])[H])C([H])([H])[H])([H])[H])([H])[H])[H])[H])[H]': ['cn1cc[nh+](cc1)c(c2ccccc2)c3ccccc3-0',\n",
       "              'cn1cc[nh+](cc1)c(c2ccccc2)c3ccccc3-1'],\n",
       "             '[H]c1c(c(c(c(c1[H])[H])C([H])(c2c(c(c(c(c2[H])[H])[H])[H])[H])N3C(C(N(C(C3([H])[H])([H])[H])C([H])([H])[H])([H])[H])([H])[H])[H])[H]': ['cn1ccn(cc1)c(c2ccccc2)c3ccccc3-0',\n",
       "              'cn1ccn(cc1)c(c2ccccc2)c3ccccc3-1',\n",
       "              'cn1ccn(cc1)c(c2ccccc2)c3ccccc3-2'],\n",
       "             '[H]c1c(c(c(c(c1[H])[H])C([H])(c2c(c(c(c(c2[H])[H])[H])[H])[H])N3C(C([N+](C(C3([H])[H])([H])[H])([H])C([H])([H])[H])([H])[H])([H])[H])[H])[H]': ['c[nh+]1ccn(cc1)c(c2ccccc2)c3ccccc3-0',\n",
       "              'c[nh+]1ccn(cc1)c(c2ccccc2)c3ccccc3-1',\n",
       "              'c[nh+]1ccn(cc1)c(c2ccccc2)c3ccccc3-2'],\n",
       "             '[H]c1c(c(c(c(c1C([H])([H])[C@](C(=O)[O-])(C([H])([H])[H])N([H])N([H])[H])[H])O[H])O[H])[H]': ['c[c@](cc1ccc(c(c1)o)o)(c(=o)[o-])nn-0',\n",
       "              'c[c@](cc1ccc(c(c1)o)o)(c(=o)[o-])nn-1',\n",
       "              'c[c@](cc1ccc(c(c1)o)o)(c(=o)[o-])nn-2',\n",
       "              'c[c@](cc1ccc(c(c1)o)o)(c(=o)[o-])nn-3',\n",
       "              'c[c@](cc1ccc(c(c1)o)o)(c(=o)[o-])nn-4',\n",
       "              'c[c@](cc1ccc(c(c1)o)o)(c(=o)[o-])nn-5',\n",
       "              'c[c@](cc1ccc(c(c1)o)o)(c(=o)[o-])nn-6',\n",
       "              'c[c@](cc1ccc(c(c1)o)o)(c(=o)[o-])nn-7',\n",
       "              'c[c@](cc1ccc(c(c1)o)o)(c(=o)[o-])nn-8',\n",
       "              'c[c@](cc1ccc(c(c1)o)o)(c(=o)[o-])nn-9',\n",
       "              'c[c@](cc1ccc(c(c1)o)o)(c(=o)[o-])nn-10',\n",
       "              'c[c@](cc1ccc(c(c1)o)o)(c(=o)[o-])nn-11',\n",
       "              'c[c@](cc1ccc(c(c1)o)o)(c(=o)[o-])nn-12',\n",
       "              'c[c@](cc1ccc(c(c1)o)o)(c(=o)[o-])nn-13',\n",
       "              'c[c@](cc1ccc(c(c1)o)o)(c(=o)[o-])nn-14',\n",
       "              'c[c@](cc1ccc(c(c1)o)o)(c(=o)[o-])nn-15',\n",
       "              'c[c@](cc1ccc(c(c1)o)o)(c(=o)[o-])nn-16',\n",
       "              'c[c@](cc1ccc(c(c1)o)o)(c(=o)[o-])nn-17',\n",
       "              'c[c@](cc1ccc(c(c1)o)o)(c(=o)[o-])nn-18'],\n",
       "             '[H]c1c(c(c(c(c1[C@]([H])(C([H])([H])[N+]([H])([H])C(C([H])([H])[H])(C([H])([H])[H])C([H])([H])[H])O[H])[H])C([H])([H])O[H])O[H])[H]': ['cc(c)(c)[nh2+]c[c@@h](c1ccc(c(c1)co)o)o-0',\n",
       "              'cc(c)(c)[nh2+]c[c@@h](c1ccc(c(c1)co)o)o-1',\n",
       "              'cc(c)(c)[nh2+]c[c@@h](c1ccc(c(c1)co)o)o-2',\n",
       "              'cc(c)(c)[nh2+]c[c@@h](c1ccc(c(c1)co)o)o-3',\n",
       "              'cc(c)(c)[nh2+]c[c@@h](c1ccc(c(c1)co)o)o-4',\n",
       "              'cc(c)(c)[nh2+]c[c@@h](c1ccc(c(c1)co)o)o-5',\n",
       "              'cc(c)(c)[nh2+]c[c@@h](c1ccc(c(c1)co)o)o-6',\n",
       "              'cc(c)(c)[nh2+]c[c@@h](c1ccc(c(c1)co)o)o-7',\n",
       "              'cc(c)(c)[nh2+]c[c@@h](c1ccc(c(c1)co)o)o-8',\n",
       "              'cc(c)(c)[nh2+]c[c@@h](c1ccc(c(c1)co)o)o-9',\n",
       "              'cc(c)(c)[nh2+]c[c@@h](c1ccc(c(c1)co)o)o-10',\n",
       "              'cc(c)(c)[nh2+]c[c@@h](c1ccc(c(c1)co)o)o-11',\n",
       "              'cc(c)(c)[nh2+]c[c@@h](c1ccc(c(c1)co)o)o-12',\n",
       "              'cc(c)(c)[nh2+]c[c@@h](c1ccc(c(c1)co)o)o-13',\n",
       "              'cc(c)(c)[nh2+]c[c@@h](c1ccc(c(c1)co)o)o-14',\n",
       "              'cc(c)(c)[nh2+]c[c@@h](c1ccc(c(c1)co)o)o-15',\n",
       "              'cc(c)(c)[nh2+]c[c@@h](c1ccc(c(c1)co)o)o-16',\n",
       "              'cc(c)(c)[nh2+]c[c@@h](c1ccc(c(c1)co)o)o-17',\n",
       "              'cc(c)(c)[nh2+]c[c@@h](c1ccc(c(c1)co)o)o-18'],\n",
       "             '[H]C1=C(N(C(=O)N=C1N([H])[H])[C@@]2(C(S[C@](O2)([H])C([H])([H])O[H])([H])[H])[H])[H]': ['c1cn(c(=o)nc1n)[c@@h]2cs[c@@h](o2)co-0',\n",
       "              'c1cn(c(=o)nc1n)[c@@h]2cs[c@@h](o2)co-1',\n",
       "              'c1cn(c(=o)nc1n)[c@@h]2cs[c@@h](o2)co-2'],\n",
       "             '[H]C([H])(P(=O)([O-])[O-])P(=O)([O-])[O-]': ['c(p(=o)([o-])[o-])p(=o)([o-])[o-]-0'],\n",
       "             '[H]C([H])(P(=O)([O-])O[H])P(=O)([O-])O[H]': ['c([p@@](=o)(o)[o-])[p@@](=o)(o)[o-]-0',\n",
       "              'c([p@@](=o)(o)[o-])[p@@](=o)(o)[o-]-1',\n",
       "              'c([p@@](=o)(o)[o-])[p@@](=o)(o)[o-]-2',\n",
       "              'c([p@@](=o)(o)[o-])[p@@](=o)(o)[o-]-3',\n",
       "              'c([p@@](=o)(o)[o-])[p@@](=o)(o)[o-]-4',\n",
       "              'c([p@@](=o)(o)[o-])[p@@](=o)(o)[o-]-5',\n",
       "              'c([p@@](=o)(o)[o-])[p@@](=o)(o)[o-]-6',\n",
       "              'c([p@@](=o)(o)[o-])[p@](=o)(o)[o-]-0',\n",
       "              'c([p@@](=o)(o)[o-])[p@](=o)(o)[o-]-1',\n",
       "              'c([p@@](=o)(o)[o-])[p@](=o)(o)[o-]-2',\n",
       "              'c([p@@](=o)(o)[o-])[p@](=o)(o)[o-]-3',\n",
       "              'c([p@@](=o)(o)[o-])[p@](=o)(o)[o-]-4',\n",
       "              'c([p@@](=o)(o)[o-])[p@](=o)(o)[o-]-5'],\n",
       "             '[H]c1c(c(c(c(c1[H])[H])[C@@]2([C@@](C2([H])[H])([H])C([H])([H])[N+]([H])([H])[H])C(=O)N(C([H])([H])C([H])([H])[H])C([H])([H])C([H])([H])[H])[H])[H]': ['ccn(cc)c(=o)[c@@]1(c[c@@h]1c[nh3+])c2ccccc2-0',\n",
       "              'ccn(cc)c(=o)[c@@]1(c[c@@h]1c[nh3+])c2ccccc2-1',\n",
       "              'ccn(cc)c(=o)[c@@]1(c[c@@h]1c[nh3+])c2ccccc2-2'],\n",
       "             '[H]c1c(c2c(c(c1C([H])([H])[C@]3(C(OC(=O)N3[H])([H])[H])[H])[H])C(=C(N2[H])[H])C([H])([H])C([H])([H])[N+]([H])(C([H])([H])[H])C([H])([H])[H])[H]': ['c[nh+](c)ccc1c[nh]c2c1cc(cc2)c[c@h]3coc(=o)n3-0',\n",
       "              'c[nh+](c)ccc1c[nh]c2c1cc(cc2)c[c@h]3coc(=o)n3-1',\n",
       "              'c[nh+](c)ccc1c[nh]c2c1cc(cc2)c[c@h]3coc(=o)n3-2',\n",
       "              'c[nh+](c)ccc1c[nh]c2c1cc(cc2)c[c@h]3coc(=o)n3-3',\n",
       "              'c[nh+](c)ccc1c[nh]c2c1cc(cc2)c[c@h]3coc(=o)n3-4',\n",
       "              'c[nh+](c)ccc1c[nh]c2c1cc(cc2)c[c@h]3coc(=o)n3-5',\n",
       "              'c[nh+](c)ccc1c[nh]c2c1cc(cc2)c[c@h]3coc(=o)n3-6',\n",
       "              'c[nh+](c)ccc1c[nh]c2c1cc(cc2)c[c@h]3coc(=o)n3-7',\n",
       "              'c[nh+](c)ccc1c[nh]c2c1cc(cc2)c[c@h]3coc(=o)n3-8',\n",
       "              'c[nh+](c)ccc1c[nh]c2c1cc(cc2)c[c@h]3coc(=o)n3-9',\n",
       "              'c[nh+](c)ccc1c[nh]c2c1cc(cc2)c[c@h]3coc(=o)n3-10',\n",
       "              'c[nh+](c)ccc1c[nh]c2c1cc(cc2)c[c@h]3coc(=o)n3-11',\n",
       "              'c[nh+](c)ccc1c[nh]c2c1cc(cc2)c[c@h]3coc(=o)n3-12',\n",
       "              'c[nh+](c)ccc1c[nh]c2c1cc(cc2)c[c@h]3coc(=o)n3-13',\n",
       "              'c[nh+](c)ccc1c[nh]c2c1cc(cc2)c[c@h]3coc(=o)n3-14',\n",
       "              'c[nh+](c)ccc1c[nh]c2c1cc(cc2)c[c@h]3coc(=o)n3-15',\n",
       "              'c[nh+](c)ccc1c[nh]c2c1cc(cc2)c[c@h]3coc(=o)n3-16',\n",
       "              'c[nh+](c)ccc1c[nh]c2c1cc(cc2)c[c@h]3coc(=o)n3-17',\n",
       "              'c[nh+](c)ccc1c[nh]c2c1cc(cc2)c[c@h]3coc(=o)n3-18',\n",
       "              'c[nh+](c)ccc1c[nh]c2c1cc(cc2)c[c@h]3coc(=o)n3-19'],\n",
       "             '[H]c1c(c(c(c(c1S(=O)(=O)N([H])[H])Cl)[H])N([H])C([H])([H])C2=C(C(=C(O2)[H])[H])[H])C(=O)[O-]': ['c1cc(oc1)cnc2cc(c(cc2c(=o)[o-])s(=o)(=o)n)cl-0',\n",
       "              'c1cc(oc1)cnc2cc(c(cc2c(=o)[o-])s(=o)(=o)n)cl-1',\n",
       "              'c1cc(oc1)cnc2cc(c(cc2c(=o)[o-])s(=o)(=o)n)cl-2',\n",
       "              'c1cc(oc1)cnc2cc(c(cc2c(=o)[o-])s(=o)(=o)n)cl-3',\n",
       "              'c1cc(oc1)cnc2cc(c(cc2c(=o)[o-])s(=o)(=o)n)cl-4',\n",
       "              'c1cc(oc1)cnc2cc(c(cc2c(=o)[o-])s(=o)(=o)n)cl-5',\n",
       "              'c1cc(oc1)cnc2cc(c(cc2c(=o)[o-])s(=o)(=o)n)cl-6',\n",
       "              'c1cc(oc1)cnc2cc(c(cc2c(=o)[o-])s(=o)(=o)n)cl-7',\n",
       "              'c1cc(oc1)cnc2cc(c(cc2c(=o)[o-])s(=o)(=o)n)cl-8',\n",
       "              'c1cc(oc1)cnc2cc(c(cc2c(=o)[o-])s(=o)(=o)n)cl-9',\n",
       "              'c1cc(oc1)cnc2cc(c(cc2c(=o)[o-])s(=o)(=o)n)cl-10',\n",
       "              'c1cc(oc1)cnc2cc(c(cc2c(=o)[o-])s(=o)(=o)n)cl-11',\n",
       "              'c1cc(oc1)cnc2cc(c(cc2c(=o)[o-])s(=o)(=o)n)cl-12',\n",
       "              'c1cc(oc1)cnc2cc(c(cc2c(=o)[o-])s(=o)(=o)n)cl-13',\n",
       "              'c1cc(oc1)cnc2cc(c(cc2c(=o)[o-])s(=o)(=o)n)cl-14'],\n",
       "             '[H]c1c(c(c(c(c1[H])C([H])([H])[H])OC([H])([H])[C@@]([H])(C([H])([H])[H])[N+]([H])([H])[H])C([H])([H])[H])[H]': ['cc1cccc(c1oc[c@@h](c)[nh3+])c-0'],\n",
       "             '[H]c1c(c(c(c(c1[C@@]([H])(C([H])([H])[N+]([H])([H])C(C([H])([H])[H])(C([H])([H])[H])C([H])([H])[H])O[H])[H])C([H])([H])O[H])O[H])[H]': ['cc(c)(c)[nh2+]c[c@h](c1ccc(c(c1)co)o)o-0',\n",
       "              'cc(c)(c)[nh2+]c[c@h](c1ccc(c(c1)co)o)o-1',\n",
       "              'cc(c)(c)[nh2+]c[c@h](c1ccc(c(c1)co)o)o-2',\n",
       "              'cc(c)(c)[nh2+]c[c@h](c1ccc(c(c1)co)o)o-3',\n",
       "              'cc(c)(c)[nh2+]c[c@h](c1ccc(c(c1)co)o)o-4',\n",
       "              'cc(c)(c)[nh2+]c[c@h](c1ccc(c(c1)co)o)o-5',\n",
       "              'cc(c)(c)[nh2+]c[c@h](c1ccc(c(c1)co)o)o-6',\n",
       "              'cc(c)(c)[nh2+]c[c@h](c1ccc(c(c1)co)o)o-7',\n",
       "              'cc(c)(c)[nh2+]c[c@h](c1ccc(c(c1)co)o)o-8',\n",
       "              'cc(c)(c)[nh2+]c[c@h](c1ccc(c(c1)co)o)o-9',\n",
       "              'cc(c)(c)[nh2+]c[c@h](c1ccc(c(c1)co)o)o-10',\n",
       "              'cc(c)(c)[nh2+]c[c@h](c1ccc(c(c1)co)o)o-11',\n",
       "              'cc(c)(c)[nh2+]c[c@h](c1ccc(c(c1)co)o)o-12',\n",
       "              'cc(c)(c)[nh2+]c[c@h](c1ccc(c(c1)co)o)o-13',\n",
       "              'cc(c)(c)[nh2+]c[c@h](c1ccc(c(c1)co)o)o-14',\n",
       "              'cc(c)(c)[nh2+]c[c@h](c1ccc(c(c1)co)o)o-15',\n",
       "              'cc(c)(c)[nh2+]c[c@h](c1ccc(c(c1)co)o)o-16',\n",
       "              'cc(c)(c)[nh2+]c[c@h](c1ccc(c(c1)co)o)o-17'],\n",
       "             '[H]c1c(c(c2c(c1[H])N(c3c(c(c(c(c3S2)[H])[H])[H])[H])C([H])([H])[C@]([H])(C([H])([H])[H])[N+]([H])(C([H])([H])[H])C([H])([H])[H])[H])[H]': ['c[c@@h](cn1c2ccccc2sc3c1cccc3)[nh+](c)c-0',\n",
       "              'c[c@@h](cn1c2ccccc2sc3c1cccc3)[nh+](c)c-1',\n",
       "              'c[c@@h](cn1c2ccccc2sc3c1cccc3)[nh+](c)c-2'],\n",
       "             '[H]c1c(c(c(c(c1C(C([H])([H])N2C(=NC(=N2)[H])[H])(C([H])([H])N3C(=NC(=N3)[H])[H])O[H])F)[H])F)[H]': ['c1cc(c(cc1f)f)c(cn2cncn2)(cn3cncn3)o-0',\n",
       "              'c1cc(c(cc1f)f)c(cn2cncn2)(cn3cncn3)o-1',\n",
       "              'c1cc(c(cc1f)f)c(cn2cncn2)(cn3cncn3)o-2',\n",
       "              'c1cc(c(cc1f)f)c(cn2cncn2)(cn3cncn3)o-3',\n",
       "              'c1cc(c(cc1f)f)c(cn2cncn2)(cn3cncn3)o-4',\n",
       "              'c1cc(c(cc1f)f)c(cn2cncn2)(cn3cncn3)o-5',\n",
       "              'c1cc(c(cc1f)f)c(cn2cncn2)(cn3cncn3)o-6',\n",
       "              'c1cc(c(cc1f)f)c(cn2cncn2)(cn3cncn3)o-7',\n",
       "              'c1cc(c(cc1f)f)c(cn2cncn2)(cn3cncn3)o-8',\n",
       "              'c1cc(c(cc1f)f)c(cn2cncn2)(cn3cncn3)o-9',\n",
       "              'c1cc(c(cc1f)f)c(cn2cncn2)(cn3cncn3)o-10',\n",
       "              'c1cc(c(cc1f)f)c(cn2cncn2)(cn3cncn3)o-11',\n",
       "              'c1cc(c(cc1f)f)c(cn2cncn2)(cn3cncn3)o-12',\n",
       "              'c1cc(c(cc1f)f)c(cn2cncn2)(cn3cncn3)o-13',\n",
       "              'c1cc(c(cc1f)f)c(cn2cncn2)(cn3cncn3)o-14',\n",
       "              'c1cc(c(cc1f)f)c(cn2cncn2)(cn3cncn3)o-15',\n",
       "              'c1cc(c(cc1f)f)c(cn2cncn2)(cn3cncn3)o-16',\n",
       "              'c1cc(c(cc1f)f)c(cn2cncn2)(cn3cncn3)o-17',\n",
       "              'c1cc(c(cc1f)f)c(cn2cncn2)(cn3cncn3)o-18',\n",
       "              'c1cc(c(cc1f)f)c(cn2cncn2)(cn3cncn3)o-19'],\n",
       "             '[H]C#C[C@]1([C@@]2([C@]([C@]3([C@](C(=C([H])[H])C2([H])[H])([C@@]4(C(=C(C(C(C4([H])[H])([H])[H])([H])[H])[H])C(C3([H])[H])([H])[H])[H])[H])[H])(C(C1([H])[H])([H])[H])[H])C([H])([H])C([H])([H])[H])O[H]': ['cc[c@]12cc(=c)[c@h]3[c@h]([c@@h]1cc[c@]2(c#c)o)ccc4=cccc[c@h]34-0'],\n",
       "             '[H]C#C[C@]1([C@@]2([C@]([C@]3([C@](C(=C([H])[H])C2([H])[H])([C@@]4(C(=C(C(=O)C(C4([H])[H])([H])[H])[H])C(C3([H])[H])([H])[H])[H])[H])[H])(C(C1([H])[H])([H])[H])[H])C([H])([H])C([H])([H])[H])O[H]': ['cc[c@]12cc(=c)[c@h]3[c@h]([c@@h]1cc[c@]2(c#c)o)ccc4=cc(=o)cc[c@h]34-0'],\n",
       "             '[H]C1(C(=O)N(C(=O)[C@]1(C([H])([H])[H])C([H])([H])C([H])([H])[H])[H])[H]': ['cc[c@@]1(cc(=o)nc1=o)c-0'],\n",
       "             '[H]C1(C(=O)N(C(=O)[C@@]1(C([H])([H])[H])C([H])([H])C([H])([H])[H])[H])[H]': ['cc[c@]1(cc(=o)nc1=o)c-0'],\n",
       "             '[H]c1c(c(c(c2c1C([C@@]3([C@]4([C@@]2(C(C(C(C4([H])[H])([H])[H])([H])[H])([H])[H])C(C([N@@+]3([H])C([H])([H])[H])([H])[H])([H])[H])[H])[H])([H])[H])[H])O[H])[H]': ['c[n@@h+]1cc[c@]23cccc[c@h]2[c@h]1cc4c3cc(cc4)o-0'],\n",
       "             '[H]c1c(c(c(c2c1C([C@@]3([C@]4([C@@]2(C(C(C(C4([H])[H])([H])[H])([H])[H])([H])[H])C(C([N@+]3([H])C([H])([H])[H])([H])[H])([H])[H])[H])[H])([H])[H])[H])O[H])[H]': ['c[n@h+]1cc[c@]23cccc[c@h]2[c@h]1cc4c3cc(cc4)o-0'],\n",
       "             '[H]C1=Nc2c(nc(nc2OC([H])([H])[H])N([H])[H])N1[C@]3([C@@]([C@]([C@@](O3)([H])C([H])([H])O[H])([H])O[H])([H])O[H])[H]': ['coc1c2c(nc(n1)n)n(cn2)[c@h]3[c@h]([c@@h]([c@h](o3)co)o)o-0',\n",
       "              'coc1c2c(nc(n1)n)n(cn2)[c@h]3[c@h]([c@@h]([c@h](o3)co)o)o-1',\n",
       "              'coc1c2c(nc(n1)n)n(cn2)[c@h]3[c@h]([c@@h]([c@h](o3)co)o)o-2',\n",
       "              'coc1c2c(nc(n1)n)n(cn2)[c@h]3[c@h]([c@@h]([c@h](o3)co)o)o-3',\n",
       "              'coc1c2c(nc(n1)n)n(cn2)[c@h]3[c@h]([c@@h]([c@h](o3)co)o)o-4',\n",
       "              'coc1c2c(nc(n1)n)n(cn2)[c@h]3[c@h]([c@@h]([c@h](o3)co)o)o-5',\n",
       "              'coc1c2c(nc(n1)n)n(cn2)[c@h]3[c@h]([c@@h]([c@h](o3)co)o)o-6',\n",
       "              'coc1c2c(nc(n1)n)n(cn2)[c@h]3[c@h]([c@@h]([c@h](o3)co)o)o-7',\n",
       "              'coc1c2c(nc(n1)n)n(cn2)[c@h]3[c@h]([c@@h]([c@h](o3)co)o)o-8',\n",
       "              'coc1c2c(nc(n1)n)n(cn2)[c@h]3[c@h]([c@@h]([c@h](o3)co)o)o-9',\n",
       "              'coc1c2c(nc(n1)n)n(cn2)[c@h]3[c@h]([c@@h]([c@h](o3)co)o)o-10',\n",
       "              'coc1c2c(nc(n1)n)n(cn2)[c@h]3[c@h]([c@@h]([c@h](o3)co)o)o-11',\n",
       "              'coc1c2c(nc(n1)n)n(cn2)[c@h]3[c@h]([c@@h]([c@h](o3)co)o)o-12',\n",
       "              'coc1c2c(nc(n1)n)n(cn2)[c@h]3[c@h]([c@@h]([c@h](o3)co)o)o-13',\n",
       "              'coc1c2c(nc(n1)n)n(cn2)[c@h]3[c@h]([c@@h]([c@h](o3)co)o)o-14'],\n",
       "             '[H]c1c(c(c(c(c1[H])C2=N[C@](C(=O)N(c3c2c(c(c(c3[H])[H])Cl)[H])[H])([H])O[H])Cl)[H])[H]': ['c1ccc(c(c1)c2=n[c@@h](c(=o)nc3c2cc(cc3)cl)o)cl-0',\n",
       "              'c1ccc(c(c1)c2=n[c@@h](c(=o)nc3c2cc(cc3)cl)o)cl-1',\n",
       "              'c1ccc(c(c1)c2=n[c@@h](c(=o)nc3c2cc(cc3)cl)o)cl-2',\n",
       "              'c1ccc(c(c1)c2=n[c@@h](c(=o)nc3c2cc(cc3)cl)o)cl-3'],\n",
       "             '[H]c1c(c(c2c(c1[H])C(=C(c3c(c(c(c(c3C2=C4C(C([N+](C(C4([H])[H])([H])[H])([H])C([H])([H])[H])([H])[H])([H])[H])[H])[H])[H])[H])[H])[H])[H])[H]': ['c[nh+]1ccc(=c2c3ccccc3c=cc4c2cccc4)cc1-0'],\n",
       "             '[H]c1c(c(c2c(c1[H])C(=C(c3c(c(c(c(c3C2=C4C(C(N(C(C4([H])[H])([H])[H])C([H])([H])[H])([H])[H])([H])[H])[H])[H])[H])[H])[H])[H])[H])[H]': ['cn1ccc(=c2c3ccccc3c=cc4c2cccc4)cc1-0'],\n",
       "             '[H]c1c(c(c(c(c1[H])[H])[C@@]2([C@](C2([H])[H])([H])[N+]([H])([H])[H])[H])[H])[H]': ['c1ccc(cc1)[c@h]2c[c@h]2[nh3+]-0'],\n",
       "             '[H][C@]12[C@](C([C@](C1([H])[H])(C(C2([H])[H])([H])[H])[H])(C([H])([H])[H])C([H])([H])[H])(C([H])([H])[H])[N+]([H])([H])C([H])([H])[H]': ['c[c@@]1([c@@h]2cc[c@@h](c2)c1(c)c)[nh2+]c-0'],\n",
       "             '[H]C([H])([H])C(O[H])(P(=O)([O-])[O-])P(=O)([O-])[O-]': ['cc(o)(p(=o)([o-])[o-])p(=o)([o-])[o-]-0',\n",
       "              'cc(o)(p(=o)([o-])[o-])p(=o)([o-])[o-]-1'],\n",
       "             '[H]C([H])([H])C(O[H])(P(=O)([O-])O[H])P(=O)([O-])O[H]': ['cc(o)([p@@](=o)(o)[o-])[p@](=o)(o)[o-]-0',\n",
       "              'cc(o)([p@@](=o)(o)[o-])[p@](=o)(o)[o-]-1',\n",
       "              'cc(o)([p@@](=o)(o)[o-])[p@](=o)(o)[o-]-2',\n",
       "              'cc(o)([p@@](=o)(o)[o-])[p@](=o)(o)[o-]-3',\n",
       "              'cc(o)([p@@](=o)(o)[o-])[p@](=o)(o)[o-]-4',\n",
       "              'cc(o)([p@@](=o)(o)[o-])[p@](=o)(o)[o-]-5',\n",
       "              'cc(o)([p@@](=o)(o)[o-])[p@](=o)(o)[o-]-6',\n",
       "              'cc(o)([p@@](=o)(o)[o-])[p@](=o)(o)[o-]-7',\n",
       "              'cc(o)([p@@](=o)(o)[o-])[p@](=o)(o)[o-]-8'],\n",
       "             '[H]c1c(c(c(c(c1[H])[H])[C@]([H])(C(=O)OC([H])([H])[H])[C@]2(C(C(C(C([N+]2([H])[H])([H])[H])([H])[H])([H])[H])([H])[H])[H])[H])[H]': ['coc(=o)[c@@h](c1ccccc1)[c@h]2cccc[nh2+]2-0',\n",
       "              'coc(=o)[c@@h](c1ccccc1)[c@h]2cccc[nh2+]2-1',\n",
       "              'coc(=o)[c@@h](c1ccccc1)[c@h]2cccc[nh2+]2-2',\n",
       "              'coc(=o)[c@@h](c1ccccc1)[c@h]2cccc[nh2+]2-3',\n",
       "              'coc(=o)[c@@h](c1ccccc1)[c@h]2cccc[nh2+]2-4'],\n",
       "             '[H]c1c(c(c(c(c1[H])C([H])([H])[H])N2C(=O)c3c(c(c(c(c3N([C@]2([H])C([H])([H])[H])[H])[H])Cl)S(=O)(=O)N([H])[H])[H])[H])[H]': ['cc1ccccc1n2[c@h](nc3cc(c(cc3c2=o)s(=o)(=o)n)cl)c-0',\n",
       "              'cc1ccccc1n2[c@h](nc3cc(c(cc3c2=o)s(=o)(=o)n)cl)c-1',\n",
       "              'cc1ccccc1n2[c@h](nc3cc(c(cc3c2=o)s(=o)(=o)n)cl)c-2',\n",
       "              'cc1ccccc1n2[c@h](nc3cc(c(cc3c2=o)s(=o)(=o)n)cl)c-3',\n",
       "              'cc1ccccc1n2[c@h](nc3cc(c(cc3c2=o)s(=o)(=o)n)cl)c-4',\n",
       "              'cc1ccccc1n2[c@h](nc3cc(c(cc3c2=o)s(=o)(=o)n)cl)c-5'],\n",
       "             '[H]c1c(c(c(c(c1[H])[H])[C@@](C(=O)O[C@@]2(C(C([N+](C2([H])[H])(C([H])([H])[H])C([H])([H])[H])([H])[H])([H])[H])[H])(C3(C(C(C(C3([H])[H])([H])[H])([H])[H])([H])[H])[H])O[H])[H])[H]': ['c[n+]1(cc[c@h](c1)oc(=o)[c@](c2ccccc2)(c3cccc3)o)c-0',\n",
       "              'c[n+]1(cc[c@h](c1)oc(=o)[c@](c2ccccc2)(c3cccc3)o)c-1',\n",
       "              'c[n+]1(cc[c@h](c1)oc(=o)[c@](c2ccccc2)(c3cccc3)o)c-2',\n",
       "              'c[n+]1(cc[c@h](c1)oc(=o)[c@](c2ccccc2)(c3cccc3)o)c-3',\n",
       "              'c[n+]1(cc[c@h](c1)oc(=o)[c@](c2ccccc2)(c3cccc3)o)c-4',\n",
       "              'c[n+]1(cc[c@h](c1)oc(=o)[c@](c2ccccc2)(c3cccc3)o)c-5',\n",
       "              'c[n+]1(cc[c@h](c1)oc(=o)[c@](c2ccccc2)(c3cccc3)o)c-6',\n",
       "              'c[n+]1(cc[c@h](c1)oc(=o)[c@](c2ccccc2)(c3cccc3)o)c-7',\n",
       "              'c[n+]1(cc[c@h](c1)oc(=o)[c@](c2ccccc2)(c3cccc3)o)c-8',\n",
       "              'c[n+]1(cc[c@h](c1)oc(=o)[c@](c2ccccc2)(c3cccc3)o)c-9',\n",
       "              'c[n+]1(cc[c@h](c1)oc(=o)[c@](c2ccccc2)(c3cccc3)o)c-10',\n",
       "              'c[n+]1(cc[c@h](c1)oc(=o)[c@](c2ccccc2)(c3cccc3)o)c-11',\n",
       "              'c[n+]1(cc[c@h](c1)oc(=o)[c@](c2ccccc2)(c3cccc3)o)c-12',\n",
       "              'c[n+]1(cc[c@h](c1)oc(=o)[c@](c2ccccc2)(c3cccc3)o)c-13'],\n",
       "             '[H]c1c(c(c(c(c1[H])[H])C([H])([H])[C@]2(N(c3c(c(c(c(c3S(=O)(=O)N2[H])[H])S(=O)(=O)N([H])[H])C(F)(F)F)[H])[H])[H])[H])[H]': ['c1ccc(cc1)c[c@h]2nc3cc(c(cc3s(=o)(=o)n2)s(=o)(=o)n)c(f)(f)f-0',\n",
       "              'c1ccc(cc1)c[c@h]2nc3cc(c(cc3s(=o)(=o)n2)s(=o)(=o)n)c(f)(f)f-1',\n",
       "              'c1ccc(cc1)c[c@h]2nc3cc(c(cc3s(=o)(=o)n2)s(=o)(=o)n)c(f)(f)f-2',\n",
       "              'c1ccc(cc1)c[c@h]2nc3cc(c(cc3s(=o)(=o)n2)s(=o)(=o)n)c(f)(f)f-3',\n",
       "              'c1ccc(cc1)c[c@h]2nc3cc(c(cc3s(=o)(=o)n2)s(=o)(=o)n)c(f)(f)f-4',\n",
       "              'c1ccc(cc1)c[c@h]2nc3cc(c(cc3s(=o)(=o)n2)s(=o)(=o)n)c(f)(f)f-5',\n",
       "              'c1ccc(cc1)c[c@h]2nc3cc(c(cc3s(=o)(=o)n2)s(=o)(=o)n)c(f)(f)f-6',\n",
       "              'c1ccc(cc1)c[c@h]2nc3cc(c(cc3s(=o)(=o)n2)s(=o)(=o)n)c(f)(f)f-7',\n",
       "              'c1ccc(cc1)c[c@h]2nc3cc(c(cc3s(=o)(=o)n2)s(=o)(=o)n)c(f)(f)f-8'],\n",
       "             '[H]c1c(c(c(c(c1C(=O)C2=C(C(=C(N2C([H])([H])[H])C([H])([H])C(=O)[O-])[H])[H])[H])[H])C([H])([H])[H])[H]': ['cc1ccc(cc1)c(=o)c2ccc(n2c)cc(=o)[o-]-0',\n",
       "              'cc1ccc(cc1)c(=o)c2ccc(n2c)cc(=o)[o-]-1',\n",
       "              'cc1ccc(cc1)c(=o)c2ccc(n2c)cc(=o)[o-]-2',\n",
       "              'cc1ccc(cc1)c(=o)c2ccc(n2c)cc(=o)[o-]-3',\n",
       "              'cc1ccc(cc1)c(=o)c2ccc(n2c)cc(=o)[o-]-4',\n",
       "              'cc1ccc(cc1)c(=o)c2ccc(n2c)cc(=o)[o-]-5',\n",
       "              'cc1ccc(cc1)c(=o)c2ccc(n2c)cc(=o)[o-]-6',\n",
       "              'cc1ccc(cc1)c(=o)c2ccc(n2c)cc(=o)[o-]-7'],\n",
       "             '[H]c1c(c(c(c(c1[H])[H])C2(C(C([N+](C(C2([H])[H])([H])[H])([H])C([H])([H])[H])([H])[H])([H])[H])C(=O)OC([H])([H])C([H])([H])[H])[H])[H]': ['ccoc(=o)c1(cc[nh+](cc1)c)c2ccccc2-0',\n",
       "              'ccoc(=o)c1(cc[nh+](cc1)c)c2ccccc2-1',\n",
       "              'ccoc(=o)c1(cc[nh+](cc1)c)c2ccccc2-2',\n",
       "              'ccoc(=o)c1(cc[nh+](cc1)c)c2ccccc2-3',\n",
       "              'ccoc(=o)c1(cc[nh+](cc1)c)c2ccccc2-4'],\n",
       "             '[H]c1c(c(c(c(c1[H])[H])C2(C(C(N(C(C2([H])[H])([H])[H])C([H])([H])[H])([H])[H])([H])[H])C(=O)OC([H])([H])C([H])([H])[H])[H])[H]': ['ccoc(=o)c1(ccn(cc1)c)c2ccccc2-0',\n",
       "              'ccoc(=o)c1(ccn(cc1)c)c2ccccc2-1',\n",
       "              'ccoc(=o)c1(ccn(cc1)c)c2ccccc2-2',\n",
       "              'ccoc(=o)c1(ccn(cc1)c)c2ccccc2-3',\n",
       "              'ccoc(=o)c1(ccn(cc1)c)c2ccccc2-4',\n",
       "              'ccoc(=o)c1(ccn(cc1)c)c2ccccc2-5',\n",
       "              'ccoc(=o)c1(ccn(cc1)c)c2ccccc2-6'],\n",
       "             '[H]c1c(c(c2c(c1[H])N=C(c3c(c(c(c(c3O2)[H])[H])Cl)[H])N4C(C(N(C(C4([H])[H])([H])[H])[H])([H])[H])([H])[H])[H])[H]': ['c1ccc2c(c1)n=c(c3cc(ccc3o2)cl)n4ccncc4-0',\n",
       "              'c1ccc2c(c1)n=c(c3cc(ccc3o2)cl)n4ccncc4-1',\n",
       "              'c1ccc2c(c1)n=c(c3cc(ccc3o2)cl)n4ccncc4-2',\n",
       "              'c1ccc2c(c1)n=c(c3cc(ccc3o2)cl)n4ccncc4-3'],\n",
       "             '[H]c1c(c(c2c(c1[H])[C@]3(C(N(C(C(=O)N3C(C2([H])[H])([H])[H])([H])[H])C(=O)C4(C(C(C(C(C4([H])[H])([H])[H])([H])[H])([H])[H])([H])[H])[H])([H])[H])[H])[H])[H]': ['c1ccc2c(c1)ccn3[c@@h]2cn(cc3=o)c(=o)c4ccccc4-0',\n",
       "              'c1ccc2c(c1)ccn3[c@@h]2cn(cc3=o)c(=o)c4ccccc4-1',\n",
       "              'c1ccc2c(c1)ccn3[c@@h]2cn(cc3=o)c(=o)c4ccccc4-2',\n",
       "              'c1ccc2c(c1)ccn3[c@@h]2cn(cc3=o)c(=o)c4ccccc4-3',\n",
       "              'c1ccc2c(c1)ccn3[c@@h]2cn(cc3=o)c(=o)c4ccccc4-4',\n",
       "              'c1ccc2c(c1)ccn3[c@@h]2cn(cc3=o)c(=o)c4ccccc4-5',\n",
       "              'c1ccc2c(c1)ccn3[c@@h]2cn(cc3=o)c(=o)c4ccccc4-6',\n",
       "              'c1ccc2c(c1)ccn3[c@@h]2cn(cc3=o)c(=o)c4ccccc4-7',\n",
       "              'c1ccc2c(c1)ccn3[c@@h]2cn(cc3=o)c(=o)c4ccccc4-8',\n",
       "              'c1ccc2c(c1)ccn3[c@@h]2cn(cc3=o)c(=o)c4ccccc4-9',\n",
       "              'c1ccc2c(c1)ccn3[c@@h]2cn(cc3=o)c(=o)c4ccccc4-10'],\n",
       "             '[H]c1c(c(c(nc1[H])[H])C2=C(C([C@@]3([C@@]2(C(C([C@]4([C@]3(C(C(=C5[C@@]4(C(C([C@](C5([H])[H])([H])O[H])([H])[H])([H])[H])C([H])([H])[H])[H])([H])[H])[H])[H])([H])[H])([H])[H])C([H])([H])[H])[H])([H])[H])[H])[H]': ['c[c@]12cc[c@@h](cc1=cc[c@@h]3[c@@h]2cc[c@]4([c@h]3cc=c4c5cccnc5)c)o-0'],\n",
       "             '[H]c1c(c(c(c2c1/C(=C(/[H])\\\\c3c(c(c(c(c3[H])[H])[S@](=O)C([H])([H])[H])[H])[H])/C(=C2C([H])([H])C(=O)[O-])C([H])([H])[H])[H])F)[H]': ['cc\\\\1=c(c2cc(ccc2/c1=c\\\\c3ccc(cc3)[s@](=o)c)f)cc(=o)[o-]-0',\n",
       "              'cc\\\\1=c(c2cc(ccc2/c1=c\\\\c3ccc(cc3)[s@](=o)c)f)cc(=o)[o-]-1',\n",
       "              'cc\\\\1=c(c2cc(ccc2/c1=c\\\\c3ccc(cc3)[s@](=o)c)f)cc(=o)[o-]-2',\n",
       "              'cc\\\\1=c(c2cc(ccc2/c1=c\\\\c3ccc(cc3)[s@](=o)c)f)cc(=o)[o-]-3'],\n",
       "             '[H]c1c(c(c(c(c1[H])[H])C(c2c(c(c(c(c2[H])[H])[H])[H])[H])(C(=O)O[C@]3(C([N+]4(C(C(C3(C(C4([H])[H])([H])[H])[H])([H])[H])([H])[H])C([H])([H])[H])([H])[H])[H])O[H])[H])[H]': ['c[n+]12ccc(cc1)[c@h](c2)oc(=o)c(c3ccccc3)(c4ccccc4)o-0',\n",
       "              'c[n+]12ccc(cc1)[c@h](c2)oc(=o)c(c3ccccc3)(c4ccccc4)o-1',\n",
       "              'c[n+]12ccc(cc1)[c@h](c2)oc(=o)c(c3ccccc3)(c4ccccc4)o-2',\n",
       "              'c[n+]12ccc(cc1)[c@h](c2)oc(=o)c(c3ccccc3)(c4ccccc4)o-3',\n",
       "              'c[n+]12ccc(cc1)[c@h](c2)oc(=o)c(c3ccccc3)(c4ccccc4)o-4',\n",
       "              'c[n+]12ccc(cc1)[c@h](c2)oc(=o)c(c3ccccc3)(c4ccccc4)o-5',\n",
       "              'c[n+]12ccc(cc1)[c@h](c2)oc(=o)c(c3ccccc3)(c4ccccc4)o-6',\n",
       "              'c[n+]12ccc(cc1)[c@h](c2)oc(=o)c(c3ccccc3)(c4ccccc4)o-7',\n",
       "              'c[n+]12ccc(cc1)[c@h](c2)oc(=o)c(c3ccccc3)(c4ccccc4)o-8',\n",
       "              'c[n+]12ccc(cc1)[c@h](c2)oc(=o)c(c3ccccc3)(c4ccccc4)o-9',\n",
       "              'c[n+]12ccc(cc1)[c@h](c2)oc(=o)c(c3ccccc3)(c4ccccc4)o-10',\n",
       "              'c[n+]12ccc(cc1)[c@h](c2)oc(=o)c(c3ccccc3)(c4ccccc4)o-11',\n",
       "              'c[n+]12ccc(cc1)[c@h](c2)oc(=o)c(c3ccccc3)(c4ccccc4)o-12',\n",
       "              'c[n+]12ccc(cc1)[c@h](c2)oc(=o)c(c3ccccc3)(c4ccccc4)o-13',\n",
       "              'c[n+]12ccc(cc1)[c@h](c2)oc(=o)c(c3ccccc3)(c4ccccc4)o-14',\n",
       "              'c[n+]12ccc(cc1)[c@h](c2)oc(=o)c(c3ccccc3)(c4ccccc4)o-15',\n",
       "              'c[n+]12ccc(cc1)[c@h](c2)oc(=o)c(c3ccccc3)(c4ccccc4)o-16'],\n",
       "             '[H]c1c(c(c2c(c1[H])[C@](C(C([C@]2([H])[N+]([H])([H])C([H])([H])[H])([H])[H])([H])[H])([H])c3c(c(c(c(c3[H])Cl)Cl)[H])[H])[H])[H]': ['c[nh2+][c@h]1cc[c@h](c2c1cccc2)c3ccc(c(c3)cl)cl-0',\n",
       "              'c[nh2+][c@h]1cc[c@h](c2c1cccc2)c3ccc(c(c3)cl)cl-1',\n",
       "              'c[nh2+][c@h]1cc[c@h](c2c1cccc2)c3ccc(c(c3)cl)cl-2',\n",
       "              'c[nh2+][c@h]1cc[c@h](c2c1cccc2)c3ccc(c(c3)cl)cl-3'],\n",
       "             '[H][C@@](C1(C(=O)N(C(=O)N(C1=O)[H])[H])C([H])([H])C([H])([H])[H])(C([H])([H])[H])C([H])([H])C([H])([H])[H]': ['cc[c@@h](c)c1(c(=o)nc(=o)nc1=o)cc-0',\n",
       "              'cc[c@@h](c)c1(c(=o)nc(=o)nc1=o)cc-1',\n",
       "              'cc[c@@h](c)c1(c(=o)nc(=o)nc1=o)cc-2'],\n",
       "             '[H][C@@]([C@]1(C(=O)[N-]C(=O)N(C1=O)[H])C([H])([H])C([H])([H])[H])(C([H])([H])[H])C([H])([H])C([H])([H])[H]': ['cc[c@@h](c)[c@@]1(c(=o)nc(=o)[n-]c1=o)cc-0',\n",
       "              'cc[c@@h](c)[c@@]1(c(=o)nc(=o)[n-]c1=o)cc-1',\n",
       "              'cc[c@@h](c)[c@@]1(c(=o)nc(=o)[n-]c1=o)cc-2',\n",
       "              'cc[c@@h](c)[c@@]1(c(=o)nc(=o)[n-]c1=o)cc-3'],\n",
       "             '[H]c1c(c(c(c(c1[C@]([H])(C(=O)N([H])[C@@]2(C(=O)N3[C@@]2(SC(C(=C3C(=O)[O-])/C(=C(\\\\[H])/C([H])([H])[H])/[H])([H])[H])[H])[H])N([H])[H])[H])[H])O[H])[H]': ['c/c=c/c1=c(n2[c@@h]([c@@h](c2=o)nc(=o)[c@@h](c3ccc(cc3)o)n)sc1)c(=o)[o-]-0',\n",
       "              'c/c=c/c1=c(n2[c@@h]([c@@h](c2=o)nc(=o)[c@@h](c3ccc(cc3)o)n)sc1)c(=o)[o-]-1',\n",
       "              'c/c=c/c1=c(n2[c@@h]([c@@h](c2=o)nc(=o)[c@@h](c3ccc(cc3)o)n)sc1)c(=o)[o-]-2',\n",
       "              'c/c=c/c1=c(n2[c@@h]([c@@h](c2=o)nc(=o)[c@@h](c3ccc(cc3)o)n)sc1)c(=o)[o-]-3',\n",
       "              'c/c=c/c1=c(n2[c@@h]([c@@h](c2=o)nc(=o)[c@@h](c3ccc(cc3)o)n)sc1)c(=o)[o-]-4',\n",
       "              'c/c=c/c1=c(n2[c@@h]([c@@h](c2=o)nc(=o)[c@@h](c3ccc(cc3)o)n)sc1)c(=o)[o-]-5',\n",
       "              'c/c=c/c1=c(n2[c@@h]([c@@h](c2=o)nc(=o)[c@@h](c3ccc(cc3)o)n)sc1)c(=o)[o-]-6',\n",
       "              'c/c=c/c1=c(n2[c@@h]([c@@h](c2=o)nc(=o)[c@@h](c3ccc(cc3)o)n)sc1)c(=o)[o-]-7',\n",
       "              'c/c=c/c1=c(n2[c@@h]([c@@h](c2=o)nc(=o)[c@@h](c3ccc(cc3)o)n)sc1)c(=o)[o-]-8',\n",
       "              'c/c=c/c1=c(n2[c@@h]([c@@h](c2=o)nc(=o)[c@@h](c3ccc(cc3)o)n)sc1)c(=o)[o-]-9',\n",
       "              'c/c=c/c1=c(n2[c@@h]([c@@h](c2=o)nc(=o)[c@@h](c3ccc(cc3)o)n)sc1)c(=o)[o-]-10',\n",
       "              'c/c=c/c1=c(n2[c@@h]([c@@h](c2=o)nc(=o)[c@@h](c3ccc(cc3)o)n)sc1)c(=o)[o-]-11',\n",
       "              'c/c=c/c1=c(n2[c@@h]([c@@h](c2=o)nc(=o)[c@@h](c3ccc(cc3)o)n)sc1)c(=o)[o-]-12',\n",
       "              'c/c=c/c1=c(n2[c@@h]([c@@h](c2=o)nc(=o)[c@@h](c3ccc(cc3)o)n)sc1)c(=o)[o-]-13',\n",
       "              'c/c=c/c1=c(n2[c@@h]([c@@h](c2=o)nc(=o)[c@@h](c3ccc(cc3)o)n)sc1)c(=o)[o-]-14',\n",
       "              'c/c=c/c1=c(n2[c@@h]([c@@h](c2=o)nc(=o)[c@@h](c3ccc(cc3)o)n)sc1)c(=o)[o-]-15'],\n",
       "             '[H]c1c(c(c(c(c1[C@]([H])(C(=O)N([H])[C@@]2(C(=O)N3[C@@]2(SC(C(=C3C(=O)[O-])/C(=C(\\\\[H])/C([H])([H])[H])/[H])([H])[H])[H])[H])[N+]([H])([H])[H])[H])[H])O[H])[H]': ['c/c=c/c1=c(n2[c@@h]([c@@h](c2=o)nc(=o)[c@@h](c3ccc(cc3)o)[nh3+])sc1)c(=o)[o-]-0',\n",
       "              'c/c=c/c1=c(n2[c@@h]([c@@h](c2=o)nc(=o)[c@@h](c3ccc(cc3)o)[nh3+])sc1)c(=o)[o-]-1',\n",
       "              'c/c=c/c1=c(n2[c@@h]([c@@h](c2=o)nc(=o)[c@@h](c3ccc(cc3)o)[nh3+])sc1)c(=o)[o-]-2',\n",
       "              'c/c=c/c1=c(n2[c@@h]([c@@h](c2=o)nc(=o)[c@@h](c3ccc(cc3)o)[nh3+])sc1)c(=o)[o-]-3',\n",
       "              'c/c=c/c1=c(n2[c@@h]([c@@h](c2=o)nc(=o)[c@@h](c3ccc(cc3)o)[nh3+])sc1)c(=o)[o-]-4',\n",
       "              'c/c=c/c1=c(n2[c@@h]([c@@h](c2=o)nc(=o)[c@@h](c3ccc(cc3)o)[nh3+])sc1)c(=o)[o-]-5',\n",
       "              'c/c=c/c1=c(n2[c@@h]([c@@h](c2=o)nc(=o)[c@@h](c3ccc(cc3)o)[nh3+])sc1)c(=o)[o-]-6',\n",
       "              'c/c=c/c1=c(n2[c@@h]([c@@h](c2=o)nc(=o)[c@@h](c3ccc(cc3)o)[nh3+])sc1)c(=o)[o-]-7',\n",
       "              'c/c=c/c1=c(n2[c@@h]([c@@h](c2=o)nc(=o)[c@@h](c3ccc(cc3)o)[nh3+])sc1)c(=o)[o-]-8',\n",
       "              'c/c=c/c1=c(n2[c@@h]([c@@h](c2=o)nc(=o)[c@@h](c3ccc(cc3)o)[nh3+])sc1)c(=o)[o-]-9',\n",
       "              'c/c=c/c1=c(n2[c@@h]([c@@h](c2=o)nc(=o)[c@@h](c3ccc(cc3)o)[nh3+])sc1)c(=o)[o-]-10',\n",
       "              'c/c=c/c1=c(n2[c@@h]([c@@h](c2=o)nc(=o)[c@@h](c3ccc(cc3)o)[nh3+])sc1)c(=o)[o-]-11',\n",
       "              'c/c=c/c1=c(n2[c@@h]([c@@h](c2=o)nc(=o)[c@@h](c3ccc(cc3)o)[nh3+])sc1)c(=o)[o-]-12',\n",
       "              'c/c=c/c1=c(n2[c@@h]([c@@h](c2=o)nc(=o)[c@@h](c3ccc(cc3)o)[nh3+])sc1)c(=o)[o-]-13'],\n",
       "             '[H]c1c(c(c(c2c1c(c(c(c2[H])[H])C(=O)[O-])[H])[H])c3c(c(c(c(c3[H])C45C(C6(C(C(C4([H])[H])(C(C(C6([H])[H])(C5([H])[H])[H])([H])[H])[H])([H])[H])[H])([H])[H])OC([H])([H])[H])[H])[H])[H]': ['coc1ccc(cc1c23cc4cc(c2)cc(c4)c3)c5ccc6cc(ccc6c5)c(=o)[o-]-0',\n",
       "              'coc1ccc(cc1c23cc4cc(c2)cc(c4)c3)c5ccc6cc(ccc6c5)c(=o)[o-]-1',\n",
       "              'coc1ccc(cc1c23cc4cc(c2)cc(c4)c3)c5ccc6cc(ccc6c5)c(=o)[o-]-2'],\n",
       "             '[H]c1c(c(c(c(c1[H])[H])C([H])(c2c(c(c(c(c2[H])[H])[H])[H])[H])[S@@](=O)C([H])([H])C(=O)N([H])[H])[H])[H]': ['c1ccc(cc1)c(c2ccccc2)[s@@](=o)cc(=o)n-0',\n",
       "              'c1ccc(cc1)c(c2ccccc2)[s@@](=o)cc(=o)n-1',\n",
       "              'c1ccc(cc1)c(c2ccccc2)[s@@](=o)cc(=o)n-2',\n",
       "              'c1ccc(cc1)c(c2ccccc2)[s@@](=o)cc(=o)n-3',\n",
       "              'c1ccc(cc1)c(c2ccccc2)[s@@](=o)cc(=o)n-4',\n",
       "              'c1ccc(cc1)c(c2ccccc2)[s@@](=o)cc(=o)n-5',\n",
       "              'c1ccc(cc1)c(c2ccccc2)[s@@](=o)cc(=o)n-6',\n",
       "              'c1ccc(cc1)c(c2ccccc2)[s@@](=o)cc(=o)n-7',\n",
       "              'c1ccc(cc1)c(c2ccccc2)[s@@](=o)cc(=o)n-8',\n",
       "              'c1ccc(cc1)c(c2ccccc2)[s@@](=o)cc(=o)n-9',\n",
       "              'c1ccc(cc1)c(c2ccccc2)[s@@](=o)cc(=o)n-10',\n",
       "              'c1ccc(cc1)c(c2ccccc2)[s@@](=o)cc(=o)n-11',\n",
       "              'c1ccc(cc1)c(c2ccccc2)[s@@](=o)cc(=o)n-12',\n",
       "              'c1ccc(cc1)c(c2ccccc2)[s@@](=o)cc(=o)n-13',\n",
       "              'c1ccc(cc1)c(c2ccccc2)[s@@](=o)cc(=o)n-14'],\n",
       "             '[H]C1=C(C(=NC(=O)N1[C@@]2(C(S[C@](O2)([H])C([H])([H])O[H])([H])[H])[H])N([H])[H])F': ['c1c(c(nc(=o)n1[c@@h]2cs[c@@h](o2)co)n)f-0',\n",
       "              'c1c(c(nc(=o)n1[c@@h]2cs[c@@h](o2)co)n)f-1',\n",
       "              'c1c(c(nc(=o)n1[c@@h]2cs[c@@h](o2)co)n)f-2',\n",
       "              'c1c(c(nc(=o)n1[c@@h]2cs[c@@h](o2)co)n)f-3'],\n",
       "             '[H][C@](C(F)(F)F)(OC([H])(F)F)F': ['[c@h](c(f)(f)f)(oc(f)f)f-0'],\n",
       "             '[H][C@]1(C(C2=C(C(C1([H])[H])([H])[H])N=C(S2)N([H])[H])([H])[H])[N+]([H])([H])C([H])([H])C([H])([H])C([H])([H])[H]': ['ccc[nh2+][c@h]1ccc2c(sc(n2)n)c1-0',\n",
       "              'ccc[nh2+][c@h]1ccc2c(sc(n2)n)c1-1',\n",
       "              'ccc[nh2+][c@h]1ccc2c(sc(n2)n)c1-2'],\n",
       "             '[H]C1=Nc2c(nc(nc2N([H])[H])Cl)N1[C@]3([C@@]([C@]([C@@](O3)([H])C([H])([H])O[H])([H])O[H])([H])F)[H]': ['c1nc2c(nc(nc2n1[c@h]3[c@h]([c@@h]([c@h](o3)co)o)f)cl)n-0',\n",
       "              'c1nc2c(nc(nc2n1[c@h]3[c@h]([c@@h]([c@h](o3)co)o)f)cl)n-1',\n",
       "              'c1nc2c(nc(nc2n1[c@h]3[c@h]([c@@h]([c@h](o3)co)o)f)cl)n-2',\n",
       "              'c1nc2c(nc(nc2n1[c@h]3[c@h]([c@@h]([c@h](o3)co)o)f)cl)n-3',\n",
       "              'c1nc2c(nc(nc2n1[c@h]3[c@h]([c@@h]([c@h](o3)co)o)f)cl)n-4',\n",
       "              'c1nc2c(nc(nc2n1[c@h]3[c@h]([c@@h]([c@h](o3)co)o)f)cl)n-5',\n",
       "              'c1nc2c(nc(nc2n1[c@h]3[c@h]([c@@h]([c@h](o3)co)o)f)cl)n-6',\n",
       "              'c1nc2c(nc(nc2n1[c@h]3[c@h]([c@@h]([c@h](o3)co)o)f)cl)n-7',\n",
       "              'c1nc2c(nc(nc2n1[c@h]3[c@h]([c@@h]([c@h](o3)co)o)f)cl)n-8',\n",
       "              'c1nc2c(nc(nc2n1[c@h]3[c@h]([c@@h]([c@h](o3)co)o)f)cl)n-9'],\n",
       "             '[H]C1([C@]2(C(C3(C([C@@]1(C(C(C2([H])[H])(C3([H])[H])[N+]([H])([H])[H])([H])[H])C([H])([H])[H])([H])[H])[H])([H])[H])C([H])([H])[H])[H]': ['c[c@@]12cc3c[c@@](c1)(cc(c3)(c2)[nh3+])c-0'],\n",
       "             '[H]c1c(c(c2c3c1C([C@@]4([C@]5([C@@]3([C@@](O2)([C@@](C(C5([H])[H])([H])[H])([H])O[H])[H])C(C([N@+]4([H])C([H])([H])C6(C(C(C6([H])[H])([H])[H])([H])[H])[H])([H])[H])([H])[H])O[H])[H])([H])[H])O[H])[H]': ['c1cc(c2c3c1c[c@@h]4[c@]5([c@]3(cc[n@@h+]4cc6ccc6)[c@@h](o2)[c@h](cc5)o)o)o-0',\n",
       "              'c1cc(c2c3c1c[c@@h]4[c@]5([c@]3(cc[n@@h+]4cc6ccc6)[c@@h](o2)[c@h](cc5)o)o)o-1',\n",
       "              'c1cc(c2c3c1c[c@@h]4[c@]5([c@]3(cc[n@@h+]4cc6ccc6)[c@@h](o2)[c@h](cc5)o)o)o-2'],\n",
       "             '[H]c1c(c(c2c3c1C([C@@]4([C@]5([C@@]3([C@@](O2)([C@@](C(C5([H])[H])([H])[H])([H])O[H])[H])C(C([N@@+]4([H])C([H])([H])C6(C(C(C6([H])[H])([H])[H])([H])[H])[H])([H])[H])([H])[H])O[H])[H])([H])[H])O[H])[H]': ['c1cc(c2c3c1c[c@@h]4[c@]5([c@]3(cc[n@h+]4cc6ccc6)[c@@h](o2)[c@h](cc5)o)o)o-0',\n",
       "              'c1cc(c2c3c1c[c@@h]4[c@]5([c@]3(cc[n@h+]4cc6ccc6)[c@@h](o2)[c@h](cc5)o)o)o-1',\n",
       "              'c1cc(c2c3c1c[c@@h]4[c@]5([c@]3(cc[n@h+]4cc6ccc6)[c@@h](o2)[c@h](cc5)o)o)o-2',\n",
       "              'c1cc(c2c3c1c[c@@h]4[c@]5([c@]3(cc[n@h+]4cc6ccc6)[c@@h](o2)[c@h](cc5)o)o)o-3'],\n",
       "             '[H]c1c(c(c2c3c1C([C@@]4([C@]5([C@@]3([C@@](O2)([C@@](C(=C5[H])[H])([H])O[H])[H])C(C([N@+]4([H])C([H])([H])[H])([H])[H])([H])[H])[H])[H])([H])[H])OC([H])([H])[H])[H]': ['c[n@h+]1cc[c@]23c4c5ccc(c4o[c@h]2[c@h](c=c[c@h]3[c@h]1c5)o)oc-0'],\n",
       "             '[H]c1c(c(c2c3c1C([C@@]4([C@]5([C@@]3([C@@](O2)([C@@](C(=C5[H])[H])([H])O[H])[H])C(C([N@@+]4([H])C([H])([H])[H])([H])[H])([H])[H])[H])[H])([H])[H])OC([H])([H])[H])[H]': ['c[n@@h+]1cc[c@]23c4c5ccc(c4o[c@h]2[c@h](c=c[c@h]3[c@h]1c5)o)oc-0'],\n",
       "             '[H]c1c(c(c(c(c1[H])Cl)/C(=C(/N([H])C(=[N+]([H])[H])N([H])[H])\\\\[O-])/[H])Cl)[H]': ['c1cc(c(c(c1)cl)/c=c(/nc(=[nh2+])n)\\\\[o-])cl-0',\n",
       "              'c1cc(c(c(c1)cl)/c=c(/nc(=[nh2+])n)\\\\[o-])cl-1',\n",
       "              'c1cc(c(c(c1)cl)/c=c(/nc(=[nh2+])n)\\\\[o-])cl-2'],\n",
       "             '[H]c1c2c(c(c(c1OC([H])([H])[H])OC([H])([H])[H])[H])C(C([N@]3[C@]2(C(C(=O)[C@@](C3([H])[H])([H])C([H])([H])C([H])(C([H])([H])[H])C([H])([H])[H])([H])[H])[H])([H])[H])([H])[H]': ['cc(c)c[c@h]1c[n@]2ccc3cc(c(cc3[c@@h]2cc1=o)oc)oc-0',\n",
       "              'cc(c)c[c@h]1c[n@]2ccc3cc(c(cc3[c@@h]2cc1=o)oc)oc-1',\n",
       "              'cc(c)c[c@h]1c[n@]2ccc3cc(c(cc3[c@@h]2cc1=o)oc)oc-2'],\n",
       "             '[H]c1c2c(c(c(c1OC([H])([H])[H])OC([H])([H])[H])[H])C(C([N@@+]3([C@]2(C(C(=O)[C@@](C3([H])[H])([H])C([H])([H])C([H])(C([H])([H])[H])C([H])([H])[H])([H])[H])[H])[H])([H])[H])([H])[H]': ['cc(c)c[c@h]1c[n@@h+]2ccc3cc(c(cc3[c@@h]2cc1=o)oc)oc-0',\n",
       "              'cc(c)c[c@h]1c[n@@h+]2ccc3cc(c(cc3[c@@h]2cc1=o)oc)oc-1',\n",
       "              'cc(c)c[c@h]1c[n@@h+]2ccc3cc(c(cc3[c@@h]2cc1=o)oc)oc-2',\n",
       "              'cc(c)c[c@h]1c[n@@h+]2ccc3cc(c(cc3[c@@h]2cc1=o)oc)oc-3',\n",
       "              'cc(c)c[c@h]1c[n@@h+]2ccc3cc(c(cc3[c@@h]2cc1=o)oc)oc-4',\n",
       "              'cc(c)c[c@h]1c[n@@h+]2ccc3cc(c(cc3[c@@h]2cc1=o)oc)oc-5'],\n",
       "             '[H]c1c2c(c(c(c1OC([H])([H])[H])OC([H])([H])[H])[H])C(C([N@+]3([C@]2(C(C(=O)[C@@](C3([H])[H])([H])C([H])([H])C([H])(C([H])([H])[H])C([H])([H])[H])([H])[H])[H])[H])([H])[H])([H])[H]': ['cc(c)c[c@h]1c[n@h+]2ccc3cc(c(cc3[c@@h]2cc1=o)oc)oc-0',\n",
       "              'cc(c)c[c@h]1c[n@h+]2ccc3cc(c(cc3[c@@h]2cc1=o)oc)oc-1',\n",
       "              'cc(c)c[c@h]1c[n@h+]2ccc3cc(c(cc3[c@@h]2cc1=o)oc)oc-2'],\n",
       "             '[H]c1c(c(c(c(c1[H])[H])C(=O)C2=C(C(=C3N2C(C([C@]3([H])C(=O)[O-])([H])[H])([H])[H])[H])[H])[H])[H]': ['c1ccc(cc1)c(=o)c2ccc3n2cc[c@@h]3c(=o)[o-]-0',\n",
       "              'c1ccc(cc1)c(=o)c2ccc3n2cc[c@@h]3c(=o)[o-]-1'],\n",
       "             '[H]c1c(c(c2c(c1[H])C(=C3C(C(N(C(C3([H])[H])([H])[H])C([H])([H])[H])([H])[H])([H])[H])C4=C(C(=O)C2([H])[H])SC(=C4[H])[H])[H])[H]': ['cn1ccc(=c2c3ccccc3cc(=o)c4c2ccs4)cc1-0',\n",
       "              'cn1ccc(=c2c3ccccc3cc(=o)c4c2ccs4)cc1-1'],\n",
       "             '[H]c1c(c(c2c(c1[H])C(=C3C(C([N+](C(C3([H])[H])([H])[H])([H])C([H])([H])[H])([H])[H])([H])[H])C4=C(C(=O)C2([H])[H])SC(=C4[H])[H])[H])[H]': ['c[nh+]1ccc(=c2c3ccccc3cc(=o)c4c2ccs4)cc1-0',\n",
       "              'c[nh+]1ccc(=c2c3ccccc3cc(=o)c4c2ccs4)cc1-1'],\n",
       "             '[H]c1c(c(c(c(c1[H])[H])C2(C(=O)N(C(N(C2=O)[H])([H])[H])[H])C([H])([H])C([H])([H])[H])[H])[H]': ['ccc1(c(=o)ncnc1=o)c2ccccc2-0',\n",
       "              'ccc1(c(=o)ncnc1=o)c2ccccc2-1'],\n",
       "             '[H]c1c(c(c([n+](c1[H])C([H])([H])[H])[H])OC(=O)N(C([H])([H])[H])C([H])([H])[H])[H]': ['c[n+]1cccc(c1)oc(=o)n(c)c-0',\n",
       "              'c[n+]1cccc(c1)oc(=o)n(c)c-1',\n",
       "              'c[n+]1cccc(c1)oc(=o)n(c)c-2',\n",
       "              'c[n+]1cccc(c1)oc(=o)n(c)c-3',\n",
       "              'c[n+]1cccc(c1)oc(=o)n(c)c-4',\n",
       "              'c[n+]1cccc(c1)oc(=o)n(c)c-5'],\n",
       "             '[H]C1=C(C(=O)N(C(=O)N1[C@]2(C([C@]([C@@](O2)([H])C([H])([H])O[H])([H])O[H])([H])[H])[H])[H])C(F)(F)F': ['c1c(c(=o)[nh]c(=o)n1[c@h]2c[c@@h]([c@h](o2)co)o)c(f)(f)f-0',\n",
       "              'c1c(c(=o)[nh]c(=o)n1[c@h]2c[c@@h]([c@h](o2)co)o)c(f)(f)f-1',\n",
       "              'c1c(c(=o)[nh]c(=o)n1[c@h]2c[c@@h]([c@h](o2)co)o)c(f)(f)f-2',\n",
       "              'c1c(c(=o)[nh]c(=o)n1[c@h]2c[c@@h]([c@h](o2)co)o)c(f)(f)f-3',\n",
       "              'c1c(c(=o)[nh]c(=o)n1[c@h]2c[c@@h]([c@h](o2)co)o)c(f)(f)f-4',\n",
       "              'c1c(c(=o)[nh]c(=o)n1[c@h]2c[c@@h]([c@h](o2)co)o)c(f)(f)f-5',\n",
       "              'c1c(c(=o)[nh]c(=o)n1[c@h]2c[c@@h]([c@h](o2)co)o)c(f)(f)f-6',\n",
       "              'c1c(c(=o)[nh]c(=o)n1[c@h]2c[c@@h]([c@h](o2)co)o)c(f)(f)f-7',\n",
       "              'c1c(c(=o)[nh]c(=o)n1[c@h]2c[c@@h]([c@h](o2)co)o)c(f)(f)f-8',\n",
       "              'c1c(c(=o)[nh]c(=o)n1[c@h]2c[c@@h]([c@h](o2)co)o)c(f)(f)f-9'],\n",
       "             '[H]C1=C(C(=O)[N-]C(=O)N1[C@]2(C([C@]([C@@](O2)([H])C([H])([H])O[H])([H])O[H])([H])[H])[H])C(F)(F)F': ['c1c(c(=o)[n-]c(=o)n1[c@h]2c[c@@h]([c@h](o2)co)o)c(f)(f)f-0',\n",
       "              'c1c(c(=o)[n-]c(=o)n1[c@h]2c[c@@h]([c@h](o2)co)o)c(f)(f)f-1',\n",
       "              'c1c(c(=o)[n-]c(=o)n1[c@h]2c[c@@h]([c@h](o2)co)o)c(f)(f)f-2',\n",
       "              'c1c(c(=o)[n-]c(=o)n1[c@h]2c[c@@h]([c@h](o2)co)o)c(f)(f)f-3',\n",
       "              'c1c(c(=o)[n-]c(=o)n1[c@h]2c[c@@h]([c@h](o2)co)o)c(f)(f)f-4',\n",
       "              'c1c(c(=o)[n-]c(=o)n1[c@h]2c[c@@h]([c@h](o2)co)o)c(f)(f)f-5',\n",
       "              'c1c(c(=o)[n-]c(=o)n1[c@h]2c[c@@h]([c@h](o2)co)o)c(f)(f)f-6',\n",
       "              'c1c(c(=o)[n-]c(=o)n1[c@h]2c[c@@h]([c@h](o2)co)o)c(f)(f)f-7',\n",
       "              'c1c(c(=o)[n-]c(=o)n1[c@h]2c[c@@h]([c@h](o2)co)o)c(f)(f)f-8'],\n",
       "             '[H]c1c(c(c(c2c1N(C3=NC(=O)C(N3C2([H])[H])([H])[H])[H])Cl)Cl)[H]': ['c1cc(c(c2c1nc3=nc(=o)cn3c2)cl)cl-0'],\n",
       "             '[H]c1c(c(c(c2c1N(C(=NS2(=O)=O)C([H])([H])[H])[H])[H])Cl)[H]': ['cc1=ns(=o)(=o)c2cc(ccc2n1)cl-0'],\n",
       "             '[H]C1=C(C(=NN1[H])[H])C([H])([H])[H]': ['cc1c[nh]nc1-0'],\n",
       "             '[H]c1c(c(c2c(c1[H])C(=C([H])C([H])([H])C([H])([H])[N+]([H])(C([H])([H])[H])C([H])([H])[H])c3c(c(c(c(c3C(C2([H])[H])([H])[H])[H])[H])[H])[H])[H])[H]': ['c[nh+](c)ccc=c1c2ccccc2ccc3c1cccc3-0',\n",
       "              'c[nh+](c)ccc=c1c2ccccc2ccc3c1cccc3-1',\n",
       "              'c[nh+](c)ccc=c1c2ccccc2ccc3c1cccc3-2',\n",
       "              'c[nh+](c)ccc=c1c2ccccc2ccc3c1cccc3-3'],\n",
       "             '[H][C@@]12[C@@]([C@](C(O1)([H])[H])([H])ON(=O)=O)(OC([C@]2([H])O[H])([H])[H])[H]': ['c1[c@@h]([c@@h]2[c@h](o1)[c@@h](co2)on(=o)=o)o-0',\n",
       "              'c1[c@@h]([c@@h]2[c@h](o1)[c@@h](co2)on(=o)=o)o-1'],\n",
       "             '[H]c1c(c(c(c(c1C(F)(F)F)[H])N([H])C(=O)[C@@]2([C@@]3([C@]([C@]4([C@@]([C@]5(C(=C(C(=O)N([C@@]5(C(C4([H])[H])([H])[H])[H])[H])[H])[H])C([H])([H])[H])(C(C3([H])[H])([H])[H])[H])[H])(C(C2([H])[H])([H])[H])[H])C([H])([H])[H])[H])C(F)(F)F)[H]': ['c[c@]12cc[c@h]3[c@h]([c@@h]1cc[c@@h]2c(=o)nc4cc(ccc4c(f)(f)f)c(f)(f)f)cc[c@@h]5[c@@]3(c=cc(=o)n5)c-0',\n",
       "              'c[c@]12cc[c@h]3[c@h]([c@@h]1cc[c@@h]2c(=o)nc4cc(ccc4c(f)(f)f)c(f)(f)f)cc[c@@h]5[c@@]3(c=cc(=o)n5)c-1',\n",
       "              'c[c@]12cc[c@h]3[c@h]([c@@h]1cc[c@@h]2c(=o)nc4cc(ccc4c(f)(f)f)c(f)(f)f)cc[c@@h]5[c@@]3(c=cc(=o)n5)c-2',\n",
       "              'c[c@]12cc[c@h]3[c@h]([c@@h]1cc[c@@h]2c(=o)nc4cc(ccc4c(f)(f)f)c(f)(f)f)cc[c@@h]5[c@@]3(c=cc(=o)n5)c-3'],\n",
       "             '[H]C1=C([C@]2(C(=C(C1=O)[H])C(C([C@@]3([C@@]2([C@@](C([C@]4([C@]3(C([C@@]5([C@]4(O[C@](O5)([H])C([H])([H])C([H])([H])C([H])([H])[H])C(=O)C([H])([H])O[H])[H])([H])[H])[H])C([H])([H])[H])([H])[H])([H])O[H])[H])[H])([H])[H])([H])[H])C([H])([H])[H])[H]': ['ccc[c@@h]1o[c@@h]2c[c@h]3[c@@h]4ccc5=cc(=o)c=c[c@@]5([c@h]4[c@h](c[c@@]3([c@@]2(o1)c(=o)co)c)o)c-0',\n",
       "              'ccc[c@@h]1o[c@@h]2c[c@h]3[c@@h]4ccc5=cc(=o)c=c[c@@]5([c@h]4[c@h](c[c@@]3([c@@]2(o1)c(=o)co)c)o)c-1',\n",
       "              'ccc[c@@h]1o[c@@h]2c[c@h]3[c@@h]4ccc5=cc(=o)c=c[c@@]5([c@h]4[c@h](c[c@@]3([c@@]2(o1)c(=o)co)c)o)c-2'],\n",
       "             '[H]c1c(c(c2c(c1[H])[C@@]3(C(N(C(=[N+]([H])[H])N3c4c(c(c(c(c4C2([H])[H])[H])[H])[H])[H])[H])([H])[H])[H])[H])[H]': ['c1ccc2c(c1)cc3ccccc3n4[c@h]2cnc4=[nh2+]-0',\n",
       "              'c1ccc2c(c1)cc3ccccc3n4[c@h]2cnc4=[nh2+]-1'],\n",
       "             '[H]c1c(c(c(c(c1[H])C([H])([H])[H])OC([H])([H])[C@]([H])(C([H])([H])[H])[N+]([H])([H])[H])C([H])([H])[H])[H]': ['cc1cccc(c1oc[c@h](c)[nh3+])c-0'],\n",
       "             '[H]c1c(c(c2c(c1[H])C(=O)N([C@@]2(c3c(c(c(c(c3[H])S(=O)(=O)N([H])[H])Cl)[H])[H])O[H])[H])[H])[H]': ['c1ccc2c(c1)c(=o)n[c@@]2(c3ccc(c(c3)s(=o)(=o)n)cl)o-0',\n",
       "              'c1ccc2c(c1)c(=o)n[c@@]2(c3ccc(c(c3)s(=o)(=o)n)cl)o-1',\n",
       "              'c1ccc2c(c1)c(=o)n[c@@]2(c3ccc(c(c3)s(=o)(=o)n)cl)o-2',\n",
       "              'c1ccc2c(c1)c(=o)n[c@@]2(c3ccc(c(c3)s(=o)(=o)n)cl)o-3',\n",
       "              'c1ccc2c(c1)c(=o)n[c@@]2(c3ccc(c(c3)s(=o)(=o)n)cl)o-4',\n",
       "              'c1ccc2c(c1)c(=o)n[c@@]2(c3ccc(c(c3)s(=o)(=o)n)cl)o-5',\n",
       "              'c1ccc2c(c1)c(=o)n[c@@]2(c3ccc(c(c3)s(=o)(=o)n)cl)o-6',\n",
       "              'c1ccc2c(c1)c(=o)n[c@@]2(c3ccc(c(c3)s(=o)(=o)n)cl)o-7',\n",
       "              'c1ccc2c(c1)c(=o)n[c@@]2(c3ccc(c(c3)s(=o)(=o)n)cl)o-8',\n",
       "              'c1ccc2c(c1)c(=o)n[c@@]2(c3ccc(c(c3)s(=o)(=o)n)cl)o-9',\n",
       "              'c1ccc2c(c1)c(=o)n[c@@]2(c3ccc(c(c3)s(=o)(=o)n)cl)o-10',\n",
       "              'c1ccc2c(c1)c(=o)n[c@@]2(c3ccc(c(c3)s(=o)(=o)n)cl)o-11',\n",
       "              'c1ccc2c(c1)c(=o)n[c@@]2(c3ccc(c(c3)s(=o)(=o)n)cl)o-12',\n",
       "              'c1ccc2c(c1)c(=o)n[c@@]2(c3ccc(c(c3)s(=o)(=o)n)cl)o-13',\n",
       "              'c1ccc2c(c1)c(=o)n[c@@]2(c3ccc(c(c3)s(=o)(=o)n)cl)o-14',\n",
       "              'c1ccc2c(c1)c(=o)n[c@@]2(c3ccc(c(c3)s(=o)(=o)n)cl)o-15',\n",
       "              'c1ccc2c(c1)c(=o)n[c@@]2(c3ccc(c(c3)s(=o)(=o)n)cl)o-16',\n",
       "              'c1ccc2c(c1)c(=o)n[c@@]2(c3ccc(c(c3)s(=o)(=o)n)cl)o-17'],\n",
       "             '[H]c1c(c(nc(c1[H])[C@]([H])(c2c(c(c(c(c2[H])[H])Cl)[H])[H])C([H])([H])C([H])([H])[N+]([H])(C([H])([H])[H])C([H])([H])[H])[H])[H]': ['c[nh+](c)cc[c@@h](c1ccc(cc1)cl)c2ccccn2-0',\n",
       "              'c[nh+](c)cc[c@@h](c1ccc(cc1)cl)c2ccccn2-1',\n",
       "              'c[nh+](c)cc[c@@h](c1ccc(cc1)cl)c2ccccn2-2',\n",
       "              'c[nh+](c)cc[c@@h](c1ccc(cc1)cl)c2ccccn2-3',\n",
       "              'c[nh+](c)cc[c@@h](c1ccc(cc1)cl)c2ccccn2-4',\n",
       "              'c[nh+](c)cc[c@@h](c1ccc(cc1)cl)c2ccccn2-5',\n",
       "              'c[nh+](c)cc[c@@h](c1ccc(cc1)cl)c2ccccn2-6',\n",
       "              'c[nh+](c)cc[c@@h](c1ccc(cc1)cl)c2ccccn2-7'],\n",
       "             '[H]c1c(c(nc(c1[H])[C@@]([H])(c2c(c(c(c(c2[H])[H])Cl)[H])[H])C([H])([H])C([H])([H])[N+]([H])(C([H])([H])[H])C([H])([H])[H])[H])[H]': ['c[nh+](c)cc[c@h](c1ccc(cc1)cl)c2ccccn2-0',\n",
       "              'c[nh+](c)cc[c@h](c1ccc(cc1)cl)c2ccccn2-1',\n",
       "              'c[nh+](c)cc[c@h](c1ccc(cc1)cl)c2ccccn2-2',\n",
       "              'c[nh+](c)cc[c@h](c1ccc(cc1)cl)c2ccccn2-3',\n",
       "              'c[nh+](c)cc[c@h](c1ccc(cc1)cl)c2ccccn2-4',\n",
       "              'c[nh+](c)cc[c@h](c1ccc(cc1)cl)c2ccccn2-5',\n",
       "              'c[nh+](c)cc[c@h](c1ccc(cc1)cl)c2ccccn2-6',\n",
       "              'c[nh+](c)cc[c@h](c1ccc(cc1)cl)c2ccccn2-7'],\n",
       "             '[H]c1c(c(c(c(c1[C@]([H])(C(=O)[O-])C([H])([H])[H])[H])[H])C([H])([H])C([H])(C([H])([H])[H])C([H])([H])[H])[H]': ['c[c@h](c1ccc(cc1)cc(c)c)c(=o)[o-]-0',\n",
       "              'c[c@h](c1ccc(cc1)cc(c)c)c(=o)[o-]-1',\n",
       "              'c[c@h](c1ccc(cc1)cc(c)c)c(=o)[o-]-2',\n",
       "              'c[c@h](c1ccc(cc1)cc(c)c)c(=o)[o-]-3'],\n",
       "             '[H]c1c(c(c(c(c1[H])C([H])(C([H])([H])[H])C([H])([H])[H])O[H])C([H])(C([H])([H])[H])C([H])([H])[H])[H]': ['cc(c)c1cccc(c1o)c(c)c-0'],\n",
       "             '[H]c1c(c2c(c(c1OC([H])([H])[H])Cl)O[C@]3(C2=O)C(=C(C(=O)C([C@@]3([H])C([H])([H])[H])([H])[H])[H])OC([H])([H])[H])OC([H])([H])[H]': ['c[c@@h]1cc(=o)c=c([c@]12c(=o)c3c(cc(c(c3o2)cl)oc)oc)oc-0',\n",
       "              'c[c@@h]1cc(=o)c=c([c@]12c(=o)c3c(cc(c(c3o2)cl)oc)oc)oc-1'],\n",
       "             '[H]c1c(c(c2c3c1C([C@@]4([C@]56[C@@]3([C@@](O2)([C@]([C@@](C5([H])[H])([H])[C@@](C([H])([H])[H])(C(C([H])([H])[H])(C([H])([H])[H])C([H])([H])[H])O[H])(C(C6([H])[H])([H])[H])OC([H])([H])[H])[H])C(C([N@+]4([H])C([H])([H])C7(C(C7([H])[H])([H])[H])[H])([H])[H])([H])[H])[H])([H])[H])O[H])[H]': ['c[c@]([c@h]1c[c@@]23cc[c@@]1([c@h]4[c@@]25cc[n@@h+]([c@@h]3cc6c5c(c(cc6)o)o4)cc7cc7)oc)(c(c)(c)c)o-0'],\n",
       "             '[H]c1c(c(c2c3c1C([C@@]4([C@]56[C@@]3([C@@](O2)([C@]([C@@](C5([H])[H])([H])[C@@](C([H])([H])[H])(C(C([H])([H])[H])(C([H])([H])[H])C([H])([H])[H])O[H])(C(C6([H])[H])([H])[H])OC([H])([H])[H])[H])C(C([N@@+]4([H])C([H])([H])C7(C(C7([H])[H])([H])[H])[H])([H])[H])([H])[H])[H])([H])[H])O[H])[H]': ['c[c@]([c@h]1c[c@@]23cc[c@@]1([c@h]4[c@@]25cc[n@h+]([c@@h]3cc6c5c(c(cc6)o)o4)cc7cc7)oc)(c(c)(c)c)o-0'],\n",
       "             '[H]c1c(c(c(c2c1OC([C@]3([C@]2(C(=C(C(C3([H])[H])([H])[H])C([H])([H])[H])[H])[H])[H])(C([H])([H])[H])C([H])([H])[H])O[H])[H])C([H])([H])C([H])([H])C([H])([H])C([H])([H])C([H])([H])[H]': ['cccccc1cc(c2c(c1)oc([c@h]3[c@h]2c=c(cc3)c)(c)c)o-0',\n",
       "              'cccccc1cc(c2c(c1)oc([c@h]3[c@h]2c=c(cc3)c)(c)c)o-1',\n",
       "              'cccccc1cc(c2c(c1)oc([c@h]3[c@h]2c=c(cc3)c)(c)c)o-2',\n",
       "              'cccccc1cc(c2c(c1)oc([c@h]3[c@h]2c=c(cc3)c)(c)c)o-3',\n",
       "              'cccccc1cc(c2c(c1)oc([c@h]3[c@h]2c=c(cc3)c)(c)c)o-4',\n",
       "              'cccccc1cc(c2c(c1)oc([c@h]3[c@h]2c=c(cc3)c)(c)c)o-5'],\n",
       "             '[H]c1c(c(c(c(c1[H])[H])[C@@]([H])(c2c(c(c(c(n2)[H])[H])[H])[H])C([H])([H])C([H])([H])[N+]([H])(C([H])([H])[H])C([H])([H])[H])[H])[H]': ['c[nh+](c)cc[c@@h](c1ccccc1)c2ccccn2-0',\n",
       "              'c[nh+](c)cc[c@@h](c1ccccc1)c2ccccn2-1',\n",
       "              'c[nh+](c)cc[c@@h](c1ccccc1)c2ccccn2-2',\n",
       "              'c[nh+](c)cc[c@@h](c1ccccc1)c2ccccn2-3',\n",
       "              'c[nh+](c)cc[c@@h](c1ccccc1)c2ccccn2-4',\n",
       "              'c[nh+](c)cc[c@@h](c1ccccc1)c2ccccn2-5',\n",
       "              'c[nh+](c)cc[c@@h](c1ccccc1)c2ccccn2-6',\n",
       "              'c[nh+](c)cc[c@@h](c1ccccc1)c2ccccn2-7'],\n",
       "             '[H]c1c(c(c(c2c1OC(=O)N2[H])[H])Cl)[H]': ['c1cc2c(cc1cl)[nh]c(=o)o2-0'],\n",
       "             '[H]c1c(c(c2c(c1[H])/C(=C(\\\\[H])/C([H])([H])C([H])([H])[N+]([H])(C([H])([H])[H])C([H])([H])[H])/c3c(c(c(c(c3OC2([H])[H])[H])[H])C([H])([H])C(=O)[O-])[H])[H])[H]': ['c[nh+](c)cc/c=c\\\\1/c2ccccc2coc3c1cc(cc3)cc(=o)[o-]-0',\n",
       "              'c[nh+](c)cc/c=c\\\\1/c2ccccc2coc3c1cc(cc3)cc(=o)[o-]-1',\n",
       "              'c[nh+](c)cc/c=c\\\\1/c2ccccc2coc3c1cc(cc3)cc(=o)[o-]-2',\n",
       "              'c[nh+](c)cc/c=c\\\\1/c2ccccc2coc3c1cc(cc3)cc(=o)[o-]-3',\n",
       "              'c[nh+](c)cc/c=c\\\\1/c2ccccc2coc3c1cc(cc3)cc(=o)[o-]-4',\n",
       "              'c[nh+](c)cc/c=c\\\\1/c2ccccc2coc3c1cc(cc3)cc(=o)[o-]-5',\n",
       "              'c[nh+](c)cc/c=c\\\\1/c2ccccc2coc3c1cc(cc3)cc(=o)[o-]-6',\n",
       "              'c[nh+](c)cc/c=c\\\\1/c2ccccc2coc3c1cc(cc3)cc(=o)[o-]-7'],\n",
       "             '[H]c1c(c(c(c(c1c2c(c(c(c(c2F)[H])F)[H])[H])[H])C(=O)[O-])O[H])[H]': ['c1cc(c(cc1c2ccc(cc2f)f)c(=o)[o-])o-0',\n",
       "              'c1cc(c(cc1c2ccc(cc2f)f)c(=o)[o-])o-1',\n",
       "              'c1cc(c(cc1c2ccc(cc2f)f)c(=o)[o-])o-2'],\n",
       "             '[H]c1c(c(c2c(c1[H])C(C(c3c(c(c(c(c3N2C([H])([H])C([H])([H])C([H])([H])[N+]([H])(C([H])([H])[H])C([H])([H])[H])[H])[H])[H])[H])([H])[H])([H])[H])[H])[H]': ['c[nh+](c)cccn1c2ccccc2ccc3c1cccc3-0',\n",
       "              'c[nh+](c)cccn1c2ccccc2ccc3c1cccc3-1',\n",
       "              'c[nh+](c)cccn1c2ccccc2ccc3c1cccc3-2',\n",
       "              'c[nh+](c)cccn1c2ccccc2ccc3c1cccc3-3'],\n",
       "             '[H]c1c(c(c2c(c1[H])C(C(c3c(c(c(c(c3N2C([H])([H])C([H])([H])C([H])([H])[N+]([H])(C([H])([H])[H])C([H])([H])[H])[H])Cl)[H])[H])([H])[H])([H])[H])[H])[H]': ['c[nh+](c)cccn1c2ccccc2ccc3c1cc(cc3)cl-0',\n",
       "              'c[nh+](c)cccn1c2ccccc2ccc3c1cc(cc3)cl-1',\n",
       "              'c[nh+](c)cccn1c2ccccc2ccc3c1cc(cc3)cl-2',\n",
       "              'c[nh+](c)cccn1c2ccccc2ccc3c1cc(cc3)cl-3',\n",
       "              'c[nh+](c)cccn1c2ccccc2ccc3c1cc(cc3)cl-4'],\n",
       "             '[H]C([H])([H])C(=O)N([H])C1=NN=C(S1)S(=O)(=O)N([H])[H]': ['cc(=o)nc1nnc(s1)s(=o)(=o)n-0',\n",
       "              'cc(=o)nc1nnc(s1)s(=o)(=o)n-1',\n",
       "              'cc(=o)nc1nnc(s1)s(=o)(=o)n-2',\n",
       "              'cc(=o)nc1nnc(s1)s(=o)(=o)n-3',\n",
       "              'cc(=o)nc1nnc(s1)s(=o)(=o)n-4',\n",
       "              'cc(=o)nc1nnc(s1)s(=o)(=o)n-5'],\n",
       "             '[H][C@@](C([H])([H])[H])(C([H])([H])[N+](C([H])([H])[H])(C([H])([H])[H])C([H])([H])[H])OC(=O)N([H])[H]': ['c[c@h](c[n+](c)(c)c)oc(=o)n-0',\n",
       "              'c[c@h](c[n+](c)(c)c)oc(=o)n-1'],\n",
       "             '[H]C1(C2(C(C3(C(C1(C(C(C2([H])[H])(C3([H])[H])[C@]([H])(C([H])([H])[H])[N+]([H])([H])[H])([H])[H])[H])([H])[H])[H])([H])[H])[H])[H]': ['c[c@@h](c12cc3cc(c1)cc(c3)c2)[nh3+]-0'],\n",
       "             '[H]c1c(c(c2c(c1[H])C(C(c3c(c(c(c(c3N2C([H])([H])[C@@]([H])(C([H])([H])[H])C([H])([H])[N+]([H])(C([H])([H])[H])C([H])([H])[H])[H])[H])[H])[H])([H])[H])([H])[H])[H])[H]': ['c[c@h](cn1c2ccccc2ccc3c1cccc3)c[nh+](c)c-0',\n",
       "              'c[c@h](cn1c2ccccc2ccc3c1cccc3)c[nh+](c)c-1',\n",
       "              'c[c@h](cn1c2ccccc2ccc3c1cccc3)c[nh+](c)c-2'],\n",
       "             '[H]C1(C(=O)N(C(C1([H])[H])([H])[H])[C@@]([H])(C(=O)N([H])[H])C([H])([H])C([H])([H])[H])[H]': ['cc[c@h](c(=o)n)n1cccc1=o-0',\n",
       "              'cc[c@h](c(=o)n)n1cccc1=o-1',\n",
       "              'cc[c@h](c(=o)n)n1cccc1=o-2',\n",
       "              'cc[c@h](c(=o)n)n1cccc1=o-3',\n",
       "              'cc[c@h](c(=o)n)n1cccc1=o-4',\n",
       "              'cc[c@h](c(=o)n)n1cccc1=o-5',\n",
       "              'cc[c@h](c(=o)n)n1cccc1=o-6',\n",
       "              'cc[c@h](c(=o)n)n1cccc1=o-7',\n",
       "              'cc[c@h](c(=o)n)n1cccc1=o-8'],\n",
       "             '[H]c1nc(c2c(n1)N(C(=C2[H])[H])[H])C3=C(N(N=C3[H])[C@@]([H])(C4(C(C(C(C4([H])[H])([H])[H])([H])[H])([H])[H])[H])C([H])([H])C#N)[H]': ['c1c[nh]c2c1c(ncn2)c3cnn(c3)[c@h](cc#n)c4cccc4-0',\n",
       "              'c1c[nh]c2c1c(ncn2)c3cnn(c3)[c@h](cc#n)c4cccc4-1',\n",
       "              'c1c[nh]c2c1c(ncn2)c3cnn(c3)[c@h](cc#n)c4cccc4-2',\n",
       "              'c1c[nh]c2c1c(ncn2)c3cnn(c3)[c@h](cc#n)c4cccc4-3',\n",
       "              'c1c[nh]c2c1c(ncn2)c3cnn(c3)[c@h](cc#n)c4cccc4-4',\n",
       "              'c1c[nh]c2c1c(ncn2)c3cnn(c3)[c@h](cc#n)c4cccc4-5',\n",
       "              'c1c[nh]c2c1c(ncn2)c3cnn(c3)[c@h](cc#n)c4cccc4-6',\n",
       "              'c1c[nh]c2c1c(ncn2)c3cnn(c3)[c@h](cc#n)c4cccc4-7',\n",
       "              'c1c[nh]c2c1c(ncn2)c3cnn(c3)[c@h](cc#n)c4cccc4-8',\n",
       "              'c1c[nh]c2c1c(ncn2)c3cnn(c3)[c@h](cc#n)c4cccc4-9',\n",
       "              'c1c[nh]c2c1c(ncn2)c3cnn(c3)[c@h](cc#n)c4cccc4-10',\n",
       "              'c1c[nh]c2c1c(ncn2)c3cnn(c3)[c@h](cc#n)c4cccc4-11',\n",
       "              'c1c[nh]c2c1c(ncn2)c3cnn(c3)[c@h](cc#n)c4cccc4-12',\n",
       "              'c1c[nh]c2c1c(ncn2)c3cnn(c3)[c@h](cc#n)c4cccc4-13',\n",
       "              'c1c[nh]c2c1c(ncn2)c3cnn(c3)[c@h](cc#n)c4cccc4-14',\n",
       "              'c1c[nh]c2c1c(ncn2)c3cnn(c3)[c@h](cc#n)c4cccc4-15',\n",
       "              'c1c[nh]c2c1c(ncn2)c3cnn(c3)[c@h](cc#n)c4cccc4-16',\n",
       "              'c1c[nh]c2c1c(ncn2)c3cnn(c3)[c@h](cc#n)c4cccc4-17',\n",
       "              'c1c[nh]c2c1c(ncn2)c3cnn(c3)[c@h](cc#n)c4cccc4-18',\n",
       "              'c1c[nh]c2c1c(ncn2)c3cnn(c3)[c@h](cc#n)c4cccc4-19'],\n",
       "             '[H]c1c(c(c(c(c1[H])[H])C2=N[C@@](C(=O)N(c3c2c(c(c(c3[H])[H])Cl)[H])[H])([H])O[H])[H])[H]': ['c1ccc(cc1)c2=n[c@h](c(=o)nc3c2cc(cc3)cl)o-0',\n",
       "              'c1ccc(cc1)c2=n[c@h](c(=o)nc3c2cc(cc3)cl)o-1'],\n",
       "             '[H]c1c(c(c(c(c1[H])C([H])([H])[H])N([H])C(=O)[C@@]2(C(C(C(C([N@]2C([H])([H])[H])([H])[H])([H])[H])([H])[H])([H])[H])[H])C([H])([H])[H])[H]': ['cc1cccc(c1nc(=o)[c@@h]2cccc[n@]2c)c-0',\n",
       "              'cc1cccc(c1nc(=o)[c@@h]2cccc[n@]2c)c-1',\n",
       "              'cc1cccc(c1nc(=o)[c@@h]2cccc[n@]2c)c-2',\n",
       "              'cc1cccc(c1nc(=o)[c@@h]2cccc[n@]2c)c-3',\n",
       "              'cc1cccc(c1nc(=o)[c@@h]2cccc[n@]2c)c-4'],\n",
       "             '[H]c1c(c(c(c(c1[H])C([H])([H])[H])N([H])C(=O)[C@@]2(C(C(C(C([N@@+]2([H])C([H])([H])[H])([H])[H])([H])[H])([H])[H])([H])[H])[H])C([H])([H])[H])[H]': ['cc1cccc(c1nc(=o)[c@@h]2cccc[n@h+]2c)c-0',\n",
       "              'cc1cccc(c1nc(=o)[c@@h]2cccc[n@h+]2c)c-1',\n",
       "              'cc1cccc(c1nc(=o)[c@@h]2cccc[n@h+]2c)c-2',\n",
       "              'cc1cccc(c1nc(=o)[c@@h]2cccc[n@h+]2c)c-3',\n",
       "              'cc1cccc(c1nc(=o)[c@@h]2cccc[n@h+]2c)c-4'],\n",
       "             '[H]c1c(c(c(c(c1[H])C([H])([H])[H])N([H])C(=O)[C@@]2(C(C(C(C([N@+]2([H])C([H])([H])[H])([H])[H])([H])[H])([H])[H])([H])[H])[H])C([H])([H])[H])[H]': ['cc1cccc(c1nc(=o)[c@@h]2cccc[n@@h+]2c)c-0',\n",
       "              'cc1cccc(c1nc(=o)[c@@h]2cccc[n@@h+]2c)c-1',\n",
       "              'cc1cccc(c1nc(=o)[c@@h]2cccc[n@@h+]2c)c-2',\n",
       "              'cc1cccc(c1nc(=o)[c@@h]2cccc[n@@h+]2c)c-3',\n",
       "              'cc1cccc(c1nc(=o)[c@@h]2cccc[n@@h+]2c)c-4'],\n",
       "             '[H]c1c(c(c(c(c1[H])[H])C(=O)[C@]([H])(C([H])([H])[H])[N+]([H])(C([H])([H])C([H])([H])[H])C([H])([H])C([H])([H])[H])[H])[H]': ['cc[nh+](cc)[c@@h](c)c(=o)c1ccccc1-0',\n",
       "              'cc[nh+](cc)[c@@h](c)c(=o)c1ccccc1-1',\n",
       "              'cc[nh+](cc)[c@@h](c)c(=o)c1ccccc1-2',\n",
       "              'cc[nh+](cc)[c@@h](c)c(=o)c1ccccc1-3',\n",
       "              'cc[nh+](cc)[c@@h](c)c(=o)c1ccccc1-4',\n",
       "              'cc[nh+](cc)[c@@h](c)c(=o)c1ccccc1-5',\n",
       "              'cc[nh+](cc)[c@@h](c)c(=o)c1ccccc1-6',\n",
       "              'cc[nh+](cc)[c@@h](c)c(=o)c1ccccc1-7'],\n",
       "             '[H]c1c(c(c(c(c1[H])[H])C(=O)[C@]([H])(C([H])([H])[H])N(C([H])([H])C([H])([H])[H])C([H])([H])C([H])([H])[H])[H])[H]': ['ccn(cc)[c@@h](c)c(=o)c1ccccc1-0',\n",
       "              'ccn(cc)[c@@h](c)c(=o)c1ccccc1-1',\n",
       "              'ccn(cc)[c@@h](c)c(=o)c1ccccc1-2',\n",
       "              'ccn(cc)[c@@h](c)c(=o)c1ccccc1-3',\n",
       "              'ccn(cc)[c@@h](c)c(=o)c1ccccc1-4',\n",
       "              'ccn(cc)[c@@h](c)c(=o)c1ccccc1-5'],\n",
       "             '[H]c1c(c(c(c(c1[H])[H])C2=NC(C3=NN=C(N3c4c2c(c(c(c4[H])[H])Cl)[H])C([H])([H])[H])([H])[H])[H])[H]': ['cc1nnc2n1-c3ccc(cc3c(=nc2)c4ccccc4)cl-0',\n",
       "              'cc1nnc2n1-c3ccc(cc3c(=nc2)c4ccccc4)cl-1'],\n",
       "             '[H]c1c(c(c(c(c1[H])[H])c2c(c(c(c(c2F)[H])[C@@]([H])(C(=O)[O-])C([H])([H])[H])[H])[H])[H])[H]': ['c[c@@h](c1ccc(c(c1)f)c2ccccc2)c(=o)[o-]-0',\n",
       "              'c[c@@h](c1ccc(c(c1)f)c2ccccc2)c(=o)[o-]-1',\n",
       "              'c[c@@h](c1ccc(c(c1)f)c2ccccc2)c(=o)[o-]-2',\n",
       "              'c[c@@h](c1ccc(c(c1)f)c2ccccc2)c(=o)[o-]-3'],\n",
       "             '[H]c1c(c(c2c3c1C([C@@]4([C@]5([C@@]3([C@@](O2)(C(=O)C(C5([H])[H])([H])[H])[H])C(C([N@@+]4([H])C([H])([H])C6(C(C6([H])[H])([H])[H])[H])([H])[H])([H])[H])O[H])[H])([H])[H])O[H])[H]': ['c1cc(c2c3c1c[c@@h]4[c@]5([c@]3(cc[n@h+]4cc6cc6)[c@@h](o2)c(=o)cc5)o)o-0',\n",
       "              'c1cc(c2c3c1c[c@@h]4[c@]5([c@]3(cc[n@h+]4cc6cc6)[c@@h](o2)c(=o)cc5)o)o-1'],\n",
       "             '[H]c1c(c(c2c3c1C([C@@]4([C@]5([C@@]3([C@@](O2)(C(=O)C(C5([H])[H])([H])[H])[H])C(C([N@+]4([H])C([H])([H])C6(C(C6([H])[H])([H])[H])[H])([H])[H])([H])[H])O[H])[H])([H])[H])O[H])[H]': ['c1cc(c2c3c1c[c@@h]4[c@]5([c@]3(cc[n@@h+]4cc6cc6)[c@@h](o2)c(=o)cc5)o)o-0'],\n",
       "             '[H]c1c(c(c2c3c1C([C@@]4([C@]5([C@@]3([C@@](O2)(C(=O)C(C5([H])[H])([H])[H])[H])C(C([N@@]4C([H])([H])C6(C(C6([H])[H])([H])[H])[H])([H])[H])([H])[H])O[H])[H])([H])[H])O[H])[H]': ['c1cc(c2c3c1c[c@@h]4[c@]5([c@]3(cc[n@@]4cc6cc6)[c@@h](o2)c(=o)cc5)o)o-0'],\n",
       "             '[H]c1c(c(c(c(c1[H])[H])c2c(c(c(c(c2F)[H])[C@]([H])(C(=O)[O-])C([H])([H])[H])[H])[H])[H])[H]': ['c[c@h](c1ccc(c(c1)f)c2ccccc2)c(=o)[o-]-0',\n",
       "              'c[c@h](c1ccc(c(c1)f)c2ccccc2)c(=o)[o-]-1',\n",
       "              'c[c@h](c1ccc(c(c1)f)c2ccccc2)c(=o)[o-]-2',\n",
       "              'c[c@h](c1ccc(c(c1)f)c2ccccc2)c(=o)[o-]-3'],\n",
       "             '[H]c1nc2c(c(n1)N([H])[H])N=C(N2C([H])([H])[C@@]([H])(C([H])([H])[H])OC([H])([H])P(=O)([O-])O[H])[H]': ['c[c@h](cn1cnc2c1ncnc2n)oc[p@](=o)(o)[o-]-0',\n",
       "              'c[c@h](cn1cnc2c1ncnc2n)oc[p@](=o)(o)[o-]-1',\n",
       "              'c[c@h](cn1cnc2c1ncnc2n)oc[p@](=o)(o)[o-]-2',\n",
       "              'c[c@h](cn1cnc2c1ncnc2n)oc[p@](=o)(o)[o-]-3',\n",
       "              'c[c@h](cn1cnc2c1ncnc2n)oc[p@](=o)(o)[o-]-4',\n",
       "              'c[c@h](cn1cnc2c1ncnc2n)oc[p@](=o)(o)[o-]-5',\n",
       "              'c[c@h](cn1cnc2c1ncnc2n)oc[p@](=o)(o)[o-]-6',\n",
       "              'c[c@h](cn1cnc2c1ncnc2n)oc[p@](=o)(o)[o-]-7',\n",
       "              'c[c@h](cn1cnc2c1ncnc2n)oc[p@](=o)(o)[o-]-8',\n",
       "              'c[c@h](cn1cnc2c1ncnc2n)oc[p@](=o)(o)[o-]-9',\n",
       "              'c[c@h](cn1cnc2c1ncnc2n)oc[p@](=o)(o)[o-]-10',\n",
       "              'c[c@h](cn1cnc2c1ncnc2n)oc[p@](=o)(o)[o-]-11',\n",
       "              'c[c@h](cn1cnc2c1ncnc2n)oc[p@](=o)(o)[o-]-12',\n",
       "              'c[c@h](cn1cnc2c1ncnc2n)oc[p@](=o)(o)[o-]-13',\n",
       "              'c[c@h](cn1cnc2c1ncnc2n)oc[p@](=o)(o)[o-]-14',\n",
       "              'c[c@h](cn1cnc2c1ncnc2n)oc[p@](=o)(o)[o-]-15',\n",
       "              'c[c@h](cn1cnc2c1ncnc2n)oc[p@](=o)(o)[o-]-16',\n",
       "              'c[c@h](cn1cnc2c1ncnc2n)oc[p@](=o)(o)[o-]-17',\n",
       "              'c[c@h](cn1cnc2c1ncnc2n)oc[p@](=o)(o)[o-]-18',\n",
       "              'c[c@h](cn1cnc2c1ncnc2n)oc[p@](=o)(o)[o-]-19',\n",
       "              'c[c@h](cn1cnc2c1ncnc2n)oc[p@@](=o)(o)[o-]-0',\n",
       "              'c[c@h](cn1cnc2c1ncnc2n)oc[p@@](=o)(o)[o-]-1',\n",
       "              'c[c@h](cn1cnc2c1ncnc2n)oc[p@@](=o)(o)[o-]-2',\n",
       "              'c[c@h](cn1cnc2c1ncnc2n)oc[p@@](=o)(o)[o-]-3',\n",
       "              'c[c@h](cn1cnc2c1ncnc2n)oc[p@@](=o)(o)[o-]-4',\n",
       "              'c[c@h](cn1cnc2c1ncnc2n)oc[p@@](=o)(o)[o-]-5',\n",
       "              'c[c@h](cn1cnc2c1ncnc2n)oc[p@@](=o)(o)[o-]-6',\n",
       "              'c[c@h](cn1cnc2c1ncnc2n)oc[p@@](=o)(o)[o-]-7',\n",
       "              'c[c@h](cn1cnc2c1ncnc2n)oc[p@@](=o)(o)[o-]-8',\n",
       "              'c[c@h](cn1cnc2c1ncnc2n)oc[p@@](=o)(o)[o-]-9',\n",
       "              'c[c@h](cn1cnc2c1ncnc2n)oc[p@@](=o)(o)[o-]-10',\n",
       "              'c[c@h](cn1cnc2c1ncnc2n)oc[p@@](=o)(o)[o-]-11',\n",
       "              'c[c@h](cn1cnc2c1ncnc2n)oc[p@@](=o)(o)[o-]-12',\n",
       "              'c[c@h](cn1cnc2c1ncnc2n)oc[p@@](=o)(o)[o-]-13',\n",
       "              'c[c@h](cn1cnc2c1ncnc2n)oc[p@@](=o)(o)[o-]-14',\n",
       "              'c[c@h](cn1cnc2c1ncnc2n)oc[p@@](=o)(o)[o-]-15',\n",
       "              'c[c@h](cn1cnc2c1ncnc2n)oc[p@@](=o)(o)[o-]-16',\n",
       "              'c[c@h](cn1cnc2c1ncnc2n)oc[p@@](=o)(o)[o-]-17',\n",
       "              'c[c@h](cn1cnc2c1ncnc2n)oc[p@@](=o)(o)[o-]-18',\n",
       "              'c[c@h](cn1cnc2c1ncnc2n)oc[p@@](=o)(o)[o-]-19'],\n",
       "             '[H]c1nc2c(c(n1)N([H])[H])N=C(N2C([H])([H])[C@@]([H])(C([H])([H])[H])OC([H])([H])P(=O)([O-])[O-])[H]': ['c[c@h](cn1cnc2c1ncnc2n)ocp(=o)([o-])[o-]-0',\n",
       "              'c[c@h](cn1cnc2c1ncnc2n)ocp(=o)([o-])[o-]-1',\n",
       "              'c[c@h](cn1cnc2c1ncnc2n)ocp(=o)([o-])[o-]-5',\n",
       "              'c[c@h](cn1cnc2c1ncnc2n)ocp(=o)([o-])[o-]-7',\n",
       "              'c[c@h](cn1cnc2c1ncnc2n)ocp(=o)([o-])[o-]-8',\n",
       "              'c[c@h](cn1cnc2c1ncnc2n)ocp(=o)([o-])[o-]-12',\n",
       "              'c[c@h](cn1cnc2c1ncnc2n)ocp(=o)([o-])[o-]-14',\n",
       "              'c[c@h](cn1cnc2c1ncnc2n)ocp(=o)([o-])[o-]-15'],\n",
       "             '[H]C1(C(C2(C(C(C1(C(O2)(C([H])([H])[H])C([H])([H])[H])[H])([H])[H])([H])[H])C([H])([H])[H])([H])[H])[H]': ['cc1(c2ccc(o1)(cc2)c)c-0'],\n",
       "             '[H]c1c(c(c(c(c1C([H])([H])[H])[H])O[H])C([H])(C([H])([H])[H])C([H])([H])[H])[H]': ['cc1ccc(c(c1)o)c(c)c-0'],\n",
       "             '[H][C@]12C(C(=O)[C@](C1(C([H])([H])[H])C([H])([H])[H])(C(C2([H])[H])([H])[H])C([H])([H])[H])([H])[H]': ['c[c@]12cc[c@h](c1(c)c)cc2=o-0'],\n",
       "             '[H]c1c(c(c(c(c1N(=O)=O)[O-])N(=O)=O)[H])N(=O)=O': ['c1c(cc(c(c1n(=o)=o)[o-])n(=o)=o)n(=o)=o-0'],\n",
       "             '[H]C1=C(N(C(=C(C1=O)O[H])C([H])([H])[H])C([H])([H])[H])[H]': ['cc1c(c(=o)ccn1c)o-0'],\n",
       "             '[H]c1c(c(c(c2c1c(c(c(c2[H])[H])OC([H])([H])[H])[H])[H])[C@@]([H])(C(=O)[O-])C([H])([H])[H])[H]': ['c[c@@h](c1ccc2cc(ccc2c1)oc)c(=o)[o-]-0',\n",
       "              'c[c@@h](c1ccc2cc(ccc2c1)oc)c(=o)[o-]-1',\n",
       "              'c[c@@h](c1ccc2cc(ccc2c1)oc)c(=o)[o-]-2',\n",
       "              'c[c@@h](c1ccc2cc(ccc2c1)oc)c(=o)[o-]-3'],\n",
       "             '[H]C1=C([C@](O[C@]1([H])C([H])([H])O[H])([H])N2C(=C(C(=O)N(C2=O)[H])C([H])([H])[H])[H])[H]': ['cc1cn(c(=o)[nh]c1=o)[c@h]2c=c[c@h](o2)co-0',\n",
       "              'cc1cn(c(=o)[nh]c1=o)[c@h]2c=c[c@h](o2)co-1',\n",
       "              'cc1cn(c(=o)[nh]c1=o)[c@h]2c=c[c@h](o2)co-2',\n",
       "              'cc1cn(c(=o)[nh]c1=o)[c@h]2c=c[c@h](o2)co-3',\n",
       "              'cc1cn(c(=o)[nh]c1=o)[c@h]2c=c[c@h](o2)co-4'],\n",
       "             '[H][C@@]1(C(S(=O)(=O)[C@]2(N1C(=O)C2([H])[H])[H])(C([H])([H])[H])C([H])([H])[H])C(=O)[O-]': ['cc1([c@@h](n2[c@h](s1(=o)=o)cc2=o)c(=o)[o-])c-0',\n",
       "              'cc1([c@@h](n2[c@h](s1(=o)=o)cc2=o)c(=o)[o-])c-1'],\n",
       "             '[H]C1=NC(=NN1[C@]2([C@]([C@]([C@@](O2)([H])C([H])([H])O[H])([H])O[H])([H])O[H])[H])C(=O)N([H])[H]': ['c1nc(nn1[c@h]2[c@@h]([c@@h]([c@h](o2)co)o)o)c(=o)n-0',\n",
       "              'c1nc(nn1[c@h]2[c@@h]([c@@h]([c@h](o2)co)o)o)c(=o)n-1',\n",
       "              'c1nc(nn1[c@h]2[c@@h]([c@@h]([c@h](o2)co)o)o)c(=o)n-2',\n",
       "              'c1nc(nn1[c@h]2[c@@h]([c@@h]([c@h](o2)co)o)o)c(=o)n-3',\n",
       "              'c1nc(nn1[c@h]2[c@@h]([c@@h]([c@h](o2)co)o)o)c(=o)n-4',\n",
       "              'c1nc(nn1[c@h]2[c@@h]([c@@h]([c@h](o2)co)o)o)c(=o)n-5',\n",
       "              'c1nc(nn1[c@h]2[c@@h]([c@@h]([c@h](o2)co)o)o)c(=o)n-6',\n",
       "              'c1nc(nn1[c@h]2[c@@h]([c@@h]([c@h](o2)co)o)o)c(=o)n-7',\n",
       "              'c1nc(nn1[c@h]2[c@@h]([c@@h]([c@h](o2)co)o)o)c(=o)n-8',\n",
       "              'c1nc(nn1[c@h]2[c@@h]([c@@h]([c@h](o2)co)o)o)c(=o)n-9',\n",
       "              'c1nc(nn1[c@h]2[c@@h]([c@@h]([c@h](o2)co)o)o)c(=o)n-10',\n",
       "              'c1nc(nn1[c@h]2[c@@h]([c@@h]([c@h](o2)co)o)o)c(=o)n-11',\n",
       "              'c1nc(nn1[c@h]2[c@@h]([c@@h]([c@h](o2)co)o)o)c(=o)n-12',\n",
       "              'c1nc(nn1[c@h]2[c@@h]([c@@h]([c@h](o2)co)o)o)c(=o)n-13',\n",
       "              'c1nc(nn1[c@h]2[c@@h]([c@@h]([c@h](o2)co)o)o)c(=o)n-14',\n",
       "              'c1nc(nn1[c@h]2[c@@h]([c@@h]([c@h](o2)co)o)o)c(=o)n-15',\n",
       "              'c1nc(nn1[c@h]2[c@@h]([c@@h]([c@h](o2)co)o)o)c(=o)n-16',\n",
       "              'c1nc(nn1[c@h]2[c@@h]([c@@h]([c@h](o2)co)o)o)c(=o)n-17',\n",
       "              'c1nc(nn1[c@h]2[c@@h]([c@@h]([c@h](o2)co)o)o)c(=o)n-18',\n",
       "              'c1nc(nn1[c@h]2[c@@h]([c@@h]([c@h](o2)co)o)o)c(=o)n-19'],\n",
       "             '[H]C1=C(N(N=N1)C([H])([H])[C@]2([C@](N3C(=O)C([C@]3(S2(=O)=O)[H])([H])[H])([H])C(=O)[O-])C([H])([H])[H])[H]': ['c[c@@]1([c@@h](n2[c@h](s1(=o)=o)cc2=o)c(=o)[o-])cn3ccnn3-0',\n",
       "              'c[c@@]1([c@@h](n2[c@h](s1(=o)=o)cc2=o)c(=o)[o-])cn3ccnn3-1',\n",
       "              'c[c@@]1([c@@h](n2[c@h](s1(=o)=o)cc2=o)c(=o)[o-])cn3ccnn3-2',\n",
       "              'c[c@@]1([c@@h](n2[c@h](s1(=o)=o)cc2=o)c(=o)[o-])cn3ccnn3-3',\n",
       "              'c[c@@]1([c@@h](n2[c@h](s1(=o)=o)cc2=o)c(=o)[o-])cn3ccnn3-4'],\n",
       "             '[H]c1c(c2c3c(c1[H])C(C(C([C@@]3(C(N(C2=O)[C@@]4(C([N+]5(C(C(C4(C(C5([H])[H])([H])[H])[H])([H])[H])([H])[H])[H])([H])[H])[H])([H])[H])[H])([H])[H])([H])[H])([H])[H])[H]': ['c1cc2c3c(c1)c(=o)n(c[c@h]3ccc2)[c@@h]4c[nh+]5ccc4cc5-0',\n",
       "              'c1cc2c3c(c1)c(=o)n(c[c@h]3ccc2)[c@@h]4c[nh+]5ccc4cc5-1',\n",
       "              'c1cc2c3c(c1)c(=o)n(c[c@h]3ccc2)[c@@h]4c[nh+]5ccc4cc5-2'],\n",
       "             '[H]c1c(c2c3c(c1[H])C(C(C([C@@]3(C(N(C2=O)[C@@]4(C(N5C(C(C4(C(C5([H])[H])([H])[H])[H])([H])[H])([H])[H])([H])[H])[H])([H])[H])[H])([H])[H])([H])[H])([H])[H])[H]': ['c1cc2c3c(c1)c(=o)n(c[c@h]3ccc2)[c@@h]4cn5ccc4cc5-0',\n",
       "              'c1cc2c3c(c1)c(=o)n(c[c@h]3ccc2)[c@@h]4cn5ccc4cc5-1',\n",
       "              'c1cc2c3c(c1)c(=o)n(c[c@h]3ccc2)[c@@h]4cn5ccc4cc5-2',\n",
       "              'c1cc2c3c(c1)c(=o)n(c[c@h]3ccc2)[c@@h]4cn5ccc4cc5-3'],\n",
       "             '[H]C1=C2[C@@]([C@@]3([C@]([C@]4([C@@]([C@@](C(C4([H])[H])([H])[H])(C([H])([H])[H])O[H])(C(C3([H])[H])([H])[H])C([H])([H])[H])[H])(C(C2([H])[H])([H])[H])[H])[H])(C(C(C1=O)([H])[H])([H])[H])C([H])([H])[H]': ['c[c@]12ccc(=o)c=c1cc[c@@h]3[c@@h]2cc[c@]4([c@h]3cc[c@]4(c)o)c-0'],\n",
       "             '[H]c1c(c(nc(c1[H])C([H])(c2c(c(c(c(c2[H])[H])OC(=O)C([H])([H])[H])[H])[H])c3c(c(c(c(c3[H])[H])OC(=O)C([H])([H])[H])[H])[H])[H])[H]': ['cc(=o)oc1ccc(cc1)c(c2ccc(cc2)oc(=o)c)c3ccccn3-0',\n",
       "              'cc(=o)oc1ccc(cc1)c(c2ccc(cc2)oc(=o)c)c3ccccn3-1',\n",
       "              'cc(=o)oc1ccc(cc1)c(c2ccc(cc2)oc(=o)c)c3ccccn3-2',\n",
       "              'cc(=o)oc1ccc(cc1)c(c2ccc(cc2)oc(=o)c)c3ccccn3-3',\n",
       "              'cc(=o)oc1ccc(cc1)c(c2ccc(cc2)oc(=o)c)c3ccccn3-4',\n",
       "              'cc(=o)oc1ccc(cc1)c(c2ccc(cc2)oc(=o)c)c3ccccn3-5',\n",
       "              'cc(=o)oc1ccc(cc1)c(c2ccc(cc2)oc(=o)c)c3ccccn3-6',\n",
       "              'cc(=o)oc1ccc(cc1)c(c2ccc(cc2)oc(=o)c)c3ccccn3-7',\n",
       "              'cc(=o)oc1ccc(cc1)c(c2ccc(cc2)oc(=o)c)c3ccccn3-8',\n",
       "              'cc(=o)oc1ccc(cc1)c(c2ccc(cc2)oc(=o)c)c3ccccn3-9',\n",
       "              'cc(=o)oc1ccc(cc1)c(c2ccc(cc2)oc(=o)c)c3ccccn3-10',\n",
       "              'cc(=o)oc1ccc(cc1)c(c2ccc(cc2)oc(=o)c)c3ccccn3-11',\n",
       "              'cc(=o)oc1ccc(cc1)c(c2ccc(cc2)oc(=o)c)c3ccccn3-12',\n",
       "              'cc(=o)oc1ccc(cc1)c(c2ccc(cc2)oc(=o)c)c3ccccn3-13',\n",
       "              'cc(=o)oc1ccc(cc1)c(c2ccc(cc2)oc(=o)c)c3ccccn3-14',\n",
       "              'cc(=o)oc1ccc(cc1)c(c2ccc(cc2)oc(=o)c)c3ccccn3-15',\n",
       "              'cc(=o)oc1ccc(cc1)c(c2ccc(cc2)oc(=o)c)c3ccccn3-16',\n",
       "              'cc(=o)oc1ccc(cc1)c(c2ccc(cc2)oc(=o)c)c3ccccn3-17',\n",
       "              'cc(=o)oc1ccc(cc1)c(c2ccc(cc2)oc(=o)c)c3ccccn3-18',\n",
       "              'cc(=o)oc1ccc(cc1)c(c2ccc(cc2)oc(=o)c)c3ccccn3-19'],\n",
       "             '[H]C1=C([C@]2(C(=C(C1=O)[H])C(C([C@@]3([C@@]2([C@@](C([C@]4([C@]3(C(C([C@@]4(C(=O)C([H])([H])O[H])O[H])([H])[H])([H])[H])[H])C([H])([H])[H])([H])[H])([H])O[H])[H])[H])([H])[H])([H])[H])C([H])([H])[H])[H]': ['c[c@]12c[c@@h]([c@h]3[c@h]([c@@h]1cc[c@@]2(c(=o)co)o)ccc4=cc(=o)c=c[c@]34c)o-0',\n",
       "              'c[c@]12c[c@@h]([c@h]3[c@h]([c@@h]1cc[c@@]2(c(=o)co)o)ccc4=cc(=o)c=c[c@]34c)o-1'],\n",
       "             '[H]c1c(c(c(c(c1[H])[H])C2=NOC(=C2C(=O)N([H])[C@@]3(C(=O)N4[C@@]3(SC([C@]4([H])C(=O)[O-])(C([H])([H])[H])C([H])([H])[H])[H])[H])C([H])([H])[H])[H])[H]': ['cc1c(c(no1)c2ccccc2)c(=o)n[c@h]3[c@@h]4n(c3=o)[c@h](c(s4)(c)c)c(=o)[o-]-0',\n",
       "              'cc1c(c(no1)c2ccccc2)c(=o)n[c@h]3[c@@h]4n(c3=o)[c@h](c(s4)(c)c)c(=o)[o-]-1',\n",
       "              'cc1c(c(no1)c2ccccc2)c(=o)n[c@h]3[c@@h]4n(c3=o)[c@h](c(s4)(c)c)c(=o)[o-]-2',\n",
       "              'cc1c(c(no1)c2ccccc2)c(=o)n[c@h]3[c@@h]4n(c3=o)[c@h](c(s4)(c)c)c(=o)[o-]-3',\n",
       "              'cc1c(c(no1)c2ccccc2)c(=o)n[c@h]3[c@@h]4n(c3=o)[c@h](c(s4)(c)c)c(=o)[o-]-4',\n",
       "              'cc1c(c(no1)c2ccccc2)c(=o)n[c@h]3[c@@h]4n(c3=o)[c@h](c(s4)(c)c)c(=o)[o-]-5',\n",
       "              'cc1c(c(no1)c2ccccc2)c(=o)n[c@h]3[c@@h]4n(c3=o)[c@h](c(s4)(c)c)c(=o)[o-]-6',\n",
       "              'cc1c(c(no1)c2ccccc2)c(=o)n[c@h]3[c@@h]4n(c3=o)[c@h](c(s4)(c)c)c(=o)[o-]-7',\n",
       "              'cc1c(c(no1)c2ccccc2)c(=o)n[c@h]3[c@@h]4n(c3=o)[c@h](c(s4)(c)c)c(=o)[o-]-8',\n",
       "              'cc1c(c(no1)c2ccccc2)c(=o)n[c@h]3[c@@h]4n(c3=o)[c@h](c(s4)(c)c)c(=o)[o-]-9',\n",
       "              'cc1c(c(no1)c2ccccc2)c(=o)n[c@h]3[c@@h]4n(c3=o)[c@h](c(s4)(c)c)c(=o)[o-]-10',\n",
       "              'cc1c(c(no1)c2ccccc2)c(=o)n[c@h]3[c@@h]4n(c3=o)[c@h](c(s4)(c)c)c(=o)[o-]-11',\n",
       "              'cc1c(c(no1)c2ccccc2)c(=o)n[c@h]3[c@@h]4n(c3=o)[c@h](c(s4)(c)c)c(=o)[o-]-12',\n",
       "              'cc1c(c(no1)c2ccccc2)c(=o)n[c@h]3[c@@h]4n(c3=o)[c@h](c(s4)(c)c)c(=o)[o-]-13',\n",
       "              'cc1c(c(no1)c2ccccc2)c(=o)n[c@h]3[c@@h]4n(c3=o)[c@h](c(s4)(c)c)c(=o)[o-]-14',\n",
       "              'cc1c(c(no1)c2ccccc2)c(=o)n[c@h]3[c@@h]4n(c3=o)[c@h](c(s4)(c)c)c(=o)[o-]-15',\n",
       "              'cc1c(c(no1)c2ccccc2)c(=o)n[c@h]3[c@@h]4n(c3=o)[c@h](c(s4)(c)c)c(=o)[o-]-16'],\n",
       "             '[H]C1=C([C@@]2([C@@]([C@@]3(C1=C(C(=O)C(C3([H])[H])([H])[H])[H])C([H])([H])[H])(C(C([C@]4([C@]2(C(C([C@@]4(C(=O)C([H])([H])[H])OC(=O)C([H])([H])[H])([H])[H])([H])[H])[H])C([H])([H])[H])([H])[H])([H])[H])[H])[H])[H]': ['cc(=o)[c@]1(cc[c@@h]2[c@@]1(cc[c@h]3[c@h]2c=cc4=cc(=o)cc[c@]34c)c)oc(=o)c-0'],\n",
       "             '[H]c1c(c(c2c(c1[H])C(=O)c3c(c(c4c(c3O[H])[C@@](C([C@@](C4([H])[H])(C(=O)C([H])([H])[H])O[H])([H])[H])([H])O[C@]5(C([C@]([C@]([C@](O5)([H])C([H])([H])[H])([H])O[H])([H])[N+]([H])([H])[H])([H])[H])[H])O[H])C2=O)[H])[H]': ['c[c@h]1[c@h]([c@h](c[c@@h](o1)o[c@h]2c[c@@](cc3c2c(c4c(c3o)c(=o)c5ccccc5c4=o)o)(c(=o)c)o)[nh3+])o-0',\n",
       "              'c[c@h]1[c@h]([c@h](c[c@@h](o1)o[c@h]2c[c@@](cc3c2c(c4c(c3o)c(=o)c5ccccc5c4=o)o)(c(=o)c)o)[nh3+])o-1',\n",
       "              'c[c@h]1[c@h]([c@h](c[c@@h](o1)o[c@h]2c[c@@](cc3c2c(c4c(c3o)c(=o)c5ccccc5c4=o)o)(c(=o)c)o)[nh3+])o-2',\n",
       "              'c[c@h]1[c@h]([c@h](c[c@@h](o1)o[c@h]2c[c@@](cc3c2c(c4c(c3o)c(=o)c5ccccc5c4=o)o)(c(=o)c)o)[nh3+])o-3',\n",
       "              'c[c@h]1[c@h]([c@h](c[c@@h](o1)o[c@h]2c[c@@](cc3c2c(c4c(c3o)c(=o)c5ccccc5c4=o)o)(c(=o)c)o)[nh3+])o-4',\n",
       "              'c[c@h]1[c@h]([c@h](c[c@@h](o1)o[c@h]2c[c@@](cc3c2c(c4c(c3o)c(=o)c5ccccc5c4=o)o)(c(=o)c)o)[nh3+])o-5',\n",
       "              'c[c@h]1[c@h]([c@h](c[c@@h](o1)o[c@h]2c[c@@](cc3c2c(c4c(c3o)c(=o)c5ccccc5c4=o)o)(c(=o)c)o)[nh3+])o-6',\n",
       "              'c[c@h]1[c@h]([c@h](c[c@@h](o1)o[c@h]2c[c@@](cc3c2c(c4c(c3o)c(=o)c5ccccc5c4=o)o)(c(=o)c)o)[nh3+])o-7',\n",
       "              'c[c@h]1[c@h]([c@h](c[c@@h](o1)o[c@h]2c[c@@](cc3c2c(c4c(c3o)c(=o)c5ccccc5c4=o)o)(c(=o)c)o)[nh3+])o-8'],\n",
       "             '[H]c1c(c(c2c(c1[H])C(=O)c3c(c(c4c(c3[O-])[C@@](C([C@@](C4([H])[H])(C(=O)C([H])([H])[H])O[H])([H])[H])([H])O[C@]5(C([C@]([C@]([C@](O5)([H])C([H])([H])[H])([H])O[H])([H])[N+]([H])([H])[H])([H])[H])[H])O[H])C2=O)[H])[H]': ['c[c@h]1[c@h]([c@h](c[c@@h](o1)o[c@h]2c[c@@](cc3c2c(c4c(c3o)c(=o)c5ccccc5c4=o)[o-])(c(=o)c)o)[nh3+])o-0',\n",
       "              'c[c@h]1[c@h]([c@h](c[c@@h](o1)o[c@h]2c[c@@](cc3c2c(c4c(c3o)c(=o)c5ccccc5c4=o)[o-])(c(=o)c)o)[nh3+])o-1',\n",
       "              'c[c@h]1[c@h]([c@h](c[c@@h](o1)o[c@h]2c[c@@](cc3c2c(c4c(c3o)c(=o)c5ccccc5c4=o)[o-])(c(=o)c)o)[nh3+])o-2',\n",
       "              'c[c@h]1[c@h]([c@h](c[c@@h](o1)o[c@h]2c[c@@](cc3c2c(c4c(c3o)c(=o)c5ccccc5c4=o)[o-])(c(=o)c)o)[nh3+])o-3',\n",
       "              'c[c@h]1[c@h]([c@h](c[c@@h](o1)o[c@h]2c[c@@](cc3c2c(c4c(c3o)c(=o)c5ccccc5c4=o)[o-])(c(=o)c)o)[nh3+])o-4',\n",
       "              'c[c@h]1[c@h]([c@h](c[c@@h](o1)o[c@h]2c[c@@](cc3c2c(c4c(c3o)c(=o)c5ccccc5c4=o)[o-])(c(=o)c)o)[nh3+])o-5'],\n",
       "             '[H]c1c(c(c(c(c1[H])Cl)C2=NOC(=C2C(=O)N([H])[C@@]3(C(=O)N4[C@@]3(SC([C@]4([H])C(=O)[O-])(C([H])([H])[H])C([H])([H])[H])[H])[H])C([H])([H])[H])Cl)[H]': ['cc1c(c(no1)c2c(cccc2cl)cl)c(=o)n[c@h]3[c@@h]4n(c3=o)[c@h](c(s4)(c)c)c(=o)[o-]-0',\n",
       "              'cc1c(c(no1)c2c(cccc2cl)cl)c(=o)n[c@h]3[c@@h]4n(c3=o)[c@h](c(s4)(c)c)c(=o)[o-]-1',\n",
       "              'cc1c(c(no1)c2c(cccc2cl)cl)c(=o)n[c@h]3[c@@h]4n(c3=o)[c@h](c(s4)(c)c)c(=o)[o-]-2',\n",
       "              'cc1c(c(no1)c2c(cccc2cl)cl)c(=o)n[c@h]3[c@@h]4n(c3=o)[c@h](c(s4)(c)c)c(=o)[o-]-3',\n",
       "              'cc1c(c(no1)c2c(cccc2cl)cl)c(=o)n[c@h]3[c@@h]4n(c3=o)[c@h](c(s4)(c)c)c(=o)[o-]-4',\n",
       "              'cc1c(c(no1)c2c(cccc2cl)cl)c(=o)n[c@h]3[c@@h]4n(c3=o)[c@h](c(s4)(c)c)c(=o)[o-]-5',\n",
       "              'cc1c(c(no1)c2c(cccc2cl)cl)c(=o)n[c@h]3[c@@h]4n(c3=o)[c@h](c(s4)(c)c)c(=o)[o-]-6',\n",
       "              'cc1c(c(no1)c2c(cccc2cl)cl)c(=o)n[c@h]3[c@@h]4n(c3=o)[c@h](c(s4)(c)c)c(=o)[o-]-7',\n",
       "              'cc1c(c(no1)c2c(cccc2cl)cl)c(=o)n[c@h]3[c@@h]4n(c3=o)[c@h](c(s4)(c)c)c(=o)[o-]-8',\n",
       "              'cc1c(c(no1)c2c(cccc2cl)cl)c(=o)n[c@h]3[c@@h]4n(c3=o)[c@h](c(s4)(c)c)c(=o)[o-]-9',\n",
       "              'cc1c(c(no1)c2c(cccc2cl)cl)c(=o)n[c@h]3[c@@h]4n(c3=o)[c@h](c(s4)(c)c)c(=o)[o-]-10',\n",
       "              'cc1c(c(no1)c2c(cccc2cl)cl)c(=o)n[c@h]3[c@@h]4n(c3=o)[c@h](c(s4)(c)c)c(=o)[o-]-11',\n",
       "              'cc1c(c(no1)c2c(cccc2cl)cl)c(=o)n[c@h]3[c@@h]4n(c3=o)[c@h](c(s4)(c)c)c(=o)[o-]-12',\n",
       "              'cc1c(c(no1)c2c(cccc2cl)cl)c(=o)n[c@h]3[c@@h]4n(c3=o)[c@h](c(s4)(c)c)c(=o)[o-]-13',\n",
       "              'cc1c(c(no1)c2c(cccc2cl)cl)c(=o)n[c@h]3[c@@h]4n(c3=o)[c@h](c(s4)(c)c)c(=o)[o-]-14',\n",
       "              'cc1c(c(no1)c2c(cccc2cl)cl)c(=o)n[c@h]3[c@@h]4n(c3=o)[c@h](c(s4)(c)c)c(=o)[o-]-15',\n",
       "              'cc1c(c(no1)c2c(cccc2cl)cl)c(=o)n[c@h]3[c@@h]4n(c3=o)[c@h](c(s4)(c)c)c(=o)[o-]-16'],\n",
       "             '[H]c1c(c2c(c(c1[H])O[H])C(=C3C(=O)[C@@]4(C(=O)C(=C([C@@]([C@@]4([C@@]([C@@]3([C@@]2([H])C([H])([H])[H])[H])([H])O[H])[H])([H])[N+]([H])(C([H])([H])[H])C([H])([H])[H])[O-])C(=O)N([H])[H])O[H])[O-])[H]': ['c[c@h]1c2cccc(c2c(=c3[c@@h]1[c@@h]([c@h]4[c@@h](c(=c(c(=o)[c@]4(c3=o)o)c(=o)n)[o-])[nh+](c)c)o)[o-])o-0',\n",
       "              'c[c@h]1c2cccc(c2c(=c3[c@@h]1[c@@h]([c@h]4[c@@h](c(=c(c(=o)[c@]4(c3=o)o)c(=o)n)[o-])[nh+](c)c)o)[o-])o-1',\n",
       "              'c[c@h]1c2cccc(c2c(=c3[c@@h]1[c@@h]([c@h]4[c@@h](c(=c(c(=o)[c@]4(c3=o)o)c(=o)n)[o-])[nh+](c)c)o)[o-])o-2',\n",
       "              'c[c@h]1c2cccc(c2c(=c3[c@@h]1[c@@h]([c@h]4[c@@h](c(=c(c(=o)[c@]4(c3=o)o)c(=o)n)[o-])[nh+](c)c)o)[o-])o-3',\n",
       "              'c[c@h]1c2cccc(c2c(=c3[c@@h]1[c@@h]([c@h]4[c@@h](c(=c(c(=o)[c@]4(c3=o)o)c(=o)n)[o-])[nh+](c)c)o)[o-])o-4',\n",
       "              'c[c@h]1c2cccc(c2c(=c3[c@@h]1[c@@h]([c@h]4[c@@h](c(=c(c(=o)[c@]4(c3=o)o)c(=o)n)[o-])[nh+](c)c)o)[o-])o-5'],\n",
       "             '[H]c1c(c2c(c(c1[H])O[H])C(=C3C(=O)[C@@]4(C(=O)C(=C([C@@]([C@@]4([C@@]([C@@]3([C@@]2([H])C([H])([H])[H])[H])([H])O[H])[H])([H])N(C([H])([H])[H])C([H])([H])[H])[O-])C(=O)N([H])[H])O[H])[O-])[H]': ['c[c@h]1c2cccc(c2c(=c3[c@@h]1[c@@h]([c@h]4[c@@h](c(=c(c(=o)[c@]4(c3=o)o)c(=o)n)[o-])n(c)c)o)[o-])o-0',\n",
       "              'c[c@h]1c2cccc(c2c(=c3[c@@h]1[c@@h]([c@h]4[c@@h](c(=c(c(=o)[c@]4(c3=o)o)c(=o)n)[o-])n(c)c)o)[o-])o-1',\n",
       "              'c[c@h]1c2cccc(c2c(=c3[c@@h]1[c@@h]([c@h]4[c@@h](c(=c(c(=o)[c@]4(c3=o)o)c(=o)n)[o-])n(c)c)o)[o-])o-2',\n",
       "              'c[c@h]1c2cccc(c2c(=c3[c@@h]1[c@@h]([c@h]4[c@@h](c(=c(c(=o)[c@]4(c3=o)o)c(=o)n)[o-])n(c)c)o)[o-])o-3',\n",
       "              'c[c@h]1c2cccc(c2c(=c3[c@@h]1[c@@h]([c@h]4[c@@h](c(=c(c(=o)[c@]4(c3=o)o)c(=o)n)[o-])n(c)c)o)[o-])o-4'],\n",
       "             '[H]c1c(c2c(c(c1[H])O[H])C(=C3C(=O)[C@@]4(C(=C(C(=O)[C@@]([C@@]4([C@@]([C@@]3([C@@]2([H])C([H])([H])[H])[H])([H])O[H])[H])([H])N(C([H])([H])[H])C([H])([H])[H])C(=O)N([H])[H])[O-])O[H])[O-])[H]': ['c[c@h]1c2cccc(c2c(=c3[c@@h]1[c@@h]([c@h]4[c@@h](c(=o)c(=c([c@]4(c3=o)o)[o-])c(=o)n)n(c)c)o)[o-])o-0',\n",
       "              'c[c@h]1c2cccc(c2c(=c3[c@@h]1[c@@h]([c@h]4[c@@h](c(=o)c(=c([c@]4(c3=o)o)[o-])c(=o)n)n(c)c)o)[o-])o-1',\n",
       "              'c[c@h]1c2cccc(c2c(=c3[c@@h]1[c@@h]([c@h]4[c@@h](c(=o)c(=c([c@]4(c3=o)o)[o-])c(=o)n)n(c)c)o)[o-])o-2',\n",
       "              'c[c@h]1c2cccc(c2c(=c3[c@@h]1[c@@h]([c@h]4[c@@h](c(=o)c(=c([c@]4(c3=o)o)[o-])c(=o)n)n(c)c)o)[o-])o-3'],\n",
       "             '[H]c1c(c2c(c(c1[H])O[H])C(=C3C(=O)[C@@]4(C(=O)C(=C([C@@]([C@@]4([C@@]([C@@]3([C@@]2([H])C([H])([H])[H])[H])([H])O[H])[H])([H])[N+]([H])(C([H])([H])[H])C([H])([H])[H])[O-])C(=O)N([H])[H])O[H])O[H])[H]': ['c[c@h]1c2cccc(c2c(=c3[c@@h]1[c@@h]([c@h]4[c@@h](c(=c(c(=o)[c@]4(c3=o)o)c(=o)n)[o-])[nh+](c)c)o)o)o-0',\n",
       "              'c[c@h]1c2cccc(c2c(=c3[c@@h]1[c@@h]([c@h]4[c@@h](c(=c(c(=o)[c@]4(c3=o)o)c(=o)n)[o-])[nh+](c)c)o)o)o-1',\n",
       "              'c[c@h]1c2cccc(c2c(=c3[c@@h]1[c@@h]([c@h]4[c@@h](c(=c(c(=o)[c@]4(c3=o)o)c(=o)n)[o-])[nh+](c)c)o)o)o-2',\n",
       "              'c[c@h]1c2cccc(c2c(=c3[c@@h]1[c@@h]([c@h]4[c@@h](c(=c(c(=o)[c@]4(c3=o)o)c(=o)n)[o-])[nh+](c)c)o)o)o-3',\n",
       "              'c[c@h]1c2cccc(c2c(=c3[c@@h]1[c@@h]([c@h]4[c@@h](c(=c(c(=o)[c@]4(c3=o)o)c(=o)n)[o-])[nh+](c)c)o)o)o-4',\n",
       "              'c[c@h]1c2cccc(c2c(=c3[c@@h]1[c@@h]([c@h]4[c@@h](c(=c(c(=o)[c@]4(c3=o)o)c(=o)n)[o-])[nh+](c)c)o)o)o-5',\n",
       "              'c[c@h]1c2cccc(c2c(=c3[c@@h]1[c@@h]([c@h]4[c@@h](c(=c(c(=o)[c@]4(c3=o)o)c(=o)n)[o-])[nh+](c)c)o)o)o-6',\n",
       "              'c[c@h]1c2cccc(c2c(=c3[c@@h]1[c@@h]([c@h]4[c@@h](c(=c(c(=o)[c@]4(c3=o)o)c(=o)n)[o-])[nh+](c)c)o)o)o-7'],\n",
       "             '[H]C#CC([H])([H])[N+]([H])([H])[C@]1(c2c(c(c(c(c2C(C1([H])[H])([H])[H])[H])[H])[H])[H])[H]': ['c#cc[nh2+][c@@h]1ccc2c1cccc2-0',\n",
       "              'c#cc[nh2+][c@@h]1ccc2c1cccc2-1',\n",
       "              'c#cc[nh2+][c@@h]1ccc2c1cccc2-2'],\n",
       "             '[H]C#CC([H])([H])N([H])[C@]1(c2c(c(c(c(c2C(C1([H])[H])([H])[H])[H])[H])[H])[H])[H]': ['c#ccn[c@@h]1ccc2c1cccc2-0',\n",
       "              'c#ccn[c@@h]1ccc2c1cccc2-1'],\n",
       "             '[H]c1c(c2c(c(c1[H])O[H])C(=C3C(=O)[C@@]4(C(=O)C(=C([C@@]([C@@]4(C([C@@]3([C@]2(C([H])([H])[H])O[H])[H])([H])[H])[H])([H])[N+]([H])(C([H])([H])[H])C([H])([H])[H])[O-])C(=O)N([H])[H])O[H])[O-])[H]': ['c[c@]1(c2cccc(c2c(=c3[c@@h]1c[c@h]4[c@@h](c(=c(c(=o)[c@]4(c3=o)o)c(=o)n)[o-])[nh+](c)c)[o-])o)o-0',\n",
       "              'c[c@]1(c2cccc(c2c(=c3[c@@h]1c[c@h]4[c@@h](c(=c(c(=o)[c@]4(c3=o)o)c(=o)n)[o-])[nh+](c)c)[o-])o)o-1',\n",
       "              'c[c@]1(c2cccc(c2c(=c3[c@@h]1c[c@h]4[c@@h](c(=c(c(=o)[c@]4(c3=o)o)c(=o)n)[o-])[nh+](c)c)[o-])o)o-2',\n",
       "              'c[c@]1(c2cccc(c2c(=c3[c@@h]1c[c@h]4[c@@h](c(=c(c(=o)[c@]4(c3=o)o)c(=o)n)[o-])[nh+](c)c)[o-])o)o-3'],\n",
       "             '[H]c1c(c2c(c(c1[H])O[H])C(=C3C(=O)[C@@]4(C(=C(C(=O)[C@@]([C@@]4(C([C@@]3([C@]2(C([H])([H])[H])O[H])[H])([H])[H])[H])([H])N(C([H])([H])[H])C([H])([H])[H])C(=O)N([H])[H])[O-])O[H])[O-])[H]': ['c[c@]1(c2cccc(c2c(=c3[c@@h]1c[c@h]4[c@@h](c(=o)c(=c([c@]4(c3=o)o)[o-])c(=o)n)n(c)c)[o-])o)o-0',\n",
       "              'c[c@]1(c2cccc(c2c(=c3[c@@h]1c[c@h]4[c@@h](c(=o)c(=c([c@]4(c3=o)o)[o-])c(=o)n)n(c)c)[o-])o)o-1',\n",
       "              'c[c@]1(c2cccc(c2c(=c3[c@@h]1c[c@h]4[c@@h](c(=o)c(=c([c@]4(c3=o)o)[o-])c(=o)n)n(c)c)[o-])o)o-2',\n",
       "              'c[c@]1(c2cccc(c2c(=c3[c@@h]1c[c@h]4[c@@h](c(=o)c(=c([c@]4(c3=o)o)[o-])c(=o)n)n(c)c)[o-])o)o-3',\n",
       "              'c[c@]1(c2cccc(c2c(=c3[c@@h]1c[c@h]4[c@@h](c(=o)c(=c([c@]4(c3=o)o)[o-])c(=o)n)n(c)c)[o-])o)o-4'],\n",
       "             '[H]c1c(c2c(c(c1[H])O[H])C(=C3C(=O)[C@@]4(C(=O)C(=C([C@@]([C@@]4(C([C@@]3([C@]2(C([H])([H])[H])O[H])[H])([H])[H])[H])([H])N(C([H])([H])[H])C([H])([H])[H])[O-])C(=O)N([H])[H])O[H])[O-])[H]': ['c[c@]1(c2cccc(c2c(=c3[c@@h]1c[c@h]4[c@@h](c(=c(c(=o)[c@]4(c3=o)o)c(=o)n)[o-])n(c)c)[o-])o)o-0',\n",
       "              'c[c@]1(c2cccc(c2c(=c3[c@@h]1c[c@h]4[c@@h](c(=c(c(=o)[c@]4(c3=o)o)c(=o)n)[o-])n(c)c)[o-])o)o-1',\n",
       "              'c[c@]1(c2cccc(c2c(=c3[c@@h]1c[c@h]4[c@@h](c(=c(c(=o)[c@]4(c3=o)o)c(=o)n)[o-])n(c)c)[o-])o)o-2',\n",
       "              'c[c@]1(c2cccc(c2c(=c3[c@@h]1c[c@h]4[c@@h](c(=c(c(=o)[c@]4(c3=o)o)c(=o)n)[o-])n(c)c)[o-])o)o-3',\n",
       "              'c[c@]1(c2cccc(c2c(=c3[c@@h]1c[c@h]4[c@@h](c(=c(c(=o)[c@]4(c3=o)o)c(=o)n)[o-])n(c)c)[o-])o)o-4',\n",
       "              'c[c@]1(c2cccc(c2c(=c3[c@@h]1c[c@h]4[c@@h](c(=c(c(=o)[c@]4(c3=o)o)c(=o)n)[o-])n(c)c)[o-])o)o-5',\n",
       "              'c[c@]1(c2cccc(c2c(=c3[c@@h]1c[c@h]4[c@@h](c(=c(c(=o)[c@]4(c3=o)o)c(=o)n)[o-])n(c)c)[o-])o)o-6',\n",
       "              'c[c@]1(c2cccc(c2c(=c3[c@@h]1c[c@h]4[c@@h](c(=c(c(=o)[c@]4(c3=o)o)c(=o)n)[o-])n(c)c)[o-])o)o-7'],\n",
       "             '[H]c1c(c(c(c(c1[H])[H])[C@]([H])(C2=C(c3c(c(c(c(c3OC2=O)[H])[H])[H])[H])[O-])C([H])([H])C(=O)C([H])([H])[H])[H])[H]': ['cc(=o)c[c@h](c1ccccc1)c2c(c3ccccc3oc2=o)[o-]-0',\n",
       "              'cc(=o)c[c@h](c1ccccc1)c2c(c3ccccc3oc2=o)[o-]-1',\n",
       "              'cc(=o)c[c@h](c1ccccc1)c2c(c3ccccc3oc2=o)[o-]-2',\n",
       "              'cc(=o)c[c@h](c1ccccc1)c2c(c3ccccc3oc2=o)[o-]-3',\n",
       "              'cc(=o)c[c@h](c1ccccc1)c2c(c3ccccc3oc2=o)[o-]-4'],\n",
       "             '[H]c1c(c(c(c(c1[H])[H])[C@@]([H])(C2=C(c3c(c(c(c(c3OC2=O)[H])[H])[H])[H])[O-])C([H])([H])C(=O)C([H])([H])[H])[H])[H]': ['cc(=o)c[c@@h](c1ccccc1)c2c(c3ccccc3oc2=o)[o-]-0',\n",
       "              'cc(=o)c[c@@h](c1ccccc1)c2c(c3ccccc3oc2=o)[o-]-1',\n",
       "              'cc(=o)c[c@@h](c1ccccc1)c2c(c3ccccc3oc2=o)[o-]-2',\n",
       "              'cc(=o)c[c@@h](c1ccccc1)c2c(c3ccccc3oc2=o)[o-]-3',\n",
       "              'cc(=o)c[c@@h](c1ccccc1)c2c(c3ccccc3oc2=o)[o-]-4'],\n",
       "             '[H]c1c(c(c(c(c1[H])[H])[C@](C(=O)O[C@@]2(C(C([N+](C2([H])[H])(C([H])([H])[H])C([H])([H])[H])([H])[H])([H])[H])[H])(C3(C(C(C(C3([H])[H])([H])[H])([H])[H])([H])[H])[H])O[H])[H])[H]': ['c[n+]1(cc[c@h](c1)oc(=o)[c@@](c2ccccc2)(c3cccc3)o)c-0',\n",
       "              'c[n+]1(cc[c@h](c1)oc(=o)[c@@](c2ccccc2)(c3cccc3)o)c-1',\n",
       "              'c[n+]1(cc[c@h](c1)oc(=o)[c@@](c2ccccc2)(c3cccc3)o)c-2',\n",
       "              'c[n+]1(cc[c@h](c1)oc(=o)[c@@](c2ccccc2)(c3cccc3)o)c-3',\n",
       "              'c[n+]1(cc[c@h](c1)oc(=o)[c@@](c2ccccc2)(c3cccc3)o)c-4',\n",
       "              'c[n+]1(cc[c@h](c1)oc(=o)[c@@](c2ccccc2)(c3cccc3)o)c-5',\n",
       "              'c[n+]1(cc[c@h](c1)oc(=o)[c@@](c2ccccc2)(c3cccc3)o)c-6',\n",
       "              'c[n+]1(cc[c@h](c1)oc(=o)[c@@](c2ccccc2)(c3cccc3)o)c-7',\n",
       "              'c[n+]1(cc[c@h](c1)oc(=o)[c@@](c2ccccc2)(c3cccc3)o)c-8',\n",
       "              'c[n+]1(cc[c@h](c1)oc(=o)[c@@](c2ccccc2)(c3cccc3)o)c-9',\n",
       "              'c[n+]1(cc[c@h](c1)oc(=o)[c@@](c2ccccc2)(c3cccc3)o)c-10',\n",
       "              'c[n+]1(cc[c@h](c1)oc(=o)[c@@](c2ccccc2)(c3cccc3)o)c-11',\n",
       "              'c[n+]1(cc[c@h](c1)oc(=o)[c@@](c2ccccc2)(c3cccc3)o)c-12',\n",
       "              'c[n+]1(cc[c@h](c1)oc(=o)[c@@](c2ccccc2)(c3cccc3)o)c-13'],\n",
       "             '[H]c1c(c2c(c(c1[H])N([H])[H])C(=O)N(C2=O)[C@@]3(C(=O)N(C(=O)C(C3([H])[H])([H])[H])[H])[H])[H]': ['c1cc2c(c(c1)n)c(=o)n(c2=o)[c@h]3ccc(=o)nc3=o-0',\n",
       "              'c1cc2c(c(c1)n)c(=o)n(c2=o)[c@h]3ccc(=o)nc3=o-1'],\n",
       "             '[H]C#C[C@]1([C@@]2([C@]([C@]3([C@@]([C@@]4(C(=C(C(=O)C(C4([H])[H])([H])[H])[H])C(C3([H])[H])([H])[H])[H])(C(C2([H])[H])([H])[H])[H])[H])(C(C1([H])[H])([H])[H])[H])C([H])([H])[H])O[H]': ['c[c@]12cc[c@h]3[c@h]([c@@h]1cc[c@]2(c#c)o)ccc4=cc(=o)cc[c@h]34-0'],\n",
       "             '[H]c1c(c(c2c(c1[H])C(=NN2C([H])([H])[H])C(=O)N([H])C3(C([C@]4(C(C(C([C@@](C3([H])[H])([N+]4([H])C([H])([H])[H])[H])([H])[H])([H])[H])([H])[H])[H])([H])[H])[H])[H])[H]': ['cn1c2ccccc2c(n1)c(=o)nc3c[c@h]4ccc[c@@h](c3)[nh+]4c-0',\n",
       "              'cn1c2ccccc2c(n1)c(=o)nc3c[c@h]4ccc[c@@h](c3)[nh+]4c-1',\n",
       "              'cn1c2ccccc2c(n1)c(=o)nc3c[c@h]4ccc[c@@h](c3)[nh+]4c-2',\n",
       "              'cn1c2ccccc2c(n1)c(=o)nc3c[c@h]4ccc[c@@h](c3)[nh+]4c-3',\n",
       "              'cn1c2ccccc2c(n1)c(=o)nc3c[c@h]4ccc[c@@h](c3)[nh+]4c-4',\n",
       "              'cn1c2ccccc2c(n1)c(=o)nc3c[c@h]4ccc[c@@h](c3)[nh+]4c-5',\n",
       "              'cn1c2ccccc2c(n1)c(=o)nc3c[c@h]4ccc[c@@h](c3)[nh+]4c-6',\n",
       "              'cn1c2ccccc2c(n1)c(=o)nc3c[c@h]4ccc[c@@h](c3)[nh+]4c-7',\n",
       "              'cn1c2ccccc2c(n1)c(=o)nc3c[c@h]4ccc[c@@h](c3)[nh+]4c-8',\n",
       "              'cn1c2ccccc2c(n1)c(=o)nc3c[c@h]4ccc[c@@h](c3)[nh+]4c-9',\n",
       "              'cn1c2ccccc2c(n1)c(=o)nc3c[c@h]4ccc[c@@h](c3)[nh+]4c-10',\n",
       "              'cn1c2ccccc2c(n1)c(=o)nc3c[c@h]4ccc[c@@h](c3)[nh+]4c-11',\n",
       "              'cn1c2ccccc2c(n1)c(=o)nc3c[c@h]4ccc[c@@h](c3)[nh+]4c-12',\n",
       "              'cn1c2ccccc2c(n1)c(=o)nc3c[c@h]4ccc[c@@h](c3)[nh+]4c-13',\n",
       "              'cn1c2ccccc2c(n1)c(=o)nc3c[c@h]4ccc[c@@h](c3)[nh+]4c-14',\n",
       "              'cn1c2ccccc2c(n1)c(=o)nc3c[c@h]4ccc[c@@h](c3)[nh+]4c-15',\n",
       "              'cn1c2ccccc2c(n1)c(=o)nc3c[c@h]4ccc[c@@h](c3)[nh+]4c-16',\n",
       "              'cn1c2ccccc2c(n1)c(=o)nc3c[c@h]4ccc[c@@h](c3)[nh+]4c-17',\n",
       "              'cn1c2ccccc2c(n1)c(=o)nc3c[c@h]4ccc[c@@h](c3)[nh+]4c-18',\n",
       "              'cn1c2ccccc2c(n1)c(=o)nc3c[c@h]4ccc[c@@h](c3)[nh+]4c-19',\n",
       "              'cn1c2ccccc2c(n1)c(=o)nc3c[c@h]4ccc[c@@h](c3)[nh+]4c-20',\n",
       "              'cn1c2ccccc2c(n1)c(=o)nc3c[c@h]4ccc[c@@h](c3)[nh+]4c-21',\n",
       "              'cn1c2ccccc2c(n1)c(=o)nc3c[c@h]4ccc[c@@h](c3)[nh+]4c-22',\n",
       "              'cn1c2ccccc2c(n1)c(=o)nc3c[c@h]4ccc[c@@h](c3)[nh+]4c-23',\n",
       "              'cn1c2ccccc2c(n1)c(=o)nc3c[c@h]4ccc[c@@h](c3)[nh+]4c-24',\n",
       "              'cn1c2ccccc2c(n1)c(=o)nc3c[c@h]4ccc[c@@h](c3)[nh+]4c-25',\n",
       "              'cn1c2ccccc2c(n1)c(=o)nc3c[c@h]4ccc[c@@h](c3)[nh+]4c-26',\n",
       "              'cn1c2ccccc2c(n1)c(=o)nc3c[c@h]4ccc[c@@h](c3)[nh+]4c-27'],\n",
       "             '[H]c1c(c(c2c(c1[H])C(=NN2C([H])([H])[H])C(=O)N([H])C3(C([C@]4(C(C(C([C@@](C3([H])[H])(N4C([H])([H])[H])[H])([H])[H])([H])[H])([H])[H])[H])([H])[H])[H])[H])[H]': ['cn1c2ccccc2c(n1)c(=o)nc3c[c@h]4ccc[c@@h](c3)n4c-0',\n",
       "              'cn1c2ccccc2c(n1)c(=o)nc3c[c@h]4ccc[c@@h](c3)n4c-1',\n",
       "              'cn1c2ccccc2c(n1)c(=o)nc3c[c@h]4ccc[c@@h](c3)n4c-2',\n",
       "              'cn1c2ccccc2c(n1)c(=o)nc3c[c@h]4ccc[c@@h](c3)n4c-3',\n",
       "              'cn1c2ccccc2c(n1)c(=o)nc3c[c@h]4ccc[c@@h](c3)n4c-4',\n",
       "              'cn1c2ccccc2c(n1)c(=o)nc3c[c@h]4ccc[c@@h](c3)n4c-5',\n",
       "              'cn1c2ccccc2c(n1)c(=o)nc3c[c@h]4ccc[c@@h](c3)n4c-6',\n",
       "              'cn1c2ccccc2c(n1)c(=o)nc3c[c@h]4ccc[c@@h](c3)n4c-7',\n",
       "              'cn1c2ccccc2c(n1)c(=o)nc3c[c@h]4ccc[c@@h](c3)n4c-8',\n",
       "              'cn1c2ccccc2c(n1)c(=o)nc3c[c@h]4ccc[c@@h](c3)n4c-9',\n",
       "              'cn1c2ccccc2c(n1)c(=o)nc3c[c@h]4ccc[c@@h](c3)n4c-10',\n",
       "              'cn1c2ccccc2c(n1)c(=o)nc3c[c@h]4ccc[c@@h](c3)n4c-11'],\n",
       "             '[H]C1=C(N(C(=N1)C([H])([H])[H])C([H])([H])[C@@]([H])(C([H])([H])[H])O[H])N(=O)=O': ['cc1ncc(n1c[c@@h](c)o)n(=o)=o-0',\n",
       "              'cc1ncc(n1c[c@@h](c)o)n(=o)=o-1',\n",
       "              'cc1ncc(n1c[c@@h](c)o)n(=o)=o-2',\n",
       "              'cc1ncc(n1c[c@@h](c)o)n(=o)=o-3'],\n",
       "             '[H]c1c(c(c(c(c1O[H])[H])C([H])([H])[H])Cl)C([H])([H])[H]': ['cc1cc(cc(c1cl)c)o-0'],\n",
       "             '[H]c1c(c(c(c(c1C(=O)c2c(c(c(c(c2[H])[H])Cl)[H])[H])[H])[H])OC(C(=O)[O-])(C([H])([H])[H])C([H])([H])[H])[H]': ['cc(c)(c(=o)[o-])oc1ccc(cc1)c(=o)c2ccc(cc2)cl-0',\n",
       "              'cc(c)(c(=o)[o-])oc1ccc(cc1)c(=o)c2ccc(cc2)cl-1',\n",
       "              'cc(c)(c(=o)[o-])oc1ccc(cc1)c(=o)c2ccc(cc2)cl-2',\n",
       "              'cc(c)(c(=o)[o-])oc1ccc(cc1)c(=o)c2ccc(cc2)cl-3',\n",
       "              'cc(c)(c(=o)[o-])oc1ccc(cc1)c(=o)c2ccc(cc2)cl-4',\n",
       "              'cc(c)(c(=o)[o-])oc1ccc(cc1)c(=o)c2ccc(cc2)cl-5',\n",
       "              'cc(c)(c(=o)[o-])oc1ccc(cc1)c(=o)c2ccc(cc2)cl-6',\n",
       "              'cc(c)(c(=o)[o-])oc1ccc(cc1)c(=o)c2ccc(cc2)cl-7',\n",
       "              'cc(c)(c(=o)[o-])oc1ccc(cc1)c(=o)c2ccc(cc2)cl-8',\n",
       "              'cc(c)(c(=o)[o-])oc1ccc(cc1)c(=o)c2ccc(cc2)cl-9',\n",
       "              'cc(c)(c(=o)[o-])oc1ccc(cc1)c(=o)c2ccc(cc2)cl-10',\n",
       "              'cc(c)(c(=o)[o-])oc1ccc(cc1)c(=o)c2ccc(cc2)cl-11',\n",
       "              'cc(c)(c(=o)[o-])oc1ccc(cc1)c(=o)c2ccc(cc2)cl-12',\n",
       "              'cc(c)(c(=o)[o-])oc1ccc(cc1)c(=o)c2ccc(cc2)cl-13',\n",
       "              'cc(c)(c(=o)[o-])oc1ccc(cc1)c(=o)c2ccc(cc2)cl-14',\n",
       "              'cc(c)(c(=o)[o-])oc1ccc(cc1)c(=o)c2ccc(cc2)cl-15',\n",
       "              'cc(c)(c(=o)[o-])oc1ccc(cc1)c(=o)c2ccc(cc2)cl-16'],\n",
       "             '[H]c1c(c(c2c(c1[H])C(=C(N2[H])[H])C(=O)OC3(C([C@]4(C(C5(C(=O)C(N4[C@@](C5([H])[H])(C3([H])[H])[H])([H])[H])[H])([H])[H])[H])([H])[H])[H])[H])[H]': ['c1ccc2c(c1)c(c[nh]2)c(=o)oc3c[c@h]4cc5c[c@@h](c3)n4cc5=o-0',\n",
       "              'c1ccc2c(c1)c(c[nh]2)c(=o)oc3c[c@h]4cc5c[c@@h](c3)n4cc5=o-1',\n",
       "              'c1ccc2c(c1)c(c[nh]2)c(=o)oc3c[c@h]4cc5c[c@@h](c3)n4cc5=o-2',\n",
       "              'c1ccc2c(c1)c(c[nh]2)c(=o)oc3c[c@h]4cc5c[c@@h](c3)n4cc5=o-3',\n",
       "              'c1ccc2c(c1)c(c[nh]2)c(=o)oc3c[c@h]4cc5c[c@@h](c3)n4cc5=o-4',\n",
       "              'c1ccc2c(c1)c(c[nh]2)c(=o)oc3c[c@h]4cc5c[c@@h](c3)n4cc5=o-5',\n",
       "              'c1ccc2c(c1)c(c[nh]2)c(=o)oc3c[c@h]4cc5c[c@@h](c3)n4cc5=o-6',\n",
       "              'c1ccc2c(c1)c(c[nh]2)c(=o)oc3c[c@h]4cc5c[c@@h](c3)n4cc5=o-7',\n",
       "              'c1ccc2c(c1)c(c[nh]2)c(=o)oc3c[c@h]4cc5c[c@@h](c3)n4cc5=o-8',\n",
       "              'c1ccc2c(c1)c(c[nh]2)c(=o)oc3c[c@h]4cc5c[c@@h](c3)n4cc5=o-9',\n",
       "              'c1ccc2c(c1)c(c[nh]2)c(=o)oc3c[c@h]4cc5c[c@@h](c3)n4cc5=o-10'],\n",
       "             '[H]C1=C(SC(=C1[H])/C(=C(\\\\[H])/[C+]2N(C(C(C(N2C([H])([H])[H])([H])[H])([H])[H])([H])[H])[H])/[H])[H]': ['cn1cccn[c+]1/c=c/c2cccs2-0',\n",
       "              'cn1cccn[c+]1/c=c/c2cccs2-1'],\n",
       "             '[H]c1c(c(c(c(c1N([H])C(=O)N([H])c2c(c(c(c(c2[H])Cl)Cl)[H])[H])[H])[H])Cl)[H]': ['c1cc(ccc1nc(=o)nc2ccc(c(c2)cl)cl)cl-0',\n",
       "              'c1cc(ccc1nc(=o)nc2ccc(c(c2)cl)cl)cl-1'],\n",
       "             '[H]C(=C([H])C([H])([H])[C@@]1(C(=O)N(C(=O)N(C1=O)C([H])([H])[H])[H])[C@]([H])(C#CC([H])([H])C([H])([H])[H])C([H])([H])[H])[H]': ['ccc#c[c@h](c)[c@]1(c(=o)nc(=o)n(c1=o)c)cc=c-0',\n",
       "              'ccc#c[c@h](c)[c@]1(c(=o)nc(=o)n(c1=o)c)cc=c-1',\n",
       "              'ccc#c[c@h](c)[c@]1(c(=o)nc(=o)n(c1=o)c)cc=c-2',\n",
       "              'ccc#c[c@h](c)[c@]1(c(=o)nc(=o)n(c1=o)c)cc=c-3',\n",
       "              'ccc#c[c@h](c)[c@]1(c(=o)nc(=o)n(c1=o)c)cc=c-4'],\n",
       "             '[H]C(=C([H])C([H])([H])[C@@]1(C(=O)[N-]C(=O)N(C1=O)C([H])([H])[H])[C@]([H])(C#CC([H])([H])C([H])([H])[H])C([H])([H])[H])[H]': ['ccc#c[c@h](c)[c@]1(c(=o)[n-]c(=o)n(c1=o)c)cc=c-0',\n",
       "              'ccc#c[c@h](c)[c@]1(c(=o)[n-]c(=o)n(c1=o)c)cc=c-1',\n",
       "              'ccc#c[c@h](c)[c@]1(c(=o)[n-]c(=o)n(c1=o)c)cc=c-2',\n",
       "              'ccc#c[c@h](c)[c@]1(c(=o)[n-]c(=o)n(c1=o)c)cc=c-3',\n",
       "              'ccc#c[c@h](c)[c@]1(c(=o)[n-]c(=o)n(c1=o)c)cc=c-4'],\n",
       "             '[H]C(=C([H])C([H])([H])[C@]1(C(=O)N(C(=O)N(C1=O)C([H])([H])[H])[H])[C@@]([H])(C#CC([H])([H])C([H])([H])[H])C([H])([H])[H])[H]': ['ccc#c[c@@h](c)[c@@]1(c(=o)nc(=o)n(c1=o)c)cc=c-0',\n",
       "              'ccc#c[c@@h](c)[c@@]1(c(=o)nc(=o)n(c1=o)c)cc=c-1',\n",
       "              'ccc#c[c@@h](c)[c@@]1(c(=o)nc(=o)n(c1=o)c)cc=c-2',\n",
       "              'ccc#c[c@@h](c)[c@@]1(c(=o)nc(=o)n(c1=o)c)cc=c-3',\n",
       "              'ccc#c[c@@h](c)[c@@]1(c(=o)nc(=o)n(c1=o)c)cc=c-4',\n",
       "              'ccc#c[c@@h](c)[c@@]1(c(=o)nc(=o)n(c1=o)c)cc=c-5'],\n",
       "             '[H]C(=C([H])C([H])([H])[C@]1(C(=O)[N-]C(=O)N(C1=O)C([H])([H])[H])[C@@]([H])(C#CC([H])([H])C([H])([H])[H])C([H])([H])[H])[H]': ['ccc#c[c@@h](c)[c@@]1(c(=o)[n-]c(=o)n(c1=o)c)cc=c-0',\n",
       "              'ccc#c[c@@h](c)[c@@]1(c(=o)[n-]c(=o)n(c1=o)c)cc=c-1',\n",
       "              'ccc#c[c@@h](c)[c@@]1(c(=o)[n-]c(=o)n(c1=o)c)cc=c-2',\n",
       "              'ccc#c[c@@h](c)[c@@]1(c(=o)[n-]c(=o)n(c1=o)c)cc=c-3',\n",
       "              'ccc#c[c@@h](c)[c@@]1(c(=o)[n-]c(=o)n(c1=o)c)cc=c-4',\n",
       "              'ccc#c[c@@h](c)[c@@]1(c(=o)[n-]c(=o)n(c1=o)c)cc=c-5'],\n",
       "             '[H]C([H])([H])N1C2=C(C(=O)N(C1=O)C([H])([H])[H])N=C(N2[H])Br': ['cn1c2c(c(=o)n(c1=o)c)nc([nh]2)br-0'],\n",
       "             '[H]c1c(c(c2c(c1[H])C(=O)C(=C(C2=O)[O-])C3(C(C(C(C(C3([H])[H])([H])[H])([H])c4c(c(c(c(c4[H])[H])Cl)[H])[H])([H])[H])([H])[H])[H])[H])[H]': ['c1ccc2c(c1)c(=o)c(=c(c2=o)[o-])c3ccc(cc3)c4ccc(cc4)cl-0',\n",
       "              'c1ccc2c(c1)c(=o)c(=c(c2=o)[o-])c3ccc(cc3)c4ccc(cc4)cl-1',\n",
       "              'c1ccc2c(c1)c(=o)c(=c(c2=o)[o-])c3ccc(cc3)c4ccc(cc4)cl-2',\n",
       "              'c1ccc2c(c1)c(=o)c(=c(c2=o)[o-])c3ccc(cc3)c4ccc(cc4)cl-3',\n",
       "              'c1ccc2c(c1)c(=o)c(=c(c2=o)[o-])c3ccc(cc3)c4ccc(cc4)cl-4',\n",
       "              'c1ccc2c(c1)c(=o)c(=c(c2=o)[o-])c3ccc(cc3)c4ccc(cc4)cl-5'],\n",
       "             '[H]c1c(c(c(c(c1[H])[H])C(=O)c2c(c(c(c(c2O[H])[H])OC([H])([H])[H])S(=O)(=O)[O-])[H])[H])[H]': ['coc1cc(c(cc1s(=o)(=o)[o-])c(=o)c2ccccc2)o-0',\n",
       "              'coc1cc(c(cc1s(=o)(=o)[o-])c(=o)c2ccccc2)o-1',\n",
       "              'coc1cc(c(cc1s(=o)(=o)[o-])c(=o)c2ccccc2)o-2',\n",
       "              'coc1cc(c(cc1s(=o)(=o)[o-])c(=o)c2ccccc2)o-3'],\n",
       "             '[H]c1c(c(c(c(c1[H])C(=O)OC([H])([H])C([H])([H])O[H])O[H])[H])[H]': ['c1ccc(c(c1)c(=o)occo)o-0',\n",
       "              'c1ccc(c(c1)c(=o)occo)o-1',\n",
       "              'c1ccc(c(c1)c(=o)occo)o-2',\n",
       "              'c1ccc(c(c1)c(=o)occo)o-3',\n",
       "              'c1ccc(c(c1)c(=o)occo)o-4',\n",
       "              'c1ccc(c(c1)c(=o)occo)o-5',\n",
       "              'c1ccc(c(c1)c(=o)occo)o-6',\n",
       "              'c1ccc(c(c1)c(=o)occo)o-7',\n",
       "              'c1ccc(c(c1)c(=o)occo)o-8',\n",
       "              'c1ccc(c(c1)c(=o)occo)o-9',\n",
       "              'c1ccc(c(c1)c(=o)occo)o-10',\n",
       "              'c1ccc(c(c1)c(=o)occo)o-11',\n",
       "              'c1ccc(c(c1)c(=o)occo)o-12',\n",
       "              'c1ccc(c(c1)c(=o)occo)o-13',\n",
       "              'c1ccc(c(c1)c(=o)occo)o-14',\n",
       "              'c1ccc(c(c1)c(=o)occo)o-15',\n",
       "              'c1ccc(c(c1)c(=o)occo)o-16'],\n",
       "             '[H]C1=C(N(C(=N1)C([H])([H])[H])C([H])([H])[C@]([H])(C([H])([H])[H])O[H])N(=O)=O': ['cc1ncc(n1c[c@h](c)o)n(=o)=o-0',\n",
       "              'cc1ncc(n1c[c@h](c)o)n(=o)=o-1',\n",
       "              'cc1ncc(n1c[c@h](c)o)n(=o)=o-2',\n",
       "              'cc1ncc(n1c[c@h](c)o)n(=o)=o-3'],\n",
       "             '[H]C1=C(SC(=C1[H])/C(=C(/[H])\\\\[C+]2N(C(C(C(N2C([H])([H])[H])([H])[H])([H])[H])([H])[H])[H])/[H])[H]': ['cn1cccn[c+]1/c=c\\\\c2cccs2-0',\n",
       "              'cn1cccn[c+]1/c=c\\\\c2cccs2-1',\n",
       "              'cn1cccn[c+]1/c=c\\\\c2cccs2-2',\n",
       "              'cn1cccn[c+]1/c=c\\\\c2cccs2-3',\n",
       "              'cn1cccn[c+]1/c=c\\\\c2cccs2-4',\n",
       "              'cn1cccn[c+]1/c=c\\\\c2cccs2-5'],\n",
       "             '[H]c1c(c(c(c(c1/C(=C/2\\\\C(=O)[C@@]3(C(C([C@]2(C3(C([H])([H])[H])C([H])([H])[H])[H])([H])[H])([H])[H])C([H])([H])[H])/[H])[H])[H])C([H])([H])[H])[H]': ['cc1ccc(cc1)/c=c\\\\2/[c@h]3cc[c@@](c2=o)(c3(c)c)c-0'],\n",
       "             '[H]c1c(c(c(c(c1[C@@]([H])([C@]([H])(C(=O)[O-])N([H])[H])O[H])[H])O[H])O[H])[H]': ['c1cc(c(cc1[c@@h]([c@h](c(=o)[o-])n)o)o)o-0',\n",
       "              'c1cc(c(cc1[c@@h]([c@h](c(=o)[o-])n)o)o)o-1',\n",
       "              'c1cc(c(cc1[c@@h]([c@h](c(=o)[o-])n)o)o)o-2',\n",
       "              'c1cc(c(cc1[c@@h]([c@h](c(=o)[o-])n)o)o)o-3',\n",
       "              'c1cc(c(cc1[c@@h]([c@h](c(=o)[o-])n)o)o)o-4',\n",
       "              'c1cc(c(cc1[c@@h]([c@h](c(=o)[o-])n)o)o)o-5',\n",
       "              'c1cc(c(cc1[c@@h]([c@h](c(=o)[o-])n)o)o)o-6',\n",
       "              'c1cc(c(cc1[c@@h]([c@h](c(=o)[o-])n)o)o)o-7',\n",
       "              'c1cc(c(cc1[c@@h]([c@h](c(=o)[o-])n)o)o)o-8',\n",
       "              'c1cc(c(cc1[c@@h]([c@h](c(=o)[o-])n)o)o)o-9',\n",
       "              'c1cc(c(cc1[c@@h]([c@h](c(=o)[o-])n)o)o)o-10',\n",
       "              'c1cc(c(cc1[c@@h]([c@h](c(=o)[o-])n)o)o)o-11',\n",
       "              'c1cc(c(cc1[c@@h]([c@h](c(=o)[o-])n)o)o)o-12',\n",
       "              'c1cc(c(cc1[c@@h]([c@h](c(=o)[o-])n)o)o)o-13',\n",
       "              'c1cc(c(cc1[c@@h]([c@h](c(=o)[o-])n)o)o)o-14',\n",
       "              'c1cc(c(cc1[c@@h]([c@h](c(=o)[o-])n)o)o)o-15',\n",
       "              'c1cc(c(cc1[c@@h]([c@h](c(=o)[o-])n)o)o)o-16',\n",
       "              'c1cc(c(cc1[c@@h]([c@h](c(=o)[o-])n)o)o)o-17',\n",
       "              'c1cc(c(cc1[c@@h]([c@h](c(=o)[o-])n)o)o)o-18',\n",
       "              'c1cc(c(cc1[c@@h]([c@h](c(=o)[o-])n)o)o)o-19',\n",
       "              'c1cc(c(cc1[c@@h]([c@h](c(=o)[o-])n)o)o)o-20',\n",
       "              'c1cc(c(cc1[c@@h]([c@h](c(=o)[o-])n)o)o)o-21',\n",
       "              'c1cc(c(cc1[c@@h]([c@h](c(=o)[o-])n)o)o)o-22',\n",
       "              'c1cc(c(cc1[c@@h]([c@h](c(=o)[o-])n)o)o)o-23',\n",
       "              'c1cc(c(cc1[c@@h]([c@h](c(=o)[o-])n)o)o)o-24',\n",
       "              'c1cc(c(cc1[c@@h]([c@h](c(=o)[o-])n)o)o)o-25'],\n",
       "             '[H]c1c2c(c(c(c1F)N3C(C(C3([H])[H])([H])O[H])([H])[H])Cl)N(C(=C(C2=O)C(=O)[O-])[H])c4c(c(c(c(n4)N([H])[H])F)[H])F': ['c1c2c(c(c(c1f)n3cc(c3)o)cl)n(cc(c2=o)c(=o)[o-])c4c(cc(c(n4)n)f)f-0',\n",
       "              'c1c2c(c(c(c1f)n3cc(c3)o)cl)n(cc(c2=o)c(=o)[o-])c4c(cc(c(n4)n)f)f-1',\n",
       "              'c1c2c(c(c(c1f)n3cc(c3)o)cl)n(cc(c2=o)c(=o)[o-])c4c(cc(c(n4)n)f)f-2',\n",
       "              'c1c2c(c(c(c1f)n3cc(c3)o)cl)n(cc(c2=o)c(=o)[o-])c4c(cc(c(n4)n)f)f-3'],\n",
       "             '[H][C@@](C(=O)[O-])([C@@]([H])(C(=O)[O-])S[H])S[H]': ['[c@h]([c@@h](c(=o)[o-])s)(c(=o)[o-])s-0',\n",
       "              '[c@h]([c@@h](c(=o)[o-])s)(c(=o)[o-])s-1',\n",
       "              '[c@h]([c@@h](c(=o)[o-])s)(c(=o)[o-])s-2',\n",
       "              '[c@h]([c@@h](c(=o)[o-])s)(c(=o)[o-])s-3',\n",
       "              '[c@h]([c@@h](c(=o)[o-])s)(c(=o)[o-])s-4',\n",
       "              '[c@h]([c@@h](c(=o)[o-])s)(c(=o)[o-])s-5',\n",
       "              '[c@h]([c@@h](c(=o)[o-])s)(c(=o)[o-])s-6'],\n",
       "             '[H][C@](C(=O)[O-])([C@]([H])(C(=O)[O-])S[H])S[H]': ['[c@@h]([c@h](c(=o)[o-])s)(c(=o)[o-])s-0',\n",
       "              '[c@@h]([c@h](c(=o)[o-])s)(c(=o)[o-])s-1',\n",
       "              '[c@@h]([c@h](c(=o)[o-])s)(c(=o)[o-])s-2',\n",
       "              '[c@@h]([c@h](c(=o)[o-])s)(c(=o)[o-])s-3',\n",
       "              '[c@@h]([c@h](c(=o)[o-])s)(c(=o)[o-])s-4',\n",
       "              '[c@@h]([c@h](c(=o)[o-])s)(c(=o)[o-])s-5'],\n",
       "             '[H]C(=C([H])C([H])([H])[C@]1(C(=O)N(C(=O)N(C1=O)C([H])([H])[H])[H])[C@]([H])(C#CC([H])([H])C([H])([H])[H])C([H])([H])[H])[H]': ['ccc#c[c@h](c)[c@@]1(c(=o)nc(=o)n(c1=o)c)cc=c-0',\n",
       "              'ccc#c[c@h](c)[c@@]1(c(=o)nc(=o)n(c1=o)c)cc=c-1',\n",
       "              'ccc#c[c@h](c)[c@@]1(c(=o)nc(=o)n(c1=o)c)cc=c-2',\n",
       "              'ccc#c[c@h](c)[c@@]1(c(=o)nc(=o)n(c1=o)c)cc=c-3',\n",
       "              'ccc#c[c@h](c)[c@@]1(c(=o)nc(=o)n(c1=o)c)cc=c-4'],\n",
       "             '[H]C(=C([H])C([H])([H])[C@]1(C(=O)[N-]C(=O)N(C1=O)C([H])([H])[H])[C@]([H])(C#CC([H])([H])C([H])([H])[H])C([H])([H])[H])[H]': ['ccc#c[c@h](c)[c@@]1(c(=o)[n-]c(=o)n(c1=o)c)cc=c-0',\n",
       "              'ccc#c[c@h](c)[c@@]1(c(=o)[n-]c(=o)n(c1=o)c)cc=c-1',\n",
       "              'ccc#c[c@h](c)[c@@]1(c(=o)[n-]c(=o)n(c1=o)c)cc=c-2',\n",
       "              'ccc#c[c@h](c)[c@@]1(c(=o)[n-]c(=o)n(c1=o)c)cc=c-3',\n",
       "              'ccc#c[c@h](c)[c@@]1(c(=o)[n-]c(=o)n(c1=o)c)cc=c-4'],\n",
       "             '[H]C(=C([H])C([H])([H])[C@@]1(C(=O)N(C(=O)N(C1=O)C([H])([H])[H])[H])[C@@]([H])(C#CC([H])([H])C([H])([H])[H])C([H])([H])[H])[H]': ['ccc#c[c@@h](c)[c@]1(c(=o)nc(=o)n(c1=o)c)cc=c-0',\n",
       "              'ccc#c[c@@h](c)[c@]1(c(=o)nc(=o)n(c1=o)c)cc=c-1',\n",
       "              'ccc#c[c@@h](c)[c@]1(c(=o)nc(=o)n(c1=o)c)cc=c-2',\n",
       "              'ccc#c[c@@h](c)[c@]1(c(=o)nc(=o)n(c1=o)c)cc=c-3',\n",
       "              'ccc#c[c@@h](c)[c@]1(c(=o)nc(=o)n(c1=o)c)cc=c-4',\n",
       "              'ccc#c[c@@h](c)[c@]1(c(=o)nc(=o)n(c1=o)c)cc=c-5'],\n",
       "             '[H]C(=C([H])C([H])([H])[C@@]1(C(=O)[N-]C(=O)N(C1=O)C([H])([H])[H])[C@@]([H])(C#CC([H])([H])C([H])([H])[H])C([H])([H])[H])[H]': ['ccc#c[c@@h](c)[c@]1(c(=o)[n-]c(=o)n(c1=o)c)cc=c-0',\n",
       "              'ccc#c[c@@h](c)[c@]1(c(=o)[n-]c(=o)n(c1=o)c)cc=c-1',\n",
       "              'ccc#c[c@@h](c)[c@]1(c(=o)[n-]c(=o)n(c1=o)c)cc=c-2',\n",
       "              'ccc#c[c@@h](c)[c@]1(c(=o)[n-]c(=o)n(c1=o)c)cc=c-3',\n",
       "              'ccc#c[c@@h](c)[c@]1(c(=o)[n-]c(=o)n(c1=o)c)cc=c-4',\n",
       "              'ccc#c[c@@h](c)[c@]1(c(=o)[n-]c(=o)n(c1=o)c)cc=c-5'],\n",
       "             '[H]C1=C([C@]2(C(=C(C1=O)[H])C(C([C@@]3([C@@]2([C@@](C([C@]4([C@]3(C([C@@]([C@@]4(C(=O)C([H])([H])C([H])([H])[H])C([H])([H])[H])([H])C([H])([H])[H])([H])[H])[H])C([H])([H])[H])([H])[H])([H])O[H])[H])[H])([H])[H])([H])[H])C([H])([H])[H])[H]': ['ccc(=o)[c@]1([c@@h](c[c@@h]2[c@@]1(c[c@@h]([c@h]3[c@h]2ccc4=cc(=o)c=c[c@]34c)o)c)c)c-0'],\n",
       "             '[H]c1c(c(c(c(c1[C@@]2([C@]([C@]3(C(C([C@@](C2([H])[H])([N@+]3([H])C([H])([H])C([H])([H])C([H])([H])F)[H])([H])[H])([H])[H])[H])([H])C(=O)OC([H])([H])[H])[H])[H])[H])I)[H]': ['coc(=o)[c@@h]1[c@h]2cc[c@h]([n@@h+]2cccf)c[c@@h]1c3ccc(cc3)i-0',\n",
       "              'coc(=o)[c@@h]1[c@h]2cc[c@h]([n@@h+]2cccf)c[c@@h]1c3ccc(cc3)i-1',\n",
       "              'coc(=o)[c@@h]1[c@h]2cc[c@h]([n@@h+]2cccf)c[c@@h]1c3ccc(cc3)i-2',\n",
       "              'coc(=o)[c@@h]1[c@h]2cc[c@h]([n@@h+]2cccf)c[c@@h]1c3ccc(cc3)i-3',\n",
       "              'coc(=o)[c@@h]1[c@h]2cc[c@h]([n@@h+]2cccf)c[c@@h]1c3ccc(cc3)i-4',\n",
       "              'coc(=o)[c@@h]1[c@h]2cc[c@h]([n@@h+]2cccf)c[c@@h]1c3ccc(cc3)i-5'],\n",
       "             '[H]c1c(c(c(c(c1[C@@]2([C@]([C@]3(C(C([C@@](C2([H])[H])([N@@+]3([H])C([H])([H])C([H])([H])C([H])([H])F)[H])([H])[H])([H])[H])[H])([H])C(=O)OC([H])([H])[H])[H])[H])[H])I)[H]': ['coc(=o)[c@@h]1[c@h]2cc[c@h]([n@h+]2cccf)c[c@@h]1c3ccc(cc3)i-0',\n",
       "              'coc(=o)[c@@h]1[c@h]2cc[c@h]([n@h+]2cccf)c[c@@h]1c3ccc(cc3)i-1',\n",
       "              'coc(=o)[c@@h]1[c@h]2cc[c@h]([n@h+]2cccf)c[c@@h]1c3ccc(cc3)i-2'],\n",
       "             '[H]C1=C2[C@@]([C@@]3([C@]([C@]4([C@@]([C@](C(C4([H])[H])([H])[H])(C(=O)C([H])([H])O[H])O[H])(C([C@]3([H])O[H])([H])[H])C([H])([H])[H])[H])(C(C2([H])[H])([H])[H])[H])F)(C(C(C1=O)([H])[H])([H])[H])C([H])([H])[H]': ['c[c@]12ccc(=o)c=c1cc[c@@h]3[c@@]2([c@h](c[c@]4([c@h]3cc[c@@]4(c(=o)co)o)c)o)f-0',\n",
       "              'c[c@]12ccc(=o)c=c1cc[c@@h]3[c@@]2([c@h](c[c@]4([c@h]3cc[c@@]4(c(=o)co)o)c)o)f-1'],\n",
       "             '[H]C1=C2C(=C([C@@]3([C@@]([C@]2(C(C(C1=O)([H])[H])([H])[H])C([H])([H])[H])(C(C([C@]4([C@]3(C(C([C@@]4(C(=O)C([H])([H])[H])OC(=O)C([H])([H])[H])([H])[H])([H])[H])[H])C([H])([H])[H])([H])[H])([H])[H])[H])[H])[H])C([H])([H])[H]': ['cc1=c[c@@h]2[c@h](cc[c@]3([c@h]2cc[c@@]3(c(=o)c)oc(=o)c)c)[c@@]4(c1=cc(=o)cc4)c-0'],\n",
       "             '[H]c1c(c(c(c(c1[H])[H])C2=Nc3c(c(c(c(c3N2[H])[H])[H])S(=O)(=O)[O-])[H])[H])[H]': ['c1ccc(cc1)c2[nh]c3ccc(cc3n2)s(=o)(=o)[o-]-0'],\n",
       "             '[H]c1c(c(c(c(c1C2=C(C(=C(O2)/C(=N/N3C(=O)N(C(=O)C3([H])[H])[H])/[H])[H])[H])[H])[H])N(=O)=O)[H]': ['c1cc(ccc1c2ccc(o2)/c=n/n3cc(=o)nc3=o)n(=o)=o-0',\n",
       "              'c1cc(ccc1c2ccc(o2)/c=n/n3cc(=o)nc3=o)n(=o)=o-1',\n",
       "              'c1cc(ccc1c2ccc(o2)/c=n/n3cc(=o)nc3=o)n(=o)=o-2',\n",
       "              'c1cc(ccc1c2ccc(o2)/c=n/n3cc(=o)nc3=o)n(=o)=o-3',\n",
       "              'c1cc(ccc1c2ccc(o2)/c=n/n3cc(=o)nc3=o)n(=o)=o-4',\n",
       "              'c1cc(ccc1c2ccc(o2)/c=n/n3cc(=o)nc3=o)n(=o)=o-5',\n",
       "              'c1cc(ccc1c2ccc(o2)/c=n/n3cc(=o)nc3=o)n(=o)=o-6',\n",
       "              'c1cc(ccc1c2ccc(o2)/c=n/n3cc(=o)nc3=o)n(=o)=o-7',\n",
       "              'c1cc(ccc1c2ccc(o2)/c=n/n3cc(=o)nc3=o)n(=o)=o-8',\n",
       "              'c1cc(ccc1c2ccc(o2)/c=n/n3cc(=o)nc3=o)n(=o)=o-9',\n",
       "              'c1cc(ccc1c2ccc(o2)/c=n/n3cc(=o)nc3=o)n(=o)=o-10',\n",
       "              'c1cc(ccc1c2ccc(o2)/c=n/n3cc(=o)nc3=o)n(=o)=o-11'],\n",
       "             '[H]c1c(c(c(c(c1C2=C(C(=C(O2)/C(=N/N3C(=O)[N-]C(=O)C3([H])[H])/[H])[H])[H])[H])[H])N(=O)=O)[H]': ['c1cc(ccc1c2ccc(o2)/c=n/n3cc(=o)[n-]c3=o)n(=o)=o-0',\n",
       "              'c1cc(ccc1c2ccc(o2)/c=n/n3cc(=o)[n-]c3=o)n(=o)=o-1',\n",
       "              'c1cc(ccc1c2ccc(o2)/c=n/n3cc(=o)[n-]c3=o)n(=o)=o-2',\n",
       "              'c1cc(ccc1c2ccc(o2)/c=n/n3cc(=o)[n-]c3=o)n(=o)=o-3',\n",
       "              'c1cc(ccc1c2ccc(o2)/c=n/n3cc(=o)[n-]c3=o)n(=o)=o-4',\n",
       "              'c1cc(ccc1c2ccc(o2)/c=n/n3cc(=o)[n-]c3=o)n(=o)=o-5',\n",
       "              'c1cc(ccc1c2ccc(o2)/c=n/n3cc(=o)[n-]c3=o)n(=o)=o-6',\n",
       "              'c1cc(ccc1c2ccc(o2)/c=n/n3cc(=o)[n-]c3=o)n(=o)=o-7',\n",
       "              'c1cc(ccc1c2ccc(o2)/c=n/n3cc(=o)[n-]c3=o)n(=o)=o-8',\n",
       "              'c1cc(ccc1c2ccc(o2)/c=n/n3cc(=o)[n-]c3=o)n(=o)=o-9',\n",
       "              'c1cc(ccc1c2ccc(o2)/c=n/n3cc(=o)[n-]c3=o)n(=o)=o-10',\n",
       "              'c1cc(ccc1c2ccc(o2)/c=n/n3cc(=o)[n-]c3=o)n(=o)=o-11'],\n",
       "             '[H]c1c(c(c(c(c1/C(=C\\\\2/C(=O)[C@@]3(C(C([C@]2(C3(C([H])([H])[H])C([H])([H])[H])[H])([H])[H])([H])[H])C([H])([H])[H])/[H])[H])[H])C([H])([H])[H])[H]': ['cc1ccc(cc1)/c=c/2\\\\[c@h]3cc[c@@](c2=o)(c3(c)c)c-0'],\n",
       "             '[H]C1=C([C@]2(C(=C(C1=O)[H])[C@@](C([C@@]3([C@@]2([C@@](C([C@]4([C@]3(C([C@@]([C@]4([H])C(=O)C([H])([H])O[H])([H])C([H])([H])[H])([H])[H])[H])C([H])([H])[H])([H])[H])([H])O[H])Cl)[H])([H])[H])([H])F)C([H])([H])[H])[H]': ['c[c@@h]1c[c@h]2[c@@h]3c[c@@h](c4=cc(=o)c=c[c@@]4([c@]3([c@h](c[c@@]2([c@h]1c(=o)co)c)o)cl)c)f-0',\n",
       "              'c[c@@h]1c[c@h]2[c@@h]3c[c@@h](c4=cc(=o)c=c[c@@]4([c@]3([c@h](c[c@@]2([c@h]1c(=o)co)c)o)cl)c)f-1'],\n",
       "             '[H]c1c(c(c(c(c1[H])[H])C2=N[C@@](C(=O)N(c3c2c(c(c(c3[H])[H])Cl)[H])[H])([H])C(=O)[O-])[H])[H]': ['c1ccc(cc1)c2=n[c@h](c(=o)nc3c2cc(cc3)cl)c(=o)[o-]-0',\n",
       "              'c1ccc(cc1)c2=n[c@h](c(=o)nc3c2cc(cc3)cl)c(=o)[o-]-1'],\n",
       "             '[H]c1c(c(c(c(c1[H])[H])C2=N[C@](C(=O)N(c3c2c(c(c(c3[H])[H])Cl)[H])[H])([H])C(=O)[O-])[H])[H]': ['c1ccc(cc1)c2=n[c@@h](c(=o)nc3c2cc(cc3)cl)c(=o)[o-]-0',\n",
       "              'c1ccc(cc1)c2=n[c@@h](c(=o)nc3c2cc(cc3)cl)c(=o)[o-]-1'],\n",
       "             '[H][C@]12[C@@](C([C@](C1([H])[H])(C(C2([H])[H])([H])[H])[H])(C([H])([H])[H])C([H])([H])[H])(C([H])([H])[H])[N+]([H])([H])C([H])([H])[H]': ['c[c@]1([c@@h]2cc[c@@h](c2)c1(c)c)[nh2+]c-0'],\n",
       "             '[H]c1c(c(c(c(c1[H])[H])[C@@]2(C(=O)N(C(=O)N2[H])C([H])([H])C([H])([H])[H])[H])[H])[H]': ['ccn1c(=o)[c@h](nc1=o)c2ccccc2-0'],\n",
       "             '[H]c1c(c(c2c(c1[H])[C@]3([C@](c4c(c(c(c(c4O2)[H])[H])Cl)[H])(C([N@@](C3([H])[H])C([H])([H])[H])([H])[H])[H])[H])[H])[H]': ['c[n@@]1c[c@h]2c3ccccc3oc4ccc(cc4[c@@h]2c1)cl-0',\n",
       "              'c[n@@]1c[c@h]2c3ccccc3oc4ccc(cc4[c@@h]2c1)cl-1'],\n",
       "             '[H]c1c(c(c2c(c1[H])[C@]3([C@](c4c(c(c(c(c4O2)[H])[H])Cl)[H])(C([N@+](C3([H])[H])([H])C([H])([H])[H])([H])[H])[H])[H])[H])[H]': ['c[n@@h+]1c[c@h]2c3ccccc3oc4ccc(cc4[c@@h]2c1)cl-0',\n",
       "              'c[n@@h+]1c[c@h]2c3ccccc3oc4ccc(cc4[c@@h]2c1)cl-1'],\n",
       "             '[H]c1c(c(c2c(c1[H])[C@]3([C@](c4c(c(c(c(c4O2)[H])[H])Cl)[H])(C([N@@+](C3([H])[H])([H])C([H])([H])[H])([H])[H])[H])[H])[H])[H]': ['c[n@h+]1c[c@h]2c3ccccc3oc4ccc(cc4[c@@h]2c1)cl-0',\n",
       "              'c[n@h+]1c[c@h]2c3ccccc3oc4ccc(cc4[c@@h]2c1)cl-1'],\n",
       "             '[H]c1c(c(c(c(c1[H])[H])[C@]2(C(=O)N(C(=O)N2[H])C([H])([H])C([H])([H])[H])[H])[H])[H]': ['ccn1c(=o)[c@@h](nc1=o)c2ccccc2-0'],\n",
       "             '[H]C1=C(OC(=C1[H])C(=O)O[C@@]2([C@](C([C@@]3([C@@]2(C([C@]([C@]4([C@]3(C([C@](C5=C(C(=O)C(=C([C@@]54C([H])([H])[H])[H])[H])[H])([H])F)([H])[H])[H])F)([H])O[H])([H])[H])C([H])([H])[H])[H])([H])[H])([H])C([H])([H])[H])C(=O)SC([H])([H])F)[H]': ['c[c@@h]1c[c@h]2[c@@h]3c[c@@h](c4=cc(=o)c=c[c@@]4([c@]3([c@h](c[c@@]2([c@]1(c(=o)scf)oc(=o)c5ccco5)c)o)f)c)f-0',\n",
       "              'c[c@@h]1c[c@h]2[c@@h]3c[c@@h](c4=cc(=o)c=c[c@@]4([c@]3([c@h](c[c@@]2([c@]1(c(=o)scf)oc(=o)c5ccco5)c)o)f)c)f-1',\n",
       "              'c[c@@h]1c[c@h]2[c@@h]3c[c@@h](c4=cc(=o)c=c[c@@]4([c@]3([c@h](c[c@@]2([c@]1(c(=o)scf)oc(=o)c5ccco5)c)o)f)c)f-2',\n",
       "              'c[c@@h]1c[c@h]2[c@@h]3c[c@@h](c4=cc(=o)c=c[c@@]4([c@]3([c@h](c[c@@]2([c@]1(c(=o)scf)oc(=o)c5ccco5)c)o)f)c)f-3',\n",
       "              'c[c@@h]1c[c@h]2[c@@h]3c[c@@h](c4=cc(=o)c=c[c@@]4([c@]3([c@h](c[c@@]2([c@]1(c(=o)scf)oc(=o)c5ccco5)c)o)f)c)f-4'],\n",
       "             '[H]C([H])([H])N(C(=[N+]([H])[H])N([H])C(=[N+]([H])[H])N([H])[H])C([H])([H])[H]': ['cn(c)c(=[nh2+])nc(=[nh2+])n-0',\n",
       "              'cn(c)c(=[nh2+])nc(=[nh2+])n-1',\n",
       "              'cn(c)c(=[nh2+])nc(=[nh2+])n-2'],\n",
       "             '[H]c1c(c(c(c(c1[H])[H])[C@@]2([C@@]([N@@](C(C(O2)([H])[H])([H])[H])C([H])([H])[H])([H])C([H])([H])[H])[H])[H])[H]': ['c[c@@h]1[c@h](occ[n@]1c)c2ccccc2-0'],\n",
       "             '[H]c1c(c(c(c(c1[H])[H])[C@@]2([C@@]([N@@+](C(C(O2)([H])[H])([H])[H])([H])C([H])([H])[H])([H])C([H])([H])[H])[H])[H])[H]': ['c[c@@h]1[c@h](occ[n@@h+]1c)c2ccccc2-0',\n",
       "              'c[c@@h]1[c@h](occ[n@@h+]1c)c2ccccc2-1'],\n",
       "             '[H]c1c(c(c(c(c1[H])[H])[C@@]2([C@@]([N@+](C(C(O2)([H])[H])([H])[H])([H])C([H])([H])[H])([H])C([H])([H])[H])[H])[H])[H]': ['c[c@@h]1[c@h](occ[n@h+]1c)c2ccccc2-0',\n",
       "              'c[c@@h]1[c@h](occ[n@h+]1c)c2ccccc2-1'],\n",
       "             '[H]c1c(c(c(c(c1[H])[H])[C@]2([C@]([N@](C(C(O2)([H])[H])([H])[H])C([H])([H])[H])([H])C([H])([H])[H])[H])[H])[H]': ['c[c@h]1[c@@h](occ[n@@]1c)c2ccccc2-0'],\n",
       "             '[H]c1c(c(c(c(c1[H])[H])[C@]2([C@]([N@@+](C(C(O2)([H])[H])([H])[H])([H])C([H])([H])[H])([H])C([H])([H])[H])[H])[H])[H]': ['c[c@h]1[c@@h](occ[n@@h+]1c)c2ccccc2-0'],\n",
       "             '[H]c1c(c(c(c(c1[H])[H])[C@]2([C@]([N@+](C(C(O2)([H])[H])([H])[H])([H])C([H])([H])[H])([H])C([H])([H])[H])[H])[H])[H]': ['c[c@h]1[c@@h](occ[n@h+]1c)c2ccccc2-0',\n",
       "              'c[c@h]1[c@@h](occ[n@h+]1c)c2ccccc2-1'],\n",
       "             '[H]c1c(c(c(c(c1[H])[H])[C@]([H])(C(=O)N([H])[C@@]2(C(=O)N3[C@@]2(SC(C(=C3C(=O)[O-])Cl)([H])[H])[H])[H])N([H])[H])[H])[H]': ['c1ccc(cc1)[c@h](c(=o)n[c@h]2[c@@h]3n(c2=o)c(=c(cs3)cl)c(=o)[o-])n-0',\n",
       "              'c1ccc(cc1)[c@h](c(=o)n[c@h]2[c@@h]3n(c2=o)c(=c(cs3)cl)c(=o)[o-])n-1',\n",
       "              'c1ccc(cc1)[c@h](c(=o)n[c@h]2[c@@h]3n(c2=o)c(=c(cs3)cl)c(=o)[o-])n-2',\n",
       "              'c1ccc(cc1)[c@h](c(=o)n[c@h]2[c@@h]3n(c2=o)c(=c(cs3)cl)c(=o)[o-])n-4',\n",
       "              'c1ccc(cc1)[c@h](c(=o)n[c@h]2[c@@h]3n(c2=o)c(=c(cs3)cl)c(=o)[o-])n-5',\n",
       "              'c1ccc(cc1)[c@h](c(=o)n[c@h]2[c@@h]3n(c2=o)c(=c(cs3)cl)c(=o)[o-])n-6',\n",
       "              'c1ccc(cc1)[c@h](c(=o)n[c@h]2[c@@h]3n(c2=o)c(=c(cs3)cl)c(=o)[o-])n-7',\n",
       "              'c1ccc(cc1)[c@h](c(=o)n[c@h]2[c@@h]3n(c2=o)c(=c(cs3)cl)c(=o)[o-])n-8',\n",
       "              'c1ccc(cc1)[c@h](c(=o)n[c@h]2[c@@h]3n(c2=o)c(=c(cs3)cl)c(=o)[o-])n-9',\n",
       "              'c1ccc(cc1)[c@h](c(=o)n[c@h]2[c@@h]3n(c2=o)c(=c(cs3)cl)c(=o)[o-])n-10'],\n",
       "             '[H]c1c(c(c(c(c1[H])[H])[C@]([H])(C(=O)N([H])[C@@]2(C(=O)N3[C@@]2(SC(C(=C3C(=O)[O-])Cl)([H])[H])[H])[H])[N+]([H])([H])[H])[H])[H]': ['c1ccc(cc1)[c@h](c(=o)n[c@h]2[c@@h]3n(c2=o)c(=c(cs3)cl)c(=o)[o-])[nh3+]-0',\n",
       "              'c1ccc(cc1)[c@h](c(=o)n[c@h]2[c@@h]3n(c2=o)c(=c(cs3)cl)c(=o)[o-])[nh3+]-1',\n",
       "              'c1ccc(cc1)[c@h](c(=o)n[c@h]2[c@@h]3n(c2=o)c(=c(cs3)cl)c(=o)[o-])[nh3+]-2',\n",
       "              'c1ccc(cc1)[c@h](c(=o)n[c@h]2[c@@h]3n(c2=o)c(=c(cs3)cl)c(=o)[o-])[nh3+]-3',\n",
       "              'c1ccc(cc1)[c@h](c(=o)n[c@h]2[c@@h]3n(c2=o)c(=c(cs3)cl)c(=o)[o-])[nh3+]-4',\n",
       "              'c1ccc(cc1)[c@h](c(=o)n[c@h]2[c@@h]3n(c2=o)c(=c(cs3)cl)c(=o)[o-])[nh3+]-5',\n",
       "              'c1ccc(cc1)[c@h](c(=o)n[c@h]2[c@@h]3n(c2=o)c(=c(cs3)cl)c(=o)[o-])[nh3+]-6',\n",
       "              'c1ccc(cc1)[c@h](c(=o)n[c@h]2[c@@h]3n(c2=o)c(=c(cs3)cl)c(=o)[o-])[nh3+]-7',\n",
       "              'c1ccc(cc1)[c@h](c(=o)n[c@h]2[c@@h]3n(c2=o)c(=c(cs3)cl)c(=o)[o-])[nh3+]-8',\n",
       "              'c1ccc(cc1)[c@h](c(=o)n[c@h]2[c@@h]3n(c2=o)c(=c(cs3)cl)c(=o)[o-])[nh3+]-9'],\n",
       "             '[H]c1c(c(c(c2c1C([C@]3([C@@]4([C@]2(C(C(C(C4([H])[H])([H])[H])([H])[H])([H])[H])C(C([N@+]3([H])C([H])([H])[H])([H])[H])([H])[H])[H])[H])([H])[H])[H])OC([H])([H])[H])[H]': ['c[n@h+]1cc[c@@]23cccc[c@@h]2[c@@h]1cc4c3cc(cc4)oc-0'],\n",
       "             '[H]c1c(c(c(c2c1C([C@]3([C@@]4([C@]2(C(C(C(C4([H])[H])([H])[H])([H])[H])([H])[H])C(C([N@@+]3([H])C([H])([H])[H])([H])[H])([H])[H])[H])[H])([H])[H])[H])OC([H])([H])[H])[H]': ['c[n@@h+]1cc[c@@]23cccc[c@@h]2[c@@h]1cc4c3cc(cc4)oc-0'],\n",
       "             '[H]C1=C(C(=O)N(C(=O)N1[C@]2(C([C@]([C@@](O2)([H])C([H])([H])O[H])([H])N=[N+]=[N-])([H])[H])[H])[H])C([H])([H])[H]': ['cc1cn(c(=o)[nh]c1=o)[c@h]2c[c@@h]([c@h](o2)co)n=[n+]=[n-]-0',\n",
       "              'cc1cn(c(=o)[nh]c1=o)[c@h]2c[c@@h]([c@h](o2)co)n=[n+]=[n-]-1',\n",
       "              'cc1cn(c(=o)[nh]c1=o)[c@h]2c[c@@h]([c@h](o2)co)n=[n+]=[n-]-2',\n",
       "              'cc1cn(c(=o)[nh]c1=o)[c@h]2c[c@@h]([c@h](o2)co)n=[n+]=[n-]-3',\n",
       "              'cc1cn(c(=o)[nh]c1=o)[c@h]2c[c@@h]([c@h](o2)co)n=[n+]=[n-]-4',\n",
       "              'cc1cn(c(=o)[nh]c1=o)[c@h]2c[c@@h]([c@h](o2)co)n=[n+]=[n-]-5',\n",
       "              'cc1cn(c(=o)[nh]c1=o)[c@h]2c[c@@h]([c@h](o2)co)n=[n+]=[n-]-6',\n",
       "              'cc1cn(c(=o)[nh]c1=o)[c@h]2c[c@@h]([c@h](o2)co)n=[n+]=[n-]-7',\n",
       "              'cc1cn(c(=o)[nh]c1=o)[c@h]2c[c@@h]([c@h](o2)co)n=[n+]=[n-]-8',\n",
       "              'cc1cn(c(=o)[nh]c1=o)[c@h]2c[c@@h]([c@h](o2)co)n=[n+]=[n-]-9',\n",
       "              'cc1cn(c(=o)[nh]c1=o)[c@h]2c[c@@h]([c@h](o2)co)n=[n+]=[n-]-10',\n",
       "              'cc1cn(c(=o)[nh]c1=o)[c@h]2c[c@@h]([c@h](o2)co)n=[n+]=[n-]-11',\n",
       "              'cc1cn(c(=o)[nh]c1=o)[c@h]2c[c@@h]([c@h](o2)co)n=[n+]=[n-]-12'],\n",
       "             '[H]c1c(c(c(c2c1C([C@@]3([C@]4([C@@]2(C(C(C(C4([H])[H])([H])[H])([H])[H])([H])[H])C(C([N@@+]3([H])C([H])([H])C5(C(C(C5([H])[H])([H])[H])([H])[H])[H])([H])[H])([H])[H])O[H])[H])([H])[H])[H])O[H])[H]': ['c1cc2c(cc1o)[c@@]34cccc[c@]3([c@@h](c2)[n@@h+](cc4)cc5ccc5)o-0',\n",
       "              'c1cc2c(cc1o)[c@@]34cccc[c@]3([c@@h](c2)[n@@h+](cc4)cc5ccc5)o-1'],\n",
       "             '[H]c1c(c(c(c2c1C([C@@]3([C@]4([C@@]2(C(C(C(C4([H])[H])([H])[H])([H])[H])([H])[H])C(C([N@+]3([H])C([H])([H])C5(C(C(C5([H])[H])([H])[H])([H])[H])[H])([H])[H])([H])[H])O[H])[H])([H])[H])[H])O[H])[H]': ['c1cc2c(cc1o)[c@@]34cccc[c@]3([c@@h](c2)[n@h+](cc4)cc5ccc5)o-0',\n",
       "              'c1cc2c(cc1o)[c@@]34cccc[c@]3([c@@h](c2)[n@h+](cc4)cc5ccc5)o-1',\n",
       "              'c1cc2c(cc1o)[c@@]34cccc[c@]3([c@@h](c2)[n@h+](cc4)cc5ccc5)o-2'],\n",
       "             '[H]c1c2c(c(c(c1F)[N@@]3C([C@]4([C@@](C3([H])[H])([N+](C(C(C4([H])[H])([H])[H])([H])[H])([H])[H])[H])[H])([H])[H])OC([H])([H])[H])N(C(=C(C2=O)C(=O)[O-])[H])C5(C(C5([H])[H])([H])[H])[H]': ['coc1c2c(cc(c1[n@@]3c[c@@h]4ccc[nh2+][c@@h]4c3)f)c(=o)c(cn2c5cc5)c(=o)[o-]-0',\n",
       "              'coc1c2c(cc(c1[n@@]3c[c@@h]4ccc[nh2+][c@@h]4c3)f)c(=o)c(cn2c5cc5)c(=o)[o-]-1',\n",
       "              'coc1c2c(cc(c1[n@@]3c[c@@h]4ccc[nh2+][c@@h]4c3)f)c(=o)c(cn2c5cc5)c(=o)[o-]-2',\n",
       "              'coc1c2c(cc(c1[n@@]3c[c@@h]4ccc[nh2+][c@@h]4c3)f)c(=o)c(cn2c5cc5)c(=o)[o-]-3'],\n",
       "             '[H][C@]12[C@@]([C@@]3([C@](C(C(=O)OC3([H])[H])([H])[H])(C(C1([H])[H])([H])[H])[H])C([H])([H])[H])(C(C([C@]4([C@]2(C(C([C@]4(C([H])([H])[H])O[H])([H])[H])([H])[H])[H])C([H])([H])[H])([H])[H])([H])[H])[H]': ['c[c@]12cc[c@h]3[c@h]([c@@h]1cc[c@]2(c)o)cc[c@@h]4[c@@]3(coc(=o)c4)c-0'],\n",
       "             '[H]C([H])([H])[N+](C([H])([H])[H])(C([H])([H])[H])C([H])([H])C([H])([H])OC(=O)N([H])[H]': ['c[n+](c)(c)ccoc(=o)n-0',\n",
       "              'c[n+](c)(c)ccoc(=o)n-1',\n",
       "              'c[n+](c)(c)ccoc(=o)n-2'],\n",
       "             '[H]c1c(c(c(c(c1C2=C(N3C(=C(C(=C(C3=N2)[H])[H])C([H])([H])[H])[H])C([H])([H])C(=O)N(C([H])([H])[H])C([H])([H])[H])[H])[H])C([H])([H])[H])[H]': ['cc1ccc(cc1)c2c(n3cc(ccc3n2)c)cc(=o)n(c)c-0',\n",
       "              'cc1ccc(cc1)c2c(n3cc(ccc3n2)c)cc(=o)n(c)c-1',\n",
       "              'cc1ccc(cc1)c2c(n3cc(ccc3n2)c)cc(=o)n(c)c-2',\n",
       "              'cc1ccc(cc1)c2c(n3cc(ccc3n2)c)cc(=o)n(c)c-3',\n",
       "              'cc1ccc(cc1)c2c(n3cc(ccc3n2)c)cc(=o)n(c)c-4',\n",
       "              'cc1ccc(cc1)c2c(n3cc(ccc3n2)c)cc(=o)n(c)c-5'],\n",
       "             '[H]c1c(c(c(c(c1[H])[H])[C@@](C(=O)O[C@]2(C(C([N+](C2([H])[H])(C([H])([H])[H])C([H])([H])[H])([H])[H])([H])[H])[H])(C3(C(C(C(C3([H])[H])([H])[H])([H])[H])([H])[H])[H])O[H])[H])[H]': ['c[n+]1(cc[c@@h](c1)oc(=o)[c@](c2ccccc2)(c3cccc3)o)c-0',\n",
       "              'c[n+]1(cc[c@@h](c1)oc(=o)[c@](c2ccccc2)(c3cccc3)o)c-1',\n",
       "              'c[n+]1(cc[c@@h](c1)oc(=o)[c@](c2ccccc2)(c3cccc3)o)c-2',\n",
       "              'c[n+]1(cc[c@@h](c1)oc(=o)[c@](c2ccccc2)(c3cccc3)o)c-3',\n",
       "              'c[n+]1(cc[c@@h](c1)oc(=o)[c@](c2ccccc2)(c3cccc3)o)c-4',\n",
       "              'c[n+]1(cc[c@@h](c1)oc(=o)[c@](c2ccccc2)(c3cccc3)o)c-5',\n",
       "              'c[n+]1(cc[c@@h](c1)oc(=o)[c@](c2ccccc2)(c3cccc3)o)c-6',\n",
       "              'c[n+]1(cc[c@@h](c1)oc(=o)[c@](c2ccccc2)(c3cccc3)o)c-7',\n",
       "              'c[n+]1(cc[c@@h](c1)oc(=o)[c@](c2ccccc2)(c3cccc3)o)c-8',\n",
       "              'c[n+]1(cc[c@@h](c1)oc(=o)[c@](c2ccccc2)(c3cccc3)o)c-9',\n",
       "              'c[n+]1(cc[c@@h](c1)oc(=o)[c@](c2ccccc2)(c3cccc3)o)c-10',\n",
       "              'c[n+]1(cc[c@@h](c1)oc(=o)[c@](c2ccccc2)(c3cccc3)o)c-11',\n",
       "              'c[n+]1(cc[c@@h](c1)oc(=o)[c@](c2ccccc2)(c3cccc3)o)c-12',\n",
       "              'c[n+]1(cc[c@@h](c1)oc(=o)[c@](c2ccccc2)(c3cccc3)o)c-13'],\n",
       "             '[H]c1c(c(c(c(c1[H])[H])[C@]2([C@](C2([H])[H])([H])C([H])([H])[N+]([H])([H])[H])C(=O)N(C([H])([H])C([H])([H])[H])C([H])([H])C([H])([H])[H])[H])[H]': ['ccn(cc)c(=o)[c@]1(c[c@h]1c[nh3+])c2ccccc2-0',\n",
       "              'ccn(cc)c(=o)[c@]1(c[c@h]1c[nh3+])c2ccccc2-1',\n",
       "              'ccn(cc)c(=o)[c@]1(c[c@h]1c[nh3+])c2ccccc2-2'],\n",
       "             '[H]C1=NC2=C(N1C([H])([H])C([H])([H])C([H])(C([H])([H])O[H])C([H])([H])O[H])N=C(N(C2=O)[H])N([H])[H]': ['c1nc2c(=o)[nh]c(nc2n1ccc(co)co)n-0',\n",
       "              'c1nc2c(=o)[nh]c(nc2n1ccc(co)co)n-1',\n",
       "              'c1nc2c(=o)[nh]c(nc2n1ccc(co)co)n-2',\n",
       "              'c1nc2c(=o)[nh]c(nc2n1ccc(co)co)n-3',\n",
       "              'c1nc2c(=o)[nh]c(nc2n1ccc(co)co)n-4',\n",
       "              'c1nc2c(=o)[nh]c(nc2n1ccc(co)co)n-5',\n",
       "              'c1nc2c(=o)[nh]c(nc2n1ccc(co)co)n-6',\n",
       "              'c1nc2c(=o)[nh]c(nc2n1ccc(co)co)n-7',\n",
       "              'c1nc2c(=o)[nh]c(nc2n1ccc(co)co)n-8',\n",
       "              'c1nc2c(=o)[nh]c(nc2n1ccc(co)co)n-9',\n",
       "              'c1nc2c(=o)[nh]c(nc2n1ccc(co)co)n-10',\n",
       "              'c1nc2c(=o)[nh]c(nc2n1ccc(co)co)n-11',\n",
       "              'c1nc2c(=o)[nh]c(nc2n1ccc(co)co)n-12',\n",
       "              'c1nc2c(=o)[nh]c(nc2n1ccc(co)co)n-13',\n",
       "              'c1nc2c(=o)[nh]c(nc2n1ccc(co)co)n-14',\n",
       "              'c1nc2c(=o)[nh]c(nc2n1ccc(co)co)n-15',\n",
       "              'c1nc2c(=o)[nh]c(nc2n1ccc(co)co)n-16',\n",
       "              'c1nc2c(=o)[nh]c(nc2n1ccc(co)co)n-17',\n",
       "              'c1nc2c(=o)[nh]c(nc2n1ccc(co)co)n-18',\n",
       "              'c1nc2c(=o)[nh]c(nc2n1ccc(co)co)n-19'],\n",
       "             '[H]c1c(c(c(c(c1Cl)N([H])[C+]2N(C(C(N2[H])([H])[H])([H])[H])[H])Cl)[H])N([H])[H]': ['c1c(cc(c(c1cl)n[c+]2nccn2)cl)n-0'],\n",
       "             '[H]c1c(c(c(c(c1Cl)N([H])C2=NC(C(N2[H])([H])[H])([H])[H])Cl)[H])N([H])[H]': ['c1c(cc(c(c1cl)nc2=nccn2)cl)n-0',\n",
       "              'c1c(cc(c(c1cl)nc2=nccn2)cl)n-1'],\n",
       "             '[H]c1c(nc(c(n1)[H])C(=O)N([H])[H])[H]': ['c1cnc(cn1)c(=o)n-0',\n",
       "              'c1cnc(cn1)c(=o)n-1'],\n",
       "             '[H][C@@]1(C(=O)[N-]OC1([H])[H])[N+]([H])([H])[H]': ['c1[c@h](c(=o)[n-]o1)[nh3+]-0'],\n",
       "             '[H][C@@]1(C(=NOC1([H])[H])[O-])N([H])[H]': ['c1[c@h](c(=no1)[o-])n-0',\n",
       "              'c1[c@h](c(=no1)[o-])n-1'],\n",
       "             '[H]c1c(c(c(c(c1[H])[H])[C@]([H])([C@]([H])(C([H])([H])[H])[N+]([H])([H])C([H])([H])[H])O[H])[H])[H]': ['c[c@@h]([c@@h](c1ccccc1)o)[nh2+]c-0',\n",
       "              'c[c@@h]([c@@h](c1ccccc1)o)[nh2+]c-1',\n",
       "              'c[c@@h]([c@@h](c1ccccc1)o)[nh2+]c-2',\n",
       "              'c[c@@h]([c@@h](c1ccccc1)o)[nh2+]c-3'],\n",
       "             '[H]c1c(c(c(c(c1C(F)(F)F)[H])[H])N([H])C(=O)C2=C(ON=C2[H])C([H])([H])[H])[H]': ['cc1c(cno1)c(=o)nc2ccc(cc2)c(f)(f)f-0',\n",
       "              'cc1c(cno1)c(=o)nc2ccc(cc2)c(f)(f)f-1'],\n",
       "             '[H]c1c(c(c(c(c1[H])Cl)N([H])C2=NC(C(N2[H])([H])[H])([H])[H])Cl)[H]': ['c1cc(c(c(c1)cl)nc2=nccn2)cl-0',\n",
       "              'c1cc(c(c(c1)cl)nc2=nccn2)cl-1'],\n",
       "             '[H]c1c(c(c(c(c1C2=C(C(=NN2c3c(c(c(c(c3[H])[H])S(=O)(=O)N([H])[H])[H])[H])C(F)(F)F)[H])[H])[H])C([H])([H])[H])[H]': ['cc1ccc(cc1)c2cc(nn2c3ccc(cc3)s(=o)(=o)n)c(f)(f)f-0',\n",
       "              'cc1ccc(cc1)c2cc(nn2c3ccc(cc3)s(=o)(=o)n)c(f)(f)f-1',\n",
       "              'cc1ccc(cc1)c2cc(nn2c3ccc(cc3)s(=o)(=o)n)c(f)(f)f-2',\n",
       "              'cc1ccc(cc1)c2cc(nn2c3ccc(cc3)s(=o)(=o)n)c(f)(f)f-3'],\n",
       "             '[H]c1c(c(c(c2c1N=C3C(=C(C(=[N+](C([H])([H])[H])C([H])([H])[H])C(=C3S2)[H])[H])[H])[H])N(C([H])([H])[H])C([H])([H])[H])[H]': ['cn(c)c1ccc2c(c1)sc-3cc(=[n+](c)c)ccc3n2-0'],\n",
       "             '[H]c1c(c(c(c(c1C#N)[H])[H])N([H])c2nc(c(c(n2)Oc3c(c(c(c(c3C([H])([H])[H])[H])C#N)[H])C([H])([H])[H])Br)N([H])[H])[H]': ['cc1cc(cc(c1oc2c(c(nc(n2)nc3ccc(cc3)c#n)n)br)c)c#n-0',\n",
       "              'cc1cc(cc(c1oc2c(c(nc(n2)nc3ccc(cc3)c#n)n)br)c)c#n-1',\n",
       "              'cc1cc(cc(c1oc2c(c(nc(n2)nc3ccc(cc3)c#n)n)br)c)c#n-2',\n",
       "              'cc1cc(cc(c1oc2c(c(nc(n2)nc3ccc(cc3)c#n)n)br)c)c#n-3',\n",
       "              'cc1cc(cc(c1oc2c(c(nc(n2)nc3ccc(cc3)c#n)n)br)c)c#n-4',\n",
       "              'cc1cc(cc(c1oc2c(c(nc(n2)nc3ccc(cc3)c#n)n)br)c)c#n-5',\n",
       "              'cc1cc(cc(c1oc2c(c(nc(n2)nc3ccc(cc3)c#n)n)br)c)c#n-6',\n",
       "              'cc1cc(cc(c1oc2c(c(nc(n2)nc3ccc(cc3)c#n)n)br)c)c#n-7'],\n",
       "             '[H][C@@]1([C@@](O1)([H])P(=O)([O-])O[H])C([H])([H])[H]': ['c[c@h]1[c@h](o1)[p@@](=o)(o)[o-]-0',\n",
       "              'c[c@h]1[c@h](o1)[p@@](=o)(o)[o-]-1',\n",
       "              'c[c@h]1[c@h](o1)[p@@](=o)(o)[o-]-2'],\n",
       "             '[H][C@@]1([C@@](O1)([H])P(=O)([O-])[O-])C([H])([H])[H]': ['c[c@h]1[c@h](o1)p(=o)([o-])[o-]-0',\n",
       "              'c[c@h]1[c@h](o1)p(=o)([o-])[o-]-1'],\n",
       "             '[H]c1c(c(c(c(c1[H])[H])C(c2c(c(c(c(c2[H])[H])[H])[H])[H])(c3c(c(c(c(c3Cl)[H])[H])[H])[H])N4C(=C(N=C4[H])[H])[H])[H])[H]': ['c1ccc(cc1)c(c2ccccc2)(c3ccccc3cl)n4ccnc4-0',\n",
       "              'c1ccc(cc1)c(c2ccccc2)(c3ccccc3cl)n4ccnc4-1'],\n",
       "             '[H]c1c(c(c(c(c1[H])[H])C(c2c(c(c(c(c2[H])[H])[H])[H])[H])(c3c(c(c(c(c3Cl)[H])[H])[H])[H])N4C(=C(N([C+]4[H])[H])[H])[H])[H])[H]': ['c1ccc(cc1)c(c2ccccc2)(c3ccccc3cl)n4cc[nh][ch+]4-0',\n",
       "              'c1ccc(cc1)c(c2ccccc2)(c3ccccc3cl)n4cc[nh][ch+]4-1'],\n",
       "             '[H]c1c(c(c(c(c1[H])[H])c2c(nc3c(n2)c(nc(n3)N([H])[H])N([H])[H])N([H])[H])[H])[H]': ['c1ccc(cc1)c2c(nc3c(n2)c(nc(n3)n)n)n-0'],\n",
       "             '[H]c1c(c2c(c(c(nc2c(c1[H])O[H])[H])[H])[H])[H]': ['c1cc2cccnc2c(c1)o-0'],\n",
       "             '[H]C1=C(C(=NC(=O)N1[H])N([H])[H])F': ['c1c(c(nc(=o)[nh]1)n)f-0'],\n",
       "             '[H]C1=C(C(=NC(=O)[N-]1)N([H])[H])F': ['c1c(c(nc(=o)[n-]1)n)f-0'],\n",
       "             '[H]C1=NC2=C(N1[H])C(=S)N(C(=N2)[H])[H]': ['c1[nh]c2c(=s)[nh]cnc2n1-0'],\n",
       "             '[H]C1=NC2=C(N1[H])N=C(N(C2=S)[H])[H]': ['c1[nh]c2c(n1)c(=s)[nh]cn2-0'],\n",
       "             '[H]c1c2c(c(c3c1OC(O3)([H])[H])[H])[C@]([C@@]4([C@@]([C@]2([H])c5c(c(c(c(c5[H])OC([H])([H])[H])OC([H])([H])[H])OC([H])([H])[H])[H])(C(=O)OC4([H])[H])[H])[H])([H])O[H]': ['coc1cc(cc(c1oc)oc)[c@@h]2c3cc4c(cc3[c@@h]([c@@h]5[c@@h]2c(=o)oc5)o)oco4-0'],\n",
       "             '[H]C(=O)[C@@]([H])([C@]([H])([C@@]([H])([C@@]([H])(C([H])([H])O[H])O[H])O[H])O[H])O[H]': ['c([c@h]([c@h]([c@@h]([c@h](c=o)o)o)o)o)o-0',\n",
       "              'c([c@h]([c@h]([c@@h]([c@h](c=o)o)o)o)o)o-1',\n",
       "              'c([c@h]([c@h]([c@@h]([c@h](c=o)o)o)o)o)o-2',\n",
       "              'c([c@h]([c@h]([c@@h]([c@h](c=o)o)o)o)o)o-3',\n",
       "              'c([c@h]([c@h]([c@@h]([c@h](c=o)o)o)o)o)o-4',\n",
       "              'c([c@h]([c@h]([c@@h]([c@h](c=o)o)o)o)o)o-5',\n",
       "              'c([c@h]([c@h]([c@@h]([c@h](c=o)o)o)o)o)o-6',\n",
       "              'c([c@h]([c@h]([c@@h]([c@h](c=o)o)o)o)o)o-7',\n",
       "              'c([c@h]([c@h]([c@@h]([c@h](c=o)o)o)o)o)o-8',\n",
       "              'c([c@h]([c@h]([c@@h]([c@h](c=o)o)o)o)o)o-9',\n",
       "              'c([c@h]([c@h]([c@@h]([c@h](c=o)o)o)o)o)o-10',\n",
       "              'c([c@h]([c@h]([c@@h]([c@h](c=o)o)o)o)o)o-11',\n",
       "              'c([c@h]([c@h]([c@@h]([c@h](c=o)o)o)o)o)o-12',\n",
       "              'c([c@h]([c@h]([c@@h]([c@h](c=o)o)o)o)o)o-13',\n",
       "              'c([c@h]([c@h]([c@@h]([c@h](c=o)o)o)o)o)o-14',\n",
       "              'c([c@h]([c@h]([c@@h]([c@h](c=o)o)o)o)o)o-15',\n",
       "              'c([c@h]([c@h]([c@@h]([c@h](c=o)o)o)o)o)o-16',\n",
       "              'c([c@h]([c@h]([c@@h]([c@h](c=o)o)o)o)o)o-17',\n",
       "              'c([c@h]([c@h]([c@@h]([c@h](c=o)o)o)o)o)o-18',\n",
       "              'c([c@h]([c@h]([c@@h]([c@h](c=o)o)o)o)o)o-19'],\n",
       "             '[H]c1c(c2c(c(c1C(=O)N([H])[H])[H])C3=C(N2[H])C(C([C@@](C3([H])[H])([H])[N+]([H])([H])C([H])([H])[H])([H])[H])([H])[H])[H]': ['c[nh2+][c@@h]1ccc2c(c3cc(ccc3[nh]2)c(=o)n)c1-0',\n",
       "              'c[nh2+][c@@h]1ccc2c(c3cc(ccc3[nh]2)c(=o)n)c1-1'],\n",
       "             '[H]c1c2c(c(c3c1C(=C(C(=O)O3)[H])[H])OC([H])([H])[H])OC(=C2[H])[H]': ['coc1c2c(ccc(=o)o2)cc3c1occ3-0'],\n",
       "             '[H]c1c(c(c(c2c1nc(c(c2[C@@]([H])([C@]3(C([C@]4([C@@](C([N@@+]3(C(C4([H])[H])([H])[H])[H])([H])[H])([H])C(=C([H])[H])[H])[H])([H])[H])[H])O[H])[H])[H])[H])OC([H])([H])[H])[H]': ['coc1ccc2c(c1)c(ccn2)[c@@h]([c@h]3c[c@@h]4cc[n@h+]3c[c@@h]4c=c)o-0',\n",
       "              'coc1ccc2c(c1)c(ccn2)[c@@h]([c@h]3c[c@@h]4cc[n@h+]3c[c@@h]4c=c)o-1',\n",
       "              'coc1ccc2c(c1)c(ccn2)[c@@h]([c@h]3c[c@@h]4cc[n@h+]3c[c@@h]4c=c)o-2',\n",
       "              'coc1ccc2c(c1)c(ccn2)[c@@h]([c@h]3c[c@@h]4cc[n@h+]3c[c@@h]4c=c)o-3',\n",
       "              'coc1ccc2c(c1)c(ccn2)[c@@h]([c@h]3c[c@@h]4cc[n@h+]3c[c@@h]4c=c)o-4',\n",
       "              'coc1ccc2c(c1)c(ccn2)[c@@h]([c@h]3c[c@@h]4cc[n@h+]3c[c@@h]4c=c)o-5',\n",
       "              'coc1ccc2c(c1)c(ccn2)[c@@h]([c@h]3c[c@@h]4cc[n@h+]3c[c@@h]4c=c)o-6',\n",
       "              'coc1ccc2c(c1)c(ccn2)[c@@h]([c@h]3c[c@@h]4cc[n@h+]3c[c@@h]4c=c)o-7',\n",
       "              'coc1ccc2c(c1)c(ccn2)[c@@h]([c@h]3c[c@@h]4cc[n@h+]3c[c@@h]4c=c)o-8',\n",
       "              'coc1ccc2c(c1)c(ccn2)[c@@h]([c@h]3c[c@@h]4cc[n@h+]3c[c@@h]4c=c)o-9',\n",
       "              'coc1ccc2c(c1)c(ccn2)[c@@h]([c@h]3c[c@@h]4cc[n@h+]3c[c@@h]4c=c)o-10',\n",
       "              'coc1ccc2c(c1)c(ccn2)[c@@h]([c@h]3c[c@@h]4cc[n@h+]3c[c@@h]4c=c)o-11',\n",
       "              'coc1ccc2c(c1)c(ccn2)[c@@h]([c@h]3c[c@@h]4cc[n@h+]3c[c@@h]4c=c)o-12',\n",
       "              'coc1ccc2c(c1)c(ccn2)[c@@h]([c@h]3c[c@@h]4cc[n@h+]3c[c@@h]4c=c)o-13'],\n",
       "             '[H]c1c(c(c(c2c1nc(c(c2[C@]([H])([C@@]3(C([C@]4([C@@](C([N@@+]3(C(C4([H])[H])([H])[H])[H])([H])[H])([H])C(=C([H])[H])[H])[H])([H])[H])[H])O[H])[H])[H])[H])OC([H])([H])[H])[H]': ['coc1ccc2c(c1)c(ccn2)[c@h]([c@@h]3c[c@@h]4cc[n@h+]3c[c@@h]4c=c)o-0',\n",
       "              'coc1ccc2c(c1)c(ccn2)[c@h]([c@@h]3c[c@@h]4cc[n@h+]3c[c@@h]4c=c)o-1',\n",
       "              'coc1ccc2c(c1)c(ccn2)[c@h]([c@@h]3c[c@@h]4cc[n@h+]3c[c@@h]4c=c)o-2',\n",
       "              'coc1ccc2c(c1)c(ccn2)[c@h]([c@@h]3c[c@@h]4cc[n@h+]3c[c@@h]4c=c)o-3',\n",
       "              'coc1ccc2c(c1)c(ccn2)[c@h]([c@@h]3c[c@@h]4cc[n@h+]3c[c@@h]4c=c)o-4',\n",
       "              'coc1ccc2c(c1)c(ccn2)[c@h]([c@@h]3c[c@@h]4cc[n@h+]3c[c@@h]4c=c)o-5',\n",
       "              'coc1ccc2c(c1)c(ccn2)[c@h]([c@@h]3c[c@@h]4cc[n@h+]3c[c@@h]4c=c)o-6',\n",
       "              'coc1ccc2c(c1)c(ccn2)[c@h]([c@@h]3c[c@@h]4cc[n@h+]3c[c@@h]4c=c)o-7',\n",
       "              'coc1ccc2c(c1)c(ccn2)[c@h]([c@@h]3c[c@@h]4cc[n@h+]3c[c@@h]4c=c)o-8',\n",
       "              'coc1ccc2c(c1)c(ccn2)[c@h]([c@@h]3c[c@@h]4cc[n@h+]3c[c@@h]4c=c)o-9'],\n",
       "             '[H]c1c(c(c2c3c1C([C@@]4([C@]5([C@@]3([C@@](O2)(C(=O)C(C5([H])[H])([H])[H])[H])C(C([N@+]4([H])C([H])([H])C(=C([H])[H])[H])([H])[H])([H])[H])O[H])[H])([H])[H])O[H])[H]': ['c=cc[n@h+]1cc[c@]23c4c5ccc(c4o[c@h]2c(=o)cc[c@]3([c@h]1c5)o)o-0'],\n",
       "             '[H]c1c(c(c2c3c1C([C@@]4([C@]5([C@@]3([C@@](O2)(C(=O)C(C5([H])[H])([H])[H])[H])C(C([N@@+]4([H])C([H])([H])C(=C([H])[H])[H])([H])[H])([H])[H])O[H])[H])([H])[H])O[H])[H]': ['c=cc[n@@h+]1cc[c@]23c4c5ccc(c4o[c@h]2c(=o)cc[c@]3([c@h]1c5)o)o-0',\n",
       "              'c=cc[n@@h+]1cc[c@]23c4c5ccc(c4o[c@h]2c(=o)cc[c@]3([c@h]1c5)o)o-1'],\n",
       "             '[H]c1c(c(c2c3c1C([C@@]4([C@]5([C@@]3([C@@](O2)(C(=O)C(C5([H])[H])([H])[H])[H])C(C([N@@]4C([H])([H])C(=C([H])[H])[H])([H])[H])([H])[H])O[H])[H])([H])[H])O[H])[H]': ['c=cc[n@]1cc[c@]23c4c5ccc(c4o[c@h]2c(=o)cc[c@]3([c@h]1c5)o)o-0'],\n",
       "             '[H]c1c(c(c(c(c1[H])C2(C(=C(N(C(=C2C(=O)OC([H])([H])[H])C([H])([H])[H])[H])C([H])([H])[H])C(=O)OC([H])([H])[H])[H])N(=O)=O)[H])[H]': ['cc1=c(c(c(=c(n1)c)c(=o)oc)c2ccccc2n(=o)=o)c(=o)oc-0',\n",
       "              'cc1=c(c(c(=c(n1)c)c(=o)oc)c2ccccc2n(=o)=o)c(=o)oc-1',\n",
       "              'cc1=c(c(c(=c(n1)c)c(=o)oc)c2ccccc2n(=o)=o)c(=o)oc-2',\n",
       "              'cc1=c(c(c(=c(n1)c)c(=o)oc)c2ccccc2n(=o)=o)c(=o)oc-3'],\n",
       "             '[H][C@@]12C(C(=O)[C@@](C1(C([H])([H])[H])C([H])([H])[H])(C(C2([H])[H])([H])[H])C([H])([H])[H])([H])[H]': ['c[c@@]12cc[c@@h](c1(c)c)cc2=o-0'],\n",
       "             '[H]c1c(c(c(c(c1[H])[H])C(=O)c2c(c(c(c(c2[H])[C@@]([H])(C(=O)[O-])C([H])([H])[H])[H])[H])[H])[H])[H]': ['c[c@@h](c1cccc(c1)c(=o)c2ccccc2)c(=o)[o-]-0',\n",
       "              'c[c@@h](c1cccc(c1)c(=o)c2ccccc2)c(=o)[o-]-1',\n",
       "              'c[c@@h](c1cccc(c1)c(=o)c2ccccc2)c(=o)[o-]-2',\n",
       "              'c[c@@h](c1cccc(c1)c(=o)c2ccccc2)c(=o)[o-]-3',\n",
       "              'c[c@@h](c1cccc(c1)c(=o)c2ccccc2)c(=o)[o-]-4',\n",
       "              'c[c@@h](c1cccc(c1)c(=o)c2ccccc2)c(=o)[o-]-5',\n",
       "              'c[c@@h](c1cccc(c1)c(=o)c2ccccc2)c(=o)[o-]-6'],\n",
       "             '[H]c1c(c(c(c(c1[H])N([H])c2c(c(nc(c2S(=O)(=O)/N=C(/N([H])C([H])(C([H])([H])[H])C([H])([H])[H])\\\\[O-])[H])[H])[H])[H])C([H])([H])[H])[H]': ['cc1cccc(c1)nc2ccncc2s(=o)(=o)/n=c(/nc(c)c)\\\\[o-]-0',\n",
       "              'cc1cccc(c1)nc2ccncc2s(=o)(=o)/n=c(/nc(c)c)\\\\[o-]-1',\n",
       "              'cc1cccc(c1)nc2ccncc2s(=o)(=o)/n=c(/nc(c)c)\\\\[o-]-2',\n",
       "              'cc1cccc(c1)nc2ccncc2s(=o)(=o)/n=c(/nc(c)c)\\\\[o-]-3',\n",
       "              'cc1cccc(c1)nc2ccncc2s(=o)(=o)/n=c(/nc(c)c)\\\\[o-]-4',\n",
       "              'cc1cccc(c1)nc2ccncc2s(=o)(=o)/n=c(/nc(c)c)\\\\[o-]-5',\n",
       "              'cc1cccc(c1)nc2ccncc2s(=o)(=o)/n=c(/nc(c)c)\\\\[o-]-6',\n",
       "              'cc1cccc(c1)nc2ccncc2s(=o)(=o)/n=c(/nc(c)c)\\\\[o-]-7',\n",
       "              'cc1cccc(c1)nc2ccncc2s(=o)(=o)/n=c(/nc(c)c)\\\\[o-]-8',\n",
       "              'cc1cccc(c1)nc2ccncc2s(=o)(=o)/n=c(/nc(c)c)\\\\[o-]-9',\n",
       "              'cc1cccc(c1)nc2ccncc2s(=o)(=o)/n=c(/nc(c)c)\\\\[o-]-10',\n",
       "              'cc1cccc(c1)nc2ccncc2s(=o)(=o)/n=c(/nc(c)c)\\\\[o-]-11',\n",
       "              'cc1cccc(c1)nc2ccncc2s(=o)(=o)/n=c(/nc(c)c)\\\\[o-]-12',\n",
       "              'cc1cccc(c1)nc2ccncc2s(=o)(=o)/n=c(/nc(c)c)\\\\[o-]-13',\n",
       "              'cc1cccc(c1)nc2ccncc2s(=o)(=o)/n=c(/nc(c)c)\\\\[o-]-14',\n",
       "              'cc1cccc(c1)nc2ccncc2s(=o)(=o)/n=c(/nc(c)c)\\\\[o-]-15',\n",
       "              'cc1cccc(c1)nc2ccncc2s(=o)(=o)/n=c(/nc(c)c)\\\\[o-]-16',\n",
       "              'cc1cccc(c1)nc2ccncc2s(=o)(=o)/n=c(/nc(c)c)\\\\[o-]-17',\n",
       "              'cc1cccc(c1)nc2ccncc2s(=o)(=o)/n=c(/nc(c)c)\\\\[o-]-18',\n",
       "              'cc1cccc(c1)nc2ccncc2s(=o)(=o)/n=c(/nc(c)c)\\\\[o-]-19'],\n",
       "             '[H]c1c(c2c(c(c1C([H])([H])N3C(=NC(=N3)[H])[H])[H])C(=C(N2[H])[H])C([H])([H])C([H])([H])[N+]([H])(C([H])([H])[H])C([H])([H])[H])[H]': ['c[nh+](c)ccc1c[nh]c2c1cc(cc2)cn3cncn3-0',\n",
       "              'c[nh+](c)ccc1c[nh]c2c1cc(cc2)cn3cncn3-1',\n",
       "              'c[nh+](c)ccc1c[nh]c2c1cc(cc2)cn3cncn3-2',\n",
       "              'c[nh+](c)ccc1c[nh]c2c1cc(cc2)cn3cncn3-3',\n",
       "              'c[nh+](c)ccc1c[nh]c2c1cc(cc2)cn3cncn3-4',\n",
       "              'c[nh+](c)ccc1c[nh]c2c1cc(cc2)cn3cncn3-5',\n",
       "              'c[nh+](c)ccc1c[nh]c2c1cc(cc2)cn3cncn3-6',\n",
       "              'c[nh+](c)ccc1c[nh]c2c1cc(cc2)cn3cncn3-7',\n",
       "              'c[nh+](c)ccc1c[nh]c2c1cc(cc2)cn3cncn3-8',\n",
       "              'c[nh+](c)ccc1c[nh]c2c1cc(cc2)cn3cncn3-9',\n",
       "              'c[nh+](c)ccc1c[nh]c2c1cc(cc2)cn3cncn3-10',\n",
       "              'c[nh+](c)ccc1c[nh]c2c1cc(cc2)cn3cncn3-11',\n",
       "              'c[nh+](c)ccc1c[nh]c2c1cc(cc2)cn3cncn3-12',\n",
       "              'c[nh+](c)ccc1c[nh]c2c1cc(cc2)cn3cncn3-13',\n",
       "              'c[nh+](c)ccc1c[nh]c2c1cc(cc2)cn3cncn3-14',\n",
       "              'c[nh+](c)ccc1c[nh]c2c1cc(cc2)cn3cncn3-15',\n",
       "              'c[nh+](c)ccc1c[nh]c2c1cc(cc2)cn3cncn3-16',\n",
       "              'c[nh+](c)ccc1c[nh]c2c1cc(cc2)cn3cncn3-17',\n",
       "              'c[nh+](c)ccc1c[nh]c2c1cc(cc2)cn3cncn3-18',\n",
       "              'c[nh+](c)ccc1c[nh]c2c1cc(cc2)cn3cncn3-19'],\n",
       "             '[H]c1c(c(c(c(c1[H])C([H])([H])C(=O)[O-])N([H])[H])C(=O)c2c(c(c(c(c2[H])[H])Br)[H])[H])[H]': ['c1cc(c(c(c1)c(=o)c2ccc(cc2)br)n)cc(=o)[o-]-0',\n",
       "              'c1cc(c(c(c1)c(=o)c2ccc(cc2)br)n)cc(=o)[o-]-1',\n",
       "              'c1cc(c(c(c1)c(=o)c2ccc(cc2)br)n)cc(=o)[o-]-2',\n",
       "              'c1cc(c(c(c1)c(=o)c2ccc(cc2)br)n)cc(=o)[o-]-3',\n",
       "              'c1cc(c(c(c1)c(=o)c2ccc(cc2)br)n)cc(=o)[o-]-4',\n",
       "              'c1cc(c(c(c1)c(=o)c2ccc(cc2)br)n)cc(=o)[o-]-5',\n",
       "              'c1cc(c(c(c1)c(=o)c2ccc(cc2)br)n)cc(=o)[o-]-6',\n",
       "              'c1cc(c(c(c1)c(=o)c2ccc(cc2)br)n)cc(=o)[o-]-7',\n",
       "              'c1cc(c(c(c1)c(=o)c2ccc(cc2)br)n)cc(=o)[o-]-8'],\n",
       "             '[H]c1c(c(c2=NON=c2c1[H])[C@]3(C(=C(N(C(=C3C(=O)OC([H])(C([H])([H])[H])C([H])([H])[H])C([H])([H])[H])[H])C([H])([H])[H])C(=O)OC([H])([H])[H])[H])[H]': ['cc1=c([c@@h](c(=c(n1)c)c(=o)oc(c)c)c2cccc3c2non3)c(=o)oc-0',\n",
       "              'cc1=c([c@@h](c(=c(n1)c)c(=o)oc(c)c)c2cccc3c2non3)c(=o)oc-1',\n",
       "              'cc1=c([c@@h](c(=c(n1)c)c(=o)oc(c)c)c2cccc3c2non3)c(=o)oc-2',\n",
       "              'cc1=c([c@@h](c(=c(n1)c)c(=o)oc(c)c)c2cccc3c2non3)c(=o)oc-3',\n",
       "              'cc1=c([c@@h](c(=c(n1)c)c(=o)oc(c)c)c2cccc3c2non3)c(=o)oc-4',\n",
       "              'cc1=c([c@@h](c(=c(n1)c)c(=o)oc(c)c)c2cccc3c2non3)c(=o)oc-5',\n",
       "              'cc1=c([c@@h](c(=c(n1)c)c(=o)oc(c)c)c2cccc3c2non3)c(=o)oc-6',\n",
       "              'cc1=c([c@@h](c(=c(n1)c)c(=o)oc(c)c)c2cccc3c2non3)c(=o)oc-7',\n",
       "              'cc1=c([c@@h](c(=c(n1)c)c(=o)oc(c)c)c2cccc3c2non3)c(=o)oc-8',\n",
       "              'cc1=c([c@@h](c(=c(n1)c)c(=o)oc(c)c)c2cccc3c2non3)c(=o)oc-9',\n",
       "              'cc1=c([c@@h](c(=c(n1)c)c(=o)oc(c)c)c2cccc3c2non3)c(=o)oc-10',\n",
       "              'cc1=c([c@@h](c(=c(n1)c)c(=o)oc(c)c)c2cccc3c2non3)c(=o)oc-11'],\n",
       "             '[H][C@]1(C(N(C2=C(N1[H])C(=O)N=C(N2[H])N([H])[H])[H])([H])[H])[C@@]([H])([C@]([H])(C([H])([H])[H])O[H])O[H]': ['c[c@@h]([c@h]([c@@h]1cnc2c(c(=o)nc([nh]2)n)n1)o)o-0',\n",
       "              'c[c@@h]([c@h]([c@@h]1cnc2c(c(=o)nc([nh]2)n)n1)o)o-1',\n",
       "              'c[c@@h]([c@h]([c@@h]1cnc2c(c(=o)nc([nh]2)n)n1)o)o-2',\n",
       "              'c[c@@h]([c@h]([c@@h]1cnc2c(c(=o)nc([nh]2)n)n1)o)o-3',\n",
       "              'c[c@@h]([c@h]([c@@h]1cnc2c(c(=o)nc([nh]2)n)n1)o)o-4',\n",
       "              'c[c@@h]([c@h]([c@@h]1cnc2c(c(=o)nc([nh]2)n)n1)o)o-5',\n",
       "              'c[c@@h]([c@h]([c@@h]1cnc2c(c(=o)nc([nh]2)n)n1)o)o-6',\n",
       "              'c[c@@h]([c@h]([c@@h]1cnc2c(c(=o)nc([nh]2)n)n1)o)o-7',\n",
       "              'c[c@@h]([c@h]([c@@h]1cnc2c(c(=o)nc([nh]2)n)n1)o)o-8',\n",
       "              'c[c@@h]([c@h]([c@@h]1cnc2c(c(=o)nc([nh]2)n)n1)o)o-9',\n",
       "              'c[c@@h]([c@h]([c@@h]1cnc2c(c(=o)nc([nh]2)n)n1)o)o-10'],\n",
       "             '[H][C@]1(C(N(C2=C(N1[H])C(=O)N(C(=N2)N([H])[H])[H])[H])([H])[H])[C@@]([H])([C@]([H])(C([H])([H])[H])O[H])O[H]': ['c[c@@h]([c@h]([c@@h]1cnc2c(c(=o)[nh]c(n2)n)n1)o)o-0',\n",
       "              'c[c@@h]([c@h]([c@@h]1cnc2c(c(=o)[nh]c(n2)n)n1)o)o-1',\n",
       "              'c[c@@h]([c@h]([c@@h]1cnc2c(c(=o)[nh]c(n2)n)n1)o)o-2',\n",
       "              'c[c@@h]([c@h]([c@@h]1cnc2c(c(=o)[nh]c(n2)n)n1)o)o-3',\n",
       "              'c[c@@h]([c@h]([c@@h]1cnc2c(c(=o)[nh]c(n2)n)n1)o)o-4',\n",
       "              'c[c@@h]([c@h]([c@@h]1cnc2c(c(=o)[nh]c(n2)n)n1)o)o-5',\n",
       "              'c[c@@h]([c@h]([c@@h]1cnc2c(c(=o)[nh]c(n2)n)n1)o)o-6',\n",
       "              'c[c@@h]([c@h]([c@@h]1cnc2c(c(=o)[nh]c(n2)n)n1)o)o-7',\n",
       "              'c[c@@h]([c@h]([c@@h]1cnc2c(c(=o)[nh]c(n2)n)n1)o)o-8',\n",
       "              'c[c@@h]([c@h]([c@@h]1cnc2c(c(=o)[nh]c(n2)n)n1)o)o-9',\n",
       "              'c[c@@h]([c@h]([c@@h]1cnc2c(c(=o)[nh]c(n2)n)n1)o)o-10'],\n",
       "             '[H][C@]1(C(N(C2=C(N1[H])C(=O)[N-]C(=N2)N([H])[H])[H])([H])[H])[C@@]([H])([C@]([H])(C([H])([H])[H])O[H])O[H]': ['c[c@@h]([c@h]([c@@h]1cnc2c(c(=o)[n-]c(n2)n)n1)o)o-0',\n",
       "              'c[c@@h]([c@h]([c@@h]1cnc2c(c(=o)[n-]c(n2)n)n1)o)o-1',\n",
       "              'c[c@@h]([c@h]([c@@h]1cnc2c(c(=o)[n-]c(n2)n)n1)o)o-2',\n",
       "              'c[c@@h]([c@h]([c@@h]1cnc2c(c(=o)[n-]c(n2)n)n1)o)o-3',\n",
       "              'c[c@@h]([c@h]([c@@h]1cnc2c(c(=o)[n-]c(n2)n)n1)o)o-4',\n",
       "              'c[c@@h]([c@h]([c@@h]1cnc2c(c(=o)[n-]c(n2)n)n1)o)o-5',\n",
       "              'c[c@@h]([c@h]([c@@h]1cnc2c(c(=o)[n-]c(n2)n)n1)o)o-6',\n",
       "              'c[c@@h]([c@h]([c@@h]1cnc2c(c(=o)[n-]c(n2)n)n1)o)o-7',\n",
       "              'c[c@@h]([c@h]([c@@h]1cnc2c(c(=o)[n-]c(n2)n)n1)o)o-8'],\n",
       "             '[H]c1c(c2c(c(c1C#N)[H])C(O[C@]2(c3c(c(c(c(c3[H])[H])F)[H])[H])C([H])([H])C([H])([H])C([H])([H])[N+]([H])(C([H])([H])[H])C([H])([H])[H])([H])[H])[H]': ['c[nh+](c)ccc[c@@]1(c2ccc(cc2co1)c#n)c3ccc(cc3)f-0',\n",
       "              'c[nh+](c)ccc[c@@]1(c2ccc(cc2co1)c#n)c3ccc(cc3)f-1',\n",
       "              'c[nh+](c)ccc[c@@]1(c2ccc(cc2co1)c#n)c3ccc(cc3)f-2',\n",
       "              'c[nh+](c)ccc[c@@]1(c2ccc(cc2co1)c#n)c3ccc(cc3)f-3'],\n",
       "             '[H]C([H])([H])C(=O)C(=O)[O-]': ['cc(=o)c(=o)[o-]-0'],\n",
       "             '[H]C([H])(C(=O)[O-])C([H])([H])C([H])([H])O[H]': ['c(cc(=o)[o-])co-0',\n",
       "              'c(cc(=o)[o-])co-1',\n",
       "              'c(cc(=o)[o-])co-2'],\n",
       "             '[H]C1=C2[C@@]([C@@]3([C@@](C1([H])[H])([C@]4([C@@](C(=O)C(C4([H])[H])([H])[H])(C(C3([H])[H])([H])[H])C([H])([H])[H])[H])[H])[H])(C(C([C@](C2([H])[H])([H])O[H])([H])[H])([H])[H])C([H])([H])[H]': ['c[c@]12cc[c@h]3[c@h]([c@@h]1ccc2=o)cc=c4[c@@]3(cc[c@@h](c4)o)c-0'],\n",
       "             '[H][C@]12[C@]3([C@@]([C@@](C(C3([H])[H])([H])[H])([H])[C@]([H])(C([H])([H])[H])C([H])([H])C([H])([H])C(=O)[O-])([C@@](C([C@@]1([C@@]4([C@@](C([C@](C(C4([H])[H])([H])[H])([H])O[H])([H])[H])(C(C2([H])[H])([H])[H])[H])C([H])([H])[H])[H])([H])[H])([H])O[H])C([H])([H])[H])[H]': ['c[c@h](ccc(=o)[o-])[c@h]1cc[c@@h]2[c@@]1([c@h](c[c@h]3[c@h]2cc[c@h]4[c@@]3(cc[c@h](c4)o)c)o)c-0',\n",
       "              'c[c@h](ccc(=o)[o-])[c@h]1cc[c@@h]2[c@@]1([c@h](c[c@h]3[c@h]2cc[c@h]4[c@@]3(cc[c@h](c4)o)c)o)c-1',\n",
       "              'c[c@h](ccc(=o)[o-])[c@h]1cc[c@@h]2[c@@]1([c@h](c[c@h]3[c@h]2cc[c@h]4[c@@]3(cc[c@h](c4)o)c)o)c-2',\n",
       "              'c[c@h](ccc(=o)[o-])[c@h]1cc[c@@h]2[c@@]1([c@h](c[c@h]3[c@h]2cc[c@h]4[c@@]3(cc[c@h](c4)o)c)o)c-3'],\n",
       "             '[H]C([H])(C(=O)[O-])O[H]': ['c(c(=o)[o-])o-0'],\n",
       "             '[H][C@@]1(C(N(C2=C(N1[H])C(=O)N=C(N2[H])N([H])[H])[H])([H])[H])[C@]([H])([C@]([H])(C([H])([H])[H])O[H])O[H]': ['c[c@@h]([c@@h]([c@h]1cnc2c(c(=o)nc([nh]2)n)n1)o)o-0',\n",
       "              'c[c@@h]([c@@h]([c@h]1cnc2c(c(=o)nc([nh]2)n)n1)o)o-1',\n",
       "              'c[c@@h]([c@@h]([c@h]1cnc2c(c(=o)nc([nh]2)n)n1)o)o-2',\n",
       "              'c[c@@h]([c@@h]([c@h]1cnc2c(c(=o)nc([nh]2)n)n1)o)o-3',\n",
       "              'c[c@@h]([c@@h]([c@h]1cnc2c(c(=o)nc([nh]2)n)n1)o)o-4',\n",
       "              'c[c@@h]([c@@h]([c@h]1cnc2c(c(=o)nc([nh]2)n)n1)o)o-5',\n",
       "              'c[c@@h]([c@@h]([c@h]1cnc2c(c(=o)nc([nh]2)n)n1)o)o-6',\n",
       "              'c[c@@h]([c@@h]([c@h]1cnc2c(c(=o)nc([nh]2)n)n1)o)o-7',\n",
       "              'c[c@@h]([c@@h]([c@h]1cnc2c(c(=o)nc([nh]2)n)n1)o)o-8',\n",
       "              'c[c@@h]([c@@h]([c@h]1cnc2c(c(=o)nc([nh]2)n)n1)o)o-9'],\n",
       "             '[H][C@@]1(C(N(C2=C(N1[H])C(=O)N(C(=N2)N([H])[H])[H])[H])([H])[H])[C@]([H])([C@]([H])(C([H])([H])[H])O[H])O[H]': ['c[c@@h]([c@@h]([c@h]1cnc2c(c(=o)[nh]c(n2)n)n1)o)o-0',\n",
       "              'c[c@@h]([c@@h]([c@h]1cnc2c(c(=o)[nh]c(n2)n)n1)o)o-1',\n",
       "              'c[c@@h]([c@@h]([c@h]1cnc2c(c(=o)[nh]c(n2)n)n1)o)o-2',\n",
       "              'c[c@@h]([c@@h]([c@h]1cnc2c(c(=o)[nh]c(n2)n)n1)o)o-3',\n",
       "              'c[c@@h]([c@@h]([c@h]1cnc2c(c(=o)[nh]c(n2)n)n1)o)o-4',\n",
       "              'c[c@@h]([c@@h]([c@h]1cnc2c(c(=o)[nh]c(n2)n)n1)o)o-5',\n",
       "              'c[c@@h]([c@@h]([c@h]1cnc2c(c(=o)[nh]c(n2)n)n1)o)o-6',\n",
       "              'c[c@@h]([c@@h]([c@h]1cnc2c(c(=o)[nh]c(n2)n)n1)o)o-7',\n",
       "              'c[c@@h]([c@@h]([c@h]1cnc2c(c(=o)[nh]c(n2)n)n1)o)o-8',\n",
       "              'c[c@@h]([c@@h]([c@h]1cnc2c(c(=o)[nh]c(n2)n)n1)o)o-9'],\n",
       "             '[H][C@@]1(C(N(C2=C(N1[H])C(=O)[N-]C(=N2)N([H])[H])[H])([H])[H])[C@]([H])([C@]([H])(C([H])([H])[H])O[H])O[H]': ['c[c@@h]([c@@h]([c@h]1cnc2c(c(=o)[n-]c(n2)n)n1)o)o-0',\n",
       "              'c[c@@h]([c@@h]([c@h]1cnc2c(c(=o)[n-]c(n2)n)n1)o)o-1',\n",
       "              'c[c@@h]([c@@h]([c@h]1cnc2c(c(=o)[n-]c(n2)n)n1)o)o-2',\n",
       "              'c[c@@h]([c@@h]([c@h]1cnc2c(c(=o)[n-]c(n2)n)n1)o)o-3',\n",
       "              'c[c@@h]([c@@h]([c@h]1cnc2c(c(=o)[n-]c(n2)n)n1)o)o-4',\n",
       "              'c[c@@h]([c@@h]([c@h]1cnc2c(c(=o)[n-]c(n2)n)n1)o)o-5',\n",
       "              'c[c@@h]([c@@h]([c@h]1cnc2c(c(=o)[n-]c(n2)n)n1)o)o-6',\n",
       "              'c[c@@h]([c@@h]([c@h]1cnc2c(c(=o)[n-]c(n2)n)n1)o)o-7',\n",
       "              'c[c@@h]([c@@h]([c@h]1cnc2c(c(=o)[n-]c(n2)n)n1)o)o-8',\n",
       "              'c[c@@h]([c@@h]([c@h]1cnc2c(c(=o)[n-]c(n2)n)n1)o)o-9',\n",
       "              'c[c@@h]([c@@h]([c@h]1cnc2c(c(=o)[n-]c(n2)n)n1)o)o-10'],\n",
       "             '[H]C1=NC2=C(N1C([H])([H])[H])C(=O)N(C(=O)N2C([H])([H])[H])C([H])([H])[H]': ['cn1cnc2c1c(=o)n(c(=o)n2c)c-0'],\n",
       "             '[H]c1c(c(nc(n1)C([H])([H])[H])N([H])[H])C([H])([H])[N+]2=C(SC(=C2C([H])([H])[H])C([H])([H])C([H])([H])O[H])[H]': ['cc1c(sc[n+]1cc2cnc(nc2n)c)cco-0',\n",
       "              'cc1c(sc[n+]1cc2cnc(nc2n)c)cco-1',\n",
       "              'cc1c(sc[n+]1cc2cnc(nc2n)c)cco-2',\n",
       "              'cc1c(sc[n+]1cc2cnc(nc2n)c)cco-3',\n",
       "              'cc1c(sc[n+]1cc2cnc(nc2n)c)cco-4',\n",
       "              'cc1c(sc[n+]1cc2cnc(nc2n)c)cco-5',\n",
       "              'cc1c(sc[n+]1cc2cnc(nc2n)c)cco-6',\n",
       "              'cc1c(sc[n+]1cc2cnc(nc2n)c)cco-7',\n",
       "              'cc1c(sc[n+]1cc2cnc(nc2n)c)cco-8',\n",
       "              'cc1c(sc[n+]1cc2cnc(nc2n)c)cco-9',\n",
       "              'cc1c(sc[n+]1cc2cnc(nc2n)c)cco-10',\n",
       "              'cc1c(sc[n+]1cc2cnc(nc2n)c)cco-11',\n",
       "              'cc1c(sc[n+]1cc2cnc(nc2n)c)cco-12',\n",
       "              'cc1c(sc[n+]1cc2cnc(nc2n)c)cco-13',\n",
       "              'cc1c(sc[n+]1cc2cnc(nc2n)c)cco-14',\n",
       "              'cc1c(sc[n+]1cc2cnc(nc2n)c)cco-15',\n",
       "              'cc1c(sc[n+]1cc2cnc(nc2n)c)cco-16',\n",
       "              'cc1c(sc[n+]1cc2cnc(nc2n)c)cco-17',\n",
       "              'cc1c(sc[n+]1cc2cnc(nc2n)c)cco-18',\n",
       "              'cc1c(sc[n+]1cc2cnc(nc2n)c)cco-19'],\n",
       "             '[H][C@]1(C(=C(C(=O)O1)O[H])[O-])[C@]([H])(C([H])([H])O[H])O[H]': ['c([c@@h]([c@@h]1c(=c(c(=o)o1)o)[o-])o)o-0',\n",
       "              'c([c@@h]([c@@h]1c(=c(c(=o)o1)o)[o-])o)o-1',\n",
       "              'c([c@@h]([c@@h]1c(=c(c(=o)o1)o)[o-])o)o-2',\n",
       "              'c([c@@h]([c@@h]1c(=c(c(=o)o1)o)[o-])o)o-3',\n",
       "              'c([c@@h]([c@@h]1c(=c(c(=o)o1)o)[o-])o)o-4',\n",
       "              'c([c@@h]([c@@h]1c(=c(c(=o)o1)o)[o-])o)o-5',\n",
       "              'c([c@@h]([c@@h]1c(=c(c(=o)o1)o)[o-])o)o-6'],\n",
       "             '[H]c1c(c(c(c2c1N=C3C(=O)[N-]C(=O)N=C3N2C([H])([H])[C@@]([H])([C@@]([H])([C@@]([H])(C([H])([H])O[H])O[H])O[H])O[H])[H])C([H])([H])[H])C([H])([H])[H]': ['cc1cc2c(cc1c)n(c-3nc(=o)[n-]c(=o)c3n2)c[c@@h]([c@@h]([c@@h](co)o)o)o-0',\n",
       "              'cc1cc2c(cc1c)n(c-3nc(=o)[n-]c(=o)c3n2)c[c@@h]([c@@h]([c@@h](co)o)o)o-1',\n",
       "              'cc1cc2c(cc1c)n(c-3nc(=o)[n-]c(=o)c3n2)c[c@@h]([c@@h]([c@@h](co)o)o)o-2',\n",
       "              'cc1cc2c(cc1c)n(c-3nc(=o)[n-]c(=o)c3n2)c[c@@h]([c@@h]([c@@h](co)o)o)o-3',\n",
       "              'cc1cc2c(cc1c)n(c-3nc(=o)[n-]c(=o)c3n2)c[c@@h]([c@@h]([c@@h](co)o)o)o-4',\n",
       "              'cc1cc2c(cc1c)n(c-3nc(=o)[n-]c(=o)c3n2)c[c@@h]([c@@h]([c@@h](co)o)o)o-5',\n",
       "              'cc1cc2c(cc1c)n(c-3nc(=o)[n-]c(=o)c3n2)c[c@@h]([c@@h]([c@@h](co)o)o)o-6',\n",
       "              'cc1cc2c(cc1c)n(c-3nc(=o)[n-]c(=o)c3n2)c[c@@h]([c@@h]([c@@h](co)o)o)o-7',\n",
       "              'cc1cc2c(cc1c)n(c-3nc(=o)[n-]c(=o)c3n2)c[c@@h]([c@@h]([c@@h](co)o)o)o-8',\n",
       "              'cc1cc2c(cc1c)n(c-3nc(=o)[n-]c(=o)c3n2)c[c@@h]([c@@h]([c@@h](co)o)o)o-9',\n",
       "              'cc1cc2c(cc1c)n(c-3nc(=o)[n-]c(=o)c3n2)c[c@@h]([c@@h]([c@@h](co)o)o)o-10',\n",
       "              'cc1cc2c(cc1c)n(c-3nc(=o)[n-]c(=o)c3n2)c[c@@h]([c@@h]([c@@h](co)o)o)o-11',\n",
       "              'cc1cc2c(cc1c)n(c-3nc(=o)[n-]c(=o)c3n2)c[c@@h]([c@@h]([c@@h](co)o)o)o-12',\n",
       "              'cc1cc2c(cc1c)n(c-3nc(=o)[n-]c(=o)c3n2)c[c@@h]([c@@h]([c@@h](co)o)o)o-13',\n",
       "              'cc1cc2c(cc1c)n(c-3nc(=o)[n-]c(=o)c3n2)c[c@@h]([c@@h]([c@@h](co)o)o)o-14',\n",
       "              'cc1cc2c(cc1c)n(c-3nc(=o)[n-]c(=o)c3n2)c[c@@h]([c@@h]([c@@h](co)o)o)o-15',\n",
       "              'cc1cc2c(cc1c)n(c-3nc(=o)[n-]c(=o)c3n2)c[c@@h]([c@@h]([c@@h](co)o)o)o-16',\n",
       "              'cc1cc2c(cc1c)n(c-3nc(=o)[n-]c(=o)c3n2)c[c@@h]([c@@h]([c@@h](co)o)o)o-17',\n",
       "              'cc1cc2c(cc1c)n(c-3nc(=o)[n-]c(=o)c3n2)c[c@@h]([c@@h]([c@@h](co)o)o)o-18',\n",
       "              'cc1cc2c(cc1c)n(c-3nc(=o)[n-]c(=o)c3n2)c[c@@h]([c@@h]([c@@h](co)o)o)o-19'],\n",
       "             '[H]c1c(c(c(c2c1N=C3C(=NC(=O)N(C3=O)[H])N2C([H])([H])[C@@]([H])([C@@]([H])([C@@]([H])(C([H])([H])O[H])O[H])O[H])O[H])[H])C([H])([H])[H])C([H])([H])[H]': ['cc1cc2c(cc1c)n(c-3nc(=o)[nh]c(=o)c3n2)c[c@@h]([c@@h]([c@@h](co)o)o)o-0',\n",
       "              'cc1cc2c(cc1c)n(c-3nc(=o)[nh]c(=o)c3n2)c[c@@h]([c@@h]([c@@h](co)o)o)o-1',\n",
       "              'cc1cc2c(cc1c)n(c-3nc(=o)[nh]c(=o)c3n2)c[c@@h]([c@@h]([c@@h](co)o)o)o-2',\n",
       "              'cc1cc2c(cc1c)n(c-3nc(=o)[nh]c(=o)c3n2)c[c@@h]([c@@h]([c@@h](co)o)o)o-3',\n",
       "              'cc1cc2c(cc1c)n(c-3nc(=o)[nh]c(=o)c3n2)c[c@@h]([c@@h]([c@@h](co)o)o)o-4',\n",
       "              'cc1cc2c(cc1c)n(c-3nc(=o)[nh]c(=o)c3n2)c[c@@h]([c@@h]([c@@h](co)o)o)o-5',\n",
       "              'cc1cc2c(cc1c)n(c-3nc(=o)[nh]c(=o)c3n2)c[c@@h]([c@@h]([c@@h](co)o)o)o-6',\n",
       "              'cc1cc2c(cc1c)n(c-3nc(=o)[nh]c(=o)c3n2)c[c@@h]([c@@h]([c@@h](co)o)o)o-7',\n",
       "              'cc1cc2c(cc1c)n(c-3nc(=o)[nh]c(=o)c3n2)c[c@@h]([c@@h]([c@@h](co)o)o)o-8',\n",
       "              'cc1cc2c(cc1c)n(c-3nc(=o)[nh]c(=o)c3n2)c[c@@h]([c@@h]([c@@h](co)o)o)o-9',\n",
       "              'cc1cc2c(cc1c)n(c-3nc(=o)[nh]c(=o)c3n2)c[c@@h]([c@@h]([c@@h](co)o)o)o-10',\n",
       "              'cc1cc2c(cc1c)n(c-3nc(=o)[nh]c(=o)c3n2)c[c@@h]([c@@h]([c@@h](co)o)o)o-11',\n",
       "              'cc1cc2c(cc1c)n(c-3nc(=o)[nh]c(=o)c3n2)c[c@@h]([c@@h]([c@@h](co)o)o)o-12',\n",
       "              'cc1cc2c(cc1c)n(c-3nc(=o)[nh]c(=o)c3n2)c[c@@h]([c@@h]([c@@h](co)o)o)o-13',\n",
       "              'cc1cc2c(cc1c)n(c-3nc(=o)[nh]c(=o)c3n2)c[c@@h]([c@@h]([c@@h](co)o)o)o-14',\n",
       "              'cc1cc2c(cc1c)n(c-3nc(=o)[nh]c(=o)c3n2)c[c@@h]([c@@h]([c@@h](co)o)o)o-15',\n",
       "              'cc1cc2c(cc1c)n(c-3nc(=o)[nh]c(=o)c3n2)c[c@@h]([c@@h]([c@@h](co)o)o)o-16',\n",
       "              'cc1cc2c(cc1c)n(c-3nc(=o)[nh]c(=o)c3n2)c[c@@h]([c@@h]([c@@h](co)o)o)o-17',\n",
       "              'cc1cc2c(cc1c)n(c-3nc(=o)[nh]c(=o)c3n2)c[c@@h]([c@@h]([c@@h](co)o)o)o-18',\n",
       "              'cc1cc2c(cc1c)n(c-3nc(=o)[nh]c(=o)c3n2)c[c@@h]([c@@h]([c@@h](co)o)o)o-19'],\n",
       "             '[H]c1c(c(c(c(c1[H])[H])[C@]([H])(C(=O)N([H])[C@@]2(C(=O)N3[C@@]2(SC([C@]3([H])C(=O)[O-])(C([H])([H])[H])C([H])([H])[H])[H])[H])N([H])[H])[H])[H]': ['cc1([c@@h](n2[c@h](s1)[c@@h](c2=o)nc(=o)[c@@h](c3ccccc3)n)c(=o)[o-])c-0',\n",
       "              'cc1([c@@h](n2[c@h](s1)[c@@h](c2=o)nc(=o)[c@@h](c3ccccc3)n)c(=o)[o-])c-1',\n",
       "              'cc1([c@@h](n2[c@h](s1)[c@@h](c2=o)nc(=o)[c@@h](c3ccccc3)n)c(=o)[o-])c-2',\n",
       "              'cc1([c@@h](n2[c@h](s1)[c@@h](c2=o)nc(=o)[c@@h](c3ccccc3)n)c(=o)[o-])c-3',\n",
       "              'cc1([c@@h](n2[c@h](s1)[c@@h](c2=o)nc(=o)[c@@h](c3ccccc3)n)c(=o)[o-])c-4',\n",
       "              'cc1([c@@h](n2[c@h](s1)[c@@h](c2=o)nc(=o)[c@@h](c3ccccc3)n)c(=o)[o-])c-5',\n",
       "              'cc1([c@@h](n2[c@h](s1)[c@@h](c2=o)nc(=o)[c@@h](c3ccccc3)n)c(=o)[o-])c-6',\n",
       "              'cc1([c@@h](n2[c@h](s1)[c@@h](c2=o)nc(=o)[c@@h](c3ccccc3)n)c(=o)[o-])c-7',\n",
       "              'cc1([c@@h](n2[c@h](s1)[c@@h](c2=o)nc(=o)[c@@h](c3ccccc3)n)c(=o)[o-])c-8',\n",
       "              'cc1([c@@h](n2[c@h](s1)[c@@h](c2=o)nc(=o)[c@@h](c3ccccc3)n)c(=o)[o-])c-9',\n",
       "              'cc1([c@@h](n2[c@h](s1)[c@@h](c2=o)nc(=o)[c@@h](c3ccccc3)n)c(=o)[o-])c-10',\n",
       "              'cc1([c@@h](n2[c@h](s1)[c@@h](c2=o)nc(=o)[c@@h](c3ccccc3)n)c(=o)[o-])c-11',\n",
       "              'cc1([c@@h](n2[c@h](s1)[c@@h](c2=o)nc(=o)[c@@h](c3ccccc3)n)c(=o)[o-])c-12',\n",
       "              'cc1([c@@h](n2[c@h](s1)[c@@h](c2=o)nc(=o)[c@@h](c3ccccc3)n)c(=o)[o-])c-13',\n",
       "              'cc1([c@@h](n2[c@h](s1)[c@@h](c2=o)nc(=o)[c@@h](c3ccccc3)n)c(=o)[o-])c-14',\n",
       "              'cc1([c@@h](n2[c@h](s1)[c@@h](c2=o)nc(=o)[c@@h](c3ccccc3)n)c(=o)[o-])c-15',\n",
       "              'cc1([c@@h](n2[c@h](s1)[c@@h](c2=o)nc(=o)[c@@h](c3ccccc3)n)c(=o)[o-])c-16'],\n",
       "             '[H]c1c(c(c(c(c1[H])[H])[C@]([H])(C(=O)N([H])[C@@]2(C(=O)N3[C@@]2(SC([C@]3([H])C(=O)[O-])(C([H])([H])[H])C([H])([H])[H])[H])[H])[N+]([H])([H])[H])[H])[H]': ['cc1([c@@h](n2[c@h](s1)[c@@h](c2=o)nc(=o)[c@@h](c3ccccc3)[nh3+])c(=o)[o-])c-0',\n",
       "              'cc1([c@@h](n2[c@h](s1)[c@@h](c2=o)nc(=o)[c@@h](c3ccccc3)[nh3+])c(=o)[o-])c-1',\n",
       "              'cc1([c@@h](n2[c@h](s1)[c@@h](c2=o)nc(=o)[c@@h](c3ccccc3)[nh3+])c(=o)[o-])c-2',\n",
       "              'cc1([c@@h](n2[c@h](s1)[c@@h](c2=o)nc(=o)[c@@h](c3ccccc3)[nh3+])c(=o)[o-])c-3',\n",
       "              'cc1([c@@h](n2[c@h](s1)[c@@h](c2=o)nc(=o)[c@@h](c3ccccc3)[nh3+])c(=o)[o-])c-4',\n",
       "              'cc1([c@@h](n2[c@h](s1)[c@@h](c2=o)nc(=o)[c@@h](c3ccccc3)[nh3+])c(=o)[o-])c-5',\n",
       "              'cc1([c@@h](n2[c@h](s1)[c@@h](c2=o)nc(=o)[c@@h](c3ccccc3)[nh3+])c(=o)[o-])c-6',\n",
       "              'cc1([c@@h](n2[c@h](s1)[c@@h](c2=o)nc(=o)[c@@h](c3ccccc3)[nh3+])c(=o)[o-])c-7',\n",
       "              'cc1([c@@h](n2[c@h](s1)[c@@h](c2=o)nc(=o)[c@@h](c3ccccc3)[nh3+])c(=o)[o-])c-8',\n",
       "              'cc1([c@@h](n2[c@h](s1)[c@@h](c2=o)nc(=o)[c@@h](c3ccccc3)[nh3+])c(=o)[o-])c-9',\n",
       "              'cc1([c@@h](n2[c@h](s1)[c@@h](c2=o)nc(=o)[c@@h](c3ccccc3)[nh3+])c(=o)[o-])c-10',\n",
       "              'cc1([c@@h](n2[c@h](s1)[c@@h](c2=o)nc(=o)[c@@h](c3ccccc3)[nh3+])c(=o)[o-])c-11',\n",
       "              'cc1([c@@h](n2[c@h](s1)[c@@h](c2=o)nc(=o)[c@@h](c3ccccc3)[nh3+])c(=o)[o-])c-12',\n",
       "              'cc1([c@@h](n2[c@h](s1)[c@@h](c2=o)nc(=o)[c@@h](c3ccccc3)[nh3+])c(=o)[o-])c-13',\n",
       "              'cc1([c@@h](n2[c@h](s1)[c@@h](c2=o)nc(=o)[c@@h](c3ccccc3)[nh3+])c(=o)[o-])c-14'],\n",
       "             '[H]C#C[C@]1([C@@]2([C@]([C@]3([C@@]([C@@]4(C(=C(C5=C(C4([H])[H])C(=NO5)[H])[H])C(C3([H])[H])([H])[H])C([H])([H])[H])(C(C2([H])[H])([H])[H])[H])[H])(C(C1([H])[H])([H])[H])[H])C([H])([H])[H])O[H]': ['c[c@]12cc[c@h]3[c@h]([c@@h]1cc[c@]2(c#c)o)ccc4=cc5c(cno5)c[c@]34c-0'],\n",
       "             '[H]C1=NC2=C(N1[H])N(C(=O)N(C2=O)C([H])([H])[H])C([H])([H])[H]': ['cn1c2c(c(=o)n(c1=o)c)nc[nh]2-0'],\n",
       "             '[H][C@@](C(=O)[O-])(C([H])([H])S[H])[N+]([H])([H])[H]': ['c([c@@h](c(=o)[o-])[nh3+])s-0',\n",
       "              'c([c@@h](c(=o)[o-])[nh3+])s-1',\n",
       "              'c([c@@h](c(=o)[o-])[nh3+])s-2'],\n",
       "             '[H]C([H])(C([H])(C([H])([H])O[H])O[H])O[H]': ['c(c(co)o)o-0',\n",
       "              'c(c(co)o)o-1',\n",
       "              'c(c(co)o)o-2',\n",
       "              'c(c(co)o)o-3',\n",
       "              'c(c(co)o)o-4'],\n",
       "             '[H][C@](C([H])([H])[H])(C([H])([H])O[H])O[H]': ['c[c@@h](co)o-0',\n",
       "              'c[c@@h](co)o-1'],\n",
       "             '[H][C@]1(C([C@@](C([N+]1([H])[H])([H])[H])([H])O[H])([H])[H])C(=O)[O-]': ['c1[c@h](c[nh2+][c@@h]1c(=o)[o-])o-0'],\n",
       "             '[H][C@](C(=O)[O-])([C@]([H])([C@@]([H])([C@@]([H])(C([H])([H])O[H])O[H])O[H])O[H])O[H]': ['c([c@h]([c@h]([c@@h]([c@h](c(=o)[o-])o)o)o)o)o-0',\n",
       "              'c([c@h]([c@h]([c@@h]([c@h](c(=o)[o-])o)o)o)o)o-1',\n",
       "              'c([c@h]([c@h]([c@@h]([c@h](c(=o)[o-])o)o)o)o)o-2',\n",
       "              'c([c@h]([c@h]([c@@h]([c@h](c(=o)[o-])o)o)o)o)o-3',\n",
       "              'c([c@h]([c@h]([c@@h]([c@h](c(=o)[o-])o)o)o)o)o-4',\n",
       "              'c([c@h]([c@h]([c@@h]([c@h](c(=o)[o-])o)o)o)o)o-5',\n",
       "              'c([c@h]([c@h]([c@@h]([c@h](c(=o)[o-])o)o)o)o)o-6',\n",
       "              'c([c@h]([c@h]([c@@h]([c@h](c(=o)[o-])o)o)o)o)o-7',\n",
       "              'c([c@h]([c@h]([c@@h]([c@h](c(=o)[o-])o)o)o)o)o-8',\n",
       "              'c([c@h]([c@h]([c@@h]([c@h](c(=o)[o-])o)o)o)o)o-9',\n",
       "              'c([c@h]([c@h]([c@@h]([c@h](c(=o)[o-])o)o)o)o)o-10',\n",
       "              'c([c@h]([c@h]([c@@h]([c@h](c(=o)[o-])o)o)o)o)o-11',\n",
       "              'c([c@h]([c@h]([c@@h]([c@h](c(=o)[o-])o)o)o)o)o-12',\n",
       "              'c([c@h]([c@h]([c@@h]([c@h](c(=o)[o-])o)o)o)o)o-13',\n",
       "              'c([c@h]([c@h]([c@@h]([c@h](c(=o)[o-])o)o)o)o)o-14',\n",
       "              'c([c@h]([c@h]([c@@h]([c@h](c(=o)[o-])o)o)o)o)o-15',\n",
       "              'c([c@h]([c@h]([c@@h]([c@h](c(=o)[o-])o)o)o)o)o-16',\n",
       "              'c([c@h]([c@h]([c@@h]([c@h](c(=o)[o-])o)o)o)o)o-17',\n",
       "              'c([c@h]([c@h]([c@@h]([c@h](c(=o)[o-])o)o)o)o)o-18',\n",
       "              'c([c@h]([c@h]([c@@h]([c@h](c(=o)[o-])o)o)o)o)o-19'],\n",
       "             '[H][C@@](C(=O)[O-])(C([H])([H])C([H])([H])C([H])([H])C([H])([H])[N+]([H])([H])[H])[N+]([H])([H])[H]': ['c(cc[nh3+])c[c@@h](c(=o)[o-])[nh3+]-0',\n",
       "              'c(cc[nh3+])c[c@@h](c(=o)[o-])[nh3+]-1',\n",
       "              'c(cc[nh3+])c[c@@h](c(=o)[o-])[nh3+]-2',\n",
       "              'c(cc[nh3+])c[c@@h](c(=o)[o-])[nh3+]-3',\n",
       "              'c(cc[nh3+])c[c@@h](c(=o)[o-])[nh3+]-4',\n",
       "              'c(cc[nh3+])c[c@@h](c(=o)[o-])[nh3+]-5',\n",
       "              'c(cc[nh3+])c[c@@h](c(=o)[o-])[nh3+]-6',\n",
       "              'c(cc[nh3+])c[c@@h](c(=o)[o-])[nh3+]-7'],\n",
       "             '[H][C@@]1(C(=O)O[C@]([C@@]([C@]1([H])O[H])([H])O[H])([H])C([H])([H])O[H])O[H]': ['c([c@@h]1[c@h]([c@@h]([c@h](c(=o)o1)o)o)o)o-0',\n",
       "              'c([c@@h]1[c@h]([c@@h]([c@h](c(=o)o1)o)o)o)o-1',\n",
       "              'c([c@@h]1[c@h]([c@@h]([c@h](c(=o)o1)o)o)o)o-2',\n",
       "              'c([c@@h]1[c@h]([c@@h]([c@h](c(=o)o1)o)o)o)o-3',\n",
       "              'c([c@@h]1[c@h]([c@@h]([c@h](c(=o)o1)o)o)o)o-4',\n",
       "              'c([c@@h]1[c@h]([c@@h]([c@h](c(=o)o1)o)o)o)o-5',\n",
       "              'c([c@@h]1[c@h]([c@@h]([c@h](c(=o)o1)o)o)o)o-6',\n",
       "              'c([c@@h]1[c@h]([c@@h]([c@h](c(=o)o1)o)o)o)o-7',\n",
       "              'c([c@@h]1[c@h]([c@@h]([c@h](c(=o)o1)o)o)o)o-8',\n",
       "              'c([c@@h]1[c@h]([c@@h]([c@h](c(=o)o1)o)o)o)o-9'],\n",
       "             '[H]C([H])(C([H])([H])S(=O)(=O)[O-])[N+]([H])([H])[H]': ['c(cs(=o)(=o)[o-])[nh3+]-0'],\n",
       "             '[O-]S(=O)(=S)[O-]': ['[o-]s(=o)(=s)[o-]-0'],\n",
       "             '[H]c1c(c(c(c(c1[H])[H])C(=O)[O-])[H])[H]': ['c1ccc(cc1)c(=o)[o-]-0'],\n",
       "             '[H]c1c(c(c(c(c1C([H])([H])C(=C([H])[H])[H])[H])OC([H])([H])[H])O[H])[H]': ['coc1cc(ccc1o)cc=c-0',\n",
       "              'coc1cc(ccc1o)cc=c-1',\n",
       "              'coc1cc(ccc1o)cc=c-2'],\n",
       "             '[H][C@@](C([H])([H])[H])(C([H])([H])O[H])O[H]': ['c[c@h](co)o-0',\n",
       "              'c[c@h](co)o-1'],\n",
       "             '[H]C1=C([C@]2(C(=C(C1=O)[H])C(C([C@@]3([C@@]2([C@@](C([C@]4([C@]3(C([C@@]([C@@]4(C(=O)C([H])([H])O[H])O[H])([H])C([H])([H])[H])([H])[H])[H])C([H])([H])[H])([H])[H])([H])O[H])F)[H])([H])[H])([H])[H])C([H])([H])[H])[H]': ['c[c@@h]1c[c@h]2[c@@h]3ccc4=cc(=o)c=c[c@@]4([c@]3([c@h](c[c@@]2([c@]1(c(=o)co)o)c)o)f)c-0',\n",
       "              'c[c@@h]1c[c@h]2[c@@h]3ccc4=cc(=o)c=c[c@@]4([c@]3([c@h](c[c@@]2([c@]1(c(=o)co)o)c)o)f)c-1'],\n",
       "             '[H]c1c(c(c(c(c1[H])[H])C([H])([H])[C@@]2(N(c3c(c(c(c(c3S(=O)(=O)N2[H])[H])S(=O)(=O)N([H])[H])C(F)(F)F)[H])[H])[H])[H])[H]': ['c1ccc(cc1)c[c@@h]2nc3cc(c(cc3s(=o)(=o)n2)s(=o)(=o)n)c(f)(f)f-0',\n",
       "              'c1ccc(cc1)c[c@@h]2nc3cc(c(cc3s(=o)(=o)n2)s(=o)(=o)n)c(f)(f)f-1',\n",
       "              'c1ccc(cc1)c[c@@h]2nc3cc(c(cc3s(=o)(=o)n2)s(=o)(=o)n)c(f)(f)f-2',\n",
       "              'c1ccc(cc1)c[c@@h]2nc3cc(c(cc3s(=o)(=o)n2)s(=o)(=o)n)c(f)(f)f-3',\n",
       "              'c1ccc(cc1)c[c@@h]2nc3cc(c(cc3s(=o)(=o)n2)s(=o)(=o)n)c(f)(f)f-4',\n",
       "              'c1ccc(cc1)c[c@@h]2nc3cc(c(cc3s(=o)(=o)n2)s(=o)(=o)n)c(f)(f)f-5',\n",
       "              'c1ccc(cc1)c[c@@h]2nc3cc(c(cc3s(=o)(=o)n2)s(=o)(=o)n)c(f)(f)f-6',\n",
       "              'c1ccc(cc1)c[c@@h]2nc3cc(c(cc3s(=o)(=o)n2)s(=o)(=o)n)c(f)(f)f-7',\n",
       "              'c1ccc(cc1)c[c@@h]2nc3cc(c(cc3s(=o)(=o)n2)s(=o)(=o)n)c(f)(f)f-8'],\n",
       "             '[H]c1c(c(c(c2c1N(C(=N2)[S@@](=O)C([H])([H])c3c(c(c(c(n3)[H])C([H])([H])[H])OC([H])([H])[H])C([H])([H])[H])[H])[H])OC([H])([H])[H])[H]': ['cc1cnc(c(c1oc)c)c[s@](=o)c2[nh]c3ccc(cc3n2)oc-0',\n",
       "              'cc1cnc(c(c1oc)c)c[s@](=o)c2[nh]c3ccc(cc3n2)oc-1',\n",
       "              'cc1cnc(c(c1oc)c)c[s@](=o)c2[nh]c3ccc(cc3n2)oc-2',\n",
       "              'cc1cnc(c(c1oc)c)c[s@](=o)c2[nh]c3ccc(cc3n2)oc-3',\n",
       "              'cc1cnc(c(c1oc)c)c[s@](=o)c2[nh]c3ccc(cc3n2)oc-4',\n",
       "              'cc1cnc(c(c1oc)c)c[s@](=o)c2[nh]c3ccc(cc3n2)oc-5',\n",
       "              'cc1cnc(c(c1oc)c)c[s@](=o)c2[nh]c3ccc(cc3n2)oc-6',\n",
       "              'cc1cnc(c(c1oc)c)c[s@](=o)c2[nh]c3ccc(cc3n2)oc-7',\n",
       "              'cc1cnc(c(c1oc)c)c[s@](=o)c2[nh]c3ccc(cc3n2)oc-8',\n",
       "              'cc1cnc(c(c1oc)c)c[s@](=o)c2[nh]c3ccc(cc3n2)oc-9',\n",
       "              'cc1cnc(c(c1oc)c)c[s@](=o)c2[nh]c3ccc(cc3n2)oc-10',\n",
       "              'cc1cnc(c(c1oc)c)c[s@](=o)c2[nh]c3ccc(cc3n2)oc-11',\n",
       "              'cc1cnc(c(c1oc)c)c[s@](=o)c2[nh]c3ccc(cc3n2)oc-12',\n",
       "              'cc1cnc(c(c1oc)c)c[s@](=o)c2[nh]c3ccc(cc3n2)oc-13',\n",
       "              'cc1cnc(c(c1oc)c)c[s@](=o)c2[nh]c3ccc(cc3n2)oc-14',\n",
       "              'cc1cnc(c(c1oc)c)c[s@](=o)c2[nh]c3ccc(cc3n2)oc-15',\n",
       "              'cc1cnc(c(c1oc)c)c[s@](=o)c2[nh]c3ccc(cc3n2)oc-16',\n",
       "              'cc1cnc(c(c1oc)c)c[s@](=o)c2[nh]c3ccc(cc3n2)oc-17',\n",
       "              'cc1cnc(c(c1oc)c)c[s@](=o)c2[nh]c3ccc(cc3n2)oc-18',\n",
       "              'cc1cnc(c(c1oc)c)c[s@](=o)c2[nh]c3ccc(cc3n2)oc-19'],\n",
       "             '[H]c1c(c(c(c2c1N=C(N2[H])[S@@](=O)C([H])([H])c3c(c(c(c(n3)[H])C([H])([H])[H])OC([H])([H])[H])C([H])([H])[H])[H])OC([H])([H])[H])[H]': ['cc1cnc(c(c1oc)c)c[s@](=o)c2[nh]c3cc(ccc3n2)oc-0',\n",
       "              'cc1cnc(c(c1oc)c)c[s@](=o)c2[nh]c3cc(ccc3n2)oc-1',\n",
       "              'cc1cnc(c(c1oc)c)c[s@](=o)c2[nh]c3cc(ccc3n2)oc-2',\n",
       "              'cc1cnc(c(c1oc)c)c[s@](=o)c2[nh]c3cc(ccc3n2)oc-3',\n",
       "              'cc1cnc(c(c1oc)c)c[s@](=o)c2[nh]c3cc(ccc3n2)oc-4',\n",
       "              'cc1cnc(c(c1oc)c)c[s@](=o)c2[nh]c3cc(ccc3n2)oc-5',\n",
       "              'cc1cnc(c(c1oc)c)c[s@](=o)c2[nh]c3cc(ccc3n2)oc-6',\n",
       "              'cc1cnc(c(c1oc)c)c[s@](=o)c2[nh]c3cc(ccc3n2)oc-7',\n",
       "              'cc1cnc(c(c1oc)c)c[s@](=o)c2[nh]c3cc(ccc3n2)oc-8',\n",
       "              'cc1cnc(c(c1oc)c)c[s@](=o)c2[nh]c3cc(ccc3n2)oc-9',\n",
       "              'cc1cnc(c(c1oc)c)c[s@](=o)c2[nh]c3cc(ccc3n2)oc-10',\n",
       "              'cc1cnc(c(c1oc)c)c[s@](=o)c2[nh]c3cc(ccc3n2)oc-11',\n",
       "              'cc1cnc(c(c1oc)c)c[s@](=o)c2[nh]c3cc(ccc3n2)oc-12',\n",
       "              'cc1cnc(c(c1oc)c)c[s@](=o)c2[nh]c3cc(ccc3n2)oc-13',\n",
       "              'cc1cnc(c(c1oc)c)c[s@](=o)c2[nh]c3cc(ccc3n2)oc-14',\n",
       "              'cc1cnc(c(c1oc)c)c[s@](=o)c2[nh]c3cc(ccc3n2)oc-15',\n",
       "              'cc1cnc(c(c1oc)c)c[s@](=o)c2[nh]c3cc(ccc3n2)oc-16',\n",
       "              'cc1cnc(c(c1oc)c)c[s@](=o)c2[nh]c3cc(ccc3n2)oc-17',\n",
       "              'cc1cnc(c(c1oc)c)c[s@](=o)c2[nh]c3cc(ccc3n2)oc-18',\n",
       "              'cc1cnc(c(c1oc)c)c[s@](=o)c2[nh]c3cc(ccc3n2)oc-19'],\n",
       "             '[H]c1c(c(c(c(c1[H])Cl)[H])C(=O)[C@]([H])(C([H])([H])[H])[N+]([H])([H])C(C([H])([H])[H])(C([H])([H])[H])C([H])([H])[H])[H]': ['c[c@@h](c(=o)c1cccc(c1)cl)[nh2+]c(c)(c)c-0',\n",
       "              'c[c@@h](c(=o)c1cccc(c1)cl)[nh2+]c(c)(c)c-1',\n",
       "              'c[c@@h](c(=o)c1cccc(c1)cl)[nh2+]c(c)(c)c-2',\n",
       "              'c[c@@h](c(=o)c1cccc(c1)cl)[nh2+]c(c)(c)c-3',\n",
       "              'c[c@@h](c(=o)c1cccc(c1)cl)[nh2+]c(c)(c)c-4',\n",
       "              'c[c@@h](c(=o)c1cccc(c1)cl)[nh2+]c(c)(c)c-5',\n",
       "              'c[c@@h](c(=o)c1cccc(c1)cl)[nh2+]c(c)(c)c-6',\n",
       "              'c[c@@h](c(=o)c1cccc(c1)cl)[nh2+]c(c)(c)c-7'],\n",
       "             '[H]c1c(c(c(c(c1[H])Cl)[H])C(=O)[C@]([H])(C([H])([H])[H])N([H])C(C([H])([H])[H])(C([H])([H])[H])C([H])([H])[H])[H]': ['c[c@@h](c(=o)c1cccc(c1)cl)nc(c)(c)c-0',\n",
       "              'c[c@@h](c(=o)c1cccc(c1)cl)nc(c)(c)c-1',\n",
       "              'c[c@@h](c(=o)c1cccc(c1)cl)nc(c)(c)c-2',\n",
       "              'c[c@@h](c(=o)c1cccc(c1)cl)nc(c)(c)c-3',\n",
       "              'c[c@@h](c(=o)c1cccc(c1)cl)nc(c)(c)c-4',\n",
       "              'c[c@@h](c(=o)c1cccc(c1)cl)nc(c)(c)c-5',\n",
       "              'c[c@@h](c(=o)c1cccc(c1)cl)nc(c)(c)c-6',\n",
       "              'c[c@@h](c(=o)c1cccc(c1)cl)nc(c)(c)c-7',\n",
       "              'c[c@@h](c(=o)c1cccc(c1)cl)nc(c)(c)c-8',\n",
       "              'c[c@@h](c(=o)c1cccc(c1)cl)nc(c)(c)c-9',\n",
       "              'c[c@@h](c(=o)c1cccc(c1)cl)nc(c)(c)c-10'],\n",
       "             '[H]c1c(c(c(c(c1[H])C(=O)N([H])C2=NC(=C(S2)N(=O)=O)[H])OC(=O)C([H])([H])[H])[H])[H]': ['cc(=o)oc1ccccc1c(=o)nc2ncc(s2)n(=o)=o-0',\n",
       "              'cc(=o)oc1ccccc1c(=o)nc2ncc(s2)n(=o)=o-1',\n",
       "              'cc(=o)oc1ccccc1c(=o)nc2ncc(s2)n(=o)=o-2',\n",
       "              'cc(=o)oc1ccccc1c(=o)nc2ncc(s2)n(=o)=o-3',\n",
       "              'cc(=o)oc1ccccc1c(=o)nc2ncc(s2)n(=o)=o-4',\n",
       "              'cc(=o)oc1ccccc1c(=o)nc2ncc(s2)n(=o)=o-5',\n",
       "              'cc(=o)oc1ccccc1c(=o)nc2ncc(s2)n(=o)=o-6',\n",
       "              'cc(=o)oc1ccccc1c(=o)nc2ncc(s2)n(=o)=o-7',\n",
       "              'cc(=o)oc1ccccc1c(=o)nc2ncc(s2)n(=o)=o-8',\n",
       "              'cc(=o)oc1ccccc1c(=o)nc2ncc(s2)n(=o)=o-9',\n",
       "              'cc(=o)oc1ccccc1c(=o)nc2ncc(s2)n(=o)=o-10',\n",
       "              'cc(=o)oc1ccccc1c(=o)nc2ncc(s2)n(=o)=o-11',\n",
       "              'cc(=o)oc1ccccc1c(=o)nc2ncc(s2)n(=o)=o-12',\n",
       "              'cc(=o)oc1ccccc1c(=o)nc2ncc(s2)n(=o)=o-13',\n",
       "              'cc(=o)oc1ccccc1c(=o)nc2ncc(s2)n(=o)=o-14'],\n",
       "             '[H]c1c(c(c(c(c1C2=C3c4c(c(c(c(c4N2[H])[H])F)[H])C(=O)N(C(C3([H])[H])([H])[H])[H])[H])[H])C([H])([H])[N+]([H])([H])C([H])([H])[H])[H]': ['c[nh2+]cc1ccc(cc1)c2c3c4c(cc(cc4[nh]2)f)c(=o)ncc3-0',\n",
       "              'c[nh2+]cc1ccc(cc1)c2c3c4c(cc(cc4[nh]2)f)c(=o)ncc3-1'],\n",
       "             '[H]c1c(c(c2c(c1[H])[C@]3(C([N@@+](C(C([N@@]3c4c(c(c(c(n4)[H])[H])[H])C2([H])[H])([H])[H])([H])[H])([H])C([H])([H])[H])([H])[H])[H])[H])[H]': ['c[n@h+]1cc[n@@]2c3c(cccn3)cc4ccccc4[c@h]2c1-0',\n",
       "              'c[n@h+]1cc[n@@]2c3c(cccn3)cc4ccccc4[c@h]2c1-1',\n",
       "              'c[n@h+]1cc[n@@]2c3c(cccn3)cc4ccccc4[c@h]2c1-2',\n",
       "              'c[n@h+]1cc[n@@]2c3c(cccn3)cc4ccccc4[c@h]2c1-3'],\n",
       "             '[H]c1c(c(c2c(c1[H])[C@]3(C([N@+](C(C([N@@]3c4c(c(c(c(n4)[H])[H])[H])C2([H])[H])([H])[H])([H])[H])([H])C([H])([H])[H])([H])[H])[H])[H])[H]': ['c[n@@h+]1cc[n@@]2c3c(cccn3)cc4ccccc4[c@h]2c1-0',\n",
       "              'c[n@@h+]1cc[n@@]2c3c(cccn3)cc4ccccc4[c@h]2c1-1'],\n",
       "             '[H]c1c(c(c(c(c1C([H])([H])[C@]([H])(C([H])([H])[H])[N+]([H])([H])[H])[H])[H])O[H])[H]': ['c[c@@h](cc1ccc(cc1)o)[nh3+]-0',\n",
       "              'c[c@@h](cc1ccc(cc1)o)[nh3+]-1'],\n",
       "             '[H]c1c(c(c2c3c1C([C@@]4([C@]5([C@@]3([C@@](O2)(C(=O)C(C5([H])[H])([H])[H])[H])C(C([N@+]4(C([H])([H])[H])C([H])([H])C6(C(C6([H])[H])([H])[H])[H])([H])[H])([H])[H])O[H])[H])([H])[H])O[H])[H]': ['c[n@@+]1(cc[c@]23c4c5ccc(c4o[c@h]2c(=o)cc[c@]3([c@h]1c5)o)o)cc6cc6-0',\n",
       "              'c[n@@+]1(cc[c@]23c4c5ccc(c4o[c@h]2c(=o)cc[c@]3([c@h]1c5)o)o)cc6cc6-1'],\n",
       "             '[H]c1c(c(c(c(c1[H])C(=O)N([H])C([H])([H])[H])Sc2c(c(c3c(c2[H])N(N=C3/C(=C(\\\\[H])/c4c(c(c(c(n4)[H])[H])[H])[H])/[H])[H])[H])[H])[H])[H]': ['cnc(=o)c1ccccc1sc2ccc3c(c2)[nh]nc3/c=c/c4ccccn4-0',\n",
       "              'cnc(=o)c1ccccc1sc2ccc3c(c2)[nh]nc3/c=c/c4ccccn4-1',\n",
       "              'cnc(=o)c1ccccc1sc2ccc3c(c2)[nh]nc3/c=c/c4ccccn4-2',\n",
       "              'cnc(=o)c1ccccc1sc2ccc3c(c2)[nh]nc3/c=c/c4ccccn4-3',\n",
       "              'cnc(=o)c1ccccc1sc2ccc3c(c2)[nh]nc3/c=c/c4ccccn4-4',\n",
       "              'cnc(=o)c1ccccc1sc2ccc3c(c2)[nh]nc3/c=c/c4ccccn4-5',\n",
       "              'cnc(=o)c1ccccc1sc2ccc3c(c2)[nh]nc3/c=c/c4ccccn4-6',\n",
       "              'cnc(=o)c1ccccc1sc2ccc3c(c2)[nh]nc3/c=c/c4ccccn4-7',\n",
       "              'cnc(=o)c1ccccc1sc2ccc3c(c2)[nh]nc3/c=c/c4ccccn4-8',\n",
       "              'cnc(=o)c1ccccc1sc2ccc3c(c2)[nh]nc3/c=c/c4ccccn4-9',\n",
       "              'cnc(=o)c1ccccc1sc2ccc3c(c2)[nh]nc3/c=c/c4ccccn4-10',\n",
       "              'cnc(=o)c1ccccc1sc2ccc3c(c2)[nh]nc3/c=c/c4ccccn4-11',\n",
       "              'cnc(=o)c1ccccc1sc2ccc3c(c2)[nh]nc3/c=c/c4ccccn4-12',\n",
       "              'cnc(=o)c1ccccc1sc2ccc3c(c2)[nh]nc3/c=c/c4ccccn4-13',\n",
       "              'cnc(=o)c1ccccc1sc2ccc3c(c2)[nh]nc3/c=c/c4ccccn4-14',\n",
       "              'cnc(=o)c1ccccc1sc2ccc3c(c2)[nh]nc3/c=c/c4ccccn4-15',\n",
       "              'cnc(=o)c1ccccc1sc2ccc3c(c2)[nh]nc3/c=c/c4ccccn4-16',\n",
       "              'cnc(=o)c1ccccc1sc2ccc3c(c2)[nh]nc3/c=c/c4ccccn4-17',\n",
       "              'cnc(=o)c1ccccc1sc2ccc3c(c2)[nh]nc3/c=c/c4ccccn4-18',\n",
       "              'cnc(=o)c1ccccc1sc2ccc3c(c2)[nh]nc3/c=c/c4ccccn4-19',\n",
       "              'cnc(=o)c1ccccc1sc2ccc3c(c2)[nh]nc3/c=c/c4ccccn4-20',\n",
       "              'cnc(=o)c1ccccc1sc2ccc3c(c2)[nh]nc3/c=c/c4ccccn4-21',\n",
       "              'cnc(=o)c1ccccc1sc2ccc3c(c2)[nh]nc3/c=c/c4ccccn4-22',\n",
       "              'cnc(=o)c1ccccc1sc2ccc3c(c2)[nh]nc3/c=c/c4ccccn4-23',\n",
       "              'cnc(=o)c1ccccc1sc2ccc3c(c2)[nh]nc3/c=c/c4ccccn4-24',\n",
       "              'cnc(=o)c1ccccc1sc2ccc3c(c2)[nh]nc3/c=c/c4ccccn4-25',\n",
       "              'cnc(=o)c1ccccc1sc2ccc3c(c2)[nh]nc3/c=c/c4ccccn4-26',\n",
       "              'cnc(=o)c1ccccc1sc2ccc3c(c2)[nh]nc3/c=c/c4ccccn4-27',\n",
       "              'cnc(=o)c1ccccc1sc2ccc3c(c2)[nh]nc3/c=c/c4ccccn4-28',\n",
       "              'cnc(=o)c1ccccc1sc2ccc3c(c2)[nh]nc3/c=c/c4ccccn4-29',\n",
       "              'cnc(=o)c1ccccc1sc2ccc3c(c2)[nh]nc3/c=c/c4ccccn4-30',\n",
       "              'cnc(=o)c1ccccc1sc2ccc3c(c2)[nh]nc3/c=c/c4ccccn4-31',\n",
       "              'cnc(=o)c1ccccc1sc2ccc3c(c2)[nh]nc3/c=c/c4ccccn4-32',\n",
       "              'cnc(=o)c1ccccc1sc2ccc3c(c2)[nh]nc3/c=c/c4ccccn4-33',\n",
       "              'cnc(=o)c1ccccc1sc2ccc3c(c2)[nh]nc3/c=c/c4ccccn4-34',\n",
       "              'cnc(=o)c1ccccc1sc2ccc3c(c2)[nh]nc3/c=c/c4ccccn4-35',\n",
       "              'cnc(=o)c1ccccc1sc2ccc3c(c2)[nh]nc3/c=c/c4ccccn4-36',\n",
       "              'cnc(=o)c1ccccc1sc2ccc3c(c2)[nh]nc3/c=c/c4ccccn4-37',\n",
       "              'cnc(=o)c1ccccc1sc2ccc3c(c2)[nh]nc3/c=c/c4ccccn4-38',\n",
       "              'cnc(=o)c1ccccc1sc2ccc3c(c2)[nh]nc3/c=c/c4ccccn4-39'],\n",
       "             '[H][C@](C(=O)N([H])C([H])([H])C(=O)[O-])(C([H])([H])[H])S[H]': ['c[c@h](c(=o)ncc(=o)[o-])s-0',\n",
       "              'c[c@h](c(=o)ncc(=o)[o-])s-1',\n",
       "              'c[c@h](c(=o)ncc(=o)[o-])s-2',\n",
       "              'c[c@h](c(=o)ncc(=o)[o-])s-3'],\n",
       "             '[H]C1=C(OC(=C1[H])N(=O)=O)/C(=N/N2C(=O)N(C(=O)C2([H])[H])[H])/[H]': ['c1cc(oc1/c=n/n2cc(=o)nc2=o)n(=o)=o-0',\n",
       "              'c1cc(oc1/c=n/n2cc(=o)nc2=o)n(=o)=o-1'],\n",
       "             '[H]C1=C(OC(=C1[H])N(=O)=O)/C(=N/N2C(=O)[N-]C(=O)C2([H])[H])/[H]': ['c1cc(oc1/c=n/n2cc(=o)[n-]c2=o)n(=o)=o-0',\n",
       "              'c1cc(oc1/c=n/n2cc(=o)[n-]c2=o)n(=o)=o-1'],\n",
       "             '[H]C1=Nc2c(nc(nc2N([H])[H])F)N1[C@]3([C@@]([C@]([C@@](O3)([H])C([H])([H])O[H])([H])O[H])([H])O[H])[H]': ['c1nc2c(nc(nc2n1[c@h]3[c@h]([c@@h]([c@h](o3)co)o)o)f)n-0',\n",
       "              'c1nc2c(nc(nc2n1[c@h]3[c@h]([c@@h]([c@h](o3)co)o)o)f)n-1',\n",
       "              'c1nc2c(nc(nc2n1[c@h]3[c@h]([c@@h]([c@h](o3)co)o)o)f)n-2',\n",
       "              'c1nc2c(nc(nc2n1[c@h]3[c@h]([c@@h]([c@h](o3)co)o)o)f)n-3',\n",
       "              'c1nc2c(nc(nc2n1[c@h]3[c@h]([c@@h]([c@h](o3)co)o)o)f)n-4',\n",
       "              'c1nc2c(nc(nc2n1[c@h]3[c@h]([c@@h]([c@h](o3)co)o)o)f)n-5',\n",
       "              'c1nc2c(nc(nc2n1[c@h]3[c@h]([c@@h]([c@h](o3)co)o)o)f)n-6',\n",
       "              'c1nc2c(nc(nc2n1[c@h]3[c@h]([c@@h]([c@h](o3)co)o)o)f)n-7',\n",
       "              'c1nc2c(nc(nc2n1[c@h]3[c@h]([c@@h]([c@h](o3)co)o)o)f)n-8',\n",
       "              'c1nc2c(nc(nc2n1[c@h]3[c@h]([c@@h]([c@h](o3)co)o)o)f)n-9',\n",
       "              'c1nc2c(nc(nc2n1[c@h]3[c@h]([c@@h]([c@h](o3)co)o)o)f)n-10'],\n",
       "             '[H]c1c(c(c(c(c1[H])[H])C([H])([H])[C@@]([H])(C([H])([H])[H])[N+]([H])([H])C([H])([H])[H])[H])[H]': ['c[c@h](cc1ccccc1)[nh2+]c-0',\n",
       "              'c[c@h](cc1ccccc1)[nh2+]c-1',\n",
       "              'c[c@h](cc1ccccc1)[nh2+]c-2'],\n",
       "             '[H]C#C[C@]1([C@]2([C@@]([C@]3([C@]([C@@]4(C(=C(C(=O)C(C4([H])[H])([H])[H])[H])C(C3([H])[H])([H])[H])[H])(C(C2([H])[H])([H])[H])[H])[H])(C(C1([H])[H])([H])[H])[H])C([H])([H])C([H])([H])[H])O[H]': ['cc[c@@]12cc[c@@h]3[c@h]([c@h]1cc[c@]2(c#c)o)ccc4=cc(=o)cc[c@h]34-0'],\n",
       "             '[H]C#C[C@]1([C@@]2([C@@]([C@]3([C@@]([C@@]4(C(=C(C(=O)C(C4([H])[H])([H])[H])[H])C(C3([H])[H])([H])[H])[H])(C(C2([H])[H])([H])[H])[H])[H])(C(C1([H])[H])([H])[H])[H])C([H])([H])C([H])([H])[H])O[H]': ['cc[c@]12cc[c@h]3[c@h]([c@h]1cc[c@]2(c#c)o)ccc4=cc(=o)cc[c@h]34-0'],\n",
       "             '[H]c1c(c(c(c(c1[C@@]2(C3=C4C(=C(C(=O)C(C4([H])[H])([H])[H])[H])C(C([C@]3([C@]5([C@](C2([H])[H])([C@](C(C5([H])[H])([H])[H])(C(=O)C([H])([H])[H])O[H])C([H])([H])[H])[H])[H])([H])[H])([H])[H])[H])[H])[H])N(C([H])([H])[H])C([H])([H])[H])[H]': ['cc(=o)[c@]1(cc[c@@h]2[c@@]1(c[c@@h](c3=c4ccc(=o)c=c4cc[c@@h]23)c5ccc(cc5)n(c)c)c)o-0'],\n",
       "             '[H]c1c(c(c(c(c1N([H])C(=O)C(=O)[O-])Cl)N([H])C(=O)C(=O)[O-])[H])C#N': ['c1c(cc(c(c1nc(=o)c(=o)[o-])cl)nc(=o)c(=o)[o-])c#n-0'],\n",
       "             '[H]c1c(c(c(c(c1N2C(=O)C(N(C2=O)[H])(C([H])([H])[H])C([H])([H])[H])[H])C(F)(F)F)N(=O)=O)[H]': ['cc1(c(=o)n(c(=o)n1)c2ccc(c(c2)c(f)(f)f)n(=o)=o)c-0',\n",
       "              'cc1(c(=o)n(c(=o)n1)c2ccc(c(c2)c(f)(f)f)n(=o)=o)c-1',\n",
       "              'cc1(c(=o)n(c(=o)n1)c2ccc(c(c2)c(f)(f)f)n(=o)=o)c-2',\n",
       "              'cc1(c(=o)n(c(=o)n1)c2ccc(c(c2)c(f)(f)f)n(=o)=o)c-3'],\n",
       "             '[H]c1c(c(c(c(c1C(=C2C(=O)C(C(C(C2=O)([H])[H])([H])[H])([H])[H])[O-])N(=O)=O)[H])C(F)(F)F)[H]': ['c1cc(c(cc1c(f)(f)f)n(=o)=o)c(=c2c(=o)cccc2=o)[o-]-0',\n",
       "              'c1cc(c(cc1c(f)(f)f)n(=o)=o)c(=c2c(=o)cccc2=o)[o-]-1'],\n",
       "             '[H]c1c(c(c2c(c1[H])[C@@]3([C@@](c4c(c(c(c(c4O2)[H])[H])Cl)[H])(C([N@@](C3([H])[H])C([H])([H])[H])([H])[H])[H])[H])[H])[H]': ['c[n@@]1c[c@@h]2c3ccccc3oc4ccc(cc4[c@h]2c1)cl-0',\n",
       "              'c[n@@]1c[c@@h]2c3ccccc3oc4ccc(cc4[c@h]2c1)cl-1'],\n",
       "             '[H]c1c(c(c2c(c1[H])[C@@]3([C@@](c4c(c(c(c(c4O2)[H])[H])Cl)[H])(C([N@+](C3([H])[H])([H])C([H])([H])[H])([H])[H])[H])[H])[H])[H]': ['c[n@@h+]1c[c@@h]2c3ccccc3oc4ccc(cc4[c@h]2c1)cl-0',\n",
       "              'c[n@@h+]1c[c@@h]2c3ccccc3oc4ccc(cc4[c@h]2c1)cl-1'],\n",
       "             '[H]c1c(c(c2c(c1[H])[C@@]3([C@@](c4c(c(c(c(c4O2)[H])[H])Cl)[H])(C([N@@+](C3([H])[H])([H])C([H])([H])[H])([H])[H])[H])[H])[H])[H]': ['c[n@h+]1c[c@@h]2c3ccccc3oc4ccc(cc4[c@h]2c1)cl-0',\n",
       "              'c[n@h+]1c[c@@h]2c3ccccc3oc4ccc(cc4[c@h]2c1)cl-1'],\n",
       "             '[H]c1c(c(c(c(c1[H])[H])[C@]2([C@@](C2([H])[H])([H])[N+]([H])([H])[H])[H])[H])[H]': ['c1ccc(cc1)[c@@h]2c[c@@h]2[nh3+]-0'],\n",
       "             '[H]c1c(c(c(c(c1[C@]([H])(C(=O)N([H])[C@@]2(C(=O)N3[C@@]2(SC(C(=C3C(=O)[O-])C([H])([H])[H])([H])[H])[H])[H])N([H])[H])[H])[H])O[H])[H]': ['cc1=c(n2[c@@h]([c@@h](c2=o)nc(=o)[c@@h](c3ccc(cc3)o)n)sc1)c(=o)[o-]-0',\n",
       "              'cc1=c(n2[c@@h]([c@@h](c2=o)nc(=o)[c@@h](c3ccc(cc3)o)n)sc1)c(=o)[o-]-1',\n",
       "              'cc1=c(n2[c@@h]([c@@h](c2=o)nc(=o)[c@@h](c3ccc(cc3)o)n)sc1)c(=o)[o-]-2',\n",
       "              'cc1=c(n2[c@@h]([c@@h](c2=o)nc(=o)[c@@h](c3ccc(cc3)o)n)sc1)c(=o)[o-]-3',\n",
       "              'cc1=c(n2[c@@h]([c@@h](c2=o)nc(=o)[c@@h](c3ccc(cc3)o)n)sc1)c(=o)[o-]-4',\n",
       "              'cc1=c(n2[c@@h]([c@@h](c2=o)nc(=o)[c@@h](c3ccc(cc3)o)n)sc1)c(=o)[o-]-5',\n",
       "              'cc1=c(n2[c@@h]([c@@h](c2=o)nc(=o)[c@@h](c3ccc(cc3)o)n)sc1)c(=o)[o-]-6',\n",
       "              'cc1=c(n2[c@@h]([c@@h](c2=o)nc(=o)[c@@h](c3ccc(cc3)o)n)sc1)c(=o)[o-]-7',\n",
       "              'cc1=c(n2[c@@h]([c@@h](c2=o)nc(=o)[c@@h](c3ccc(cc3)o)n)sc1)c(=o)[o-]-8',\n",
       "              'cc1=c(n2[c@@h]([c@@h](c2=o)nc(=o)[c@@h](c3ccc(cc3)o)n)sc1)c(=o)[o-]-9',\n",
       "              'cc1=c(n2[c@@h]([c@@h](c2=o)nc(=o)[c@@h](c3ccc(cc3)o)n)sc1)c(=o)[o-]-10',\n",
       "              'cc1=c(n2[c@@h]([c@@h](c2=o)nc(=o)[c@@h](c3ccc(cc3)o)n)sc1)c(=o)[o-]-11',\n",
       "              'cc1=c(n2[c@@h]([c@@h](c2=o)nc(=o)[c@@h](c3ccc(cc3)o)n)sc1)c(=o)[o-]-12',\n",
       "              'cc1=c(n2[c@@h]([c@@h](c2=o)nc(=o)[c@@h](c3ccc(cc3)o)n)sc1)c(=o)[o-]-13'],\n",
       "             '[H]c1c(c(c(c(c1[C@]([H])(C(=O)N([H])[C@@]2(C(=O)N3[C@@]2(SC(C(=C3C(=O)[O-])C([H])([H])[H])([H])[H])[H])[H])[N+]([H])([H])[H])[H])[H])O[H])[H]': ['cc1=c(n2[c@@h]([c@@h](c2=o)nc(=o)[c@@h](c3ccc(cc3)o)[nh3+])sc1)c(=o)[o-]-0',\n",
       "              'cc1=c(n2[c@@h]([c@@h](c2=o)nc(=o)[c@@h](c3ccc(cc3)o)[nh3+])sc1)c(=o)[o-]-1',\n",
       "              'cc1=c(n2[c@@h]([c@@h](c2=o)nc(=o)[c@@h](c3ccc(cc3)o)[nh3+])sc1)c(=o)[o-]-2',\n",
       "              'cc1=c(n2[c@@h]([c@@h](c2=o)nc(=o)[c@@h](c3ccc(cc3)o)[nh3+])sc1)c(=o)[o-]-3',\n",
       "              'cc1=c(n2[c@@h]([c@@h](c2=o)nc(=o)[c@@h](c3ccc(cc3)o)[nh3+])sc1)c(=o)[o-]-4',\n",
       "              'cc1=c(n2[c@@h]([c@@h](c2=o)nc(=o)[c@@h](c3ccc(cc3)o)[nh3+])sc1)c(=o)[o-]-5',\n",
       "              'cc1=c(n2[c@@h]([c@@h](c2=o)nc(=o)[c@@h](c3ccc(cc3)o)[nh3+])sc1)c(=o)[o-]-6',\n",
       "              'cc1=c(n2[c@@h]([c@@h](c2=o)nc(=o)[c@@h](c3ccc(cc3)o)[nh3+])sc1)c(=o)[o-]-7',\n",
       "              'cc1=c(n2[c@@h]([c@@h](c2=o)nc(=o)[c@@h](c3ccc(cc3)o)[nh3+])sc1)c(=o)[o-]-8',\n",
       "              'cc1=c(n2[c@@h]([c@@h](c2=o)nc(=o)[c@@h](c3ccc(cc3)o)[nh3+])sc1)c(=o)[o-]-9',\n",
       "              'cc1=c(n2[c@@h]([c@@h](c2=o)nc(=o)[c@@h](c3ccc(cc3)o)[nh3+])sc1)c(=o)[o-]-10',\n",
       "              'cc1=c(n2[c@@h]([c@@h](c2=o)nc(=o)[c@@h](c3ccc(cc3)o)[nh3+])sc1)c(=o)[o-]-11',\n",
       "              'cc1=c(n2[c@@h]([c@@h](c2=o)nc(=o)[c@@h](c3ccc(cc3)o)[nh3+])sc1)c(=o)[o-]-12'],\n",
       "             '[H]C1=C([C@]2(C(=C(C1=O)[H])C(C([C@@]3([C@@]2([C@@](C([C@]4([C@]3(C([C@@]5([C@]4(N=C(O5)C([H])([H])[H])C(=O)C([H])([H])OC(=O)C([H])([H])[H])[H])([H])[H])[H])C([H])([H])[H])([H])[H])([H])O[H])[H])[H])([H])[H])([H])[H])C([H])([H])[H])[H]': ['cc1=n[c@@]2([c@h](o1)c[c@@h]3[c@@]2(c[c@@h]([c@h]4[c@h]3ccc5=cc(=o)c=c[c@]45c)o)c)c(=o)coc(=o)c-0',\n",
       "              'cc1=n[c@@]2([c@h](o1)c[c@@h]3[c@@]2(c[c@@h]([c@h]4[c@h]3ccc5=cc(=o)c=c[c@]45c)o)c)c(=o)coc(=o)c-1',\n",
       "              'cc1=n[c@@]2([c@h](o1)c[c@@h]3[c@@]2(c[c@@h]([c@h]4[c@h]3ccc5=cc(=o)c=c[c@]45c)o)c)c(=o)coc(=o)c-2',\n",
       "              'cc1=n[c@@]2([c@h](o1)c[c@@h]3[c@@]2(c[c@@h]([c@h]4[c@h]3ccc5=cc(=o)c=c[c@]45c)o)c)c(=o)coc(=o)c-3',\n",
       "              'cc1=n[c@@]2([c@h](o1)c[c@@h]3[c@@]2(c[c@@h]([c@h]4[c@h]3ccc5=cc(=o)c=c[c@]45c)o)c)c(=o)coc(=o)c-4',\n",
       "              'cc1=n[c@@]2([c@h](o1)c[c@@h]3[c@@]2(c[c@@h]([c@h]4[c@h]3ccc5=cc(=o)c=c[c@]45c)o)c)c(=o)coc(=o)c-5',\n",
       "              'cc1=n[c@@]2([c@h](o1)c[c@@h]3[c@@]2(c[c@@h]([c@h]4[c@h]3ccc5=cc(=o)c=c[c@]45c)o)c)c(=o)coc(=o)c-6'],\n",
       "             '[H]C([H])([H])C(=O)N([H])O[H]': ['cc(=o)no-0'],\n",
       "             '[H]C([H])([H])C(=O)N([H])[O-]': ['cc(=o)n[o-]-0'],\n",
       "             '[H]c1c(c(c(c(c1[H])[H])N2C(=O)C(=C(N2[H])C([H])([H])[H])[H])[H])[H]': ['cc1cc(=o)n([nh]1)c2ccccc2-0'],\n",
       "             '[H]c1c(c(c(c(c1[H])[H])N2C(=O)C(=C([N-]2)C([H])([H])[H])[H])[H])[H]': ['cc1cc(=o)n([n-]1)c2ccccc2-0'],\n",
       "             '[H]C(=C([H])[C@]1([C@@]([C@]([C@@]23[C@@](C(=O)C(C2([H])[H])([H])[H])([C@@]([C@](C(C3([H])[H])([H])[H])([H])C([H])([H])[H])([C@](C1([H])[H])([H])OC(=O)C([H])([H])SC4(C([C@]5(C(C([C@@](C4([H])[H])([N+]5([H])C([H])([H])[H])[H])([H])[H])([H])[H])[H])([H])[H])[H])C([H])([H])[H])[H])([H])C([H])([H])[H])([H])O[H])C([H])([H])[H])[H]': ['c[c@@h]1cc[c@@]23ccc(=o)[c@h]2[c@@]1([c@@h](c[c@@]([c@h]([c@@h]3c)o)(c)c=c)oc(=o)csc4c[c@h]5cc[c@@h](c4)[nh+]5c)c-0',\n",
       "              'c[c@@h]1cc[c@@]23ccc(=o)[c@h]2[c@@]1([c@@h](c[c@@]([c@h]([c@@h]3c)o)(c)c=c)oc(=o)csc4c[c@h]5cc[c@@h](c4)[nh+]5c)c-1',\n",
       "              'c[c@@h]1cc[c@@]23ccc(=o)[c@h]2[c@@]1([c@@h](c[c@@]([c@h]([c@@h]3c)o)(c)c=c)oc(=o)csc4c[c@h]5cc[c@@h](c4)[nh+]5c)c-2',\n",
       "              'c[c@@h]1cc[c@@]23ccc(=o)[c@h]2[c@@]1([c@@h](c[c@@]([c@h]([c@@h]3c)o)(c)c=c)oc(=o)csc4c[c@h]5cc[c@@h](c4)[nh+]5c)c-3',\n",
       "              'c[c@@h]1cc[c@@]23ccc(=o)[c@h]2[c@@]1([c@@h](c[c@@]([c@h]([c@@h]3c)o)(c)c=c)oc(=o)csc4c[c@h]5cc[c@@h](c4)[nh+]5c)c-4',\n",
       "              'c[c@@h]1cc[c@@]23ccc(=o)[c@h]2[c@@]1([c@@h](c[c@@]([c@h]([c@@h]3c)o)(c)c=c)oc(=o)csc4c[c@h]5cc[c@@h](c4)[nh+]5c)c-6',\n",
       "              'c[c@@h]1cc[c@@]23ccc(=o)[c@h]2[c@@]1([c@@h](c[c@@]([c@h]([c@@h]3c)o)(c)c=c)oc(=o)csc4c[c@h]5cc[c@@h](c4)[nh+]5c)c-7',\n",
       "              'c[c@@h]1cc[c@@]23ccc(=o)[c@h]2[c@@]1([c@@h](c[c@@]([c@h]([c@@h]3c)o)(c)c=c)oc(=o)csc4c[c@h]5cc[c@@h](c4)[nh+]5c)c-8',\n",
       "              'c[c@@h]1cc[c@@]23ccc(=o)[c@h]2[c@@]1([c@@h](c[c@@]([c@h]([c@@h]3c)o)(c)c=c)oc(=o)csc4c[c@h]5cc[c@@h](c4)[nh+]5c)c-9',\n",
       "              'c[c@@h]1cc[c@@]23ccc(=o)[c@h]2[c@@]1([c@@h](c[c@@]([c@h]([c@@h]3c)o)(c)c=c)oc(=o)csc4c[c@h]5cc[c@@h](c4)[nh+]5c)c-10',\n",
       "              'c[c@@h]1cc[c@@]23ccc(=o)[c@h]2[c@@]1([c@@h](c[c@@]([c@h]([c@@h]3c)o)(c)c=c)oc(=o)csc4c[c@h]5cc[c@@h](c4)[nh+]5c)c-11',\n",
       "              'c[c@@h]1cc[c@@]23ccc(=o)[c@h]2[c@@]1([c@@h](c[c@@]([c@h]([c@@h]3c)o)(c)c=c)oc(=o)csc4c[c@h]5cc[c@@h](c4)[nh+]5c)c-13',\n",
       "              'c[c@@h]1cc[c@@]23ccc(=o)[c@h]2[c@@]1([c@@h](c[c@@]([c@h]([c@@h]3c)o)(c)c=c)oc(=o)csc4c[c@h]5cc[c@@h](c4)[nh+]5c)c-14',\n",
       "              'c[c@@h]1cc[c@@]23ccc(=o)[c@h]2[c@@]1([c@@h](c[c@@]([c@h]([c@@h]3c)o)(c)c=c)oc(=o)csc4c[c@h]5cc[c@@h](c4)[nh+]5c)c-15',\n",
       "              'c[c@@h]1cc[c@@]23ccc(=o)[c@h]2[c@@]1([c@@h](c[c@@]([c@h]([c@@h]3c)o)(c)c=c)oc(=o)csc4c[c@h]5cc[c@@h](c4)[nh+]5c)c-16',\n",
       "              'c[c@@h]1cc[c@@]23ccc(=o)[c@h]2[c@@]1([c@@h](c[c@@]([c@h]([c@@h]3c)o)(c)c=c)oc(=o)csc4c[c@h]5cc[c@@h](c4)[nh+]5c)c-17',\n",
       "              'c[c@@h]1cc[c@@]23ccc(=o)[c@h]2[c@@]1([c@@h](c[c@@]([c@h]([c@@h]3c)o)(c)c=c)oc(=o)csc4c[c@h]5cc[c@@h](c4)[nh+]5c)c-18',\n",
       "              'c[c@@h]1cc[c@@]23ccc(=o)[c@h]2[c@@]1([c@@h](c[c@@]([c@h]([c@@h]3c)o)(c)c=c)oc(=o)csc4c[c@h]5cc[c@@h](c4)[nh+]5c)c-19',\n",
       "              'c[c@@h]1cc[c@@]23ccc(=o)[c@h]2[c@@]1([c@@h](c[c@@]([c@h]([c@@h]3c)o)(c)c=c)oc(=o)csc4c[c@h]5cc[c@@h](c4)[nh+]5c)c-20',\n",
       "              'c[c@@h]1cc[c@@]23ccc(=o)[c@h]2[c@@]1([c@@h](c[c@@]([c@h]([c@@h]3c)o)(c)c=c)oc(=o)csc4c[c@h]5cc[c@@h](c4)[nh+]5c)c-21',\n",
       "              'c[c@@h]1cc[c@@]23ccc(=o)[c@h]2[c@@]1([c@@h](c[c@@]([c@h]([c@@h]3c)o)(c)c=c)oc(=o)csc4c[c@h]5cc[c@@h](c4)[nh+]5c)c-22',\n",
       "              'c[c@@h]1cc[c@@]23ccc(=o)[c@h]2[c@@]1([c@@h](c[c@@]([c@h]([c@@h]3c)o)(c)c=c)oc(=o)csc4c[c@h]5cc[c@@h](c4)[nh+]5c)c-23',\n",
       "              'c[c@@h]1cc[c@@]23ccc(=o)[c@h]2[c@@]1([c@@h](c[c@@]([c@h]([c@@h]3c)o)(c)c=c)oc(=o)csc4c[c@h]5cc[c@@h](c4)[nh+]5c)c-24',\n",
       "              'c[c@@h]1cc[c@@]23ccc(=o)[c@h]2[c@@]1([c@@h](c[c@@]([c@h]([c@@h]3c)o)(c)c=c)oc(=o)csc4c[c@h]5cc[c@@h](c4)[nh+]5c)c-26',\n",
       "              'c[c@@h]1cc[c@@]23ccc(=o)[c@h]2[c@@]1([c@@h](c[c@@]([c@h]([c@@h]3c)o)(c)c=c)oc(=o)csc4c[c@h]5cc[c@@h](c4)[nh+]5c)c-27',\n",
       "              'c[c@@h]1cc[c@@]23ccc(=o)[c@h]2[c@@]1([c@@h](c[c@@]([c@h]([c@@h]3c)o)(c)c=c)oc(=o)csc4c[c@h]5cc[c@@h](c4)[nh+]5c)c-28',\n",
       "              'c[c@@h]1cc[c@@]23ccc(=o)[c@h]2[c@@]1([c@@h](c[c@@]([c@h]([c@@h]3c)o)(c)c=c)oc(=o)csc4c[c@h]5cc[c@@h](c4)[nh+]5c)c-29',\n",
       "              'c[c@@h]1cc[c@@]23ccc(=o)[c@h]2[c@@]1([c@@h](c[c@@]([c@h]([c@@h]3c)o)(c)c=c)oc(=o)csc4c[c@h]5cc[c@@h](c4)[nh+]5c)c-30',\n",
       "              'c[c@@h]1cc[c@@]23ccc(=o)[c@h]2[c@@]1([c@@h](c[c@@]([c@h]([c@@h]3c)o)(c)c=c)oc(=o)csc4c[c@h]5cc[c@@h](c4)[nh+]5c)c-31',\n",
       "              'c[c@@h]1cc[c@@]23ccc(=o)[c@h]2[c@@]1([c@@h](c[c@@]([c@h]([c@@h]3c)o)(c)c=c)oc(=o)csc4c[c@h]5cc[c@@h](c4)[nh+]5c)c-33',\n",
       "              'c[c@@h]1cc[c@@]23ccc(=o)[c@h]2[c@@]1([c@@h](c[c@@]([c@h]([c@@h]3c)o)(c)c=c)oc(=o)csc4c[c@h]5cc[c@@h](c4)[nh+]5c)c-34',\n",
       "              'c[c@@h]1cc[c@@]23ccc(=o)[c@h]2[c@@]1([c@@h](c[c@@]([c@h]([c@@h]3c)o)(c)c=c)oc(=o)csc4c[c@h]5cc[c@@h](c4)[nh+]5c)c-35',\n",
       "              'c[c@@h]1cc[c@@]23ccc(=o)[c@h]2[c@@]1([c@@h](c[c@@]([c@h]([c@@h]3c)o)(c)c=c)oc(=o)csc4c[c@h]5cc[c@@h](c4)[nh+]5c)c-36',\n",
       "              'c[c@@h]1cc[c@@]23ccc(=o)[c@h]2[c@@]1([c@@h](c[c@@]([c@h]([c@@h]3c)o)(c)c=c)oc(=o)csc4c[c@h]5cc[c@@h](c4)[nh+]5c)c-37',\n",
       "              'c[c@@h]1cc[c@@]23ccc(=o)[c@h]2[c@@]1([c@@h](c[c@@]([c@h]([c@@h]3c)o)(c)c=c)oc(=o)csc4c[c@h]5cc[c@@h](c4)[nh+]5c)c-38',\n",
       "              'c[c@@h]1cc[c@@]23ccc(=o)[c@h]2[c@@]1([c@@h](c[c@@]([c@h]([c@@h]3c)o)(c)c=c)oc(=o)csc4c[c@h]5cc[c@@h](c4)[nh+]5c)c-39',\n",
       "              'c[c@@h]1cc[c@@]23ccc(=o)[c@h]2[c@@]1([c@@h](c[c@@]([c@h]([c@@h]3c)o)(c)c=c)oc(=o)csc4c[c@h]5cc[c@@h](c4)[nh+]5c)c-40',\n",
       "              'c[c@@h]1cc[c@@]23ccc(=o)[c@h]2[c@@]1([c@@h](c[c@@]([c@h]([c@@h]3c)o)(c)c=c)oc(=o)csc4c[c@h]5cc[c@@h](c4)[nh+]5c)c-41',\n",
       "              'c[c@@h]1cc[c@@]23ccc(=o)[c@h]2[c@@]1([c@@h](c[c@@]([c@h]([c@@h]3c)o)(c)c=c)oc(=o)csc4c[c@h]5cc[c@@h](c4)[nh+]5c)c-42',\n",
       "              'c[c@@h]1cc[c@@]23ccc(=o)[c@h]2[c@@]1([c@@h](c[c@@]([c@h]([c@@h]3c)o)(c)c=c)oc(=o)csc4c[c@h]5cc[c@@h](c4)[nh+]5c)c-43',\n",
       "              'c[c@@h]1cc[c@@]23ccc(=o)[c@h]2[c@@]1([c@@h](c[c@@]([c@h]([c@@h]3c)o)(c)c=c)oc(=o)csc4c[c@h]5cc[c@@h](c4)[nh+]5c)c-44',\n",
       "              'c[c@@h]1cc[c@@]23ccc(=o)[c@h]2[c@@]1([c@@h](c[c@@]([c@h]([c@@h]3c)o)(c)c=c)oc(=o)csc4c[c@h]5cc[c@@h](c4)[nh+]5c)c-46',\n",
       "              'c[c@@h]1cc[c@@]23ccc(=o)[c@h]2[c@@]1([c@@h](c[c@@]([c@h]([c@@h]3c)o)(c)c=c)oc(=o)csc4c[c@h]5cc[c@@h](c4)[nh+]5c)c-47',\n",
       "              'c[c@@h]1cc[c@@]23ccc(=o)[c@h]2[c@@]1([c@@h](c[c@@]([c@h]([c@@h]3c)o)(c)c=c)oc(=o)csc4c[c@h]5cc[c@@h](c4)[nh+]5c)c-48',\n",
       "              'c[c@@h]1cc[c@@]23ccc(=o)[c@h]2[c@@]1([c@@h](c[c@@]([c@h]([c@@h]3c)o)(c)c=c)oc(=o)csc4c[c@h]5cc[c@@h](c4)[nh+]5c)c-49',\n",
       "              'c[c@@h]1cc[c@@]23ccc(=o)[c@h]2[c@@]1([c@@h](c[c@@]([c@h]([c@@h]3c)o)(c)c=c)oc(=o)csc4c[c@h]5cc[c@@h](c4)[nh+]5c)c-50',\n",
       "              'c[c@@h]1cc[c@@]23ccc(=o)[c@h]2[c@@]1([c@@h](c[c@@]([c@h]([c@@h]3c)o)(c)c=c)oc(=o)csc4c[c@h]5cc[c@@h](c4)[nh+]5c)c-51',\n",
       "              'c[c@@h]1cc[c@@]23ccc(=o)[c@h]2[c@@]1([c@@h](c[c@@]([c@h]([c@@h]3c)o)(c)c=c)oc(=o)csc4c[c@h]5cc[c@@h](c4)[nh+]5c)c-53',\n",
       "              'c[c@@h]1cc[c@@]23ccc(=o)[c@h]2[c@@]1([c@@h](c[c@@]([c@h]([c@@h]3c)o)(c)c=c)oc(=o)csc4c[c@h]5cc[c@@h](c4)[nh+]5c)c-54',\n",
       "              'c[c@@h]1cc[c@@]23ccc(=o)[c@h]2[c@@]1([c@@h](c[c@@]([c@h]([c@@h]3c)o)(c)c=c)oc(=o)csc4c[c@h]5cc[c@@h](c4)[nh+]5c)c-55',\n",
       "              'c[c@@h]1cc[c@@]23ccc(=o)[c@h]2[c@@]1([c@@h](c[c@@]([c@h]([c@@h]3c)o)(c)c=c)oc(=o)csc4c[c@h]5cc[c@@h](c4)[nh+]5c)c-56',\n",
       "              'c[c@@h]1cc[c@@]23ccc(=o)[c@h]2[c@@]1([c@@h](c[c@@]([c@h]([c@@h]3c)o)(c)c=c)oc(=o)csc4c[c@h]5cc[c@@h](c4)[nh+]5c)c-57',\n",
       "              'c[c@@h]1cc[c@@]23ccc(=o)[c@h]2[c@@]1([c@@h](c[c@@]([c@h]([c@@h]3c)o)(c)c=c)oc(=o)csc4c[c@h]5cc[c@@h](c4)[nh+]5c)c-58',\n",
       "              'c[c@@h]1cc[c@@]23ccc(=o)[c@h]2[c@@]1([c@@h](c[c@@]([c@h]([c@@h]3c)o)(c)c=c)oc(=o)csc4c[c@h]5cc[c@@h](c4)[nh+]5c)c-59',\n",
       "              'c[c@@h]1cc[c@@]23ccc(=o)[c@h]2[c@@]1([c@@h](c[c@@]([c@h]([c@@h]3c)o)(c)c=c)oc(=o)csc4c[c@h]5cc[c@@h](c4)[nh+]5c)c-60',\n",
       "              'c[c@@h]1cc[c@@]23ccc(=o)[c@h]2[c@@]1([c@@h](c[c@@]([c@h]([c@@h]3c)o)(c)c=c)oc(=o)csc4c[c@h]5cc[c@@h](c4)[nh+]5c)c-61',\n",
       "              'c[c@@h]1cc[c@@]23ccc(=o)[c@h]2[c@@]1([c@@h](c[c@@]([c@h]([c@@h]3c)o)(c)c=c)oc(=o)csc4c[c@h]5cc[c@@h](c4)[nh+]5c)c-62',\n",
       "              'c[c@@h]1cc[c@@]23ccc(=o)[c@h]2[c@@]1([c@@h](c[c@@]([c@h]([c@@h]3c)o)(c)c=c)oc(=o)csc4c[c@h]5cc[c@@h](c4)[nh+]5c)c-63',\n",
       "              'c[c@@h]1cc[c@@]23ccc(=o)[c@h]2[c@@]1([c@@h](c[c@@]([c@h]([c@@h]3c)o)(c)c=c)oc(=o)csc4c[c@h]5cc[c@@h](c4)[nh+]5c)c-64',\n",
       "              'c[c@@h]1cc[c@@]23ccc(=o)[c@h]2[c@@]1([c@@h](c[c@@]([c@h]([c@@h]3c)o)(c)c=c)oc(=o)csc4c[c@h]5cc[c@@h](c4)[nh+]5c)c-66',\n",
       "              'c[c@@h]1cc[c@@]23ccc(=o)[c@h]2[c@@]1([c@@h](c[c@@]([c@h]([c@@h]3c)o)(c)c=c)oc(=o)csc4c[c@h]5cc[c@@h](c4)[nh+]5c)c-67',\n",
       "              'c[c@@h]1cc[c@@]23ccc(=o)[c@h]2[c@@]1([c@@h](c[c@@]([c@h]([c@@h]3c)o)(c)c=c)oc(=o)csc4c[c@h]5cc[c@@h](c4)[nh+]5c)c-68',\n",
       "              'c[c@@h]1cc[c@@]23ccc(=o)[c@h]2[c@@]1([c@@h](c[c@@]([c@h]([c@@h]3c)o)(c)c=c)oc(=o)csc4c[c@h]5cc[c@@h](c4)[nh+]5c)c-69',\n",
       "              'c[c@@h]1cc[c@@]23ccc(=o)[c@h]2[c@@]1([c@@h](c[c@@]([c@h]([c@@h]3c)o)(c)c=c)oc(=o)csc4c[c@h]5cc[c@@h](c4)[nh+]5c)c-70',\n",
       "              'c[c@@h]1cc[c@@]23ccc(=o)[c@h]2[c@@]1([c@@h](c[c@@]([c@h]([c@@h]3c)o)(c)c=c)oc(=o)csc4c[c@h]5cc[c@@h](c4)[nh+]5c)c-71',\n",
       "              'c[c@@h]1cc[c@@]23ccc(=o)[c@h]2[c@@]1([c@@h](c[c@@]([c@h]([c@@h]3c)o)(c)c=c)oc(=o)csc4c[c@h]5cc[c@@h](c4)[nh+]5c)c-73',\n",
       "              'c[c@@h]1cc[c@@]23ccc(=o)[c@h]2[c@@]1([c@@h](c[c@@]([c@h]([c@@h]3c)o)(c)c=c)oc(=o)csc4c[c@h]5cc[c@@h](c4)[nh+]5c)c-74',\n",
       "              'c[c@@h]1cc[c@@]23ccc(=o)[c@h]2[c@@]1([c@@h](c[c@@]([c@h]([c@@h]3c)o)(c)c=c)oc(=o)csc4c[c@h]5cc[c@@h](c4)[nh+]5c)c-75',\n",
       "              'c[c@@h]1cc[c@@]23ccc(=o)[c@h]2[c@@]1([c@@h](c[c@@]([c@h]([c@@h]3c)o)(c)c=c)oc(=o)csc4c[c@h]5cc[c@@h](c4)[nh+]5c)c-76',\n",
       "              'c[c@@h]1cc[c@@]23ccc(=o)[c@h]2[c@@]1([c@@h](c[c@@]([c@h]([c@@h]3c)o)(c)c=c)oc(=o)csc4c[c@h]5cc[c@@h](c4)[nh+]5c)c-77',\n",
       "              'c[c@@h]1cc[c@@]23ccc(=o)[c@h]2[c@@]1([c@@h](c[c@@]([c@h]([c@@h]3c)o)(c)c=c)oc(=o)csc4c[c@h]5cc[c@@h](c4)[nh+]5c)c-78',\n",
       "              'c[c@@h]1cc[c@@]23ccc(=o)[c@h]2[c@@]1([c@@h](c[c@@]([c@h]([c@@h]3c)o)(c)c=c)oc(=o)csc4c[c@h]5cc[c@@h](c4)[nh+]5c)c-79'],\n",
       "             '[H]c1c2c(c(c(c1F)N3C(C([N+](C(C3([H])[H])([H])[H])([H])[H])([H])[H])([H])[H])[H])N(C(=C(C2=O)C(=O)[O-])[H])C4(C(C4([H])[H])([H])[H])[H]': ['c1c2c(cc(c1f)n3cc[nh2+]cc3)n(cc(c2=o)c(=o)[o-])c4cc4-0',\n",
       "              'c1c2c(cc(c1f)n3cc[nh2+]cc3)n(cc(c2=o)c(=o)[o-])c4cc4-1',\n",
       "              'c1c2c(cc(c1f)n3cc[nh2+]cc3)n(cc(c2=o)c(=o)[o-])c4cc4-2'],\n",
       "             '[H]c1c2c(c(c(c1F)N3C(C(N(C(C3([H])[H])([H])[H])[H])([H])[H])([H])[H])[H])N(C(=C(C2=O)C(=O)[O-])[H])C4(C(C4([H])[H])([H])[H])[H]': ['c1c2c(cc(c1f)n3ccncc3)n(cc(c2=o)c(=o)[o-])c4cc4-0',\n",
       "              'c1c2c(cc(c1f)n3ccncc3)n(cc(c2=o)c(=o)[o-])c4cc4-1',\n",
       "              'c1c2c(cc(c1f)n3ccncc3)n(cc(c2=o)c(=o)[o-])c4cc4-2'],\n",
       "             '[H]c1c(c(c(c(c1C(C([H])([H])[H])(C([H])([H])[H])C([H])([H])[H])O[H])C([H])([H])[H])C([H])([H])[C+]2N(C(C(N2[H])([H])[H])([H])[H])[H])C([H])([H])[H]': ['cc1cc(c(c(c1c[c+]2nccn2)c)o)c(c)(c)c-0',\n",
       "              'cc1cc(c(c(c1c[c+]2nccn2)c)o)c(c)(c)c-1'],\n",
       "             '[H]c1c(c(c(c(c1C([H])([H])[H])C([H])([H])[C+]2N(C(C(N2[H])([H])[H])([H])[H])[H])C([H])([H])[H])[H])C(C([H])([H])[H])(C([H])([H])[H])C([H])([H])[H]': ['cc1cc(cc(c1c[c+]2nccn2)c)c(c)(c)c-0'],\n",
       "             '[H]C([H])([H])S(=O)C([H])([H])[H]': ['cs(=o)c-0'],\n",
       "             '[H][C@](C1(C(=O)N(C(=O)N(C1=O)[H])[H])C([H])([H])C([H])([H])[H])(C([H])([H])[H])C([H])([H])C([H])([H])C([H])([H])[H]': ['ccc[c@h](c)c1(c(=o)nc(=o)nc1=o)cc-0',\n",
       "              'ccc[c@h](c)c1(c(=o)nc(=o)nc1=o)cc-1',\n",
       "              'ccc[c@h](c)c1(c(=o)nc(=o)nc1=o)cc-2',\n",
       "              'ccc[c@h](c)c1(c(=o)nc(=o)nc1=o)cc-3',\n",
       "              'ccc[c@h](c)c1(c(=o)nc(=o)nc1=o)cc-4'],\n",
       "             '[H][C@]([C@]1(C(=O)[N-]C(=O)N(C1=O)[H])C([H])([H])C([H])([H])[H])(C([H])([H])[H])C([H])([H])C([H])([H])C([H])([H])[H]': ['ccc[c@h](c)[c@@]1(c(=o)nc(=o)[n-]c1=o)cc-0',\n",
       "              'ccc[c@h](c)[c@@]1(c(=o)nc(=o)[n-]c1=o)cc-1',\n",
       "              'ccc[c@h](c)[c@@]1(c(=o)nc(=o)[n-]c1=o)cc-2',\n",
       "              'ccc[c@h](c)[c@@]1(c(=o)nc(=o)[n-]c1=o)cc-3',\n",
       "              'ccc[c@h](c)[c@@]1(c(=o)nc(=o)[n-]c1=o)cc-4'],\n",
       "             '[H]C(=O)C1=C(C([C@]2([C@](C1([H])[H])([C@@]3([C@]([C@]4([C@@]([C@@](C(C4([H])[H])([H])[H])(C([H])([H])[H])O[H])(C(C3([H])[H])([H])[H])C([H])([H])[H])[H])(C(C2([H])[H])([H])[H])[H])[H])C([H])([H])[H])[H])([H])[H])O[H]': ['c[c@]12cc[c@h]3[c@h]([c@@h]1cc[c@]2(c)o)cc[c@@h]4[c@@]3(cc(=c(c4)o)c=o)c-0'],\n",
       "             '[H]C1=C([C@@]2([C@@]3([C@]([C@]4([C@@]([C@@](C(C4([H])[H])([H])[H])([H])C(=O)N([H])C(C([H])([H])[H])(C([H])([H])[H])C([H])([H])[H])(C(C3([H])[H])([H])[H])C([H])([H])[H])[H])(C(C([C@]2(N(C1=O)[H])[H])([H])[H])([H])[H])[H])[H])C([H])([H])[H])[H]': ['c[c@]12cc[c@h]3[c@h]([c@@h]1cc[c@@h]2c(=o)nc(c)(c)c)cc[c@@h]4[c@@]3(c=cc(=o)n4)c-0',\n",
       "              'c[c@]12cc[c@h]3[c@h]([c@@h]1cc[c@@h]2c(=o)nc(c)(c)c)cc[c@@h]4[c@@]3(c=cc(=o)n4)c-1'],\n",
       "             '[H]c1c(c(c2c(c1[H])C3=C(N2C([H])([H])[H])C(C([C@@](C3=O)([H])C([H])([H])N4C(=C(N=C4C([H])([H])[H])[H])[H])([H])[H])([H])[H])[H])[H]': ['cc1nccn1c[c@@h]2ccc3c(c4ccccc4n3c)c2=o-0',\n",
       "              'cc1nccn1c[c@@h]2ccc3c(c4ccccc4n3c)c2=o-1',\n",
       "              'cc1nccn1c[c@@h]2ccc3c(c4ccccc4n3c)c2=o-2',\n",
       "              'cc1nccn1c[c@@h]2ccc3c(c4ccccc4n3c)c2=o-3',\n",
       "              'cc1nccn1c[c@@h]2ccc3c(c4ccccc4n3c)c2=o-4',\n",
       "              'cc1nccn1c[c@@h]2ccc3c(c4ccccc4n3c)c2=o-5',\n",
       "              'cc1nccn1c[c@@h]2ccc3c(c4ccccc4n3c)c2=o-6',\n",
       "              'cc1nccn1c[c@@h]2ccc3c(c4ccccc4n3c)c2=o-7'],\n",
       "             '[H]c1c(c(c2c(c1[H])C3=C(N2C([H])([H])[H])C(C([C@@](C3=O)([H])C([H])([H])N4C(=C(N([C+]4C([H])([H])[H])[H])[H])[H])([H])[H])([H])[H])[H])[H]': ['c[c+]1[nh]ccn1c[c@@h]2ccc3c(c4ccccc4n3c)c2=o-0',\n",
       "              'c[c+]1[nh]ccn1c[c@@h]2ccc3c(c4ccccc4n3c)c2=o-1',\n",
       "              'c[c+]1[nh]ccn1c[c@@h]2ccc3c(c4ccccc4n3c)c2=o-2',\n",
       "              'c[c+]1[nh]ccn1c[c@@h]2ccc3c(c4ccccc4n3c)c2=o-3',\n",
       "              'c[c+]1[nh]ccn1c[c@@h]2ccc3c(c4ccccc4n3c)c2=o-4',\n",
       "              'c[c+]1[nh]ccn1c[c@@h]2ccc3c(c4ccccc4n3c)c2=o-5',\n",
       "              'c[c+]1[nh]ccn1c[c@@h]2ccc3c(c4ccccc4n3c)c2=o-6'],\n",
       "             '[H][C@@]1(O[C@]2(C([N+]3(C(C(C2(C(C3([H])[H])([H])[H])[H])([H])[H])([H])[H])[H])([H])[H])C(S1)([H])[H])C([H])([H])[H]': ['c[c@h]1o[c@]2(c[nh+]3ccc2cc3)cs1-0'],\n",
       "             '[H][C@@]1(O[C@]2(C(N3C(C(C2(C(C3([H])[H])([H])[H])[H])([H])[H])([H])[H])([H])[H])C(S1)([H])[H])C([H])([H])[H]': ['c[c@h]1o[c@]2(cn3ccc2cc3)cs1-0'],\n",
       "             '[H]C1=C(C(=NN1c2nc3c(c(n2)N([H])[H])N=C(N3[C@]4([C@]([C@]([C@@](O4)([H])C([H])([H])O[H])([H])O[H])([H])O[H])[H])[H])[H])C(=O)N([H])C([H])([H])[H]': ['cnc(=o)c1cnn(c1)c2nc(c3c(n2)n(cn3)[c@h]4[c@@h]([c@@h]([c@h](o4)co)o)o)n-0',\n",
       "              'cnc(=o)c1cnn(c1)c2nc(c3c(n2)n(cn3)[c@h]4[c@@h]([c@@h]([c@h](o4)co)o)o)n-1',\n",
       "              'cnc(=o)c1cnn(c1)c2nc(c3c(n2)n(cn3)[c@h]4[c@@h]([c@@h]([c@h](o4)co)o)o)n-2',\n",
       "              'cnc(=o)c1cnn(c1)c2nc(c3c(n2)n(cn3)[c@h]4[c@@h]([c@@h]([c@h](o4)co)o)o)n-3',\n",
       "              'cnc(=o)c1cnn(c1)c2nc(c3c(n2)n(cn3)[c@h]4[c@@h]([c@@h]([c@h](o4)co)o)o)n-4',\n",
       "              'cnc(=o)c1cnn(c1)c2nc(c3c(n2)n(cn3)[c@h]4[c@@h]([c@@h]([c@h](o4)co)o)o)n-5',\n",
       "              'cnc(=o)c1cnn(c1)c2nc(c3c(n2)n(cn3)[c@h]4[c@@h]([c@@h]([c@h](o4)co)o)o)n-6',\n",
       "              'cnc(=o)c1cnn(c1)c2nc(c3c(n2)n(cn3)[c@h]4[c@@h]([c@@h]([c@h](o4)co)o)o)n-7',\n",
       "              'cnc(=o)c1cnn(c1)c2nc(c3c(n2)n(cn3)[c@h]4[c@@h]([c@@h]([c@h](o4)co)o)o)n-8',\n",
       "              'cnc(=o)c1cnn(c1)c2nc(c3c(n2)n(cn3)[c@h]4[c@@h]([c@@h]([c@h](o4)co)o)o)n-9',\n",
       "              'cnc(=o)c1cnn(c1)c2nc(c3c(n2)n(cn3)[c@h]4[c@@h]([c@@h]([c@h](o4)co)o)o)n-10',\n",
       "              'cnc(=o)c1cnn(c1)c2nc(c3c(n2)n(cn3)[c@h]4[c@@h]([c@@h]([c@h](o4)co)o)o)n-11',\n",
       "              'cnc(=o)c1cnn(c1)c2nc(c3c(n2)n(cn3)[c@h]4[c@@h]([c@@h]([c@h](o4)co)o)o)n-12',\n",
       "              'cnc(=o)c1cnn(c1)c2nc(c3c(n2)n(cn3)[c@h]4[c@@h]([c@@h]([c@h](o4)co)o)o)n-13',\n",
       "              'cnc(=o)c1cnn(c1)c2nc(c3c(n2)n(cn3)[c@h]4[c@@h]([c@@h]([c@h](o4)co)o)o)n-14',\n",
       "              'cnc(=o)c1cnn(c1)c2nc(c3c(n2)n(cn3)[c@h]4[c@@h]([c@@h]([c@h](o4)co)o)o)n-15',\n",
       "              'cnc(=o)c1cnn(c1)c2nc(c3c(n2)n(cn3)[c@h]4[c@@h]([c@@h]([c@h](o4)co)o)o)n-16',\n",
       "              'cnc(=o)c1cnn(c1)c2nc(c3c(n2)n(cn3)[c@h]4[c@@h]([c@@h]([c@h](o4)co)o)o)n-17',\n",
       "              'cnc(=o)c1cnn(c1)c2nc(c3c(n2)n(cn3)[c@h]4[c@@h]([c@@h]([c@h](o4)co)o)o)n-18',\n",
       "              'cnc(=o)c1cnn(c1)c2nc(c3c(n2)n(cn3)[c@h]4[c@@h]([c@@h]([c@h](o4)co)o)o)n-19'],\n",
       "             '[H]c1c(c(c(c2c1N(C(=O)O[C@]2(C#CC3(C(C3([H])[H])([H])[H])[H])C(F)(F)F)[H])[H])Cl)[H]': ['c1cc2c(cc1cl)[c@@](oc(=o)n2)(c#cc3cc3)c(f)(f)f-0'],\n",
       "             '[H]C1=NC([C@@](C2=C(N1[H])N([C+](N2[H])[H])[C@]3(C([C@]([C@@](O3)([H])C([H])([H])O[H])([H])O[H])([H])[H])[H])([H])O[H])([H])[H]': ['[ch+]1[nh]c2c(n1[c@h]3c[c@@h]([c@h](o3)co)o)nc=nc[c@h]2o-0',\n",
       "              '[ch+]1[nh]c2c(n1[c@h]3c[c@@h]([c@h](o3)co)o)nc=nc[c@h]2o-1',\n",
       "              '[ch+]1[nh]c2c(n1[c@h]3c[c@@h]([c@h](o3)co)o)nc=nc[c@h]2o-2',\n",
       "              '[ch+]1[nh]c2c(n1[c@h]3c[c@@h]([c@h](o3)co)o)nc=nc[c@h]2o-3',\n",
       "              '[ch+]1[nh]c2c(n1[c@h]3c[c@@h]([c@h](o3)co)o)nc=nc[c@h]2o-4',\n",
       "              '[ch+]1[nh]c2c(n1[c@h]3c[c@@h]([c@h](o3)co)o)nc=nc[c@h]2o-5',\n",
       "              '[ch+]1[nh]c2c(n1[c@h]3c[c@@h]([c@h](o3)co)o)nc=nc[c@h]2o-6',\n",
       "              '[ch+]1[nh]c2c(n1[c@h]3c[c@@h]([c@h](o3)co)o)nc=nc[c@h]2o-7',\n",
       "              '[ch+]1[nh]c2c(n1[c@h]3c[c@@h]([c@h](o3)co)o)nc=nc[c@h]2o-8',\n",
       "              '[ch+]1[nh]c2c(n1[c@h]3c[c@@h]([c@h](o3)co)o)nc=nc[c@h]2o-9',\n",
       "              '[ch+]1[nh]c2c(n1[c@h]3c[c@@h]([c@h](o3)co)o)nc=nc[c@h]2o-10',\n",
       "              '[ch+]1[nh]c2c(n1[c@h]3c[c@@h]([c@h](o3)co)o)nc=nc[c@h]2o-11',\n",
       "              '[ch+]1[nh]c2c(n1[c@h]3c[c@@h]([c@h](o3)co)o)nc=nc[c@h]2o-12',\n",
       "              '[ch+]1[nh]c2c(n1[c@h]3c[c@@h]([c@h](o3)co)o)nc=nc[c@h]2o-13',\n",
       "              '[ch+]1[nh]c2c(n1[c@h]3c[c@@h]([c@h](o3)co)o)nc=nc[c@h]2o-14',\n",
       "              '[ch+]1[nh]c2c(n1[c@h]3c[c@@h]([c@h](o3)co)o)nc=nc[c@h]2o-15',\n",
       "              '[ch+]1[nh]c2c(n1[c@h]3c[c@@h]([c@h](o3)co)o)nc=nc[c@h]2o-16',\n",
       "              '[ch+]1[nh]c2c(n1[c@h]3c[c@@h]([c@h](o3)co)o)nc=nc[c@h]2o-17',\n",
       "              '[ch+]1[nh]c2c(n1[c@h]3c[c@@h]([c@h](o3)co)o)nc=nc[c@h]2o-18']})"
      ]
     },
     "execution_count": 410,
     "metadata": {},
     "output_type": "execute_result"
    }
   ],
   "source": [
    "smiles_to_record_names"
   ]
  },
  {
   "cell_type": "code",
   "execution_count": 434,
   "metadata": {},
   "outputs": [
    {
     "data": {
      "text/plain": [
       "270"
      ]
     },
     "execution_count": 434,
     "metadata": {},
     "output_type": "execute_result"
    }
   ],
   "source": [
    "rs = smiles_to_record_names['[H]c1c(c(c(c(c1[C@]([H])(C([H])([H])[N+]([H])([H])C([H])([H])[H])O[H])[H])O[H])O[H])[H]']\n",
    "sum([len(all_mols_and_targets[r].xyz) for r in rs])"
   ]
  },
  {
   "cell_type": "code",
   "execution_count": 435,
   "metadata": {},
   "outputs": [
    {
     "data": {
      "text/plain": [
       "663"
      ]
     },
     "execution_count": 435,
     "metadata": {},
     "output_type": "execute_result"
    }
   ],
   "source": [
    "rs = smiles_to_record_names[biggest_energy_range_smiles]\n",
    "sum([len(all_mols_and_targets[r].xyz) for r in rs])"
   ]
  },
  {
   "cell_type": "code",
   "execution_count": null,
   "metadata": {},
   "outputs": [],
   "source": []
  },
  {
   "cell_type": "code",
   "execution_count": null,
   "metadata": {},
   "outputs": [],
   "source": []
  },
  {
   "cell_type": "code",
   "execution_count": 432,
   "metadata": {},
   "outputs": [
    {
     "data": {
      "text/plain": [
       "663"
      ]
     },
     "execution_count": 432,
     "metadata": {},
     "output_type": "execute_result"
    }
   ],
   "source": []
  },
  {
   "cell_type": "code",
   "execution_count": 413,
   "metadata": {},
   "outputs": [
    {
     "data": {
      "text/plain": [
       "270"
      ]
     },
     "execution_count": 413,
     "metadata": {},
     "output_type": "execute_result"
    }
   ],
   "source": [
    "sum([len(all_mols_and_targets[r].xyz) for r in rs])"
   ]
  },
  {
   "cell_type": "code",
   "execution_count": 414,
   "metadata": {},
   "outputs": [],
   "source": [
    "energies = np.hstack([all_mols_and_targets[r].energies for r in rs])"
   ]
  },
  {
   "cell_type": "code",
   "execution_count": 415,
   "metadata": {},
   "outputs": [
    {
     "data": {
      "text/plain": [
       "array([2.41125097e+01, 1.95680927e+01, 1.88667023e+01, 1.74033441e+01,\n",
       "       1.46200514e+01, 1.02608410e+01, 1.01041976e+01, 5.79177053e+00,\n",
       "       4.68206726e+00, 4.31496831e+00, 4.05245419e+00, 3.80705027e+00,\n",
       "       3.60315257e+00, 3.53917907e+00, 3.49395272e+00, 3.46850630e+00,\n",
       "       3.45978918e+00, 3.45687100e+00, 3.45631119e+00, 3.45592348e+00,\n",
       "       3.45547816e+00, 3.45507163e+00, 3.45490724e+00, 3.45493967e+00,\n",
       "       3.45512371e+00, 3.45512371e+00, 3.45565660e+00, 3.45649958e+00,\n",
       "       3.45701331e+00, 3.45608385e+00, 3.45543633e+00, 3.45587783e+00,\n",
       "       3.45631753e+00, 3.45679087e+00, 3.45719970e+00, 3.45683571e+00,\n",
       "       2.40405748e+01, 1.96733466e+01, 1.91540126e+01, 1.78005816e+01,\n",
       "       1.56383325e+01, 1.16882875e+01, 8.71654497e+00, 5.18433478e+00,\n",
       "       4.07703827e+00, 3.79941840e+00, 3.56023415e+00, 3.47495163e+00,\n",
       "       3.43276799e+00, 3.41004762e+00, 3.39731351e+00, 3.37865691e+00,\n",
       "       3.37228730e+00, 3.37088009e+00, 3.37071896e+00, 1.39698982e+01,\n",
       "       1.05190101e+01, 8.83545231e+00, 6.78964195e+00, 5.83951311e+00,\n",
       "       5.14456286e+00, 4.41130406e+00, 3.55925576e+00, 3.48928379e+00,\n",
       "       2.45346290e+00, 1.99901498e+00, 1.72916512e+00, 1.61040335e+00,\n",
       "       1.54766473e+00, 1.51572893e+00, 1.50766527e+00, 1.50375422e+00,\n",
       "       1.50194927e+00, 1.50109181e+00, 1.50064000e+00, 1.50036077e+00,\n",
       "       1.50014961e+00, 1.50006169e+00, 1.50009742e+00, 1.50016676e+00,\n",
       "       1.11992261e+01, 7.54186408e+00, 6.53202875e+00, 4.47081316e+00,\n",
       "       3.91072695e+00, 3.47028474e+00, 3.07181076e+00, 1.98200202e+00,\n",
       "       1.64876171e+00, 8.46359543e-01, 3.56145923e-01, 1.67677308e-01,\n",
       "       9.03166120e-02, 5.78955937e-02, 2.88780332e-02, 9.94706916e-03,\n",
       "       3.55929532e-03, 1.38947472e-03, 5.11243648e-04, 3.03658424e-04,\n",
       "       2.18293862e-04, 1.17131742e-04, 2.73101614e-05, 0.00000000e+00,\n",
       "       1.45695913e+01, 1.07546592e+01, 9.83391586e+00, 8.05955600e+00,\n",
       "       7.61460120e+00, 7.07864860e+00, 6.65533719e+00, 6.41046433e+00,\n",
       "       6.14984763e+00, 5.93398487e+00, 5.69062210e+00, 5.44384545e+00,\n",
       "       5.03725769e+00, 4.77397853e+00, 4.79804268e+00, 4.14568428e+00,\n",
       "       3.97458363e+00, 3.72327442e+00, 3.59832857e+00, 3.42632380e+00,\n",
       "       3.37848598e+00, 3.37299778e+00, 3.37149871e+00, 3.37107123e+00,\n",
       "       3.37054006e+00, 3.37039698e+00, 3.37043883e+00, 3.37049991e+00,\n",
       "       1.35345512e+01, 9.37139498e+00, 8.66827793e+00, 6.65070050e+00,\n",
       "       6.16398344e+00, 5.82678045e+00, 5.46748573e+00, 5.29711315e+00,\n",
       "       5.10362603e+00, 4.90098208e+00, 4.74073371e+00, 4.58052234e+00,\n",
       "       4.32412588e+00, 4.08319349e+00, 3.94268700e+00, 3.38287699e+00,\n",
       "       2.66789694e+00, 2.69970447e+00, 1.96612309e+00, 1.87409121e+00,\n",
       "       1.80968424e+00, 1.78166446e+00, 1.75513576e+00, 1.75010500e+00,\n",
       "       1.74912854e+00, 1.74904410e+00, 1.74907135e+00, 1.74919327e+00,\n",
       "       1.74934803e+00, 1.74940338e+00, 1.74938781e+00, 1.27453870e+01,\n",
       "       7.79518484e+00, 7.73602239e+00, 6.33296421e+00, 6.17779980e+00,\n",
       "       5.93693563e+00, 5.74975369e+00, 5.66159350e+00, 5.62981679e+00,\n",
       "       5.60078890e+00, 5.58108725e+00, 5.54759593e+00, 5.53153431e+00,\n",
       "       5.50929983e+00, 5.49315398e+00, 5.47824342e+00, 5.47215652e+00,\n",
       "       5.47098698e+00, 5.46973947e+00, 5.46966787e+00, 5.46888293e+00,\n",
       "       5.46889179e+00, 5.46878238e+00, 1.86255372e+01, 1.36620389e+01,\n",
       "       1.35205890e+01, 1.17322674e+01, 1.16177790e+01, 1.12804674e+01,\n",
       "       1.11030176e+01, 1.10174198e+01, 1.09789955e+01, 1.09414019e+01,\n",
       "       1.09168712e+01, 1.08884995e+01, 1.08826885e+01, 1.08800159e+01,\n",
       "       1.08767006e+01, 1.08733798e+01, 1.08716657e+01, 1.08705389e+01,\n",
       "       1.08699052e+01, 1.08697180e+01, 1.08698511e+01, 1.08698190e+01,\n",
       "       1.08700054e+01, 1.08701645e+01, 2.06797180e+01, 1.60591358e+01,\n",
       "       1.37275295e+01, 1.17807099e+01, 1.05368511e+01, 8.73150869e+00,\n",
       "       7.99103640e+00, 6.51067394e+00, 6.04411567e+00, 5.84601635e+00,\n",
       "       5.55815474e+00, 5.29415320e+00, 5.20128495e+00, 5.17025818e+00,\n",
       "       5.14375435e+00, 5.13928342e+00, 5.13403980e+00, 5.12991677e+00,\n",
       "       5.12665518e+00, 5.12526462e+00, 5.12490651e+00, 5.12505963e+00,\n",
       "       5.12580730e+00, 5.12731204e+00, 5.12621228e+00, 5.12597718e+00,\n",
       "       5.12602124e+00, 5.12623231e+00, 5.12642550e+00, 5.12639482e+00,\n",
       "       5.12596248e+00, 5.12568043e+00, 5.12552223e+00, 5.12537595e+00,\n",
       "       5.12530313e+00, 2.42319653e+01, 1.95578306e+01, 1.64321730e+01,\n",
       "       1.45321078e+01, 1.27160965e+01, 1.03139082e+01, 8.17859969e+00,\n",
       "       7.22083191e+00, 6.90987815e+00, 6.54135102e+00, 6.30135512e+00,\n",
       "       6.09346632e+00, 6.03469076e+00, 6.00527408e+00, 5.99656400e+00,\n",
       "       5.99019413e+00, 5.98514306e+00, 5.98228930e+00, 5.98135951e+00,\n",
       "       5.98099302e+00, 5.98065015e+00, 5.98030683e+00, 5.98010222e+00,\n",
       "       5.98001869e+00, 5.98000008e+00])"
      ]
     },
     "execution_count": 415,
     "metadata": {},
     "output_type": "execute_result"
    }
   ],
   "source": [
    "es = to_report_unit(energies)\n",
    "es -= np.min(es)\n",
    "es"
   ]
  },
  {
   "cell_type": "code",
   "execution_count": 416,
   "metadata": {},
   "outputs": [
    {
     "data": {
      "text/plain": [
       "[<matplotlib.lines.Line2D at 0x7ff16ebcf5d0>]"
      ]
     },
     "execution_count": 416,
     "metadata": {},
     "output_type": "execute_result"
    },
    {
     "data": {
      "image/png": "[encoded data removed]",
      "text/plain": [
       "<Figure size 432x288 with 1 Axes>"
      ]
     },
     "metadata": {
      "needs_background": "light"
     },
     "output_type": "display_data"
    }
   ],
   "source": [
    "plt.plot(es)"
   ]
  },
  {
   "cell_type": "code",
   "execution_count": 417,
   "metadata": {},
   "outputs": [],
   "source": [
    "min_energy = min(to_report_unit(energies))"
   ]
  },
  {
   "cell_type": "code",
   "execution_count": 418,
   "metadata": {},
   "outputs": [],
   "source": [
    "from seaborn import color_palette\n",
    "colors = color_palette('Blues', len(rs))"
   ]
  },
  {
   "cell_type": "code",
   "execution_count": 419,
   "metadata": {},
   "outputs": [
    {
     "data": {
      "image/png": "[encoded data removed]",
      "text/plain": [
       "<rdkit.Chem.rdchem.Mol at 0x7ff1873d9870>"
      ]
     },
     "metadata": {},
     "output_type": "display_data"
    }
   ],
   "source": [
    "all_mols_and_targets[rs[0]].offmol"
   ]
  },
  {
   "cell_type": "code",
   "execution_count": 420,
   "metadata": {},
   "outputs": [
    {
     "data": {
      "text/plain": [
       "Text(0, 0.5, 'relative energy (kilocalorie/mole)')"
      ]
     },
     "execution_count": 420,
     "metadata": {},
     "output_type": "execute_result"
    },
    {
     "data": {
      "image/png": "[encoded data removed]",
      "text/plain": [
       "<Figure size 432x288 with 1 Axes>"
      ]
     },
     "metadata": {
      "needs_background": "light"
     },
     "output_type": "display_data"
    }
   ],
   "source": [
    "for i, r in enumerate(rs):\n",
    "    relative_energies = to_report_unit(all_mols_and_targets[r].energies) - min_energy\n",
    "    plt.plot(relative_energies, c=colors[i])\n",
    "plt.xlabel('iteration')\n",
    "plt.ylabel(f'relative energy ({energy_unit_report})')"
   ]
  },
  {
   "cell_type": "code",
   "execution_count": 421,
   "metadata": {},
   "outputs": [
    {
     "data": {
      "text/plain": [
       "Text(0, 0.5, 'gradient norm')"
      ]
     },
     "execution_count": 421,
     "metadata": {},
     "output_type": "execute_result"
    },
    {
     "data": {
      "image/png": "[encoded data removed]",
      "text/plain": [
       "<Figure size 432x288 with 1 Axes>"
      ]
     },
     "metadata": {
      "needs_background": "light"
     },
     "output_type": "display_data"
    }
   ],
   "source": [
    "for i, r in enumerate(rs):\n",
    "    gradient_norms = np.linalg.norm(all_mols_and_targets[r].gradients, axis=(1, 2))\n",
    "    plt.plot(gradient_norms, c=colors[i])\n",
    "plt.yscale('log')\n",
    "plt.xlabel('iteration'); plt.ylabel('gradient norm')"
   ]
  },
  {
   "cell_type": "markdown",
   "metadata": {},
   "source": [
    "#### Let's do this for each of the smiles..."
   ]
  },
  {
   "cell_type": "code",
   "execution_count": 449,
   "metadata": {},
   "outputs": [],
   "source": [
    "from rdkit.Chem import Draw\n",
    "img_size = (600,600)\n",
    "\n",
    "smiles_list = list(smiles_to_record_names.keys())\n",
    "\n",
    "for i, smiles in enumerate(smiles_list):\n",
    "    record_name = smiles_to_record_names[smiles][0]\n",
    "    offmol = all_mols_and_targets[record_name].offmol\n",
    "    Draw.MolToFile(offmol.to_rdkit(), f\"figures/rdkit_{str(i).zfill(3)}.png\", size=img_size)"
   ]
  },
  {
   "cell_type": "code",
   "execution_count": 450,
   "metadata": {},
   "outputs": [
    {
     "data": {
      "text/plain": [
       "(561, 3)"
      ]
     },
     "execution_count": 450,
     "metadata": {},
     "output_type": "execute_result"
    }
   ],
   "source": [
    "len(smiles_list), len(colors)"
   ]
  },
  {
   "cell_type": "code",
   "execution_count": 451,
   "metadata": {},
   "outputs": [
    {
     "data": {
      "image/png": "[encoded data removed]",
      "text/plain": [
       "<Figure size 432x288 with 1 Axes>"
      ]
     },
     "metadata": {},
     "output_type": "display_data"
    }
   ],
   "source": [
    "import matplotlib.image as mpimg\n",
    "img = mpimg.imread(f\"figures/rdkit_{str(0).zfill(3)}.png\")\n",
    "ax = plt.subplot()\n",
    "ax.imshow(img)\n",
    "ax.set_xticks([]); ax.set_yticks([]);\n",
    "for d in ['left', 'right', 'top', 'bottom']:\n",
    "    ax.spines[d].set_visible(False)"
   ]
  },
  {
   "cell_type": "code",
   "execution_count": 452,
   "metadata": {},
   "outputs": [],
   "source": [
    "distance_unit_report = unit.angstrom"
   ]
  },
  {
   "cell_type": "code",
   "execution_count": 455,
   "metadata": {},
   "outputs": [],
   "source": [
    "for smiles_ind, smiles in enumerate(smiles_list[:10]):\n",
    "    rs = smiles_to_record_names[smiles]\n",
    "    colors = color_palette('Blues', len(rs))\n",
    "    \n",
    "    # TODO: include image of molecule in one panel\n",
    "    \n",
    "    plt.figure(figsize=(9,3))\n",
    "    \n",
    "    # molecule image\n",
    "    ax = plt.subplot(1,3,1)\n",
    "    img = mpimg.imread(f\"figures/rdkit_{str(smiles_ind).zfill(3)}.png\")\n",
    "    ax.imshow(img)\n",
    "    ax.set_xticks([]); ax.set_yticks([]);\n",
    "    for d in ['left', 'right', 'top', 'bottom']:\n",
    "        ax.spines[d].set_visible(False)\n",
    "\n",
    "    # relative energy\n",
    "    ax = plt.subplot(1,3,2)\n",
    "    plt.title('relative energy')\n",
    "    min_energy = min([min(to_report_unit(all_mols_and_targets[r].energies)) for r in rs])\n",
    "    for i, r in enumerate(rs):\n",
    "        energies = to_report_unit(all_mols_and_targets[r].energies)\n",
    "        relative_energies = energies - min_energy\n",
    "        plt.plot(relative_energies, c=colors[i])\n",
    "    plt.xlabel('iteration')\n",
    "    #plt.yscale('log')\n",
    "    plt.ylabel(f'relative energy\\n({energy_unit_report})')\n",
    "    for d in ['right', 'top']:\n",
    "        ax.spines[d].set_visible(False)\n",
    "    \n",
    "    # gradient norm\n",
    "    ax = plt.subplot(1,3,3)\n",
    "    plt.title('gradient norm')\n",
    "    for i, r in enumerate(rs):\n",
    "        gradient_norms = np.linalg.norm(all_mols_and_targets[r].gradients, axis=(1, 2))\n",
    "        plt.plot(to_report_unit(gradient_norms), c=colors[i])\n",
    "    plt.yscale('log')\n",
    "    plt.xlabel('iteration'); plt.ylabel(f'gradient norm\\n({energy_unit_report}/{distance_unit_report})')\n",
    "    for d in ['right', 'top']:\n",
    "        ax.spines[d].set_visible(False)\n",
    "    \n",
    "    plt.tight_layout()\n",
    "    plt.savefig(f\"figures/panels_{str(smiles_ind).zfill(3)}.jpg\", dpi=300, bbox_inches='tight')\n",
    "    plt.close()"
   ]
  },
  {
   "cell_type": "code",
   "execution_count": null,
   "metadata": {},
   "outputs": [],
   "source": []
  }
 ],
 "metadata": {
  "kernelspec": {
   "display_name": "Python [conda env:espaloma]",
   "language": "python",
   "name": "conda-env-espaloma-py"
  },
  "language_info": {
   "codemirror_mode": {
    "name": "ipython",
    "version": 3
   },
   "file_extension": ".py",
   "mimetype": "text/x-python",
   "name": "python",
   "nbconvert_exporter": "python",
   "pygments_lexer": "ipython3",
   "version": "3.7.8"
  }
 },
 "nbformat": 4,
 "nbformat_minor": 4
}
