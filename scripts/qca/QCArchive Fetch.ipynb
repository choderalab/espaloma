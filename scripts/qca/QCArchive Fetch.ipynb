{
 "cells": [
  {
   "cell_type": "markdown",
   "metadata": {},
   "source": [
    "### Attempt to download and save Pandas dataframes for all `OptimizationDataset`s, `TorsionDriveDataset`s, and `GridOptimizationDataset`s in QCArchive"
   ]
  },
  {
   "cell_type": "code",
   "execution_count": null,
   "metadata": {},
   "outputs": [],
   "source": [
    "import matplotlib.pyplot as plt\n",
    "import numpy as np\n",
    "from tqdm import tqdm\n",
    "\n",
    "from collections import namedtuple\n",
    "\n",
    "from typing import Tuple\n",
    "\n",
    "import qcportal\n",
    "from openforcefield.topology import Molecule"
   ]
  },
  {
   "cell_type": "markdown",
   "metadata": {},
   "source": [
    "#### Initialize FractalClient\n",
    "\n",
    "As documented here: http://docs.qcarchive.molssi.org/projects/QCPortal/en/stable/client.html"
   ]
  },
  {
   "cell_type": "code",
   "execution_count": 1,
   "metadata": {},
   "outputs": [
    {
     "data": {
      "text/html": [
       "\n",
       "<h3>FractalClient</h3>\n",
       "<ul>\n",
       "  <li><b>Server:   &nbsp; </b>The MolSSI QCArchive Server</li>\n",
       "  <li><b>Address:  &nbsp; </b>https://api.qcarchive.molssi.org:443/</li>\n",
       "  <li><b>Username: &nbsp; </b>None</li>\n",
       "</ul>\n"
      ],
      "text/plain": [
       "FractalClient(server_name='The MolSSI QCArchive Server', address='https://api.qcarchive.molssi.org:443/', username='None')"
      ]
     },
     "execution_count": 1,
     "metadata": {},
     "output_type": "execute_result"
    }
   ],
   "source": [
    "client = qcportal.FractalClient()\n",
    "client"
   ]
  },
  {
   "cell_type": "markdown",
   "metadata": {},
   "source": [
    "#### List all collections"
   ]
  },
  {
   "cell_type": "code",
   "execution_count": 3,
   "metadata": {
    "scrolled": true
   },
   "outputs": [
    {
     "name": "stdout",
     "output_type": "stream",
     "text": [
      "\"TorsionDriveDataset\" (35 datasets)\n",
      "\t0: \"Fragment Stability Benchmark\"\n",
      "\t1: \"Fragmenter paper\"\n",
      "\t2: \"OpenFF DANCE 1 eMolecules t142 v1.0\"\n",
      "\t3: \"OpenFF Fragmenter Validation 1.0\"\n",
      "\t4: \"OpenFF Full TorsionDrive Benchmark 1\"\n",
      "\t5: \"OpenFF Gen 2 Torsion Set 1 Roche\"\n",
      "\t6: \"OpenFF Gen 2 Torsion Set 1 Roche 2\"\n",
      "\t7: \"OpenFF Gen 2 Torsion Set 2 Coverage\"\n",
      "\t8: \"OpenFF Gen 2 Torsion Set 2 Coverage 2\"\n",
      "\t9: \"OpenFF Gen 2 Torsion Set 3 Pfizer Discrepancy\"\n",
      "\t10: \"OpenFF Gen 2 Torsion Set 3 Pfizer Discrepancy 2\"\n",
      "\t11: \"OpenFF Gen 2 Torsion Set 4 eMolecules Discrepancy\"\n",
      "\t12: \"OpenFF Gen 2 Torsion Set 4 eMolecules Discrepancy 2\"\n",
      "\t13: \"OpenFF Gen 2 Torsion Set 5 Bayer\"\n",
      "\t14: \"OpenFF Gen 2 Torsion Set 5 Bayer 2\"\n",
      "\t15: \"OpenFF Gen 2 Torsion Set 6 Supplemental\"\n",
      "\t16: \"OpenFF Gen 2 Torsion Set 6 Supplemental 2\"\n",
      "\t17: \"OpenFF Group1 Torsions\"\n",
      "\t18: \"OpenFF Group1 Torsions 2\"\n",
      "\t19: \"OpenFF Group1 Torsions 3\"\n",
      "\t20: \"OpenFF Primary Benchmark 1 Torsion Set\"\n",
      "\t21: \"OpenFF Primary Benchmark 2 Torsion Set\"\n",
      "\t22: \"OpenFF Primary TorsionDrive Benchmark 1\"\n",
      "\t23: \"OpenFF Protein Fragments TorsionDrives v1.0\"\n",
      "\t24: \"OpenFF Rowley Biaryl v1.0\"\n",
      "\t25: \"OpenFF Substituted Phenyl Set 1\"\n",
      "\t26: \"OpenFF Theory Benchmarking Set B3LYP-D3BJ DZVP v1.0\"\n",
      "\t27: \"OpenFF Theory Benchmarking Set B3LYP-D3BJ def2-TZVP v1.0\"\n",
      "\t28: \"OpenFF Theory Benchmarking Set B3LYP-D3BJ def2-TZVPD v1.0\"\n",
      "\t29: \"OpenFF Theory Benchmarking Set B3LYP-D3BJ def2-TZVPP v1.0\"\n",
      "\t30: \"OpenFF-benchmark-ligand-fragments-v1.0\"\n",
      "\t31: \"Pfizer Discrepancy Torsion Dataset 1\"\n",
      "\t32: \"SMIRNOFF Coverage Torsion Set 1\"\n",
      "\t33: \"SiliconTX Torsion Benchmark Set 1\"\n",
      "\t34: \"TorsionDrive Paper\"\n",
      "\"OptimizationDataset\" (23 datasets)\n",
      "\t0: \"FDA Optimization Dataset 1\"\n",
      "\t1: \"JGI Metabolite Set 1\"\n",
      "\t2: \"Kinase Inhibitors: WBO Distributions\"\n",
      "\t3: \"OpenFF Discrepancy Benchmark 1\"\n",
      "\t4: \"OpenFF Ehrman Informative Optimization v0.1\"\n",
      "\t5: \"OpenFF Ehrman Informative Optimization v0.2\"\n",
      "\t6: \"OpenFF Full Optimization Benchmark 1\"\n",
      "\t7: \"OpenFF Gen 2 Opt Set 1 Roche\"\n",
      "\t8: \"OpenFF Gen 2 Opt Set 2 Coverage\"\n",
      "\t9: \"OpenFF Gen 2 Opt Set 3 Pfizer Discrepancy\"\n",
      "\t10: \"OpenFF Gen 2 Opt Set 4 eMolecules Discrepancy\"\n",
      "\t11: \"OpenFF Gen 2 Opt Set 5 Bayer\"\n",
      "\t12: \"OpenFF NCI250K Boron 1\"\n",
      "\t13: \"OpenFF Optimization Set 1\"\n",
      "\t14: \"OpenFF Primary Optimization Benchmark 1\"\n",
      "\t15: \"OpenFF Protein Fragments v1.0\"\n",
      "\t16: \"OpenFF Protein Fragments v2.0\"\n",
      "\t17: \"OpenFF Sandbox CHO PhAlkEthOH v1.0\"\n",
      "\t18: \"OpenFF VEHICLe Set 1\"\n",
      "\t19: \"PEI\"\n",
      "\t20: \"Pfizer Discrepancy Optimization Dataset 1\"\n",
      "\t21: \"QM8-T\"\n",
      "\t22: \"SMIRNOFF Coverage Set 1\"\n",
      "\"GridOptimizationDataset\" (4 datasets)\n",
      "\t0: \"OpenFF Trivalent Nitrogen Set 1\"\n",
      "\t1: \"OpenFF Trivalent Nitrogen Set 1 (deprecated)\"\n",
      "\t2: \"OpenFF Trivalent Nitrogen Set 2\"\n",
      "\t3: \"OpenFF Trivalent Nitrogen Set 3\"\n",
      "\"Dataset\" (33 datasets)\n",
      "\t0: \"ANI-1\"\n",
      "\t1: \"ANI-1ccx\"\n",
      "\t2: \"ANI-1x\"\n",
      "\t3: \"COMP6 ANI-MD\"\n",
      "\t4: \"COMP6 DrugBank\"\n",
      "\t5: \"COMP6 GDB10to13\"\n",
      "\t6: \"COMP6 GDB7to9\"\n",
      "\t7: \"COMP6 S66x8\"\n",
      "\t8: \"COMP6 Tripeptides\"\n",
      "\t9: \"G-SchNet Generated\"\n",
      "\t10: \"GDB13-T\"\n",
      "\t11: \"GDML\"\n",
      "\t12: \"ISO-17\"\n",
      "\t13: \"OpenFF Discrepancy Benchmark 1\"\n",
      "\t14: \"OpenFF Gen 2 Opt Set 1 Roche\"\n",
      "\t15: \"OpenFF Gen 2 Opt Set 2 Coverage\"\n",
      "\t16: \"OpenFF Gen 2 Opt Set 3 Pfizer Discrepancy\"\n",
      "\t17: \"OpenFF Gen 2 Opt Set 4 eMolecules Discrepancy\"\n",
      "\t18: \"OpenFF Gen 2 Opt Set 5 Bayer\"\n",
      "\t19: \"OpenFF NCI250K Boron 1\"\n",
      "\t20: \"OpenFF Optimization Set 1\"\n",
      "\t21: \"OpenFF VEHICLe Set 1\"\n",
      "\t22: \"PC9\"\n",
      "\t23: \"PC9 (netural singlet subset)\"\n",
      "\t24: \"PC9 (neutral singlet subset)\"\n",
      "\t25: \"QM7\"\n",
      "\t26: \"QM7b\"\n",
      "\t27: \"QM7b-T\"\n",
      "\t28: \"QM9\"\n",
      "\t29: \"SMIRNOFF Coverage Set 1\"\n",
      "\t30: \"SN2 Reactions\"\n",
      "\t31: \"Solvated Protein Fragments\"\n",
      "\t32: \"TensorMol Water Clusters\"\n",
      "\"ReactionDataset\" (33 datasets)\n",
      "\t0: \"A21\"\n",
      "\t1: \"A24\"\n",
      "\t2: \"ACONF\"\n",
      "\t3: \"ASCDB\"\n",
      "\t4: \"AlkBind12\"\n",
      "\t5: \"AlkIsod14\"\n",
      "\t6: \"AlkIsomer11\"\n",
      "\t7: \"BH76RC\"\n",
      "\t8: \"BHPERI26\"\n",
      "\t9: \"BSR36\"\n",
      "\t10: \"Bauza30\"\n",
      "\t11: \"Butanediol65\"\n",
      "\t12: \"C20C24\"\n",
      "\t13: \"CYCONF\"\n",
      "\t14: \"DBH24\"\n",
      "\t15: \"DIE60\"\n",
      "\t16: \"DS14\"\n",
      "\t17: \"FmH2O10\"\n",
      "\t18: \"G21EA\"\n",
      "\t19: \"H2O16Rel5\"\n",
      "\t20: \"H2O17Rel4\"\n",
      "\t21: \"HB15\"\n",
      "\t22: \"HNBrBDE18\"\n",
      "\t23: \"HSG\"\n",
      "\t24: \"HTBH38\"\n",
      "\t25: \"MPCONF196\"\n",
      "\t26: \"NC15\"\n",
      "\t27: \"NHTBH38\"\n",
      "\t28: \"S22\"\n",
      "\t29: \"S66\"\n",
      "\t30: \"SSI\"\n",
      "\t31: \"X40\"\n",
      "\t32: \"YMPJ16\"\n"
     ]
    }
   ],
   "source": [
    "collections: dict = client.list_collections(aslist=True)\n",
    "for dataset_type in collections.keys():\n",
    "    dataset_names = sorted(collections[dataset_type])\n",
    "    print(f'\"{dataset_type}\" ({len(dataset_names)} datasets)')\n",
    "    for i, dataset_name in enumerate(dataset_names):\n",
    "        print(f'\\t{i}: \"{dataset_name}\"')"
   ]
  },
  {
   "cell_type": "markdown",
   "metadata": {},
   "source": [
    "#### TODO: Loop over `(dataset_type, dataset_name)` pairs"
   ]
  },
  {
   "cell_type": "markdown",
   "metadata": {},
   "source": [
    "#### Fetch dataset"
   ]
  },
  {
   "cell_type": "code",
   "execution_count": 4,
   "metadata": {},
   "outputs": [],
   "source": [
    "dataset_type = 'OptimizationDataset'\n",
    "dataset_name = 'OpenFF Full Optimization Benchmark 1'"
   ]
  },
  {
   "cell_type": "code",
   "execution_count": 5,
   "metadata": {},
   "outputs": [
    {
     "name": "stdout",
     "output_type": "stream",
     "text": [
      "['DataModel', '__abstractmethods__', '__class__', '__delattr__', '__dict__', '__dir__', '__doc__', '__eq__', '__format__', '__ge__', '__getattribute__', '__gt__', '__hash__', '__init__', '__init_subclass__', '__le__', '__lt__', '__module__', '__ne__', '__new__', '__reduce__', '__reduce_ex__', '__repr__', '__setattr__', '__sizeof__', '__slots__', '__str__', '__subclasshook__', '__weakref__', '_abc_impl', '_add_entry', '_add_molecules_by_dict', '_add_specification', '_check_client', '_check_entry_exists', '_get_index', '_get_procedure_ids', '_internal_compute_add', '_pre_save_prep', 'add_entry', 'add_specification', 'client', 'compute', 'counts', 'data', 'df', 'from_json', 'from_server', 'get_entry', 'get_record', 'get_specification', 'list_specifications', 'name', 'query', 'save', 'status', 'to_json']\n"
     ]
    }
   ],
   "source": [
    "ds = client.get_collection(dataset_type, dataset_name)\n",
    "print(dir(ds))"
   ]
  },
  {
   "cell_type": "code",
   "execution_count": 7,
   "metadata": {},
   "outputs": [
    {
     "data": {
      "text/plain": [
       "(qcportal.collections.optimization_dataset.OptimizationDataset, 26736)"
      ]
     },
     "execution_count": 7,
     "metadata": {},
     "output_type": "execute_result"
    }
   ],
   "source": [
    "type(ds), len(ds.df)"
   ]
  },
  {
   "cell_type": "code",
   "execution_count": 8,
   "metadata": {},
   "outputs": [
    {
     "data": {
      "text/html": [
       "<div>\n",
       "<style scoped>\n",
       "    .dataframe tbody tr th:only-of-type {\n",
       "        vertical-align: middle;\n",
       "    }\n",
       "\n",
       "    .dataframe tbody tr th {\n",
       "        vertical-align: top;\n",
       "    }\n",
       "\n",
       "    .dataframe thead th {\n",
       "        text-align: right;\n",
       "    }\n",
       "</style>\n",
       "<table border=\"1\" class=\"dataframe\">\n",
       "  <thead>\n",
       "    <tr style=\"text-align: right;\">\n",
       "      <th></th>\n",
       "      <th>Description</th>\n",
       "    </tr>\n",
       "    <tr>\n",
       "      <th>Name</th>\n",
       "      <th></th>\n",
       "    </tr>\n",
       "  </thead>\n",
       "  <tbody>\n",
       "    <tr>\n",
       "      <th>default</th>\n",
       "      <td>Standard OpenFF optimization quantum chemistry...</td>\n",
       "    </tr>\n",
       "  </tbody>\n",
       "</table>\n",
       "</div>"
      ],
      "text/plain": [
       "                                               Description\n",
       "Name                                                      \n",
       "default  Standard OpenFF optimization quantum chemistry..."
      ]
     },
     "execution_count": 8,
     "metadata": {},
     "output_type": "execute_result"
    }
   ],
   "source": [
    "ds.list_specifications()"
   ]
  },
  {
   "cell_type": "code",
   "execution_count": 9,
   "metadata": {},
   "outputs": [
    {
     "data": {
      "text/plain": [
       "['default']"
      ]
     },
     "execution_count": 9,
     "metadata": {},
     "output_type": "execute_result"
    }
   ],
   "source": [
    "specifications = ds.list_specifications(description=False)\n",
    "specifications"
   ]
  },
  {
   "cell_type": "code",
   "execution_count": 10,
   "metadata": {},
   "outputs": [],
   "source": [
    "# TODO: Also loop over specifications, in case there's more than one\n",
    "specification = specifications[0]"
   ]
  },
  {
   "cell_type": "code",
   "execution_count": 11,
   "metadata": {},
   "outputs": [
    {
     "name": "stdout",
     "output_type": "stream",
     "text": [
      "26736\n",
      "C[NH2+]C[C@@H](c1ccc(c(c1)O)O)O-0\n"
     ]
    }
   ],
   "source": [
    "index = list(ds.df.index)\n",
    "print(len(index))\n",
    "print(index[0])"
   ]
  },
  {
   "cell_type": "code",
   "execution_count": 13,
   "metadata": {},
   "outputs": [
    {
     "data": {
      "text/plain": [
       "<OptimizationDataset(name=`OpenFF Full Optimization Benchmark 1`, id='197', client='https://api.qcarchive.molssi.org:443/') >"
      ]
     },
     "execution_count": 13,
     "metadata": {},
     "output_type": "execute_result"
    }
   ],
   "source": [
    "ds"
   ]
  },
  {
   "cell_type": "code",
   "execution_count": 14,
   "metadata": {},
   "outputs": [
    {
     "data": {
      "text/plain": [
       "['c[nh2+]c[c@@h](c1ccc(c(c1)o)o)o-0',\n",
       " 'c[nh2+]c[c@@h](c1ccc(c(c1)o)o)o-1',\n",
       " 'c[nh2+]c[c@@h](c1ccc(c(c1)o)o)o-2',\n",
       " 'c[nh2+]c[c@@h](c1ccc(c(c1)o)o)o-3',\n",
       " 'c[nh2+]c[c@@h](c1ccc(c(c1)o)o)o-4',\n",
       " 'c[nh2+]c[c@@h](c1ccc(c(c1)o)o)o-5',\n",
       " 'c[nh2+]c[c@@h](c1ccc(c(c1)o)o)o-6',\n",
       " 'c[nh2+]c[c@@h](c1ccc(c(c1)o)o)o-7',\n",
       " 'c[nh2+]c[c@@h](c1ccc(c(c1)o)o)o-8',\n",
       " 'c[nh2+]c[c@@h](c1ccc(c(c1)o)o)o-9']"
      ]
     },
     "execution_count": 14,
     "metadata": {},
     "output_type": "execute_result"
    }
   ],
   "source": [
    "record_names = list(ds.data.records)\n",
    "record_names[:10]"
   ]
  },
  {
   "cell_type": "code",
   "execution_count": 39,
   "metadata": {},
   "outputs": [
    {
     "data": {
      "text/plain": [
       "('c[nh2+]c[c@@h](c1ccc(c(c1)o)o)o-0', 'C[NH2+]C[C@@H](c1ccc(c(c1)O)O)O-0')"
      ]
     },
     "execution_count": 39,
     "metadata": {},
     "output_type": "execute_result"
    }
   ],
   "source": [
    "i = 0\n",
    "record_name = record_names[i]\n",
    "ind = index[i]\n",
    "record_name, ind"
   ]
  },
  {
   "cell_type": "code",
   "execution_count": 40,
   "metadata": {},
   "outputs": [
    {
     "data": {
      "text/plain": [
       "qcportal.models.records.OptimizationRecord"
      ]
     },
     "execution_count": 40,
     "metadata": {},
     "output_type": "execute_result"
    }
   ],
   "source": [
    "record = ds.get_record(record_name, specification)\n",
    "type(record)"
   ]
  },
  {
   "cell_type": "code",
   "execution_count": 41,
   "metadata": {},
   "outputs": [
    {
     "name": "stdout",
     "output_type": "stream",
     "text": [
      "['Config', '__abstractmethods__', '__annotations__', '__base_doc__', '__class__', '__config__', '__custom_root_type__', '__delattr__', '__dict__', '__dir__', '__doc__', '__eq__', '__field_defaults__', '__fields__', '__fields_set__', '__format__', '__ge__', '__get_validators__', '__getattribute__', '__getstate__', '__gt__', '__hash__', '__init__', '__init_subclass__', '__iter__', '__json_encoder__', '__le__', '__lt__', '__model_autodoc_applied__', '__module__', '__ne__', '__new__', '__post_root_validators__', '__pre_root_validators__', '__pretty__', '__reduce__', '__reduce_ex__', '__repr__', '__repr_args__', '__repr_name__', '__repr_str__', '__schema_cache__', '__setattr__', '__setstate__', '__signature__', '__sizeof__', '__slots__', '__str__', '__subclasshook__', '__validators__', '__values__', '__weakref__', '_abc_impl', '_calculate_keys', '_decompose_class', '_get_value', '_hash_indices', '_iter', '_kvstore_getter', 'cache', 'check_client', 'check_keywords', 'check_program', 'client', 'compare', 'construct', 'copy', 'created_on', 'dict', 'energies', 'error', 'extras', 'fields', 'final_molecule', 'from_orm', 'get_error', 'get_final_energy', 'get_final_molecule', 'get_hash_fields', 'get_hash_index', 'get_initial_molecule', 'get_molecular_trajectory', 'get_stderr', 'get_stdout', 'get_trajectory', 'hash_index', 'id', 'initial_molecule', 'json', 'keywords', 'manager_name', 'modified_on', 'parse_file', 'parse_obj', 'parse_raw', 'procedure', 'program', 'protocols', 'provenance', 'qc_spec', 'schema', 'schema_json', 'schema_version', 'serialize', 'show_history', 'status', 'stderr', 'stdout', 'task_id', 'to_string', 'trajectory', 'update_forward_refs', 'validate', 'version']\n"
     ]
    }
   ],
   "source": [
    "print(dir(record))"
   ]
  },
  {
   "cell_type": "code",
   "execution_count": 42,
   "metadata": {},
   "outputs": [],
   "source": [
    "initial_mol = record.get_initial_molecule()"
   ]
  },
  {
   "cell_type": "code",
   "execution_count": 43,
   "metadata": {},
   "outputs": [
    {
     "name": "stdout",
     "output_type": "stream",
     "text": [
      "['Config', '__abstractmethods__', '__annotations__', '__base_doc__', '__class__', '__config__', '__custom_root_type__', '__delattr__', '__dict__', '__dir__', '__doc__', '__eq__', '__field_defaults__', '__fields__', '__fields_set__', '__format__', '__ge__', '__get_validators__', '__getattribute__', '__getstate__', '__gt__', '__hash__', '__init__', '__init_subclass__', '__iter__', '__json_encoder__', '__le__', '__lt__', '__model_autodoc_applied__', '__module__', '__ne__', '__new__', '__post_root_validators__', '__pre_root_validators__', '__pretty__', '__reduce__', '__reduce_ex__', '__repr__', '__repr_args__', '__repr_name__', '__repr_str__', '__schema_cache__', '__setattr__', '__setstate__', '__signature__', '__sizeof__', '__slots__', '__str__', '__subclasshook__', '__validators__', '__values__', '__weakref__', '_abc_impl', '_calculate_keys', '_decompose_class', '_get_value', '_iter', 'additional_keywords', 'attributes', 'compare', 'construct', 'copy', 'dict', 'fields', 'from_orm', 'initial_molecule', 'json', 'name', 'object_map', 'parse_file', 'parse_obj', 'parse_raw', 'schema', 'schema_json', 'serialize', 'to_string', 'update_forward_refs', 'validate']\n"
     ]
    }
   ],
   "source": [
    "entry = ds.get_entry(ind)\n",
    "print(dir(entry))"
   ]
  },
  {
   "cell_type": "code",
   "execution_count": 44,
   "metadata": {},
   "outputs": [
    {
     "data": {
      "image/png": "[encoded data removed]",
      "text/plain": [
       "<rdkit.Chem.rdchem.Mol at 0x7ff1b4424730>"
      ]
     },
     "metadata": {},
     "output_type": "display_data"
    }
   ],
   "source": [
    "offmol = Molecule.from_qcschema(entry)\n",
    "offmol"
   ]
  },
  {
   "cell_type": "code",
   "execution_count": 45,
   "metadata": {},
   "outputs": [
    {
     "data": {
      "text/plain": [
       "(36, 36)"
      ]
     },
     "execution_count": 45,
     "metadata": {},
     "output_type": "execute_result"
    }
   ],
   "source": [
    "molecular_trajectory = record.get_molecular_trajectory()\n",
    "trajectory = record.get_trajectory()\n",
    "len(molecular_trajectory), len(trajectory)"
   ]
  },
  {
   "cell_type": "code",
   "execution_count": 46,
   "metadata": {},
   "outputs": [],
   "source": [
    "def get_energy_and_gradient(snapshot: qcportal.models.records.ResultRecord) -> Tuple[float, np.ndarray]:\n",
    "    \"\"\"Note: force = - gradient\"\"\"\n",
    "    d = snapshot.dict()\n",
    "    qcvars = d['extras']['qcvars']\n",
    "    energy = qcvars['CURRENT ENERGY']\n",
    "    flat_gradient = np.array(qcvars['CURRENT GRADIENT'])\n",
    "    num_atoms = len(flat_gradient) // 3\n",
    "    gradient = flat_gradient.reshape((num_atoms, 3))\n",
    "    return energy, gradient"
   ]
  },
  {
   "cell_type": "code",
   "execution_count": 100,
   "metadata": {},
   "outputs": [],
   "source": [
    "MolWithTargets = namedtuple('MolWithTargets', ['offmol', 'xyz', 'energies', 'gradients'])"
   ]
  },
  {
   "cell_type": "code",
   "execution_count": 102,
   "metadata": {},
   "outputs": [
    {
     "name": "stdout",
     "output_type": "stream",
     "text": [
      "CPU times: user 5 µs, sys: 1e+03 ns, total: 6 µs\n",
      "Wall time: 7.87 µs\n"
     ]
    }
   ],
   "source": [
    "%%time\n",
    "_ = MolWithTargets(offmol, xyz, energies, gradients)"
   ]
  },
  {
   "cell_type": "code",
   "execution_count": 178,
   "metadata": {},
   "outputs": [],
   "source": [
    "def get_mol_with_targets(record, entry):\n",
    "    \n",
    "    # offmol\n",
    "    offmol = Molecule.from_qcschema(entry)\n",
    "    \n",
    "    # trajectory containing xyz, energies, and gradients\n",
    "    trajectory = record.get_trajectory()\n",
    "    \n",
    "    # xyz\n",
    "    molecules = [snapshot.get_molecule() for snapshot in trajectory]\n",
    "    xyz = np.array([mol.geometry for mol in molecules])\n",
    "    \n",
    "    # energies and gradients\n",
    "    energies_and_gradients = list(map(get_energy_and_gradient, trajectory))\n",
    "    energies = np.array([e for (e, _) in energies_and_gradients])\n",
    "    gradients = np.array([g for (_, g) in energies_and_gradients])\n",
    "    \n",
    "    return MolWithTargets(offmol, xyz, energies, gradients)"
   ]
  },
  {
   "cell_type": "code",
   "execution_count": 179,
   "metadata": {},
   "outputs": [],
   "source": [
    "i = 0"
   ]
  },
  {
   "cell_type": "code",
   "execution_count": 180,
   "metadata": {},
   "outputs": [],
   "source": [
    "record_name = record_names[i]\n",
    "ind = index[i]\n",
    "\n",
    "record = ds.get_record(record_name, specification)\n",
    "entry = ds.get_entry(ind)"
   ]
  },
  {
   "cell_type": "code",
   "execution_count": 181,
   "metadata": {},
   "outputs": [
    {
     "name": "stdout",
     "output_type": "stream",
     "text": [
      "CPU times: user 703 ms, sys: 43.6 ms, total: 747 ms\n",
      "Wall time: 5.86 s\n"
     ]
    }
   ],
   "source": [
    "%%time\n",
    "_ = get_mol_with_targets(record, entry)"
   ]
  },
  {
   "cell_type": "code",
   "execution_count": 182,
   "metadata": {},
   "outputs": [
    {
     "name": "stdout",
     "output_type": "stream",
     "text": [
      "CPU times: user 74.8 ms, sys: 1.38 ms, total: 76.1 ms\n",
      "Wall time: 74.9 ms\n"
     ]
    }
   ],
   "source": [
    "%%time\n",
    "_ = get_mol_with_targets(record, entry)"
   ]
  },
  {
   "cell_type": "code",
   "execution_count": 196,
   "metadata": {},
   "outputs": [],
   "source": [
    "record_names = list(ds.data.records)"
   ]
  },
  {
   "cell_type": "code",
   "execution_count": 197,
   "metadata": {},
   "outputs": [],
   "source": [
    "all_mols_and_targets = dict()"
   ]
  },
  {
   "cell_type": "code",
   "execution_count": 198,
   "metadata": {},
   "outputs": [
    {
     "data": {
      "text/plain": [
       "26736"
      ]
     },
     "execution_count": 198,
     "metadata": {},
     "output_type": "execute_result"
    }
   ],
   "source": [
    "record_names = list(ds.data.records)\n",
    "len(record_names)"
   ]
  },
  {
   "cell_type": "code",
   "execution_count": 199,
   "metadata": {},
   "outputs": [],
   "source": [
    "exceptions = dict()\n",
    "skipped_status = dict()"
   ]
  },
  {
   "cell_type": "code",
   "execution_count": 200,
   "metadata": {},
   "outputs": [
    {
     "data": {
      "text/plain": [
       "<RecordStatusEnum.complete: 'COMPLETE'>"
      ]
     },
     "execution_count": 200,
     "metadata": {},
     "output_type": "execute_result"
    }
   ],
   "source": [
    "record_name = record_names[0]\n",
    "success_record = ds.get_record(record_name, specification)\n",
    "success_status = success_record.status\n",
    "success_status"
   ]
  },
  {
   "cell_type": "code",
   "execution_count": 201,
   "metadata": {},
   "outputs": [
    {
     "name": "stderr",
     "output_type": "stream",
     "text": [
      "  0%|          | 11/26736 [00:47<25:19:03,  3.41s/it, n_exceptions=0, n_skipped=2, n_successful=10]"
     ]
    },
    {
     "name": "stdout",
     "output_type": "stream",
     "text": [
      "skipping co/n=c/1\\c[n@](c[c@h]1c[nh3+])c2c(cc3c(=o)c(cn(c3n2)c4cc4)c(=o)[o-])f-0, which has a status ERROR\n",
      "skipping co/n=c/1\\c[n@](c[c@h]1c[nh3+])c2c(cc3c(=o)c(cn(c3n2)c4cc4)c(=o)[o-])f-1, which has a status ERROR\n"
     ]
    },
    {
     "name": "stderr",
     "output_type": "stream",
     "text": [
      "  0%|          | 13/26736 [00:47<17:56:58,  2.42s/it, n_exceptions=0, n_skipped=3, n_successful=10]"
     ]
    },
    {
     "name": "stdout",
     "output_type": "stream",
     "text": [
      "skipping co/n=c/1\\c[n@](c[c@h]1c[nh3+])c2c(cc3c(=o)c(cn(c3n2)c4cc4)c(=o)[o-])f-2, which has a status ERROR\n"
     ]
    },
    {
     "name": "stderr",
     "output_type": "stream",
     "text": [
      "  0%|          | 15/26736 [01:02<32:40:29,  4.40s/it, n_exceptions=0, n_skipped=4, n_successful=11]"
     ]
    },
    {
     "name": "stdout",
     "output_type": "stream",
     "text": [
      "skipping co/n=c/1\\c[n@](c[c@h]1c[nh3+])c2c(cc3c(=o)c(cn(c3n2)c4cc4)c(=o)[o-])f-4, which has a status ERROR\n"
     ]
    },
    {
     "name": "stderr",
     "output_type": "stream",
     "text": [
      "  0%|          | 89/26736 [12:11<66:47:25,  9.02s/it, n_exceptions=0, n_skipped=5, n_successful=84] "
     ]
    },
    {
     "name": "stdout",
     "output_type": "stream",
     "text": [
      "skipping cc(c)c[c@h]1c(=o)n2ccc[c@h]2[c@]3(n1c(=o)[c@](o3)(c(c)c)nc(=o)[c@h]4c[n@]([c@@h]5cc6c7c(cccc7[nh]c6br)c5=c4)c)o-1, which has a status ERROR\n"
     ]
    },
    {
     "name": "stderr",
     "output_type": "stream",
     "text": [
      "  0%|          | 90/26736 [12:12<47:29:31,  6.42s/it, n_exceptions=0, n_skipped=6, n_successful=84]"
     ]
    },
    {
     "name": "stdout",
     "output_type": "stream",
     "text": [
      "skipping cc(c)c[c@h]1c(=o)n2ccc[c@h]2[c@]3(n1c(=o)[c@](o3)(c(c)c)nc(=o)[c@h]4c[n@]([c@@h]5cc6c7c(cccc7[nh]c6br)c5=c4)c)o-2, which has a status ERROR\n"
     ]
    },
    {
     "name": "stderr",
     "output_type": "stream",
     "text": [
      "  0%|          | 96/26736 [13:20<53:05:48,  7.18s/it, n_exceptions=0, n_skipped=8, n_successful=88] "
     ]
    },
    {
     "name": "stdout",
     "output_type": "stream",
     "text": [
      "skipping cc(c)c[c@h]1c(=o)n2ccc[c@h]2[c@]3(n1c(=o)[c@](o3)(c(c)c)nc(=o)[c@h]4c[n@]([c@@h]5cc6c7c(cccc7[nh]c6br)c5=c4)c)o-7, which has a status ERROR\n",
      "skipping cc(c)c[c@h]1c(=o)n2ccc[c@h]2[c@]3(n1c(=o)[c@](o3)(c(c)c)nc(=o)[c@h]4c[n@h+]([c@@h]5cc6c7c(cccc7[nh]c6br)c5=c4)c)o-0, which has a status ERROR\n"
     ]
    },
    {
     "name": "stderr",
     "output_type": "stream",
     "text": [
      "  0%|          | 97/26736 [13:20<37:34:09,  5.08s/it, n_exceptions=0, n_skipped=9, n_successful=88]"
     ]
    },
    {
     "name": "stdout",
     "output_type": "stream",
     "text": [
      "skipping cc(c)c[c@h]1c(=o)n2ccc[c@h]2[c@]3(n1c(=o)[c@](o3)(c(c)c)nc(=o)[c@h]4c[n@h+]([c@@h]5cc6c7c(cccc7[nh]c6br)c5=c4)c)o-1, which has a status ERROR\n"
     ]
    },
    {
     "name": "stderr",
     "output_type": "stream",
     "text": [
      "  0%|          | 101/26736 [14:05<59:35:13,  8.05s/it, n_exceptions=0, n_skipped=10, n_successful=91]"
     ]
    },
    {
     "name": "stdout",
     "output_type": "stream",
     "text": [
      "skipping cc(c)c[c@h]1c(=o)n2ccc[c@h]2[c@]3(n1c(=o)[c@](o3)(c(c)c)nc(=o)[c@h]4c[n@h+]([c@@h]5cc6c7c(cccc7[nh]c6br)c5=c4)c)o-5, which has a status ERROR\n"
     ]
    },
    {
     "name": "stderr",
     "output_type": "stream",
     "text": [
      "  0%|          | 103/26736 [14:13<42:12:11,  5.70s/it, n_exceptions=0, n_skipped=11, n_successful=92]"
     ]
    },
    {
     "name": "stdout",
     "output_type": "stream",
     "text": [
      "skipping cc(c)c[c@h]1c(=o)n2ccc[c@h]2[c@]3(n1c(=o)[c@](o3)(c(c)c)nc(=o)[c@h]4c[n@h+]([c@@h]5cc6c7c(cccc7[nh]c6br)c5=c4)c)o-7, which has a status ERROR\n"
     ]
    },
    {
     "name": "stderr",
     "output_type": "stream",
     "text": [
      "  0%|          | 106/26736 [14:48<59:05:56,  7.99s/it, n_exceptions=0, n_skipped=12, n_successful=94]"
     ]
    },
    {
     "name": "stdout",
     "output_type": "stream",
     "text": [
      "skipping cc(c)c[c@h]1c(=o)n2ccc[c@h]2[c@]3(n1c(=o)[c@](o3)(c(c)c)nc(=o)[c@h]4c[n@@h+]([c@@h]5cc6c7c(cccc7[nh]c6br)c5=c4)c)o-2, which has a status ERROR\n"
     ]
    },
    {
     "name": "stderr",
     "output_type": "stream",
     "text": [
      "  0%|          | 109/26736 [15:17<59:20:12,  8.02s/it, n_exceptions=0, n_skipped=13, n_successful=96]"
     ]
    },
    {
     "name": "stdout",
     "output_type": "stream",
     "text": [
      "skipping cc(c)c[c@h]1c(=o)n2ccc[c@h]2[c@]3(n1c(=o)[c@](o3)(c(c)c)nc(=o)[c@h]4c[n@@h+]([c@@h]5cc6c7c(cccc7[nh]c6br)c5=c4)c)o-5, which has a status ERROR\n"
     ]
    },
    {
     "name": "stderr",
     "output_type": "stream",
     "text": [
      "  0%|          | 111/26736 [15:33<54:02:20,  7.31s/it, n_exceptions=0, n_skipped=14, n_successful=97]"
     ]
    },
    {
     "name": "stdout",
     "output_type": "stream",
     "text": [
      "skipping cc(c)c[c@h]1c(=o)n2ccc[c@h]2[c@]3(n1c(=o)[c@](o3)(c(c)c)nc(=o)[c@h]4c[n@@h+]([c@@h]5cc6c7c(cccc7[nh]c6br)c5=c4)c)o-7, which has a status ERROR\n"
     ]
    },
    {
     "name": "stderr",
     "output_type": "stream",
     "text": [
      "  1%|▏         | 374/26736 [1:10:17<65:13:37,  8.91s/it, n_exceptions=0, n_skipped=15, n_successful=359] "
     ]
    },
    {
     "name": "stdout",
     "output_type": "stream",
     "text": [
      "skipping c[c@@]1(c(=o)n2[c@h](c(=o)n3ccc[c@h]3[c@@]2(o1)o)cc4ccccc4)nc(=o)[c@@h]5c[c@@h]6c7cccc8c7c(c[nh]8)c[c@h]6[n@@h+](c5)c-7, which has a status ERROR\n"
     ]
    },
    {
     "name": "stderr",
     "output_type": "stream",
     "text": [
      "  1%|▏         | 380/26736 [1:12:18<119:51:21, 16.37s/it, n_exceptions=0, n_skipped=16, n_successful=364]"
     ]
    },
    {
     "name": "stdout",
     "output_type": "stream",
     "text": [
      "skipping c[c@@]1(c(=o)n2[c@h](c(=o)n3ccc[c@h]3[c@@]2(o1)o)cc4ccccc4)nc(=o)[c@@h]5c[c@@h]6c7cccc8c7c(c[nh]8)c[c@h]6[n@@h+](c5)c-13, which has a status ERROR\n"
     ]
    },
    {
     "name": "stderr",
     "output_type": "stream",
     "text": [
      "  1%|▏         | 383/26736 [1:12:35<59:44:55,  8.16s/it, n_exceptions=0, n_skipped=18, n_successful=365] "
     ]
    },
    {
     "name": "stdout",
     "output_type": "stream",
     "text": [
      "skipping c[c@@]1(c(=o)n2[c@h](c(=o)n3ccc[c@h]3[c@@]2(o1)o)cc4ccccc4)nc(=o)[c@@h]5c[c@@h]6c7cccc8c7c(c[nh]8)c[c@h]6[n@@h+](c5)c-15, which has a status ERROR\n",
      "skipping c[c@@]1(c(=o)n2[c@h](c(=o)n3ccc[c@h]3[c@@]2(o1)o)cc4ccccc4)nc(=o)[c@@h]5c[c@@h]6c7cccc8c7c(c[nh]8)c[c@h]6[n@@h+](c5)c-16, which has a status ERROR\n"
     ]
    },
    {
     "name": "stderr",
     "output_type": "stream",
     "text": [
      "\r",
      "  1%|▏         | 383/26736 [1:12:35<59:44:55,  8.16s/it, n_exceptions=0, n_skipped=19, n_successful=365]"
     ]
    },
    {
     "name": "stdout",
     "output_type": "stream",
     "text": [
      "skipping c[c@@]1(c(=o)n2[c@h](c(=o)n3ccc[c@h]3[c@@]2(o1)o)cc4ccccc4)nc(=o)[c@@h]5c[c@@h]6c7cccc8c7c(c[nh]8)c[c@h]6[n@@h+](c5)c-17, which has a status ERROR\n"
     ]
    },
    {
     "name": "stderr",
     "output_type": "stream",
     "text": [
      "  1%|▏         | 386/26736 [1:12:48<39:14:26,  5.36s/it, n_exceptions=0, n_skipped=20, n_successful=366]"
     ]
    },
    {
     "name": "stdout",
     "output_type": "stream",
     "text": [
      "skipping c[c@@]1(c(=o)n2[c@h](c(=o)n3ccc[c@h]3[c@@]2(o1)o)cc4ccccc4)nc(=o)[c@@h]5c[c@@h]6c7cccc8c7c(c[nh]8)c[c@h]6[n@@h+](c5)c-19, which has a status ERROR\n"
     ]
    },
    {
     "name": "stderr",
     "output_type": "stream",
     "text": [
      "  1%|▏         | 394/26736 [1:14:44<84:02:58, 11.49s/it, n_exceptions=0, n_skipped=21, n_successful=373] "
     ]
    },
    {
     "name": "stdout",
     "output_type": "stream",
     "text": [
      "skipping c[c@@]1(c(=o)n2[c@h](c(=o)n3ccc[c@h]3[c@@]2(o1)o)cc4ccccc4)nc(=o)[c@@h]5c[c@@h]6c7cccc8c7c(c[nh]8)c[c@h]6[n@h+](c5)c-7, which has a status ERROR\n"
     ]
    },
    {
     "name": "stderr",
     "output_type": "stream",
     "text": [
      "  1%|▏         | 399/26736 [1:15:33<51:54:36,  7.10s/it, n_exceptions=0, n_skipped=23, n_successful=376] "
     ]
    },
    {
     "name": "stdout",
     "output_type": "stream",
     "text": [
      "skipping c[c@@]1(c(=o)n2[c@h](c(=o)n3ccc[c@h]3[c@@]2(o1)o)cc4ccccc4)nc(=o)[c@@h]5c[c@@h]6c7cccc8c7c(c[nh]8)c[c@h]6[n@h+](c5)c-11, which has a status ERROR\n",
      "skipping c[c@@]1(c(=o)n2[c@h](c(=o)n3ccc[c@h]3[c@@]2(o1)o)cc4ccccc4)nc(=o)[c@@h]5c[c@@h]6c7cccc8c7c(c[nh]8)c[c@h]6[n@h+](c5)c-12, which has a status ERROR\n"
     ]
    },
    {
     "name": "stderr",
     "output_type": "stream",
     "text": [
      "  1%|▏         | 400/26736 [1:15:33<36:42:19,  5.02s/it, n_exceptions=0, n_skipped=24, n_successful=376]"
     ]
    },
    {
     "name": "stdout",
     "output_type": "stream",
     "text": [
      "skipping c[c@@]1(c(=o)n2[c@h](c(=o)n3ccc[c@h]3[c@@]2(o1)o)cc4ccccc4)nc(=o)[c@@h]5c[c@@h]6c7cccc8c7c(c[nh]8)c[c@h]6[n@h+](c5)c-13, which has a status ERROR\n"
     ]
    },
    {
     "name": "stderr",
     "output_type": "stream",
     "text": [
      "  2%|▏         | 402/26736 [1:15:49<42:43:27,  5.84s/it, n_exceptions=0, n_skipped=25, n_successful=377]"
     ]
    },
    {
     "name": "stdout",
     "output_type": "stream",
     "text": [
      "skipping c[c@@]1(c(=o)n2[c@h](c(=o)n3ccc[c@h]3[c@@]2(o1)o)cc4ccccc4)nc(=o)[c@@h]5c[c@@h]6c7cccc8c7c(c[nh]8)c[c@h]6[n@h+](c5)c-15, which has a status ERROR\n"
     ]
    },
    {
     "name": "stderr",
     "output_type": "stream",
     "text": [
      "  2%|▏         | 405/26736 [1:16:23<59:40:36,  8.16s/it, n_exceptions=0, n_skipped=27, n_successful=379]"
     ]
    },
    {
     "name": "stdout",
     "output_type": "stream",
     "text": [
      "skipping c[c@@]1(c(=o)n2[c@h](c(=o)n3ccc[c@h]3[c@@]2(o1)o)cc4ccccc4)nc(=o)[c@@h]5c[c@@h]6c7cccc8c7c(c[nh]8)c[c@h]6[n@h+](c5)c-18, which has a status ERROR\n",
      "skipping c[c@@]1(c(=o)n2[c@h](c(=o)n3ccc[c@h]3[c@@]2(o1)o)cc4ccccc4)nc(=o)[c@@h]5c[c@@h]6c7cccc8c7c(c[nh]8)c[c@h]6[n@h+](c5)c-19, which has a status ERROR\n"
     ]
    },
    {
     "name": "stderr",
     "output_type": "stream",
     "text": [
      "  2%|▏         | 412/26736 [1:17:40<83:07:58, 11.37s/it, n_exceptions=0, n_skipped=28, n_successful=384] "
     ]
    },
    {
     "name": "stdout",
     "output_type": "stream",
     "text": [
      "skipping c[c@@]1(c(=o)n2[c@h](c(=o)n3ccc[c@h]3[c@@]2(o1)o)cc4ccccc4)nc(=o)[c@@h]5c[c@@h]6c7cccc8c7c(c[nh]8)c[c@h]6[n@@](c5)c-5, which has a status ERROR\n"
     ]
    },
    {
     "name": "stderr",
     "output_type": "stream",
     "text": [
      "  2%|▏         | 417/26736 [1:19:26<112:25:23, 15.38s/it, n_exceptions=0, n_skipped=30, n_successful=388]"
     ]
    },
    {
     "name": "stdout",
     "output_type": "stream",
     "text": [
      "skipping c[c@@]1(c(=o)n2[c@h](c(=o)n3ccc[c@h]3[c@@]2(o1)o)cc4ccccc4)nc(=o)[c@@h]5c[c@@h]6c7cccc8c7c(c[nh]8)c[c@h]6[n@@](c5)c-10, which has a status ERROR\n",
      "skipping c[c@@]1(c(=o)n2[c@h](c(=o)n3ccc[c@h]3[c@@]2(o1)o)cc4ccccc4)nc(=o)[c@@h]5c[c@@h]6c7cccc8c7c(c[nh]8)c[c@h]6[n@@](c5)c-11, which has a status ERROR\n"
     ]
    },
    {
     "name": "stderr",
     "output_type": "stream",
     "text": [
      "  2%|▏         | 422/26736 [1:20:04<55:30:09,  7.59s/it, n_exceptions=0, n_skipped=32, n_successful=390] "
     ]
    },
    {
     "name": "stdout",
     "output_type": "stream",
     "text": [
      "skipping c[c@@]1(c(=o)n2[c@h](c(=o)n3ccc[c@h]3[c@@]2(o1)o)cc4ccccc4)nc(=o)[c@@h]5c[c@@h]6c7cccc8c7c(c[nh]8)c[c@h]6[n@@](c5)c-14, which has a status ERROR\n",
      "skipping c[c@@]1(c(=o)n2[c@h](c(=o)n3ccc[c@h]3[c@@]2(o1)o)cc4ccccc4)nc(=o)[c@@h]5c[c@@h]6c7cccc8c7c(c[nh]8)c[c@h]6[n@@](c5)c-15, which has a status ERROR\n"
     ]
    },
    {
     "name": "stderr",
     "output_type": "stream",
     "text": [
      "  2%|▏         | 466/26736 [1:27:06<81:50:55, 11.22s/it, n_exceptions=0, n_skipped=32, n_successful=434] \n"
     ]
    },
    {
     "ename": "KeyboardInterrupt",
     "evalue": "",
     "output_type": "error",
     "traceback": [
      "\u001b[0;31m---------------------------------------------------------------------------\u001b[0m",
      "\u001b[0;31mKeyboardInterrupt\u001b[0m                         Traceback (most recent call last)",
      "\u001b[0;32m<ipython-input-201-0ca8e13a8133>\u001b[0m in \u001b[0;36m<module>\u001b[0;34m\u001b[0m\n\u001b[1;32m     15\u001b[0m     \u001b[0;32mif\u001b[0m \u001b[0mstatus_string\u001b[0m \u001b[0;34m==\u001b[0m \u001b[0;34m'complete'\u001b[0m\u001b[0;34m:\u001b[0m\u001b[0;34m\u001b[0m\u001b[0;34m\u001b[0m\u001b[0m\n\u001b[1;32m     16\u001b[0m         \u001b[0;32mtry\u001b[0m\u001b[0;34m:\u001b[0m\u001b[0;34m\u001b[0m\u001b[0;34m\u001b[0m\u001b[0m\n\u001b[0;32m---> 17\u001b[0;31m             \u001b[0mall_mols_and_targets\u001b[0m\u001b[0;34m[\u001b[0m\u001b[0mrecord_name\u001b[0m\u001b[0;34m]\u001b[0m \u001b[0;34m=\u001b[0m \u001b[0mget_mol_with_targets\u001b[0m\u001b[0;34m(\u001b[0m\u001b[0mrecord\u001b[0m\u001b[0;34m,\u001b[0m \u001b[0mentry\u001b[0m\u001b[0;34m)\u001b[0m\u001b[0;34m\u001b[0m\u001b[0;34m\u001b[0m\u001b[0m\n\u001b[0m\u001b[1;32m     18\u001b[0m         \u001b[0;32mexcept\u001b[0m \u001b[0mException\u001b[0m \u001b[0;32mas\u001b[0m \u001b[0me\u001b[0m\u001b[0;34m:\u001b[0m\u001b[0;34m\u001b[0m\u001b[0;34m\u001b[0m\u001b[0m\n\u001b[1;32m     19\u001b[0m             \u001b[0mprint\u001b[0m\u001b[0;34m(\u001b[0m\u001b[0;34mf'problem encountered with {record_name}!'\u001b[0m\u001b[0;34m)\u001b[0m\u001b[0;34m\u001b[0m\u001b[0;34m\u001b[0m\u001b[0m\n",
      "\u001b[0;32m<ipython-input-178-3fa286fb9e66>\u001b[0m in \u001b[0;36mget_mol_with_targets\u001b[0;34m(record, entry)\u001b[0m\n\u001b[1;32m      8\u001b[0m \u001b[0;34m\u001b[0m\u001b[0m\n\u001b[1;32m      9\u001b[0m     \u001b[0;31m# xyz\u001b[0m\u001b[0;34m\u001b[0m\u001b[0;34m\u001b[0m\u001b[0;34m\u001b[0m\u001b[0m\n\u001b[0;32m---> 10\u001b[0;31m     \u001b[0mmolecules\u001b[0m \u001b[0;34m=\u001b[0m \u001b[0;34m[\u001b[0m\u001b[0msnapshot\u001b[0m\u001b[0;34m.\u001b[0m\u001b[0mget_molecule\u001b[0m\u001b[0;34m(\u001b[0m\u001b[0;34m)\u001b[0m \u001b[0;32mfor\u001b[0m \u001b[0msnapshot\u001b[0m \u001b[0;32min\u001b[0m \u001b[0mtrajectory\u001b[0m\u001b[0;34m]\u001b[0m\u001b[0;34m\u001b[0m\u001b[0;34m\u001b[0m\u001b[0m\n\u001b[0m\u001b[1;32m     11\u001b[0m     \u001b[0mxyz\u001b[0m \u001b[0;34m=\u001b[0m \u001b[0mnp\u001b[0m\u001b[0;34m.\u001b[0m\u001b[0marray\u001b[0m\u001b[0;34m(\u001b[0m\u001b[0;34m[\u001b[0m\u001b[0mmol\u001b[0m\u001b[0;34m.\u001b[0m\u001b[0mgeometry\u001b[0m \u001b[0;32mfor\u001b[0m \u001b[0mmol\u001b[0m \u001b[0;32min\u001b[0m \u001b[0mmolecules\u001b[0m\u001b[0;34m]\u001b[0m\u001b[0;34m)\u001b[0m\u001b[0;34m\u001b[0m\u001b[0;34m\u001b[0m\u001b[0m\n\u001b[1;32m     12\u001b[0m \u001b[0;34m\u001b[0m\u001b[0m\n",
      "\u001b[0;32m<ipython-input-178-3fa286fb9e66>\u001b[0m in \u001b[0;36m<listcomp>\u001b[0;34m(.0)\u001b[0m\n\u001b[1;32m      8\u001b[0m \u001b[0;34m\u001b[0m\u001b[0m\n\u001b[1;32m      9\u001b[0m     \u001b[0;31m# xyz\u001b[0m\u001b[0;34m\u001b[0m\u001b[0;34m\u001b[0m\u001b[0;34m\u001b[0m\u001b[0m\n\u001b[0;32m---> 10\u001b[0;31m     \u001b[0mmolecules\u001b[0m \u001b[0;34m=\u001b[0m \u001b[0;34m[\u001b[0m\u001b[0msnapshot\u001b[0m\u001b[0;34m.\u001b[0m\u001b[0mget_molecule\u001b[0m\u001b[0;34m(\u001b[0m\u001b[0;34m)\u001b[0m \u001b[0;32mfor\u001b[0m \u001b[0msnapshot\u001b[0m \u001b[0;32min\u001b[0m \u001b[0mtrajectory\u001b[0m\u001b[0;34m]\u001b[0m\u001b[0;34m\u001b[0m\u001b[0;34m\u001b[0m\u001b[0m\n\u001b[0m\u001b[1;32m     11\u001b[0m     \u001b[0mxyz\u001b[0m \u001b[0;34m=\u001b[0m \u001b[0mnp\u001b[0m\u001b[0;34m.\u001b[0m\u001b[0marray\u001b[0m\u001b[0;34m(\u001b[0m\u001b[0;34m[\u001b[0m\u001b[0mmol\u001b[0m\u001b[0;34m.\u001b[0m\u001b[0mgeometry\u001b[0m \u001b[0;32mfor\u001b[0m \u001b[0mmol\u001b[0m \u001b[0;32min\u001b[0m \u001b[0mmolecules\u001b[0m\u001b[0;34m]\u001b[0m\u001b[0;34m)\u001b[0m\u001b[0;34m\u001b[0m\u001b[0;34m\u001b[0m\u001b[0m\n\u001b[1;32m     12\u001b[0m \u001b[0;34m\u001b[0m\u001b[0m\n",
      "\u001b[0;32m~/anaconda3/envs/espaloma/lib/python3.7/site-packages/qcportal/models/records.py\u001b[0m in \u001b[0;36mget_molecule\u001b[0;34m(self)\u001b[0m\n\u001b[1;32m    375\u001b[0m \u001b[0;34m\u001b[0m\u001b[0m\n\u001b[1;32m    376\u001b[0m         \u001b[0;32mif\u001b[0m \u001b[0;34m\"molecule\"\u001b[0m \u001b[0;32mnot\u001b[0m \u001b[0;32min\u001b[0m \u001b[0mself\u001b[0m\u001b[0;34m.\u001b[0m\u001b[0mcache\u001b[0m\u001b[0;34m:\u001b[0m\u001b[0;34m\u001b[0m\u001b[0;34m\u001b[0m\u001b[0m\n\u001b[0;32m--> 377\u001b[0;31m             \u001b[0mself\u001b[0m\u001b[0;34m.\u001b[0m\u001b[0mcache\u001b[0m\u001b[0;34m[\u001b[0m\u001b[0;34m\"molecule\"\u001b[0m\u001b[0;34m]\u001b[0m \u001b[0;34m=\u001b[0m \u001b[0mself\u001b[0m\u001b[0;34m.\u001b[0m\u001b[0mclient\u001b[0m\u001b[0;34m.\u001b[0m\u001b[0mquery_molecules\u001b[0m\u001b[0;34m(\u001b[0m\u001b[0mid\u001b[0m\u001b[0;34m=\u001b[0m\u001b[0mself\u001b[0m\u001b[0;34m.\u001b[0m\u001b[0mmolecule\u001b[0m\u001b[0;34m)\u001b[0m\u001b[0;34m[\u001b[0m\u001b[0;36m0\u001b[0m\u001b[0;34m]\u001b[0m\u001b[0;34m\u001b[0m\u001b[0;34m\u001b[0m\u001b[0m\n\u001b[0m\u001b[1;32m    378\u001b[0m \u001b[0;34m\u001b[0m\u001b[0m\n\u001b[1;32m    379\u001b[0m         \u001b[0;32mreturn\u001b[0m \u001b[0mself\u001b[0m\u001b[0;34m.\u001b[0m\u001b[0mcache\u001b[0m\u001b[0;34m[\u001b[0m\u001b[0;34m\"molecule\"\u001b[0m\u001b[0;34m]\u001b[0m\u001b[0;34m\u001b[0m\u001b[0;34m\u001b[0m\u001b[0m\n",
      "\u001b[0;32m~/anaconda3/envs/espaloma/lib/python3.7/site-packages/qcportal/client.py\u001b[0m in \u001b[0;36mquery_molecules\u001b[0;34m(self, id, molecule_hash, molecular_formula, limit, skip, full_return)\u001b[0m\n\u001b[1;32m    407\u001b[0m             \u001b[0;34m\"data\"\u001b[0m\u001b[0;34m:\u001b[0m \u001b[0;34m{\u001b[0m\u001b[0;34m\"id\"\u001b[0m\u001b[0;34m:\u001b[0m \u001b[0mid\u001b[0m\u001b[0;34m,\u001b[0m \u001b[0;34m\"molecule_hash\"\u001b[0m\u001b[0;34m:\u001b[0m \u001b[0mmolecule_hash\u001b[0m\u001b[0;34m,\u001b[0m \u001b[0;34m\"molecular_formula\"\u001b[0m\u001b[0;34m:\u001b[0m \u001b[0mmolecular_formula\u001b[0m\u001b[0;34m}\u001b[0m\u001b[0;34m,\u001b[0m\u001b[0;34m\u001b[0m\u001b[0;34m\u001b[0m\u001b[0m\n\u001b[1;32m    408\u001b[0m         }\n\u001b[0;32m--> 409\u001b[0;31m         \u001b[0mresponse\u001b[0m \u001b[0;34m=\u001b[0m \u001b[0mself\u001b[0m\u001b[0;34m.\u001b[0m\u001b[0m_automodel_request\u001b[0m\u001b[0;34m(\u001b[0m\u001b[0;34m\"molecule\"\u001b[0m\u001b[0;34m,\u001b[0m \u001b[0;34m\"get\"\u001b[0m\u001b[0;34m,\u001b[0m \u001b[0mpayload\u001b[0m\u001b[0;34m,\u001b[0m \u001b[0mfull_return\u001b[0m\u001b[0;34m=\u001b[0m\u001b[0mfull_return\u001b[0m\u001b[0;34m)\u001b[0m\u001b[0;34m\u001b[0m\u001b[0;34m\u001b[0m\u001b[0m\n\u001b[0m\u001b[1;32m    410\u001b[0m         \u001b[0;32mreturn\u001b[0m \u001b[0mresponse\u001b[0m\u001b[0;34m\u001b[0m\u001b[0;34m\u001b[0m\u001b[0m\n\u001b[1;32m    411\u001b[0m \u001b[0;34m\u001b[0m\u001b[0m\n",
      "\u001b[0;32m~/anaconda3/envs/espaloma/lib/python3.7/site-packages/qcportal/client.py\u001b[0m in \u001b[0;36m_automodel_request\u001b[0;34m(self, name, rest, payload, full_return, timeout)\u001b[0m\n\u001b[1;32m    272\u001b[0m             \u001b[0;32mraise\u001b[0m \u001b[0mTypeError\u001b[0m\u001b[0;34m(\u001b[0m\u001b[0mstr\u001b[0m\u001b[0;34m(\u001b[0m\u001b[0mexc\u001b[0m\u001b[0;34m)\u001b[0m\u001b[0;34m)\u001b[0m\u001b[0;34m\u001b[0m\u001b[0;34m\u001b[0m\u001b[0m\n\u001b[1;32m    273\u001b[0m \u001b[0;34m\u001b[0m\u001b[0m\n\u001b[0;32m--> 274\u001b[0;31m         \u001b[0mr\u001b[0m \u001b[0;34m=\u001b[0m \u001b[0mself\u001b[0m\u001b[0;34m.\u001b[0m\u001b[0m_request\u001b[0m\u001b[0;34m(\u001b[0m\u001b[0mrest\u001b[0m\u001b[0;34m,\u001b[0m \u001b[0mname\u001b[0m\u001b[0;34m,\u001b[0m \u001b[0mdata\u001b[0m\u001b[0;34m=\u001b[0m\u001b[0mpayload\u001b[0m\u001b[0;34m.\u001b[0m\u001b[0mserialize\u001b[0m\u001b[0;34m(\u001b[0m\u001b[0mself\u001b[0m\u001b[0;34m.\u001b[0m\u001b[0mencoding\u001b[0m\u001b[0;34m)\u001b[0m\u001b[0;34m,\u001b[0m \u001b[0mtimeout\u001b[0m\u001b[0;34m=\u001b[0m\u001b[0mtimeout\u001b[0m\u001b[0;34m)\u001b[0m\u001b[0;34m\u001b[0m\u001b[0;34m\u001b[0m\u001b[0m\n\u001b[0m\u001b[1;32m    275\u001b[0m         \u001b[0mencoding\u001b[0m \u001b[0;34m=\u001b[0m \u001b[0mr\u001b[0m\u001b[0;34m.\u001b[0m\u001b[0mheaders\u001b[0m\u001b[0;34m[\u001b[0m\u001b[0;34m\"Content-Type\"\u001b[0m\u001b[0;34m]\u001b[0m\u001b[0;34m.\u001b[0m\u001b[0msplit\u001b[0m\u001b[0;34m(\u001b[0m\u001b[0;34m\"/\"\u001b[0m\u001b[0;34m)\u001b[0m\u001b[0;34m[\u001b[0m\u001b[0;36m1\u001b[0m\u001b[0;34m]\u001b[0m\u001b[0;34m\u001b[0m\u001b[0;34m\u001b[0m\u001b[0m\n\u001b[1;32m    276\u001b[0m         \u001b[0mresponse\u001b[0m \u001b[0;34m=\u001b[0m \u001b[0mresponse_model\u001b[0m\u001b[0;34m.\u001b[0m\u001b[0mparse_raw\u001b[0m\u001b[0;34m(\u001b[0m\u001b[0mr\u001b[0m\u001b[0;34m.\u001b[0m\u001b[0mcontent\u001b[0m\u001b[0;34m,\u001b[0m \u001b[0mencoding\u001b[0m\u001b[0;34m=\u001b[0m\u001b[0mencoding\u001b[0m\u001b[0;34m)\u001b[0m\u001b[0;34m\u001b[0m\u001b[0;34m\u001b[0m\u001b[0m\n",
      "\u001b[0;32m~/anaconda3/envs/espaloma/lib/python3.7/site-packages/qcportal/client.py\u001b[0m in \u001b[0;36m_request\u001b[0;34m(self, method, service, data, noraise, timeout)\u001b[0m\n\u001b[1;32m    219\u001b[0m         \u001b[0;32mtry\u001b[0m\u001b[0;34m:\u001b[0m\u001b[0;34m\u001b[0m\u001b[0;34m\u001b[0m\u001b[0m\n\u001b[1;32m    220\u001b[0m             \u001b[0;32mif\u001b[0m \u001b[0mmethod\u001b[0m \u001b[0;34m==\u001b[0m \u001b[0;34m\"get\"\u001b[0m\u001b[0;34m:\u001b[0m\u001b[0;34m\u001b[0m\u001b[0;34m\u001b[0m\u001b[0m\n\u001b[0;32m--> 221\u001b[0;31m                 \u001b[0mr\u001b[0m \u001b[0;34m=\u001b[0m \u001b[0mrequests\u001b[0m\u001b[0;34m.\u001b[0m\u001b[0mget\u001b[0m\u001b[0;34m(\u001b[0m\u001b[0maddr\u001b[0m\u001b[0;34m,\u001b[0m \u001b[0;34m**\u001b[0m\u001b[0mkwargs\u001b[0m\u001b[0;34m)\u001b[0m\u001b[0;34m\u001b[0m\u001b[0;34m\u001b[0m\u001b[0m\n\u001b[0m\u001b[1;32m    222\u001b[0m             \u001b[0;32melif\u001b[0m \u001b[0mmethod\u001b[0m \u001b[0;34m==\u001b[0m \u001b[0;34m\"post\"\u001b[0m\u001b[0;34m:\u001b[0m\u001b[0;34m\u001b[0m\u001b[0;34m\u001b[0m\u001b[0m\n\u001b[1;32m    223\u001b[0m                 \u001b[0mr\u001b[0m \u001b[0;34m=\u001b[0m \u001b[0mrequests\u001b[0m\u001b[0;34m.\u001b[0m\u001b[0mpost\u001b[0m\u001b[0;34m(\u001b[0m\u001b[0maddr\u001b[0m\u001b[0;34m,\u001b[0m \u001b[0;34m**\u001b[0m\u001b[0mkwargs\u001b[0m\u001b[0;34m)\u001b[0m\u001b[0;34m\u001b[0m\u001b[0;34m\u001b[0m\u001b[0m\n",
      "\u001b[0;32m~/anaconda3/envs/espaloma/lib/python3.7/site-packages/requests/api.py\u001b[0m in \u001b[0;36mget\u001b[0;34m(url, params, **kwargs)\u001b[0m\n\u001b[1;32m     74\u001b[0m \u001b[0;34m\u001b[0m\u001b[0m\n\u001b[1;32m     75\u001b[0m     \u001b[0mkwargs\u001b[0m\u001b[0;34m.\u001b[0m\u001b[0msetdefault\u001b[0m\u001b[0;34m(\u001b[0m\u001b[0;34m'allow_redirects'\u001b[0m\u001b[0;34m,\u001b[0m \u001b[0;32mTrue\u001b[0m\u001b[0;34m)\u001b[0m\u001b[0;34m\u001b[0m\u001b[0;34m\u001b[0m\u001b[0m\n\u001b[0;32m---> 76\u001b[0;31m     \u001b[0;32mreturn\u001b[0m \u001b[0mrequest\u001b[0m\u001b[0;34m(\u001b[0m\u001b[0;34m'get'\u001b[0m\u001b[0;34m,\u001b[0m \u001b[0murl\u001b[0m\u001b[0;34m,\u001b[0m \u001b[0mparams\u001b[0m\u001b[0;34m=\u001b[0m\u001b[0mparams\u001b[0m\u001b[0;34m,\u001b[0m \u001b[0;34m**\u001b[0m\u001b[0mkwargs\u001b[0m\u001b[0;34m)\u001b[0m\u001b[0;34m\u001b[0m\u001b[0;34m\u001b[0m\u001b[0m\n\u001b[0m\u001b[1;32m     77\u001b[0m \u001b[0;34m\u001b[0m\u001b[0m\n\u001b[1;32m     78\u001b[0m \u001b[0;34m\u001b[0m\u001b[0m\n",
      "\u001b[0;32m~/anaconda3/envs/espaloma/lib/python3.7/site-packages/requests/api.py\u001b[0m in \u001b[0;36mrequest\u001b[0;34m(method, url, **kwargs)\u001b[0m\n\u001b[1;32m     59\u001b[0m     \u001b[0;31m# cases, and look like a memory leak in others.\u001b[0m\u001b[0;34m\u001b[0m\u001b[0;34m\u001b[0m\u001b[0;34m\u001b[0m\u001b[0m\n\u001b[1;32m     60\u001b[0m     \u001b[0;32mwith\u001b[0m \u001b[0msessions\u001b[0m\u001b[0;34m.\u001b[0m\u001b[0mSession\u001b[0m\u001b[0;34m(\u001b[0m\u001b[0;34m)\u001b[0m \u001b[0;32mas\u001b[0m \u001b[0msession\u001b[0m\u001b[0;34m:\u001b[0m\u001b[0;34m\u001b[0m\u001b[0;34m\u001b[0m\u001b[0m\n\u001b[0;32m---> 61\u001b[0;31m         \u001b[0;32mreturn\u001b[0m \u001b[0msession\u001b[0m\u001b[0;34m.\u001b[0m\u001b[0mrequest\u001b[0m\u001b[0;34m(\u001b[0m\u001b[0mmethod\u001b[0m\u001b[0;34m=\u001b[0m\u001b[0mmethod\u001b[0m\u001b[0;34m,\u001b[0m \u001b[0murl\u001b[0m\u001b[0;34m=\u001b[0m\u001b[0murl\u001b[0m\u001b[0;34m,\u001b[0m \u001b[0;34m**\u001b[0m\u001b[0mkwargs\u001b[0m\u001b[0;34m)\u001b[0m\u001b[0;34m\u001b[0m\u001b[0;34m\u001b[0m\u001b[0m\n\u001b[0m\u001b[1;32m     62\u001b[0m \u001b[0;34m\u001b[0m\u001b[0m\n\u001b[1;32m     63\u001b[0m \u001b[0;34m\u001b[0m\u001b[0m\n",
      "\u001b[0;32m~/anaconda3/envs/espaloma/lib/python3.7/site-packages/requests/sessions.py\u001b[0m in \u001b[0;36mrequest\u001b[0;34m(self, method, url, params, data, headers, cookies, files, auth, timeout, allow_redirects, proxies, hooks, stream, verify, cert, json)\u001b[0m\n\u001b[1;32m    528\u001b[0m         }\n\u001b[1;32m    529\u001b[0m         \u001b[0msend_kwargs\u001b[0m\u001b[0;34m.\u001b[0m\u001b[0mupdate\u001b[0m\u001b[0;34m(\u001b[0m\u001b[0msettings\u001b[0m\u001b[0;34m)\u001b[0m\u001b[0;34m\u001b[0m\u001b[0;34m\u001b[0m\u001b[0m\n\u001b[0;32m--> 530\u001b[0;31m         \u001b[0mresp\u001b[0m \u001b[0;34m=\u001b[0m \u001b[0mself\u001b[0m\u001b[0;34m.\u001b[0m\u001b[0msend\u001b[0m\u001b[0;34m(\u001b[0m\u001b[0mprep\u001b[0m\u001b[0;34m,\u001b[0m \u001b[0;34m**\u001b[0m\u001b[0msend_kwargs\u001b[0m\u001b[0;34m)\u001b[0m\u001b[0;34m\u001b[0m\u001b[0;34m\u001b[0m\u001b[0m\n\u001b[0m\u001b[1;32m    531\u001b[0m \u001b[0;34m\u001b[0m\u001b[0m\n\u001b[1;32m    532\u001b[0m         \u001b[0;32mreturn\u001b[0m \u001b[0mresp\u001b[0m\u001b[0;34m\u001b[0m\u001b[0;34m\u001b[0m\u001b[0m\n",
      "\u001b[0;32m~/anaconda3/envs/espaloma/lib/python3.7/site-packages/requests/sessions.py\u001b[0m in \u001b[0;36msend\u001b[0;34m(self, request, **kwargs)\u001b[0m\n\u001b[1;32m    641\u001b[0m \u001b[0;34m\u001b[0m\u001b[0m\n\u001b[1;32m    642\u001b[0m         \u001b[0;31m# Send the request\u001b[0m\u001b[0;34m\u001b[0m\u001b[0;34m\u001b[0m\u001b[0;34m\u001b[0m\u001b[0m\n\u001b[0;32m--> 643\u001b[0;31m         \u001b[0mr\u001b[0m \u001b[0;34m=\u001b[0m \u001b[0madapter\u001b[0m\u001b[0;34m.\u001b[0m\u001b[0msend\u001b[0m\u001b[0;34m(\u001b[0m\u001b[0mrequest\u001b[0m\u001b[0;34m,\u001b[0m \u001b[0;34m**\u001b[0m\u001b[0mkwargs\u001b[0m\u001b[0;34m)\u001b[0m\u001b[0;34m\u001b[0m\u001b[0;34m\u001b[0m\u001b[0m\n\u001b[0m\u001b[1;32m    644\u001b[0m \u001b[0;34m\u001b[0m\u001b[0m\n\u001b[1;32m    645\u001b[0m         \u001b[0;31m# Total elapsed time of the request (approximately)\u001b[0m\u001b[0;34m\u001b[0m\u001b[0;34m\u001b[0m\u001b[0;34m\u001b[0m\u001b[0m\n",
      "\u001b[0;32m~/anaconda3/envs/espaloma/lib/python3.7/site-packages/requests/adapters.py\u001b[0m in \u001b[0;36msend\u001b[0;34m(self, request, stream, timeout, verify, cert, proxies)\u001b[0m\n\u001b[1;32m    447\u001b[0m                     \u001b[0mdecode_content\u001b[0m\u001b[0;34m=\u001b[0m\u001b[0;32mFalse\u001b[0m\u001b[0;34m,\u001b[0m\u001b[0;34m\u001b[0m\u001b[0;34m\u001b[0m\u001b[0m\n\u001b[1;32m    448\u001b[0m                     \u001b[0mretries\u001b[0m\u001b[0;34m=\u001b[0m\u001b[0mself\u001b[0m\u001b[0;34m.\u001b[0m\u001b[0mmax_retries\u001b[0m\u001b[0;34m,\u001b[0m\u001b[0;34m\u001b[0m\u001b[0;34m\u001b[0m\u001b[0m\n\u001b[0;32m--> 449\u001b[0;31m                     \u001b[0mtimeout\u001b[0m\u001b[0;34m=\u001b[0m\u001b[0mtimeout\u001b[0m\u001b[0;34m\u001b[0m\u001b[0;34m\u001b[0m\u001b[0m\n\u001b[0m\u001b[1;32m    450\u001b[0m                 )\n\u001b[1;32m    451\u001b[0m \u001b[0;34m\u001b[0m\u001b[0m\n",
      "\u001b[0;32m~/anaconda3/envs/espaloma/lib/python3.7/site-packages/urllib3/connectionpool.py\u001b[0m in \u001b[0;36murlopen\u001b[0;34m(self, method, url, body, headers, retries, redirect, assert_same_host, timeout, pool_timeout, release_conn, chunked, body_pos, **response_kw)\u001b[0m\n\u001b[1;32m    675\u001b[0m                 \u001b[0mbody\u001b[0m\u001b[0;34m=\u001b[0m\u001b[0mbody\u001b[0m\u001b[0;34m,\u001b[0m\u001b[0;34m\u001b[0m\u001b[0;34m\u001b[0m\u001b[0m\n\u001b[1;32m    676\u001b[0m                 \u001b[0mheaders\u001b[0m\u001b[0;34m=\u001b[0m\u001b[0mheaders\u001b[0m\u001b[0;34m,\u001b[0m\u001b[0;34m\u001b[0m\u001b[0;34m\u001b[0m\u001b[0m\n\u001b[0;32m--> 677\u001b[0;31m                 \u001b[0mchunked\u001b[0m\u001b[0;34m=\u001b[0m\u001b[0mchunked\u001b[0m\u001b[0;34m,\u001b[0m\u001b[0;34m\u001b[0m\u001b[0;34m\u001b[0m\u001b[0m\n\u001b[0m\u001b[1;32m    678\u001b[0m             )\n\u001b[1;32m    679\u001b[0m \u001b[0;34m\u001b[0m\u001b[0m\n",
      "\u001b[0;32m~/anaconda3/envs/espaloma/lib/python3.7/site-packages/urllib3/connectionpool.py\u001b[0m in \u001b[0;36m_make_request\u001b[0;34m(self, conn, method, url, timeout, chunked, **httplib_request_kw)\u001b[0m\n\u001b[1;32m    379\u001b[0m         \u001b[0;31m# Trigger any extra validation we need to do.\u001b[0m\u001b[0;34m\u001b[0m\u001b[0;34m\u001b[0m\u001b[0;34m\u001b[0m\u001b[0m\n\u001b[1;32m    380\u001b[0m         \u001b[0;32mtry\u001b[0m\u001b[0;34m:\u001b[0m\u001b[0;34m\u001b[0m\u001b[0;34m\u001b[0m\u001b[0m\n\u001b[0;32m--> 381\u001b[0;31m             \u001b[0mself\u001b[0m\u001b[0;34m.\u001b[0m\u001b[0m_validate_conn\u001b[0m\u001b[0;34m(\u001b[0m\u001b[0mconn\u001b[0m\u001b[0;34m)\u001b[0m\u001b[0;34m\u001b[0m\u001b[0;34m\u001b[0m\u001b[0m\n\u001b[0m\u001b[1;32m    382\u001b[0m         \u001b[0;32mexcept\u001b[0m \u001b[0;34m(\u001b[0m\u001b[0mSocketTimeout\u001b[0m\u001b[0;34m,\u001b[0m \u001b[0mBaseSSLError\u001b[0m\u001b[0;34m)\u001b[0m \u001b[0;32mas\u001b[0m \u001b[0me\u001b[0m\u001b[0;34m:\u001b[0m\u001b[0;34m\u001b[0m\u001b[0;34m\u001b[0m\u001b[0m\n\u001b[1;32m    383\u001b[0m             \u001b[0;31m# Py2 raises this as a BaseSSLError, Py3 raises it as socket timeout.\u001b[0m\u001b[0;34m\u001b[0m\u001b[0;34m\u001b[0m\u001b[0;34m\u001b[0m\u001b[0m\n",
      "\u001b[0;32m~/anaconda3/envs/espaloma/lib/python3.7/site-packages/urllib3/connectionpool.py\u001b[0m in \u001b[0;36m_validate_conn\u001b[0;34m(self, conn)\u001b[0m\n\u001b[1;32m    976\u001b[0m         \u001b[0;31m# Force connect early to allow us to validate the connection.\u001b[0m\u001b[0;34m\u001b[0m\u001b[0;34m\u001b[0m\u001b[0;34m\u001b[0m\u001b[0m\n\u001b[1;32m    977\u001b[0m         \u001b[0;32mif\u001b[0m \u001b[0;32mnot\u001b[0m \u001b[0mgetattr\u001b[0m\u001b[0;34m(\u001b[0m\u001b[0mconn\u001b[0m\u001b[0;34m,\u001b[0m \u001b[0;34m\"sock\"\u001b[0m\u001b[0;34m,\u001b[0m \u001b[0;32mNone\u001b[0m\u001b[0;34m)\u001b[0m\u001b[0;34m:\u001b[0m  \u001b[0;31m# AppEngine might not have  `.sock`\u001b[0m\u001b[0;34m\u001b[0m\u001b[0;34m\u001b[0m\u001b[0m\n\u001b[0;32m--> 978\u001b[0;31m             \u001b[0mconn\u001b[0m\u001b[0;34m.\u001b[0m\u001b[0mconnect\u001b[0m\u001b[0;34m(\u001b[0m\u001b[0;34m)\u001b[0m\u001b[0;34m\u001b[0m\u001b[0;34m\u001b[0m\u001b[0m\n\u001b[0m\u001b[1;32m    979\u001b[0m \u001b[0;34m\u001b[0m\u001b[0m\n\u001b[1;32m    980\u001b[0m         \u001b[0;32mif\u001b[0m \u001b[0;32mnot\u001b[0m \u001b[0mconn\u001b[0m\u001b[0;34m.\u001b[0m\u001b[0mis_verified\u001b[0m\u001b[0;34m:\u001b[0m\u001b[0;34m\u001b[0m\u001b[0;34m\u001b[0m\u001b[0m\n",
      "\u001b[0;32m~/anaconda3/envs/espaloma/lib/python3.7/site-packages/urllib3/connection.py\u001b[0m in \u001b[0;36mconnect\u001b[0;34m(self)\u001b[0m\n\u001b[1;32m    369\u001b[0m             \u001b[0mca_cert_data\u001b[0m\u001b[0;34m=\u001b[0m\u001b[0mself\u001b[0m\u001b[0;34m.\u001b[0m\u001b[0mca_cert_data\u001b[0m\u001b[0;34m,\u001b[0m\u001b[0;34m\u001b[0m\u001b[0;34m\u001b[0m\u001b[0m\n\u001b[1;32m    370\u001b[0m             \u001b[0mserver_hostname\u001b[0m\u001b[0;34m=\u001b[0m\u001b[0mserver_hostname\u001b[0m\u001b[0;34m,\u001b[0m\u001b[0;34m\u001b[0m\u001b[0;34m\u001b[0m\u001b[0m\n\u001b[0;32m--> 371\u001b[0;31m             \u001b[0mssl_context\u001b[0m\u001b[0;34m=\u001b[0m\u001b[0mcontext\u001b[0m\u001b[0;34m,\u001b[0m\u001b[0;34m\u001b[0m\u001b[0;34m\u001b[0m\u001b[0m\n\u001b[0m\u001b[1;32m    372\u001b[0m         )\n\u001b[1;32m    373\u001b[0m \u001b[0;34m\u001b[0m\u001b[0m\n",
      "\u001b[0;32m~/anaconda3/envs/espaloma/lib/python3.7/site-packages/urllib3/util/ssl_.py\u001b[0m in \u001b[0;36mssl_wrap_socket\u001b[0;34m(sock, keyfile, certfile, cert_reqs, ca_certs, server_hostname, ssl_version, ciphers, ssl_context, ca_cert_dir, key_password, ca_cert_data)\u001b[0m\n\u001b[1;32m    382\u001b[0m     ) or IS_SECURETRANSPORT:\n\u001b[1;32m    383\u001b[0m         \u001b[0;32mif\u001b[0m \u001b[0mHAS_SNI\u001b[0m \u001b[0;32mand\u001b[0m \u001b[0mserver_hostname\u001b[0m \u001b[0;32mis\u001b[0m \u001b[0;32mnot\u001b[0m \u001b[0;32mNone\u001b[0m\u001b[0;34m:\u001b[0m\u001b[0;34m\u001b[0m\u001b[0;34m\u001b[0m\u001b[0m\n\u001b[0;32m--> 384\u001b[0;31m             \u001b[0;32mreturn\u001b[0m \u001b[0mcontext\u001b[0m\u001b[0;34m.\u001b[0m\u001b[0mwrap_socket\u001b[0m\u001b[0;34m(\u001b[0m\u001b[0msock\u001b[0m\u001b[0;34m,\u001b[0m \u001b[0mserver_hostname\u001b[0m\u001b[0;34m=\u001b[0m\u001b[0mserver_hostname\u001b[0m\u001b[0;34m)\u001b[0m\u001b[0;34m\u001b[0m\u001b[0;34m\u001b[0m\u001b[0m\n\u001b[0m\u001b[1;32m    385\u001b[0m \u001b[0;34m\u001b[0m\u001b[0m\n\u001b[1;32m    386\u001b[0m         warnings.warn(\n",
      "\u001b[0;32m~/anaconda3/envs/espaloma/lib/python3.7/ssl.py\u001b[0m in \u001b[0;36mwrap_socket\u001b[0;34m(self, sock, server_side, do_handshake_on_connect, suppress_ragged_eofs, server_hostname, session)\u001b[0m\n\u001b[1;32m    421\u001b[0m             \u001b[0mserver_hostname\u001b[0m\u001b[0;34m=\u001b[0m\u001b[0mserver_hostname\u001b[0m\u001b[0;34m,\u001b[0m\u001b[0;34m\u001b[0m\u001b[0;34m\u001b[0m\u001b[0m\n\u001b[1;32m    422\u001b[0m             \u001b[0mcontext\u001b[0m\u001b[0;34m=\u001b[0m\u001b[0mself\u001b[0m\u001b[0;34m,\u001b[0m\u001b[0;34m\u001b[0m\u001b[0;34m\u001b[0m\u001b[0m\n\u001b[0;32m--> 423\u001b[0;31m             \u001b[0msession\u001b[0m\u001b[0;34m=\u001b[0m\u001b[0msession\u001b[0m\u001b[0;34m\u001b[0m\u001b[0;34m\u001b[0m\u001b[0m\n\u001b[0m\u001b[1;32m    424\u001b[0m         )\n\u001b[1;32m    425\u001b[0m \u001b[0;34m\u001b[0m\u001b[0m\n",
      "\u001b[0;32m~/anaconda3/envs/espaloma/lib/python3.7/ssl.py\u001b[0m in \u001b[0;36m_create\u001b[0;34m(cls, sock, server_side, do_handshake_on_connect, suppress_ragged_eofs, server_hostname, context, session)\u001b[0m\n\u001b[1;32m    868\u001b[0m                         \u001b[0;31m# non-blocking\u001b[0m\u001b[0;34m\u001b[0m\u001b[0;34m\u001b[0m\u001b[0;34m\u001b[0m\u001b[0m\n\u001b[1;32m    869\u001b[0m                         \u001b[0;32mraise\u001b[0m \u001b[0mValueError\u001b[0m\u001b[0;34m(\u001b[0m\u001b[0;34m\"do_handshake_on_connect should not be specified for non-blocking sockets\"\u001b[0m\u001b[0;34m)\u001b[0m\u001b[0;34m\u001b[0m\u001b[0;34m\u001b[0m\u001b[0m\n\u001b[0;32m--> 870\u001b[0;31m                     \u001b[0mself\u001b[0m\u001b[0;34m.\u001b[0m\u001b[0mdo_handshake\u001b[0m\u001b[0;34m(\u001b[0m\u001b[0;34m)\u001b[0m\u001b[0;34m\u001b[0m\u001b[0;34m\u001b[0m\u001b[0m\n\u001b[0m\u001b[1;32m    871\u001b[0m             \u001b[0;32mexcept\u001b[0m \u001b[0;34m(\u001b[0m\u001b[0mOSError\u001b[0m\u001b[0;34m,\u001b[0m \u001b[0mValueError\u001b[0m\u001b[0;34m)\u001b[0m\u001b[0;34m:\u001b[0m\u001b[0;34m\u001b[0m\u001b[0;34m\u001b[0m\u001b[0m\n\u001b[1;32m    872\u001b[0m                 \u001b[0mself\u001b[0m\u001b[0;34m.\u001b[0m\u001b[0mclose\u001b[0m\u001b[0;34m(\u001b[0m\u001b[0;34m)\u001b[0m\u001b[0;34m\u001b[0m\u001b[0;34m\u001b[0m\u001b[0m\n",
      "\u001b[0;32m~/anaconda3/envs/espaloma/lib/python3.7/ssl.py\u001b[0m in \u001b[0;36mdo_handshake\u001b[0;34m(self, block)\u001b[0m\n\u001b[1;32m   1137\u001b[0m             \u001b[0;32mif\u001b[0m \u001b[0mtimeout\u001b[0m \u001b[0;34m==\u001b[0m \u001b[0;36m0.0\u001b[0m \u001b[0;32mand\u001b[0m \u001b[0mblock\u001b[0m\u001b[0;34m:\u001b[0m\u001b[0;34m\u001b[0m\u001b[0;34m\u001b[0m\u001b[0m\n\u001b[1;32m   1138\u001b[0m                 \u001b[0mself\u001b[0m\u001b[0;34m.\u001b[0m\u001b[0msettimeout\u001b[0m\u001b[0;34m(\u001b[0m\u001b[0;32mNone\u001b[0m\u001b[0;34m)\u001b[0m\u001b[0;34m\u001b[0m\u001b[0;34m\u001b[0m\u001b[0m\n\u001b[0;32m-> 1139\u001b[0;31m             \u001b[0mself\u001b[0m\u001b[0;34m.\u001b[0m\u001b[0m_sslobj\u001b[0m\u001b[0;34m.\u001b[0m\u001b[0mdo_handshake\u001b[0m\u001b[0;34m(\u001b[0m\u001b[0;34m)\u001b[0m\u001b[0;34m\u001b[0m\u001b[0;34m\u001b[0m\u001b[0m\n\u001b[0m\u001b[1;32m   1140\u001b[0m         \u001b[0;32mfinally\u001b[0m\u001b[0;34m:\u001b[0m\u001b[0;34m\u001b[0m\u001b[0;34m\u001b[0m\u001b[0m\n\u001b[1;32m   1141\u001b[0m             \u001b[0mself\u001b[0m\u001b[0;34m.\u001b[0m\u001b[0msettimeout\u001b[0m\u001b[0;34m(\u001b[0m\u001b[0mtimeout\u001b[0m\u001b[0;34m)\u001b[0m\u001b[0;34m\u001b[0m\u001b[0;34m\u001b[0m\u001b[0m\n",
      "\u001b[0;31mKeyboardInterrupt\u001b[0m: "
     ]
    }
   ],
   "source": [
    "trange = tqdm(range(len(index)))\n",
    "for i in trange:\n",
    "    \n",
    "    # record and entry\n",
    "    record_name = record_names[i]\n",
    "    ind = index[i]\n",
    "    \n",
    "    record = ds.get_record(record_name, specification)\n",
    "    entry = ds.get_entry(ind)\n",
    "    \n",
    "    # offmol with targets\n",
    "    status = record.status\n",
    "    status_string = status.name\n",
    "    \n",
    "    if status_string == 'complete':\n",
    "        try:\n",
    "            all_mols_and_targets[record_name] = get_mol_with_targets(record, entry)\n",
    "        except Exception as e:\n",
    "            print(f'unspecified problem encountered with {record_name}!')\n",
    "            exceptions[record_name] = e\n",
    "    else:\n",
    "        print(f'skipping {record_name}, which has a status {status}')\n",
    "        skipped_status[record_name] = status\n",
    "    \n",
    "    \n",
    "    trange.set_postfix(\n",
    "        n_skipped=len(skipped_status),\n",
    "        n_exceptions=len(exceptions),\n",
    "        n_successful=len(all_mols_and_targets)\n",
    "    )"
   ]
  },
  {
   "cell_type": "code",
   "execution_count": null,
   "metadata": {},
   "outputs": [],
   "source": [
    "# oof, I do not want to wait 60+ more hours..."
   ]
  },
  {
   "cell_type": "code",
   "execution_count": 202,
   "metadata": {},
   "outputs": [
    {
     "name": "stdout",
     "output_type": "stream",
     "text": [
      "RecordStatusEnum.error\n"
     ]
    }
   ],
   "source": [
    "# what was the record status enum for each of the records we skipped?\n",
    "for s in set(skipped_status.values()):\n",
    "    print(s)"
   ]
  },
  {
   "cell_type": "code",
   "execution_count": null,
   "metadata": {},
   "outputs": [],
   "source": [
    "# plot number of snapshots within each species"
   ]
  },
  {
   "cell_type": "code",
   "execution_count": 224,
   "metadata": {},
   "outputs": [
    {
     "data": {
      "text/plain": [
       "Text(0, 0.5, '# molecules')"
      ]
     },
     "execution_count": 224,
     "metadata": {},
     "output_type": "execute_result"
    },
    {
     "data": {
      "image/png": "[encoded data removed]",
      "text/plain": [
       "<Figure size 432x288 with 1 Axes>"
      ]
     },
     "metadata": {
      "needs_background": "light"
     },
     "output_type": "display_data"
    }
   ],
   "source": [
    "plt.hist([len(all_mols_and_targets[record_name].xyz) for record_name in all_mols_and_targets], bins=50);\n",
    "plt.xlabel('# snapshots')\n",
    "plt.ylabel('# molecules')"
   ]
  },
  {
   "cell_type": "code",
   "execution_count": 205,
   "metadata": {},
   "outputs": [
    {
     "data": {
      "text/plain": [
       "dict_keys(['id', 'hash_index', 'procedure', 'program', 'version', 'protocols', 'extras', 'stdout', 'stderr', 'error', 'task_id', 'manager_name', 'status', 'modified_on', 'created_on', 'provenance', 'driver', 'method', 'molecule', 'basis', 'keywords', 'return_result', 'properties', 'wavefunction', 'wavefunction_data_id'])"
      ]
     },
     "execution_count": 205,
     "metadata": {},
     "output_type": "execute_result"
    }
   ],
   "source": [
    "snapshot.dict().keys()"
   ]
  },
  {
   "cell_type": "code",
   "execution_count": 207,
   "metadata": {},
   "outputs": [
    {
     "data": {
      "text/plain": [
       "qcportal.models.records.ResultRecord"
      ]
     },
     "execution_count": 207,
     "metadata": {},
     "output_type": "execute_result"
    }
   ],
   "source": [
    "type(snapshot)"
   ]
  },
  {
   "cell_type": "code",
   "execution_count": 209,
   "metadata": {},
   "outputs": [
    {
     "data": {
      "text/plain": [
       "((36,), (36, 27, 3))"
      ]
     },
     "execution_count": 209,
     "metadata": {},
     "output_type": "execute_result"
    }
   ],
   "source": [
    "energies.shape, gradients.shape"
   ]
  },
  {
   "cell_type": "code",
   "execution_count": 210,
   "metadata": {},
   "outputs": [
    {
     "data": {
      "image/png": "[encoded data removed]",
      "text/plain": [
       "<Figure size 432x288 with 1 Axes>"
      ]
     },
     "metadata": {
      "needs_background": "light"
     },
     "output_type": "display_data"
    }
   ],
   "source": [
    "plt.plot(energies - min(energies))\n",
    "plt.yscale('log')"
   ]
  },
  {
   "cell_type": "code",
   "execution_count": 211,
   "metadata": {},
   "outputs": [
    {
     "data": {
      "image/png": "[encoded data removed]",
      "text/plain": [
       "<Figure size 432x288 with 1 Axes>"
      ]
     },
     "metadata": {
      "needs_background": "light"
     },
     "output_type": "display_data"
    }
   ],
   "source": [
    "plt.plot(np.linalg.norm(gradients, axis=(1,2)))\n",
    "plt.yscale('log')"
   ]
  },
  {
   "cell_type": "code",
   "execution_count": 212,
   "metadata": {},
   "outputs": [
    {
     "data": {
      "text/plain": [
       "(27, 3)"
      ]
     },
     "execution_count": 212,
     "metadata": {},
     "output_type": "execute_result"
    }
   ],
   "source": [
    "snapshot.return_result.shape"
   ]
  },
  {
   "cell_type": "code",
   "execution_count": 213,
   "metadata": {},
   "outputs": [
    {
     "data": {
      "text/plain": [
       "('b3lyp-d3bj', 'dzvp')"
      ]
     },
     "execution_count": 213,
     "metadata": {},
     "output_type": "execute_result"
    }
   ],
   "source": [
    "snapshot.method, snapshot.basis"
   ]
  },
  {
   "cell_type": "code",
   "execution_count": 214,
   "metadata": {},
   "outputs": [
    {
     "data": {
      "text/plain": [
       "dict_keys(['id', 'hash_index', 'procedure', 'program', 'version', 'protocols', 'extras', 'stdout', 'stderr', 'error', 'task_id', 'manager_name', 'status', 'modified_on', 'created_on', 'provenance', 'driver', 'method', 'molecule', 'basis', 'keywords', 'return_result', 'properties', 'wavefunction', 'wavefunction_data_id'])"
      ]
     },
     "execution_count": 214,
     "metadata": {},
     "output_type": "execute_result"
    }
   ],
   "source": [
    "d = snapshot.dict()\n",
    "d.keys()"
   ]
  },
  {
   "cell_type": "code",
   "execution_count": 215,
   "metadata": {},
   "outputs": [
    {
     "data": {
      "text/plain": [
       "<RecordStatusEnum.complete: 'COMPLETE'>"
      ]
     },
     "execution_count": 215,
     "metadata": {},
     "output_type": "execute_result"
    }
   ],
   "source": [
    "d['status']"
   ]
  },
  {
   "cell_type": "code",
   "execution_count": 216,
   "metadata": {},
   "outputs": [
    {
     "data": {
      "text/plain": [
       "{'calcinfo_nbasis': 210,\n",
       " 'calcinfo_nmo': 210,\n",
       " 'calcinfo_nalpha': 49,\n",
       " 'calcinfo_nbeta': 49,\n",
       " 'calcinfo_natom': 27,\n",
       " 'nuclear_repulsion_energy': 807.9855573138169,\n",
       " 'return_energy': -631.660187480667,\n",
       " 'scf_one_electron_energy': -2447.4730495348103,\n",
       " 'scf_two_electron_energy': 1077.715113406683,\n",
       " 'scf_vv10_energy': None,\n",
       " 'scf_xc_energy': -69.84064492635655,\n",
       " 'scf_dispersion_correction_energy': -0.04716374,\n",
       " 'scf_dipole_moment': [30.354632824419465,\n",
       "  -6.993853751378931,\n",
       "  -3.011724025076463],\n",
       " 'scf_total_energy': -631.660187480667,\n",
       " 'scf_iterations': 15,\n",
       " 'mp2_same_spin_correlation_energy': None,\n",
       " 'mp2_opposite_spin_correlation_energy': None,\n",
       " 'mp2_singles_energy': None,\n",
       " 'mp2_doubles_energy': None,\n",
       " 'mp2_total_correlation_energy': None,\n",
       " 'mp2_correlation_energy': None,\n",
       " 'mp2_total_energy': None,\n",
       " 'mp2_dipole_moment': None,\n",
       " 'ccsd_same_spin_correlation_energy': None,\n",
       " 'ccsd_opposite_spin_correlation_energy': None,\n",
       " 'ccsd_singles_energy': None,\n",
       " 'ccsd_doubles_energy': None,\n",
       " 'ccsd_correlation_energy': None,\n",
       " 'ccsd_total_energy': None,\n",
       " 'ccsd_dipole_moment': None,\n",
       " 'ccsd_iterations': None,\n",
       " 'ccsd_prt_pr_correlation_energy': None,\n",
       " 'ccsd_prt_pr_total_energy': None,\n",
       " 'ccsd_prt_pr_dipole_moment': None}"
      ]
     },
     "execution_count": 216,
     "metadata": {},
     "output_type": "execute_result"
    }
   ],
   "source": [
    "d['properties']"
   ]
  },
  {
   "cell_type": "code",
   "execution_count": 217,
   "metadata": {},
   "outputs": [
    {
     "data": {
      "text/plain": [
       "dict_keys(['qcvars'])"
      ]
     },
     "execution_count": 217,
     "metadata": {},
     "output_type": "execute_result"
    }
   ],
   "source": [
    "d['extras'].keys()"
   ]
  },
  {
   "cell_type": "code",
   "execution_count": 218,
   "metadata": {},
   "outputs": [
    {
     "data": {
      "text/plain": [
       "dict_keys(['-D ENERGY', 'B3LYP-D3(BJ) DISPERSION CORRECTION ENERGY', 'CURRENT DIPOLE X', 'CURRENT DIPOLE Y', 'CURRENT DIPOLE Z', 'CURRENT ENERGY', 'CURRENT REFERENCE ENERGY', 'DFT FUNCTIONAL TOTAL ENERGY', 'DFT TOTAL ENERGY', 'DFT VV10 ENERGY', 'DFT XC ENERGY', 'DISPERSION CORRECTION ENERGY', 'NUCLEAR REPULSION ENERGY', 'ONE-ELECTRON ENERGY', 'PCM POLARIZATION ENERGY', 'SCF DIPOLE X', 'SCF DIPOLE Y', 'SCF DIPOLE Z', 'SCF ITERATION ENERGY', 'SCF ITERATIONS', 'SCF QUADRUPOLE XX', 'SCF QUADRUPOLE XY', 'SCF QUADRUPOLE XZ', 'SCF QUADRUPOLE YY', 'SCF QUADRUPOLE YZ', 'SCF QUADRUPOLE ZZ', 'SCF TOTAL ENERGY', 'TWO-ELECTRON ENERGY', 'CURRENT GRADIENT', 'SCF TOTAL GRADIENT', '-D GRADIENT', 'MAYER_INDICES', 'WIBERG_LOWDIN_INDICES'])"
      ]
     },
     "execution_count": 218,
     "metadata": {},
     "output_type": "execute_result"
    }
   ],
   "source": [
    "qcvars = d['extras']['qcvars']\n",
    "qcvars.keys()"
   ]
  },
  {
   "cell_type": "code",
   "execution_count": 219,
   "metadata": {},
   "outputs": [
    {
     "data": {
      "text/plain": [
       "-631.660187480667"
      ]
     },
     "execution_count": 219,
     "metadata": {},
     "output_type": "execute_result"
    }
   ],
   "source": [
    "qcvars['SCF TOTAL ENERGY']"
   ]
  },
  {
   "cell_type": "code",
   "execution_count": 220,
   "metadata": {},
   "outputs": [
    {
     "data": {
      "text/plain": [
       "[<matplotlib.lines.Line2D at 0x7ff1bb4b1690>]"
      ]
     },
     "execution_count": 220,
     "metadata": {},
     "output_type": "execute_result"
    },
    {
     "data": {
      "image/png": "[encoded data removed]",
      "text/plain": [
       "<Figure size 432x288 with 1 Axes>"
      ]
     },
     "metadata": {
      "needs_background": "light"
     },
     "output_type": "display_data"
    }
   ],
   "source": [
    "plt.plot(qcvars['MAYER_INDICES'])"
   ]
  },
  {
   "cell_type": "code",
   "execution_count": 221,
   "metadata": {},
   "outputs": [
    {
     "data": {
      "text/plain": [
       "-631.660187480667"
      ]
     },
     "execution_count": 221,
     "metadata": {},
     "output_type": "execute_result"
    }
   ],
   "source": [
    "qcvars['CURRENT ENERGY']"
   ]
  },
  {
   "cell_type": "code",
   "execution_count": null,
   "metadata": {},
   "outputs": [],
   "source": [
    "# save what we have for now..."
   ]
  },
  {
   "cell_type": "code",
   "execution_count": 226,
   "metadata": {},
   "outputs": [],
   "source": [
    "ds.df.to_hdf('some_of_optimization_dataset.h5', key='df')"
   ]
  },
  {
   "cell_type": "code",
   "execution_count": 227,
   "metadata": {},
   "outputs": [],
   "source": [
    "from pickle import dump\n",
    "\n",
    "with open('all_mols_and_targets.pkl', 'wb') as f:\n",
    "    dump(all_mols_and_targets, f)"
   ]
  },
  {
   "cell_type": "code",
   "execution_count": 229,
   "metadata": {},
   "outputs": [],
   "source": [
    "mol_with_targets = all_mols_and_targets[record_names[0]]"
   ]
  },
  {
   "cell_type": "markdown",
   "metadata": {},
   "source": [
    "### Quick inspection"
   ]
  },
  {
   "cell_type": "code",
   "execution_count": 254,
   "metadata": {},
   "outputs": [],
   "source": [
    "from simtk import unit\n",
    "\n",
    "particle = unit.mole.create_unit(6.02214076e23 ** -1, 'particle', 'particle')\n",
    "energy_unit_qc = unit.hartree / particle\n",
    "\n",
    "energy_unit_report = unit.kilocalorie_per_mole\n",
    "\n",
    "def to_report_unit(e_in_qc_unit):\n",
    "    return (e_in_qc_unit * energy_unit_qc).value_in_unit(energy_unit_report)"
   ]
  },
  {
   "cell_type": "code",
   "execution_count": 255,
   "metadata": {},
   "outputs": [],
   "source": [
    "stddevs = np.array([np.std(to_report_unit(m.energies)) for m in all_mols_and_targets.values()])"
   ]
  },
  {
   "cell_type": "code",
   "execution_count": 256,
   "metadata": {},
   "outputs": [
    {
     "data": {
      "image/png": "[encoded data removed]",
      "text/plain": [
       "<Figure size 432x288 with 1 Axes>"
      ]
     },
     "metadata": {
      "needs_background": "light"
     },
     "output_type": "display_data"
    }
   ],
   "source": [
    "plt.hist(stddevs, bins=50);"
   ]
  },
  {
   "cell_type": "code",
   "execution_count": 257,
   "metadata": {},
   "outputs": [
    {
     "data": {
      "text/plain": [
       "2.874711415368434"
      ]
     },
     "execution_count": 257,
     "metadata": {},
     "output_type": "execute_result"
    }
   ],
   "source": [
    "np.median(stddevs)"
   ]
  },
  {
   "cell_type": "code",
   "execution_count": 262,
   "metadata": {},
   "outputs": [
    {
     "data": {
      "text/plain": [
       "70.3148649397403"
      ]
     },
     "execution_count": 262,
     "metadata": {},
     "output_type": "execute_result"
    }
   ],
   "source": [
    "np.max(stddevs)"
   ]
  },
  {
   "cell_type": "code",
   "execution_count": 270,
   "metadata": {},
   "outputs": [
    {
     "data": {
      "text/plain": [
       "'c[c@](cc1ccc(cc1)o)(c(=o)[o-])[nh3+]-2'"
      ]
     },
     "execution_count": 270,
     "metadata": {},
     "output_type": "execute_result"
    }
   ],
   "source": [
    "record_name_with_biggest_energy_range = list(all_mols_and_targets.keys())[np.argmax(stddevs)]\n",
    "record_name_with_biggest_energy_range"
   ]
  },
  {
   "cell_type": "code",
   "execution_count": 271,
   "metadata": {},
   "outputs": [],
   "source": [
    "biggest_energy_range = all_mols_and_targets[record_name_with_biggest_energy_range]"
   ]
  },
  {
   "cell_type": "code",
   "execution_count": 268,
   "metadata": {},
   "outputs": [
    {
     "data": {
      "image/png": "[encoded data removed]",
      "text/plain": [
       "<rdkit.Chem.rdchem.Mol at 0x7ff19d2e0170>"
      ]
     },
     "metadata": {},
     "output_type": "display_data"
    }
   ],
   "source": [
    "biggest_energy_range.offmol"
   ]
  },
  {
   "cell_type": "code",
   "execution_count": 273,
   "metadata": {},
   "outputs": [
    {
     "data": {
      "text/plain": [
       "Text(0, 0.5, 'relative energy (kilocalorie/mole)')"
      ]
     },
     "execution_count": 273,
     "metadata": {},
     "output_type": "execute_result"
    },
    {
     "data": {
      "image/png": "[encoded data removed]",
      "text/plain": [
       "<Figure size 432x288 with 1 Axes>"
      ]
     },
     "metadata": {
      "needs_background": "light"
     },
     "output_type": "display_data"
    }
   ],
   "source": [
    "energies = to_report_unit(biggest_energy_range.energies)\n",
    "plt.plot(energies - min(energies))\n",
    "plt.xlabel('iteration')\n",
    "plt.ylabel(f'relative energy ({energy_unit_report})')"
   ]
  },
  {
   "cell_type": "code",
   "execution_count": null,
   "metadata": {},
   "outputs": [],
   "source": []
  }
 ],
 "metadata": {
  "kernelspec": {
   "display_name": "Python [conda env:espaloma]",
   "language": "python",
   "name": "conda-env-espaloma-py"
  },
  "language_info": {
   "codemirror_mode": {
    "name": "ipython",
    "version": 3
   },
   "file_extension": ".py",
   "mimetype": "text/x-python",
   "name": "python",
   "nbconvert_exporter": "python",
   "pygments_lexer": "ipython3",
   "version": "3.7.8"
  }
 },
 "nbformat": 4,
 "nbformat_minor": 4
}
