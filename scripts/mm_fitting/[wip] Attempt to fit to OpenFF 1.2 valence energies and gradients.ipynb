{
 "cells": [
  {
   "cell_type": "markdown",
   "metadata": {},
   "source": [
    "#### Try to reproduce a MM valence force field from snapshots, energies, and forces\n",
    "\n",
    "Without an attempt at pre-training to reproduce parameters first"
   ]
  },
  {
   "cell_type": "code",
   "execution_count": 1,
   "metadata": {},
   "outputs": [
    {
     "data": {
      "application/vnd.jupyter.widget-view+json": {
       "model_id": "6726c880a0ba4048877fcd26d0713699",
       "version_major": 2,
       "version_minor": 0
      },
      "text/plain": []
     },
     "metadata": {},
     "output_type": "display_data"
    },
    {
     "name": "stderr",
     "output_type": "stream",
     "text": [
      "Using backend: pytorch\n"
     ]
    }
   ],
   "source": [
    "import matplotlib.pyplot as plt\n",
    "import torch\n",
    "from openforcefield.topology import Molecule\n",
    "from tqdm import tqdm\n",
    "\n",
    "import torch\n",
    "torch.set_default_dtype(torch.float64)\n",
    "\n",
    "from espaloma.redux.energy import compute_valence_energy\n",
    "from espaloma.redux.nn import TAG, MLP\n",
    "from espaloma.redux.symmetry import ValenceModel, Readouts, elements\n",
    "from torch.nn import functional as F\n",
    "\n",
    "def initialize(hidden_dim=128, node_dim=128, activation=F.relu):\n",
    "    \n",
    "    node_representation = TAG(\n",
    "        in_dim=len(elements),\n",
    "        hidden_dim=hidden_dim,\n",
    "        out_dim=node_dim,\n",
    "        activation=activation\n",
    "    )\n",
    "    \n",
    "    readouts = Readouts(\n",
    "        atoms=MLP(node_dim, 2, activation),\n",
    "        bonds=MLP(2 * node_dim, 2, activation),\n",
    "        angles=MLP(3 * node_dim, 2, activation),\n",
    "        propers=MLP(4 * node_dim, 6, activation),\n",
    "        impropers=MLP(4 * node_dim, 6, activation)\n",
    "    )\n",
    "    \n",
    "    valence_model = ValenceModel(node_representation, readouts)\n",
    "    \n",
    "    return valence_model"
   ]
  },
  {
   "cell_type": "markdown",
   "metadata": {},
   "source": [
    "#### Fetch datasets"
   ]
  },
  {
   "cell_type": "code",
   "execution_count": 2,
   "metadata": {},
   "outputs": [
    {
     "data": {
      "text/plain": [
       "['../../data/qca/eMolecules.h5',\n",
       " '../../data/qca/Roche.h5',\n",
       " '../../data/qca/Coverage.h5',\n",
       " '../../data/qca/Bayer.h5',\n",
       " '../../data/qca/Pfizer.h5']"
      ]
     },
     "execution_count": 2,
     "metadata": {},
     "output_type": "execute_result"
    }
   ],
   "source": [
    "from glob import glob\n",
    "path_to_dataset = '../../data/qca/*.h5'\n",
    "\n",
    "paths_to_datasets = glob(path_to_dataset)\n",
    "paths_to_datasets"
   ]
  },
  {
   "cell_type": "code",
   "execution_count": 3,
   "metadata": {},
   "outputs": [],
   "source": [
    "import pandas as pd"
   ]
  },
  {
   "cell_type": "markdown",
   "metadata": {},
   "source": [
    "##### Initially use just one of these datasets"
   ]
  },
  {
   "cell_type": "code",
   "execution_count": 4,
   "metadata": {},
   "outputs": [],
   "source": [
    "df = pd.read_hdf('../../data/qca/Roche.h5')"
   ]
  },
  {
   "cell_type": "markdown",
   "metadata": {},
   "source": [
    "#### Aggregate records by offmol\n",
    "\n"
   ]
  },
  {
   "cell_type": "code",
   "execution_count": 5,
   "metadata": {},
   "outputs": [
    {
     "data": {
      "text/plain": [
       "100"
      ]
     },
     "execution_count": 5,
     "metadata": {},
     "output_type": "execute_result"
    }
   ],
   "source": [
    "unique_offmols = list(set(df.offmol))\n",
    "len(unique_offmols)"
   ]
  },
  {
   "cell_type": "code",
   "execution_count": 6,
   "metadata": {},
   "outputs": [],
   "source": [
    "import numpy as np\n",
    "xyzs = dict()\n",
    "energies = dict()\n",
    "gradients = dict()\n",
    "\n",
    "energies_column = 'mm_energies_valence'\n",
    "gradients_column = 'mm_gradients_valence'\n",
    "\n",
    "for offmol in unique_offmols:\n",
    "    mask = df.offmol == offmol\n",
    "    xyzs[offmol] = torch.tensor(np.vstack(df.xyz[mask]))\n",
    "    energies[offmol] = torch.tensor(np.hstack(df[energies_column][mask]))\n",
    "    gradients[offmol] = torch.tensor(np.vstack(df[gradients_column][mask]))\n",
    "    \n",
    "    # check same number of total snapshots\n",
    "    assert(xyzs[offmol].shape[0] == energies[offmol].shape[0])\n",
    "    \n",
    "    # check xyzs and gradients line up\n",
    "    assert(xyzs[offmol].shape == gradients[offmol].shape)"
   ]
  },
  {
   "cell_type": "markdown",
   "metadata": {},
   "source": [
    "### Fit a graph-net to energies and gradients"
   ]
  },
  {
   "cell_type": "markdown",
   "metadata": {},
   "source": [
    "#### Initialize a basic valence-parameter-emitting graph net"
   ]
  },
  {
   "cell_type": "code",
   "execution_count": 7,
   "metadata": {},
   "outputs": [],
   "source": [
    "from espaloma.graphs.utils import offmol_indices\n",
    "\n",
    "valence_model = initialize()"
   ]
  },
  {
   "cell_type": "markdown",
   "metadata": {},
   "source": [
    "#### Define functions for computing valence energies and gradients"
   ]
  },
  {
   "cell_type": "code",
   "execution_count": 8,
   "metadata": {},
   "outputs": [],
   "source": [
    "def predict_energy_gradients(offmol, xyz, params):\n",
    "    \n",
    "    # make a copy of the coordinates that we'll take derivatives w.r.t.\n",
    "    xyz = xyz.clone().detach().requires_grad_(True)\n",
    "    \n",
    "    pred_energies = compute_valence_energy(\n",
    "        offmol=offmol,\n",
    "        xyz=xyz,\n",
    "        params=params,\n",
    "    )\n",
    "    \n",
    "    # TODO: not sure if pytorch is smart enough to avoid blowing up memory when I call E.backward() after this stunt\n",
    "    E = torch.sum(pred_energies)\n",
    "    \n",
    "    # Note: create_graph or retain_graph needed for higher-order derivatives\n",
    "    E.backward(create_graph=True)\n",
    "    \n",
    "    return xyz.grad"
   ]
  },
  {
   "cell_type": "code",
   "execution_count": 9,
   "metadata": {},
   "outputs": [],
   "source": [
    "for offmol in unique_offmols:\n",
    "    _ = predict_energy_gradients(offmol, xyzs[offmol], valence_model.forward(offmol))"
   ]
  },
  {
   "cell_type": "code",
   "execution_count": 10,
   "metadata": {},
   "outputs": [],
   "source": [
    "from espaloma.redux.transforms import perturb_from_null_params"
   ]
  },
  {
   "cell_type": "code",
   "execution_count": 11,
   "metadata": {},
   "outputs": [],
   "source": [
    "def predict_perturbation_from_null_params(offmol, scaling=1e-3):\n",
    "    return perturb_from_null_params(offmol, valence_model.forward(offmol), scaling)"
   ]
  },
  {
   "cell_type": "code",
   "execution_count": 12,
   "metadata": {},
   "outputs": [],
   "source": [
    "def gradient_loss_on_mol(offmol, scaling=1e-3, batch_size=25):\n",
    "    \"\"\"MAE(g, g_ref)\n",
    "    if batch_size=None, then use all available data\n",
    "    \"\"\"\n",
    "    if type(batch_size) == int:\n",
    "        inds = np.random.randint(0, len(xyzs[offmol]), batch_size)\n",
    "    elif batch_size is None:\n",
    "        inds = np.arange(len(xyzs[offmol]))\n",
    "    else:\n",
    "        raise(RuntimeError('unknown batch_size!'))\n",
    "    \n",
    "    params = predict_perturbation_from_null_params(offmol, scaling)\n",
    "    g = predict_energy_gradients(offmol, xyzs[offmol][inds], params)\n",
    "    g_ref = gradients[offmol][inds]\n",
    "    \n",
    "    return (torch.abs(g - g_ref)).mean()"
   ]
  },
  {
   "cell_type": "code",
   "execution_count": 13,
   "metadata": {},
   "outputs": [
    {
     "data": {
      "text/plain": [
       "tensor(0.0052, grad_fn=<MeanBackward0>)"
      ]
     },
     "execution_count": 13,
     "metadata": {},
     "output_type": "execute_result"
    }
   ],
   "source": [
    "gradient_loss_on_mol(offmol)"
   ]
  },
  {
   "cell_type": "code",
   "execution_count": 14,
   "metadata": {},
   "outputs": [],
   "source": [
    "from espaloma.units import ENERGY_UNIT, FORCE_UNIT, DISTANCE_UNIT\n",
    "from simtk import unit\n",
    "\n",
    "report_energy_unit = unit.kilocalorie_per_mole\n",
    "report_distance_unit = unit.angstrom\n",
    "report_force_unit = report_energy_unit / report_distance_unit"
   ]
  },
  {
   "cell_type": "code",
   "execution_count": 15,
   "metadata": {},
   "outputs": [],
   "source": [
    "def to_report_force_unit(f):\n",
    "    return (f * FORCE_UNIT).value_in_unit(report_force_unit)"
   ]
  },
  {
   "cell_type": "markdown",
   "metadata": {},
   "source": [
    "##### First, can we fit to a single molecule?"
   ]
  },
  {
   "cell_type": "code",
   "execution_count": 16,
   "metadata": {},
   "outputs": [
    {
     "data": {
      "image/png": "[encoded data removed]",
      "text/plain": [
       "<rdkit.Chem.rdchem.Mol at 0x7ffc609a9270>"
      ]
     },
     "metadata": {},
     "output_type": "display_data"
    }
   ],
   "source": [
    "np.random.seed(0)\n",
    "lucky_mol = np.random.choice(unique_offmols)\n",
    "lucky_mol"
   ]
  },
  {
   "cell_type": "code",
   "execution_count": 17,
   "metadata": {},
   "outputs": [
    {
     "data": {
      "text/plain": [
       "56"
      ]
     },
     "execution_count": 17,
     "metadata": {},
     "output_type": "execute_result"
    }
   ],
   "source": [
    "len(xyzs[lucky_mol])"
   ]
  },
  {
   "cell_type": "code",
   "execution_count": 18,
   "metadata": {},
   "outputs": [
    {
     "name": "stderr",
     "output_type": "stream",
     "text": [
      "100%|██████████| 1000/1000 [00:53<00:00, 18.69it/s, batch_loss=5.37]\n"
     ]
    }
   ],
   "source": [
    "scaling = 1e-1\n",
    "learning_rate = 1e-3\n",
    "optimizer = torch.optim.Adam(valence_model.parameters(), lr=learning_rate)\n",
    "\n",
    "batch_losses = []\n",
    "trange = tqdm(range(1000))\n",
    "for t in trange:\n",
    "    \n",
    "    #lucky_mol = np.random.choice(unique_offmols)\n",
    "    L = gradient_loss_on_mol(lucky_mol, scaling=scaling)\n",
    "    \n",
    "    optimizer.zero_grad()\n",
    "    L.backward()\n",
    "    optimizer.step()\n",
    "    \n",
    "    batch_loss_in_report_unit = to_report_force_unit(L.detach().numpy())\n",
    "    \n",
    "    batch_losses.append(batch_loss_in_report_unit)\n",
    "    trange.set_postfix(batch_loss=batch_losses[-1])"
   ]
  },
  {
   "cell_type": "code",
   "execution_count": 19,
   "metadata": {},
   "outputs": [
    {
     "data": {
      "text/plain": [
       "Text(0.5, 1.0, 'attempting to recover OpenFF 1.2 valence, with bad initialization')"
      ]
     },
     "execution_count": 19,
     "metadata": {},
     "output_type": "execute_result"
    },
    {
     "data": {
      "image/png": "[encoded data removed]",
      "text/plain": [
       "<Figure size 432x288 with 1 Axes>"
      ]
     },
     "metadata": {
      "needs_background": "light"
     },
     "output_type": "display_data"
    }
   ],
   "source": [
    "plt.plot(batch_losses)\n",
    "plt.xlabel('Adam iteration')\n",
    "plt.ylabel('gradient MAE (kcal/mol / Å)')\n",
    "plt.title('attempting to recover OpenFF 1.2 valence, with bad initialization')"
   ]
  },
  {
   "cell_type": "code",
   "execution_count": 20,
   "metadata": {},
   "outputs": [
    {
     "name": "stderr",
     "output_type": "stream",
     "text": [
      "100%|██████████| 100/100 [00:05<00:00, 18.10it/s]\n"
     ]
    }
   ],
   "source": [
    "final_preds = dict()\n",
    "for offmol in tqdm(unique_offmols):\n",
    "    params = predict_perturbation_from_null_params(offmol, scaling)\n",
    "    g = predict_energy_gradients(offmol, xyzs[offmol], params)\n",
    "    final_preds[offmol] = g.detach()"
   ]
  },
  {
   "cell_type": "code",
   "execution_count": 21,
   "metadata": {},
   "outputs": [
    {
     "data": {
      "text/plain": [
       "Text(0.5, 1.0, 'attempting to recover OpenFF 1.2 valence, with bad initialization')"
      ]
     },
     "execution_count": 21,
     "metadata": {},
     "output_type": "execute_result"
    },
    {
     "data": {
      "image/png": "[encoded data removed]",
      "text/plain": [
       "<Figure size 432x288 with 1 Axes>"
      ]
     },
     "metadata": {
      "needs_background": "light"
     },
     "output_type": "display_data"
    }
   ],
   "source": [
    "plt.scatter(final_preds[lucky_mol].flatten(), gradients[lucky_mol].flatten(), s=1)\n",
    "plt.xlabel('predicted gradient components')\n",
    "plt.ylabel('reference gradient components')\n",
    "plt.title('attempting to recover OpenFF 1.2 valence, with bad initialization')"
   ]
  },
  {
   "cell_type": "code",
   "execution_count": 22,
   "metadata": {},
   "outputs": [],
   "source": [
    "params = predict_perturbation_from_null_params(lucky_mol, scaling)"
   ]
  },
  {
   "cell_type": "code",
   "execution_count": 23,
   "metadata": {},
   "outputs": [
    {
     "data": {
      "text/plain": [
       "tensor([  8.4043, -12.2831,   0.3344,  -8.9530,   1.6488,  15.4663, -11.0165,\n",
       "         17.6512,   7.2830,  -1.7565,  12.9798,   6.0002,   0.8076,   0.8076,\n",
       "          0.8076,   4.5552,   5.7978,  -1.4505], grad_fn=<MulBackward0>)"
      ]
     },
     "execution_count": 23,
     "metadata": {},
     "output_type": "execute_result"
    }
   ],
   "source": [
    "from espaloma.units import FORCE_CONSTANT_UNIT\n",
    "\n",
    "(params.bonds[:,0] * FORCE_CONSTANT_UNIT).value_in_unit(report_energy_unit / report_distance_unit**2)"
   ]
  },
  {
   "cell_type": "markdown",
   "metadata": {},
   "source": [
    "#### Observation: With bad initialization and without penalization, this occasionally predicts negative force constants!"
   ]
  },
  {
   "cell_type": "markdown",
   "metadata": {},
   "source": [
    "### Question: Does this scheme work if we have \"perfect\" initialization (i.e. the graph net has to predict a perturbation of the reference parameters, and can get zero error if it predicts a perturbation of 0)?"
   ]
  },
  {
   "cell_type": "markdown",
   "metadata": {},
   "source": [
    "#### First, do I have the reference parameters loaded properly?"
   ]
  },
  {
   "cell_type": "code",
   "execution_count": 24,
   "metadata": {},
   "outputs": [],
   "source": [
    "from espaloma.redux.reference import get_ref_params"
   ]
  },
  {
   "cell_type": "code",
   "execution_count": 25,
   "metadata": {},
   "outputs": [],
   "source": [
    "ref_params = get_ref_params(lucky_mol)"
   ]
  },
  {
   "cell_type": "code",
   "execution_count": 26,
   "metadata": {},
   "outputs": [],
   "source": [
    "g_ref_prime = predict_energy_gradients(lucky_mol, xyzs[lucky_mol], ref_params)"
   ]
  },
  {
   "cell_type": "code",
   "execution_count": 27,
   "metadata": {},
   "outputs": [],
   "source": [
    "g_ref = gradients[lucky_mol]"
   ]
  },
  {
   "cell_type": "code",
   "execution_count": 28,
   "metadata": {},
   "outputs": [
    {
     "data": {
      "text/plain": [
       "Text(0, 0.5, 'valence gradients predicted from reference parameters')"
      ]
     },
     "execution_count": 28,
     "metadata": {},
     "output_type": "execute_result"
    },
    {
     "data": {
      "image/png": "[encoded data removed]",
      "text/plain": [
       "<Figure size 432x288 with 1 Axes>"
      ]
     },
     "metadata": {
      "needs_background": "light"
     },
     "output_type": "display_data"
    }
   ],
   "source": [
    "plt.scatter(g_ref.flatten(), g_ref_prime.detach().flatten(), s=1)\n",
    "plt.xlabel('valence reference gradients')\n",
    "plt.ylabel('valence gradients predicted from reference parameters')"
   ]
  },
  {
   "cell_type": "markdown",
   "metadata": {},
   "source": [
    "##### Close, but not quite!"
   ]
  },
  {
   "cell_type": "code",
   "execution_count": 29,
   "metadata": {},
   "outputs": [
    {
     "data": {
      "text/plain": [
       "tensor(9.5083)"
      ]
     },
     "execution_count": 29,
     "metadata": {},
     "output_type": "execute_result"
    }
   ],
   "source": [
    "to_report_force_unit((g_ref.flatten() - g_ref_prime.detach().flatten()).abs().mean())"
   ]
  },
  {
   "cell_type": "markdown",
   "metadata": {},
   "source": [
    "##### This either indicates an issue with the way I'm importing reference valence parameters, or with the way I'm computing energies from those parameters"
   ]
  },
  {
   "cell_type": "markdown",
   "metadata": {},
   "source": [
    "#### Second, can I predict a perturbation of these reference parameters that makes the loss small?"
   ]
  },
  {
   "cell_type": "code",
   "execution_count": null,
   "metadata": {},
   "outputs": [],
   "source": []
  }
 ],
 "metadata": {
  "kernelspec": {
   "display_name": "Python [conda env:espaloma]",
   "language": "python",
   "name": "conda-env-espaloma-py"
  },
  "language_info": {
   "codemirror_mode": {
    "name": "ipython",
    "version": 3
   },
   "file_extension": ".py",
   "mimetype": "text/x-python",
   "name": "python",
   "nbconvert_exporter": "python",
   "pygments_lexer": "ipython3",
   "version": "3.7.8"
  }
 },
 "nbformat": 4,
 "nbformat_minor": 4
}
